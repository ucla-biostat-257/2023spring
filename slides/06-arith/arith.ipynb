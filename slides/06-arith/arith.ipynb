{
 "cells": [
  {
   "cell_type": "raw",
   "metadata": {},
   "source": [
    "---\n",
    "title: Computer Arithmetics\n",
    "subtitle: Biostat/Biomath M257\n",
    "author: Dr. Hua Zhou @ UCLA\n",
    "date: today\n",
    "format:\n",
    "  html:\n",
    "    theme: cosmo\n",
    "    embed-resources: true\n",
    "    number-sections: true\n",
    "    toc: true\n",
    "    toc-depth: 4\n",
    "    toc-location: left\n",
    "    code-fold: false\n",
    "---    "
   ]
  },
  {
   "cell_type": "markdown",
   "metadata": {},
   "source": [
    "System information (for reproducibility):"
   ]
  },
  {
   "cell_type": "code",
   "execution_count": 1,
   "metadata": {
    "tags": []
   },
   "outputs": [
    {
     "name": "stdout",
     "output_type": "stream",
     "text": [
      "Julia Version 1.8.5\n",
      "Commit 17cfb8e65ea (2023-01-08 06:45 UTC)\n",
      "Platform Info:\n",
      "  OS: macOS (arm64-apple-darwin21.5.0)\n",
      "  CPU: 12 × Apple M2 Max\n",
      "  WORD_SIZE: 64\n",
      "  LIBM: libopenlibm\n",
      "  LLVM: libLLVM-13.0.1 (ORCJIT, apple-m1)\n",
      "  Threads: 1 on 8 virtual cores\n",
      "Environment:\n",
      "  JULIA_EDITOR = code\n"
     ]
    }
   ],
   "source": [
    "versioninfo()"
   ]
  },
  {
   "cell_type": "markdown",
   "metadata": {},
   "source": [
    "Load packages:"
   ]
  },
  {
   "cell_type": "code",
   "execution_count": 2,
   "metadata": {
    "tags": []
   },
   "outputs": [
    {
     "name": "stderr",
     "output_type": "stream",
     "text": [
      "\u001b[32m\u001b[1m  Activating\u001b[22m\u001b[39m project at `~/Documents/github.com/ucla-biostat-257/2023spring/slides/06-arith`\n"
     ]
    },
    {
     "name": "stdout",
     "output_type": "stream",
     "text": [
      "\u001b[32m\u001b[1mStatus\u001b[22m\u001b[39m `~/Documents/github.com/ucla-biostat-257/2023spring/slides/06-arith/Project.toml`\n",
      " \u001b[90m [bd48cda9] \u001b[39mGraphRecipes v0.5.12\n",
      " \u001b[90m [91a5bcdd] \u001b[39mPlots v1.38.8\n",
      " \u001b[90m [6f49c342] \u001b[39mRCall v0.13.14\n"
     ]
    }
   ],
   "source": [
    "using Pkg\n",
    "\n",
    "Pkg.activate(pwd())\n",
    "Pkg.instantiate()\n",
    "Pkg.status()"
   ]
  },
  {
   "cell_type": "markdown",
   "metadata": {},
   "source": [
    "## Units of computer storage\n",
    "\n",
    "* `bit` = `binary` + `digit` (coined by statistician [John Tukey](https://en.wikipedia.org/wiki/Bit#History)).  \n",
    "* `byte` = 8 bits.  \n",
    "* KB = kilobyte = $10^3$ bytes.  \n",
    "* MB = megabytes = $10^6$ bytes.  \n",
    "* GB = gigabytes = $10^9$ bytes. Typical RAM size.  \n",
    "* TB = terabytes = $10^{12}$ bytes. Typical hard drive size. Size of NYSE each trading session.    \n",
    "* PB = petabytes = $10^{15}$ bytes.  \n",
    "* EB = exabytes = $10^{18}$ bytes. Size of all healthcare data in 2011 is ~150 EB.    \n",
    "* ZB = zetabytes = $10^{21}$ bytes. \n",
    "\n",
    "Julia function `Base.summarysize` shows the amount of memory (in bytes) used by an object."
   ]
  },
  {
   "cell_type": "code",
   "execution_count": 3,
   "metadata": {
    "tags": []
   },
   "outputs": [
    {
     "data": {
      "text/plain": [
       "80040"
      ]
     },
     "execution_count": 3,
     "metadata": {},
     "output_type": "execute_result"
    }
   ],
   "source": [
    "x = rand(100, 100)\n",
    "Base.summarysize(x)"
   ]
  },
  {
   "cell_type": "markdown",
   "metadata": {},
   "source": [
    "`varinfo()` function prints all variables in workspace and their sizes."
   ]
  },
  {
   "cell_type": "code",
   "execution_count": 4,
   "metadata": {
    "tags": []
   },
   "outputs": [
    {
     "data": {
      "text/latex": [
       "\\begin{tabular}\n",
       "{l | r | l}\n",
       "name & size & summary \\\\\n",
       "\\hline\n",
       "Base &  & Module \\\\\n",
       "Core &  & Module \\\\\n",
       "Main &  & Module \\\\\n",
       "x & 78.164 KiB & 100×100 Matrix\\{Float64\\} \\\\\n",
       "\\end{tabular}\n"
      ],
      "text/markdown": [
       "| name |       size | summary                 |\n",
       "|:---- | ----------:|:----------------------- |\n",
       "| Base |            | Module                  |\n",
       "| Core |            | Module                  |\n",
       "| Main |            | Module                  |\n",
       "| x    | 78.164 KiB | 100×100 Matrix{Float64} |\n"
      ],
      "text/plain": [
       "  name       size summary                \n",
       "  –––– –––––––––– –––––––––––––––––––––––\n",
       "  Base            Module                 \n",
       "  Core            Module                 \n",
       "  Main            Module                 \n",
       "  x    78.164 KiB 100×100 Matrix{Float64}"
      ]
     },
     "execution_count": 4,
     "metadata": {},
     "output_type": "execute_result"
    }
   ],
   "source": [
    "varinfo() # similar to Matlab whos()"
   ]
  },
  {
   "cell_type": "markdown",
   "metadata": {},
   "source": [
    "## Storage of Characters\n",
    "\n",
    "* Plain text files are stored in the form of characters: `.jl`, `.r`, `.c`, `.cpp`, `.ipynb`, `.html`, `.tex`, ...  \n",
    "* ASCII (American Code for Information Interchange): 7 bits, only $2^7=128$ characters.  "
   ]
  },
  {
   "cell_type": "code",
   "execution_count": 5,
   "metadata": {
    "tags": []
   },
   "outputs": [
    {
     "data": {
      "text/plain": [
       "128×2 Matrix{Any}:\n",
       "   0  '\\0'\n",
       "   1  '\\x01'\n",
       "   2  '\\x02'\n",
       "   3  '\\x03'\n",
       "   4  '\\x04'\n",
       "   5  '\\x05'\n",
       "   6  '\\x06'\n",
       "   7  '\\a'\n",
       "   8  '\\b'\n",
       "   9  '\\t'\n",
       "  10  '\\n'\n",
       "  11  '\\v'\n",
       "  12  '\\f'\n",
       "   ⋮  \n",
       " 116  't'\n",
       " 117  'u'\n",
       " 118  'v'\n",
       " 119  'w'\n",
       " 120  'x'\n",
       " 121  'y'\n",
       " 122  'z'\n",
       " 123  '{'\n",
       " 124  '|'\n",
       " 125  '}'\n",
       " 126  '~'\n",
       " 127  '\\x7f'"
      ]
     },
     "execution_count": 5,
     "metadata": {},
     "output_type": "execute_result"
    }
   ],
   "source": [
    "# integers 0, 1, ..., 127 and corresponding ascii character\n",
    "[0:127 Char.(0:127)]"
   ]
  },
  {
   "cell_type": "markdown",
   "metadata": {},
   "source": [
    "* Extended ASCII: 8 bits, $2^8=256$ characters.  "
   ]
  },
  {
   "cell_type": "code",
   "execution_count": 6,
   "metadata": {
    "tags": []
   },
   "outputs": [
    {
     "data": {
      "text/plain": [
       "128×2 Matrix{Any}:\n",
       " 128  '\\u80'\n",
       " 129  '\\u81'\n",
       " 130  '\\u82'\n",
       " 131  '\\u83'\n",
       " 132  '\\u84'\n",
       " 133  '\\u85'\n",
       " 134  '\\u86'\n",
       " 135  '\\u87'\n",
       " 136  '\\u88'\n",
       " 137  '\\u89'\n",
       " 138  '\\u8a'\n",
       " 139  '\\u8b'\n",
       " 140  '\\u8c'\n",
       "   ⋮  \n",
       " 244  'ô'\n",
       " 245  'õ'\n",
       " 246  'ö'\n",
       " 247  '÷'\n",
       " 248  'ø'\n",
       " 249  'ù'\n",
       " 250  'ú'\n",
       " 251  'û'\n",
       " 252  'ü'\n",
       " 253  'ý'\n",
       " 254  'þ'\n",
       " 255  'ÿ'"
      ]
     },
     "execution_count": 6,
     "metadata": {},
     "output_type": "execute_result"
    }
   ],
   "source": [
    "# integers 128, 129, ..., 255 and corresponding extended ascii character\n",
    "# show(STDOUT, \"text/plain\", [128:255 Char.(128:255)])\n",
    "[128:255 Char.(128:255)]"
   ]
  },
  {
   "cell_type": "markdown",
   "metadata": {},
   "source": [
    "* Unicode: UTF-8, UTF-16 and UTF-32 support many more characters including foreign characters; last 7 digits conform to ASCII. \n",
    "\n",
    "* [UTF-8](https://en.wikipedia.org/wiki/UTF-8) is the current dominant character encoding on internet.  \n",
    "\n",
    "<img src=\"https://upload.wikimedia.org/wikipedia/commons/9/97/Unicode_Web_growth.svg\" width=\"500\" align=\"center\"/>\n",
    "\n",
    "* Julia supports the full range of UTF-8 characters. You can type many Unicode math symbols by typing the backslashed LaTeX symbol name followed by tab. "
   ]
  },
  {
   "cell_type": "code",
   "execution_count": 7,
   "metadata": {
    "tags": []
   },
   "outputs": [
    {
     "data": {
      "text/plain": [
       "0.0"
      ]
     },
     "execution_count": 7,
     "metadata": {},
     "output_type": "execute_result"
    }
   ],
   "source": [
    "# \\beta-<tab>\n",
    "β = 0.0\n",
    "# \\beta-<tab>-\\hat-<tab>\n",
    "β̂ = 0.0"
   ]
  },
  {
   "cell_type": "markdown",
   "metadata": {},
   "source": [
    "* For a table of unicode symbols that can be entered via tab completion of LaTeX-like abbreviations: <https://docs.julialang.org/en/v1.1/manual/unicode-input/#Unicode-Input-1>"
   ]
  },
  {
   "cell_type": "markdown",
   "metadata": {},
   "source": [
    "## Integers: fixed-point number system\n",
    "\n",
    "* Fixed-point number system is a computer model for integers $\\mathbb{Z}$. \n",
    "\n",
    "* The number of bits and method of representing negative numbers vary from system to system. \n",
    "    - The `integer` type in R has $M=32$ or 64 bits, determined by machine word size. \n",
    "    - Matlab has `(u)int8`, `(u)int16`, `(u)int32`, `(u)int64`.  \n",
    "\n",
    "* Julia has even more integer types. Using Tom Breloff's `Plots.jl` and `GraphRecipes.jl` packages, we can [visualize the type tree](http://www.breloff.com/Graphs/) under `Integer`\n",
    "    - Storage for a `Signed` or `Unsigned` integer can be $M = 8, 16, 32, 64$ or 128 bits.  \n",
    "    - GraphRecipes.jl package has a convenience function for plotting the type hiearchy."
   ]
  },
  {
   "cell_type": "code",
   "execution_count": 8,
   "metadata": {
    "tags": []
   },
   "outputs": [
    {
     "data": {
      "image/svg+xml": [
       "<?xml version=\"1.0\" encoding=\"utf-8\"?>\n",
       "<svg xmlns=\"http://www.w3.org/2000/svg\" xmlns:xlink=\"http://www.w3.org/1999/xlink\" width=\"600\" height=\"400\" viewBox=\"0 0 2400 1600\">\n",
       "<defs>\n",
       "  <clipPath id=\"clip320\">\n",
       "    <rect x=\"0\" y=\"0\" width=\"2400\" height=\"1600\"/>\n",
       "  </clipPath>\n",
       "</defs>\n",
       "<path clip-path=\"url(#clip320)\" d=\"M0 1600 L2400 1600 L2400 0 L0 0  Z\" fill=\"#ffffff\" fill-rule=\"evenodd\" fill-opacity=\"1\"/>\n",
       "<defs>\n",
       "  <clipPath id=\"clip321\">\n",
       "    <rect x=\"480\" y=\"0\" width=\"1681\" height=\"1600\"/>\n",
       "  </clipPath>\n",
       "</defs>\n",
       "<path clip-path=\"url(#clip320)\" d=\"M447.244 1552.76 L1952.76 1552.76 L1952.76 47.2441 L447.244 47.2441  Z\" fill=\"#ffffff\" fill-rule=\"evenodd\" fill-opacity=\"1\"/>\n",
       "<defs>\n",
       "  <clipPath id=\"clip322\">\n",
       "    <rect x=\"447\" y=\"47\" width=\"1507\" height=\"1507\"/>\n",
       "  </clipPath>\n",
       "</defs>\n",
       "<polyline clip-path=\"url(#clip322)\" style=\"stroke:#000000; stroke-linecap:round; stroke-linejoin:round; stroke-width:4; stroke-opacity:1; fill:none\" points=\"1196.94,262.317 1196.94,269.06 1196.94,275.945 1196.93,282.962 1196.93,290.1 1196.92,297.35 1196.91,304.7 1196.89,312.14 1196.88,319.659 1196.87,327.247 1196.85,334.893 1196.84,342.587 1196.82,350.318 1196.81,358.075 1196.79,365.848 1196.77,373.626 1196.76,381.399 1196.74,389.156 1196.72,396.886 1196.71,404.58 1196.69,412.226 1196.68,419.814 1196.67,427.333 1196.66,434.773 1196.65,442.123 1196.64,449.373 1196.63,456.512 1196.63,463.529 1196.62,470.414 1196.62,477.156 \"/>\n",
       "<polyline clip-path=\"url(#clip322)\" style=\"stroke:#000000; stroke-linecap:round; stroke-linejoin:round; stroke-width:4; stroke-opacity:1; fill:none\" points=\"1196.62,477.156 1196.62,484.228 1196.61,491.45 1196.59,498.81 1196.56,506.297 1196.54,513.901 1196.5,521.611 1196.46,529.414 1196.42,537.301 1196.37,545.26 1196.32,553.279 1196.27,561.349 1196.22,569.457 1196.16,577.593 1196.11,585.746 1196.05,593.904 1196,602.057 1195.94,610.193 1195.89,618.302 1195.84,626.371 1195.79,634.391 1195.74,642.35 1195.7,650.236 1195.66,658.04 1195.62,665.749 1195.59,673.353 1195.57,680.841 1195.55,688.201 1195.54,695.422 1195.54,702.494 \"/>\n",
       "<polyline clip-path=\"url(#clip322)\" style=\"stroke:#000000; stroke-linecap:round; stroke-linejoin:round; stroke-width:4; stroke-opacity:1; fill:none\" points=\"1195.54,702.494 1195.52,709.504 1195.46,716.661 1195.36,723.955 1195.23,731.375 1195.07,738.91 1194.88,746.549 1194.66,754.281 1194.42,762.095 1194.17,769.98 1193.89,777.926 1193.61,785.92 1193.31,793.954 1193.01,802.014 1192.7,810.091 1192.39,818.174 1192.08,826.251 1191.78,834.311 1191.48,842.344 1191.2,850.339 1190.93,858.285 1190.67,866.17 1190.43,873.984 1190.22,881.716 1190.03,889.355 1189.87,896.89 1189.73,904.31 1189.64,911.604 1189.58,918.761 1189.56,925.77 \"/>\n",
       "<polyline clip-path=\"url(#clip322)\" style=\"stroke:#000000; stroke-linecap:round; stroke-linejoin:round; stroke-width:4; stroke-opacity:1; fill:none\" points=\"1189.56,925.77 1189.9,931.276 1190.91,936.7 1192.53,942.047 1194.72,947.323 1197.42,952.536 1200.58,957.69 1204.16,962.793 1208.11,967.849 1212.38,972.866 1216.92,977.849 1221.68,982.804 1226.61,987.739 1231.66,992.657 1236.78,997.567 1241.93,1002.47 1247.06,1007.38 1252.11,1012.3 1257.04,1017.24 1261.8,1022.19 1266.33,1027.18 1270.6,1032.19 1274.55,1037.25 1278.13,1042.35 1281.3,1047.51 1284,1052.72 1286.18,1057.99 1287.8,1063.34 1288.81,1068.76 1289.16,1074.27 \"/>\n",
       "<polyline clip-path=\"url(#clip322)\" style=\"stroke:#000000; stroke-linecap:round; stroke-linejoin:round; stroke-width:4; stroke-opacity:1; fill:none\" points=\"1189.56,925.77 1189.21,933.033 1188.22,940.307 1186.62,947.591 1184.46,954.885 1181.8,962.188 1178.67,969.5 1175.14,976.818 1171.24,984.143 1167.03,991.473 1162.55,998.808 1157.86,1006.15 1153,1013.49 1148.01,1020.83 1142.95,1028.18 1137.87,1035.52 1132.81,1042.87 1127.83,1050.21 1122.96,1057.55 1118.27,1064.89 1113.79,1072.23 1109.58,1079.56 1105.68,1086.88 1102.15,1094.2 1099.03,1101.51 1096.36,1108.81 1094.21,1116.11 1092.61,1123.39 1091.61,1130.67 1091.27,1137.93 \"/>\n",
       "<polyline clip-path=\"url(#clip322)\" style=\"stroke:#000000; stroke-linecap:round; stroke-linejoin:round; stroke-width:4; stroke-opacity:1; fill:none\" points=\"1189.56,925.77 1189.54,932.075 1189.48,938.513 1189.39,945.073 1189.27,951.747 1189.12,958.525 1188.95,965.395 1188.75,972.35 1188.53,979.379 1188.3,986.471 1188.05,993.618 1187.78,1000.81 1187.51,1008.03 1187.23,1015.28 1186.95,1022.55 1186.67,1029.82 1186.38,1037.08 1186.1,1044.33 1185.83,1051.56 1185.57,1058.75 1185.32,1065.9 1185.08,1072.99 1184.87,1080.02 1184.67,1086.97 1184.49,1093.84 1184.34,1100.62 1184.22,1107.29 1184.13,1113.85 1184.08,1120.29 1184.06,1126.6 \"/>\n",
       "<polyline clip-path=\"url(#clip322)\" style=\"stroke:#000000; stroke-linecap:round; stroke-linejoin:round; stroke-width:4; stroke-opacity:1; fill:none\" points=\"1189.56,925.77 1190.52,934.713 1193.34,943.062 1197.87,950.861 1203.97,958.153 1211.51,964.983 1220.35,971.395 1230.35,977.433 1241.38,983.141 1253.3,988.562 1265.97,993.742 1279.26,998.723 1293.03,1003.55 1307.14,1008.27 1321.45,1012.92 1335.83,1017.55 1350.15,1022.2 1364.26,1026.92 1378.02,1031.74 1391.31,1036.73 1403.98,1041.9 1415.9,1047.33 1426.93,1053.03 1436.93,1059.07 1445.77,1065.48 1453.31,1072.31 1459.41,1079.61 1463.94,1087.4 1466.76,1095.75 1467.73,1104.7 \"/>\n",
       "<polyline clip-path=\"url(#clip322)\" style=\"stroke:#000000; stroke-linecap:round; stroke-linejoin:round; stroke-width:4; stroke-opacity:1; fill:none\" points=\"1467.73,1104.7 1468.2,1110.3 1469.57,1115.63 1471.78,1120.71 1474.76,1125.56 1478.43,1130.2 1482.74,1134.65 1487.61,1138.93 1492.99,1143.06 1498.8,1147.06 1504.97,1150.95 1511.45,1154.75 1518.16,1158.48 1525.03,1162.16 1532.01,1165.81 1539.02,1169.45 1545.99,1173.1 1552.87,1176.78 1559.58,1180.52 1566.05,1184.32 1572.23,1188.21 1578.04,1192.21 1583.41,1196.34 1588.29,1200.62 1592.6,1205.07 1596.27,1209.71 1599.24,1214.56 1601.45,1219.64 1602.82,1224.97 1603.3,1230.57 \"/>\n",
       "<polyline clip-path=\"url(#clip322)\" style=\"stroke:#000000; stroke-linecap:round; stroke-linejoin:round; stroke-width:4; stroke-opacity:1; fill:none\" points=\"1467.73,1104.7 1468.67,1111.33 1471.4,1117.52 1475.8,1123.3 1481.72,1128.71 1489.04,1133.77 1497.61,1138.52 1507.32,1143 1518.03,1147.23 1529.59,1151.25 1541.89,1155.09 1554.78,1158.79 1568.14,1162.36 1581.84,1165.86 1595.73,1169.31 1609.68,1172.74 1623.58,1176.19 1637.27,1179.69 1650.63,1183.27 1663.52,1186.96 1675.82,1190.8 1687.39,1194.82 1698.09,1199.05 1707.8,1203.53 1716.38,1208.28 1723.69,1213.35 1729.61,1218.75 1734.01,1224.54 1736.74,1230.73 1737.68,1237.36 \"/>\n",
       "<polyline clip-path=\"url(#clip322)\" style=\"stroke:#000000; stroke-linecap:round; stroke-linejoin:round; stroke-width:4; stroke-opacity:1; fill:none\" points=\"1467.73,1104.7 1467.35,1110.55 1466.26,1116.31 1464.51,1121.99 1462.15,1127.58 1459.23,1133.1 1455.81,1138.55 1451.94,1143.94 1447.67,1149.28 1443.06,1154.57 1438.16,1159.82 1433.02,1165.04 1427.69,1170.24 1422.23,1175.42 1416.69,1180.59 1411.13,1185.75 1405.59,1190.92 1400.13,1196.1 1394.8,1201.3 1389.66,1206.52 1384.76,1211.77 1380.15,1217.07 1375.88,1222.4 1372.01,1227.8 1368.59,1233.25 1365.67,1238.76 1363.31,1244.36 1361.56,1250.03 1360.47,1255.79 1360.09,1261.65 \"/>\n",
       "<polyline clip-path=\"url(#clip322)\" style=\"stroke:#000000; stroke-linecap:round; stroke-linejoin:round; stroke-width:4; stroke-opacity:1; fill:none\" points=\"1467.73,1104.7 1468.45,1111.63 1470.55,1118.1 1473.92,1124.15 1478.46,1129.8 1484.07,1135.1 1490.65,1140.07 1498.1,1144.75 1506.31,1149.18 1515.18,1153.38 1524.61,1157.4 1534.51,1161.26 1544.75,1165 1555.26,1168.66 1565.91,1172.26 1576.62,1175.85 1587.27,1179.46 1597.78,1183.12 1608.02,1186.86 1617.91,1190.72 1627.35,1194.74 1636.22,1198.94 1644.43,1203.37 1651.88,1208.05 1658.46,1213.02 1664.07,1218.31 1668.61,1223.97 1671.98,1230.01 1674.08,1236.49 1674.8,1243.42 \"/>\n",
       "<polyline clip-path=\"url(#clip322)\" style=\"stroke:#000000; stroke-linecap:round; stroke-linejoin:round; stroke-width:4; stroke-opacity:1; fill:none\" points=\"1467.73,1104.7 1467.98,1111.31 1468.71,1117.97 1469.89,1124.69 1471.47,1131.46 1473.43,1138.27 1475.73,1145.12 1478.33,1152 1481.2,1158.92 1484.29,1165.86 1487.58,1172.83 1491.04,1179.81 1494.61,1186.81 1498.28,1193.82 1502,1200.84 1505.74,1207.86 1509.45,1214.88 1513.12,1221.89 1516.7,1228.89 1520.15,1235.87 1523.44,1242.84 1526.54,1249.79 1529.4,1256.7 1532,1263.59 1534.3,1270.44 1536.26,1277.25 1537.84,1284.01 1539.02,1290.73 1539.75,1297.4 1540,1304.01 \"/>\n",
       "<polyline clip-path=\"url(#clip322)\" style=\"stroke:#000000; stroke-linecap:round; stroke-linejoin:round; stroke-width:4; stroke-opacity:1; fill:none\" points=\"1467.73,1104.7 1467.58,1112.12 1467.13,1119.68 1466.42,1127.35 1465.46,1135.14 1464.27,1143.03 1462.88,1151.01 1461.31,1159.08 1459.57,1167.21 1457.7,1175.41 1455.7,1183.66 1453.61,1191.96 1451.45,1200.28 1449.22,1208.64 1446.97,1217 1444.71,1225.38 1442.46,1233.74 1440.24,1242.1 1438.07,1250.42 1435.98,1258.72 1433.98,1266.97 1432.11,1275.17 1430.37,1283.3 1428.8,1291.37 1427.41,1299.35 1426.22,1307.24 1425.26,1315.02 1424.55,1322.7 1424.1,1330.26 1423.95,1337.68 \"/>\n",
       "<polyline clip-path=\"url(#clip322)\" style=\"stroke:#000000; stroke-linecap:round; stroke-linejoin:round; stroke-width:4; stroke-opacity:1; fill:none\" points=\"1189.56,925.77 1188.55,932.181 1185.61,938.165 1180.89,943.755 1174.53,948.982 1166.68,953.878 1157.47,958.474 1147.05,962.802 1135.55,966.894 1123.14,970.78 1109.93,974.492 1096.09,978.063 1081.74,981.523 1067.04,984.905 1052.13,988.239 1037.14,991.557 1022.23,994.891 1007.53,998.272 993.183,1001.73 979.338,1005.3 966.135,1009.02 953.716,1012.9 942.224,1016.99 931.802,1021.32 922.592,1025.92 914.736,1030.81 908.379,1036.04 903.661,1041.63 900.725,1047.61 899.715,1054.03 \"/>\n",
       "<polyline clip-path=\"url(#clip322)\" style=\"stroke:#000000; stroke-linecap:round; stroke-linejoin:round; stroke-width:4; stroke-opacity:1; fill:none\" points=\"899.715,1054.03 899.975,1060.61 900.73,1067.25 901.945,1073.93 903.581,1080.66 905.603,1087.42 907.973,1094.22 910.655,1101.05 913.613,1107.91 916.809,1114.8 920.207,1121.7 923.77,1128.62 927.462,1135.55 931.245,1142.5 935.084,1149.44 938.941,1156.39 942.779,1163.34 946.562,1170.28 950.254,1177.22 953.817,1184.14 957.215,1191.04 960.411,1197.93 963.369,1204.78 966.051,1211.62 968.422,1218.42 970.443,1225.18 972.08,1231.91 973.294,1238.59 974.049,1245.23 974.309,1251.81 \"/>\n",
       "<polyline clip-path=\"url(#clip322)\" style=\"stroke:#000000; stroke-linecap:round; stroke-linejoin:round; stroke-width:4; stroke-opacity:1; fill:none\" points=\"899.715,1054.03 899.405,1062.43 898.504,1070.91 897.055,1079.47 895.103,1088.09 892.692,1096.78 889.864,1105.52 886.665,1114.31 883.137,1123.14 879.324,1132.01 875.271,1140.92 871.02,1149.85 866.617,1158.8 862.103,1167.76 857.525,1176.73 852.924,1185.71 848.345,1194.68 843.832,1203.65 839.428,1212.6 835.178,1221.53 831.125,1230.43 827.312,1239.3 823.784,1248.14 820.584,1256.92 817.757,1265.66 815.345,1274.35 813.393,1282.97 811.945,1291.53 811.044,1300.01 810.734,1308.42 \"/>\n",
       "<polyline clip-path=\"url(#clip322)\" style=\"stroke:#000000; stroke-linecap:round; stroke-linejoin:round; stroke-width:4; stroke-opacity:1; fill:none\" points=\"899.715,1054.03 899.119,1062.68 897.386,1071.14 894.602,1079.42 890.85,1087.53 886.213,1095.49 880.778,1103.32 874.627,1111.01 867.844,1118.6 860.515,1126.1 852.722,1133.51 844.551,1140.86 836.086,1148.16 827.41,1155.43 818.607,1162.67 809.763,1169.9 800.961,1177.14 792.284,1184.4 783.819,1191.7 775.648,1199.05 767.855,1206.47 760.526,1213.96 753.744,1221.55 747.592,1229.25 742.157,1237.07 737.521,1245.03 733.768,1253.14 730.984,1261.42 729.251,1269.88 728.655,1278.54 \"/>\n",
       "<polyline clip-path=\"url(#clip322)\" style=\"stroke:#000000; stroke-linecap:round; stroke-linejoin:round; stroke-width:4; stroke-opacity:1; fill:none\" points=\"899.715,1054.03 898.888,1063.21 896.483,1071.84 892.619,1079.96 887.412,1087.61 880.977,1094.83 873.434,1101.67 864.897,1108.16 855.485,1114.34 845.313,1120.26 834.499,1125.95 823.159,1131.46 811.41,1136.83 799.369,1142.09 787.153,1147.29 774.879,1152.48 762.663,1157.68 750.622,1162.95 738.874,1168.31 727.534,1173.82 716.719,1179.52 706.548,1185.43 697.135,1191.62 688.598,1198.11 681.055,1204.94 674.621,1212.16 669.413,1219.82 665.549,1227.94 663.145,1236.57 662.317,1245.75 \"/>\n",
       "<polyline clip-path=\"url(#clip322)\" style=\"stroke:#000000; stroke-linecap:round; stroke-linejoin:round; stroke-width:4; stroke-opacity:1; fill:none\" points=\"899.715,1054.03 899.691,1061.28 899.621,1068.69 899.508,1076.25 899.355,1083.93 899.167,1091.73 898.947,1099.64 898.697,1107.65 898.422,1115.74 898.125,1123.9 897.809,1132.13 897.477,1140.41 897.134,1148.72 896.782,1157.07 896.425,1165.43 896.066,1173.8 895.709,1182.16 895.357,1190.51 895.014,1198.82 894.683,1207.1 894.367,1215.33 894.069,1223.49 893.794,1231.58 893.545,1239.59 893.324,1247.5 893.136,1255.3 892.984,1262.98 892.871,1270.54 892.801,1277.95 892.776,1285.21 \"/>\n",
       "<path clip-path=\"url(#clip322)\" d=\"M1215.59 262.317 L1206.26 246.169 L1187.62 246.169 L1178.3 262.317 L1187.62 278.465 L1206.26 278.465 L1215.59 262.317 L1215.59 262.317  Z\" fill=\"#009af9\" fill-rule=\"evenodd\" fill-opacity=\"1\"/>\n",
       "<polyline clip-path=\"url(#clip322)\" style=\"stroke:#000000; stroke-linecap:round; stroke-linejoin:round; stroke-width:4; stroke-opacity:1; fill:none\" points=\"1215.59,262.317 1206.26,246.169 1187.62,246.169 1178.3,262.317 1187.62,278.465 1206.26,278.465 1215.59,262.317 \"/>\n",
       "<path clip-path=\"url(#clip322)\" d=\"M1229.09 477.156 L1212.85 449.041 L1180.39 449.041 L1164.16 477.156 L1180.39 505.271 L1212.85 505.271 L1229.09 477.156 L1229.09 477.156  Z\" fill=\"#009af9\" fill-rule=\"evenodd\" fill-opacity=\"1\"/>\n",
       "<polyline clip-path=\"url(#clip322)\" style=\"stroke:#000000; stroke-linecap:round; stroke-linejoin:round; stroke-width:4; stroke-opacity:1; fill:none\" points=\"1229.09,477.156 1212.85,449.041 1180.39,449.041 1164.16,477.156 1180.39,505.271 1212.85,505.271 1229.09,477.156 \"/>\n",
       "<path clip-path=\"url(#clip322)\" d=\"M1219.01 702.494 L1207.27 682.168 L1183.8 682.168 L1172.07 702.494 L1183.8 722.821 L1207.27 722.821 L1219.01 702.494 L1219.01 702.494  Z\" fill=\"#009af9\" fill-rule=\"evenodd\" fill-opacity=\"1\"/>\n",
       "<polyline clip-path=\"url(#clip322)\" style=\"stroke:#000000; stroke-linecap:round; stroke-linejoin:round; stroke-width:4; stroke-opacity:1; fill:none\" points=\"1219.01,702.494 1207.27,682.168 1183.8,682.168 1172.07,702.494 1183.8,722.821 1207.27,722.821 1219.01,702.494 \"/>\n",
       "<path clip-path=\"url(#clip322)\" d=\"M1226.28 925.77 L1207.92 893.965 L1171.19 893.965 L1152.83 925.77 L1171.19 957.576 L1207.92 957.576 L1226.28 925.77 L1226.28 925.77  Z\" fill=\"#009af9\" fill-rule=\"evenodd\" fill-opacity=\"1\"/>\n",
       "<polyline clip-path=\"url(#clip322)\" style=\"stroke:#000000; stroke-linecap:round; stroke-linejoin:round; stroke-width:4; stroke-opacity:1; fill:none\" points=\"1226.28,925.77 1207.92,893.965 1171.19,893.965 1152.83,925.77 1171.19,957.576 1207.92,957.576 1226.28,925.77 \"/>\n",
       "<path clip-path=\"url(#clip322)\" d=\"M1312.63 1074.27 L1300.9 1053.94 L1277.42 1053.94 L1265.69 1074.27 L1277.42 1094.6 L1300.9 1094.6 L1312.63 1074.27 L1312.63 1074.27  Z\" fill=\"#009af9\" fill-rule=\"evenodd\" fill-opacity=\"1\"/>\n",
       "<polyline clip-path=\"url(#clip322)\" style=\"stroke:#000000; stroke-linecap:round; stroke-linejoin:round; stroke-width:4; stroke-opacity:1; fill:none\" points=\"1312.63,1074.27 1300.9,1053.94 1277.42,1053.94 1265.69,1074.27 1277.42,1094.6 1300.9,1094.6 1312.63,1074.27 \"/>\n",
       "<path clip-path=\"url(#clip322)\" d=\"M1151.53 1137.93 L1121.4 1085.74 L1061.14 1085.74 L1031.01 1137.93 L1061.14 1190.12 L1121.4 1190.12 L1151.53 1137.93 L1151.53 1137.93  Z\" fill=\"#009af9\" fill-rule=\"evenodd\" fill-opacity=\"1\"/>\n",
       "<polyline clip-path=\"url(#clip322)\" style=\"stroke:#000000; stroke-linecap:round; stroke-linejoin:round; stroke-width:4; stroke-opacity:1; fill:none\" points=\"1151.53,1137.93 1121.4,1085.74 1061.14,1085.74 1031.01,1137.93 1061.14,1190.12 1121.4,1190.12 1151.53,1137.93 \"/>\n",
       "<path clip-path=\"url(#clip322)\" d=\"M1244.32 1126.6 L1214.19 1074.41 L1153.93 1074.41 L1123.8 1126.6 L1153.93 1178.79 L1214.19 1178.79 L1244.32 1126.6 L1244.32 1126.6  Z\" fill=\"#009af9\" fill-rule=\"evenodd\" fill-opacity=\"1\"/>\n",
       "<polyline clip-path=\"url(#clip322)\" style=\"stroke:#000000; stroke-linecap:round; stroke-linejoin:round; stroke-width:4; stroke-opacity:1; fill:none\" points=\"1244.32,1126.6 1214.19,1074.41 1153.93,1074.41 1123.8,1126.6 1153.93,1178.79 1214.19,1178.79 1244.32,1126.6 \"/>\n",
       "<path clip-path=\"url(#clip322)\" d=\"M1500.19 1104.7 L1483.96 1076.58 L1451.5 1076.58 L1435.26 1104.7 L1451.5 1132.81 L1483.96 1132.81 L1500.19 1104.7 L1500.19 1104.7  Z\" fill=\"#009af9\" fill-rule=\"evenodd\" fill-opacity=\"1\"/>\n",
       "<polyline clip-path=\"url(#clip322)\" style=\"stroke:#000000; stroke-linecap:round; stroke-linejoin:round; stroke-width:4; stroke-opacity:1; fill:none\" points=\"1500.19,1104.7 1483.96,1076.58 1451.5,1076.58 1435.26,1104.7 1451.5,1132.81 1483.96,1132.81 1500.19,1104.7 \"/>\n",
       "<path clip-path=\"url(#clip322)\" d=\"M1635.76 1230.57 L1619.53 1202.45 L1587.06 1202.45 L1570.83 1230.57 L1587.06 1258.68 L1619.53 1258.68 L1635.76 1230.57 L1635.76 1230.57  Z\" fill=\"#009af9\" fill-rule=\"evenodd\" fill-opacity=\"1\"/>\n",
       "<polyline clip-path=\"url(#clip322)\" style=\"stroke:#000000; stroke-linecap:round; stroke-linejoin:round; stroke-width:4; stroke-opacity:1; fill:none\" points=\"1635.76,1230.57 1619.53,1202.45 1587.06,1202.45 1570.83,1230.57 1587.06,1258.68 1619.53,1258.68 1635.76,1230.57 \"/>\n",
       "<path clip-path=\"url(#clip322)\" d=\"M1770.15 1237.36 L1753.92 1209.24 L1721.45 1209.24 L1705.22 1237.36 L1721.45 1265.47 L1753.92 1265.47 L1770.15 1237.36 L1770.15 1237.36  Z\" fill=\"#009af9\" fill-rule=\"evenodd\" fill-opacity=\"1\"/>\n",
       "<polyline clip-path=\"url(#clip322)\" style=\"stroke:#000000; stroke-linecap:round; stroke-linejoin:round; stroke-width:4; stroke-opacity:1; fill:none\" points=\"1770.15,1237.36 1753.92,1209.24 1721.45,1209.24 1705.22,1237.36 1721.45,1265.47 1753.92,1265.47 1770.15,1237.36 \"/>\n",
       "<path clip-path=\"url(#clip322)\" d=\"M1388.15 1261.65 L1374.12 1237.35 L1346.06 1237.35 L1332.03 1261.65 L1346.06 1285.95 L1374.12 1285.95 L1388.15 1261.65 L1388.15 1261.65  Z\" fill=\"#009af9\" fill-rule=\"evenodd\" fill-opacity=\"1\"/>\n",
       "<polyline clip-path=\"url(#clip322)\" style=\"stroke:#000000; stroke-linecap:round; stroke-linejoin:round; stroke-width:4; stroke-opacity:1; fill:none\" points=\"1388.15,1261.65 1374.12,1237.35 1346.06,1237.35 1332.03,1261.65 1346.06,1285.95 1374.12,1285.95 1388.15,1261.65 \"/>\n",
       "<path clip-path=\"url(#clip322)\" d=\"M1702.86 1243.42 L1688.83 1219.12 L1660.77 1219.12 L1646.74 1243.42 L1660.77 1267.72 L1688.83 1267.72 L1702.86 1243.42 L1702.86 1243.42  Z\" fill=\"#009af9\" fill-rule=\"evenodd\" fill-opacity=\"1\"/>\n",
       "<polyline clip-path=\"url(#clip322)\" style=\"stroke:#000000; stroke-linecap:round; stroke-linejoin:round; stroke-width:4; stroke-opacity:1; fill:none\" points=\"1702.86,1243.42 1688.83,1219.12 1660.77,1219.12 1646.74,1243.42 1660.77,1267.72 1688.83,1267.72 1702.86,1243.42 \"/>\n",
       "<path clip-path=\"url(#clip322)\" d=\"M1568.06 1304.01 L1554.03 1279.71 L1525.98 1279.71 L1511.95 1304.01 L1525.98 1328.3 L1554.03 1328.3 L1568.06 1304.01 L1568.06 1304.01  Z\" fill=\"#009af9\" fill-rule=\"evenodd\" fill-opacity=\"1\"/>\n",
       "<polyline clip-path=\"url(#clip322)\" style=\"stroke:#000000; stroke-linecap:round; stroke-linejoin:round; stroke-width:4; stroke-opacity:1; fill:none\" points=\"1568.06,1304.01 1554.03,1279.71 1525.98,1279.71 1511.95,1304.01 1525.98,1328.3 1554.03,1328.3 1568.06,1304.01 \"/>\n",
       "<path clip-path=\"url(#clip322)\" d=\"M1447.42 1337.68 L1435.69 1317.36 L1412.22 1317.36 L1400.48 1337.68 L1412.22 1358.01 L1435.69 1358.01 L1447.42 1337.68 L1447.42 1337.68  Z\" fill=\"#009af9\" fill-rule=\"evenodd\" fill-opacity=\"1\"/>\n",
       "<polyline clip-path=\"url(#clip322)\" style=\"stroke:#000000; stroke-linecap:round; stroke-linejoin:round; stroke-width:4; stroke-opacity:1; fill:none\" points=\"1447.42,1337.68 1435.69,1317.36 1412.22,1317.36 1400.48,1337.68 1412.22,1358.01 1435.69,1358.01 1447.42,1337.68 \"/>\n",
       "<path clip-path=\"url(#clip322)\" d=\"M940.581 1054.03 L920.148 1018.63 L879.282 1018.63 L858.849 1054.03 L879.282 1089.42 L920.148 1089.42 L940.581 1054.03 L940.581 1054.03  Z\" fill=\"#009af9\" fill-rule=\"evenodd\" fill-opacity=\"1\"/>\n",
       "<polyline clip-path=\"url(#clip322)\" style=\"stroke:#000000; stroke-linecap:round; stroke-linejoin:round; stroke-width:4; stroke-opacity:1; fill:none\" points=\"940.581,1054.03 920.148,1018.63 879.282,1018.63 858.849,1054.03 879.282,1089.42 920.148,1089.42 940.581,1054.03 \"/>\n",
       "<path clip-path=\"url(#clip322)\" d=\"M1011.03 1251.81 L992.672 1220.01 L955.947 1220.01 L937.584 1251.81 L955.947 1283.62 L992.672 1283.62 L1011.03 1251.81 L1011.03 1251.81  Z\" fill=\"#009af9\" fill-rule=\"evenodd\" fill-opacity=\"1\"/>\n",
       "<polyline clip-path=\"url(#clip322)\" style=\"stroke:#000000; stroke-linecap:round; stroke-linejoin:round; stroke-width:4; stroke-opacity:1; fill:none\" points=\"1011.03,1251.81 992.672,1220.01 955.947,1220.01 937.584,1251.81 955.947,1283.62 992.672,1283.62 1011.03,1251.81 \"/>\n",
       "<path clip-path=\"url(#clip322)\" d=\"M843.198 1308.42 L826.966 1280.3 L794.501 1280.3 L778.269 1308.42 L794.501 1336.53 L826.966 1336.53 L843.198 1308.42 L843.198 1308.42  Z\" fill=\"#009af9\" fill-rule=\"evenodd\" fill-opacity=\"1\"/>\n",
       "<polyline clip-path=\"url(#clip322)\" style=\"stroke:#000000; stroke-linecap:round; stroke-linejoin:round; stroke-width:4; stroke-opacity:1; fill:none\" points=\"843.198,1308.42 826.966,1280.3 794.501,1280.3 778.269,1308.42 794.501,1336.53 826.966,1336.53 843.198,1308.42 \"/>\n",
       "<path clip-path=\"url(#clip322)\" d=\"M761.12 1278.54 L744.887 1250.43 L712.423 1250.43 L696.191 1278.54 L712.423 1306.66 L744.887 1306.66 L761.12 1278.54 L761.12 1278.54  Z\" fill=\"#009af9\" fill-rule=\"evenodd\" fill-opacity=\"1\"/>\n",
       "<polyline clip-path=\"url(#clip322)\" style=\"stroke:#000000; stroke-linecap:round; stroke-linejoin:round; stroke-width:4; stroke-opacity:1; fill:none\" points=\"761.12,1278.54 744.887,1250.43 712.423,1250.43 696.191,1278.54 712.423,1306.66 744.887,1306.66 761.12,1278.54 \"/>\n",
       "<path clip-path=\"url(#clip322)\" d=\"M694.782 1245.75 L678.549 1217.63 L646.085 1217.63 L629.853 1245.75 L646.085 1273.86 L678.549 1273.86 L694.782 1245.75 L694.782 1245.75  Z\" fill=\"#009af9\" fill-rule=\"evenodd\" fill-opacity=\"1\"/>\n",
       "<polyline clip-path=\"url(#clip322)\" style=\"stroke:#000000; stroke-linecap:round; stroke-linejoin:round; stroke-width:4; stroke-opacity:1; fill:none\" points=\"694.782,1245.75 678.549,1217.63 646.085,1217.63 629.853,1245.75 646.085,1273.86 678.549,1273.86 694.782,1245.75 \"/>\n",
       "<path clip-path=\"url(#clip322)\" d=\"M920.835 1285.21 L906.806 1260.91 L878.747 1260.91 L864.718 1285.21 L878.747 1309.51 L906.806 1309.51 L920.835 1285.21 L920.835 1285.21  Z\" fill=\"#009af9\" fill-rule=\"evenodd\" fill-opacity=\"1\"/>\n",
       "<polyline clip-path=\"url(#clip322)\" style=\"stroke:#000000; stroke-linecap:round; stroke-linejoin:round; stroke-width:4; stroke-opacity:1; fill:none\" points=\"920.835,1285.21 906.806,1260.91 878.747,1260.91 864.718,1285.21 878.747,1309.51 906.806,1309.51 920.835,1285.21 \"/>\n",
       "<path clip-path=\"url(#clip322)\" d=\"M1196.94 262.717 L1196.6 262.517 L1196.6 262.117 L1196.94 261.917 L1197.29 262.117 L1197.29 262.517 Z\" fill=\"#009af9\" fill-rule=\"evenodd\" fill-opacity=\"1\" stroke=\"#000000\" stroke-opacity=\"1\" stroke-width=\"3.2\"/>\n",
       "<path clip-path=\"url(#clip322)\" d=\"M1196.62 477.556 L1196.27 477.356 L1196.27 476.956 L1196.62 476.756 L1196.97 476.956 L1196.97 477.356 Z\" fill=\"#009af9\" fill-rule=\"evenodd\" fill-opacity=\"1\" stroke=\"#000000\" stroke-opacity=\"1\" stroke-width=\"3.2\"/>\n",
       "<path clip-path=\"url(#clip322)\" d=\"M1195.54 702.894 L1195.19 702.694 L1195.19 702.294 L1195.54 702.094 L1195.88 702.294 L1195.88 702.694 Z\" fill=\"#009af9\" fill-rule=\"evenodd\" fill-opacity=\"1\" stroke=\"#000000\" stroke-opacity=\"1\" stroke-width=\"3.2\"/>\n",
       "<path clip-path=\"url(#clip322)\" d=\"M1189.56 926.17 L1189.21 925.97 L1189.21 925.57 L1189.56 925.37 L1189.9 925.57 L1189.9 925.97 Z\" fill=\"#009af9\" fill-rule=\"evenodd\" fill-opacity=\"1\" stroke=\"#000000\" stroke-opacity=\"1\" stroke-width=\"3.2\"/>\n",
       "<path clip-path=\"url(#clip322)\" d=\"M1289.16 1074.67 L1288.81 1074.47 L1288.81 1074.07 L1289.16 1073.87 L1289.51 1074.07 L1289.51 1074.47 Z\" fill=\"#009af9\" fill-rule=\"evenodd\" fill-opacity=\"1\" stroke=\"#000000\" stroke-opacity=\"1\" stroke-width=\"3.2\"/>\n",
       "<path clip-path=\"url(#clip322)\" d=\"M1091.27 1138.33 L1090.92 1138.13 L1090.92 1137.73 L1091.27 1137.53 L1091.61 1137.73 L1091.61 1138.13 Z\" fill=\"#009af9\" fill-rule=\"evenodd\" fill-opacity=\"1\" stroke=\"#000000\" stroke-opacity=\"1\" stroke-width=\"3.2\"/>\n",
       "<path clip-path=\"url(#clip322)\" d=\"M1184.06 1127 L1183.71 1126.8 L1183.71 1126.4 L1184.06 1126.2 L1184.41 1126.4 L1184.41 1126.8 Z\" fill=\"#009af9\" fill-rule=\"evenodd\" fill-opacity=\"1\" stroke=\"#000000\" stroke-opacity=\"1\" stroke-width=\"3.2\"/>\n",
       "<path clip-path=\"url(#clip322)\" d=\"M1467.73 1105.1 L1467.38 1104.9 L1467.38 1104.5 L1467.73 1104.3 L1468.08 1104.5 L1468.08 1104.9 Z\" fill=\"#009af9\" fill-rule=\"evenodd\" fill-opacity=\"1\" stroke=\"#000000\" stroke-opacity=\"1\" stroke-width=\"3.2\"/>\n",
       "<path clip-path=\"url(#clip322)\" d=\"M1603.3 1230.97 L1602.95 1230.77 L1602.95 1230.37 L1603.3 1230.17 L1603.64 1230.37 L1603.64 1230.77 Z\" fill=\"#009af9\" fill-rule=\"evenodd\" fill-opacity=\"1\" stroke=\"#000000\" stroke-opacity=\"1\" stroke-width=\"3.2\"/>\n",
       "<path clip-path=\"url(#clip322)\" d=\"M1737.68 1237.76 L1737.34 1237.56 L1737.34 1237.16 L1737.68 1236.96 L1738.03 1237.16 L1738.03 1237.56 Z\" fill=\"#009af9\" fill-rule=\"evenodd\" fill-opacity=\"1\" stroke=\"#000000\" stroke-opacity=\"1\" stroke-width=\"3.2\"/>\n",
       "<path clip-path=\"url(#clip322)\" d=\"M1360.09 1262.05 L1359.74 1261.85 L1359.74 1261.45 L1360.09 1261.25 L1360.44 1261.45 L1360.44 1261.85 Z\" fill=\"#009af9\" fill-rule=\"evenodd\" fill-opacity=\"1\" stroke=\"#000000\" stroke-opacity=\"1\" stroke-width=\"3.2\"/>\n",
       "<path clip-path=\"url(#clip322)\" d=\"M1674.8 1243.82 L1674.45 1243.62 L1674.45 1243.22 L1674.8 1243.02 L1675.15 1243.22 L1675.15 1243.62 Z\" fill=\"#009af9\" fill-rule=\"evenodd\" fill-opacity=\"1\" stroke=\"#000000\" stroke-opacity=\"1\" stroke-width=\"3.2\"/>\n",
       "<path clip-path=\"url(#clip322)\" d=\"M1540 1304.41 L1539.66 1304.21 L1539.66 1303.81 L1540 1303.61 L1540.35 1303.81 L1540.35 1304.21 Z\" fill=\"#009af9\" fill-rule=\"evenodd\" fill-opacity=\"1\" stroke=\"#000000\" stroke-opacity=\"1\" stroke-width=\"3.2\"/>\n",
       "<path clip-path=\"url(#clip322)\" d=\"M1423.95 1338.08 L1423.61 1337.88 L1423.61 1337.48 L1423.95 1337.28 L1424.3 1337.48 L1424.3 1337.88 Z\" fill=\"#009af9\" fill-rule=\"evenodd\" fill-opacity=\"1\" stroke=\"#000000\" stroke-opacity=\"1\" stroke-width=\"3.2\"/>\n",
       "<path clip-path=\"url(#clip322)\" d=\"M899.715 1054.43 L899.369 1054.23 L899.369 1053.83 L899.715 1053.63 L900.061 1053.83 L900.061 1054.23 Z\" fill=\"#009af9\" fill-rule=\"evenodd\" fill-opacity=\"1\" stroke=\"#000000\" stroke-opacity=\"1\" stroke-width=\"3.2\"/>\n",
       "<path clip-path=\"url(#clip322)\" d=\"M974.309 1252.21 L973.963 1252.01 L973.963 1251.61 L974.309 1251.41 L974.656 1251.61 L974.656 1252.01 Z\" fill=\"#009af9\" fill-rule=\"evenodd\" fill-opacity=\"1\" stroke=\"#000000\" stroke-opacity=\"1\" stroke-width=\"3.2\"/>\n",
       "<path clip-path=\"url(#clip322)\" d=\"M810.734 1308.82 L810.387 1308.62 L810.387 1308.22 L810.734 1308.02 L811.08 1308.22 L811.08 1308.62 Z\" fill=\"#009af9\" fill-rule=\"evenodd\" fill-opacity=\"1\" stroke=\"#000000\" stroke-opacity=\"1\" stroke-width=\"3.2\"/>\n",
       "<path clip-path=\"url(#clip322)\" d=\"M728.655 1278.94 L728.309 1278.74 L728.309 1278.34 L728.655 1278.14 L729.002 1278.34 L729.002 1278.74 Z\" fill=\"#009af9\" fill-rule=\"evenodd\" fill-opacity=\"1\" stroke=\"#000000\" stroke-opacity=\"1\" stroke-width=\"3.2\"/>\n",
       "<path clip-path=\"url(#clip322)\" d=\"M662.317 1246.15 L661.971 1245.95 L661.971 1245.55 L662.317 1245.35 L662.664 1245.55 L662.664 1245.95 Z\" fill=\"#009af9\" fill-rule=\"evenodd\" fill-opacity=\"1\" stroke=\"#000000\" stroke-opacity=\"1\" stroke-width=\"3.2\"/>\n",
       "<path clip-path=\"url(#clip322)\" d=\"M892.776 1285.61 L892.43 1285.41 L892.43 1285.01 L892.776 1284.81 L893.123 1285.01 L893.123 1285.41 Z\" fill=\"#009af9\" fill-rule=\"evenodd\" fill-opacity=\"1\" stroke=\"#000000\" stroke-opacity=\"1\" stroke-width=\"3.2\"/>\n",
       "<path clip-path=\"url(#clip320)\" d=\"M1182.67 255.98 L1179.5 264.58 L1185.85 264.58 L1182.67 255.98 M1181.35 253.677 L1184 253.677 L1190.59 270.957 L1188.16 270.957 L1186.58 266.524 L1178.79 266.524 L1177.22 270.957 L1174.75 270.957 L1181.35 253.677 Z\" fill=\"#000000\" fill-rule=\"nonzero\" fill-opacity=\"1\" /><path clip-path=\"url(#clip320)\" d=\"M1203.79 263.133 L1203.79 270.957 L1201.66 270.957 L1201.66 263.203 Q1201.66 261.362 1200.95 260.448 Q1200.23 259.534 1198.79 259.534 Q1197.07 259.534 1196.07 260.633 Q1195.08 261.733 1195.08 263.631 L1195.08 270.957 L1192.94 270.957 L1192.94 257.994 L1195.08 257.994 L1195.08 260.008 Q1195.84 258.839 1196.87 258.261 Q1197.91 257.682 1199.27 257.682 Q1201.5 257.682 1202.65 259.071 Q1203.79 260.448 1203.79 263.133 Z\" fill=\"#000000\" fill-rule=\"nonzero\" fill-opacity=\"1\" /><path clip-path=\"url(#clip320)\" d=\"M1213.43 272.161 Q1212.53 274.476 1211.68 275.182 Q1210.82 275.888 1209.38 275.888 L1207.68 275.888 L1207.68 274.105 L1208.93 274.105 Q1209.81 274.105 1210.3 273.689 Q1210.78 273.272 1211.37 271.721 L1211.76 270.749 L1206.51 257.994 L1208.77 257.994 L1212.82 268.133 L1216.87 257.994 L1219.13 257.994 L1213.43 272.161 Z\" fill=\"#000000\" fill-rule=\"nonzero\" fill-opacity=\"1\" /><path clip-path=\"url(#clip320)\" d=\"M1150.17 468.516 L1153.32 468.516 L1160.98 482.972 L1160.98 468.516 L1163.25 468.516 L1163.25 485.796 L1160.1 485.796 L1152.44 471.34 L1152.44 485.796 L1150.17 485.796 L1150.17 468.516 Z\" fill=\"#000000\" fill-rule=\"nonzero\" fill-opacity=\"1\" /><path clip-path=\"url(#clip320)\" d=\"M1167.59 480.681 L1167.59 472.833 L1169.72 472.833 L1169.72 480.6 Q1169.72 482.44 1170.44 483.366 Q1171.16 484.28 1172.59 484.28 Q1174.32 484.28 1175.31 483.181 Q1176.32 482.081 1176.32 480.183 L1176.32 472.833 L1178.45 472.833 L1178.45 485.796 L1176.32 485.796 L1176.32 483.806 Q1175.54 484.986 1174.51 485.565 Q1173.5 486.132 1172.14 486.132 Q1169.91 486.132 1168.75 484.743 Q1167.59 483.354 1167.59 480.681 M1172.95 472.521 L1172.95 472.521 Z\" fill=\"#000000\" fill-rule=\"nonzero\" fill-opacity=\"1\" /><path clip-path=\"url(#clip320)\" d=\"M1192.93 475.322 Q1193.73 473.887 1194.84 473.204 Q1195.95 472.521 1197.45 472.521 Q1199.48 472.521 1200.58 473.944 Q1201.68 475.356 1201.68 477.972 L1201.68 485.796 L1199.54 485.796 L1199.54 478.042 Q1199.54 476.178 1198.88 475.275 Q1198.22 474.373 1196.86 474.373 Q1195.21 474.373 1194.25 475.472 Q1193.29 476.572 1193.29 478.47 L1193.29 485.796 L1191.15 485.796 L1191.15 478.042 Q1191.15 476.167 1190.49 475.275 Q1189.83 474.373 1188.45 474.373 Q1186.82 474.373 1185.86 475.484 Q1184.9 476.583 1184.9 478.47 L1184.9 485.796 L1182.76 485.796 L1182.76 472.833 L1184.9 472.833 L1184.9 474.847 Q1185.63 473.655 1186.64 473.088 Q1187.66 472.521 1189.06 472.521 Q1190.48 472.521 1191.46 473.238 Q1192.45 473.956 1192.93 475.322 Z\" fill=\"#000000\" fill-rule=\"nonzero\" fill-opacity=\"1\" /><path clip-path=\"url(#clip320)\" d=\"M1215.23 479.326 Q1215.23 476.977 1214.26 475.646 Q1213.3 474.303 1211.61 474.303 Q1209.92 474.303 1208.95 475.646 Q1207.99 476.977 1207.99 479.326 Q1207.99 481.676 1208.95 483.018 Q1209.92 484.35 1211.61 484.35 Q1213.3 484.35 1214.26 483.018 Q1215.23 481.676 1215.23 479.326 M1207.99 474.801 Q1208.66 473.644 1209.68 473.088 Q1210.71 472.521 1212.13 472.521 Q1214.49 472.521 1215.96 474.396 Q1217.44 476.271 1217.44 479.326 Q1217.44 482.382 1215.96 484.257 Q1214.49 486.132 1212.13 486.132 Q1210.71 486.132 1209.68 485.576 Q1208.66 485.009 1207.99 483.852 L1207.99 485.796 L1205.85 485.796 L1205.85 467.787 L1207.99 467.787 L1207.99 474.801 Z\" fill=\"#000000\" fill-rule=\"nonzero\" fill-opacity=\"1\" /><path clip-path=\"url(#clip320)\" d=\"M1232.06 478.782 L1232.06 479.824 L1222.27 479.824 Q1222.41 482.023 1223.59 483.181 Q1224.78 484.326 1226.9 484.326 Q1228.13 484.326 1229.27 484.025 Q1230.43 483.725 1231.56 483.123 L1231.56 485.137 Q1230.42 485.623 1229.21 485.877 Q1228.01 486.132 1226.77 486.132 Q1223.67 486.132 1221.85 484.326 Q1220.05 482.521 1220.05 479.442 Q1220.05 476.259 1221.76 474.396 Q1223.48 472.521 1226.4 472.521 Q1229.02 472.521 1230.53 474.211 Q1232.06 475.889 1232.06 478.782 M1229.93 478.157 Q1229.91 476.41 1228.95 475.368 Q1228 474.326 1226.42 474.326 Q1224.64 474.326 1223.57 475.333 Q1222.5 476.34 1222.34 478.169 L1229.93 478.157 Z\" fill=\"#000000\" fill-rule=\"nonzero\" fill-opacity=\"1\" /><path clip-path=\"url(#clip320)\" d=\"M1243.07 474.824 Q1242.71 474.616 1242.28 474.523 Q1241.86 474.419 1241.35 474.419 Q1239.55 474.419 1238.58 475.6 Q1237.62 476.769 1237.62 478.968 L1237.62 485.796 L1235.47 485.796 L1235.47 472.833 L1237.62 472.833 L1237.62 474.847 Q1238.29 473.667 1239.36 473.1 Q1240.44 472.521 1241.98 472.521 Q1242.2 472.521 1242.47 472.556 Q1242.73 472.579 1243.06 472.637 L1243.07 474.824 Z\" fill=\"#000000\" fill-rule=\"nonzero\" fill-opacity=\"1\" /><path clip-path=\"url(#clip320)\" d=\"M1180.46 703.032 Q1181.21 703.287 1181.92 704.12 Q1182.63 704.954 1183.35 706.412 L1185.72 711.134 L1183.21 711.134 L1181 706.701 Q1180.14 704.965 1179.33 704.398 Q1178.54 703.831 1177.15 703.831 L1174.6 703.831 L1174.6 711.134 L1172.26 711.134 L1172.26 693.854 L1177.54 693.854 Q1180.5 693.854 1181.96 695.093 Q1183.42 696.331 1183.42 698.831 Q1183.42 700.463 1182.66 701.539 Q1181.9 702.616 1180.46 703.032 M1174.6 695.776 L1174.6 701.91 L1177.54 701.91 Q1179.23 701.91 1180.09 701.134 Q1180.95 700.347 1180.95 698.831 Q1180.95 697.315 1180.09 696.551 Q1179.23 695.776 1177.54 695.776 L1174.6 695.776 Z\" fill=\"#000000\" fill-rule=\"nonzero\" fill-opacity=\"1\" /><path clip-path=\"url(#clip320)\" d=\"M1198.66 704.12 L1198.66 705.162 L1188.87 705.162 Q1189.01 707.361 1190.19 708.519 Q1191.38 709.664 1193.5 709.664 Q1194.73 709.664 1195.87 709.363 Q1197.03 709.063 1198.17 708.461 L1198.17 710.475 Q1197.02 710.961 1195.82 711.215 Q1194.61 711.47 1193.37 711.47 Q1190.27 711.47 1188.45 709.664 Q1186.65 707.859 1186.65 704.78 Q1186.65 701.597 1188.36 699.734 Q1190.09 697.859 1193 697.859 Q1195.62 697.859 1197.13 699.549 Q1198.66 701.227 1198.66 704.12 M1196.53 703.495 Q1196.51 701.748 1195.55 700.706 Q1194.6 699.664 1193.03 699.664 Q1191.24 699.664 1190.17 700.671 Q1189.1 701.678 1188.94 703.507 L1196.53 703.495 Z\" fill=\"#000000\" fill-rule=\"nonzero\" fill-opacity=\"1\" /><path clip-path=\"url(#clip320)\" d=\"M1208.05 704.618 Q1205.47 704.618 1204.47 705.208 Q1203.48 705.799 1203.48 707.222 Q1203.48 708.357 1204.22 709.028 Q1204.97 709.688 1206.26 709.688 Q1208.03 709.688 1209.09 708.438 Q1210.17 707.176 1210.17 705.093 L1210.17 704.618 L1208.05 704.618 M1212.3 703.738 L1212.3 711.134 L1210.17 711.134 L1210.17 709.167 Q1209.44 710.347 1208.35 710.914 Q1207.26 711.47 1205.69 711.47 Q1203.7 711.47 1202.52 710.359 Q1201.35 709.236 1201.35 707.361 Q1201.35 705.174 1202.81 704.063 Q1204.28 702.951 1207.18 702.951 L1210.17 702.951 L1210.17 702.743 Q1210.17 701.273 1209.2 700.475 Q1208.23 699.664 1206.49 699.664 Q1205.38 699.664 1204.32 699.931 Q1203.27 700.197 1202.3 700.729 L1202.3 698.762 Q1203.47 698.31 1204.57 698.09 Q1205.67 697.859 1206.71 697.859 Q1209.52 697.859 1210.91 699.317 Q1212.3 700.776 1212.3 703.738 Z\" fill=\"#000000\" fill-rule=\"nonzero\" fill-opacity=\"1\" /><path clip-path=\"url(#clip320)\" d=\"M1216.68 693.125 L1218.81 693.125 L1218.81 711.134 L1216.68 711.134 L1216.68 693.125 Z\" fill=\"#000000\" fill-rule=\"nonzero\" fill-opacity=\"1\" /><path clip-path=\"url(#clip320)\" d=\"M1148.09 917.13 L1150.42 917.13 L1150.42 934.41 L1148.09 934.41 L1148.09 917.13 Z\" fill=\"#000000\" fill-rule=\"nonzero\" fill-opacity=\"1\" /><path clip-path=\"url(#clip320)\" d=\"M1165.76 926.586 L1165.76 934.41 L1163.63 934.41 L1163.63 926.656 Q1163.63 924.816 1162.91 923.901 Q1162.19 922.987 1160.76 922.987 Q1159.03 922.987 1158.04 924.086 Q1157.04 925.186 1157.04 927.084 L1157.04 934.41 L1154.9 934.41 L1154.9 921.447 L1157.04 921.447 L1157.04 923.461 Q1157.81 922.292 1158.84 921.714 Q1159.88 921.135 1161.23 921.135 Q1163.47 921.135 1164.61 922.524 Q1165.76 923.901 1165.76 926.586 Z\" fill=\"#000000\" fill-rule=\"nonzero\" fill-opacity=\"1\" /><path clip-path=\"url(#clip320)\" d=\"M1172.11 917.767 L1172.11 921.447 L1176.5 921.447 L1176.5 923.103 L1172.11 923.103 L1172.11 930.14 Q1172.11 931.725 1172.54 932.177 Q1172.98 932.628 1174.31 932.628 L1176.5 932.628 L1176.5 934.41 L1174.31 934.41 Q1171.85 934.41 1170.91 933.496 Q1169.97 932.57 1169.97 930.14 L1169.97 923.103 L1168.41 923.103 L1168.41 921.447 L1169.97 921.447 L1169.97 917.767 L1172.11 917.767 Z\" fill=\"#000000\" fill-rule=\"nonzero\" fill-opacity=\"1\" /><path clip-path=\"url(#clip320)\" d=\"M1190.39 927.397 L1190.39 928.438 L1180.6 928.438 Q1180.74 930.637 1181.92 931.795 Q1183.11 932.94 1185.23 932.94 Q1186.45 932.94 1187.6 932.64 Q1188.76 932.339 1189.89 931.737 L1189.89 933.751 Q1188.75 934.237 1187.54 934.491 Q1186.34 934.746 1185.1 934.746 Q1182 934.746 1180.18 932.94 Q1178.37 931.135 1178.37 928.056 Q1178.37 924.873 1180.09 923.01 Q1181.81 921.135 1184.73 921.135 Q1187.34 921.135 1188.86 922.825 Q1190.39 924.503 1190.39 927.397 M1188.26 926.772 Q1188.24 925.024 1187.28 923.982 Q1186.33 922.941 1184.75 922.941 Q1182.97 922.941 1181.89 923.947 Q1180.83 924.954 1180.67 926.783 L1188.26 926.772 Z\" fill=\"#000000\" fill-rule=\"nonzero\" fill-opacity=\"1\" /><path clip-path=\"url(#clip320)\" d=\"M1202.41 927.778 Q1202.41 925.464 1201.45 924.191 Q1200.5 922.917 1198.78 922.917 Q1197.07 922.917 1196.11 924.191 Q1195.16 925.464 1195.16 927.778 Q1195.16 930.082 1196.11 931.355 Q1197.07 932.628 1198.78 932.628 Q1200.5 932.628 1201.45 931.355 Q1202.41 930.082 1202.41 927.778 M1204.54 932.802 Q1204.54 936.112 1203.07 937.721 Q1201.6 939.341 1198.57 939.341 Q1197.45 939.341 1196.45 939.167 Q1195.46 939.005 1194.52 938.658 L1194.52 936.586 Q1195.46 937.096 1196.37 937.339 Q1197.29 937.582 1198.24 937.582 Q1200.33 937.582 1201.37 936.482 Q1202.41 935.394 1202.41 933.184 L1202.41 932.13 Q1201.75 933.276 1200.72 933.843 Q1199.69 934.41 1198.26 934.41 Q1195.87 934.41 1194.42 932.593 Q1192.96 930.776 1192.96 927.778 Q1192.96 924.769 1194.42 922.952 Q1195.87 921.135 1198.26 921.135 Q1199.69 921.135 1200.72 921.702 Q1201.75 922.269 1202.41 923.415 L1202.41 921.447 L1204.54 921.447 L1204.54 932.802 Z\" fill=\"#000000\" fill-rule=\"nonzero\" fill-opacity=\"1\" /><path clip-path=\"url(#clip320)\" d=\"M1220.02 927.397 L1220.02 928.438 L1210.23 928.438 Q1210.37 930.637 1211.55 931.795 Q1212.74 932.94 1214.86 932.94 Q1216.08 932.94 1217.23 932.64 Q1218.39 932.339 1219.52 931.737 L1219.52 933.751 Q1218.37 934.237 1217.17 934.491 Q1215.97 934.746 1214.73 934.746 Q1211.63 934.746 1209.81 932.94 Q1208 931.135 1208 928.056 Q1208 924.873 1209.72 923.01 Q1211.44 921.135 1214.36 921.135 Q1216.97 921.135 1218.49 922.825 Q1220.02 924.503 1220.02 927.397 M1217.89 926.772 Q1217.87 925.024 1216.9 923.982 Q1215.96 922.941 1214.38 922.941 Q1212.6 922.941 1211.52 923.947 Q1210.46 924.954 1210.3 926.783 L1217.89 926.772 Z\" fill=\"#000000\" fill-rule=\"nonzero\" fill-opacity=\"1\" /><path clip-path=\"url(#clip320)\" d=\"M1231.03 923.438 Q1230.67 923.23 1230.24 923.137 Q1229.82 923.033 1229.31 923.033 Q1227.51 923.033 1226.53 924.214 Q1225.57 925.383 1225.57 927.582 L1225.57 934.41 L1223.43 934.41 L1223.43 921.447 L1225.57 921.447 L1225.57 923.461 Q1226.25 922.281 1227.32 921.714 Q1228.4 921.135 1229.94 921.135 Q1230.16 921.135 1230.42 921.17 Q1230.69 921.193 1231.01 921.251 L1231.03 923.438 Z\" fill=\"#000000\" fill-rule=\"nonzero\" fill-opacity=\"1\" /><path clip-path=\"url(#clip320)\" d=\"M1267.85 1074.66 L1267.85 1080.99 L1271.6 1080.99 Q1273.48 1080.99 1274.39 1080.21 Q1275.3 1079.43 1275.3 1077.82 Q1275.3 1076.2 1274.39 1075.43 Q1273.48 1074.66 1271.6 1074.66 L1267.85 1074.66 M1267.85 1067.55 L1267.85 1072.76 L1271.31 1072.76 Q1273.02 1072.76 1273.85 1072.12 Q1274.7 1071.48 1274.7 1070.16 Q1274.7 1068.85 1273.85 1068.2 Q1273.02 1067.55 1271.31 1067.55 L1267.85 1067.55 M1265.51 1065.63 L1271.48 1065.63 Q1274.15 1065.63 1275.6 1066.74 Q1277.05 1067.85 1277.05 1069.9 Q1277.05 1071.49 1276.31 1072.42 Q1275.57 1073.36 1274.13 1073.59 Q1275.86 1073.96 1276.8 1075.14 Q1277.77 1076.31 1277.77 1078.07 Q1277.77 1080.39 1276.19 1081.65 Q1274.62 1082.91 1271.71 1082.91 L1265.51 1082.91 L1265.51 1065.63 Z\" fill=\"#000000\" fill-rule=\"nonzero\" fill-opacity=\"1\" /><path clip-path=\"url(#clip320)\" d=\"M1286.7 1071.44 Q1284.99 1071.44 1283.99 1072.78 Q1283 1074.11 1283 1076.44 Q1283 1078.77 1283.98 1080.11 Q1284.98 1081.44 1286.7 1081.44 Q1288.4 1081.44 1289.4 1080.1 Q1290.39 1078.76 1290.39 1076.44 Q1290.39 1074.14 1289.4 1072.79 Q1288.4 1071.44 1286.7 1071.44 M1286.7 1069.64 Q1289.48 1069.64 1291.06 1071.44 Q1292.65 1073.25 1292.65 1076.44 Q1292.65 1079.62 1291.06 1081.44 Q1289.48 1083.25 1286.7 1083.25 Q1283.91 1083.25 1282.33 1081.44 Q1280.75 1079.62 1280.75 1076.44 Q1280.75 1073.25 1282.33 1071.44 Q1283.91 1069.64 1286.7 1069.64 Z\" fill=\"#000000\" fill-rule=\"nonzero\" fill-opacity=\"1\" /><path clip-path=\"url(#clip320)\" d=\"M1301.2 1071.44 Q1299.49 1071.44 1298.49 1072.78 Q1297.5 1074.11 1297.5 1076.44 Q1297.5 1078.77 1298.48 1080.11 Q1299.48 1081.44 1301.2 1081.44 Q1302.9 1081.44 1303.9 1080.1 Q1304.9 1078.76 1304.9 1076.44 Q1304.9 1074.14 1303.9 1072.79 Q1302.9 1071.44 1301.2 1071.44 M1301.2 1069.64 Q1303.98 1069.64 1305.57 1071.44 Q1307.15 1073.25 1307.15 1076.44 Q1307.15 1079.62 1305.57 1081.44 Q1303.98 1083.25 1301.2 1083.25 Q1298.41 1083.25 1296.83 1081.44 Q1295.25 1079.62 1295.25 1076.44 Q1295.25 1073.25 1296.83 1071.44 Q1298.41 1069.64 1301.2 1069.64 Z\" fill=\"#000000\" fill-rule=\"nonzero\" fill-opacity=\"1\" /><path clip-path=\"url(#clip320)\" d=\"M1310.68 1064.9 L1312.81 1064.9 L1312.81 1082.91 L1310.68 1082.91 L1310.68 1064.9 Z\" fill=\"#000000\" fill-rule=\"nonzero\" fill-opacity=\"1\" /><path clip-path=\"url(#clip320)\" d=\"M1021.52 1130.87 Q1018.98 1130.87 1017.47 1132.77 Q1015.98 1134.67 1015.98 1137.95 Q1015.98 1141.21 1017.47 1143.11 Q1018.98 1145.01 1021.52 1145.01 Q1024.07 1145.01 1025.55 1143.11 Q1027.04 1141.21 1027.04 1137.95 Q1027.04 1134.67 1025.55 1132.77 Q1024.07 1130.87 1021.52 1130.87 M1021.52 1128.98 Q1025.16 1128.98 1027.33 1131.42 Q1029.51 1133.85 1029.51 1137.95 Q1029.51 1142.03 1027.33 1144.47 Q1025.16 1146.9 1021.52 1146.9 Q1017.88 1146.9 1015.69 1144.47 Q1013.51 1142.04 1013.51 1137.95 Q1013.51 1133.85 1015.69 1131.42 Q1017.88 1128.98 1021.52 1128.98 Z\" fill=\"#000000\" fill-rule=\"nonzero\" fill-opacity=\"1\" /><path clip-path=\"url(#clip320)\" d=\"M1039.64 1128.56 L1039.64 1130.33 L1037.6 1130.33 Q1036.45 1130.33 1036 1130.79 Q1035.56 1131.26 1035.56 1132.46 L1035.56 1133.61 L1039.07 1133.61 L1039.07 1135.26 L1035.56 1135.26 L1035.56 1146.57 L1033.42 1146.57 L1033.42 1135.26 L1031.38 1135.26 L1031.38 1133.61 L1033.42 1133.61 L1033.42 1132.7 Q1033.42 1130.54 1034.43 1129.55 Q1035.43 1128.56 1037.62 1128.56 L1039.64 1128.56 Z\" fill=\"#000000\" fill-rule=\"nonzero\" fill-opacity=\"1\" /><path clip-path=\"url(#clip320)\" d=\"M1047.98 1128.56 L1047.98 1130.33 L1045.94 1130.33 Q1044.8 1130.33 1044.35 1130.79 Q1043.91 1131.26 1043.91 1132.46 L1043.91 1133.61 L1047.41 1133.61 L1047.41 1135.26 L1043.91 1135.26 L1043.91 1146.57 L1041.77 1146.57 L1041.77 1135.26 L1039.73 1135.26 L1039.73 1133.61 L1041.77 1133.61 L1041.77 1132.7 Q1041.77 1130.54 1042.77 1129.55 Q1043.78 1128.56 1045.97 1128.56 L1047.98 1128.56 Z\" fill=\"#000000\" fill-rule=\"nonzero\" fill-opacity=\"1\" /><path clip-path=\"url(#clip320)\" d=\"M1058.03 1133.99 L1058.03 1136 Q1057.12 1135.54 1056.15 1135.31 Q1055.18 1135.08 1054.14 1135.08 Q1052.55 1135.08 1051.75 1135.56 Q1050.97 1136.05 1050.97 1137.02 Q1050.97 1137.76 1051.53 1138.19 Q1052.1 1138.61 1053.81 1138.99 L1054.54 1139.15 Q1056.81 1139.64 1057.76 1140.53 Q1058.72 1141.41 1058.72 1142.99 Q1058.72 1144.8 1057.29 1145.85 Q1055.86 1146.9 1053.36 1146.9 Q1052.32 1146.9 1051.19 1146.7 Q1050.06 1146.5 1048.81 1146.09 L1048.81 1143.89 Q1049.99 1144.51 1051.14 1144.82 Q1052.29 1145.12 1053.41 1145.12 Q1054.91 1145.12 1055.72 1144.61 Q1056.53 1144.09 1056.53 1143.15 Q1056.53 1142.29 1055.94 1141.82 Q1055.36 1141.36 1053.39 1140.93 L1052.64 1140.76 Q1050.67 1140.34 1049.79 1139.48 Q1048.91 1138.62 1048.91 1137.11 Q1048.91 1135.28 1050.2 1134.29 Q1051.5 1133.29 1053.88 1133.29 Q1055.06 1133.29 1056.11 1133.47 Q1057.15 1133.64 1058.03 1133.99 Z\" fill=\"#000000\" fill-rule=\"nonzero\" fill-opacity=\"1\" /><path clip-path=\"url(#clip320)\" d=\"M1073.2 1139.55 L1073.2 1140.6 L1063.41 1140.6 Q1063.55 1142.8 1064.73 1143.95 Q1065.92 1145.1 1068.04 1145.1 Q1069.27 1145.1 1070.41 1144.8 Q1071.57 1144.5 1072.7 1143.89 L1072.7 1145.91 Q1071.56 1146.39 1070.35 1146.65 Q1069.15 1146.9 1067.91 1146.9 Q1064.81 1146.9 1062.99 1145.1 Q1061.19 1143.29 1061.19 1140.21 Q1061.19 1137.03 1062.9 1135.17 Q1064.62 1133.29 1067.54 1133.29 Q1070.16 1133.29 1071.67 1134.98 Q1073.2 1136.66 1073.2 1139.55 M1071.07 1138.93 Q1071.05 1137.18 1070.09 1136.14 Q1069.14 1135.1 1067.56 1135.1 Q1065.78 1135.1 1064.71 1136.11 Q1063.64 1137.11 1063.48 1138.94 L1071.07 1138.93 Z\" fill=\"#000000\" fill-rule=\"nonzero\" fill-opacity=\"1\" /><path clip-path=\"url(#clip320)\" d=\"M1078.8 1129.92 L1078.8 1133.61 L1083.19 1133.61 L1083.19 1135.26 L1078.8 1135.26 L1078.8 1142.3 Q1078.8 1143.88 1079.23 1144.33 Q1079.67 1144.79 1081 1144.79 L1083.19 1144.79 L1083.19 1146.57 L1081 1146.57 Q1078.54 1146.57 1077.6 1145.65 Q1076.66 1144.73 1076.66 1142.3 L1076.66 1135.26 L1075.1 1135.26 L1075.1 1133.61 L1076.66 1133.61 L1076.66 1129.92 L1078.8 1129.92 Z\" fill=\"#000000\" fill-rule=\"nonzero\" fill-opacity=\"1\" /><path clip-path=\"url(#clip320)\" d=\"M1086.08 1129.29 L1088.42 1129.29 L1088.42 1146.57 L1086.08 1146.57 L1086.08 1129.29 Z\" fill=\"#000000\" fill-rule=\"nonzero\" fill-opacity=\"1\" /><path clip-path=\"url(#clip320)\" d=\"M1103.76 1138.74 L1103.76 1146.57 L1101.63 1146.57 L1101.63 1138.81 Q1101.63 1136.97 1100.91 1136.06 Q1100.19 1135.14 1098.76 1135.14 Q1097.03 1135.14 1096.04 1136.24 Q1095.04 1137.34 1095.04 1139.24 L1095.04 1146.57 L1092.9 1146.57 L1092.9 1133.61 L1095.04 1133.61 L1095.04 1135.62 Q1095.8 1134.45 1096.83 1133.87 Q1097.88 1133.29 1099.23 1133.29 Q1101.46 1133.29 1102.61 1134.68 Q1103.76 1136.06 1103.76 1138.74 Z\" fill=\"#000000\" fill-rule=\"nonzero\" fill-opacity=\"1\" /><path clip-path=\"url(#clip320)\" d=\"M1110.11 1129.92 L1110.11 1133.61 L1114.5 1133.61 L1114.5 1135.26 L1110.11 1135.26 L1110.11 1142.3 Q1110.11 1143.88 1110.54 1144.33 Q1110.98 1144.79 1112.31 1144.79 L1114.5 1144.79 L1114.5 1146.57 L1112.31 1146.57 Q1109.84 1146.57 1108.91 1145.65 Q1107.97 1144.73 1107.97 1142.3 L1107.97 1135.26 L1106.41 1135.26 L1106.41 1133.61 L1107.97 1133.61 L1107.97 1129.92 L1110.11 1129.92 Z\" fill=\"#000000\" fill-rule=\"nonzero\" fill-opacity=\"1\" /><path clip-path=\"url(#clip320)\" d=\"M1128.39 1139.55 L1128.39 1140.6 L1118.59 1140.6 Q1118.73 1142.8 1119.91 1143.95 Q1121.11 1145.1 1123.22 1145.1 Q1124.45 1145.1 1125.6 1144.8 Q1126.75 1144.5 1127.89 1143.89 L1127.89 1145.91 Q1126.74 1146.39 1125.54 1146.65 Q1124.33 1146.9 1123.1 1146.9 Q1119.99 1146.9 1118.18 1145.1 Q1116.37 1143.29 1116.37 1140.21 Q1116.37 1137.03 1118.08 1135.17 Q1119.81 1133.29 1122.73 1133.29 Q1125.34 1133.29 1126.86 1134.98 Q1128.39 1136.66 1128.39 1139.55 M1126.26 1138.93 Q1126.23 1137.18 1125.27 1136.14 Q1124.32 1135.1 1122.75 1135.1 Q1120.97 1135.1 1119.89 1136.11 Q1118.83 1137.11 1118.66 1138.94 L1126.26 1138.93 Z\" fill=\"#000000\" fill-rule=\"nonzero\" fill-opacity=\"1\" /><path clip-path=\"url(#clip320)\" d=\"M1140.41 1139.94 Q1140.41 1137.62 1139.45 1136.35 Q1138.5 1135.08 1136.78 1135.08 Q1135.06 1135.08 1134.1 1136.35 Q1133.15 1137.62 1133.15 1139.94 Q1133.15 1142.24 1134.1 1143.51 Q1135.06 1144.79 1136.78 1144.79 Q1138.5 1144.79 1139.45 1143.51 Q1140.41 1142.24 1140.41 1139.94 M1142.54 1144.96 Q1142.54 1148.27 1141.07 1149.88 Q1139.6 1151.5 1136.57 1151.5 Q1135.45 1151.5 1134.45 1151.33 Q1133.45 1151.16 1132.52 1150.82 L1132.52 1148.74 Q1133.45 1149.25 1134.37 1149.5 Q1135.28 1149.74 1136.23 1149.74 Q1138.33 1149.74 1139.37 1148.64 Q1140.41 1147.55 1140.41 1145.34 L1140.41 1144.29 Q1139.75 1145.43 1138.72 1146 Q1137.69 1146.57 1136.26 1146.57 Q1133.87 1146.57 1132.41 1144.75 Q1130.95 1142.93 1130.95 1139.94 Q1130.95 1136.93 1132.41 1135.11 Q1133.87 1133.29 1136.26 1133.29 Q1137.69 1133.29 1138.72 1133.86 Q1139.75 1134.43 1140.41 1135.57 L1140.41 1133.61 L1142.54 1133.61 L1142.54 1144.96 Z\" fill=\"#000000\" fill-rule=\"nonzero\" fill-opacity=\"1\" /><path clip-path=\"url(#clip320)\" d=\"M1158.01 1139.55 L1158.01 1140.6 L1148.22 1140.6 Q1148.36 1142.8 1149.54 1143.95 Q1150.73 1145.1 1152.85 1145.1 Q1154.08 1145.1 1155.23 1144.8 Q1156.38 1144.5 1157.52 1143.89 L1157.52 1145.91 Q1156.37 1146.39 1155.17 1146.65 Q1153.96 1146.9 1152.73 1146.9 Q1149.62 1146.9 1147.81 1145.1 Q1146 1143.29 1146 1140.21 Q1146 1137.03 1147.71 1135.17 Q1149.44 1133.29 1152.36 1133.29 Q1154.97 1133.29 1156.49 1134.98 Q1158.01 1136.66 1158.01 1139.55 M1155.89 1138.93 Q1155.86 1137.18 1154.9 1136.14 Q1153.95 1135.1 1152.38 1135.1 Q1150.6 1135.1 1149.52 1136.11 Q1148.45 1137.11 1148.29 1138.94 L1155.89 1138.93 Z\" fill=\"#000000\" fill-rule=\"nonzero\" fill-opacity=\"1\" /><path clip-path=\"url(#clip320)\" d=\"M1169.02 1135.6 Q1168.66 1135.39 1168.23 1135.3 Q1167.82 1135.19 1167.31 1135.19 Q1165.5 1135.19 1164.53 1136.37 Q1163.57 1137.54 1163.57 1139.74 L1163.57 1146.57 L1161.43 1146.57 L1161.43 1133.61 L1163.57 1133.61 L1163.57 1135.62 Q1164.24 1134.44 1165.32 1133.87 Q1166.39 1133.29 1167.93 1133.29 Q1168.15 1133.29 1168.42 1133.33 Q1168.69 1133.35 1169.01 1133.41 L1169.02 1135.6 Z\" fill=\"#000000\" fill-rule=\"nonzero\" fill-opacity=\"1\" /><path clip-path=\"url(#clip320)\" d=\"M1114.31 1119.54 Q1111.77 1119.54 1110.26 1121.44 Q1108.77 1123.34 1108.77 1126.61 Q1108.77 1129.88 1110.26 1131.78 Q1111.77 1133.67 1114.31 1133.67 Q1116.86 1133.67 1118.34 1131.78 Q1119.84 1129.88 1119.84 1126.61 Q1119.84 1123.34 1118.34 1121.44 Q1116.86 1119.54 1114.31 1119.54 M1114.31 1117.64 Q1117.95 1117.64 1120.13 1120.09 Q1122.3 1122.52 1122.3 1126.61 Q1122.3 1130.7 1120.13 1133.14 Q1117.95 1135.57 1114.31 1135.57 Q1110.67 1135.57 1108.48 1133.14 Q1106.31 1130.71 1106.31 1126.61 Q1106.31 1122.52 1108.48 1120.09 Q1110.67 1117.64 1114.31 1117.64 Z\" fill=\"#000000\" fill-rule=\"nonzero\" fill-opacity=\"1\" /><path clip-path=\"url(#clip320)\" d=\"M1132.43 1117.23 L1132.43 1119 L1130.39 1119 Q1129.25 1119 1128.79 1119.46 Q1128.35 1119.92 1128.35 1121.13 L1128.35 1122.27 L1131.86 1122.27 L1131.86 1123.93 L1128.35 1123.93 L1128.35 1135.24 L1126.21 1135.24 L1126.21 1123.93 L1124.18 1123.93 L1124.18 1122.27 L1126.21 1122.27 L1126.21 1121.37 Q1126.21 1119.21 1127.22 1118.22 Q1128.23 1117.23 1130.41 1117.23 L1132.43 1117.23 Z\" fill=\"#000000\" fill-rule=\"nonzero\" fill-opacity=\"1\" /><path clip-path=\"url(#clip320)\" d=\"M1140.77 1117.23 L1140.77 1119 L1138.74 1119 Q1137.59 1119 1137.14 1119.46 Q1136.7 1119.92 1136.7 1121.13 L1136.7 1122.27 L1140.21 1122.27 L1140.21 1123.93 L1136.7 1123.93 L1136.7 1135.24 L1134.56 1135.24 L1134.56 1123.93 L1132.52 1123.93 L1132.52 1122.27 L1134.56 1122.27 L1134.56 1121.37 Q1134.56 1119.21 1135.56 1118.22 Q1136.57 1117.23 1138.76 1117.23 L1140.77 1117.23 Z\" fill=\"#000000\" fill-rule=\"nonzero\" fill-opacity=\"1\" /><path clip-path=\"url(#clip320)\" d=\"M1150.82 1122.66 L1150.82 1124.67 Q1149.92 1124.21 1148.94 1123.98 Q1147.97 1123.74 1146.93 1123.74 Q1145.34 1123.74 1144.55 1124.23 Q1143.76 1124.72 1143.76 1125.69 Q1143.76 1126.43 1144.33 1126.86 Q1144.89 1127.27 1146.61 1127.66 L1147.34 1127.82 Q1149.6 1128.3 1150.55 1129.2 Q1151.51 1130.08 1151.51 1131.66 Q1151.51 1133.47 1150.08 1134.52 Q1148.66 1135.57 1146.16 1135.57 Q1145.11 1135.57 1143.98 1135.36 Q1142.86 1135.17 1141.61 1134.76 L1141.61 1132.56 Q1142.79 1133.18 1143.93 1133.49 Q1145.08 1133.79 1146.2 1133.79 Q1147.71 1133.79 1148.52 1133.28 Q1149.33 1132.76 1149.33 1131.82 Q1149.33 1130.95 1148.74 1130.49 Q1148.16 1130.03 1146.18 1129.6 L1145.44 1129.43 Q1143.46 1129.01 1142.58 1128.15 Q1141.7 1127.29 1141.7 1125.78 Q1141.7 1123.95 1143 1122.96 Q1144.29 1121.96 1146.68 1121.96 Q1147.86 1121.96 1148.9 1122.14 Q1149.94 1122.31 1150.82 1122.66 Z\" fill=\"#000000\" fill-rule=\"nonzero\" fill-opacity=\"1\" /><path clip-path=\"url(#clip320)\" d=\"M1165.99 1128.22 L1165.99 1129.26 L1156.2 1129.26 Q1156.34 1131.46 1157.52 1132.62 Q1158.71 1133.77 1160.83 1133.77 Q1162.06 1133.77 1163.2 1133.47 Q1164.36 1133.17 1165.5 1132.56 L1165.5 1134.58 Q1164.35 1135.06 1163.15 1135.32 Q1161.94 1135.57 1160.7 1135.57 Q1157.6 1135.57 1155.78 1133.77 Q1153.98 1131.96 1153.98 1128.88 Q1153.98 1125.7 1155.69 1123.84 Q1157.42 1121.96 1160.33 1121.96 Q1162.95 1121.96 1164.47 1123.65 Q1165.99 1125.33 1165.99 1128.22 M1163.86 1127.6 Q1163.84 1125.85 1162.88 1124.81 Q1161.93 1123.77 1160.36 1123.77 Q1158.57 1123.77 1157.5 1124.77 Q1156.43 1125.78 1156.27 1127.61 L1163.86 1127.6 Z\" fill=\"#000000\" fill-rule=\"nonzero\" fill-opacity=\"1\" /><path clip-path=\"url(#clip320)\" d=\"M1171.59 1118.59 L1171.59 1122.27 L1175.98 1122.27 L1175.98 1123.93 L1171.59 1123.93 L1171.59 1130.97 Q1171.59 1132.55 1172.02 1133 Q1172.46 1133.45 1173.79 1133.45 L1175.98 1133.45 L1175.98 1135.24 L1173.79 1135.24 Q1171.33 1135.24 1170.39 1134.32 Q1169.45 1133.4 1169.45 1130.97 L1169.45 1123.93 L1167.89 1123.93 L1167.89 1122.27 L1169.45 1122.27 L1169.45 1118.59 L1171.59 1118.59 Z\" fill=\"#000000\" fill-rule=\"nonzero\" fill-opacity=\"1\" /><path clip-path=\"url(#clip320)\" d=\"M1178.87 1117.96 L1181.21 1117.96 L1181.21 1135.24 L1178.87 1135.24 L1178.87 1117.96 Z\" fill=\"#000000\" fill-rule=\"nonzero\" fill-opacity=\"1\" /><path clip-path=\"url(#clip320)\" d=\"M1196.55 1127.41 L1196.55 1135.24 L1194.42 1135.24 L1194.42 1127.48 Q1194.42 1125.64 1193.7 1124.73 Q1192.98 1123.81 1191.55 1123.81 Q1189.82 1123.81 1188.83 1124.91 Q1187.83 1126.01 1187.83 1127.91 L1187.83 1135.24 L1185.69 1135.24 L1185.69 1122.27 L1187.83 1122.27 L1187.83 1124.29 Q1188.6 1123.12 1189.63 1122.54 Q1190.67 1121.96 1192.02 1121.96 Q1194.26 1121.96 1195.4 1123.35 Q1196.55 1124.73 1196.55 1127.41 Z\" fill=\"#000000\" fill-rule=\"nonzero\" fill-opacity=\"1\" /><path clip-path=\"url(#clip320)\" d=\"M1202.9 1118.59 L1202.9 1122.27 L1207.29 1122.27 L1207.29 1123.93 L1202.9 1123.93 L1202.9 1130.97 Q1202.9 1132.55 1203.33 1133 Q1203.77 1133.45 1205.1 1133.45 L1207.29 1133.45 L1207.29 1135.24 L1205.1 1135.24 Q1202.64 1135.24 1201.7 1134.32 Q1200.76 1133.4 1200.76 1130.97 L1200.76 1123.93 L1199.2 1123.93 L1199.2 1122.27 L1200.76 1122.27 L1200.76 1118.59 L1202.9 1118.59 Z\" fill=\"#000000\" fill-rule=\"nonzero\" fill-opacity=\"1\" /><path clip-path=\"url(#clip320)\" d=\"M1221.18 1128.22 L1221.18 1129.26 L1211.39 1129.26 Q1211.53 1131.46 1212.71 1132.62 Q1213.9 1133.77 1216.02 1133.77 Q1217.24 1133.77 1218.39 1133.47 Q1219.55 1133.17 1220.68 1132.56 L1220.68 1134.58 Q1219.53 1135.06 1218.33 1135.32 Q1217.13 1135.57 1215.89 1135.57 Q1212.79 1135.57 1210.97 1133.77 Q1209.16 1131.96 1209.16 1128.88 Q1209.16 1125.7 1210.88 1123.84 Q1212.6 1121.96 1215.52 1121.96 Q1218.13 1121.96 1219.65 1123.65 Q1221.18 1125.33 1221.18 1128.22 M1219.05 1127.6 Q1219.03 1125.85 1218.06 1124.81 Q1217.12 1123.77 1215.54 1123.77 Q1213.76 1123.77 1212.68 1124.77 Q1211.62 1125.78 1211.46 1127.61 L1219.05 1127.6 Z\" fill=\"#000000\" fill-rule=\"nonzero\" fill-opacity=\"1\" /><path clip-path=\"url(#clip320)\" d=\"M1233.2 1128.61 Q1233.2 1126.29 1232.24 1125.02 Q1231.29 1123.74 1229.57 1123.74 Q1227.86 1123.74 1226.9 1125.02 Q1225.95 1126.29 1225.95 1128.61 Q1225.95 1130.91 1226.9 1132.18 Q1227.86 1133.45 1229.57 1133.45 Q1231.29 1133.45 1232.24 1132.18 Q1233.2 1130.91 1233.2 1128.61 M1235.33 1133.63 Q1235.33 1136.94 1233.86 1138.55 Q1232.39 1140.17 1229.36 1140.17 Q1228.24 1140.17 1227.24 1139.99 Q1226.25 1139.83 1225.31 1139.48 L1225.31 1137.41 Q1226.25 1137.92 1227.16 1138.17 Q1228.08 1138.41 1229.03 1138.41 Q1231.12 1138.41 1232.16 1137.31 Q1233.2 1136.22 1233.2 1134.01 L1233.2 1132.96 Q1232.54 1134.1 1231.51 1134.67 Q1230.48 1135.24 1229.05 1135.24 Q1226.66 1135.24 1225.21 1133.42 Q1223.75 1131.6 1223.75 1128.61 Q1223.75 1125.6 1225.21 1123.78 Q1226.66 1121.96 1229.05 1121.96 Q1230.48 1121.96 1231.51 1122.53 Q1232.54 1123.1 1233.2 1124.24 L1233.2 1122.27 L1235.33 1122.27 L1235.33 1133.63 Z\" fill=\"#000000\" fill-rule=\"nonzero\" fill-opacity=\"1\" /><path clip-path=\"url(#clip320)\" d=\"M1250.81 1128.22 L1250.81 1129.26 L1241.02 1129.26 Q1241.15 1131.46 1242.34 1132.62 Q1243.53 1133.77 1245.65 1133.77 Q1246.87 1133.77 1248.02 1133.47 Q1249.18 1133.17 1250.31 1132.56 L1250.31 1134.58 Q1249.16 1135.06 1247.96 1135.32 Q1246.76 1135.57 1245.52 1135.57 Q1242.42 1135.57 1240.6 1133.77 Q1238.79 1131.96 1238.79 1128.88 Q1238.79 1125.7 1240.51 1123.84 Q1242.23 1121.96 1245.15 1121.96 Q1247.76 1121.96 1249.28 1123.65 Q1250.81 1125.33 1250.81 1128.22 M1248.68 1127.6 Q1248.65 1125.85 1247.69 1124.81 Q1246.74 1123.77 1245.17 1123.77 Q1243.39 1123.77 1242.31 1124.77 Q1241.25 1125.78 1241.09 1127.61 L1248.68 1127.6 Z\" fill=\"#000000\" fill-rule=\"nonzero\" fill-opacity=\"1\" /><path clip-path=\"url(#clip320)\" d=\"M1261.81 1124.26 Q1261.46 1124.06 1261.03 1123.96 Q1260.61 1123.86 1260.1 1123.86 Q1258.3 1123.86 1257.32 1125.04 Q1256.36 1126.21 1256.36 1128.41 L1256.36 1135.24 L1254.22 1135.24 L1254.22 1122.27 L1256.36 1122.27 L1256.36 1124.29 Q1257.03 1123.11 1258.11 1122.54 Q1259.19 1121.96 1260.73 1121.96 Q1260.95 1121.96 1261.21 1122 Q1261.48 1122.02 1261.8 1122.08 L1261.81 1124.26 Z\" fill=\"#000000\" fill-rule=\"nonzero\" fill-opacity=\"1\" /><path clip-path=\"url(#clip320)\" d=\"M1440.04 1096.62 L1440.04 1098.9 Q1438.71 1098.27 1437.53 1097.95 Q1436.35 1097.64 1435.25 1097.64 Q1433.34 1097.64 1432.3 1098.38 Q1431.27 1099.12 1431.27 1100.49 Q1431.27 1101.64 1431.95 1102.23 Q1432.65 1102.8 1434.57 1103.16 L1435.98 1103.45 Q1438.6 1103.95 1439.84 1105.21 Q1441.09 1106.46 1441.09 1108.57 Q1441.09 1111.08 1439.4 1112.38 Q1437.72 1113.67 1434.47 1113.67 Q1433.24 1113.67 1431.85 1113.39 Q1430.47 1113.12 1428.99 1112.57 L1428.99 1110.17 Q1430.41 1110.96 1431.78 1111.37 Q1433.15 1111.77 1434.47 1111.77 Q1436.47 1111.77 1437.56 1110.99 Q1438.64 1110.2 1438.64 1108.74 Q1438.64 1107.47 1437.86 1106.75 Q1437.08 1106.03 1435.3 1105.67 L1433.88 1105.4 Q1431.26 1104.88 1430.09 1103.77 Q1428.92 1102.65 1428.92 1100.67 Q1428.92 1098.38 1430.53 1097.06 Q1432.15 1095.74 1434.99 1095.74 Q1436.2 1095.74 1437.46 1095.96 Q1438.72 1096.18 1440.04 1096.62 Z\" fill=\"#000000\" fill-rule=\"nonzero\" fill-opacity=\"1\" /><path clip-path=\"url(#clip320)\" d=\"M1444.64 1100.37 L1446.77 1100.37 L1446.77 1113.34 L1444.64 1113.34 L1444.64 1100.37 M1444.64 1095.33 L1446.77 1095.33 L1446.77 1098.02 L1444.64 1098.02 L1444.64 1095.33 Z\" fill=\"#000000\" fill-rule=\"nonzero\" fill-opacity=\"1\" /><path clip-path=\"url(#clip320)\" d=\"M1459.75 1106.7 Q1459.75 1104.39 1458.79 1103.12 Q1457.84 1101.84 1456.12 1101.84 Q1454.41 1101.84 1453.45 1103.12 Q1452.5 1104.39 1452.5 1106.7 Q1452.5 1109.01 1453.45 1110.28 Q1454.41 1111.55 1456.12 1111.55 Q1457.84 1111.55 1458.79 1110.28 Q1459.75 1109.01 1459.75 1106.7 M1461.88 1111.73 Q1461.88 1115.04 1460.41 1116.65 Q1458.94 1118.27 1455.91 1118.27 Q1454.79 1118.27 1453.79 1118.09 Q1452.8 1117.93 1451.86 1117.58 L1451.86 1115.51 Q1452.8 1116.02 1453.71 1116.26 Q1454.63 1116.51 1455.58 1116.51 Q1457.67 1116.51 1458.71 1115.41 Q1459.75 1114.32 1459.75 1112.11 L1459.75 1111.06 Q1459.09 1112.2 1458.06 1112.77 Q1457.03 1113.34 1455.6 1113.34 Q1453.22 1113.34 1451.76 1111.52 Q1450.3 1109.7 1450.3 1106.7 Q1450.3 1103.7 1451.76 1101.88 Q1453.22 1100.06 1455.6 1100.06 Q1457.03 1100.06 1458.06 1100.63 Q1459.09 1101.2 1459.75 1102.34 L1459.75 1100.37 L1461.88 1100.37 L1461.88 1111.73 Z\" fill=\"#000000\" fill-rule=\"nonzero\" fill-opacity=\"1\" /><path clip-path=\"url(#clip320)\" d=\"M1477.05 1105.51 L1477.05 1113.34 L1474.92 1113.34 L1474.92 1105.58 Q1474.92 1103.74 1474.2 1102.83 Q1473.48 1101.91 1472.05 1101.91 Q1470.32 1101.91 1469.33 1103.01 Q1468.33 1104.11 1468.33 1106.01 L1468.33 1113.34 L1466.19 1113.34 L1466.19 1100.37 L1468.33 1100.37 L1468.33 1102.39 Q1469.09 1101.22 1470.12 1100.64 Q1471.17 1100.06 1472.52 1100.06 Q1474.75 1100.06 1475.9 1101.45 Q1477.05 1102.83 1477.05 1105.51 Z\" fill=\"#000000\" fill-rule=\"nonzero\" fill-opacity=\"1\" /><path clip-path=\"url(#clip320)\" d=\"M1492.38 1106.32 L1492.38 1107.36 L1482.59 1107.36 Q1482.73 1109.56 1483.91 1110.72 Q1485.1 1111.87 1487.22 1111.87 Q1488.45 1111.87 1489.59 1111.57 Q1490.75 1111.26 1491.88 1110.66 L1491.88 1112.68 Q1490.74 1113.16 1489.53 1113.42 Q1488.33 1113.67 1487.09 1113.67 Q1483.99 1113.67 1482.17 1111.87 Q1480.37 1110.06 1480.37 1106.98 Q1480.37 1103.8 1482.08 1101.94 Q1483.81 1100.06 1486.72 1100.06 Q1489.34 1100.06 1490.85 1101.75 Q1492.38 1103.43 1492.38 1106.32 M1490.25 1105.7 Q1490.23 1103.95 1489.27 1102.91 Q1488.32 1101.87 1486.75 1101.87 Q1484.96 1101.87 1483.89 1102.87 Q1482.82 1103.88 1482.66 1105.71 L1490.25 1105.7 Z\" fill=\"#000000\" fill-rule=\"nonzero\" fill-opacity=\"1\" /><path clip-path=\"url(#clip320)\" d=\"M1504.41 1102.34 L1504.41 1095.33 L1506.54 1095.33 L1506.54 1113.34 L1504.41 1113.34 L1504.41 1111.39 Q1503.74 1112.55 1502.71 1113.12 Q1501.69 1113.67 1500.25 1113.67 Q1497.9 1113.67 1496.42 1111.8 Q1494.95 1109.92 1494.95 1106.87 Q1494.95 1103.81 1496.42 1101.94 Q1497.9 1100.06 1500.25 1100.06 Q1501.69 1100.06 1502.71 1100.63 Q1503.74 1101.18 1504.41 1102.34 M1497.15 1106.87 Q1497.15 1109.22 1498.11 1110.56 Q1499.08 1111.89 1500.77 1111.89 Q1502.46 1111.89 1503.43 1110.56 Q1504.41 1109.22 1504.41 1106.87 Q1504.41 1104.52 1503.43 1103.19 Q1502.46 1101.84 1500.77 1101.84 Q1499.08 1101.84 1498.11 1103.19 Q1497.15 1104.52 1497.15 1106.87 Z\" fill=\"#000000\" fill-rule=\"nonzero\" fill-opacity=\"1\" /><path clip-path=\"url(#clip320)\" d=\"M1572.48 1230.96 L1572.48 1237.29 L1576.23 1237.29 Q1578.12 1237.29 1579.02 1236.51 Q1579.93 1235.72 1579.93 1234.12 Q1579.93 1232.5 1579.02 1231.73 Q1578.12 1230.96 1576.23 1230.96 L1572.48 1230.96 M1572.48 1223.85 L1572.48 1229.06 L1575.94 1229.06 Q1577.65 1229.06 1578.49 1228.42 Q1579.33 1227.77 1579.33 1226.45 Q1579.33 1225.15 1578.49 1224.5 Q1577.65 1223.85 1575.94 1223.85 L1572.48 1223.85 M1570.14 1221.93 L1576.11 1221.93 Q1578.79 1221.93 1580.24 1223.04 Q1581.68 1224.15 1581.68 1226.2 Q1581.68 1227.78 1580.94 1228.72 Q1580.2 1229.66 1578.77 1229.89 Q1580.49 1230.26 1581.44 1231.44 Q1582.4 1232.61 1582.4 1234.37 Q1582.4 1236.68 1580.83 1237.95 Q1579.25 1239.21 1576.35 1239.21 L1570.14 1239.21 L1570.14 1221.93 Z\" fill=\"#000000\" fill-rule=\"nonzero\" fill-opacity=\"1\" /><path clip-path=\"url(#clip320)\" d=\"M1586.31 1226.25 L1588.44 1226.25 L1588.44 1239.21 L1586.31 1239.21 L1586.31 1226.25 M1586.31 1221.2 L1588.44 1221.2 L1588.44 1223.9 L1586.31 1223.9 L1586.31 1221.2 Z\" fill=\"#000000\" fill-rule=\"nonzero\" fill-opacity=\"1\" /><path clip-path=\"url(#clip320)\" d=\"M1601.43 1232.58 Q1601.43 1230.26 1600.47 1228.99 Q1599.52 1227.72 1597.79 1227.72 Q1596.08 1227.72 1595.12 1228.99 Q1594.17 1230.26 1594.17 1232.58 Q1594.17 1234.88 1595.12 1236.15 Q1596.08 1237.43 1597.79 1237.43 Q1599.52 1237.43 1600.47 1236.15 Q1601.43 1234.88 1601.43 1232.58 M1603.56 1237.6 Q1603.56 1240.91 1602.09 1242.52 Q1600.62 1244.14 1597.58 1244.14 Q1596.46 1244.14 1595.47 1243.96 Q1594.47 1243.8 1593.53 1243.46 L1593.53 1241.38 Q1594.47 1241.89 1595.39 1242.14 Q1596.3 1242.38 1597.25 1242.38 Q1599.34 1242.38 1600.39 1241.28 Q1601.43 1240.19 1601.43 1237.98 L1601.43 1236.93 Q1600.77 1238.07 1599.74 1238.64 Q1598.71 1239.21 1597.27 1239.21 Q1594.89 1239.21 1593.43 1237.39 Q1591.97 1235.57 1591.97 1232.58 Q1591.97 1229.57 1593.43 1227.75 Q1594.89 1225.93 1597.27 1225.93 Q1598.71 1225.93 1599.74 1226.5 Q1600.77 1227.07 1601.43 1228.21 L1601.43 1226.25 L1603.56 1226.25 L1603.56 1237.6 Z\" fill=\"#000000\" fill-rule=\"nonzero\" fill-opacity=\"1\" /><path clip-path=\"url(#clip320)\" d=\"M1608.04 1221.93 L1610.37 1221.93 L1610.37 1239.21 L1608.04 1239.21 L1608.04 1221.93 Z\" fill=\"#000000\" fill-rule=\"nonzero\" fill-opacity=\"1\" /><path clip-path=\"url(#clip320)\" d=\"M1625.71 1231.38 L1625.71 1239.21 L1623.58 1239.21 L1623.58 1231.45 Q1623.58 1229.61 1622.86 1228.7 Q1622.14 1227.78 1620.71 1227.78 Q1618.99 1227.78 1617.99 1228.88 Q1616.99 1229.98 1616.99 1231.88 L1616.99 1239.21 L1614.85 1239.21 L1614.85 1226.25 L1616.99 1226.25 L1616.99 1228.26 Q1617.76 1227.09 1618.79 1226.51 Q1619.83 1225.93 1621.18 1225.93 Q1623.42 1225.93 1624.56 1227.32 Q1625.71 1228.7 1625.71 1231.38 Z\" fill=\"#000000\" fill-rule=\"nonzero\" fill-opacity=\"1\" /><path clip-path=\"url(#clip320)\" d=\"M1632.06 1222.56 L1632.06 1226.25 L1636.45 1226.25 L1636.45 1227.9 L1632.06 1227.9 L1632.06 1234.94 Q1632.06 1236.52 1632.49 1236.97 Q1632.93 1237.43 1634.26 1237.43 L1636.45 1237.43 L1636.45 1239.21 L1634.26 1239.21 Q1631.8 1239.21 1630.86 1238.29 Q1629.92 1237.37 1629.92 1234.94 L1629.92 1227.9 L1628.36 1227.9 L1628.36 1226.25 L1629.92 1226.25 L1629.92 1222.56 L1632.06 1222.56 Z\" fill=\"#000000\" fill-rule=\"nonzero\" fill-opacity=\"1\" /><path clip-path=\"url(#clip320)\" d=\"M1701.38 1228.72 L1703.72 1228.72 L1703.72 1246 L1701.38 1246 L1701.38 1228.72 Z\" fill=\"#000000\" fill-rule=\"nonzero\" fill-opacity=\"1\" /><path clip-path=\"url(#clip320)\" d=\"M1719.05 1238.17 L1719.05 1246 L1716.92 1246 L1716.92 1238.24 Q1716.92 1236.4 1716.21 1235.49 Q1715.49 1234.57 1714.05 1234.57 Q1712.33 1234.57 1711.33 1235.67 Q1710.34 1236.77 1710.34 1238.67 L1710.34 1246 L1708.2 1246 L1708.2 1233.03 L1710.34 1233.03 L1710.34 1235.05 Q1711.1 1233.88 1712.13 1233.3 Q1713.17 1232.72 1714.53 1232.72 Q1716.76 1232.72 1717.91 1234.11 Q1719.05 1235.49 1719.05 1238.17 Z\" fill=\"#000000\" fill-rule=\"nonzero\" fill-opacity=\"1\" /><path clip-path=\"url(#clip320)\" d=\"M1725.41 1229.35 L1725.41 1233.03 L1729.8 1233.03 L1729.8 1234.69 L1725.41 1234.69 L1725.41 1241.73 Q1725.41 1243.31 1725.84 1243.76 Q1726.28 1244.21 1727.61 1244.21 L1729.8 1244.21 L1729.8 1246 L1727.61 1246 Q1725.14 1246 1724.2 1245.08 Q1723.27 1244.16 1723.27 1241.73 L1723.27 1234.69 L1721.7 1234.69 L1721.7 1233.03 L1723.27 1233.03 L1723.27 1229.35 L1725.41 1229.35 Z\" fill=\"#000000\" fill-rule=\"nonzero\" fill-opacity=\"1\" /><path clip-path=\"url(#clip320)\" d=\"M1733.3 1244.03 L1737.12 1244.03 L1737.12 1230.85 L1732.97 1231.68 L1732.97 1229.55 L1737.1 1228.72 L1739.44 1228.72 L1739.44 1244.03 L1743.26 1244.03 L1743.26 1246 L1733.3 1246 L1733.3 1244.03 Z\" fill=\"#000000\" fill-rule=\"nonzero\" fill-opacity=\"1\" /><path clip-path=\"url(#clip320)\" d=\"M1749.99 1244.03 L1758.15 1244.03 L1758.15 1246 L1747.18 1246 L1747.18 1244.03 Q1748.51 1242.65 1750.8 1240.34 Q1753.11 1238.01 1753.7 1237.34 Q1754.82 1236.08 1755.26 1235.21 Q1755.71 1234.33 1755.71 1233.48 Q1755.71 1232.11 1754.74 1231.24 Q1753.78 1230.37 1752.23 1230.37 Q1751.13 1230.37 1749.9 1230.75 Q1748.68 1231.14 1747.3 1231.91 L1747.3 1229.55 Q1748.71 1228.98 1749.93 1228.69 Q1751.16 1228.4 1752.18 1228.4 Q1754.86 1228.4 1756.46 1229.75 Q1758.06 1231.09 1758.06 1233.33 Q1758.06 1234.4 1757.65 1235.36 Q1757.26 1236.31 1756.21 1237.61 Q1755.92 1237.94 1754.37 1239.55 Q1752.82 1241.15 1749.99 1244.03 Z\" fill=\"#000000\" fill-rule=\"nonzero\" fill-opacity=\"1\" /><path clip-path=\"url(#clip320)\" d=\"M1768.06 1237.79 Q1766.39 1237.79 1765.43 1238.68 Q1764.48 1239.57 1764.48 1241.14 Q1764.48 1242.7 1765.43 1243.59 Q1766.39 1244.48 1768.06 1244.48 Q1769.73 1244.48 1770.69 1243.59 Q1771.65 1242.69 1771.65 1241.14 Q1771.65 1239.57 1770.69 1238.68 Q1769.74 1237.79 1768.06 1237.79 M1765.72 1236.8 Q1764.22 1236.42 1763.37 1235.39 Q1762.54 1234.36 1762.54 1232.88 Q1762.54 1230.81 1764.01 1229.61 Q1765.49 1228.4 1768.06 1228.4 Q1770.64 1228.4 1772.11 1229.61 Q1773.58 1230.81 1773.58 1232.88 Q1773.58 1234.36 1772.73 1235.39 Q1771.9 1236.42 1770.41 1236.8 Q1772.1 1237.19 1773.04 1238.33 Q1773.98 1239.48 1773.98 1241.14 Q1773.98 1243.65 1772.45 1244.99 Q1770.92 1246.33 1768.06 1246.33 Q1765.2 1246.33 1763.66 1244.99 Q1762.13 1243.65 1762.13 1241.14 Q1762.13 1239.48 1763.08 1238.33 Q1764.03 1237.19 1765.72 1236.8 M1764.86 1233.1 Q1764.86 1234.45 1765.7 1235.2 Q1766.54 1235.95 1768.06 1235.95 Q1769.56 1235.95 1770.41 1235.2 Q1771.26 1234.45 1771.26 1233.1 Q1771.26 1231.76 1770.41 1231.01 Q1769.56 1230.26 1768.06 1230.26 Q1766.54 1230.26 1765.7 1231.01 Q1764.86 1231.76 1764.86 1233.1 Z\" fill=\"#000000\" fill-rule=\"nonzero\" fill-opacity=\"1\" /><path clip-path=\"url(#clip320)\" d=\"M1331.27 1253.01 L1333.6 1253.01 L1333.6 1270.29 L1331.27 1270.29 L1331.27 1253.01 Z\" fill=\"#000000\" fill-rule=\"nonzero\" fill-opacity=\"1\" /><path clip-path=\"url(#clip320)\" d=\"M1348.94 1262.46 L1348.94 1270.29 L1346.81 1270.29 L1346.81 1262.53 Q1346.81 1260.69 1346.09 1259.78 Q1345.37 1258.86 1343.94 1258.86 Q1342.21 1258.86 1341.22 1259.96 Q1340.22 1261.06 1340.22 1262.96 L1340.22 1270.29 L1338.08 1270.29 L1338.08 1257.32 L1340.22 1257.32 L1340.22 1259.34 Q1340.99 1258.17 1342.02 1257.59 Q1343.06 1257.01 1344.41 1257.01 Q1346.65 1257.01 1347.79 1258.4 Q1348.94 1259.78 1348.94 1262.46 Z\" fill=\"#000000\" fill-rule=\"nonzero\" fill-opacity=\"1\" /><path clip-path=\"url(#clip320)\" d=\"M1355.29 1253.64 L1355.29 1257.32 L1359.68 1257.32 L1359.68 1258.98 L1355.29 1258.98 L1355.29 1266.02 Q1355.29 1267.6 1355.72 1268.05 Q1356.16 1268.5 1357.49 1268.5 L1359.68 1268.5 L1359.68 1270.29 L1357.49 1270.29 Q1355.03 1270.29 1354.09 1269.37 Q1353.15 1268.45 1353.15 1266.02 L1353.15 1258.98 L1351.59 1258.98 L1351.59 1257.32 L1353.15 1257.32 L1353.15 1253.64 L1355.29 1253.64 Z\" fill=\"#000000\" fill-rule=\"nonzero\" fill-opacity=\"1\" /><path clip-path=\"url(#clip320)\" d=\"M1363.19 1268.32 L1367.01 1268.32 L1367.01 1255.14 L1362.85 1255.97 L1362.85 1253.84 L1366.98 1253.01 L1369.32 1253.01 L1369.32 1268.32 L1373.14 1268.32 L1373.14 1270.29 L1363.19 1270.29 L1363.19 1268.32 Z\" fill=\"#000000\" fill-rule=\"nonzero\" fill-opacity=\"1\" /><path clip-path=\"url(#clip320)\" d=\"M1383.15 1260.71 Q1381.58 1260.71 1380.65 1261.79 Q1379.74 1262.87 1379.74 1264.74 Q1379.74 1266.61 1380.65 1267.69 Q1381.58 1268.77 1383.15 1268.77 Q1384.73 1268.77 1385.64 1267.69 Q1386.57 1266.61 1386.57 1264.74 Q1386.57 1262.87 1385.64 1261.79 Q1384.73 1260.71 1383.15 1260.71 M1387.79 1253.39 L1387.79 1255.52 Q1386.91 1255.1 1386.01 1254.88 Q1385.12 1254.66 1384.24 1254.66 Q1381.93 1254.66 1380.7 1256.22 Q1379.48 1257.79 1379.31 1260.95 Q1379.99 1259.94 1381.02 1259.41 Q1382.05 1258.86 1383.29 1258.86 Q1385.9 1258.86 1387.4 1260.45 Q1388.92 1262.02 1388.92 1264.74 Q1388.92 1267.4 1387.34 1269.01 Q1385.77 1270.62 1383.15 1270.62 Q1380.15 1270.62 1378.57 1268.33 Q1376.98 1266.03 1376.98 1261.66 Q1376.98 1257.57 1378.93 1255.14 Q1380.87 1252.69 1384.15 1252.69 Q1385.03 1252.69 1385.92 1252.87 Q1386.82 1253.04 1387.79 1253.39 Z\" fill=\"#000000\" fill-rule=\"nonzero\" fill-opacity=\"1\" /><path clip-path=\"url(#clip320)\" d=\"M1646.41 1234.78 L1648.75 1234.78 L1648.75 1252.06 L1646.41 1252.06 L1646.41 1234.78 Z\" fill=\"#000000\" fill-rule=\"nonzero\" fill-opacity=\"1\" /><path clip-path=\"url(#clip320)\" d=\"M1664.09 1244.24 L1664.09 1252.06 L1661.96 1252.06 L1661.96 1244.31 Q1661.96 1242.47 1661.24 1241.55 Q1660.52 1240.64 1659.09 1240.64 Q1657.36 1240.64 1656.37 1241.74 Q1655.37 1242.84 1655.37 1244.74 L1655.37 1252.06 L1653.23 1252.06 L1653.23 1239.1 L1655.37 1239.1 L1655.37 1241.11 Q1656.14 1239.94 1657.17 1239.36 Q1658.21 1238.79 1659.56 1238.79 Q1661.8 1238.79 1662.94 1240.17 Q1664.09 1241.55 1664.09 1244.24 Z\" fill=\"#000000\" fill-rule=\"nonzero\" fill-opacity=\"1\" /><path clip-path=\"url(#clip320)\" d=\"M1670.44 1235.42 L1670.44 1239.1 L1674.83 1239.1 L1674.83 1240.75 L1670.44 1240.75 L1670.44 1247.79 Q1670.44 1249.38 1670.87 1249.83 Q1671.31 1250.28 1672.64 1250.28 L1674.83 1250.28 L1674.83 1252.06 L1672.64 1252.06 Q1670.18 1252.06 1669.24 1251.15 Q1668.3 1250.22 1668.3 1247.79 L1668.3 1240.75 L1666.74 1240.75 L1666.74 1239.1 L1668.3 1239.1 L1668.3 1235.42 L1670.44 1235.42 Z\" fill=\"#000000\" fill-rule=\"nonzero\" fill-opacity=\"1\" /><path clip-path=\"url(#clip320)\" d=\"M1685.01 1242.74 Q1686.69 1243.1 1687.63 1244.24 Q1688.58 1245.37 1688.58 1247.04 Q1688.58 1249.6 1686.82 1251 Q1685.06 1252.4 1681.82 1252.4 Q1680.73 1252.4 1679.57 1252.18 Q1678.43 1251.97 1677.2 1251.54 L1677.2 1249.28 Q1678.17 1249.85 1679.33 1250.14 Q1680.49 1250.43 1681.75 1250.43 Q1683.95 1250.43 1685.1 1249.56 Q1686.25 1248.69 1686.25 1247.04 Q1686.25 1245.51 1685.18 1244.65 Q1684.11 1243.79 1682.2 1243.79 L1680.19 1243.79 L1680.19 1241.86 L1682.29 1241.86 Q1684.02 1241.86 1684.93 1241.18 Q1685.85 1240.49 1685.85 1239.19 Q1685.85 1237.86 1684.9 1237.15 Q1683.96 1236.44 1682.2 1236.44 Q1681.24 1236.44 1680.14 1236.64 Q1679.04 1236.85 1677.72 1237.29 L1677.72 1235.21 Q1679.05 1234.84 1680.21 1234.65 Q1681.38 1234.47 1682.41 1234.47 Q1685.07 1234.47 1686.62 1235.68 Q1688.17 1236.89 1688.17 1238.95 Q1688.17 1240.38 1687.35 1241.38 Q1686.53 1242.36 1685.01 1242.74 Z\" fill=\"#000000\" fill-rule=\"nonzero\" fill-opacity=\"1\" /><path clip-path=\"url(#clip320)\" d=\"M1695.03 1250.09 L1703.19 1250.09 L1703.19 1252.06 L1692.21 1252.06 L1692.21 1250.09 Q1693.54 1248.72 1695.84 1246.4 Q1698.14 1244.08 1698.73 1243.4 Q1699.85 1242.14 1700.29 1241.27 Q1700.74 1240.39 1700.74 1239.55 Q1700.74 1238.17 1699.77 1237.3 Q1698.81 1236.44 1697.26 1236.44 Q1696.16 1236.44 1694.93 1236.82 Q1693.72 1237.2 1692.33 1237.98 L1692.33 1235.61 Q1693.74 1235.05 1694.97 1234.76 Q1696.19 1234.47 1697.21 1234.47 Q1699.9 1234.47 1701.5 1235.81 Q1703.09 1237.15 1703.09 1239.4 Q1703.09 1240.46 1702.69 1241.42 Q1702.29 1242.37 1701.24 1243.67 Q1700.95 1244.01 1699.4 1245.61 Q1697.85 1247.21 1695.03 1250.09 Z\" fill=\"#000000\" fill-rule=\"nonzero\" fill-opacity=\"1\" /><path clip-path=\"url(#clip320)\" d=\"M1511.1 1295.37 L1513.44 1295.37 L1513.44 1312.65 L1511.1 1312.65 L1511.1 1295.37 Z\" fill=\"#000000\" fill-rule=\"nonzero\" fill-opacity=\"1\" /><path clip-path=\"url(#clip320)\" d=\"M1528.77 1304.82 L1528.77 1312.65 L1526.64 1312.65 L1526.64 1304.89 Q1526.64 1303.05 1525.93 1302.14 Q1525.21 1301.22 1523.77 1301.22 Q1522.05 1301.22 1521.05 1302.32 Q1520.06 1303.42 1520.06 1305.32 L1520.06 1312.65 L1517.92 1312.65 L1517.92 1299.68 L1520.06 1299.68 L1520.06 1301.7 Q1520.82 1300.53 1521.85 1299.95 Q1522.89 1299.37 1524.25 1299.37 Q1526.48 1299.37 1527.63 1300.76 Q1528.77 1302.14 1528.77 1304.82 Z\" fill=\"#000000\" fill-rule=\"nonzero\" fill-opacity=\"1\" /><path clip-path=\"url(#clip320)\" d=\"M1535.13 1296 L1535.13 1299.68 L1539.51 1299.68 L1539.51 1301.34 L1535.13 1301.34 L1535.13 1308.37 Q1535.13 1309.96 1535.55 1310.41 Q1535.99 1310.86 1537.33 1310.86 L1539.51 1310.86 L1539.51 1312.65 L1537.33 1312.65 Q1534.86 1312.65 1533.92 1311.73 Q1532.99 1310.81 1532.99 1308.37 L1532.99 1301.34 L1531.42 1301.34 L1531.42 1299.68 L1532.99 1299.68 L1532.99 1296 L1535.13 1296 Z\" fill=\"#000000\" fill-rule=\"nonzero\" fill-opacity=\"1\" /><path clip-path=\"url(#clip320)\" d=\"M1547.9 1303.07 Q1546.33 1303.07 1545.4 1304.15 Q1544.49 1305.23 1544.49 1307.1 Q1544.49 1308.97 1545.4 1310.05 Q1546.33 1311.13 1547.9 1311.13 Q1549.48 1311.13 1550.39 1310.05 Q1551.32 1308.97 1551.32 1307.1 Q1551.32 1305.23 1550.39 1304.15 Q1549.48 1303.07 1547.9 1303.07 M1552.55 1295.75 L1552.55 1297.88 Q1551.67 1297.46 1550.76 1297.24 Q1549.87 1297.02 1548.99 1297.02 Q1546.68 1297.02 1545.45 1298.58 Q1544.24 1300.15 1544.06 1303.31 Q1544.74 1302.3 1545.77 1301.77 Q1546.8 1301.22 1548.04 1301.22 Q1550.65 1301.22 1552.15 1302.81 Q1553.67 1304.38 1553.67 1307.1 Q1553.67 1309.76 1552.09 1311.37 Q1550.52 1312.98 1547.9 1312.98 Q1544.91 1312.98 1543.32 1310.69 Q1541.74 1308.39 1541.74 1304.02 Q1541.74 1299.93 1543.68 1297.5 Q1545.62 1295.05 1548.9 1295.05 Q1549.78 1295.05 1550.67 1295.23 Q1551.57 1295.4 1552.55 1295.75 Z\" fill=\"#000000\" fill-rule=\"nonzero\" fill-opacity=\"1\" /><path clip-path=\"url(#clip320)\" d=\"M1564.12 1297.4 L1558.22 1306.63 L1564.12 1306.63 L1564.12 1297.4 M1563.51 1295.37 L1566.45 1295.37 L1566.45 1306.63 L1568.91 1306.63 L1568.91 1308.57 L1566.45 1308.57 L1566.45 1312.65 L1564.12 1312.65 L1564.12 1308.57 L1556.32 1308.57 L1556.32 1306.31 L1563.51 1295.37 Z\" fill=\"#000000\" fill-rule=\"nonzero\" fill-opacity=\"1\" /><path clip-path=\"url(#clip320)\" d=\"M1402.73 1329.04 L1405.07 1329.04 L1405.07 1346.32 L1402.73 1346.32 L1402.73 1329.04 Z\" fill=\"#000000\" fill-rule=\"nonzero\" fill-opacity=\"1\" /><path clip-path=\"url(#clip320)\" d=\"M1420.4 1338.5 L1420.4 1346.32 L1418.27 1346.32 L1418.27 1338.57 Q1418.27 1336.73 1417.56 1335.81 Q1416.84 1334.9 1415.4 1334.9 Q1413.68 1334.9 1412.68 1336 Q1411.69 1337.1 1411.69 1339 L1411.69 1346.32 L1409.55 1346.32 L1409.55 1333.36 L1411.69 1333.36 L1411.69 1335.37 Q1412.45 1334.2 1413.48 1333.63 Q1414.52 1333.05 1415.88 1333.05 Q1418.11 1333.05 1419.26 1334.44 Q1420.4 1335.81 1420.4 1338.5 Z\" fill=\"#000000\" fill-rule=\"nonzero\" fill-opacity=\"1\" /><path clip-path=\"url(#clip320)\" d=\"M1426.76 1329.68 L1426.76 1333.36 L1431.14 1333.36 L1431.14 1335.01 L1426.76 1335.01 L1426.76 1342.05 Q1426.76 1343.64 1427.19 1344.09 Q1427.63 1344.54 1428.96 1344.54 L1431.14 1344.54 L1431.14 1346.32 L1428.96 1346.32 Q1426.49 1346.32 1425.55 1345.41 Q1424.62 1344.48 1424.62 1342.05 L1424.62 1335.01 L1423.05 1335.01 L1423.05 1333.36 L1424.62 1333.36 L1424.62 1329.68 L1426.76 1329.68 Z\" fill=\"#000000\" fill-rule=\"nonzero\" fill-opacity=\"1\" /><path clip-path=\"url(#clip320)\" d=\"M1439.25 1338.12 Q1437.58 1338.12 1436.62 1339.01 Q1435.67 1339.9 1435.67 1341.46 Q1435.67 1343.02 1436.62 1343.92 Q1437.58 1344.81 1439.25 1344.81 Q1440.91 1344.81 1441.87 1343.92 Q1442.83 1343.01 1442.83 1341.46 Q1442.83 1339.9 1441.87 1339.01 Q1440.92 1338.12 1439.25 1338.12 M1436.91 1337.12 Q1435.4 1336.75 1434.56 1335.72 Q1433.73 1334.69 1433.73 1333.21 Q1433.73 1331.14 1435.2 1329.93 Q1436.68 1328.73 1439.25 1328.73 Q1441.83 1328.73 1443.3 1329.93 Q1444.77 1331.14 1444.77 1333.21 Q1444.77 1334.69 1443.92 1335.72 Q1443.09 1336.75 1441.6 1337.12 Q1443.29 1337.51 1444.22 1338.66 Q1445.17 1339.81 1445.17 1341.46 Q1445.17 1343.97 1443.63 1345.32 Q1442.11 1346.66 1439.25 1346.66 Q1436.39 1346.66 1434.85 1345.32 Q1433.32 1343.97 1433.32 1341.46 Q1433.32 1339.81 1434.27 1338.66 Q1435.22 1337.51 1436.91 1337.12 M1436.05 1333.43 Q1436.05 1334.77 1436.89 1335.52 Q1437.73 1336.28 1439.25 1336.28 Q1440.75 1336.28 1441.6 1335.52 Q1442.45 1334.77 1442.45 1333.43 Q1442.45 1332.09 1441.6 1331.33 Q1440.75 1330.58 1439.25 1330.58 Q1437.73 1330.58 1436.89 1331.33 Q1436.05 1332.09 1436.05 1333.43 Z\" fill=\"#000000\" fill-rule=\"nonzero\" fill-opacity=\"1\" /><path clip-path=\"url(#clip320)\" d=\"M846.318 1045.39 L848.668 1045.39 L848.668 1055.88 Q848.668 1058.66 849.675 1059.89 Q850.682 1061.1 852.939 1061.1 Q855.184 1061.1 856.191 1059.89 Q857.198 1058.66 857.198 1055.88 L857.198 1045.39 L859.547 1045.39 L859.547 1056.17 Q859.547 1059.55 857.869 1061.28 Q856.203 1063 852.939 1063 Q849.663 1063 847.985 1061.28 Q846.318 1059.55 846.318 1056.17 L846.318 1045.39 Z\" fill=\"#000000\" fill-rule=\"nonzero\" fill-opacity=\"1\" /><path clip-path=\"url(#clip320)\" d=\"M874.617 1054.84 L874.617 1062.67 L872.487 1062.67 L872.487 1054.91 Q872.487 1053.07 871.77 1052.16 Q871.052 1051.24 869.617 1051.24 Q867.892 1051.24 866.897 1052.34 Q865.902 1053.44 865.902 1055.34 L865.902 1062.67 L863.76 1062.67 L863.76 1049.7 L865.902 1049.7 L865.902 1051.72 Q866.665 1050.55 867.696 1049.97 Q868.737 1049.39 870.091 1049.39 Q872.325 1049.39 873.471 1050.78 Q874.617 1052.16 874.617 1054.84 Z\" fill=\"#000000\" fill-rule=\"nonzero\" fill-opacity=\"1\" /><path clip-path=\"url(#clip320)\" d=\"M887.128 1050.08 L887.128 1052.1 Q886.226 1051.64 885.253 1051.4 Q884.281 1051.17 883.239 1051.17 Q881.654 1051.17 880.855 1051.66 Q880.068 1052.14 880.068 1053.12 Q880.068 1053.86 880.635 1054.29 Q881.202 1054.7 882.915 1055.08 L883.645 1055.25 Q885.913 1055.73 886.862 1056.62 Q887.823 1057.5 887.823 1059.09 Q887.823 1060.89 886.388 1061.95 Q884.964 1063 882.464 1063 Q881.422 1063 880.288 1062.79 Q879.165 1062.6 877.915 1062.19 L877.915 1059.99 Q879.096 1060.61 880.242 1060.92 Q881.388 1061.22 882.51 1061.22 Q884.015 1061.22 884.825 1060.71 Q885.635 1060.19 885.635 1059.25 Q885.635 1058.38 885.045 1057.92 Q884.466 1057.46 882.487 1057.03 L881.746 1056.86 Q879.767 1056.44 878.888 1055.58 Q878.008 1054.71 878.008 1053.21 Q878.008 1051.38 879.304 1050.39 Q880.601 1049.39 882.985 1049.39 Q884.165 1049.39 885.207 1049.56 Q886.249 1049.74 887.128 1050.08 Z\" fill=\"#000000\" fill-rule=\"nonzero\" fill-opacity=\"1\" /><path clip-path=\"url(#clip320)\" d=\"M891.214 1049.7 L893.344 1049.7 L893.344 1062.67 L891.214 1062.67 L891.214 1049.7 M891.214 1044.66 L893.344 1044.66 L893.344 1047.35 L891.214 1047.35 L891.214 1044.66 Z\" fill=\"#000000\" fill-rule=\"nonzero\" fill-opacity=\"1\" /><path clip-path=\"url(#clip320)\" d=\"M906.33 1056.03 Q906.33 1053.72 905.369 1052.45 Q904.42 1051.17 902.695 1051.17 Q900.982 1051.17 900.022 1052.45 Q899.073 1053.72 899.073 1056.03 Q899.073 1058.34 900.022 1059.61 Q900.982 1060.88 902.695 1060.88 Q904.42 1060.88 905.369 1059.61 Q906.33 1058.34 906.33 1056.03 M908.459 1061.06 Q908.459 1064.37 906.989 1065.98 Q905.519 1067.6 902.487 1067.6 Q901.364 1067.6 900.369 1067.42 Q899.374 1067.26 898.436 1066.91 L898.436 1064.84 Q899.374 1065.35 900.288 1065.59 Q901.202 1065.84 902.151 1065.84 Q904.246 1065.84 905.288 1064.74 Q906.33 1063.65 906.33 1061.44 L906.33 1060.39 Q905.67 1061.53 904.64 1062.1 Q903.61 1062.67 902.175 1062.67 Q899.79 1062.67 898.332 1060.85 Q896.874 1059.03 896.874 1056.03 Q896.874 1053.02 898.332 1051.21 Q899.79 1049.39 902.175 1049.39 Q903.61 1049.39 904.64 1049.96 Q905.67 1050.52 906.33 1051.67 L906.33 1049.7 L908.459 1049.7 L908.459 1061.06 Z\" fill=\"#000000\" fill-rule=\"nonzero\" fill-opacity=\"1\" /><path clip-path=\"url(#clip320)\" d=\"M923.621 1054.84 L923.621 1062.67 L921.492 1062.67 L921.492 1054.91 Q921.492 1053.07 920.774 1052.16 Q920.056 1051.24 918.621 1051.24 Q916.897 1051.24 915.901 1052.34 Q914.906 1053.44 914.906 1055.34 L914.906 1062.67 L912.765 1062.67 L912.765 1049.7 L914.906 1049.7 L914.906 1051.72 Q915.67 1050.55 916.7 1049.97 Q917.742 1049.39 919.096 1049.39 Q921.33 1049.39 922.475 1050.78 Q923.621 1052.16 923.621 1054.84 Z\" fill=\"#000000\" fill-rule=\"nonzero\" fill-opacity=\"1\" /><path clip-path=\"url(#clip320)\" d=\"M938.957 1055.65 L938.957 1056.69 L929.165 1056.69 Q929.304 1058.89 930.485 1060.05 Q931.677 1061.2 933.795 1061.2 Q935.022 1061.2 936.167 1060.89 Q937.325 1060.59 938.459 1059.99 L938.459 1062.01 Q937.313 1062.49 936.11 1062.75 Q934.906 1063 933.667 1063 Q930.566 1063 928.748 1061.2 Q926.943 1059.39 926.943 1056.31 Q926.943 1053.13 928.656 1051.26 Q930.38 1049.39 933.297 1049.39 Q935.913 1049.39 937.429 1051.08 Q938.957 1052.76 938.957 1055.65 M936.827 1055.03 Q936.804 1053.28 935.843 1052.24 Q934.894 1051.2 933.32 1051.2 Q931.538 1051.2 930.461 1052.2 Q929.397 1053.21 929.235 1055.04 L936.827 1055.03 Z\" fill=\"#000000\" fill-rule=\"nonzero\" fill-opacity=\"1\" /><path clip-path=\"url(#clip320)\" d=\"M950.982 1051.67 L950.982 1044.66 L953.112 1044.66 L953.112 1062.67 L950.982 1062.67 L950.982 1060.72 Q950.311 1061.88 949.281 1062.45 Q948.262 1063 946.827 1063 Q944.478 1063 942.996 1061.13 Q941.526 1059.25 941.526 1056.2 Q941.526 1053.14 942.996 1051.26 Q944.478 1049.39 946.827 1049.39 Q948.262 1049.39 949.281 1049.96 Q950.311 1050.51 950.982 1051.67 M943.725 1056.2 Q943.725 1058.54 944.686 1059.89 Q945.658 1061.22 947.348 1061.22 Q949.038 1061.22 950.01 1059.89 Q950.982 1058.54 950.982 1056.2 Q950.982 1053.85 950.01 1052.51 Q949.038 1051.17 947.348 1051.17 Q945.658 1051.17 944.686 1052.51 Q943.725 1053.85 943.725 1056.2 Z\" fill=\"#000000\" fill-rule=\"nonzero\" fill-opacity=\"1\" /><path clip-path=\"url(#clip320)\" d=\"M929.2 1243.17 L931.549 1243.17 L931.549 1253.67 Q931.549 1256.45 932.556 1257.67 Q933.563 1258.89 935.82 1258.89 Q938.065 1258.89 939.072 1257.67 Q940.079 1256.45 940.079 1253.67 L940.079 1243.17 L942.429 1243.17 L942.429 1253.96 Q942.429 1257.34 940.751 1259.06 Q939.084 1260.79 935.82 1260.79 Q932.545 1260.79 930.866 1259.06 Q929.2 1257.34 929.2 1253.96 L929.2 1243.17 Z\" fill=\"#000000\" fill-rule=\"nonzero\" fill-opacity=\"1\" /><path clip-path=\"url(#clip320)\" d=\"M946.815 1243.17 L949.153 1243.17 L949.153 1260.45 L946.815 1260.45 L946.815 1243.17 Z\" fill=\"#000000\" fill-rule=\"nonzero\" fill-opacity=\"1\" /><path clip-path=\"url(#clip320)\" d=\"M964.489 1252.63 L964.489 1260.45 L962.359 1260.45 L962.359 1252.7 Q962.359 1250.86 961.642 1249.94 Q960.924 1249.03 959.489 1249.03 Q957.764 1249.03 956.769 1250.13 Q955.774 1251.23 955.774 1253.13 L955.774 1260.45 L953.632 1260.45 L953.632 1247.49 L955.774 1247.49 L955.774 1249.5 Q956.537 1248.33 957.568 1247.76 Q958.609 1247.18 959.963 1247.18 Q962.197 1247.18 963.343 1248.57 Q964.489 1249.94 964.489 1252.63 Z\" fill=\"#000000\" fill-rule=\"nonzero\" fill-opacity=\"1\" /><path clip-path=\"url(#clip320)\" d=\"M970.843 1243.81 L970.843 1247.49 L975.23 1247.49 L975.23 1249.14 L970.843 1249.14 L970.843 1256.18 Q970.843 1257.77 971.271 1258.22 Q971.711 1258.67 973.042 1258.67 L975.23 1258.67 L975.23 1260.45 L973.042 1260.45 Q970.577 1260.45 969.639 1259.54 Q968.702 1258.61 968.702 1256.18 L968.702 1249.14 L967.139 1249.14 L967.139 1247.49 L968.702 1247.49 L968.702 1243.81 L970.843 1243.81 Z\" fill=\"#000000\" fill-rule=\"nonzero\" fill-opacity=\"1\" /><path clip-path=\"url(#clip320)\" d=\"M978.736 1258.48 L982.556 1258.48 L982.556 1245.3 L978.401 1246.14 L978.401 1244.01 L982.533 1243.17 L984.871 1243.17 L984.871 1258.48 L988.69 1258.48 L988.69 1260.45 L978.736 1260.45 L978.736 1258.48 Z\" fill=\"#000000\" fill-rule=\"nonzero\" fill-opacity=\"1\" /><path clip-path=\"url(#clip320)\" d=\"M995.426 1258.48 L1003.59 1258.48 L1003.59 1260.45 L992.614 1260.45 L992.614 1258.48 Q993.945 1257.11 996.236 1254.79 Q998.54 1252.47 999.13 1251.79 Q1000.25 1250.53 1000.69 1249.67 Q1001.14 1248.79 1001.14 1247.94 Q1001.14 1246.56 1000.17 1245.7 Q999.211 1244.83 997.66 1244.83 Q996.56 1244.83 995.334 1245.21 Q994.118 1245.59 992.729 1246.37 L992.729 1244.01 Q994.141 1243.44 995.368 1243.15 Q996.595 1242.86 997.614 1242.86 Q1000.3 1242.86 1001.9 1244.2 Q1003.49 1245.54 1003.49 1247.79 Q1003.49 1248.85 1003.09 1249.82 Q1002.69 1250.76 1001.64 1252.06 Q1001.35 1252.4 999.801 1254.01 Q998.25 1255.6 995.426 1258.48 Z\" fill=\"#000000\" fill-rule=\"nonzero\" fill-opacity=\"1\" /><path clip-path=\"url(#clip320)\" d=\"M1013.49 1252.25 Q1011.83 1252.25 1010.87 1253.14 Q1009.92 1254.03 1009.92 1255.59 Q1009.92 1257.15 1010.87 1258.04 Q1011.83 1258.94 1013.49 1258.94 Q1015.16 1258.94 1016.12 1258.04 Q1017.08 1257.14 1017.08 1255.59 Q1017.08 1254.03 1016.12 1253.14 Q1015.17 1252.25 1013.49 1252.25 M1011.16 1251.25 Q1009.65 1250.88 1008.81 1249.85 Q1007.97 1248.82 1007.97 1247.34 Q1007.97 1245.27 1009.44 1244.06 Q1010.92 1242.86 1013.49 1242.86 Q1016.07 1242.86 1017.54 1244.06 Q1019.01 1245.27 1019.01 1247.34 Q1019.01 1248.82 1018.17 1249.85 Q1017.34 1250.88 1015.84 1251.25 Q1017.53 1251.64 1018.47 1252.79 Q1019.42 1253.94 1019.42 1255.59 Q1019.42 1258.1 1017.88 1259.45 Q1016.35 1260.79 1013.49 1260.79 Q1010.63 1260.79 1009.1 1259.45 Q1007.57 1258.1 1007.57 1255.59 Q1007.57 1253.94 1008.52 1252.79 Q1009.47 1251.64 1011.16 1251.25 M1010.3 1247.56 Q1010.3 1248.9 1011.13 1249.65 Q1011.98 1250.41 1013.49 1250.41 Q1015 1250.41 1015.84 1249.65 Q1016.7 1248.9 1016.7 1247.56 Q1016.7 1246.22 1015.84 1245.46 Q1015 1244.71 1013.49 1244.71 Q1011.98 1244.71 1011.13 1245.46 Q1010.3 1246.22 1010.3 1247.56 Z\" fill=\"#000000\" fill-rule=\"nonzero\" fill-opacity=\"1\" /><path clip-path=\"url(#clip320)\" d=\"M773.101 1299.78 L775.45 1299.78 L775.45 1310.28 Q775.45 1313.05 776.457 1314.28 Q777.464 1315.5 779.721 1315.5 Q781.966 1315.5 782.973 1314.28 Q783.98 1313.05 783.98 1310.28 L783.98 1299.78 L786.33 1299.78 L786.33 1310.57 Q786.33 1313.95 784.652 1315.67 Q782.985 1317.4 779.721 1317.4 Q776.446 1317.4 774.767 1315.67 Q773.101 1313.95 773.101 1310.57 L773.101 1299.78 Z\" fill=\"#000000\" fill-rule=\"nonzero\" fill-opacity=\"1\" /><path clip-path=\"url(#clip320)\" d=\"M790.716 1299.78 L793.054 1299.78 L793.054 1317.06 L790.716 1317.06 L790.716 1299.78 Z\" fill=\"#000000\" fill-rule=\"nonzero\" fill-opacity=\"1\" /><path clip-path=\"url(#clip320)\" d=\"M808.39 1309.24 L808.39 1317.06 L806.26 1317.06 L806.26 1309.3 Q806.26 1307.46 805.543 1306.55 Q804.825 1305.64 803.39 1305.64 Q801.665 1305.64 800.67 1306.74 Q799.675 1307.83 799.675 1309.73 L799.675 1317.06 L797.533 1317.06 L797.533 1304.1 L799.675 1304.1 L799.675 1306.11 Q800.438 1304.94 801.469 1304.36 Q802.51 1303.78 803.864 1303.78 Q806.098 1303.78 807.244 1305.17 Q808.39 1306.55 808.39 1309.24 Z\" fill=\"#000000\" fill-rule=\"nonzero\" fill-opacity=\"1\" /><path clip-path=\"url(#clip320)\" d=\"M814.744 1300.42 L814.744 1304.1 L819.131 1304.1 L819.131 1305.75 L814.744 1305.75 L814.744 1312.79 Q814.744 1314.37 815.172 1314.83 Q815.612 1315.28 816.943 1315.28 L819.131 1315.28 L819.131 1317.06 L816.943 1317.06 Q814.478 1317.06 813.54 1316.15 Q812.603 1315.22 812.603 1312.79 L812.603 1305.75 L811.04 1305.75 L811.04 1304.1 L812.603 1304.1 L812.603 1300.42 L814.744 1300.42 Z\" fill=\"#000000\" fill-rule=\"nonzero\" fill-opacity=\"1\" /><path clip-path=\"url(#clip320)\" d=\"M822.637 1315.09 L826.457 1315.09 L826.457 1301.91 L822.302 1302.74 L822.302 1300.61 L826.434 1299.78 L828.772 1299.78 L828.772 1315.09 L832.591 1315.09 L832.591 1317.06 L822.637 1317.06 L822.637 1315.09 Z\" fill=\"#000000\" fill-rule=\"nonzero\" fill-opacity=\"1\" /><path clip-path=\"url(#clip320)\" d=\"M842.603 1307.49 Q841.029 1307.49 840.103 1308.56 Q839.188 1309.64 839.188 1311.52 Q839.188 1313.38 840.103 1314.47 Q841.029 1315.54 842.603 1315.54 Q844.177 1315.54 845.091 1314.47 Q846.017 1313.38 846.017 1311.52 Q846.017 1309.64 845.091 1308.56 Q844.177 1307.49 842.603 1307.49 M847.244 1300.16 L847.244 1302.29 Q846.364 1301.87 845.461 1301.65 Q844.57 1301.43 843.691 1301.43 Q841.376 1301.43 840.149 1303 Q838.934 1304.56 838.76 1307.72 Q839.443 1306.71 840.473 1306.18 Q841.503 1305.64 842.741 1305.64 Q845.346 1305.64 846.85 1307.22 Q848.366 1308.8 848.366 1311.52 Q848.366 1314.18 846.792 1315.79 Q845.218 1317.4 842.603 1317.4 Q839.605 1317.4 838.019 1315.1 Q836.434 1312.8 836.434 1308.44 Q836.434 1304.34 838.378 1301.91 Q840.323 1299.47 843.598 1299.47 Q844.478 1299.47 845.369 1299.64 Q846.272 1299.81 847.244 1300.16 Z\" fill=\"#000000\" fill-rule=\"nonzero\" fill-opacity=\"1\" /><path clip-path=\"url(#clip320)\" d=\"M691.462 1269.9 L693.812 1269.9 L693.812 1280.4 Q693.812 1283.18 694.818 1284.4 Q695.825 1285.62 698.082 1285.62 Q700.328 1285.62 701.335 1284.4 Q702.342 1283.18 702.342 1280.4 L702.342 1269.9 L704.691 1269.9 L704.691 1280.69 Q704.691 1284.07 703.013 1285.79 Q701.346 1287.52 698.082 1287.52 Q694.807 1287.52 693.129 1285.79 Q691.462 1284.07 691.462 1280.69 L691.462 1269.9 Z\" fill=\"#000000\" fill-rule=\"nonzero\" fill-opacity=\"1\" /><path clip-path=\"url(#clip320)\" d=\"M709.078 1269.9 L711.416 1269.9 L711.416 1287.18 L709.078 1287.18 L709.078 1269.9 Z\" fill=\"#000000\" fill-rule=\"nonzero\" fill-opacity=\"1\" /><path clip-path=\"url(#clip320)\" d=\"M726.751 1279.36 L726.751 1287.18 L724.622 1287.18 L724.622 1279.43 Q724.622 1277.59 723.904 1276.67 Q723.186 1275.76 721.751 1275.76 Q720.027 1275.76 719.031 1276.86 Q718.036 1277.96 718.036 1279.86 L718.036 1287.18 L715.895 1287.18 L715.895 1274.22 L718.036 1274.22 L718.036 1276.23 Q718.8 1275.06 719.83 1274.48 Q720.872 1273.91 722.226 1273.91 Q724.46 1273.91 725.605 1275.29 Q726.751 1276.67 726.751 1279.36 Z\" fill=\"#000000\" fill-rule=\"nonzero\" fill-opacity=\"1\" /><path clip-path=\"url(#clip320)\" d=\"M733.105 1270.54 L733.105 1274.22 L737.492 1274.22 L737.492 1275.87 L733.105 1275.87 L733.105 1282.91 Q733.105 1284.5 733.534 1284.95 Q733.973 1285.4 735.304 1285.4 L737.492 1285.4 L737.492 1287.18 L735.304 1287.18 Q732.839 1287.18 731.902 1286.27 Q730.964 1285.34 730.964 1282.91 L730.964 1275.87 L729.402 1275.87 L729.402 1274.22 L730.964 1274.22 L730.964 1270.54 L733.105 1270.54 Z\" fill=\"#000000\" fill-rule=\"nonzero\" fill-opacity=\"1\" /><path clip-path=\"url(#clip320)\" d=\"M747.677 1277.86 Q749.355 1278.22 750.293 1279.36 Q751.242 1280.49 751.242 1282.16 Q751.242 1284.72 749.483 1286.12 Q747.723 1287.52 744.483 1287.52 Q743.395 1287.52 742.237 1287.3 Q741.091 1287.09 739.865 1286.66 L739.865 1284.4 Q740.837 1284.97 741.994 1285.26 Q743.152 1285.55 744.413 1285.55 Q746.612 1285.55 747.758 1284.68 Q748.915 1283.81 748.915 1282.16 Q748.915 1280.63 747.839 1279.77 Q746.774 1278.91 744.865 1278.91 L742.851 1278.91 L742.851 1276.98 L744.957 1276.98 Q746.682 1276.98 747.596 1276.3 Q748.51 1275.61 748.51 1274.31 Q748.51 1272.98 747.561 1272.27 Q746.624 1271.56 744.865 1271.56 Q743.904 1271.56 742.804 1271.76 Q741.705 1271.97 740.385 1272.41 L740.385 1270.33 Q741.716 1269.96 742.874 1269.77 Q744.043 1269.59 745.073 1269.59 Q747.735 1269.59 749.286 1270.8 Q750.837 1272.01 750.837 1274.07 Q750.837 1275.5 750.015 1276.5 Q749.193 1277.48 747.677 1277.86 Z\" fill=\"#000000\" fill-rule=\"nonzero\" fill-opacity=\"1\" /><path clip-path=\"url(#clip320)\" d=\"M757.689 1285.21 L765.848 1285.21 L765.848 1287.18 L754.876 1287.18 L754.876 1285.21 Q756.207 1283.84 758.499 1281.52 Q760.802 1279.2 761.392 1278.52 Q762.515 1277.26 762.955 1276.39 Q763.406 1275.51 763.406 1274.67 Q763.406 1273.29 762.434 1272.42 Q761.473 1271.56 759.922 1271.56 Q758.823 1271.56 757.596 1271.94 Q756.381 1272.32 754.992 1273.1 L754.992 1270.73 Q756.404 1270.17 757.631 1269.88 Q758.858 1269.59 759.876 1269.59 Q762.561 1269.59 764.158 1270.93 Q765.756 1272.27 765.756 1274.52 Q765.756 1275.58 765.351 1276.54 Q764.957 1277.49 763.904 1278.79 Q763.614 1279.13 762.064 1280.73 Q760.513 1282.33 757.689 1285.21 Z\" fill=\"#000000\" fill-rule=\"nonzero\" fill-opacity=\"1\" /><path clip-path=\"url(#clip320)\" d=\"M624.603 1237.11 L626.953 1237.11 L626.953 1247.61 Q626.953 1250.38 627.96 1251.61 Q628.967 1252.83 631.224 1252.83 Q633.469 1252.83 634.476 1251.61 Q635.483 1250.38 635.483 1247.61 L635.483 1237.11 L637.832 1237.11 L637.832 1247.89 Q637.832 1251.27 636.154 1253 Q634.487 1254.72 631.224 1254.72 Q627.948 1254.72 626.27 1253 Q624.603 1251.27 624.603 1247.89 L624.603 1237.11 Z\" fill=\"#000000\" fill-rule=\"nonzero\" fill-opacity=\"1\" /><path clip-path=\"url(#clip320)\" d=\"M642.219 1237.11 L644.557 1237.11 L644.557 1254.39 L642.219 1254.39 L642.219 1237.11 Z\" fill=\"#000000\" fill-rule=\"nonzero\" fill-opacity=\"1\" /><path clip-path=\"url(#clip320)\" d=\"M659.892 1246.56 L659.892 1254.39 L657.763 1254.39 L657.763 1246.63 Q657.763 1244.79 657.045 1243.88 Q656.328 1242.96 654.892 1242.96 Q653.168 1242.96 652.173 1244.06 Q651.177 1245.16 651.177 1247.06 L651.177 1254.39 L649.036 1254.39 L649.036 1241.42 L651.177 1241.42 L651.177 1243.44 Q651.941 1242.27 652.971 1241.69 Q654.013 1241.11 655.367 1241.11 Q657.601 1241.11 658.747 1242.5 Q659.892 1243.88 659.892 1246.56 Z\" fill=\"#000000\" fill-rule=\"nonzero\" fill-opacity=\"1\" /><path clip-path=\"url(#clip320)\" d=\"M666.247 1237.74 L666.247 1241.42 L670.633 1241.42 L670.633 1243.08 L666.247 1243.08 L666.247 1250.12 Q666.247 1251.7 666.675 1252.15 Q667.115 1252.61 668.446 1252.61 L670.633 1252.61 L670.633 1254.39 L668.446 1254.39 Q665.98 1254.39 665.043 1253.47 Q664.105 1252.55 664.105 1250.12 L664.105 1243.08 L662.543 1243.08 L662.543 1241.42 L664.105 1241.42 L664.105 1237.74 L666.247 1237.74 Z\" fill=\"#000000\" fill-rule=\"nonzero\" fill-opacity=\"1\" /><path clip-path=\"url(#clip320)\" d=\"M679.024 1244.82 Q677.45 1244.82 676.524 1245.89 Q675.61 1246.97 675.61 1248.84 Q675.61 1250.71 676.524 1251.79 Q677.45 1252.87 679.024 1252.87 Q680.598 1252.87 681.513 1251.79 Q682.439 1250.71 682.439 1248.84 Q682.439 1246.97 681.513 1245.89 Q680.598 1244.82 679.024 1244.82 M683.665 1237.49 L683.665 1239.62 Q682.786 1239.2 681.883 1238.98 Q680.992 1238.76 680.112 1238.76 Q677.797 1238.76 676.571 1240.33 Q675.355 1241.89 675.182 1245.05 Q675.865 1244.04 676.895 1243.51 Q677.925 1242.96 679.163 1242.96 Q681.767 1242.96 683.272 1244.55 Q684.788 1246.12 684.788 1248.84 Q684.788 1251.51 683.214 1253.11 Q681.64 1254.72 679.024 1254.72 Q676.027 1254.72 674.441 1252.43 Q672.855 1250.13 672.855 1245.76 Q672.855 1241.67 674.8 1239.24 Q676.744 1236.8 680.02 1236.8 Q680.899 1236.8 681.79 1236.97 Q682.693 1237.14 683.665 1237.49 Z\" fill=\"#000000\" fill-rule=\"nonzero\" fill-opacity=\"1\" /><path clip-path=\"url(#clip320)\" d=\"M695.239 1239.14 L689.337 1248.37 L695.239 1248.37 L695.239 1239.14 M694.626 1237.11 L697.566 1237.11 L697.566 1248.37 L700.031 1248.37 L700.031 1250.31 L697.566 1250.31 L697.566 1254.39 L695.239 1254.39 L695.239 1250.31 L687.439 1250.31 L687.439 1248.06 L694.626 1237.11 Z\" fill=\"#000000\" fill-rule=\"nonzero\" fill-opacity=\"1\" /><path clip-path=\"url(#clip320)\" d=\"M862.748 1276.57 L865.097 1276.57 L865.097 1287.06 Q865.097 1289.84 866.104 1291.07 Q867.111 1292.28 869.368 1292.28 Q871.613 1292.28 872.62 1291.07 Q873.627 1289.84 873.627 1287.06 L873.627 1276.57 L875.977 1276.57 L875.977 1287.35 Q875.977 1290.73 874.299 1292.46 Q872.632 1294.18 869.368 1294.18 Q866.093 1294.18 864.414 1292.46 Q862.748 1290.73 862.748 1287.35 L862.748 1276.57 Z\" fill=\"#000000\" fill-rule=\"nonzero\" fill-opacity=\"1\" /><path clip-path=\"url(#clip320)\" d=\"M880.363 1276.57 L882.701 1276.57 L882.701 1293.85 L880.363 1293.85 L880.363 1276.57 Z\" fill=\"#000000\" fill-rule=\"nonzero\" fill-opacity=\"1\" /><path clip-path=\"url(#clip320)\" d=\"M898.037 1286.02 L898.037 1293.85 L895.907 1293.85 L895.907 1286.09 Q895.907 1284.25 895.19 1283.34 Q894.472 1282.42 893.037 1282.42 Q891.312 1282.42 890.317 1283.52 Q889.322 1284.62 889.322 1286.52 L889.322 1293.85 L887.18 1293.85 L887.18 1280.88 L889.322 1280.88 L889.322 1282.9 Q890.086 1281.73 891.116 1281.15 Q892.157 1280.57 893.511 1280.57 Q895.745 1280.57 896.891 1281.96 Q898.037 1283.34 898.037 1286.02 Z\" fill=\"#000000\" fill-rule=\"nonzero\" fill-opacity=\"1\" /><path clip-path=\"url(#clip320)\" d=\"M904.391 1277.2 L904.391 1280.88 L908.778 1280.88 L908.778 1282.54 L904.391 1282.54 L904.391 1289.57 Q904.391 1291.16 904.819 1291.61 Q905.259 1292.06 906.59 1292.06 L908.778 1292.06 L908.778 1293.85 L906.59 1293.85 Q904.125 1293.85 903.187 1292.93 Q902.25 1292.01 902.25 1289.57 L902.25 1282.54 L900.687 1282.54 L900.687 1280.88 L902.25 1280.88 L902.25 1277.2 L904.391 1277.2 Z\" fill=\"#000000\" fill-rule=\"nonzero\" fill-opacity=\"1\" /><path clip-path=\"url(#clip320)\" d=\"M916.879 1285.64 Q915.213 1285.64 914.252 1286.53 Q913.303 1287.42 913.303 1288.98 Q913.303 1290.55 914.252 1291.44 Q915.213 1292.33 916.879 1292.33 Q918.546 1292.33 919.507 1291.44 Q920.467 1290.54 920.467 1288.98 Q920.467 1287.42 919.507 1286.53 Q918.558 1285.64 916.879 1285.64 M914.541 1284.64 Q913.037 1284.27 912.192 1283.24 Q911.359 1282.21 911.359 1280.73 Q911.359 1278.66 912.828 1277.46 Q914.31 1276.25 916.879 1276.25 Q919.46 1276.25 920.93 1277.46 Q922.4 1278.66 922.4 1280.73 Q922.4 1282.21 921.555 1283.24 Q920.722 1284.27 919.229 1284.64 Q920.919 1285.04 921.856 1286.18 Q922.805 1287.33 922.805 1288.98 Q922.805 1291.5 921.266 1292.84 Q919.738 1294.18 916.879 1294.18 Q914.021 1294.18 912.481 1292.84 Q910.953 1291.5 910.953 1288.98 Q910.953 1287.33 911.903 1286.18 Q912.852 1285.04 914.541 1284.64 M913.685 1280.95 Q913.685 1282.29 914.518 1283.05 Q915.363 1283.8 916.879 1283.8 Q918.384 1283.8 919.229 1283.05 Q920.085 1282.29 920.085 1280.95 Q920.085 1279.61 919.229 1278.86 Q918.384 1278.1 916.879 1278.1 Q915.363 1278.1 914.518 1278.86 Q913.685 1279.61 913.685 1280.95 Z\" fill=\"#000000\" fill-rule=\"nonzero\" fill-opacity=\"1\" /></svg>\n"
      ]
     },
     "execution_count": 8,
     "metadata": {},
     "output_type": "execute_result"
    }
   ],
   "source": [
    "using GraphRecipes, Plots\n",
    "\n",
    "#pyplot(size=(800, 600))\n",
    "gr(size=(600, 400))\n",
    "theme(:default)\n",
    "\n",
    "plot(Integer, method = :tree, fontsize = 4)"
   ]
  },
  {
   "cell_type": "markdown",
   "metadata": {},
   "source": [
    "### Signed integers\n",
    "\n",
    "* First bit indicates sign.  \n",
    "    - `0` for nonnegative numbers\n",
    "    - `1` for negative numbers  \n",
    "    \n",
    "* **Two's complement representation** for negative numbers. \n",
    "    - Sign bit is set to 1  \n",
    "    - remaining bits are set to opposite values  \n",
    "    - 1 is added to the result  \n",
    "    - Two's complement representation of a negative integer `x` is same as the unsigned integer `2^64 + x`."
   ]
  },
  {
   "cell_type": "code",
   "execution_count": 9,
   "metadata": {
    "tags": []
   },
   "outputs": [
    {
     "name": "stdout",
     "output_type": "stream",
     "text": [
      "typeof(18) = Int64\n",
      "bitstring(18) = \"0000000000000000000000000000000000000000000000000000000000010010\"\n",
      "bitstring(-18) = \"1111111111111111111111111111111111111111111111111111111111101110\"\n",
      "bitstring(UInt64(Int128(2) ^ 64 - 18)) == bitstring(-18) = true\n",
      "bitstring(2 * 18) = \"0000000000000000000000000000000000000000000000000000000000100100\"\n",
      "bitstring(2 * -18) = \"1111111111111111111111111111111111111111111111111111111111011100\"\n"
     ]
    }
   ],
   "source": [
    "@show typeof(18)\n",
    "@show bitstring(18)\n",
    "@show bitstring(-18)\n",
    "@show bitstring(UInt64(Int128(2)^64 - 18)) == bitstring(-18)\n",
    "@show bitstring(2 * 18) # shift bits of 18\n",
    "@show bitstring(2 * -18); # shift bits of -18"
   ]
  },
  {
   "cell_type": "markdown",
   "metadata": {},
   "source": [
    "* Two's complement representation respects modular arithmetic nicely.  \n",
    "    Addition of any two signed integers are just bitwise addition, possibly modulo $2^M$\n",
    "    \n",
    "<img src=\"http://users.dickinson.edu/~braught/courses/cs251f02/classes/images/twosCompWheel.png\" width=\"400\" align=\"center\"/>    "
   ]
  },
  {
   "cell_type": "markdown",
   "metadata": {},
   "source": [
    "* Arithmetics (addition, substraction, multiplication) of integers are exact except for the possiblity of overflow and underflow.\n",
    "\n",
    "* **Range** of representable integers by $M$-bit **signed integer** is $[-2^{M-1},2^{M-1}-1]$.\n",
    "    - Julia functions `typemin(T)` and `typemax(T)` give the lowest and highest representable number of a type `T` respectively"
   ]
  },
  {
   "cell_type": "code",
   "execution_count": 10,
   "metadata": {
    "tags": []
   },
   "outputs": [
    {
     "data": {
      "text/plain": [
       "(-9223372036854775808, 9223372036854775807)"
      ]
     },
     "execution_count": 10,
     "metadata": {},
     "output_type": "execute_result"
    }
   ],
   "source": [
    "typemin(Int64), typemax(Int64)"
   ]
  },
  {
   "cell_type": "code",
   "execution_count": 11,
   "metadata": {
    "tags": []
   },
   "outputs": [
    {
     "name": "stdout",
     "output_type": "stream",
     "text": [
      "Int8\t-128\t127\n",
      "Int16\t-32768\t32767\n",
      "Int32\t-2147483648\t2147483647\n",
      "Int64\t-9223372036854775808\t9223372036854775807\n",
      "Int128\t-170141183460469231731687303715884105728\t170141183460469231731687303715884105727\n"
     ]
    }
   ],
   "source": [
    "for T in [Int8, Int16, Int32, Int64, Int128]\n",
    "    println(T, '\\t', typemin(T), '\\t', typemax(T))\n",
    "end"
   ]
  },
  {
   "cell_type": "markdown",
   "metadata": {},
   "source": [
    "### Unsigned integers\n",
    "\n",
    "* For unsigned integers, the range is $[0,2^M-1]$."
   ]
  },
  {
   "cell_type": "code",
   "execution_count": 12,
   "metadata": {
    "tags": []
   },
   "outputs": [
    {
     "name": "stdout",
     "output_type": "stream",
     "text": [
      "UInt8\t0\t255\n",
      "UInt16\t0\t65535\n",
      "UInt32\t0\t4294967295\n",
      "UInt64\t0\t18446744073709551615\n",
      "UInt128\t0\t340282366920938463463374607431768211455\n"
     ]
    }
   ],
   "source": [
    "for t in [UInt8, UInt16, UInt32, UInt64, UInt128]\n",
    "    println(t, '\\t', typemin(t), '\\t', typemax(t))\n",
    "end"
   ]
  },
  {
   "cell_type": "markdown",
   "metadata": {},
   "source": [
    "### `BigInt`\n",
    "\n",
    "Julia `BigInt` type is arbitrary precision."
   ]
  },
  {
   "cell_type": "code",
   "execution_count": 13,
   "metadata": {
    "tags": []
   },
   "outputs": [
    {
     "name": "stdout",
     "output_type": "stream",
     "text": [
      "typemax(Int128) = 170141183460469231731687303715884105727\n",
      "typemax(Int128) + 1 = -170141183460469231731687303715884105728\n",
      "BigInt(typemax(Int128)) + 1 = 170141183460469231731687303715884105728\n"
     ]
    }
   ],
   "source": [
    "@show typemax(Int128)\n",
    "@show typemax(Int128) + 1 # modular arithmetic!\n",
    "@show BigInt(typemax(Int128)) + 1;"
   ]
  },
  {
   "cell_type": "markdown",
   "metadata": {},
   "source": [
    "### Overflow and underflow for integer arithmetic\n",
    "\n",
    "R reports `NA` for integer overflow and underflow.  \n",
    "**Julia outputs the result according to modular arithmetic.**"
   ]
  },
  {
   "cell_type": "code",
   "execution_count": 14,
   "metadata": {
    "tags": []
   },
   "outputs": [
    {
     "name": "stdout",
     "output_type": "stream",
     "text": [
      "typemax(Int32) = 2147483647\n",
      "typemax(Int32) + Int32(1) = -2147483648\n"
     ]
    }
   ],
   "source": [
    "@show typemax(Int32)\n",
    "@show typemax(Int32) + Int32(1); # modular arithmetics!"
   ]
  },
  {
   "cell_type": "code",
   "execution_count": 15,
   "metadata": {
    "tags": []
   },
   "outputs": [
    {
     "data": {
      "text/plain": [
       "RObject{IntSxp}\n",
       "[1] 2147483647\n"
      ]
     },
     "execution_count": 15,
     "metadata": {},
     "output_type": "execute_result"
    }
   ],
   "source": [
    "using RCall\n",
    "\n",
    "R\"\"\"\n",
    ".Machine$integer.max\n",
    "\"\"\""
   ]
  },
  {
   "cell_type": "code",
   "execution_count": 16,
   "metadata": {
    "tags": []
   },
   "outputs": [
    {
     "data": {
      "text/plain": [
       "RObject{IntSxp}\n",
       "[1] 2147483647\n"
      ]
     },
     "execution_count": 16,
     "metadata": {},
     "output_type": "execute_result"
    }
   ],
   "source": [
    "R\"\"\"\n",
    "M <- 32\n",
    "big <- 2^(M - 1) - 1\n",
    "as.integer(big)\n",
    "\"\"\""
   ]
  },
  {
   "cell_type": "code",
   "execution_count": 17,
   "metadata": {
    "tags": []
   },
   "outputs": [
    {
     "name": "stderr",
     "output_type": "stream",
     "text": [
      "\u001b[33m\u001b[1m┌ \u001b[22m\u001b[39m\u001b[33m\u001b[1mWarning: \u001b[22m\u001b[39mRCall.jl: Warning: NAs introduced by coercion to integer range\n",
      "\u001b[33m\u001b[1m└ \u001b[22m\u001b[39m\u001b[90m@ RCall ~/.julia/packages/RCall/Wyd74/src/io.jl:172\u001b[39m\n"
     ]
    },
    {
     "data": {
      "text/plain": [
       "RObject{IntSxp}\n",
       "[1] NA\n"
      ]
     },
     "execution_count": 17,
     "metadata": {},
     "output_type": "execute_result"
    }
   ],
   "source": [
    "R\"\"\"\n",
    "as.integer(big + 1)\n",
    "\"\"\""
   ]
  },
  {
   "cell_type": "markdown",
   "metadata": {},
   "source": [
    "## Real numbers: floating-number system\n",
    "\n",
    "Floating-point number system is a computer model for real numbers.\n",
    "\n",
    "* Most computer systems adopt the [IEEE 754 standard](https://en.wikipedia.org/wiki/IEEE_floating_point), established in 1985, for floating-point arithmetics.  \n",
    "For the history, see an [interview with William Kahan](http://www.cs.berkeley.edu/~wkahan/ieee754status/754story.html).\n",
    "\n",
    "* In the scientific notation, a real number is represented as\n",
    "$$\\pm d_0.d_1d_2 \\cdots d_p \\times b^e.$$\n",
    "In computer, the _base_ is $b=2$ and the digits $d_i$ are 0 or 1.\n",
    "\n",
    "* **Normalized** vs **denormalized** numbers. For example, decimal number 18 is\n",
    "$$ +1.0010 \\times 2^4 \\quad (\\text{normalized})$$\n",
    "or, equivalently,\n",
    "$$ +0.1001 \\times 2^5 \\quad (\\text{denormalized}).$$\n",
    "\n",
    "* In the floating-number system, computer stores \n",
    "    - sign bit  \n",
    "    - the _fraction_ (or _mantissa_, or _significand_) of the **normalized** representation\n",
    "    - the actual exponent _plus_ a bias"
   ]
  },
  {
   "cell_type": "code",
   "execution_count": 18,
   "metadata": {
    "tags": []
   },
   "outputs": [
    {
     "data": {
      "image/svg+xml": [
       "<?xml version=\"1.0\" encoding=\"utf-8\"?>\n",
       "<svg xmlns=\"http://www.w3.org/2000/svg\" xmlns:xlink=\"http://www.w3.org/1999/xlink\" width=\"600\" height=\"400\" viewBox=\"0 0 2400 1600\">\n",
       "<defs>\n",
       "  <clipPath id=\"clip350\">\n",
       "    <rect x=\"0\" y=\"0\" width=\"2400\" height=\"1600\"/>\n",
       "  </clipPath>\n",
       "</defs>\n",
       "<path clip-path=\"url(#clip350)\" d=\"M0 1600 L2400 1600 L2400 0 L0 0  Z\" fill=\"#ffffff\" fill-rule=\"evenodd\" fill-opacity=\"1\"/>\n",
       "<defs>\n",
       "  <clipPath id=\"clip351\">\n",
       "    <rect x=\"480\" y=\"0\" width=\"1681\" height=\"1600\"/>\n",
       "  </clipPath>\n",
       "</defs>\n",
       "<path clip-path=\"url(#clip350)\" d=\"M447.244 1552.76 L1952.76 1552.76 L1952.76 47.2441 L447.244 47.2441  Z\" fill=\"#ffffff\" fill-rule=\"evenodd\" fill-opacity=\"1\"/>\n",
       "<defs>\n",
       "  <clipPath id=\"clip352\">\n",
       "    <rect x=\"447\" y=\"47\" width=\"1507\" height=\"1507\"/>\n",
       "  </clipPath>\n",
       "</defs>\n",
       "<polyline clip-path=\"url(#clip352)\" style=\"stroke:#000000; stroke-linecap:round; stroke-linejoin:round; stroke-width:4; stroke-opacity:1; fill:none\" points=\"1269.65,262.317 1269.62,269.55 1269.54,276.934 1269.41,284.46 1269.24,292.115 1269.03,299.889 1268.78,307.769 1268.5,315.746 1268.2,323.807 1267.86,331.941 1267.51,340.138 1267.13,348.385 1266.75,356.671 1266.35,364.986 1265.95,373.318 1265.55,381.655 1265.15,389.987 1264.75,398.302 1264.37,406.588 1263.99,414.835 1263.64,423.032 1263.3,431.166 1262.99,439.227 1262.71,447.204 1262.47,455.084 1262.26,462.858 1262.08,470.513 1261.96,478.039 1261.88,485.423 1261.85,492.656 \"/>\n",
       "<polyline clip-path=\"url(#clip352)\" style=\"stroke:#000000; stroke-linecap:round; stroke-linejoin:round; stroke-width:4; stroke-opacity:1; fill:none\" points=\"1261.85,492.656 1261.87,503.295 1261.92,514.159 1261.99,525.231 1262.1,536.495 1262.22,547.935 1262.38,559.532 1262.55,571.271 1262.73,583.135 1262.94,595.107 1263.15,607.171 1263.38,619.31 1263.61,631.507 1263.85,643.746 1264.1,656.01 1264.34,668.282 1264.58,680.546 1264.82,692.785 1265.06,704.983 1265.29,717.122 1265.5,729.186 1265.7,741.158 1265.89,753.022 1266.06,764.761 1266.21,776.358 1266.34,787.797 1266.44,799.061 1266.52,810.134 1266.57,820.998 1266.59,831.637 \"/>\n",
       "<polyline clip-path=\"url(#clip352)\" style=\"stroke:#000000; stroke-linecap:round; stroke-linejoin:round; stroke-width:4; stroke-opacity:1; fill:none\" points=\"1266.59,831.637 1266.45,839.451 1266.06,847.41 1265.44,855.504 1264.6,863.723 1263.55,872.055 1262.33,880.49 1260.95,889.016 1259.43,897.624 1257.78,906.301 1256.03,915.038 1254.2,923.824 1252.3,932.647 1250.35,941.498 1248.37,950.365 1246.38,959.237 1244.41,968.103 1242.46,976.954 1240.56,985.777 1238.72,994.563 1236.97,1003.3 1235.33,1011.98 1233.8,1020.59 1232.42,1029.11 1231.2,1037.55 1230.16,1045.88 1229.32,1054.1 1228.69,1062.19 1228.3,1070.15 1228.17,1077.96 \"/>\n",
       "<polyline clip-path=\"url(#clip352)\" style=\"stroke:#000000; stroke-linecap:round; stroke-linejoin:round; stroke-width:4; stroke-opacity:1; fill:none\" points=\"1228.17,1077.96 1227.32,1088.51 1224.86,1098.63 1220.89,1108.34 1215.56,1117.69 1208.96,1126.71 1201.23,1135.42 1192.48,1143.86 1182.83,1152.06 1172.4,1160.05 1161.32,1167.87 1149.7,1175.54 1137.65,1183.1 1125.31,1190.58 1112.79,1198.02 1100.21,1205.44 1087.69,1212.87 1075.35,1220.35 1063.3,1227.92 1051.68,1235.59 1040.6,1243.41 1030.17,1251.4 1020.52,1259.6 1011.77,1268.04 1004.04,1276.75 997.444,1285.76 992.106,1295.11 988.145,1304.83 985.68,1314.95 984.832,1325.49 \"/>\n",
       "<polyline clip-path=\"url(#clip352)\" style=\"stroke:#000000; stroke-linecap:round; stroke-linejoin:round; stroke-width:4; stroke-opacity:1; fill:none\" points=\"1228.17,1077.96 1226.2,1086.05 1220.46,1093.6 1211.25,1100.65 1198.84,1107.24 1183.51,1113.41 1165.52,1119.21 1145.18,1124.67 1122.74,1129.83 1098.5,1134.73 1072.72,1139.41 1045.69,1143.92 1017.69,1148.28 988.988,1152.55 959.871,1156.75 930.614,1160.94 901.497,1165.14 872.797,1169.41 844.793,1173.77 817.764,1178.27 791.988,1182.96 767.743,1187.86 745.307,1193.02 724.96,1198.48 706.979,1204.27 691.643,1210.45 679.231,1217.04 670.02,1224.09 664.289,1231.64 662.317,1239.72 \"/>\n",
       "<polyline clip-path=\"url(#clip352)\" style=\"stroke:#000000; stroke-linecap:round; stroke-linejoin:round; stroke-width:4; stroke-opacity:1; fill:none\" points=\"1228.17,1077.96 1229.08,1087.85 1231.72,1097.09 1235.96,1105.76 1241.68,1113.88 1248.74,1121.51 1257.02,1128.7 1266.39,1135.49 1276.73,1141.92 1287.9,1148.06 1299.77,1153.93 1312.22,1159.59 1325.12,1165.09 1338.34,1170.47 1351.75,1175.79 1365.22,1181.08 1378.63,1186.39 1391.85,1191.77 1404.75,1197.27 1417.2,1202.93 1429.08,1208.81 1440.24,1214.94 1450.58,1221.37 1459.95,1228.16 1468.23,1235.35 1475.3,1242.98 1481.01,1251.1 1485.26,1259.77 1487.89,1269.02 1488.8,1278.9 \"/>\n",
       "<polyline clip-path=\"url(#clip352)\" style=\"stroke:#000000; stroke-linecap:round; stroke-linejoin:round; stroke-width:4; stroke-opacity:1; fill:none\" points=\"1228.17,1077.96 1229.94,1090.95 1235.1,1103.06 1243.4,1114.38 1254.57,1124.97 1268.38,1134.88 1284.57,1144.19 1302.9,1152.95 1323.1,1161.24 1344.93,1169.11 1368.14,1176.63 1392.48,1183.86 1417.69,1190.86 1443.53,1197.71 1469.75,1204.46 1496.1,1211.18 1522.32,1217.93 1548.16,1224.78 1573.37,1231.79 1597.71,1239.02 1620.92,1246.54 1642.75,1254.41 1662.96,1262.69 1681.28,1271.46 1697.47,1280.76 1711.28,1290.68 1722.45,1301.26 1730.75,1312.58 1735.91,1324.7 1737.68,1337.68 \"/>\n",
       "<path clip-path=\"url(#clip352)\" d=\"M1297.62 262.317 L1283.63 238.095 L1255.66 238.095 L1241.68 262.317 L1255.66 286.539 L1283.63 286.539 L1297.62 262.317 L1297.62 262.317  Z\" fill=\"#009af9\" fill-rule=\"evenodd\" fill-opacity=\"1\"/>\n",
       "<polyline clip-path=\"url(#clip352)\" style=\"stroke:#000000; stroke-linecap:round; stroke-linejoin:round; stroke-width:4; stroke-opacity:1; fill:none\" points=\"1297.62,262.317 1283.63,238.095 1255.66,238.095 1241.68,262.317 1255.66,286.539 1283.63,286.539 1297.62,262.317 \"/>\n",
       "<path clip-path=\"url(#clip352)\" d=\"M1310.55 492.656 L1286.2 450.483 L1237.5 450.483 L1213.15 492.656 L1237.5 534.828 L1286.2 534.828 L1310.55 492.656 L1310.55 492.656  Z\" fill=\"#009af9\" fill-rule=\"evenodd\" fill-opacity=\"1\"/>\n",
       "<polyline clip-path=\"url(#clip352)\" style=\"stroke:#000000; stroke-linecap:round; stroke-linejoin:round; stroke-width:4; stroke-opacity:1; fill:none\" points=\"1310.55,492.656 1286.2,450.483 1237.5,450.483 1213.15,492.656 1237.5,534.828 1286.2,534.828 1310.55,492.656 \"/>\n",
       "<path clip-path=\"url(#clip352)\" d=\"M1301.79 831.637 L1284.19 801.147 L1248.98 801.147 L1231.38 831.637 L1248.98 862.127 L1284.19 862.127 L1301.79 831.637 L1301.79 831.637  Z\" fill=\"#009af9\" fill-rule=\"evenodd\" fill-opacity=\"1\"/>\n",
       "<polyline clip-path=\"url(#clip352)\" style=\"stroke:#000000; stroke-linecap:round; stroke-linejoin:round; stroke-width:4; stroke-opacity:1; fill:none\" points=\"1301.79,831.637 1284.19,801.147 1248.98,801.147 1231.38,831.637 1248.98,862.127 1284.19,862.127 1301.79,831.637 \"/>\n",
       "<path clip-path=\"url(#clip352)\" d=\"M1318.56 1077.96 L1273.36 999.682 L1182.97 999.682 L1137.77 1077.96 L1182.97 1156.25 L1273.36 1156.25 L1318.56 1077.96 L1318.56 1077.96  Z\" fill=\"#009af9\" fill-rule=\"evenodd\" fill-opacity=\"1\"/>\n",
       "<polyline clip-path=\"url(#clip352)\" style=\"stroke:#000000; stroke-linecap:round; stroke-linejoin:round; stroke-width:4; stroke-opacity:1; fill:none\" points=\"1318.56,1077.96 1273.36,999.682 1182.97,999.682 1137.77,1077.96 1182.97,1156.25 1273.36,1156.25 1318.56,1077.96 \"/>\n",
       "<path clip-path=\"url(#clip352)\" d=\"M1046.13 1325.49 L1015.48 1272.41 L954.183 1272.41 L923.534 1325.49 L954.183 1378.58 L1015.48 1378.58 L1046.13 1325.49 L1046.13 1325.49  Z\" fill=\"#009af9\" fill-rule=\"evenodd\" fill-opacity=\"1\"/>\n",
       "<polyline clip-path=\"url(#clip352)\" style=\"stroke:#000000; stroke-linecap:round; stroke-linejoin:round; stroke-width:4; stroke-opacity:1; fill:none\" points=\"1046.13,1325.49 1015.48,1272.41 954.183,1272.41 923.534,1325.49 954.183,1378.58 1015.48,1378.58 1046.13,1325.49 \"/>\n",
       "<path clip-path=\"url(#clip352)\" d=\"M717.405 1239.72 L689.861 1192.02 L634.773 1192.02 L607.229 1239.72 L634.773 1287.43 L689.861 1287.43 L717.405 1239.72 L717.405 1239.72  Z\" fill=\"#009af9\" fill-rule=\"evenodd\" fill-opacity=\"1\"/>\n",
       "<polyline clip-path=\"url(#clip352)\" style=\"stroke:#000000; stroke-linecap:round; stroke-linejoin:round; stroke-width:4; stroke-opacity:1; fill:none\" points=\"717.405,1239.72 689.861,1192.02 634.773,1192.02 607.229,1239.72 634.773,1287.43 689.861,1287.43 717.405,1239.72 \"/>\n",
       "<path clip-path=\"url(#clip352)\" d=\"M1543.89 1278.9 L1516.35 1231.19 L1461.26 1231.19 L1433.71 1278.9 L1461.26 1326.61 L1516.35 1326.61 L1543.89 1278.9 L1543.89 1278.9  Z\" fill=\"#009af9\" fill-rule=\"evenodd\" fill-opacity=\"1\"/>\n",
       "<polyline clip-path=\"url(#clip352)\" style=\"stroke:#000000; stroke-linecap:round; stroke-linejoin:round; stroke-width:4; stroke-opacity:1; fill:none\" points=\"1543.89,1278.9 1516.35,1231.19 1461.26,1231.19 1433.71,1278.9 1461.26,1326.61 1516.35,1326.61 1543.89,1278.9 \"/>\n",
       "<path clip-path=\"url(#clip352)\" d=\"M1792.77 1337.68 L1765.23 1289.98 L1710.14 1289.98 L1682.59 1337.68 L1710.14 1385.39 L1765.23 1385.39 L1792.77 1337.68 L1792.77 1337.68  Z\" fill=\"#009af9\" fill-rule=\"evenodd\" fill-opacity=\"1\"/>\n",
       "<polyline clip-path=\"url(#clip352)\" style=\"stroke:#000000; stroke-linecap:round; stroke-linejoin:round; stroke-width:4; stroke-opacity:1; fill:none\" points=\"1792.77,1337.68 1765.23,1289.98 1710.14,1289.98 1682.59,1337.68 1710.14,1385.39 1765.23,1385.39 1792.77,1337.68 \"/>\n",
       "<path clip-path=\"url(#clip352)\" d=\"M1269.65 262.717 L1269.3 262.517 L1269.3 262.117 L1269.65 261.917 L1269.99 262.117 L1269.99 262.517 Z\" fill=\"#009af9\" fill-rule=\"evenodd\" fill-opacity=\"1\" stroke=\"#000000\" stroke-opacity=\"1\" stroke-width=\"3.2\"/>\n",
       "<path clip-path=\"url(#clip352)\" d=\"M1261.85 493.056 L1261.5 492.856 L1261.5 492.456 L1261.85 492.256 L1262.2 492.456 L1262.2 492.856 Z\" fill=\"#009af9\" fill-rule=\"evenodd\" fill-opacity=\"1\" stroke=\"#000000\" stroke-opacity=\"1\" stroke-width=\"3.2\"/>\n",
       "<path clip-path=\"url(#clip352)\" d=\"M1266.59 832.037 L1266.24 831.837 L1266.24 831.437 L1266.59 831.237 L1266.93 831.437 L1266.93 831.837 Z\" fill=\"#009af9\" fill-rule=\"evenodd\" fill-opacity=\"1\" stroke=\"#000000\" stroke-opacity=\"1\" stroke-width=\"3.2\"/>\n",
       "<path clip-path=\"url(#clip352)\" d=\"M1228.17 1078.36 L1227.82 1078.16 L1227.82 1077.76 L1228.17 1077.56 L1228.51 1077.76 L1228.51 1078.16 Z\" fill=\"#009af9\" fill-rule=\"evenodd\" fill-opacity=\"1\" stroke=\"#000000\" stroke-opacity=\"1\" stroke-width=\"3.2\"/>\n",
       "<path clip-path=\"url(#clip352)\" d=\"M984.832 1325.89 L984.486 1325.69 L984.486 1325.29 L984.832 1325.09 L985.179 1325.29 L985.179 1325.69 Z\" fill=\"#009af9\" fill-rule=\"evenodd\" fill-opacity=\"1\" stroke=\"#000000\" stroke-opacity=\"1\" stroke-width=\"3.2\"/>\n",
       "<path clip-path=\"url(#clip352)\" d=\"M662.317 1240.12 L661.971 1239.92 L661.971 1239.52 L662.317 1239.32 L662.664 1239.52 L662.664 1239.92 Z\" fill=\"#009af9\" fill-rule=\"evenodd\" fill-opacity=\"1\" stroke=\"#000000\" stroke-opacity=\"1\" stroke-width=\"3.2\"/>\n",
       "<path clip-path=\"url(#clip352)\" d=\"M1488.8 1279.3 L1488.46 1279.1 L1488.46 1278.7 L1488.8 1278.5 L1489.15 1278.7 L1489.15 1279.1 Z\" fill=\"#009af9\" fill-rule=\"evenodd\" fill-opacity=\"1\" stroke=\"#000000\" stroke-opacity=\"1\" stroke-width=\"3.2\"/>\n",
       "<path clip-path=\"url(#clip352)\" d=\"M1737.68 1338.08 L1737.34 1337.88 L1737.34 1337.48 L1737.68 1337.28 L1738.03 1337.48 L1738.03 1337.88 Z\" fill=\"#009af9\" fill-rule=\"evenodd\" fill-opacity=\"1\" stroke=\"#000000\" stroke-opacity=\"1\" stroke-width=\"3.2\"/>\n",
       "<path clip-path=\"url(#clip350)\" d=\"M1255.38 255.98 L1252.21 264.58 L1258.56 264.58 L1255.38 255.98 M1254.06 253.677 L1256.71 253.677 L1263.29 270.957 L1260.86 270.957 L1259.29 266.524 L1251.5 266.524 L1249.93 270.957 L1247.46 270.957 L1254.06 253.677 Z\" fill=\"#000000\" fill-rule=\"nonzero\" fill-opacity=\"1\" /><path clip-path=\"url(#clip350)\" d=\"M1276.5 263.133 L1276.5 270.957 L1274.37 270.957 L1274.37 263.203 Q1274.37 261.362 1273.65 260.448 Q1272.93 259.534 1271.5 259.534 Q1269.78 259.534 1268.78 260.633 Q1267.78 261.733 1267.78 263.631 L1267.78 270.957 L1265.64 270.957 L1265.64 257.994 L1267.78 257.994 L1267.78 260.008 Q1268.55 258.839 1269.58 258.261 Q1270.62 257.682 1271.97 257.682 Q1274.21 257.682 1275.35 259.071 Q1276.5 260.448 1276.5 263.133 Z\" fill=\"#000000\" fill-rule=\"nonzero\" fill-opacity=\"1\" /><path clip-path=\"url(#clip350)\" d=\"M1286.14 272.161 Q1285.24 274.476 1284.38 275.182 Q1283.53 275.888 1282.09 275.888 L1280.39 275.888 L1280.39 274.105 L1281.64 274.105 Q1282.52 274.105 1283 273.689 Q1283.49 273.272 1284.08 271.721 L1284.46 270.749 L1279.22 257.994 L1281.48 257.994 L1285.53 268.133 L1289.58 257.994 L1291.84 257.994 L1286.14 272.161 Z\" fill=\"#000000\" fill-rule=\"nonzero\" fill-opacity=\"1\" /><path clip-path=\"url(#clip350)\" d=\"M1215.4 484.016 L1218.55 484.016 L1226.21 498.472 L1226.21 484.016 L1228.48 484.016 L1228.48 501.296 L1225.34 501.296 L1217.67 486.84 L1217.67 501.296 L1215.4 501.296 L1215.4 484.016 Z\" fill=\"#000000\" fill-rule=\"nonzero\" fill-opacity=\"1\" /><path clip-path=\"url(#clip350)\" d=\"M1232.82 496.18 L1232.82 488.333 L1234.95 488.333 L1234.95 496.099 Q1234.95 497.939 1235.67 498.865 Q1236.39 499.779 1237.82 499.779 Q1239.55 499.779 1240.54 498.68 Q1241.55 497.58 1241.55 495.682 L1241.55 488.333 L1243.68 488.333 L1243.68 501.296 L1241.55 501.296 L1241.55 499.305 Q1240.77 500.485 1239.74 501.064 Q1238.73 501.631 1237.37 501.631 Q1235.14 501.631 1233.98 500.242 Q1232.82 498.854 1232.82 496.18 M1238.18 488.02 L1238.18 488.02 Z\" fill=\"#000000\" fill-rule=\"nonzero\" fill-opacity=\"1\" /><path clip-path=\"url(#clip350)\" d=\"M1258.16 490.821 Q1258.96 489.386 1260.07 488.703 Q1261.18 488.02 1262.68 488.02 Q1264.71 488.02 1265.81 489.444 Q1266.91 490.856 1266.91 493.472 L1266.91 501.296 L1264.77 501.296 L1264.77 493.541 Q1264.77 491.678 1264.11 490.775 Q1263.45 489.872 1262.09 489.872 Q1260.44 489.872 1259.48 490.972 Q1258.52 492.071 1258.52 493.969 L1258.52 501.296 L1256.38 501.296 L1256.38 493.541 Q1256.38 491.666 1255.72 490.775 Q1255.06 489.872 1253.68 489.872 Q1252.05 489.872 1251.09 490.983 Q1250.13 492.083 1250.13 493.969 L1250.13 501.296 L1247.99 501.296 L1247.99 488.333 L1250.13 488.333 L1250.13 490.347 Q1250.86 489.154 1251.87 488.587 Q1252.89 488.02 1254.29 488.02 Q1255.71 488.02 1256.69 488.738 Q1257.68 489.455 1258.16 490.821 Z\" fill=\"#000000\" fill-rule=\"nonzero\" fill-opacity=\"1\" /><path clip-path=\"url(#clip350)\" d=\"M1280.46 494.826 Q1280.46 492.476 1279.49 491.145 Q1278.53 489.803 1276.84 489.803 Q1275.15 489.803 1274.18 491.145 Q1273.22 492.476 1273.22 494.826 Q1273.22 497.175 1274.18 498.518 Q1275.15 499.849 1276.84 499.849 Q1278.53 499.849 1279.49 498.518 Q1280.46 497.175 1280.46 494.826 M1273.22 490.3 Q1273.89 489.143 1274.91 488.587 Q1275.94 488.02 1277.36 488.02 Q1279.72 488.02 1281.19 489.895 Q1282.67 491.77 1282.67 494.826 Q1282.67 497.881 1281.19 499.756 Q1279.72 501.631 1277.36 501.631 Q1275.94 501.631 1274.91 501.076 Q1273.89 500.509 1273.22 499.351 L1273.22 501.296 L1271.08 501.296 L1271.08 483.286 L1273.22 483.286 L1273.22 490.3 Z\" fill=\"#000000\" fill-rule=\"nonzero\" fill-opacity=\"1\" /><path clip-path=\"url(#clip350)\" d=\"M1297.29 494.282 L1297.29 495.323 L1287.5 495.323 Q1287.64 497.522 1288.82 498.68 Q1290.01 499.826 1292.13 499.826 Q1293.36 499.826 1294.5 499.525 Q1295.66 499.224 1296.79 498.622 L1296.79 500.636 Q1295.65 501.122 1294.44 501.377 Q1293.24 501.631 1292 501.631 Q1288.9 501.631 1287.08 499.826 Q1285.28 498.02 1285.28 494.941 Q1285.28 491.759 1286.99 489.895 Q1288.71 488.02 1291.63 488.02 Q1294.25 488.02 1295.76 489.71 Q1297.29 491.388 1297.29 494.282 M1295.16 493.657 Q1295.14 491.909 1294.18 490.867 Q1293.23 489.826 1291.65 489.826 Q1289.87 489.826 1288.8 490.833 Q1287.73 491.84 1287.57 493.668 L1295.16 493.657 Z\" fill=\"#000000\" fill-rule=\"nonzero\" fill-opacity=\"1\" /><path clip-path=\"url(#clip350)\" d=\"M1308.3 490.323 Q1307.94 490.115 1307.51 490.023 Q1307.09 489.918 1306.58 489.918 Q1304.78 489.918 1303.81 491.099 Q1302.85 492.268 1302.85 494.467 L1302.85 501.296 L1300.71 501.296 L1300.71 488.333 L1302.85 488.333 L1302.85 490.347 Q1303.52 489.166 1304.59 488.599 Q1305.67 488.02 1307.21 488.02 Q1307.43 488.02 1307.7 488.055 Q1307.96 488.078 1308.29 488.136 L1308.3 490.323 Z\" fill=\"#000000\" fill-rule=\"nonzero\" fill-opacity=\"1\" /><path clip-path=\"url(#clip350)\" d=\"M1251.51 832.175 Q1252.26 832.43 1252.96 833.263 Q1253.68 834.097 1254.4 835.555 L1256.77 840.277 L1254.26 840.277 L1252.05 835.844 Q1251.19 834.108 1250.38 833.541 Q1249.58 832.974 1248.2 832.974 L1245.65 832.974 L1245.65 840.277 L1243.31 840.277 L1243.31 822.997 L1248.59 822.997 Q1251.55 822.997 1253.01 824.236 Q1254.47 825.474 1254.47 827.974 Q1254.47 829.606 1253.7 830.682 Q1252.95 831.759 1251.51 832.175 M1245.65 824.918 L1245.65 831.053 L1248.59 831.053 Q1250.28 831.053 1251.14 830.277 Q1252 829.49 1252 827.974 Q1252 826.458 1251.14 825.694 Q1250.28 824.918 1248.59 824.918 L1245.65 824.918 Z\" fill=\"#000000\" fill-rule=\"nonzero\" fill-opacity=\"1\" /><path clip-path=\"url(#clip350)\" d=\"M1269.71 833.263 L1269.71 834.305 L1259.92 834.305 Q1260.06 836.504 1261.24 837.661 Q1262.43 838.807 1264.55 838.807 Q1265.78 838.807 1266.92 838.506 Q1268.08 838.205 1269.21 837.604 L1269.21 839.617 Q1268.07 840.103 1266.86 840.358 Q1265.66 840.613 1264.42 840.613 Q1261.32 840.613 1259.5 838.807 Q1257.7 837.002 1257.7 833.923 Q1257.7 830.74 1259.41 828.877 Q1261.13 827.002 1264.05 827.002 Q1266.67 827.002 1268.18 828.692 Q1269.71 830.37 1269.71 833.263 M1267.58 832.638 Q1267.56 830.891 1266.6 829.849 Q1265.65 828.807 1264.07 828.807 Q1262.29 828.807 1261.22 829.814 Q1260.15 830.821 1259.99 832.65 L1267.58 832.638 Z\" fill=\"#000000\" fill-rule=\"nonzero\" fill-opacity=\"1\" /><path clip-path=\"url(#clip350)\" d=\"M1279.1 833.761 Q1276.52 833.761 1275.52 834.351 Q1274.53 834.941 1274.53 836.365 Q1274.53 837.499 1275.27 838.171 Q1276.02 838.83 1277.3 838.83 Q1279.07 838.83 1280.14 837.58 Q1281.22 836.319 1281.22 834.235 L1281.22 833.761 L1279.1 833.761 M1283.35 832.881 L1283.35 840.277 L1281.22 840.277 L1281.22 838.31 Q1280.49 839.49 1279.4 840.057 Q1278.31 840.613 1276.74 840.613 Q1274.75 840.613 1273.57 839.502 Q1272.4 838.379 1272.4 836.504 Q1272.4 834.316 1273.85 833.205 Q1275.32 832.094 1278.23 832.094 L1281.22 832.094 L1281.22 831.886 Q1281.22 830.416 1280.24 829.617 Q1279.28 828.807 1277.54 828.807 Q1276.42 828.807 1275.37 829.073 Q1274.32 829.34 1273.35 829.872 L1273.35 827.904 Q1274.51 827.453 1275.61 827.233 Q1276.71 827.002 1277.76 827.002 Q1280.57 827.002 1281.96 828.46 Q1283.35 829.918 1283.35 832.881 Z\" fill=\"#000000\" fill-rule=\"nonzero\" fill-opacity=\"1\" /><path clip-path=\"url(#clip350)\" d=\"M1287.73 822.268 L1289.86 822.268 L1289.86 840.277 L1287.73 840.277 L1287.73 822.268 Z\" fill=\"#000000\" fill-rule=\"nonzero\" fill-opacity=\"1\" /><path clip-path=\"url(#clip350)\" d=\"M1157.44 1071.63 L1154.27 1080.23 L1160.62 1080.23 L1157.44 1071.63 M1156.12 1069.32 L1158.77 1069.32 L1165.36 1086.6 L1162.92 1086.6 L1161.35 1082.17 L1153.56 1082.17 L1151.99 1086.6 L1149.52 1086.6 L1156.12 1069.32 Z\" fill=\"#000000\" fill-rule=\"nonzero\" fill-opacity=\"1\" /><path clip-path=\"url(#clip350)\" d=\"M1177.09 1080.13 Q1177.09 1077.78 1176.12 1076.45 Q1175.16 1075.11 1173.47 1075.11 Q1171.78 1075.11 1170.81 1076.45 Q1169.85 1077.78 1169.85 1080.13 Q1169.85 1082.48 1170.81 1083.83 Q1171.78 1085.16 1173.47 1085.16 Q1175.16 1085.16 1176.12 1083.83 Q1177.09 1082.48 1177.09 1080.13 M1169.85 1075.61 Q1170.52 1074.45 1171.54 1073.9 Q1172.57 1073.33 1173.99 1073.33 Q1176.35 1073.33 1177.82 1075.2 Q1179.3 1077.08 1179.3 1080.13 Q1179.3 1083.19 1177.82 1085.06 Q1176.35 1086.94 1173.99 1086.94 Q1172.57 1086.94 1171.54 1086.38 Q1170.52 1085.82 1169.85 1084.66 L1169.85 1086.6 L1167.7 1086.6 L1167.7 1068.6 L1169.85 1068.6 L1169.85 1075.61 Z\" fill=\"#000000\" fill-rule=\"nonzero\" fill-opacity=\"1\" /><path clip-path=\"url(#clip350)\" d=\"M1191.1 1074.02 L1191.1 1076.04 Q1190.19 1075.57 1189.22 1075.34 Q1188.25 1075.11 1187.21 1075.11 Q1185.62 1075.11 1184.82 1075.6 Q1184.04 1076.08 1184.04 1077.06 Q1184.04 1077.8 1184.6 1078.22 Q1185.17 1078.64 1186.88 1079.02 L1187.61 1079.19 Q1189.88 1079.67 1190.83 1080.56 Q1191.79 1081.44 1191.79 1083.03 Q1191.79 1084.83 1190.36 1085.89 Q1188.93 1086.94 1186.43 1086.94 Q1185.39 1086.94 1184.26 1086.73 Q1183.13 1086.53 1181.88 1086.13 L1181.88 1083.93 Q1183.06 1084.54 1184.21 1084.86 Q1185.36 1085.16 1186.48 1085.16 Q1187.98 1085.16 1188.79 1084.65 Q1189.6 1084.13 1189.6 1083.19 Q1189.6 1082.32 1189.01 1081.86 Q1188.43 1081.4 1186.45 1080.97 L1185.71 1080.79 Q1183.74 1080.38 1182.86 1079.52 Q1181.98 1078.65 1181.98 1077.15 Q1181.98 1075.32 1183.27 1074.32 Q1184.57 1073.33 1186.95 1073.33 Q1188.13 1073.33 1189.17 1073.5 Q1190.22 1073.68 1191.1 1074.02 Z\" fill=\"#000000\" fill-rule=\"nonzero\" fill-opacity=\"1\" /><path clip-path=\"url(#clip350)\" d=\"M1197.29 1069.96 L1197.29 1073.64 L1201.67 1073.64 L1201.67 1075.3 L1197.29 1075.3 L1197.29 1082.33 Q1197.29 1083.92 1197.72 1084.37 Q1198.16 1084.82 1199.49 1084.82 L1201.67 1084.82 L1201.67 1086.6 L1199.49 1086.6 Q1197.02 1086.6 1196.08 1085.69 Q1195.15 1084.76 1195.15 1082.33 L1195.15 1075.3 L1193.58 1075.3 L1193.58 1073.64 L1195.15 1073.64 L1195.15 1069.96 L1197.29 1069.96 Z\" fill=\"#000000\" fill-rule=\"nonzero\" fill-opacity=\"1\" /><path clip-path=\"url(#clip350)\" d=\"M1211.99 1075.63 Q1211.63 1075.42 1211.2 1075.33 Q1210.78 1075.23 1210.27 1075.23 Q1208.47 1075.23 1207.5 1076.41 Q1206.54 1077.58 1206.54 1079.78 L1206.54 1086.6 L1204.39 1086.6 L1204.39 1073.64 L1206.54 1073.64 L1206.54 1075.66 Q1207.21 1074.47 1208.28 1073.91 Q1209.36 1073.33 1210.9 1073.33 Q1211.12 1073.33 1211.39 1073.36 Q1211.65 1073.39 1211.98 1073.44 L1211.99 1075.63 Z\" fill=\"#000000\" fill-rule=\"nonzero\" fill-opacity=\"1\" /><path clip-path=\"url(#clip350)\" d=\"M1220.11 1080.09 Q1217.53 1080.09 1216.54 1080.68 Q1215.54 1081.27 1215.54 1082.69 Q1215.54 1083.83 1216.28 1084.5 Q1217.03 1085.16 1218.32 1085.16 Q1220.09 1085.16 1221.15 1083.91 Q1222.23 1082.65 1222.23 1080.56 L1222.23 1080.09 L1220.11 1080.09 M1224.36 1079.21 L1224.36 1086.6 L1222.23 1086.6 L1222.23 1084.64 Q1221.5 1085.82 1220.41 1086.38 Q1219.33 1086.94 1217.75 1086.94 Q1215.76 1086.94 1214.58 1085.83 Q1213.41 1084.71 1213.41 1082.83 Q1213.41 1080.64 1214.87 1079.53 Q1216.34 1078.42 1219.24 1078.42 L1222.23 1078.42 L1222.23 1078.21 Q1222.23 1076.74 1221.26 1075.94 Q1220.3 1075.13 1218.55 1075.13 Q1217.44 1075.13 1216.39 1075.4 Q1215.33 1075.67 1214.36 1076.2 L1214.36 1074.23 Q1215.53 1073.78 1216.63 1073.56 Q1217.73 1073.33 1218.77 1073.33 Q1221.58 1073.33 1222.97 1074.79 Q1224.36 1076.25 1224.36 1079.21 Z\" fill=\"#000000\" fill-rule=\"nonzero\" fill-opacity=\"1\" /><path clip-path=\"url(#clip350)\" d=\"M1238.07 1074.14 L1238.07 1076.13 Q1237.17 1075.63 1236.26 1075.39 Q1235.36 1075.13 1234.43 1075.13 Q1232.36 1075.13 1231.21 1076.45 Q1230.07 1077.76 1230.07 1080.13 Q1230.07 1082.51 1231.21 1083.83 Q1232.36 1085.13 1234.43 1085.13 Q1235.36 1085.13 1236.26 1084.89 Q1237.17 1084.64 1238.07 1084.14 L1238.07 1086.11 Q1237.18 1086.52 1236.22 1086.73 Q1235.27 1086.94 1234.2 1086.94 Q1231.27 1086.94 1229.54 1085.1 Q1227.82 1083.26 1227.82 1080.13 Q1227.82 1076.96 1229.56 1075.15 Q1231.3 1073.33 1234.34 1073.33 Q1235.32 1073.33 1236.26 1073.54 Q1237.2 1073.73 1238.07 1074.14 Z\" fill=\"#000000\" fill-rule=\"nonzero\" fill-opacity=\"1\" /><path clip-path=\"url(#clip350)\" d=\"M1243.89 1069.96 L1243.89 1073.64 L1248.27 1073.64 L1248.27 1075.3 L1243.89 1075.3 L1243.89 1082.33 Q1243.89 1083.92 1244.31 1084.37 Q1244.75 1084.82 1246.08 1084.82 L1248.27 1084.82 L1248.27 1086.6 L1246.08 1086.6 Q1243.62 1086.6 1242.68 1085.69 Q1241.74 1084.76 1241.74 1082.33 L1241.74 1075.3 L1240.18 1075.3 L1240.18 1073.64 L1241.74 1073.64 L1241.74 1069.96 L1243.89 1069.96 Z\" fill=\"#000000\" fill-rule=\"nonzero\" fill-opacity=\"1\" /><path clip-path=\"url(#clip350)\" d=\"M1251.17 1069.32 L1261.1 1069.32 L1261.1 1071.29 L1253.5 1071.29 L1253.5 1076.38 L1260.35 1076.38 L1260.35 1078.35 L1253.5 1078.35 L1253.5 1086.6 L1251.17 1086.6 L1251.17 1069.32 Z\" fill=\"#000000\" fill-rule=\"nonzero\" fill-opacity=\"1\" /><path clip-path=\"url(#clip350)\" d=\"M1264.71 1068.6 L1266.84 1068.6 L1266.84 1086.6 L1264.71 1086.6 L1264.71 1068.6 Z\" fill=\"#000000\" fill-rule=\"nonzero\" fill-opacity=\"1\" /><path clip-path=\"url(#clip350)\" d=\"M1276.32 1075.13 Q1274.6 1075.13 1273.61 1076.48 Q1272.61 1077.81 1272.61 1080.13 Q1272.61 1082.46 1273.6 1083.8 Q1274.59 1085.13 1276.32 1085.13 Q1278.02 1085.13 1279.01 1083.79 Q1280.01 1082.45 1280.01 1080.13 Q1280.01 1077.83 1279.01 1076.49 Q1278.02 1075.13 1276.32 1075.13 M1276.32 1073.33 Q1279.09 1073.33 1280.68 1075.13 Q1282.26 1076.94 1282.26 1080.13 Q1282.26 1083.32 1280.68 1085.13 Q1279.09 1086.94 1276.32 1086.94 Q1273.53 1086.94 1271.94 1085.13 Q1270.37 1083.32 1270.37 1080.13 Q1270.37 1076.94 1271.94 1075.13 Q1273.53 1073.33 1276.32 1073.33 Z\" fill=\"#000000\" fill-rule=\"nonzero\" fill-opacity=\"1\" /><path clip-path=\"url(#clip350)\" d=\"M1291.69 1080.09 Q1289.1 1080.09 1288.11 1080.68 Q1287.11 1081.27 1287.11 1082.69 Q1287.11 1083.83 1287.85 1084.5 Q1288.61 1085.16 1289.89 1085.16 Q1291.66 1085.16 1292.73 1083.91 Q1293.8 1082.65 1293.8 1080.56 L1293.8 1080.09 L1291.69 1080.09 M1295.93 1079.21 L1295.93 1086.6 L1293.8 1086.6 L1293.8 1084.64 Q1293.07 1085.82 1291.99 1086.38 Q1290.9 1086.94 1289.32 1086.94 Q1287.33 1086.94 1286.15 1085.83 Q1284.98 1084.71 1284.98 1082.83 Q1284.98 1080.64 1286.44 1079.53 Q1287.91 1078.42 1290.82 1078.42 L1293.8 1078.42 L1293.8 1078.21 Q1293.8 1076.74 1292.83 1075.94 Q1291.87 1075.13 1290.12 1075.13 Q1289.01 1075.13 1287.96 1075.4 Q1286.91 1075.67 1285.93 1076.2 L1285.93 1074.23 Q1287.1 1073.78 1288.2 1073.56 Q1289.3 1073.33 1290.34 1073.33 Q1293.16 1073.33 1294.54 1074.79 Q1295.93 1076.25 1295.93 1079.21 Z\" fill=\"#000000\" fill-rule=\"nonzero\" fill-opacity=\"1\" /><path clip-path=\"url(#clip350)\" d=\"M1302.43 1069.96 L1302.43 1073.64 L1306.81 1073.64 L1306.81 1075.3 L1302.43 1075.3 L1302.43 1082.33 Q1302.43 1083.92 1302.85 1084.37 Q1303.29 1084.82 1304.63 1084.82 L1306.81 1084.82 L1306.81 1086.6 L1304.63 1086.6 Q1302.16 1086.6 1301.22 1085.69 Q1300.29 1084.76 1300.29 1082.33 L1300.29 1075.3 L1298.72 1075.3 L1298.72 1073.64 L1300.29 1073.64 L1300.29 1069.96 L1302.43 1069.96 Z\" fill=\"#000000\" fill-rule=\"nonzero\" fill-opacity=\"1\" /><path clip-path=\"url(#clip350)\" d=\"M940.4 1325.88 L940.4 1332.21 L944.15 1332.21 Q946.036 1332.21 946.939 1331.43 Q947.853 1330.65 947.853 1329.04 Q947.853 1327.42 946.939 1326.65 Q946.036 1325.88 944.15 1325.88 L940.4 1325.88 M940.4 1318.77 L940.4 1323.98 L943.86 1323.98 Q945.573 1323.98 946.407 1323.34 Q947.251 1322.7 947.251 1321.38 Q947.251 1320.07 946.407 1319.42 Q945.573 1318.77 943.86 1318.77 L940.4 1318.77 M938.062 1316.85 L944.034 1316.85 Q946.708 1316.85 948.154 1317.96 Q949.601 1319.07 949.601 1321.12 Q949.601 1322.71 948.86 1323.65 Q948.12 1324.58 946.684 1324.81 Q948.409 1325.18 949.358 1326.37 Q950.319 1327.53 950.319 1329.29 Q950.319 1331.61 948.745 1332.87 Q947.17 1334.13 944.265 1334.13 L938.062 1334.13 L938.062 1316.85 Z\" fill=\"#000000\" fill-rule=\"nonzero\" fill-opacity=\"1\" /><path clip-path=\"url(#clip350)\" d=\"M954.231 1321.17 L956.36 1321.17 L956.36 1334.13 L954.231 1334.13 L954.231 1321.17 M954.231 1316.12 L956.36 1316.12 L956.36 1318.82 L954.231 1318.82 L954.231 1316.12 Z\" fill=\"#000000\" fill-rule=\"nonzero\" fill-opacity=\"1\" /><path clip-path=\"url(#clip350)\" d=\"M969.346 1327.5 Q969.346 1325.18 968.386 1323.91 Q967.437 1322.64 965.712 1322.64 Q963.999 1322.64 963.038 1323.91 Q962.089 1325.18 962.089 1327.5 Q962.089 1329.8 963.038 1331.08 Q963.999 1332.35 965.712 1332.35 Q967.437 1332.35 968.386 1331.08 Q969.346 1329.8 969.346 1327.5 M971.476 1332.52 Q971.476 1335.83 970.006 1337.44 Q968.536 1339.06 965.504 1339.06 Q964.381 1339.06 963.386 1338.89 Q962.39 1338.73 961.453 1338.38 L961.453 1336.31 Q962.39 1336.82 963.305 1337.06 Q964.219 1337.3 965.168 1337.3 Q967.263 1337.3 968.305 1336.2 Q969.346 1335.12 969.346 1332.9 L969.346 1331.85 Q968.687 1333 967.656 1333.56 Q966.626 1334.13 965.191 1334.13 Q962.807 1334.13 961.349 1332.31 Q959.89 1330.5 959.89 1327.5 Q959.89 1324.49 961.349 1322.67 Q962.807 1320.86 965.191 1320.86 Q966.626 1320.86 967.656 1321.42 Q968.687 1321.99 969.346 1323.14 L969.346 1321.17 L971.476 1321.17 L971.476 1332.52 Z\" fill=\"#000000\" fill-rule=\"nonzero\" fill-opacity=\"1\" /><path clip-path=\"url(#clip350)\" d=\"M975.955 1316.85 L985.886 1316.85 L985.886 1318.82 L978.293 1318.82 L978.293 1323.91 L985.145 1323.91 L985.145 1325.88 L978.293 1325.88 L978.293 1334.13 L975.955 1334.13 L975.955 1316.85 Z\" fill=\"#000000\" fill-rule=\"nonzero\" fill-opacity=\"1\" /><path clip-path=\"url(#clip350)\" d=\"M989.497 1316.12 L991.626 1316.12 L991.626 1334.13 L989.497 1334.13 L989.497 1316.12 Z\" fill=\"#000000\" fill-rule=\"nonzero\" fill-opacity=\"1\" /><path clip-path=\"url(#clip350)\" d=\"M1001.11 1322.66 Q999.392 1322.66 998.397 1324 Q997.402 1325.34 997.402 1327.66 Q997.402 1329.99 998.385 1331.33 Q999.381 1332.66 1001.11 1332.66 Q1002.81 1332.66 1003.8 1331.32 Q1004.8 1329.98 1004.8 1327.66 Q1004.8 1325.36 1003.8 1324.02 Q1002.81 1322.66 1001.11 1322.66 M1001.11 1320.86 Q1003.88 1320.86 1005.47 1322.66 Q1007.05 1324.47 1007.05 1327.66 Q1007.05 1330.84 1005.47 1332.66 Q1003.88 1334.47 1001.11 1334.47 Q998.316 1334.47 996.73 1332.66 Q995.156 1330.84 995.156 1327.66 Q995.156 1324.47 996.73 1322.66 Q998.316 1320.86 1001.11 1320.86 Z\" fill=\"#000000\" fill-rule=\"nonzero\" fill-opacity=\"1\" /><path clip-path=\"url(#clip350)\" d=\"M1016.48 1327.62 Q1013.89 1327.62 1012.9 1328.21 Q1011.9 1328.8 1011.9 1330.22 Q1011.9 1331.35 1012.64 1332.02 Q1013.4 1332.68 1014.68 1332.68 Q1016.45 1332.68 1017.52 1331.43 Q1018.59 1330.17 1018.59 1328.09 L1018.59 1327.62 L1016.48 1327.62 M1020.72 1326.74 L1020.72 1334.13 L1018.59 1334.13 L1018.59 1332.16 Q1017.86 1333.34 1016.78 1333.91 Q1015.69 1334.47 1014.11 1334.47 Q1012.12 1334.47 1010.94 1333.36 Q1009.77 1332.23 1009.77 1330.36 Q1009.77 1328.17 1011.23 1327.06 Q1012.7 1325.95 1015.61 1325.95 L1018.59 1325.95 L1018.59 1325.74 Q1018.59 1324.27 1017.62 1323.47 Q1016.66 1322.66 1014.91 1322.66 Q1013.8 1322.66 1012.75 1322.93 Q1011.7 1323.19 1010.72 1323.73 L1010.72 1321.76 Q1011.89 1321.31 1012.99 1321.09 Q1014.09 1320.86 1015.13 1320.86 Q1017.95 1320.86 1019.33 1322.31 Q1020.72 1323.77 1020.72 1326.74 Z\" fill=\"#000000\" fill-rule=\"nonzero\" fill-opacity=\"1\" /><path clip-path=\"url(#clip350)\" d=\"M1027.22 1317.49 L1027.22 1321.17 L1031.6 1321.17 L1031.6 1322.82 L1027.22 1322.82 L1027.22 1329.86 Q1027.22 1331.45 1027.64 1331.9 Q1028.08 1332.35 1029.42 1332.35 L1031.6 1332.35 L1031.6 1334.13 L1029.42 1334.13 Q1026.95 1334.13 1026.01 1333.22 Q1025.08 1332.29 1025.08 1329.86 L1025.08 1322.82 L1023.51 1322.82 L1023.51 1321.17 L1025.08 1321.17 L1025.08 1317.49 L1027.22 1317.49 Z\" fill=\"#000000\" fill-rule=\"nonzero\" fill-opacity=\"1\" /><path clip-path=\"url(#clip350)\" d=\"M619.875 1231.08 L629.806 1231.08 L629.806 1233.05 L622.213 1233.05 L622.213 1238.14 L629.065 1238.14 L629.065 1240.11 L622.213 1240.11 L622.213 1248.36 L619.875 1248.36 L619.875 1231.08 Z\" fill=\"#000000\" fill-rule=\"nonzero\" fill-opacity=\"1\" /><path clip-path=\"url(#clip350)\" d=\"M633.417 1230.35 L635.547 1230.35 L635.547 1248.36 L633.417 1248.36 L633.417 1230.35 Z\" fill=\"#000000\" fill-rule=\"nonzero\" fill-opacity=\"1\" /><path clip-path=\"url(#clip350)\" d=\"M645.026 1236.89 Q643.313 1236.89 642.317 1238.24 Q641.322 1239.57 641.322 1241.89 Q641.322 1244.22 642.306 1245.56 Q643.301 1246.89 645.026 1246.89 Q646.727 1246.89 647.722 1245.55 Q648.718 1244.21 648.718 1241.89 Q648.718 1239.59 647.722 1238.25 Q646.727 1236.89 645.026 1236.89 M645.026 1235.09 Q647.803 1235.09 649.389 1236.89 Q650.975 1238.7 650.975 1241.89 Q650.975 1245.08 649.389 1246.89 Q647.803 1248.7 645.026 1248.7 Q642.236 1248.7 640.651 1246.89 Q639.077 1245.08 639.077 1241.89 Q639.077 1238.7 640.651 1236.89 Q642.236 1235.09 645.026 1235.09 Z\" fill=\"#000000\" fill-rule=\"nonzero\" fill-opacity=\"1\" /><path clip-path=\"url(#clip350)\" d=\"M660.396 1241.85 Q657.815 1241.85 656.82 1242.44 Q655.824 1243.03 655.824 1244.45 Q655.824 1245.59 656.565 1246.26 Q657.317 1246.92 658.602 1246.92 Q660.373 1246.92 661.438 1245.67 Q662.514 1244.4 662.514 1242.32 L662.514 1241.85 L660.396 1241.85 M664.644 1240.97 L664.644 1248.36 L662.514 1248.36 L662.514 1246.4 Q661.785 1247.58 660.697 1248.14 Q659.609 1248.7 658.035 1248.7 Q656.044 1248.7 654.864 1247.59 Q653.695 1246.47 653.695 1244.59 Q653.695 1242.4 655.153 1241.29 Q656.623 1240.18 659.528 1240.18 L662.514 1240.18 L662.514 1239.97 Q662.514 1238.5 661.542 1237.7 Q660.581 1236.89 658.833 1236.89 Q657.722 1236.89 656.669 1237.16 Q655.616 1237.43 654.644 1237.96 L654.644 1235.99 Q655.813 1235.54 656.912 1235.32 Q658.012 1235.09 659.053 1235.09 Q661.866 1235.09 663.255 1236.55 Q664.644 1238 664.644 1240.97 Z\" fill=\"#000000\" fill-rule=\"nonzero\" fill-opacity=\"1\" /><path clip-path=\"url(#clip350)\" d=\"M671.137 1231.72 L671.137 1235.4 L675.523 1235.4 L675.523 1237.06 L671.137 1237.06 L671.137 1244.09 Q671.137 1245.68 671.565 1246.13 Q672.005 1246.58 673.336 1246.58 L675.523 1246.58 L675.523 1248.36 L673.336 1248.36 Q670.87 1248.36 669.933 1247.45 Q668.995 1246.52 668.995 1244.09 L668.995 1237.06 L667.433 1237.06 L667.433 1235.4 L668.995 1235.4 L668.995 1231.72 L671.137 1231.72 Z\" fill=\"#000000\" fill-rule=\"nonzero\" fill-opacity=\"1\" /><path clip-path=\"url(#clip350)\" d=\"M679.03 1246.4 L682.85 1246.4 L682.85 1233.21 L678.694 1234.05 L678.694 1231.92 L682.826 1231.08 L685.164 1231.08 L685.164 1246.4 L688.984 1246.4 L688.984 1248.36 L679.03 1248.36 L679.03 1246.4 Z\" fill=\"#000000\" fill-rule=\"nonzero\" fill-opacity=\"1\" /><path clip-path=\"url(#clip350)\" d=\"M698.995 1238.79 Q697.421 1238.79 696.495 1239.87 Q695.581 1240.94 695.581 1242.82 Q695.581 1244.68 696.495 1245.77 Q697.421 1246.85 698.995 1246.85 Q700.569 1246.85 701.484 1245.77 Q702.41 1244.68 702.41 1242.82 Q702.41 1240.94 701.484 1239.87 Q700.569 1238.79 698.995 1238.79 M703.636 1231.47 L703.636 1233.59 Q702.757 1233.18 701.854 1232.96 Q700.963 1232.74 700.083 1232.74 Q697.768 1232.74 696.542 1234.3 Q695.326 1235.86 695.153 1239.02 Q695.836 1238.02 696.866 1237.48 Q697.896 1236.94 699.134 1236.94 Q701.738 1236.94 703.243 1238.53 Q704.759 1240.1 704.759 1242.82 Q704.759 1245.48 703.185 1247.09 Q701.611 1248.7 698.995 1248.7 Q695.998 1248.7 694.412 1246.41 Q692.826 1244.1 692.826 1239.74 Q692.826 1235.64 694.771 1233.21 Q696.715 1230.77 699.991 1230.77 Q700.87 1230.77 701.761 1230.94 Q702.664 1231.12 703.636 1231.47 Z\" fill=\"#000000\" fill-rule=\"nonzero\" fill-opacity=\"1\" /><path clip-path=\"url(#clip350)\" d=\"M1446.8 1270.26 L1456.73 1270.26 L1456.73 1272.23 L1449.14 1272.23 L1449.14 1277.32 L1455.99 1277.32 L1455.99 1279.29 L1449.14 1279.29 L1449.14 1287.54 L1446.8 1287.54 L1446.8 1270.26 Z\" fill=\"#000000\" fill-rule=\"nonzero\" fill-opacity=\"1\" /><path clip-path=\"url(#clip350)\" d=\"M1460.34 1269.53 L1462.47 1269.53 L1462.47 1287.54 L1460.34 1287.54 L1460.34 1269.53 Z\" fill=\"#000000\" fill-rule=\"nonzero\" fill-opacity=\"1\" /><path clip-path=\"url(#clip350)\" d=\"M1471.95 1276.07 Q1470.24 1276.07 1469.24 1277.41 Q1468.25 1278.74 1468.25 1281.07 Q1468.25 1283.39 1469.23 1284.74 Q1470.23 1286.07 1471.95 1286.07 Q1473.65 1286.07 1474.65 1284.73 Q1475.64 1283.38 1475.64 1281.07 Q1475.64 1278.76 1474.65 1277.42 Q1473.65 1276.07 1471.95 1276.07 M1471.95 1274.26 Q1474.73 1274.26 1476.31 1276.07 Q1477.9 1277.87 1477.9 1281.07 Q1477.9 1284.25 1476.31 1286.07 Q1474.73 1287.87 1471.95 1287.87 Q1469.16 1287.87 1467.58 1286.07 Q1466 1284.25 1466 1281.07 Q1466 1277.87 1467.58 1276.07 Q1469.16 1274.26 1471.95 1274.26 Z\" fill=\"#000000\" fill-rule=\"nonzero\" fill-opacity=\"1\" /><path clip-path=\"url(#clip350)\" d=\"M1487.32 1281.02 Q1484.74 1281.02 1483.75 1281.61 Q1482.75 1282.2 1482.75 1283.63 Q1482.75 1284.76 1483.49 1285.43 Q1484.24 1286.09 1485.53 1286.09 Q1487.3 1286.09 1488.36 1284.84 Q1489.44 1283.58 1489.44 1281.5 L1489.44 1281.02 L1487.32 1281.02 M1491.57 1280.14 L1491.57 1287.54 L1489.44 1287.54 L1489.44 1285.57 Q1488.71 1286.75 1487.62 1287.32 Q1486.53 1287.87 1484.96 1287.87 Q1482.97 1287.87 1481.79 1286.76 Q1480.62 1285.64 1480.62 1283.76 Q1480.62 1281.58 1482.08 1280.47 Q1483.55 1279.35 1486.45 1279.35 L1489.44 1279.35 L1489.44 1279.15 Q1489.44 1277.68 1488.47 1276.88 Q1487.51 1276.07 1485.76 1276.07 Q1484.65 1276.07 1483.59 1276.33 Q1482.54 1276.6 1481.57 1277.13 L1481.57 1275.17 Q1482.74 1274.71 1483.84 1274.49 Q1484.94 1274.26 1485.98 1274.26 Q1488.79 1274.26 1490.18 1275.72 Q1491.57 1277.18 1491.57 1280.14 Z\" fill=\"#000000\" fill-rule=\"nonzero\" fill-opacity=\"1\" /><path clip-path=\"url(#clip350)\" d=\"M1498.06 1270.89 L1498.06 1274.57 L1502.45 1274.57 L1502.45 1276.23 L1498.06 1276.23 L1498.06 1283.27 Q1498.06 1284.85 1498.49 1285.3 Q1498.93 1285.76 1500.26 1285.76 L1502.45 1285.76 L1502.45 1287.54 L1500.26 1287.54 Q1497.8 1287.54 1496.86 1286.62 Q1495.92 1285.7 1495.92 1283.27 L1495.92 1276.23 L1494.36 1276.23 L1494.36 1274.57 L1495.92 1274.57 L1495.92 1270.89 L1498.06 1270.89 Z\" fill=\"#000000\" fill-rule=\"nonzero\" fill-opacity=\"1\" /><path clip-path=\"url(#clip350)\" d=\"M1512.63 1278.22 Q1514.31 1278.58 1515.25 1279.71 Q1516.2 1280.85 1516.2 1282.51 Q1516.2 1285.07 1514.44 1286.47 Q1512.68 1287.87 1509.44 1287.87 Q1508.35 1287.87 1507.19 1287.65 Q1506.05 1287.45 1504.82 1287.02 L1504.82 1284.76 Q1505.79 1285.33 1506.95 1285.62 Q1508.11 1285.91 1509.37 1285.91 Q1511.57 1285.91 1512.72 1285.04 Q1513.87 1284.17 1513.87 1282.51 Q1513.87 1280.99 1512.8 1280.13 Q1511.73 1279.26 1509.82 1279.26 L1507.81 1279.26 L1507.81 1277.34 L1509.91 1277.34 Q1511.64 1277.34 1512.55 1276.66 Q1513.47 1275.96 1513.47 1274.67 Q1513.47 1273.34 1512.52 1272.63 Q1511.58 1271.91 1509.82 1271.91 Q1508.86 1271.91 1507.76 1272.12 Q1506.66 1272.33 1505.34 1272.77 L1505.34 1270.69 Q1506.67 1270.32 1507.83 1270.13 Q1509 1269.95 1510.03 1269.95 Q1512.69 1269.95 1514.24 1271.16 Q1515.79 1272.36 1515.79 1274.42 Q1515.79 1275.86 1514.97 1276.85 Q1514.15 1277.84 1512.63 1278.22 Z\" fill=\"#000000\" fill-rule=\"nonzero\" fill-opacity=\"1\" /><path clip-path=\"url(#clip350)\" d=\"M1522.65 1285.57 L1530.81 1285.57 L1530.81 1287.54 L1519.83 1287.54 L1519.83 1285.57 Q1521.16 1284.19 1523.46 1281.88 Q1525.76 1279.55 1526.35 1278.88 Q1527.47 1277.62 1527.91 1276.75 Q1528.36 1275.87 1528.36 1275.03 Q1528.36 1273.65 1527.39 1272.78 Q1526.43 1271.91 1524.88 1271.91 Q1523.78 1271.91 1522.55 1272.29 Q1521.34 1272.68 1519.95 1273.45 L1519.95 1271.09 Q1521.36 1270.52 1522.59 1270.23 Q1523.81 1269.95 1524.83 1269.95 Q1527.52 1269.95 1529.12 1271.29 Q1530.71 1272.63 1530.71 1274.88 Q1530.71 1275.94 1530.31 1276.9 Q1529.91 1277.85 1528.86 1279.15 Q1528.57 1279.48 1527.02 1281.09 Q1525.47 1282.69 1522.65 1285.57 Z\" fill=\"#000000\" fill-rule=\"nonzero\" fill-opacity=\"1\" /><path clip-path=\"url(#clip350)\" d=\"M1695.16 1329.04 L1705.09 1329.04 L1705.09 1331.01 L1697.5 1331.01 L1697.5 1336.1 L1704.35 1336.1 L1704.35 1338.07 L1697.5 1338.07 L1697.5 1346.32 L1695.16 1346.32 L1695.16 1329.04 Z\" fill=\"#000000\" fill-rule=\"nonzero\" fill-opacity=\"1\" /><path clip-path=\"url(#clip350)\" d=\"M1708.7 1328.31 L1710.83 1328.31 L1710.83 1346.32 L1708.7 1346.32 L1708.7 1328.31 Z\" fill=\"#000000\" fill-rule=\"nonzero\" fill-opacity=\"1\" /><path clip-path=\"url(#clip350)\" d=\"M1720.31 1334.85 Q1718.6 1334.85 1717.6 1336.2 Q1716.61 1337.53 1716.61 1339.85 Q1716.61 1342.18 1717.59 1343.52 Q1718.59 1344.85 1720.31 1344.85 Q1722.01 1344.85 1723.01 1343.51 Q1724 1342.17 1724 1339.85 Q1724 1337.55 1723.01 1336.21 Q1722.01 1334.85 1720.31 1334.85 M1720.31 1333.05 Q1723.09 1333.05 1724.67 1334.85 Q1726.26 1336.66 1726.26 1339.85 Q1726.26 1343.04 1724.67 1344.85 Q1723.09 1346.66 1720.31 1346.66 Q1717.52 1346.66 1715.94 1344.85 Q1714.36 1343.04 1714.36 1339.85 Q1714.36 1336.66 1715.94 1334.85 Q1717.52 1333.05 1720.31 1333.05 Z\" fill=\"#000000\" fill-rule=\"nonzero\" fill-opacity=\"1\" /><path clip-path=\"url(#clip350)\" d=\"M1735.68 1339.81 Q1733.1 1339.81 1732.1 1340.4 Q1731.11 1340.99 1731.11 1342.41 Q1731.11 1343.55 1731.85 1344.22 Q1732.6 1344.88 1733.89 1344.88 Q1735.66 1344.88 1736.72 1343.63 Q1737.8 1342.36 1737.8 1340.28 L1737.8 1339.81 L1735.68 1339.81 M1739.93 1338.93 L1739.93 1346.32 L1737.8 1346.32 L1737.8 1344.36 Q1737.07 1345.54 1735.98 1346.1 Q1734.89 1346.66 1733.32 1346.66 Q1731.33 1346.66 1730.15 1345.55 Q1728.98 1344.42 1728.98 1342.55 Q1728.98 1340.36 1730.44 1339.25 Q1731.91 1338.14 1734.81 1338.14 L1737.8 1338.14 L1737.8 1337.93 Q1737.8 1336.46 1736.83 1335.66 Q1735.87 1334.85 1734.12 1334.85 Q1733.01 1334.85 1731.95 1335.12 Q1730.9 1335.39 1729.93 1335.92 L1729.93 1333.95 Q1731.1 1333.5 1732.2 1333.28 Q1733.3 1333.05 1734.34 1333.05 Q1737.15 1333.05 1738.54 1334.51 Q1739.93 1335.96 1739.93 1338.93 Z\" fill=\"#000000\" fill-rule=\"nonzero\" fill-opacity=\"1\" /><path clip-path=\"url(#clip350)\" d=\"M1746.42 1329.68 L1746.42 1333.36 L1750.81 1333.36 L1750.81 1335.01 L1746.42 1335.01 L1746.42 1342.05 Q1746.42 1343.64 1746.85 1344.09 Q1747.29 1344.54 1748.62 1344.54 L1750.81 1344.54 L1750.81 1346.32 L1748.62 1346.32 Q1746.15 1346.32 1745.22 1345.41 Q1744.28 1344.48 1744.28 1342.05 L1744.28 1335.01 L1742.72 1335.01 L1742.72 1333.36 L1744.28 1333.36 L1744.28 1329.68 L1746.42 1329.68 Z\" fill=\"#000000\" fill-rule=\"nonzero\" fill-opacity=\"1\" /><path clip-path=\"url(#clip350)\" d=\"M1759.2 1336.75 Q1757.62 1336.75 1756.7 1337.83 Q1755.78 1338.9 1755.78 1340.78 Q1755.78 1342.64 1756.7 1343.73 Q1757.62 1344.81 1759.2 1344.81 Q1760.77 1344.81 1761.69 1343.73 Q1762.61 1342.64 1762.61 1340.78 Q1762.61 1338.9 1761.69 1337.83 Q1760.77 1336.75 1759.2 1336.75 M1763.84 1329.42 L1763.84 1331.55 Q1762.96 1331.14 1762.06 1330.92 Q1761.17 1330.7 1760.29 1330.7 Q1757.97 1330.7 1756.75 1332.26 Q1755.53 1333.82 1755.36 1336.98 Q1756.04 1335.98 1757.07 1335.44 Q1758.1 1334.9 1759.34 1334.9 Q1761.94 1334.9 1763.45 1336.48 Q1764.96 1338.06 1764.96 1340.78 Q1764.96 1343.44 1763.39 1345.05 Q1761.81 1346.66 1759.2 1346.66 Q1756.2 1346.66 1754.62 1344.37 Q1753.03 1342.06 1753.03 1337.7 Q1753.03 1333.6 1754.97 1331.17 Q1756.92 1328.73 1760.19 1328.73 Q1761.07 1328.73 1761.97 1328.9 Q1762.87 1329.08 1763.84 1329.42 Z\" fill=\"#000000\" fill-rule=\"nonzero\" fill-opacity=\"1\" /><path clip-path=\"url(#clip350)\" d=\"M1775.41 1331.08 L1769.51 1340.3 L1775.41 1340.3 L1775.41 1331.08 M1774.8 1329.04 L1777.74 1329.04 L1777.74 1340.3 L1780.21 1340.3 L1780.21 1342.25 L1777.74 1342.25 L1777.74 1346.32 L1775.41 1346.32 L1775.41 1342.25 L1767.61 1342.25 L1767.61 1339.99 L1774.8 1329.04 Z\" fill=\"#000000\" fill-rule=\"nonzero\" fill-opacity=\"1\" /></svg>\n"
      ]
     },
     "execution_count": 18,
     "metadata": {},
     "output_type": "execute_result"
    }
   ],
   "source": [
    "using GraphRecipes, Plots\n",
    "\n",
    "#pyplot(size=(800, 600))\n",
    "gr(size=(600, 400))\n",
    "theme(:default)\n",
    "\n",
    "plot(AbstractFloat, method = :tree, fontsize = 4)"
   ]
  },
  {
   "cell_type": "markdown",
   "metadata": {},
   "source": [
    "### Double precision (Float64)\n",
    "\n",
    "<img src=\"./double-precision-numbers.png\" width=\"500\" align=\"center\"/>\n",
    "\n",
    "- Double precision (64 bits = 8 bytes) numbers are the dominant data type in scientific computing.\n",
    "      \n",
    "- In Julia, `Float64` is the type for double precision numbers.    \n",
    "\n",
    "- First bit is sign bit.  \n",
    "\n",
    "- $p=52$ significant bits.\n",
    "\n",
    "- 11 exponent bits: $e_{\\max}=1023$, $e_{\\min}=-1022$, **bias**=1023.  \n",
    "\n",
    "- $e_{\\text{min}}-1$ and $e_{\\text{max}}+1$ are reserved for special numbers.  \n",
    "\n",
    "- range of **magnitude**: $10^{\\pm 308}$ in decimal because $\\log_{10} (2^{1023}) \\approx 308$.  \n",
    "\n",
    "- **precision** to the $- \\log_{10}(2^{-52}) \\approx 15$ decimal point."
   ]
  },
  {
   "cell_type": "code",
   "execution_count": 19,
   "metadata": {
    "tags": []
   },
   "outputs": [
    {
     "name": "stdout",
     "output_type": "stream",
     "text": [
      "Double precision:\n",
      "bitstring(Float64(18)) = \"0100000000110010000000000000000000000000000000000000000000000000\"\n",
      "bitstring(Float64(-18)) = \"1100000000110010000000000000000000000000000000000000000000000000\"\n"
     ]
    }
   ],
   "source": [
    "println(\"Double precision:\")\n",
    "@show bitstring(Float64(18)) # 18 in double precision\n",
    "@show bitstring(Float64(-18)); # -18 in double precision"
   ]
  },
  {
   "cell_type": "markdown",
   "metadata": {},
   "source": [
    "### Single precision (Float32)\n",
    "\n",
    "<img src=\"./single-precision-numbers.png\" width=\"500\" align=\"center\"/>\n",
    "\n",
    "- In Julia, `Float32` is the type for single precision numbers.  \n",
    "\n",
    "- First bit is sign bit.  \n",
    "\n",
    "- $p=23$ significant bits.  \n",
    "\n",
    "- 8 exponent bits: $e_{\\max}=127$, $e_{\\min}=-126$, **bias**=127.  \n",
    "\n",
    "- $e_{\\text{min}}-1$ and $e_{\\text{max}}+1$ are reserved for special numbers.  \n",
    "\n",
    "- range of **magnitude**: $10^{\\pm 38}$ in decimal because $\\log_{10} (2^{127}) \\approx 38$.\n",
    "\n",
    "- **precision**: $- \\log_{10}(2^{-23}) \\approx 7$ decimal point.  "
   ]
  },
  {
   "cell_type": "code",
   "execution_count": 20,
   "metadata": {
    "tags": []
   },
   "outputs": [
    {
     "name": "stdout",
     "output_type": "stream",
     "text": [
      "Single precision:\n",
      "bitstring(Float32(18.0)) = \"01000001100100000000000000000000\"\n",
      "bitstring(Float32(-18.0)) = \"11000001100100000000000000000000\"\n"
     ]
    }
   ],
   "source": [
    "println(\"Single precision:\")\n",
    "@show bitstring(Float32(18.0)) # 18 in single precision\n",
    "@show bitstring(Float32(-18.0)); # -18 in single precision"
   ]
  },
  {
   "cell_type": "markdown",
   "metadata": {},
   "source": [
    "### Half precision (Float16)\n",
    "\n",
    "<img src=\"./half-precision-numbers.png\" width=\"200\" align=\"center\"/>\n",
    "    \n",
    "- In Julia, `Float16` is the type for half precision numbers.\n",
    "\n",
    "- First bit is sign bit.  \n",
    "\n",
    "- $p=10$ significant bits.  \n",
    "\n",
    "- 5 exponent bits: $e_{\\max}=15$, $e_{\\min}=-14$, bias=15.  \n",
    "\n",
    "- $e_{\\text{min}}-1$ and $e_{\\text{max}}+1$ are reserved for special numbers.  \n",
    "\n",
    "- range of **magnitude**: $10^{\\pm 4}$ in decimal because $\\log_{10} (2^{15}) \\approx 4$.  \n",
    "\n",
    "- **precision**: $\\log_{10}(2^{10}) \\approx 3$ decimal point.      "
   ]
  },
  {
   "cell_type": "code",
   "execution_count": 21,
   "metadata": {
    "tags": []
   },
   "outputs": [
    {
     "name": "stdout",
     "output_type": "stream",
     "text": [
      "Half precision:\n",
      "bitstring(Float16(18)) = \"0100110010000000\"\n",
      "bitstring(Float16(-18)) = \"1100110010000000\"\n"
     ]
    }
   ],
   "source": [
    "println(\"Half precision:\")\n",
    "@show bitstring(Float16(18)) # 18 in half precision\n",
    "@show bitstring(Float16(-18)); # -18 in half precision"
   ]
  },
  {
   "cell_type": "markdown",
   "metadata": {},
   "source": [
    "### Special floating-point numbers. \n",
    "\n",
    "- Exponent $e_{\\max}+1$ plus a zero mantissa means $\\pm \\infty$."
   ]
  },
  {
   "cell_type": "code",
   "execution_count": 22,
   "metadata": {
    "tags": []
   },
   "outputs": [
    {
     "name": "stdout",
     "output_type": "stream",
     "text": [
      "bitstring(Inf) = \"0111111111110000000000000000000000000000000000000000000000000000\"\n",
      "bitstring(-Inf) = \"1111111111110000000000000000000000000000000000000000000000000000\"\n"
     ]
    }
   ],
   "source": [
    "@show bitstring(Inf) # Inf in double precision\n",
    "@show bitstring(-Inf); # -Inf in double precision"
   ]
  },
  {
   "cell_type": "markdown",
   "metadata": {},
   "source": [
    "- Exponent $e_{\\max}+1$ plus a nonzero mantissa means `NaN`. `NaN` could be produced from `0 / 0`, `0 * Inf`, ...  \n",
    "\n",
    "- In general `NaN ≠ NaN` bitwise. Test whether a number is `NaN` by `isnan` function.  "
   ]
  },
  {
   "cell_type": "code",
   "execution_count": 23,
   "metadata": {
    "tags": []
   },
   "outputs": [
    {
     "name": "stdout",
     "output_type": "stream",
     "text": [
      "bitstring(0 / 0) = \"0111111111111000000000000000000000000000000000000000000000000000\"\n",
      "bitstring(0Inf) = \"0111111111111000000000000000000000000000000000000000000000000000\"\n"
     ]
    }
   ],
   "source": [
    "@show bitstring(0 / 0) # NaN\n",
    "@show bitstring(0 * Inf); # NaN"
   ]
  },
  {
   "cell_type": "markdown",
   "metadata": {},
   "source": [
    "- Exponent $e_{\\min}-1$ with a zero mantissa represents the real number 0.  "
   ]
  },
  {
   "cell_type": "code",
   "execution_count": 24,
   "metadata": {
    "tags": []
   },
   "outputs": [
    {
     "name": "stdout",
     "output_type": "stream",
     "text": [
      "bitstring(0.0) = \"0000000000000000000000000000000000000000000000000000000000000000\"\n"
     ]
    }
   ],
   "source": [
    "@show bitstring(0.0); # 0 in double precision "
   ]
  },
  {
   "cell_type": "markdown",
   "metadata": {},
   "source": [
    "- Exponent $e_{\\min}-1$ with a nonzero mantissa are for numbers less than $b^{e_{\\min}}$.  \n",
    "    Numbers are _denormalized_ in the range $(0,b^{e_{\\min}})$ -- **graceful underflow**. "
   ]
  },
  {
   "cell_type": "code",
   "execution_count": 25,
   "metadata": {
    "tags": []
   },
   "outputs": [
    {
     "name": "stdout",
     "output_type": "stream",
     "text": [
      "nextfloat(0.0) = 5.0e-324\n",
      "bitstring(nextfloat(0.0)) = \"0000000000000000000000000000000000000000000000000000000000000001\"\n"
     ]
    }
   ],
   "source": [
    "@show nextfloat(0.0) # next representable number\n",
    "@show bitstring(nextfloat(0.0)); # denormalized"
   ]
  },
  {
   "cell_type": "markdown",
   "metadata": {},
   "source": [
    "### Rounding\n",
    "\n",
    "* Rounding is necessary whenever a number has more than $p$ significand bits. Most computer systems use the default IEEE 754 _round to nearest_ mode (also called _ties to even_ mode). Julia offers several [rounding modes](https://docs.julialang.org/en/v1/base/math/#Base.Rounding.RoundingMode), the default being [`RoundNearest`](https://docs.julialang.org/en/v1/base/math/#Base.Rounding.RoundNearest). For example, the number 0.1 in decimal system cannot be represented accurately as a floating point number:\n",
    "$$ 0.1 = 1.10011001... \\times 2^{-4} $$"
   ]
  },
  {
   "cell_type": "code",
   "execution_count": 26,
   "metadata": {
    "tags": []
   },
   "outputs": [
    {
     "name": "stdout",
     "output_type": "stream",
     "text": [
      "bitstring(Float16(0.1)) = \"0010111001100110\"\n",
      "bitstring(0.1f0) = \"00111101110011001100110011001101\"\n",
      "bitstring(0.1) = \"0011111110111001100110011001100110011001100110011001100110011010\"\n"
     ]
    }
   ],
   "source": [
    "# half precision Float16, ...110(011...) rounds down to 110\n",
    "@show bitstring(Float16(0.1))\n",
    "# single precision Float32, ...100(110...) rounds up to 101\n",
    "@show bitstring(0.1f0) \n",
    "# double precision Float64, ...001(100..) rounds up to 010\n",
    "@show bitstring(0.1);"
   ]
  },
  {
   "cell_type": "markdown",
   "metadata": {},
   "source": [
    "For a number with mantissa ending with ...001(100..., all 0 digits after), it's a tie and will be rounded to ...010 to make the mantissa even."
   ]
  },
  {
   "cell_type": "markdown",
   "metadata": {},
   "source": [
    "### Summary\n",
    "\n",
    "- Double precision: range $\\pm 10^{\\pm 308}$ with precision up to 16 decimal digits.  \n",
    "\n",
    "- Single precision: range $\\pm 10^{\\pm 38}$ with precision up to 7 decimal digits.\n",
    "\n",
    "- Half precision: range $\\pm 10^{\\pm 4}$ with precision up to 3 decimal digits.\n",
    "\n",
    "- The floating-point numbers do not occur uniformly over the real number line\n",
    "    <img src=\"http://www.volkerschatz.com/science/pics/fltscale-wh.png\" width=\"700\" align=\"center\"/>\n",
    "    Each magnitude has same number of representible numbers\n",
    "    \n",
    "- **Machine epsilons** are the spacings of numbers around 1: \n",
    "    $$\\epsilon_{\\min}=b^{-p}, \\quad  \\epsilon_{\\max} = b^{1-p}.$$\n",
    "    <img src=\"./machine_epsilons.png\" width=\"500\" align=\"center\"/>"
   ]
  },
  {
   "cell_type": "code",
   "execution_count": 27,
   "metadata": {
    "tags": []
   },
   "outputs": [
    {
     "name": "stdout",
     "output_type": "stream",
     "text": [
      "eps(Float32) = 1.1920929f-7\n",
      "eps(Float64) = 2.220446049250313e-16\n",
      "eps(100.0) = 1.4210854715202004e-14\n",
      "eps(0.0) = 5.0e-324\n",
      "x = 1.25f0 = 1.25f0\n",
      "(prevfloat(x), x, nextfloat(x)) = (1.2499999f0, 1.25f0, 1.2500001f0)\n",
      "(bitstring(prevfloat(x)), bitstring(x), bitstring(nextfloat(x))) = (\"00111111100111111111111111111111\", \"00111111101000000000000000000000\", \"00111111101000000000000000000001\")\n"
     ]
    }
   ],
   "source": [
    "@show eps(Float32)  # machine epsilon for a floating point type\n",
    "@show eps(Float64)  # same as eps()\n",
    "# eps(x) is the spacing after x\n",
    "@show eps(100.0)\n",
    "@show eps(0.0) # grace underflow\n",
    "# nextfloat(x) and prevfloat(x) give the neighbors of x\n",
    "@show x = 1.25f0\n",
    "@show prevfloat(x), x, nextfloat(x)\n",
    "@show bitstring(prevfloat(x)), bitstring(x), bitstring(nextfloat(x));"
   ]
  },
  {
   "cell_type": "markdown",
   "metadata": {},
   "source": [
    "* In R, the variable `.Machine` contains numerical characteristics of the machine."
   ]
  },
  {
   "cell_type": "code",
   "execution_count": 28,
   "metadata": {
    "tags": []
   },
   "outputs": [
    {
     "data": {
      "text/plain": [
       "RObject{VecSxp}\n",
       "$double.eps\n",
       "[1] 2.220446e-16\n",
       "\n",
       "$double.neg.eps\n",
       "[1] 1.110223e-16\n",
       "\n",
       "$double.xmin\n",
       "[1] 2.225074e-308\n",
       "\n",
       "$double.xmax\n",
       "[1] 1.797693e+308\n",
       "\n",
       "$double.base\n",
       "[1] 2\n",
       "\n",
       "$double.digits\n",
       "[1] 53\n",
       "\n",
       "$double.rounding\n",
       "[1] 5\n",
       "\n",
       "$double.guard\n",
       "[1] 0\n",
       "\n",
       "$double.ulp.digits\n",
       "[1] -52\n",
       "\n",
       "$double.neg.ulp.digits\n",
       "[1] -53\n",
       "\n",
       "$double.exponent\n",
       "[1] 11\n",
       "\n",
       "$double.min.exp\n",
       "[1] -1022\n",
       "\n",
       "$double.max.exp\n",
       "[1] 1024\n",
       "\n",
       "$integer.max\n",
       "[1] 2147483647\n",
       "\n",
       "$sizeof.long\n",
       "[1] 8\n",
       "\n",
       "$sizeof.longlong\n",
       "[1] 8\n",
       "\n",
       "$sizeof.longdouble\n",
       "[1] 8\n",
       "\n",
       "$sizeof.pointer\n",
       "[1] 8\n",
       "\n"
      ]
     },
     "execution_count": 28,
     "metadata": {},
     "output_type": "execute_result"
    }
   ],
   "source": [
    "R\"\"\"\n",
    ".Machine\n",
    "\"\"\""
   ]
  },
  {
   "cell_type": "markdown",
   "metadata": {},
   "source": [
    "* Julia provides `Float16` (half precision), `Float32` (single precision), `Float64` (double precision), and `BigFloat` (arbitrary precision)."
   ]
  },
  {
   "cell_type": "markdown",
   "metadata": {},
   "source": [
    "### Overflow and underflow of floating-point number\n",
    "\n",
    "* For double precision, the range is $\\pm 10^{\\pm 308}$. In most situations, underflow (magnitude of result is less than $10^{-308}$) is preferred over overflow (magnitude of result is larger than $10^{308}$). Overflow produces $\\pm \\inf$. Underflow yields zeros or denormalized numbers. \n",
    "\n",
    "* E.g., the logit link function is\n",
    "$$p(x) = \\frac{\\exp (x^T \\beta)}{1 + \\exp (x^T \\beta)} = \\frac{1}{1+\\exp(- x^T \\beta)}.$$\n",
    "The former expression can easily lead to `Inf / Inf = NaN`, while the latter expression leads to graceful underflow.\n",
    "\n",
    "* `floatmin` and `floatmax` functions gives largest and smallest _finite_ number represented by a type."
   ]
  },
  {
   "cell_type": "code",
   "execution_count": 29,
   "metadata": {
    "tags": []
   },
   "outputs": [
    {
     "name": "stdout",
     "output_type": "stream",
     "text": [
      "Float16\t6.104e-5\t6.55e4\t-Inf\tInf\t0.000977\n",
      "Float32\t1.1754944e-38\t3.4028235e38\t-Inf\tInf\t1.1920929e-7\n",
      "Float64\t2.2250738585072014e-308\t1.7976931348623157e308\t-Inf\tInf\t2.220446049250313e-16\n"
     ]
    }
   ],
   "source": [
    "for T in [Float16, Float32, Float64]\n",
    "    println(T, '\\t', floatmin(T), '\\t', floatmax(T), '\\t', typemin(T), \n",
    "        '\\t', typemax(T), '\\t', eps(T))\n",
    "end"
   ]
  },
  {
   "cell_type": "markdown",
   "metadata": {},
   "source": [
    "### Arbitrary precision\n",
    "\n",
    "* `BigFloat` in Julia offers arbitrary precision."
   ]
  },
  {
   "cell_type": "code",
   "execution_count": 30,
   "metadata": {
    "tags": []
   },
   "outputs": [
    {
     "name": "stdout",
     "output_type": "stream",
     "text": [
      "precision(BigFloat) = 256\n",
      "floatmin(BigFloat) = 8.50969131174083613912978790962048280567755996982969624908264897850135431080301e-1388255822130839284\n",
      "floatmax(BigFloat) = 5.875653789111587590936911998878442589938516392745498308333779606469323584389875e+1388255822130839282\n"
     ]
    }
   ],
   "source": [
    "@show precision(BigFloat)\n",
    "@show floatmin(BigFloat)\n",
    "@show floatmax(BigFloat);"
   ]
  },
  {
   "cell_type": "code",
   "execution_count": 31,
   "metadata": {
    "tags": []
   },
   "outputs": [
    {
     "name": "stdout",
     "output_type": "stream",
     "text": [
      "BigFloat(π) = 3.141592653589793238462643383279502884197169399375105820974944592307816406286198\n",
      "BigFloat(π) = 3.141592653589793238462643383279502884197169399375105820974944592307816406286208998628034825342117067982148086513282306647093844609550582231725359408128481117450284102701938521105559644622948954930381964428810975665933446128475648233786783165271201909145648566923460348610454326648213393607260249141273724586997\n"
     ]
    }
   ],
   "source": [
    "@show BigFloat(π); # default precision for BigFloat is 256 bits\n",
    "# set precision to 1024 bits\n",
    "setprecision(BigFloat, 1024) do \n",
    "    @show BigFloat(π)\n",
    "end;"
   ]
  },
  {
   "cell_type": "markdown",
   "metadata": {},
   "source": [
    "## Catastrophic cancellation\n",
    "\n",
    "* **Scenario 1**: Addition or subtraction of two numbers of widely different magnitudes: $a+b$ or $a-b$ where $a \\gg b$ or $a \\ll b$. We loose the precision in the number of smaller magnitude. Consider \n",
    "$$\\begin{eqnarray*}\n",
    "    a &=& x.xxx ... \\times 2^{30} \\\\  \n",
    "    b &=& y.yyy... \\times 2^{-30}\n",
    "\\end{eqnarray*}$$\n",
    "What happens when computer calculates $a+b$? We get $a+b=a$!"
   ]
  },
  {
   "cell_type": "code",
   "execution_count": 32,
   "metadata": {
    "tags": []
   },
   "outputs": [
    {
     "name": "stdout",
     "output_type": "stream",
     "text": [
      "a = 2.0 ^ 30 = 1.073741824e9\n",
      "b = 2.0 ^ -30 = 9.313225746154785e-10\n",
      "a + b == a = true\n"
     ]
    },
    {
     "data": {
      "text/plain": [
       "true"
      ]
     },
     "execution_count": 32,
     "metadata": {},
     "output_type": "execute_result"
    }
   ],
   "source": [
    "@show a = 2.0^30\n",
    "@show b = 2.0^-30\n",
    "@show a + b == a"
   ]
  },
  {
   "cell_type": "markdown",
   "metadata": {},
   "source": [
    "* **Scenario 2**: Subtraction of two nearly equal numbers eliminates significant digits.  $a-b$ where $a \\approx b$. Consider \n",
    "$$\\begin{eqnarray*}\n",
    "    a &=& x.xxxxxxxxxx1ssss  \\\\\n",
    "    b &=& x.xxxxxxxxxx0tttt\n",
    "\\end{eqnarray*}$$\n",
    "The result is $1.vvvvu...u$ where $u$ are unassigned digits."
   ]
  },
  {
   "cell_type": "code",
   "execution_count": 33,
   "metadata": {
    "tags": []
   },
   "outputs": [
    {
     "name": "stdout",
     "output_type": "stream",
     "text": [
      "bitstring(a) = \"00111111100111100000011001010001\"\n",
      "bitstring(b) = \"00111111100111100000011001010000\"\n",
      "a - b = 1.1920929f-7\n"
     ]
    },
    {
     "data": {
      "text/plain": [
       "1.1920929f-7"
      ]
     },
     "execution_count": 33,
     "metadata": {},
     "output_type": "execute_result"
    }
   ],
   "source": [
    "a = 1.2345678f0 # rounding\n",
    "@show bitstring(a) # rounding\n",
    "b = 1.2345677f0\n",
    "@show bitstring(b)\n",
    "@show a - b # correct result should be 1e-7"
   ]
  },
  {
   "cell_type": "markdown",
   "metadata": {},
   "source": [
    "* Implications for numerical computation\n",
    "    - Rule 1: add small numbers together before adding larger ones  \n",
    "    - Rule 2: add numbers of like magnitude together (paring). When all numbers are of same sign and similar magnitude, add in pairs so each stage the summands are of similar magnitude  \n",
    "    - Rule 3: avoid substraction of two numbers that are nearly equal"
   ]
  },
  {
   "cell_type": "markdown",
   "metadata": {},
   "source": [
    "### Algebraic laws\n",
    "\n",
    "Floating-point numbers may violate many algebraic laws we are familiar with, such associative and distributive laws. See Homework 1 problems."
   ]
  },
  {
   "cell_type": "markdown",
   "metadata": {},
   "source": [
    "## Further reading\n",
    "\n",
    "* Textbook treatment, e.g., Chapter II.2 of [Computational Statistics](http://ucla.worldcat.org/title/computational-statistics/oclc/437345409&referer=brief_results) by James Gentle (2010).\n",
    "\n",
    "* [What every computer scientist should know about floating-point arithmetic](http://hua-zhou.github.io/teaching/biostatm280-2017spring/readings/Goldberg91FloatingPoint.pdf) by David Goldberg (1991)."
   ]
  }
 ],
 "metadata": {
  "hide_input": false,
  "jupytext": {
   "formats": "ipynb,qmd"
  },
  "kernelspec": {
   "display_name": "Julia 1.8.5",
   "language": "julia",
   "name": "julia-1.8"
  },
  "language_info": {
   "file_extension": ".jl",
   "mimetype": "application/julia",
   "name": "julia",
   "version": "1.8.5"
  },
  "toc": {
   "colors": {
    "hover_highlight": "#DAA520",
    "running_highlight": "#FF0000",
    "selected_highlight": "#FFD700"
   },
   "moveMenuLeft": true,
   "nav_menu": {
    "height": "250px",
    "width": "252px"
   },
   "navigate_menu": true,
   "number_sections": true,
   "sideBar": true,
   "skip_h1_title": true,
   "threshold": 4,
   "toc_cell": true,
   "toc_position": {
    "height": "433.6666564941406px",
    "left": "0px",
    "right": "831.3333129882812px",
    "top": "111.33333587646484px",
    "width": "250px"
   },
   "toc_section_display": "block",
   "toc_window_display": true,
   "widenNotebook": false
  },
  "toc-autonumbering": true
 },
 "nbformat": 4,
 "nbformat_minor": 4
}
