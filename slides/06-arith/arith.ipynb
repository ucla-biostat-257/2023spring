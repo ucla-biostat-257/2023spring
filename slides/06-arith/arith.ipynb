{
 "cells": [
  {
   "cell_type": "raw",
   "metadata": {},
   "source": [
    "---\n",
    "title: Computer Arithmetics\n",
    "subtitle: Biostat/Biomath M257\n",
    "author: Dr. Hua Zhou @ UCLA\n",
    "date: today\n",
    "format:\n",
    "  html:\n",
    "    theme: cosmo\n",
    "    embed-resources: true\n",
    "    number-sections: true\n",
    "    toc: true\n",
    "    toc-depth: 4\n",
    "    toc-location: left\n",
    "    code-fold: false\n",
    "---"
   ]
  },
  {
   "cell_type": "markdown",
   "metadata": {},
   "source": [
    "System information (for reproducibility):"
   ]
  },
  {
   "cell_type": "code",
   "execution_count": 1,
   "metadata": {
    "tags": []
   },
   "outputs": [
    {
     "name": "stdout",
     "output_type": "stream",
     "text": [
      "Julia Version 1.8.5\n",
      "Commit 17cfb8e65ea (2023-01-08 06:45 UTC)\n",
      "Platform Info:\n",
      "  OS: macOS (arm64-apple-darwin21.5.0)\n",
      "  CPU: 12 × Apple M2 Max\n",
      "  WORD_SIZE: 64\n",
      "  LIBM: libopenlibm\n",
      "  LLVM: libLLVM-13.0.1 (ORCJIT, apple-m1)\n",
      "  Threads: 1 on 8 virtual cores\n",
      "Environment:\n",
      "  JULIA_EDITOR = code\n"
     ]
    }
   ],
   "source": [
    "versioninfo()"
   ]
  },
  {
   "cell_type": "markdown",
   "metadata": {},
   "source": [
    "Load packages:"
   ]
  },
  {
   "cell_type": "code",
   "execution_count": 2,
   "metadata": {
    "tags": []
   },
   "outputs": [
    {
     "name": "stderr",
     "output_type": "stream",
     "text": [
      "\u001b[32m\u001b[1m  Activating\u001b[22m\u001b[39m project at `~/Documents/github.com/ucla-biostat-257/2023spring/slides/06-arith`\n"
     ]
    },
    {
     "name": "stdout",
     "output_type": "stream",
     "text": [
      "\u001b[32m\u001b[1mStatus\u001b[22m\u001b[39m `~/Documents/github.com/ucla-biostat-257/2023spring/slides/06-arith/Project.toml`\n",
      " \u001b[90m [bd48cda9] \u001b[39mGraphRecipes v0.5.12\n",
      "\u001b[32m⌃\u001b[39m\u001b[90m [91a5bcdd] \u001b[39mPlots v1.38.8\n",
      " \u001b[90m [6f49c342] \u001b[39mRCall v0.13.14\n",
      "\u001b[36m\u001b[1mInfo\u001b[22m\u001b[39m Packages marked with \u001b[32m⌃\u001b[39m have new versions available and may be upgradable.\n"
     ]
    }
   ],
   "source": [
    "using Pkg\n",
    "\n",
    "Pkg.activate(pwd())\n",
    "Pkg.instantiate()\n",
    "Pkg.status()"
   ]
  },
  {
   "cell_type": "markdown",
   "metadata": {},
   "source": [
    "## Units of computer storage\n",
    "\n",
    "* `bit` = `binary` + `digit` (coined by statistician [John Tukey](https://en.wikipedia.org/wiki/Bit#History)).  \n",
    "* `byte` = 8 bits.  \n",
    "* KB = kilobyte = $10^3$ bytes.  \n",
    "* MB = megabytes = $10^6$ bytes.  \n",
    "* GB = gigabytes = $10^9$ bytes. Typical RAM size.  \n",
    "* TB = terabytes = $10^{12}$ bytes. Typical hard drive size. Size of NYSE each trading session.    \n",
    "* PB = petabytes = $10^{15}$ bytes.  \n",
    "* EB = exabytes = $10^{18}$ bytes. Size of all healthcare data in 2011 is ~150 EB.    \n",
    "* ZB = zetabytes = $10^{21}$ bytes. \n",
    "\n",
    "Difference between `KB` and `KiB`: `1 KB = 1000 bytes` but `1 KiB = 1024 bytes`. \n",
    "\n",
    "Difference between `TB` and `TiB`: `1 TB = 1000 GB` but `1 TiB = 1024 GB`. \n",
    "\n",
    "Julia function `Base.summarysize` shows the amount of memory (in bytes) used by an object."
   ]
  },
  {
   "cell_type": "code",
   "execution_count": 3,
   "metadata": {
    "tags": []
   },
   "outputs": [
    {
     "data": {
      "text/plain": [
       "80040"
      ]
     },
     "execution_count": 3,
     "metadata": {},
     "output_type": "execute_result"
    }
   ],
   "source": [
    "x = rand(100, 100)\n",
    "Base.summarysize(x)"
   ]
  },
  {
   "cell_type": "markdown",
   "metadata": {},
   "source": [
    "`varinfo()` function prints all variables in workspace and their sizes."
   ]
  },
  {
   "cell_type": "code",
   "execution_count": 4,
   "metadata": {
    "tags": []
   },
   "outputs": [
    {
     "data": {
      "text/latex": [
       "\\begin{tabular}\n",
       "{l | r | l}\n",
       "name & size & summary \\\\\n",
       "\\hline\n",
       "Base &  & Module \\\\\n",
       "Core &  & Module \\\\\n",
       "Main &  & Module \\\\\n",
       "x & 78.164 KiB & 100×100 Matrix\\{Float64\\} \\\\\n",
       "\\end{tabular}\n"
      ],
      "text/markdown": [
       "| name |       size | summary                 |\n",
       "|:---- | ----------:|:----------------------- |\n",
       "| Base |            | Module                  |\n",
       "| Core |            | Module                  |\n",
       "| Main |            | Module                  |\n",
       "| x    | 78.164 KiB | 100×100 Matrix{Float64} |\n"
      ],
      "text/plain": [
       "  name       size summary                \n",
       "  –––– –––––––––– –––––––––––––––––––––––\n",
       "  Base            Module                 \n",
       "  Core            Module                 \n",
       "  Main            Module                 \n",
       "  x    78.164 KiB 100×100 Matrix{Float64}"
      ]
     },
     "execution_count": 4,
     "metadata": {},
     "output_type": "execute_result"
    }
   ],
   "source": [
    "varinfo() # similar to Matlab whos()"
   ]
  },
  {
   "cell_type": "markdown",
   "metadata": {},
   "source": [
    "## Storage of Characters\n",
    "\n",
    "* Plain text files are stored in the form of characters: `.jl`, `.r`, `.c`, `.cpp`, `.ipynb`, `.html`, `.tex`, ...  \n",
    "* ASCII (American Code for Information Interchange): 7 bits, only $2^7=128$ characters.  "
   ]
  },
  {
   "cell_type": "code",
   "execution_count": 5,
   "metadata": {
    "tags": []
   },
   "outputs": [
    {
     "data": {
      "text/plain": [
       "128×2 Matrix{Any}:\n",
       "   0  '\\0'\n",
       "   1  '\\x01'\n",
       "   2  '\\x02'\n",
       "   3  '\\x03'\n",
       "   4  '\\x04'\n",
       "   5  '\\x05'\n",
       "   6  '\\x06'\n",
       "   7  '\\a'\n",
       "   8  '\\b'\n",
       "   9  '\\t'\n",
       "  10  '\\n'\n",
       "  11  '\\v'\n",
       "  12  '\\f'\n",
       "   ⋮  \n",
       " 116  't'\n",
       " 117  'u'\n",
       " 118  'v'\n",
       " 119  'w'\n",
       " 120  'x'\n",
       " 121  'y'\n",
       " 122  'z'\n",
       " 123  '{'\n",
       " 124  '|'\n",
       " 125  '}'\n",
       " 126  '~'\n",
       " 127  '\\x7f'"
      ]
     },
     "execution_count": 5,
     "metadata": {},
     "output_type": "execute_result"
    }
   ],
   "source": [
    "# integers 0, 1, ..., 127 and corresponding ascii character\n",
    "[0:127 Char.(0:127)]"
   ]
  },
  {
   "cell_type": "markdown",
   "metadata": {},
   "source": [
    "* Extended ASCII: 8 bits, $2^8=256$ characters.  "
   ]
  },
  {
   "cell_type": "code",
   "execution_count": 6,
   "metadata": {
    "tags": []
   },
   "outputs": [
    {
     "data": {
      "text/plain": [
       "128×2 Matrix{Any}:\n",
       " 128  '\\u80'\n",
       " 129  '\\u81'\n",
       " 130  '\\u82'\n",
       " 131  '\\u83'\n",
       " 132  '\\u84'\n",
       " 133  '\\u85'\n",
       " 134  '\\u86'\n",
       " 135  '\\u87'\n",
       " 136  '\\u88'\n",
       " 137  '\\u89'\n",
       " 138  '\\u8a'\n",
       " 139  '\\u8b'\n",
       " 140  '\\u8c'\n",
       "   ⋮  \n",
       " 244  'ô'\n",
       " 245  'õ'\n",
       " 246  'ö'\n",
       " 247  '÷'\n",
       " 248  'ø'\n",
       " 249  'ù'\n",
       " 250  'ú'\n",
       " 251  'û'\n",
       " 252  'ü'\n",
       " 253  'ý'\n",
       " 254  'þ'\n",
       " 255  'ÿ'"
      ]
     },
     "execution_count": 6,
     "metadata": {},
     "output_type": "execute_result"
    }
   ],
   "source": [
    "# integers 128, 129, ..., 255 and corresponding extended ascii character\n",
    "# show(STDOUT, \"text/plain\", [128:255 Char.(128:255)])\n",
    "[128:255 Char.(128:255)]"
   ]
  },
  {
   "cell_type": "markdown",
   "metadata": {},
   "source": [
    "* Unicode: UTF-8, UTF-16 and UTF-32 support many more characters including foreign characters; last 7 digits conform to ASCII. \n",
    "\n",
    "* [UTF-8](https://en.wikipedia.org/wiki/UTF-8) is the current dominant character encoding on internet.  \n",
    "\n",
    "<img src=\"https://upload.wikimedia.org/wikipedia/commons/9/97/Unicode_Web_growth.svg\" width=\"500\" align=\"center\"/>\n",
    "\n",
    "* Julia supports the full range of UTF-8 characters. You can type many Unicode math symbols by typing the backslashed LaTeX symbol name followed by tab. "
   ]
  },
  {
   "cell_type": "code",
   "execution_count": 7,
   "metadata": {
    "tags": []
   },
   "outputs": [
    {
     "data": {
      "text/plain": [
       "0.0"
      ]
     },
     "execution_count": 7,
     "metadata": {},
     "output_type": "execute_result"
    }
   ],
   "source": [
    "# \\beta-<tab>\n",
    "β = 0.0\n",
    "# \\beta-<tab>-\\hat-<tab>\n",
    "β̂ = 0.0"
   ]
  },
  {
   "cell_type": "markdown",
   "metadata": {},
   "source": [
    "* For a table of unicode symbols that can be entered via tab completion of LaTeX-like abbreviations: <https://docs.julialang.org/en/v1.1/manual/unicode-input/#Unicode-Input-1>"
   ]
  },
  {
   "cell_type": "markdown",
   "metadata": {},
   "source": [
    "## Integers: fixed-point number system\n",
    "\n",
    "* Fixed-point number system is a computer model for integers $\\mathbb{Z}$. \n",
    "\n",
    "* The number of bits and method of representing negative numbers vary from system to system. \n",
    "    - The `integer` type in R has $M=32$ or 64 bits, determined by machine word size. \n",
    "    - Matlab has `(u)int8`, `(u)int16`, `(u)int32`, `(u)int64`.  \n",
    "\n",
    "* Julia has even more integer types. Using `Plots.jl` and `GraphRecipes.jl` packages, we can [visualize the type tree](http://www.breloff.com/Graphs/) under `Integer`\n",
    "    - Storage for a `Signed` or `Unsigned` integer can be $M = 8, 16, 32, 64$ or 128 bits.  \n",
    "    - GraphRecipes.jl package has a convenience function for plotting the type hiearchy."
   ]
  },
  {
   "cell_type": "code",
   "execution_count": 8,
   "metadata": {
    "tags": []
   },
   "outputs": [
    {
     "data": {
      "image/svg+xml": [
       "<?xml version=\"1.0\" encoding=\"utf-8\"?>\n",
       "<svg xmlns=\"http://www.w3.org/2000/svg\" xmlns:xlink=\"http://www.w3.org/1999/xlink\" width=\"1200\" height=\"800\" viewBox=\"0 0 4800 3200\">\n",
       "<defs>\n",
       "  <clipPath id=\"clip430\">\n",
       "    <rect x=\"0\" y=\"0\" width=\"4800\" height=\"3200\"/>\n",
       "  </clipPath>\n",
       "</defs>\n",
       "<path clip-path=\"url(#clip430)\" d=\"M0 3200 L4800 3200 L4800 0 L0 0  Z\" fill=\"#ffffff\" fill-rule=\"evenodd\" fill-opacity=\"1\"/>\n",
       "<defs>\n",
       "  <clipPath id=\"clip431\">\n",
       "    <rect x=\"960\" y=\"0\" width=\"3361\" height=\"3200\"/>\n",
       "  </clipPath>\n",
       "</defs>\n",
       "<path clip-path=\"url(#clip430)\" d=\"M847.244 3152.76 L3952.76 3152.76 L3952.76 47.2441 L847.244 47.2441  Z\" fill=\"#ffffff\" fill-rule=\"evenodd\" fill-opacity=\"1\"/>\n",
       "<defs>\n",
       "  <clipPath id=\"clip432\">\n",
       "    <rect x=\"847\" y=\"47\" width=\"3107\" height=\"3107\"/>\n",
       "  </clipPath>\n",
       "</defs>\n",
       "<polyline clip-path=\"url(#clip432)\" style=\"stroke:#000000; stroke-linecap:round; stroke-linejoin:round; stroke-width:4; stroke-opacity:1; fill:none\" points=\"2372.28,490.889 2372.27,507.188 2372.27,523.832 2372.27,540.796 2372.26,558.054 2372.25,575.58 2372.24,593.349 2372.23,611.335 2372.21,629.512 2372.2,647.856 2372.19,666.34 2372.17,684.94 2372.15,703.628 2372.14,722.381 2372.12,741.172 2372.1,759.976 2372.09,778.766 2372.07,797.519 2372.05,816.208 2372.04,834.807 2372.02,853.291 2372.01,871.635 2372,889.813 2371.98,907.799 2371.97,925.567 2371.96,943.093 2371.96,960.351 2371.95,977.315 2371.95,993.959 2371.95,1010.26 \"/>\n",
       "<polyline clip-path=\"url(#clip432)\" style=\"stroke:#000000; stroke-linecap:round; stroke-linejoin:round; stroke-width:4; stroke-opacity:1; fill:none\" points=\"2371.95,1010.26 2371.96,1021.89 2372.01,1033.77 2372.08,1045.88 2372.18,1058.19 2372.31,1070.7 2372.45,1083.38 2372.61,1096.22 2372.79,1109.19 2372.99,1122.28 2373.2,1135.47 2373.41,1148.75 2373.64,1162.08 2373.87,1175.47 2374.1,1188.88 2374.34,1202.3 2374.57,1215.71 2374.8,1229.09 2375.03,1242.43 2375.25,1255.7 2375.45,1268.89 2375.65,1281.98 2375.83,1294.95 2375.99,1307.79 2376.14,1320.47 2376.26,1332.98 2376.36,1345.29 2376.43,1357.4 2376.48,1369.28 2376.5,1380.91 \"/>\n",
       "<polyline clip-path=\"url(#clip432)\" style=\"stroke:#000000; stroke-linecap:round; stroke-linejoin:round; stroke-width:4; stroke-opacity:1; fill:none\" points=\"2376.5,1380.91 2376.49,1396.04 2376.47,1411.49 2376.43,1427.23 2376.38,1443.25 2376.32,1459.51 2376.25,1476 2376.17,1492.69 2376.08,1509.56 2375.99,1526.59 2375.88,1543.74 2375.78,1561 2375.67,1578.35 2375.55,1595.75 2375.44,1613.19 2375.32,1630.64 2375.21,1648.08 2375.1,1665.48 2374.99,1682.83 2374.88,1700.09 2374.78,1717.24 2374.68,1734.27 2374.6,1751.13 2374.52,1767.83 2374.44,1784.32 2374.38,1800.58 2374.34,1816.6 2374.3,1832.34 2374.28,1847.79 2374.27,1862.92 \"/>\n",
       "<polyline clip-path=\"url(#clip432)\" style=\"stroke:#000000; stroke-linecap:round; stroke-linejoin:round; stroke-width:4; stroke-opacity:1; fill:none\" points=\"2374.27,1862.92 2374.86,1871.87 2376.56,1880.66 2379.31,1889.3 2383,1897.81 2387.57,1906.18 2392.93,1914.44 2398.99,1922.6 2405.67,1930.66 2412.9,1938.65 2420.57,1946.57 2428.63,1954.44 2436.97,1962.26 2445.52,1970.06 2454.19,1977.83 2462.91,1985.6 2471.58,1993.38 2480.13,2001.17 2488.47,2009 2496.52,2016.86 2504.2,2024.78 2511.42,2032.77 2518.11,2040.84 2524.17,2049 2529.52,2057.26 2534.09,2065.63 2537.79,2074.13 2540.53,2082.77 2542.24,2091.56 2542.83,2100.52 \"/>\n",
       "<polyline clip-path=\"url(#clip432)\" style=\"stroke:#000000; stroke-linecap:round; stroke-linejoin:round; stroke-width:4; stroke-opacity:1; fill:none\" points=\"2374.27,1862.92 2373.41,1873.81 2370.92,1884.29 2366.92,1894.39 2361.52,1904.14 2354.86,1913.56 2347.04,1922.7 2338.2,1931.58 2328.45,1940.23 2317.91,1948.68 2306.7,1956.96 2294.95,1965.11 2282.78,1973.14 2270.31,1981.11 2257.65,1989.02 2244.94,1996.92 2232.28,2004.84 2219.81,2012.8 2207.63,2020.84 2195.89,2028.98 2184.68,2037.26 2174.14,2045.71 2164.39,2054.36 2155.55,2063.24 2147.73,2072.38 2141.07,2081.81 2135.67,2091.55 2131.67,2101.65 2129.18,2112.13 2128.32,2123.03 \"/>\n",
       "<polyline clip-path=\"url(#clip432)\" style=\"stroke:#000000; stroke-linecap:round; stroke-linejoin:round; stroke-width:4; stroke-opacity:1; fill:none\" points=\"2374.27,1862.92 2375,1876.09 2377.14,1889.17 2380.58,1902.17 2385.21,1915.09 2390.93,1927.94 2397.64,1940.74 2405.23,1953.47 2413.6,1966.16 2422.64,1978.8 2432.26,1991.41 2442.34,2003.98 2452.78,2016.54 2463.49,2029.07 2474.35,2041.6 2485.27,2054.13 2496.13,2066.65 2506.83,2079.19 2517.28,2091.75 2527.36,2104.32 2536.98,2116.93 2546.02,2129.57 2554.39,2142.26 2561.98,2154.99 2568.69,2167.79 2574.41,2180.64 2579.04,2193.56 2582.48,2206.56 2584.61,2219.64 2585.35,2232.81 \"/>\n",
       "<polyline clip-path=\"url(#clip432)\" style=\"stroke:#000000; stroke-linecap:round; stroke-linejoin:round; stroke-width:4; stroke-opacity:1; fill:none\" points=\"2374.27,1862.92 2372.12,1874.68 2365.86,1885.66 2355.8,1895.91 2342.25,1905.5 2325.51,1914.49 2305.89,1922.92 2283.67,1930.86 2259.18,1938.37 2232.71,1945.5 2204.58,1952.31 2175.07,1958.86 2144.5,1965.21 2113.17,1971.41 2081.38,1977.53 2049.45,1983.62 2017.66,1989.74 1986.33,1995.94 1955.76,2002.29 1926.26,2008.84 1898.12,2015.65 1871.65,2022.78 1847.16,2030.29 1824.95,2038.23 1805.32,2046.66 1788.58,2055.65 1775.03,2065.24 1764.97,2075.49 1758.72,2086.47 1756.56,2098.24 \"/>\n",
       "<polyline clip-path=\"url(#clip432)\" style=\"stroke:#000000; stroke-linecap:round; stroke-linejoin:round; stroke-width:4; stroke-opacity:1; fill:none\" points=\"1756.56,2098.24 1754.94,2121.79 1750.22,2144.82 1742.64,2167.35 1732.43,2189.42 1719.81,2211.08 1705.01,2232.36 1688.27,2253.31 1669.8,2273.96 1649.85,2294.35 1628.64,2314.52 1606.39,2334.52 1583.35,2354.38 1559.73,2374.13 1535.76,2393.83 1511.69,2413.51 1487.73,2433.21 1464.11,2452.97 1441.06,2472.83 1418.82,2492.82 1397.6,2513 1377.65,2533.39 1359.19,2554.04 1342.44,2574.99 1327.64,2596.27 1315.02,2617.93 1304.81,2640 1297.23,2662.53 1292.51,2685.55 1290.89,2709.11 \"/>\n",
       "<polyline clip-path=\"url(#clip432)\" style=\"stroke:#000000; stroke-linecap:round; stroke-linejoin:round; stroke-width:4; stroke-opacity:1; fill:none\" points=\"1756.56,2098.24 1755.18,2118.31 1751.17,2137.93 1744.72,2157.14 1736.03,2175.95 1725.29,2194.42 1712.7,2212.57 1698.45,2230.43 1682.74,2248.04 1665.76,2265.43 1647.71,2282.64 1628.78,2299.7 1609.17,2316.64 1589.07,2333.49 1568.68,2350.3 1548.19,2367.09 1527.8,2383.89 1507.7,2400.75 1488.09,2417.69 1469.16,2434.75 1451.11,2451.96 1434.13,2469.35 1418.42,2486.96 1404.17,2504.82 1391.58,2522.97 1380.84,2541.44 1372.15,2560.25 1365.7,2579.46 1361.69,2599.08 1360.3,2619.15 \"/>\n",
       "<polyline clip-path=\"url(#clip432)\" style=\"stroke:#000000; stroke-linecap:round; stroke-linejoin:round; stroke-width:4; stroke-opacity:1; fill:none\" points=\"1756.56,2098.24 1755.92,2118.1 1754.05,2138.2 1751.04,2158.52 1746.98,2179.05 1741.97,2199.77 1736.1,2220.65 1729.45,2241.69 1722.12,2262.85 1714.2,2284.14 1705.78,2305.52 1696.95,2326.98 1687.8,2348.51 1678.42,2370.07 1668.91,2391.67 1659.35,2413.27 1649.84,2434.87 1640.46,2456.44 1631.31,2477.96 1622.48,2499.42 1614.06,2520.8 1606.14,2542.09 1598.81,2563.26 1592.16,2584.29 1586.29,2605.18 1581.28,2625.89 1577.22,2646.42 1574.21,2666.74 1572.34,2686.85 1571.7,2706.71 \"/>\n",
       "<polyline clip-path=\"url(#clip432)\" style=\"stroke:#000000; stroke-linecap:round; stroke-linejoin:round; stroke-width:4; stroke-opacity:1; fill:none\" points=\"1756.56,2098.24 1756.3,2114.61 1755.53,2131.29 1754.3,2148.26 1752.64,2165.5 1750.59,2182.98 1748.19,2200.67 1745.46,2218.56 1742.46,2236.62 1739.22,2254.84 1735.77,2273.17 1732.16,2291.62 1728.41,2310.14 1724.57,2328.72 1720.68,2347.33 1716.77,2365.96 1712.87,2384.58 1709.03,2403.16 1705.29,2421.68 1701.67,2440.12 1698.22,2458.46 1694.98,2476.67 1691.98,2494.73 1689.26,2512.63 1686.85,2530.32 1684.8,2547.8 1683.14,2565.03 1681.91,2582 1681.14,2598.69 1680.88,2615.06 \"/>\n",
       "<polyline clip-path=\"url(#clip432)\" style=\"stroke:#000000; stroke-linecap:round; stroke-linejoin:round; stroke-width:4; stroke-opacity:1; fill:none\" points=\"1756.56,2098.24 1757.64,2115.93 1760.79,2133.41 1765.83,2150.68 1772.64,2167.76 1781.05,2184.67 1790.9,2201.42 1802.06,2218.03 1814.35,2234.51 1827.64,2250.89 1841.77,2267.17 1856.59,2283.39 1871.94,2299.54 1887.67,2315.65 1903.63,2331.74 1919.67,2347.82 1935.63,2363.91 1951.36,2380.02 1966.71,2396.18 1981.53,2412.39 1995.66,2428.67 2008.95,2445.05 2021.25,2461.54 2032.4,2478.14 2042.26,2494.89 2050.66,2511.8 2057.47,2528.88 2062.52,2546.15 2065.66,2563.63 2066.74,2581.33 \"/>\n",
       "<polyline clip-path=\"url(#clip432)\" style=\"stroke:#000000; stroke-linecap:round; stroke-linejoin:round; stroke-width:4; stroke-opacity:1; fill:none\" points=\"1756.56,2098.24 1757.06,2116.22 1758.51,2134.47 1760.84,2152.96 1763.98,2171.67 1767.86,2190.59 1772.41,2209.69 1777.55,2228.95 1783.23,2248.36 1789.36,2267.9 1795.88,2287.54 1802.72,2307.27 1809.8,2327.07 1817.06,2346.92 1824.43,2366.79 1831.83,2386.68 1839.19,2406.56 1846.45,2426.4 1853.53,2446.2 1860.37,2465.93 1866.89,2485.57 1873.02,2505.11 1878.7,2524.52 1883.84,2543.79 1888.39,2562.89 1892.27,2581.8 1895.41,2600.52 1897.74,2619.01 1899.19,2637.25 1899.69,2655.24 \"/>\n",
       "<polyline clip-path=\"url(#clip432)\" style=\"stroke:#000000; stroke-linecap:round; stroke-linejoin:round; stroke-width:4; stroke-opacity:1; fill:none\" points=\"2374.27,1862.92 2376.52,1875.16 2383.06,1886.59 2393.58,1897.26 2407.75,1907.25 2425.25,1916.6 2445.78,1925.37 2469.01,1933.64 2494.62,1941.45 2522.3,1948.88 2551.73,1955.97 2582.58,1962.79 2614.55,1969.39 2647.32,1975.85 2680.56,1982.22 2713.96,1988.56 2747.2,1994.92 2779.96,2001.38 2811.93,2007.99 2842.78,2014.81 2872.21,2021.9 2899.89,2029.32 2925.5,2037.14 2948.73,2045.4 2969.26,2054.18 2986.76,2063.53 3000.93,2073.51 3011.45,2084.19 3017.99,2095.62 3020.24,2107.86 \"/>\n",
       "<polyline clip-path=\"url(#clip432)\" style=\"stroke:#000000; stroke-linecap:round; stroke-linejoin:round; stroke-width:4; stroke-opacity:1; fill:none\" points=\"3020.24,2107.86 3021.95,2126.71 3026.9,2144.42 3034.86,2161.07 3045.58,2176.75 3058.83,2191.54 3074.36,2205.52 3091.94,2218.79 3111.33,2231.42 3132.27,2243.5 3154.54,2255.12 3177.89,2266.36 3202.09,2277.3 3226.88,2288.03 3252.04,2298.63 3277.32,2309.19 3302.47,2319.79 3327.27,2330.52 3351.46,2341.46 3374.81,2352.7 3397.08,2364.32 3418.03,2376.4 3437.41,2389.03 3454.99,2402.3 3470.53,2416.29 3483.77,2431.08 3494.5,2446.76 3502.46,2463.41 3507.41,2481.11 3509.11,2499.96 \"/>\n",
       "<polyline clip-path=\"url(#clip432)\" style=\"stroke:#000000; stroke-linecap:round; stroke-linejoin:round; stroke-width:4; stroke-opacity:1; fill:none\" points=\"3020.24,2107.86 3020.95,2125.21 3023,2142.68 3026.3,2160.25 3030.75,2177.93 3036.25,2195.69 3042.69,2213.54 3049.98,2231.46 3058.02,2249.44 3066.71,2267.48 3075.95,2285.57 3085.63,2303.7 3095.67,2321.85 3105.95,2340.03 3116.39,2358.22 3126.87,2376.42 3137.31,2394.61 3147.59,2412.79 3157.63,2430.94 3167.31,2449.07 3176.55,2467.16 3185.24,2485.2 3193.28,2503.18 3200.57,2521.1 3207.01,2538.95 3212.51,2556.71 3216.96,2574.39 3220.26,2591.96 3222.31,2609.43 3223.02,2626.78 \"/>\n",
       "<polyline clip-path=\"url(#clip432)\" style=\"stroke:#000000; stroke-linecap:round; stroke-linejoin:round; stroke-width:4; stroke-opacity:1; fill:none\" points=\"3020.24,2107.86 3021.56,2128.87 3025.4,2149.56 3031.56,2169.97 3039.87,2190.12 3050.13,2210.02 3062.17,2229.71 3075.79,2249.21 3090.8,2268.53 3107.03,2287.7 3124.28,2306.75 3142.37,2325.69 3161.11,2344.55 3180.32,2363.36 3199.81,2382.13 3219.39,2400.89 3238.88,2419.66 3258.08,2438.46 3276.83,2457.33 3294.92,2476.27 3312.17,2495.32 3328.39,2514.49 3343.41,2533.81 3357.03,2553.3 3369.06,2572.99 3379.33,2592.9 3387.63,2613.04 3393.8,2633.45 3397.63,2654.15 3398.95,2675.15 \"/>\n",
       "<polyline clip-path=\"url(#clip432)\" style=\"stroke:#000000; stroke-linecap:round; stroke-linejoin:round; stroke-width:4; stroke-opacity:1; fill:none\" points=\"3020.24,2107.86 3019.52,2126.2 3017.42,2144.68 3014.04,2163.29 3009.49,2182.02 3003.86,2200.86 2997.27,2219.8 2989.8,2238.83 2981.57,2257.93 2972.68,2277.1 2963.23,2296.33 2953.31,2315.6 2943.04,2334.91 2932.51,2354.25 2921.83,2373.6 2911.1,2392.96 2900.42,2412.31 2889.89,2431.65 2879.62,2450.96 2869.71,2470.23 2860.25,2489.46 2851.36,2508.63 2843.13,2527.74 2835.67,2546.76 2829.07,2565.7 2823.45,2584.54 2818.89,2603.27 2815.52,2621.88 2813.41,2640.36 2812.69,2658.7 \"/>\n",
       "<polyline clip-path=\"url(#clip432)\" style=\"stroke:#000000; stroke-linecap:round; stroke-linejoin:round; stroke-width:4; stroke-opacity:1; fill:none\" points=\"3020.24,2107.86 3020.27,2123.79 3020.35,2140.05 3020.49,2156.63 3020.66,2173.49 3020.89,2190.62 3021.14,2207.98 3021.44,2225.55 3021.76,2243.31 3022.11,2261.23 3022.48,2279.29 3022.87,2297.47 3023.27,2315.72 3023.68,2334.05 3024.1,2352.41 3024.52,2370.78 3024.94,2389.14 3025.36,2407.46 3025.76,2425.72 3026.15,2443.89 3026.52,2461.95 3026.87,2479.87 3027.19,2497.63 3027.48,2515.21 3027.74,2532.57 3027.96,2549.69 3028.14,2566.56 3028.28,2583.13 3028.36,2599.4 3028.39,2615.32 \"/>\n",
       "<path clip-path=\"url(#clip432)\" d=\"M2410.74 490.889 L2391.51 457.579 L2353.04 457.579 L2333.81 490.889 L2353.04 524.198 L2391.51 524.198 L2410.74 490.889 L2410.74 490.889  Z\" fill=\"#009af9\" fill-rule=\"evenodd\" fill-opacity=\"1\"/>\n",
       "<polyline clip-path=\"url(#clip432)\" style=\"stroke:#000000; stroke-linecap:round; stroke-linejoin:round; stroke-width:4; stroke-opacity:1; fill:none\" points=\"2410.74,490.889 2391.51,457.579 2353.04,457.579 2333.81,490.889 2353.04,524.198 2391.51,524.198 2410.74,490.889 \"/>\n",
       "<path clip-path=\"url(#clip432)\" d=\"M2438.91 1010.26 L2405.43 952.264 L2338.46 952.264 L2304.98 1010.26 L2338.46 1068.25 L2405.43 1068.25 L2438.91 1010.26 L2438.91 1010.26  Z\" fill=\"#009af9\" fill-rule=\"evenodd\" fill-opacity=\"1\"/>\n",
       "<polyline clip-path=\"url(#clip432)\" style=\"stroke:#000000; stroke-linecap:round; stroke-linejoin:round; stroke-width:4; stroke-opacity:1; fill:none\" points=\"2438.91,1010.26 2405.43,952.264 2338.46,952.264 2304.98,1010.26 2338.46,1068.25 2405.43,1068.25 2438.91,1010.26 \"/>\n",
       "<path clip-path=\"url(#clip432)\" d=\"M2424.91 1380.91 L2400.7 1338.98 L2352.29 1338.98 L2328.08 1380.91 L2352.29 1422.84 L2400.7 1422.84 L2424.91 1380.91 L2424.91 1380.91  Z\" fill=\"#009af9\" fill-rule=\"evenodd\" fill-opacity=\"1\"/>\n",
       "<polyline clip-path=\"url(#clip432)\" style=\"stroke:#000000; stroke-linecap:round; stroke-linejoin:round; stroke-width:4; stroke-opacity:1; fill:none\" points=\"2424.91,1380.91 2400.7,1338.98 2352.29,1338.98 2328.08,1380.91 2352.29,1422.84 2400.7,1422.84 2424.91,1380.91 \"/>\n",
       "<path clip-path=\"url(#clip432)\" d=\"M2450.02 1862.92 L2412.15 1797.31 L2336.39 1797.31 L2298.51 1862.92 L2336.39 1928.52 L2412.15 1928.52 L2450.02 1862.92 L2450.02 1862.92  Z\" fill=\"#009af9\" fill-rule=\"evenodd\" fill-opacity=\"1\"/>\n",
       "<polyline clip-path=\"url(#clip432)\" style=\"stroke:#000000; stroke-linecap:round; stroke-linejoin:round; stroke-width:4; stroke-opacity:1; fill:none\" points=\"2450.02,1862.92 2412.15,1797.31 2336.39,1797.31 2298.51,1862.92 2336.39,1928.52 2412.15,1928.52 2450.02,1862.92 \"/>\n",
       "<path clip-path=\"url(#clip432)\" d=\"M2591.24 2100.52 L2567.04 2058.59 L2518.62 2058.59 L2494.41 2100.52 L2518.62 2142.45 L2567.04 2142.45 L2591.24 2100.52 L2591.24 2100.52  Z\" fill=\"#009af9\" fill-rule=\"evenodd\" fill-opacity=\"1\"/>\n",
       "<polyline clip-path=\"url(#clip432)\" style=\"stroke:#000000; stroke-linecap:round; stroke-linejoin:round; stroke-width:4; stroke-opacity:1; fill:none\" points=\"2591.24,2100.52 2567.04,2058.59 2518.62,2058.59 2494.41,2100.52 2518.62,2142.45 2567.04,2142.45 2591.24,2100.52 \"/>\n",
       "<path clip-path=\"url(#clip432)\" d=\"M2252.63 2123.03 L2190.47 2015.38 L2066.17 2015.38 L2004.02 2123.03 L2066.17 2230.68 L2190.47 2230.68 L2252.63 2123.03 L2252.63 2123.03  Z\" fill=\"#009af9\" fill-rule=\"evenodd\" fill-opacity=\"1\"/>\n",
       "<polyline clip-path=\"url(#clip432)\" style=\"stroke:#000000; stroke-linecap:round; stroke-linejoin:round; stroke-width:4; stroke-opacity:1; fill:none\" points=\"2252.63,2123.03 2190.47,2015.38 2066.17,2015.38 2004.02,2123.03 2066.17,2230.68 2190.47,2230.68 2252.63,2123.03 \"/>\n",
       "<path clip-path=\"url(#clip432)\" d=\"M2709.66 2232.81 L2647.5 2125.16 L2523.2 2125.16 L2461.04 2232.81 L2523.2 2340.47 L2647.5 2340.47 L2709.66 2232.81 L2709.66 2232.81  Z\" fill=\"#009af9\" fill-rule=\"evenodd\" fill-opacity=\"1\"/>\n",
       "<polyline clip-path=\"url(#clip432)\" style=\"stroke:#000000; stroke-linecap:round; stroke-linejoin:round; stroke-width:4; stroke-opacity:1; fill:none\" points=\"2709.66,2232.81 2647.5,2125.16 2523.2,2125.16 2461.04,2232.81 2523.2,2340.47 2647.5,2340.47 2709.66,2232.81 \"/>\n",
       "<path clip-path=\"url(#clip432)\" d=\"M1823.53 2098.24 L1790.05 2040.24 L1723.08 2040.24 L1689.6 2098.24 L1723.08 2156.23 L1790.05 2156.23 L1823.53 2098.24 L1823.53 2098.24  Z\" fill=\"#009af9\" fill-rule=\"evenodd\" fill-opacity=\"1\"/>\n",
       "<polyline clip-path=\"url(#clip432)\" style=\"stroke:#000000; stroke-linecap:round; stroke-linejoin:round; stroke-width:4; stroke-opacity:1; fill:none\" points=\"1823.53,2098.24 1790.05,2040.24 1723.08,2040.24 1689.6,2098.24 1723.08,2156.23 1790.05,2156.23 1823.53,2098.24 \"/>\n",
       "<path clip-path=\"url(#clip432)\" d=\"M1357.86 2709.11 L1324.37 2651.12 L1257.41 2651.12 L1223.92 2709.11 L1257.41 2767.11 L1324.37 2767.11 L1357.86 2709.11 L1357.86 2709.11  Z\" fill=\"#009af9\" fill-rule=\"evenodd\" fill-opacity=\"1\"/>\n",
       "<polyline clip-path=\"url(#clip432)\" style=\"stroke:#000000; stroke-linecap:round; stroke-linejoin:round; stroke-width:4; stroke-opacity:1; fill:none\" points=\"1357.86,2709.11 1324.37,2651.12 1257.41,2651.12 1223.92,2709.11 1257.41,2767.11 1324.37,2767.11 1357.86,2709.11 \"/>\n",
       "<path clip-path=\"url(#clip432)\" d=\"M1427.27 2619.15 L1393.79 2561.16 L1326.82 2561.16 L1293.34 2619.15 L1326.82 2677.15 L1393.79 2677.15 L1427.27 2619.15 L1427.27 2619.15  Z\" fill=\"#009af9\" fill-rule=\"evenodd\" fill-opacity=\"1\"/>\n",
       "<polyline clip-path=\"url(#clip432)\" style=\"stroke:#000000; stroke-linecap:round; stroke-linejoin:round; stroke-width:4; stroke-opacity:1; fill:none\" points=\"1427.27,2619.15 1393.79,2561.16 1326.82,2561.16 1293.34,2619.15 1326.82,2677.15 1393.79,2677.15 1427.27,2619.15 \"/>\n",
       "<path clip-path=\"url(#clip432)\" d=\"M1629.57 2706.71 L1600.63 2656.58 L1542.76 2656.58 L1513.82 2706.71 L1542.76 2756.83 L1600.63 2756.83 L1629.57 2706.71 L1629.57 2706.71  Z\" fill=\"#009af9\" fill-rule=\"evenodd\" fill-opacity=\"1\"/>\n",
       "<polyline clip-path=\"url(#clip432)\" style=\"stroke:#000000; stroke-linecap:round; stroke-linejoin:round; stroke-width:4; stroke-opacity:1; fill:none\" points=\"1629.57,2706.71 1600.63,2656.58 1542.76,2656.58 1513.82,2706.71 1542.76,2756.83 1600.63,2756.83 1629.57,2706.71 \"/>\n",
       "<path clip-path=\"url(#clip432)\" d=\"M1738.76 2615.06 L1709.82 2564.94 L1651.94 2564.94 L1623 2615.06 L1651.94 2665.18 L1709.82 2665.18 L1738.76 2615.06 L1738.76 2615.06  Z\" fill=\"#009af9\" fill-rule=\"evenodd\" fill-opacity=\"1\"/>\n",
       "<polyline clip-path=\"url(#clip432)\" style=\"stroke:#000000; stroke-linecap:round; stroke-linejoin:round; stroke-width:4; stroke-opacity:1; fill:none\" points=\"1738.76,2615.06 1709.82,2564.94 1651.94,2564.94 1623,2615.06 1651.94,2665.18 1709.82,2665.18 1738.76,2615.06 \"/>\n",
       "<path clip-path=\"url(#clip432)\" d=\"M2124.62 2581.33 L2095.68 2531.2 L2037.8 2531.2 L2008.86 2581.33 L2037.8 2631.45 L2095.68 2631.45 L2124.62 2581.33 L2124.62 2581.33  Z\" fill=\"#009af9\" fill-rule=\"evenodd\" fill-opacity=\"1\"/>\n",
       "<polyline clip-path=\"url(#clip432)\" style=\"stroke:#000000; stroke-linecap:round; stroke-linejoin:round; stroke-width:4; stroke-opacity:1; fill:none\" points=\"2124.62,2581.33 2095.68,2531.2 2037.8,2531.2 2008.86,2581.33 2037.8,2631.45 2095.68,2631.45 2124.62,2581.33 \"/>\n",
       "<path clip-path=\"url(#clip432)\" d=\"M1948.1 2655.24 L1923.89 2613.31 L1875.48 2613.31 L1851.27 2655.24 L1875.48 2697.17 L1923.89 2697.17 L1948.1 2655.24 L1948.1 2655.24  Z\" fill=\"#009af9\" fill-rule=\"evenodd\" fill-opacity=\"1\"/>\n",
       "<polyline clip-path=\"url(#clip432)\" style=\"stroke:#000000; stroke-linecap:round; stroke-linejoin:round; stroke-width:4; stroke-opacity:1; fill:none\" points=\"1948.1,2655.24 1923.89,2613.31 1875.48,2613.31 1851.27,2655.24 1875.48,2697.17 1923.89,2697.17 1948.1,2655.24 \"/>\n",
       "<path clip-path=\"url(#clip432)\" d=\"M3104.54 2107.86 L3062.39 2034.86 L2978.09 2034.86 L2935.95 2107.86 L2978.09 2180.86 L3062.39 2180.86 L3104.54 2107.86 L3104.54 2107.86  Z\" fill=\"#009af9\" fill-rule=\"evenodd\" fill-opacity=\"1\"/>\n",
       "<polyline clip-path=\"url(#clip432)\" style=\"stroke:#000000; stroke-linecap:round; stroke-linejoin:round; stroke-width:4; stroke-opacity:1; fill:none\" points=\"3104.54,2107.86 3062.39,2034.86 2978.09,2034.86 2935.95,2107.86 2978.09,2180.86 3062.39,2180.86 3104.54,2107.86 \"/>\n",
       "<path clip-path=\"url(#clip432)\" d=\"M3584.87 2499.96 L3546.99 2434.36 L3471.23 2434.36 L3433.36 2499.96 L3471.23 2565.57 L3546.99 2565.57 L3584.87 2499.96 L3584.87 2499.96  Z\" fill=\"#009af9\" fill-rule=\"evenodd\" fill-opacity=\"1\"/>\n",
       "<polyline clip-path=\"url(#clip432)\" style=\"stroke:#000000; stroke-linecap:round; stroke-linejoin:round; stroke-width:4; stroke-opacity:1; fill:none\" points=\"3584.87,2499.96 3546.99,2434.36 3471.23,2434.36 3433.36,2499.96 3471.23,2565.57 3546.99,2565.57 3584.87,2499.96 \"/>\n",
       "<path clip-path=\"url(#clip432)\" d=\"M3289.98 2626.78 L3256.5 2568.79 L3189.53 2568.79 L3156.05 2626.78 L3189.53 2684.78 L3256.5 2684.78 L3289.98 2626.78 L3289.98 2626.78  Z\" fill=\"#009af9\" fill-rule=\"evenodd\" fill-opacity=\"1\"/>\n",
       "<polyline clip-path=\"url(#clip432)\" style=\"stroke:#000000; stroke-linecap:round; stroke-linejoin:round; stroke-width:4; stroke-opacity:1; fill:none\" points=\"3289.98,2626.78 3256.5,2568.79 3189.53,2568.79 3156.05,2626.78 3189.53,2684.78 3256.5,2684.78 3289.98,2626.78 \"/>\n",
       "<path clip-path=\"url(#clip432)\" d=\"M3465.92 2675.15 L3432.44 2617.16 L3365.47 2617.16 L3331.99 2675.15 L3365.47 2733.15 L3432.44 2733.15 L3465.92 2675.15 L3465.92 2675.15  Z\" fill=\"#009af9\" fill-rule=\"evenodd\" fill-opacity=\"1\"/>\n",
       "<polyline clip-path=\"url(#clip432)\" style=\"stroke:#000000; stroke-linecap:round; stroke-linejoin:round; stroke-width:4; stroke-opacity:1; fill:none\" points=\"3465.92,2675.15 3432.44,2617.16 3365.47,2617.16 3331.99,2675.15 3365.47,2733.15 3432.44,2733.15 3465.92,2675.15 \"/>\n",
       "<path clip-path=\"url(#clip432)\" d=\"M2879.66 2658.7 L2846.17 2600.71 L2779.21 2600.71 L2745.72 2658.7 L2779.21 2716.7 L2846.17 2716.7 L2879.66 2658.7 L2879.66 2658.7  Z\" fill=\"#009af9\" fill-rule=\"evenodd\" fill-opacity=\"1\"/>\n",
       "<polyline clip-path=\"url(#clip432)\" style=\"stroke:#000000; stroke-linecap:round; stroke-linejoin:round; stroke-width:4; stroke-opacity:1; fill:none\" points=\"2879.66,2658.7 2846.17,2600.71 2779.21,2600.71 2745.72,2658.7 2779.21,2716.7 2846.17,2716.7 2879.66,2658.7 \"/>\n",
       "<path clip-path=\"url(#clip432)\" d=\"M3086.26 2615.32 L3057.32 2565.2 L2999.45 2565.2 L2970.51 2615.32 L2999.45 2665.45 L3057.32 2665.45 L3086.26 2615.32 L3086.26 2615.32  Z\" fill=\"#009af9\" fill-rule=\"evenodd\" fill-opacity=\"1\"/>\n",
       "<polyline clip-path=\"url(#clip432)\" style=\"stroke:#000000; stroke-linecap:round; stroke-linejoin:round; stroke-width:4; stroke-opacity:1; fill:none\" points=\"3086.26,2615.32 3057.32,2565.2 2999.45,2565.2 2970.51,2615.32 2999.45,2665.45 3057.32,2665.45 3086.26,2615.32 \"/>\n",
       "<path clip-path=\"url(#clip432)\" d=\"M2372.28 491.289 L2371.93 491.089 L2371.93 490.689 L2372.28 490.489 L2372.62 490.689 L2372.62 491.089 Z\" fill=\"#009af9\" fill-rule=\"evenodd\" fill-opacity=\"1\" stroke=\"#000000\" stroke-opacity=\"1\" stroke-width=\"6.4\"/>\n",
       "<path clip-path=\"url(#clip432)\" d=\"M2371.95 1010.66 L2371.6 1010.46 L2371.6 1010.06 L2371.95 1009.86 L2372.29 1010.06 L2372.29 1010.46 Z\" fill=\"#009af9\" fill-rule=\"evenodd\" fill-opacity=\"1\" stroke=\"#000000\" stroke-opacity=\"1\" stroke-width=\"6.4\"/>\n",
       "<path clip-path=\"url(#clip432)\" d=\"M2376.5 1381.31 L2376.15 1381.11 L2376.15 1380.71 L2376.5 1380.51 L2376.84 1380.71 L2376.84 1381.11 Z\" fill=\"#009af9\" fill-rule=\"evenodd\" fill-opacity=\"1\" stroke=\"#000000\" stroke-opacity=\"1\" stroke-width=\"6.4\"/>\n",
       "<path clip-path=\"url(#clip432)\" d=\"M2374.27 1863.32 L2373.92 1863.12 L2373.92 1862.72 L2374.27 1862.52 L2374.61 1862.72 L2374.61 1863.12 Z\" fill=\"#009af9\" fill-rule=\"evenodd\" fill-opacity=\"1\" stroke=\"#000000\" stroke-opacity=\"1\" stroke-width=\"6.4\"/>\n",
       "<path clip-path=\"url(#clip432)\" d=\"M2542.83 2100.92 L2542.48 2100.72 L2542.48 2100.32 L2542.83 2100.12 L2543.17 2100.32 L2543.17 2100.72 Z\" fill=\"#009af9\" fill-rule=\"evenodd\" fill-opacity=\"1\" stroke=\"#000000\" stroke-opacity=\"1\" stroke-width=\"6.4\"/>\n",
       "<path clip-path=\"url(#clip432)\" d=\"M2128.32 2123.43 L2127.97 2123.23 L2127.97 2122.83 L2128.32 2122.63 L2128.67 2122.83 L2128.67 2123.23 Z\" fill=\"#009af9\" fill-rule=\"evenodd\" fill-opacity=\"1\" stroke=\"#000000\" stroke-opacity=\"1\" stroke-width=\"6.4\"/>\n",
       "<path clip-path=\"url(#clip432)\" d=\"M2585.35 2233.21 L2585 2233.01 L2585 2232.61 L2585.35 2232.41 L2585.7 2232.61 L2585.7 2233.01 Z\" fill=\"#009af9\" fill-rule=\"evenodd\" fill-opacity=\"1\" stroke=\"#000000\" stroke-opacity=\"1\" stroke-width=\"6.4\"/>\n",
       "<path clip-path=\"url(#clip432)\" d=\"M1756.56 2098.64 L1756.22 2098.44 L1756.22 2098.04 L1756.56 2097.84 L1756.91 2098.04 L1756.91 2098.44 Z\" fill=\"#009af9\" fill-rule=\"evenodd\" fill-opacity=\"1\" stroke=\"#000000\" stroke-opacity=\"1\" stroke-width=\"6.4\"/>\n",
       "<path clip-path=\"url(#clip432)\" d=\"M1290.89 2709.51 L1290.54 2709.31 L1290.54 2708.91 L1290.89 2708.71 L1291.24 2708.91 L1291.24 2709.31 Z\" fill=\"#009af9\" fill-rule=\"evenodd\" fill-opacity=\"1\" stroke=\"#000000\" stroke-opacity=\"1\" stroke-width=\"6.4\"/>\n",
       "<path clip-path=\"url(#clip432)\" d=\"M1360.3 2619.55 L1359.96 2619.35 L1359.96 2618.95 L1360.3 2618.75 L1360.65 2618.95 L1360.65 2619.35 Z\" fill=\"#009af9\" fill-rule=\"evenodd\" fill-opacity=\"1\" stroke=\"#000000\" stroke-opacity=\"1\" stroke-width=\"6.4\"/>\n",
       "<path clip-path=\"url(#clip432)\" d=\"M1571.7 2707.11 L1571.35 2706.91 L1571.35 2706.51 L1571.7 2706.31 L1572.04 2706.51 L1572.04 2706.91 Z\" fill=\"#009af9\" fill-rule=\"evenodd\" fill-opacity=\"1\" stroke=\"#000000\" stroke-opacity=\"1\" stroke-width=\"6.4\"/>\n",
       "<path clip-path=\"url(#clip432)\" d=\"M1680.88 2615.46 L1680.53 2615.26 L1680.53 2614.86 L1680.88 2614.66 L1681.23 2614.86 L1681.23 2615.26 Z\" fill=\"#009af9\" fill-rule=\"evenodd\" fill-opacity=\"1\" stroke=\"#000000\" stroke-opacity=\"1\" stroke-width=\"6.4\"/>\n",
       "<path clip-path=\"url(#clip432)\" d=\"M2066.74 2581.73 L2066.39 2581.53 L2066.39 2581.13 L2066.74 2580.93 L2067.08 2581.13 L2067.08 2581.53 Z\" fill=\"#009af9\" fill-rule=\"evenodd\" fill-opacity=\"1\" stroke=\"#000000\" stroke-opacity=\"1\" stroke-width=\"6.4\"/>\n",
       "<path clip-path=\"url(#clip432)\" d=\"M1899.69 2655.64 L1899.34 2655.44 L1899.34 2655.04 L1899.69 2654.84 L1900.03 2655.04 L1900.03 2655.44 Z\" fill=\"#009af9\" fill-rule=\"evenodd\" fill-opacity=\"1\" stroke=\"#000000\" stroke-opacity=\"1\" stroke-width=\"6.4\"/>\n",
       "<path clip-path=\"url(#clip432)\" d=\"M3020.24 2108.26 L3019.9 2108.06 L3019.9 2107.66 L3020.24 2107.46 L3020.59 2107.66 L3020.59 2108.06 Z\" fill=\"#009af9\" fill-rule=\"evenodd\" fill-opacity=\"1\" stroke=\"#000000\" stroke-opacity=\"1\" stroke-width=\"6.4\"/>\n",
       "<path clip-path=\"url(#clip432)\" d=\"M3509.11 2500.36 L3508.76 2500.16 L3508.76 2499.76 L3509.11 2499.56 L3509.46 2499.76 L3509.46 2500.16 Z\" fill=\"#009af9\" fill-rule=\"evenodd\" fill-opacity=\"1\" stroke=\"#000000\" stroke-opacity=\"1\" stroke-width=\"6.4\"/>\n",
       "<path clip-path=\"url(#clip432)\" d=\"M3223.02 2627.18 L3222.67 2626.98 L3222.67 2626.58 L3223.02 2626.38 L3223.36 2626.58 L3223.36 2626.98 Z\" fill=\"#009af9\" fill-rule=\"evenodd\" fill-opacity=\"1\" stroke=\"#000000\" stroke-opacity=\"1\" stroke-width=\"6.4\"/>\n",
       "<path clip-path=\"url(#clip432)\" d=\"M3398.95 2675.55 L3398.61 2675.35 L3398.61 2674.95 L3398.95 2674.75 L3399.3 2674.95 L3399.3 2675.35 Z\" fill=\"#009af9\" fill-rule=\"evenodd\" fill-opacity=\"1\" stroke=\"#000000\" stroke-opacity=\"1\" stroke-width=\"6.4\"/>\n",
       "<path clip-path=\"url(#clip432)\" d=\"M2812.69 2659.1 L2812.34 2658.9 L2812.34 2658.5 L2812.69 2658.3 L2813.04 2658.5 L2813.04 2658.9 Z\" fill=\"#009af9\" fill-rule=\"evenodd\" fill-opacity=\"1\" stroke=\"#000000\" stroke-opacity=\"1\" stroke-width=\"6.4\"/>\n",
       "<path clip-path=\"url(#clip432)\" d=\"M3028.39 2615.72 L3028.04 2615.52 L3028.04 2615.12 L3028.39 2614.92 L3028.73 2615.12 L3028.73 2615.52 Z\" fill=\"#009af9\" fill-rule=\"evenodd\" fill-opacity=\"1\" stroke=\"#000000\" stroke-opacity=\"1\" stroke-width=\"6.4\"/>\n",
       "<path clip-path=\"url(#clip430)\" d=\"M2358 484.552 L2354.83 493.151 L2361.19 493.151 L2358 484.552 M2356.69 482.249 L2359.34 482.249 L2365.92 499.529 L2363.49 499.529 L2361.92 495.096 L2354.13 495.096 L2352.55 499.529 L2350.09 499.529 L2356.69 482.249 Z\" fill=\"#000000\" fill-rule=\"nonzero\" fill-opacity=\"1\" /><path clip-path=\"url(#clip430)\" d=\"M2379.13 491.705 L2379.13 499.529 L2377 499.529 L2377 491.774 Q2377 489.934 2376.28 489.019 Q2375.56 488.105 2374.13 488.105 Q2372.4 488.105 2371.41 489.205 Q2370.41 490.304 2370.41 492.202 L2370.41 499.529 L2368.27 499.529 L2368.27 486.566 L2370.41 486.566 L2370.41 488.58 Q2371.18 487.411 2372.21 486.832 Q2373.25 486.253 2374.6 486.253 Q2376.84 486.253 2377.98 487.642 Q2379.13 489.019 2379.13 491.705 Z\" fill=\"#000000\" fill-rule=\"nonzero\" fill-opacity=\"1\" /><path clip-path=\"url(#clip430)\" d=\"M2388.77 500.732 Q2387.87 503.047 2387.01 503.753 Q2386.15 504.459 2384.72 504.459 L2383.02 504.459 L2383.02 502.677 L2384.27 502.677 Q2385.15 502.677 2385.63 502.26 Q2386.12 501.843 2386.71 500.293 L2387.09 499.32 L2381.85 486.566 L2384.1 486.566 L2388.16 496.705 L2392.21 486.566 L2394.46 486.566 L2388.77 500.732 Z\" fill=\"#000000\" fill-rule=\"nonzero\" fill-opacity=\"1\" /><path clip-path=\"url(#clip430)\" d=\"M2325.5 1001.62 L2328.65 1001.62 L2336.31 1016.07 L2336.31 1001.62 L2338.58 1001.62 L2338.58 1018.9 L2335.43 1018.9 L2327.77 1004.44 L2327.77 1018.9 L2325.5 1018.9 L2325.5 1001.62 Z\" fill=\"#000000\" fill-rule=\"nonzero\" fill-opacity=\"1\" /><path clip-path=\"url(#clip430)\" d=\"M2342.92 1013.78 L2342.92 1005.94 L2345.05 1005.94 L2345.05 1013.7 Q2345.05 1015.54 2345.77 1016.47 Q2346.48 1017.38 2347.92 1017.38 Q2349.64 1017.38 2350.64 1016.28 Q2351.65 1015.18 2351.65 1013.29 L2351.65 1005.94 L2353.78 1005.94 L2353.78 1018.9 L2351.65 1018.9 L2351.65 1016.91 Q2350.87 1018.09 2349.84 1018.67 Q2348.82 1019.23 2347.47 1019.23 Q2345.23 1019.23 2344.08 1017.85 Q2342.92 1016.46 2342.92 1013.78 M2348.28 1005.62 L2348.28 1005.62 Z\" fill=\"#000000\" fill-rule=\"nonzero\" fill-opacity=\"1\" /><path clip-path=\"url(#clip430)\" d=\"M2368.25 1008.42 Q2369.05 1006.99 2370.16 1006.31 Q2371.28 1005.62 2372.78 1005.62 Q2374.81 1005.62 2375.91 1007.05 Q2377 1008.46 2377 1011.07 L2377 1018.9 L2374.86 1018.9 L2374.86 1011.14 Q2374.86 1009.28 2374.2 1008.38 Q2373.54 1007.48 2372.19 1007.48 Q2370.53 1007.48 2369.57 1008.57 Q2368.61 1009.67 2368.61 1011.57 L2368.61 1018.9 L2366.47 1018.9 L2366.47 1011.14 Q2366.47 1009.27 2365.81 1008.38 Q2365.15 1007.48 2363.78 1007.48 Q2362.14 1007.48 2361.18 1008.59 Q2360.22 1009.69 2360.22 1011.57 L2360.22 1018.9 L2358.08 1018.9 L2358.08 1005.94 L2360.22 1005.94 L2360.22 1007.95 Q2360.95 1006.76 2361.97 1006.19 Q2362.99 1005.62 2364.39 1005.62 Q2365.8 1005.62 2366.78 1006.34 Q2367.78 1007.06 2368.25 1008.42 Z\" fill=\"#000000\" fill-rule=\"nonzero\" fill-opacity=\"1\" /><path clip-path=\"url(#clip430)\" d=\"M2390.56 1012.43 Q2390.56 1010.08 2389.59 1008.75 Q2388.63 1007.41 2386.94 1007.41 Q2385.25 1007.41 2384.27 1008.75 Q2383.31 1010.08 2383.31 1012.43 Q2383.31 1014.78 2384.27 1016.12 Q2385.25 1017.45 2386.94 1017.45 Q2388.63 1017.45 2389.59 1016.12 Q2390.56 1014.78 2390.56 1012.43 M2383.31 1007.9 Q2383.98 1006.75 2385 1006.19 Q2386.03 1005.62 2387.46 1005.62 Q2389.82 1005.62 2391.29 1007.5 Q2392.77 1009.37 2392.77 1012.43 Q2392.77 1015.48 2391.29 1017.36 Q2389.82 1019.23 2387.46 1019.23 Q2386.03 1019.23 2385 1018.68 Q2383.98 1018.11 2383.31 1016.95 L2383.31 1018.9 L2381.17 1018.9 L2381.17 1000.89 L2383.31 1000.89 L2383.31 1007.9 Z\" fill=\"#000000\" fill-rule=\"nonzero\" fill-opacity=\"1\" /><path clip-path=\"url(#clip430)\" d=\"M2407.39 1011.88 L2407.39 1012.93 L2397.59 1012.93 Q2397.73 1015.13 2398.91 1016.28 Q2400.11 1017.43 2402.22 1017.43 Q2403.45 1017.43 2404.6 1017.13 Q2405.75 1016.83 2406.89 1016.23 L2406.89 1018.24 Q2405.74 1018.73 2404.54 1018.98 Q2403.34 1019.23 2402.1 1019.23 Q2399 1019.23 2397.18 1017.43 Q2395.37 1015.62 2395.37 1012.54 Q2395.37 1009.36 2397.09 1007.5 Q2398.81 1005.62 2401.73 1005.62 Q2404.34 1005.62 2405.86 1007.31 Q2407.39 1008.99 2407.39 1011.88 M2405.26 1011.26 Q2405.23 1009.51 2404.27 1008.47 Q2403.32 1007.43 2401.75 1007.43 Q2399.97 1007.43 2398.89 1008.44 Q2397.83 1009.44 2397.66 1011.27 L2405.26 1011.26 Z\" fill=\"#000000\" fill-rule=\"nonzero\" fill-opacity=\"1\" /><path clip-path=\"url(#clip430)\" d=\"M2418.39 1007.93 Q2418.03 1007.72 2417.61 1007.63 Q2417.19 1007.52 2416.68 1007.52 Q2414.87 1007.52 2413.9 1008.7 Q2412.94 1009.87 2412.94 1012.07 L2412.94 1018.9 L2410.8 1018.9 L2410.8 1005.94 L2412.94 1005.94 L2412.94 1007.95 Q2413.61 1006.77 2414.69 1006.2 Q2415.77 1005.62 2417.31 1005.62 Q2417.53 1005.62 2417.79 1005.66 Q2418.06 1005.68 2418.38 1005.74 L2418.39 1007.93 Z\" fill=\"#000000\" fill-rule=\"nonzero\" fill-opacity=\"1\" /><path clip-path=\"url(#clip430)\" d=\"M2361.42 1381.45 Q2362.17 1381.71 2362.87 1382.54 Q2363.59 1383.37 2364.31 1384.83 L2366.68 1389.55 L2364.17 1389.55 L2361.96 1385.12 Q2361.1 1383.38 2360.29 1382.82 Q2359.49 1382.25 2358.11 1382.25 L2355.56 1382.25 L2355.56 1389.55 L2353.22 1389.55 L2353.22 1372.27 L2358.5 1372.27 Q2361.46 1372.27 2362.92 1373.51 Q2364.38 1374.75 2364.38 1377.25 Q2364.38 1378.88 2363.61 1379.96 Q2362.86 1381.03 2361.42 1381.45 M2355.56 1374.19 L2355.56 1380.33 L2358.5 1380.33 Q2360.19 1380.33 2361.04 1379.55 Q2361.91 1378.77 2361.91 1377.25 Q2361.91 1375.73 2361.04 1374.97 Q2360.19 1374.19 2358.5 1374.19 L2355.56 1374.19 Z\" fill=\"#000000\" fill-rule=\"nonzero\" fill-opacity=\"1\" /><path clip-path=\"url(#clip430)\" d=\"M2379.62 1382.54 L2379.62 1383.58 L2369.83 1383.58 Q2369.97 1385.78 2371.15 1386.94 Q2372.34 1388.08 2374.46 1388.08 Q2375.69 1388.08 2376.83 1387.78 Q2377.99 1387.48 2379.12 1386.88 L2379.12 1388.89 Q2377.98 1389.38 2376.77 1389.63 Q2375.57 1389.89 2374.33 1389.89 Q2371.23 1389.89 2369.41 1388.08 Q2367.61 1386.28 2367.61 1383.2 Q2367.61 1380.02 2369.32 1378.15 Q2371.04 1376.28 2373.96 1376.28 Q2376.58 1376.28 2378.09 1377.97 Q2379.62 1379.65 2379.62 1382.54 M2377.49 1381.91 Q2377.47 1380.17 2376.51 1379.13 Q2375.56 1378.08 2373.98 1378.08 Q2372.2 1378.08 2371.13 1379.09 Q2370.06 1380.1 2369.9 1381.93 L2377.49 1381.91 Z\" fill=\"#000000\" fill-rule=\"nonzero\" fill-opacity=\"1\" /><path clip-path=\"url(#clip430)\" d=\"M2389.01 1383.04 Q2386.43 1383.04 2385.43 1383.63 Q2384.44 1384.22 2384.44 1385.64 Q2384.44 1386.78 2385.18 1387.45 Q2385.93 1388.11 2387.21 1388.11 Q2388.98 1388.11 2390.05 1386.86 Q2391.13 1385.6 2391.13 1383.51 L2391.13 1383.04 L2389.01 1383.04 M2393.26 1382.16 L2393.26 1389.55 L2391.13 1389.55 L2391.13 1387.59 Q2390.4 1388.77 2389.31 1389.33 Q2388.22 1389.89 2386.65 1389.89 Q2384.66 1389.89 2383.48 1388.78 Q2382.31 1387.66 2382.31 1385.78 Q2382.31 1383.59 2383.76 1382.48 Q2385.23 1381.37 2388.14 1381.37 L2391.13 1381.37 L2391.13 1381.16 Q2391.13 1379.69 2390.15 1378.89 Q2389.19 1378.08 2387.45 1378.08 Q2386.33 1378.08 2385.28 1378.35 Q2384.23 1378.62 2383.26 1379.15 L2383.26 1377.18 Q2384.42 1376.73 2385.52 1376.51 Q2386.62 1376.28 2387.67 1376.28 Q2390.48 1376.28 2391.87 1377.74 Q2393.26 1379.19 2393.26 1382.16 Z\" fill=\"#000000\" fill-rule=\"nonzero\" fill-opacity=\"1\" /><path clip-path=\"url(#clip430)\" d=\"M2397.64 1371.54 L2399.77 1371.54 L2399.77 1389.55 L2397.64 1389.55 L2397.64 1371.54 Z\" fill=\"#000000\" fill-rule=\"nonzero\" fill-opacity=\"1\" /><path clip-path=\"url(#clip430)\" d=\"M2332.8 1854.28 L2335.14 1854.28 L2335.14 1871.56 L2332.8 1871.56 L2332.8 1854.28 Z\" fill=\"#000000\" fill-rule=\"nonzero\" fill-opacity=\"1\" /><path clip-path=\"url(#clip430)\" d=\"M2350.47 1863.73 L2350.47 1871.56 L2348.34 1871.56 L2348.34 1863.8 Q2348.34 1861.96 2347.63 1861.05 Q2346.91 1860.13 2345.47 1860.13 Q2343.75 1860.13 2342.75 1861.23 Q2341.76 1862.33 2341.76 1864.23 L2341.76 1871.56 L2339.62 1871.56 L2339.62 1858.59 L2341.76 1858.59 L2341.76 1860.61 Q2342.52 1859.44 2343.55 1858.86 Q2344.59 1858.28 2345.95 1858.28 Q2348.18 1858.28 2349.33 1859.67 Q2350.47 1861.05 2350.47 1863.73 Z\" fill=\"#000000\" fill-rule=\"nonzero\" fill-opacity=\"1\" /><path clip-path=\"url(#clip430)\" d=\"M2356.83 1854.91 L2356.83 1858.59 L2361.21 1858.59 L2361.21 1860.25 L2356.83 1860.25 L2356.83 1867.28 Q2356.83 1868.87 2357.25 1869.32 Q2357.69 1869.77 2359.03 1869.77 L2361.21 1869.77 L2361.21 1871.56 L2359.03 1871.56 Q2356.56 1871.56 2355.62 1870.64 Q2354.69 1869.72 2354.69 1867.28 L2354.69 1860.25 L2353.12 1860.25 L2353.12 1858.59 L2354.69 1858.59 L2354.69 1854.91 L2356.83 1854.91 Z\" fill=\"#000000\" fill-rule=\"nonzero\" fill-opacity=\"1\" /><path clip-path=\"url(#clip430)\" d=\"M2375.1 1864.54 L2375.1 1865.58 L2365.31 1865.58 Q2365.45 1867.78 2366.63 1868.94 Q2367.82 1870.09 2369.94 1870.09 Q2371.17 1870.09 2372.31 1869.78 Q2373.47 1869.48 2374.6 1868.88 L2374.6 1870.9 Q2373.46 1871.38 2372.25 1871.64 Q2371.05 1871.89 2369.81 1871.89 Q2366.71 1871.89 2364.89 1870.09 Q2363.09 1868.28 2363.09 1865.2 Q2363.09 1862.02 2364.8 1860.16 Q2366.53 1858.28 2369.44 1858.28 Q2372.06 1858.28 2373.57 1859.97 Q2375.1 1861.65 2375.1 1864.54 M2372.97 1863.92 Q2372.95 1862.17 2371.99 1861.13 Q2371.04 1860.09 2369.47 1860.09 Q2367.68 1860.09 2366.61 1861.09 Q2365.54 1862.1 2365.38 1863.93 L2372.97 1863.92 Z\" fill=\"#000000\" fill-rule=\"nonzero\" fill-opacity=\"1\" /><path clip-path=\"url(#clip430)\" d=\"M2387.13 1864.92 Q2387.13 1862.61 2386.17 1861.34 Q2385.22 1860.06 2383.49 1860.06 Q2381.78 1860.06 2380.82 1861.34 Q2379.87 1862.61 2379.87 1864.92 Q2379.87 1867.23 2380.82 1868.5 Q2381.78 1869.77 2383.49 1869.77 Q2385.22 1869.77 2386.17 1868.5 Q2387.13 1867.23 2387.13 1864.92 M2389.26 1869.95 Q2389.26 1873.26 2387.79 1874.87 Q2386.32 1876.49 2383.28 1876.49 Q2382.16 1876.49 2381.17 1876.31 Q2380.17 1876.15 2379.23 1875.8 L2379.23 1873.73 Q2380.17 1874.24 2381.09 1874.48 Q2382 1874.73 2382.95 1874.73 Q2385.04 1874.73 2386.09 1873.63 Q2387.13 1872.54 2387.13 1870.33 L2387.13 1869.28 Q2386.47 1870.42 2385.44 1870.99 Q2384.41 1871.56 2382.97 1871.56 Q2380.59 1871.56 2379.13 1869.74 Q2377.67 1867.92 2377.67 1864.92 Q2377.67 1861.91 2379.13 1860.1 Q2380.59 1858.28 2382.97 1858.28 Q2384.41 1858.28 2385.44 1858.85 Q2386.47 1859.41 2387.13 1860.56 L2387.13 1858.59 L2389.26 1858.59 L2389.26 1869.95 Z\" fill=\"#000000\" fill-rule=\"nonzero\" fill-opacity=\"1\" /><path clip-path=\"url(#clip430)\" d=\"M2404.73 1864.54 L2404.73 1865.58 L2394.94 1865.58 Q2395.08 1867.78 2396.26 1868.94 Q2397.45 1870.09 2399.57 1870.09 Q2400.8 1870.09 2401.94 1869.78 Q2403.1 1869.48 2404.23 1868.88 L2404.23 1870.9 Q2403.09 1871.38 2401.88 1871.64 Q2400.68 1871.89 2399.44 1871.89 Q2396.34 1871.89 2394.52 1870.09 Q2392.72 1868.28 2392.72 1865.2 Q2392.72 1862.02 2394.43 1860.16 Q2396.15 1858.28 2399.07 1858.28 Q2401.69 1858.28 2403.2 1859.97 Q2404.73 1861.65 2404.73 1864.54 M2402.6 1863.92 Q2402.58 1862.17 2401.62 1861.13 Q2400.67 1860.09 2399.09 1860.09 Q2397.31 1860.09 2396.24 1861.09 Q2395.17 1862.1 2395.01 1863.93 L2402.6 1863.92 Z\" fill=\"#000000\" fill-rule=\"nonzero\" fill-opacity=\"1\" /><path clip-path=\"url(#clip430)\" d=\"M2415.74 1860.58 Q2415.38 1860.37 2414.95 1860.28 Q2414.53 1860.18 2414.03 1860.18 Q2412.22 1860.18 2411.25 1861.36 Q2410.29 1862.53 2410.29 1864.73 L2410.29 1871.56 L2408.15 1871.56 L2408.15 1858.59 L2410.29 1858.59 L2410.29 1860.61 Q2410.96 1859.43 2412.03 1858.86 Q2413.11 1858.28 2414.65 1858.28 Q2414.87 1858.28 2415.14 1858.31 Q2415.4 1858.34 2415.73 1858.4 L2415.74 1860.58 Z\" fill=\"#000000\" fill-rule=\"nonzero\" fill-opacity=\"1\" /><path clip-path=\"url(#clip430)\" d=\"M2521.51 2100.91 L2521.51 2107.24 L2525.26 2107.24 Q2527.15 2107.24 2528.05 2106.46 Q2528.97 2105.68 2528.97 2104.07 Q2528.97 2102.45 2528.05 2101.68 Q2527.15 2100.91 2525.26 2100.91 L2521.51 2100.91 M2521.51 2093.8 L2521.51 2099.01 L2524.98 2099.01 Q2526.69 2099.01 2527.52 2098.37 Q2528.37 2097.72 2528.37 2096.41 Q2528.37 2095.1 2527.52 2094.45 Q2526.69 2093.8 2524.98 2093.8 L2521.51 2093.8 M2519.18 2091.88 L2525.15 2091.88 Q2527.82 2091.88 2529.27 2092.99 Q2530.72 2094.1 2530.72 2096.15 Q2530.72 2097.74 2529.98 2098.67 Q2529.23 2099.61 2527.8 2099.84 Q2529.52 2100.21 2530.47 2101.39 Q2531.43 2102.56 2531.43 2104.32 Q2531.43 2106.64 2529.86 2107.9 Q2528.29 2109.16 2525.38 2109.16 L2519.18 2109.16 L2519.18 2091.88 Z\" fill=\"#000000\" fill-rule=\"nonzero\" fill-opacity=\"1\" /><path clip-path=\"url(#clip430)\" d=\"M2540.37 2097.69 Q2538.66 2097.69 2537.66 2099.03 Q2536.67 2100.36 2536.67 2102.69 Q2536.67 2105.02 2537.65 2106.36 Q2538.64 2107.69 2540.37 2107.69 Q2542.07 2107.69 2543.07 2106.35 Q2544.06 2105 2544.06 2102.69 Q2544.06 2100.39 2543.07 2099.04 Q2542.07 2097.69 2540.37 2097.69 M2540.37 2095.88 Q2543.15 2095.88 2544.73 2097.69 Q2546.32 2099.5 2546.32 2102.69 Q2546.32 2105.87 2544.73 2107.69 Q2543.15 2109.5 2540.37 2109.5 Q2537.58 2109.5 2535.99 2107.69 Q2534.42 2105.87 2534.42 2102.69 Q2534.42 2099.5 2535.99 2097.69 Q2537.58 2095.88 2540.37 2095.88 Z\" fill=\"#000000\" fill-rule=\"nonzero\" fill-opacity=\"1\" /><path clip-path=\"url(#clip430)\" d=\"M2554.87 2097.69 Q2553.16 2097.69 2552.16 2099.03 Q2551.17 2100.36 2551.17 2102.69 Q2551.17 2105.02 2552.15 2106.36 Q2553.15 2107.69 2554.87 2107.69 Q2556.57 2107.69 2557.57 2106.35 Q2558.56 2105 2558.56 2102.69 Q2558.56 2100.39 2557.57 2099.04 Q2556.57 2097.69 2554.87 2097.69 M2554.87 2095.88 Q2557.65 2095.88 2559.23 2097.69 Q2560.82 2099.5 2560.82 2102.69 Q2560.82 2105.87 2559.23 2107.69 Q2557.65 2109.5 2554.87 2109.5 Q2552.08 2109.5 2550.5 2107.69 Q2548.92 2105.87 2548.92 2102.69 Q2548.92 2099.5 2550.5 2097.69 Q2552.08 2095.88 2554.87 2095.88 Z\" fill=\"#000000\" fill-rule=\"nonzero\" fill-opacity=\"1\" /><path clip-path=\"url(#clip430)\" d=\"M2564.35 2091.15 L2566.48 2091.15 L2566.48 2109.16 L2564.35 2109.16 L2564.35 2091.15 Z\" fill=\"#000000\" fill-rule=\"nonzero\" fill-opacity=\"1\" /><path clip-path=\"url(#clip430)\" d=\"M2058.58 2115.97 Q2056.03 2115.97 2054.53 2117.87 Q2053.03 2119.77 2053.03 2123.04 Q2053.03 2126.31 2054.53 2128.21 Q2056.03 2130.1 2058.58 2130.1 Q2061.12 2130.1 2062.6 2128.21 Q2064.1 2126.31 2064.1 2123.04 Q2064.1 2119.77 2062.6 2117.87 Q2061.12 2115.97 2058.58 2115.97 M2058.58 2114.07 Q2062.21 2114.07 2064.39 2116.52 Q2066.56 2118.95 2066.56 2123.04 Q2066.56 2127.13 2064.39 2129.57 Q2062.21 2132 2058.58 2132 Q2054.93 2132 2052.74 2129.57 Q2050.57 2127.14 2050.57 2123.04 Q2050.57 2118.95 2052.74 2116.52 Q2054.93 2114.07 2058.58 2114.07 Z\" fill=\"#000000\" fill-rule=\"nonzero\" fill-opacity=\"1\" /><path clip-path=\"url(#clip430)\" d=\"M2076.69 2113.66 L2076.69 2115.43 L2074.65 2115.43 Q2073.51 2115.43 2073.06 2115.89 Q2072.62 2116.35 2072.62 2117.56 L2072.62 2118.7 L2076.12 2118.7 L2076.12 2120.36 L2072.62 2120.36 L2072.62 2131.67 L2070.47 2131.67 L2070.47 2120.36 L2068.44 2120.36 L2068.44 2118.7 L2070.47 2118.7 L2070.47 2117.8 Q2070.47 2115.64 2071.48 2114.65 Q2072.49 2113.66 2074.68 2113.66 L2076.69 2113.66 Z\" fill=\"#000000\" fill-rule=\"nonzero\" fill-opacity=\"1\" /><path clip-path=\"url(#clip430)\" d=\"M2085.03 2113.66 L2085.03 2115.43 L2083 2115.43 Q2081.85 2115.43 2081.4 2115.89 Q2080.96 2116.35 2080.96 2117.56 L2080.96 2118.7 L2084.47 2118.7 L2084.47 2120.36 L2080.96 2120.36 L2080.96 2131.67 L2078.82 2131.67 L2078.82 2120.36 L2076.78 2120.36 L2076.78 2118.7 L2078.82 2118.7 L2078.82 2117.8 Q2078.82 2115.64 2079.83 2114.65 Q2080.83 2113.66 2083.02 2113.66 L2085.03 2113.66 Z\" fill=\"#000000\" fill-rule=\"nonzero\" fill-opacity=\"1\" /><path clip-path=\"url(#clip430)\" d=\"M2095.08 2119.09 L2095.08 2121.1 Q2094.18 2120.64 2093.21 2120.41 Q2092.23 2120.17 2091.19 2120.17 Q2089.61 2120.17 2088.81 2120.66 Q2088.02 2121.15 2088.02 2122.12 Q2088.02 2122.86 2088.59 2123.29 Q2089.15 2123.7 2090.87 2124.09 L2091.6 2124.25 Q2093.87 2124.73 2094.81 2125.63 Q2095.77 2126.51 2095.77 2128.09 Q2095.77 2129.9 2094.34 2130.95 Q2092.92 2132 2090.42 2132 Q2089.37 2132 2088.24 2131.79 Q2087.12 2131.6 2085.87 2131.19 L2085.87 2128.99 Q2087.05 2129.61 2088.19 2129.92 Q2089.34 2130.22 2090.46 2130.22 Q2091.97 2130.22 2092.78 2129.71 Q2093.59 2129.19 2093.59 2128.25 Q2093.59 2127.38 2093 2126.92 Q2092.42 2126.46 2090.44 2126.03 L2089.7 2125.86 Q2087.72 2125.44 2086.84 2124.58 Q2085.96 2123.72 2085.96 2122.21 Q2085.96 2120.38 2087.26 2119.39 Q2088.55 2118.39 2090.94 2118.39 Q2092.12 2118.39 2093.16 2118.57 Q2094.2 2118.74 2095.08 2119.09 Z\" fill=\"#000000\" fill-rule=\"nonzero\" fill-opacity=\"1\" /><path clip-path=\"url(#clip430)\" d=\"M2110.25 2124.65 L2110.25 2125.7 L2100.46 2125.7 Q2100.6 2127.89 2101.78 2129.05 Q2102.97 2130.2 2105.09 2130.2 Q2106.32 2130.2 2107.46 2129.9 Q2108.62 2129.6 2109.76 2128.99 L2109.76 2131.01 Q2108.61 2131.49 2107.41 2131.75 Q2106.2 2132 2104.96 2132 Q2101.86 2132 2100.05 2130.2 Q2098.24 2128.39 2098.24 2125.31 Q2098.24 2122.13 2099.95 2120.27 Q2101.68 2118.39 2104.59 2118.39 Q2107.21 2118.39 2108.73 2120.08 Q2110.25 2121.76 2110.25 2124.65 M2108.12 2124.03 Q2108.1 2122.28 2107.14 2121.24 Q2106.19 2120.2 2104.62 2120.2 Q2102.84 2120.2 2101.76 2121.2 Q2100.69 2122.21 2100.53 2124.04 L2108.12 2124.03 Z\" fill=\"#000000\" fill-rule=\"nonzero\" fill-opacity=\"1\" /><path clip-path=\"url(#clip430)\" d=\"M2115.86 2115.02 L2115.86 2118.7 L2120.24 2118.7 L2120.24 2120.36 L2115.86 2120.36 L2115.86 2127.4 Q2115.86 2128.98 2116.28 2129.43 Q2116.72 2129.88 2118.05 2129.88 L2120.24 2129.88 L2120.24 2131.67 L2118.05 2131.67 Q2115.59 2131.67 2114.65 2130.75 Q2113.71 2129.83 2113.71 2127.4 L2113.71 2120.36 L2112.15 2120.36 L2112.15 2118.7 L2113.71 2118.7 L2113.71 2115.02 L2115.86 2115.02 Z\" fill=\"#000000\" fill-rule=\"nonzero\" fill-opacity=\"1\" /><path clip-path=\"url(#clip430)\" d=\"M2123.14 2114.39 L2125.47 2114.39 L2125.47 2131.67 L2123.14 2131.67 L2123.14 2114.39 Z\" fill=\"#000000\" fill-rule=\"nonzero\" fill-opacity=\"1\" /><path clip-path=\"url(#clip430)\" d=\"M2140.81 2123.84 L2140.81 2131.67 L2138.68 2131.67 L2138.68 2123.91 Q2138.68 2122.07 2137.96 2121.16 Q2137.24 2120.24 2135.81 2120.24 Q2134.08 2120.24 2133.09 2121.34 Q2132.09 2122.44 2132.09 2124.34 L2132.09 2131.67 L2129.95 2131.67 L2129.95 2118.7 L2132.09 2118.7 L2132.09 2120.72 Q2132.86 2119.55 2133.89 2118.97 Q2134.93 2118.39 2136.28 2118.39 Q2138.52 2118.39 2139.66 2119.78 Q2140.81 2121.16 2140.81 2123.84 Z\" fill=\"#000000\" fill-rule=\"nonzero\" fill-opacity=\"1\" /><path clip-path=\"url(#clip430)\" d=\"M2147.16 2115.02 L2147.16 2118.7 L2151.55 2118.7 L2151.55 2120.36 L2147.16 2120.36 L2147.16 2127.4 Q2147.16 2128.98 2147.59 2129.43 Q2148.03 2129.88 2149.36 2129.88 L2151.55 2129.88 L2151.55 2131.67 L2149.36 2131.67 Q2146.9 2131.67 2145.96 2130.75 Q2145.02 2129.83 2145.02 2127.4 L2145.02 2120.36 L2143.46 2120.36 L2143.46 2118.7 L2145.02 2118.7 L2145.02 2115.02 L2147.16 2115.02 Z\" fill=\"#000000\" fill-rule=\"nonzero\" fill-opacity=\"1\" /><path clip-path=\"url(#clip430)\" d=\"M2165.44 2124.65 L2165.44 2125.7 L2155.65 2125.7 Q2155.79 2127.89 2156.97 2129.05 Q2158.16 2130.2 2160.28 2130.2 Q2161.5 2130.2 2162.65 2129.9 Q2163.81 2129.6 2164.94 2128.99 L2164.94 2131.01 Q2163.8 2131.49 2162.59 2131.75 Q2161.39 2132 2160.15 2132 Q2157.05 2132 2155.23 2130.2 Q2153.43 2128.39 2153.43 2125.31 Q2153.43 2122.13 2155.14 2120.27 Q2156.86 2118.39 2159.78 2118.39 Q2162.39 2118.39 2163.91 2120.08 Q2165.44 2121.76 2165.44 2124.65 M2163.31 2124.03 Q2163.29 2122.28 2162.33 2121.24 Q2161.38 2120.2 2159.8 2120.2 Q2158.02 2120.2 2156.94 2121.2 Q2155.88 2122.21 2155.72 2124.04 L2163.31 2124.03 Z\" fill=\"#000000\" fill-rule=\"nonzero\" fill-opacity=\"1\" /><path clip-path=\"url(#clip430)\" d=\"M2177.46 2125.04 Q2177.46 2122.72 2176.5 2121.45 Q2175.55 2120.17 2173.83 2120.17 Q2172.12 2120.17 2171.16 2121.45 Q2170.21 2122.72 2170.21 2125.04 Q2170.21 2127.34 2171.16 2128.61 Q2172.12 2129.88 2173.83 2129.88 Q2175.55 2129.88 2176.5 2128.61 Q2177.46 2127.34 2177.46 2125.04 M2179.59 2130.06 Q2179.59 2133.37 2178.12 2134.98 Q2176.65 2136.6 2173.62 2136.6 Q2172.5 2136.6 2171.5 2136.42 Q2170.51 2136.26 2169.57 2135.91 L2169.57 2133.84 Q2170.51 2134.35 2171.42 2134.6 Q2172.34 2134.84 2173.29 2134.84 Q2175.38 2134.84 2176.42 2133.74 Q2177.46 2132.65 2177.46 2130.44 L2177.46 2129.39 Q2176.8 2130.53 2175.77 2131.1 Q2174.74 2131.67 2173.31 2131.67 Q2170.93 2131.67 2169.47 2129.85 Q2168.01 2128.03 2168.01 2125.04 Q2168.01 2122.03 2169.47 2120.21 Q2170.93 2118.39 2173.31 2118.39 Q2174.74 2118.39 2175.77 2118.96 Q2176.8 2119.53 2177.46 2120.67 L2177.46 2118.7 L2179.59 2118.7 L2179.59 2130.06 Z\" fill=\"#000000\" fill-rule=\"nonzero\" fill-opacity=\"1\" /><path clip-path=\"url(#clip430)\" d=\"M2195.07 2124.65 L2195.07 2125.7 L2185.28 2125.7 Q2185.42 2127.89 2186.6 2129.05 Q2187.79 2130.2 2189.91 2130.2 Q2191.13 2130.2 2192.28 2129.9 Q2193.44 2129.6 2194.57 2128.99 L2194.57 2131.01 Q2193.42 2131.49 2192.22 2131.75 Q2191.02 2132 2189.78 2132 Q2186.68 2132 2184.86 2130.2 Q2183.05 2128.39 2183.05 2125.31 Q2183.05 2122.13 2184.77 2120.27 Q2186.49 2118.39 2189.41 2118.39 Q2192.02 2118.39 2193.54 2120.08 Q2195.07 2121.76 2195.07 2124.65 M2192.94 2124.03 Q2192.92 2122.28 2191.96 2121.24 Q2191.01 2120.2 2189.43 2120.2 Q2187.65 2120.2 2186.57 2121.2 Q2185.51 2122.21 2185.35 2124.04 L2192.94 2124.03 Z\" fill=\"#000000\" fill-rule=\"nonzero\" fill-opacity=\"1\" /><path clip-path=\"url(#clip430)\" d=\"M2206.08 2120.7 Q2205.72 2120.49 2205.29 2120.39 Q2204.87 2120.29 2204.36 2120.29 Q2202.56 2120.29 2201.58 2121.47 Q2200.62 2122.64 2200.62 2124.84 L2200.62 2131.67 L2198.48 2131.67 L2198.48 2118.7 L2200.62 2118.7 L2200.62 2120.72 Q2201.3 2119.54 2202.37 2118.97 Q2203.45 2118.39 2204.99 2118.39 Q2205.21 2118.39 2205.47 2118.43 Q2205.74 2118.45 2206.06 2118.51 L2206.08 2120.7 Z\" fill=\"#000000\" fill-rule=\"nonzero\" fill-opacity=\"1\" /><path clip-path=\"url(#clip430)\" d=\"M2515.61 2225.76 Q2513.06 2225.76 2511.55 2227.66 Q2510.06 2229.56 2510.06 2232.83 Q2510.06 2236.1 2511.55 2237.99 Q2513.06 2239.89 2515.61 2239.89 Q2518.15 2239.89 2519.63 2237.99 Q2521.13 2236.1 2521.13 2232.83 Q2521.13 2229.56 2519.63 2227.66 Q2518.15 2225.76 2515.61 2225.76 M2515.61 2223.86 Q2519.24 2223.86 2521.42 2226.3 Q2523.59 2228.73 2523.59 2232.83 Q2523.59 2236.92 2521.42 2239.36 Q2519.24 2241.79 2515.61 2241.79 Q2511.96 2241.79 2509.77 2239.36 Q2507.6 2236.93 2507.6 2232.83 Q2507.6 2228.73 2509.77 2226.3 Q2511.96 2223.86 2515.61 2223.86 Z\" fill=\"#000000\" fill-rule=\"nonzero\" fill-opacity=\"1\" /><path clip-path=\"url(#clip430)\" d=\"M2533.72 2223.44 L2533.72 2225.22 L2531.68 2225.22 Q2530.54 2225.22 2530.08 2225.68 Q2529.64 2226.14 2529.64 2227.35 L2529.64 2228.49 L2533.15 2228.49 L2533.15 2230.15 L2529.64 2230.15 L2529.64 2241.45 L2527.5 2241.45 L2527.5 2230.15 L2525.47 2230.15 L2525.47 2228.49 L2527.5 2228.49 L2527.5 2227.59 Q2527.5 2225.42 2528.51 2224.44 Q2529.52 2223.44 2531.71 2223.44 L2533.72 2223.44 Z\" fill=\"#000000\" fill-rule=\"nonzero\" fill-opacity=\"1\" /><path clip-path=\"url(#clip430)\" d=\"M2542.06 2223.44 L2542.06 2225.22 L2540.03 2225.22 Q2538.88 2225.22 2538.43 2225.68 Q2537.99 2226.14 2537.99 2227.35 L2537.99 2228.49 L2541.5 2228.49 L2541.5 2230.15 L2537.99 2230.15 L2537.99 2241.45 L2535.85 2241.45 L2535.85 2230.15 L2533.81 2230.15 L2533.81 2228.49 L2535.85 2228.49 L2535.85 2227.59 Q2535.85 2225.42 2536.86 2224.44 Q2537.86 2223.44 2540.05 2223.44 L2542.06 2223.44 Z\" fill=\"#000000\" fill-rule=\"nonzero\" fill-opacity=\"1\" /><path clip-path=\"url(#clip430)\" d=\"M2552.11 2228.87 L2552.11 2230.89 Q2551.21 2230.42 2550.24 2230.19 Q2549.26 2229.96 2548.22 2229.96 Q2546.64 2229.96 2545.84 2230.45 Q2545.05 2230.93 2545.05 2231.91 Q2545.05 2232.65 2545.62 2233.07 Q2546.18 2233.49 2547.9 2233.87 L2548.63 2234.03 Q2550.89 2234.52 2551.84 2235.41 Q2552.8 2236.29 2552.8 2237.88 Q2552.8 2239.68 2551.37 2240.74 Q2549.95 2241.79 2547.45 2241.79 Q2546.4 2241.79 2545.27 2241.58 Q2544.15 2241.38 2542.9 2240.98 L2542.9 2238.78 Q2544.08 2239.39 2545.22 2239.71 Q2546.37 2240.01 2547.49 2240.01 Q2549 2240.01 2549.81 2239.5 Q2550.62 2238.98 2550.62 2238.04 Q2550.62 2237.17 2550.03 2236.71 Q2549.45 2236.25 2547.47 2235.82 L2546.73 2235.64 Q2544.75 2235.23 2543.87 2234.37 Q2542.99 2233.5 2542.99 2232 Q2542.99 2230.17 2544.29 2229.17 Q2545.58 2228.18 2547.97 2228.18 Q2549.15 2228.18 2550.19 2228.35 Q2551.23 2228.53 2552.11 2228.87 Z\" fill=\"#000000\" fill-rule=\"nonzero\" fill-opacity=\"1\" /><path clip-path=\"url(#clip430)\" d=\"M2567.28 2234.44 L2567.28 2235.48 L2557.49 2235.48 Q2557.63 2237.68 2558.81 2238.84 Q2560 2239.98 2562.12 2239.98 Q2563.35 2239.98 2564.49 2239.68 Q2565.65 2239.38 2566.79 2238.78 L2566.79 2240.79 Q2565.64 2241.28 2564.44 2241.53 Q2563.23 2241.79 2561.99 2241.79 Q2558.89 2241.79 2557.08 2239.98 Q2555.27 2238.18 2555.27 2235.1 Q2555.27 2231.92 2556.98 2230.05 Q2558.71 2228.18 2561.62 2228.18 Q2564.24 2228.18 2565.76 2229.87 Q2567.28 2231.55 2567.28 2234.44 M2565.15 2233.81 Q2565.13 2232.07 2564.17 2231.03 Q2563.22 2229.98 2561.65 2229.98 Q2559.86 2229.98 2558.79 2230.99 Q2557.72 2232 2557.56 2233.83 L2565.15 2233.81 Z\" fill=\"#000000\" fill-rule=\"nonzero\" fill-opacity=\"1\" /><path clip-path=\"url(#clip430)\" d=\"M2572.89 2224.81 L2572.89 2228.49 L2577.27 2228.49 L2577.27 2230.15 L2572.89 2230.15 L2572.89 2237.18 Q2572.89 2238.77 2573.31 2239.22 Q2573.75 2239.67 2575.08 2239.67 L2577.27 2239.67 L2577.27 2241.45 L2575.08 2241.45 Q2572.62 2241.45 2571.68 2240.54 Q2570.74 2239.61 2570.74 2237.18 L2570.74 2230.15 L2569.18 2230.15 L2569.18 2228.49 L2570.74 2228.49 L2570.74 2224.81 L2572.89 2224.81 Z\" fill=\"#000000\" fill-rule=\"nonzero\" fill-opacity=\"1\" /><path clip-path=\"url(#clip430)\" d=\"M2580.17 2224.17 L2582.5 2224.17 L2582.5 2241.45 L2580.17 2241.45 L2580.17 2224.17 Z\" fill=\"#000000\" fill-rule=\"nonzero\" fill-opacity=\"1\" /><path clip-path=\"url(#clip430)\" d=\"M2597.84 2233.63 L2597.84 2241.45 L2595.71 2241.45 L2595.71 2233.7 Q2595.71 2231.86 2594.99 2230.94 Q2594.27 2230.03 2592.84 2230.03 Q2591.11 2230.03 2590.12 2231.13 Q2589.12 2232.23 2589.12 2234.13 L2589.12 2241.45 L2586.98 2241.45 L2586.98 2228.49 L2589.12 2228.49 L2589.12 2230.5 Q2589.89 2229.34 2590.92 2228.76 Q2591.96 2228.18 2593.31 2228.18 Q2595.55 2228.18 2596.69 2229.57 Q2597.84 2230.94 2597.84 2233.63 Z\" fill=\"#000000\" fill-rule=\"nonzero\" fill-opacity=\"1\" /><path clip-path=\"url(#clip430)\" d=\"M2604.19 2224.81 L2604.19 2228.49 L2608.58 2228.49 L2608.58 2230.15 L2604.19 2230.15 L2604.19 2237.18 Q2604.19 2238.77 2604.62 2239.22 Q2605.06 2239.67 2606.39 2239.67 L2608.58 2239.67 L2608.58 2241.45 L2606.39 2241.45 Q2603.93 2241.45 2602.99 2240.54 Q2602.05 2239.61 2602.05 2237.18 L2602.05 2230.15 L2600.49 2230.15 L2600.49 2228.49 L2602.05 2228.49 L2602.05 2224.81 L2604.19 2224.81 Z\" fill=\"#000000\" fill-rule=\"nonzero\" fill-opacity=\"1\" /><path clip-path=\"url(#clip430)\" d=\"M2622.47 2234.44 L2622.47 2235.48 L2612.68 2235.48 Q2612.82 2237.68 2614 2238.84 Q2615.19 2239.98 2617.31 2239.98 Q2618.53 2239.98 2619.68 2239.68 Q2620.84 2239.38 2621.97 2238.78 L2621.97 2240.79 Q2620.83 2241.28 2619.62 2241.53 Q2618.42 2241.79 2617.18 2241.79 Q2614.08 2241.79 2612.26 2239.98 Q2610.45 2238.18 2610.45 2235.1 Q2610.45 2231.92 2612.17 2230.05 Q2613.89 2228.18 2616.81 2228.18 Q2619.42 2228.18 2620.94 2229.87 Q2622.47 2231.55 2622.47 2234.44 M2620.34 2233.81 Q2620.32 2232.07 2619.36 2231.03 Q2618.41 2229.98 2616.83 2229.98 Q2615.05 2229.98 2613.97 2230.99 Q2612.91 2232 2612.75 2233.83 L2620.34 2233.81 Z\" fill=\"#000000\" fill-rule=\"nonzero\" fill-opacity=\"1\" /><path clip-path=\"url(#clip430)\" d=\"M2634.49 2234.82 Q2634.49 2232.51 2633.53 2231.23 Q2632.58 2229.96 2630.86 2229.96 Q2629.15 2229.96 2628.19 2231.23 Q2627.24 2232.51 2627.24 2234.82 Q2627.24 2237.13 2628.19 2238.4 Q2629.15 2239.67 2630.86 2239.67 Q2632.58 2239.67 2633.53 2238.4 Q2634.49 2237.13 2634.49 2234.82 M2636.62 2239.85 Q2636.62 2243.16 2635.15 2244.76 Q2633.68 2246.38 2630.65 2246.38 Q2629.53 2246.38 2628.53 2246.21 Q2627.54 2246.05 2626.6 2245.7 L2626.6 2243.63 Q2627.54 2244.14 2628.45 2244.38 Q2629.37 2244.63 2630.32 2244.63 Q2632.41 2244.63 2633.45 2243.53 Q2634.49 2242.44 2634.49 2240.23 L2634.49 2239.17 Q2633.83 2240.32 2632.8 2240.89 Q2631.77 2241.45 2630.34 2241.45 Q2627.95 2241.45 2626.5 2239.64 Q2625.04 2237.82 2625.04 2234.82 Q2625.04 2231.81 2626.5 2230 Q2627.95 2228.18 2630.34 2228.18 Q2631.77 2228.18 2632.8 2228.75 Q2633.83 2229.31 2634.49 2230.46 L2634.49 2228.49 L2636.62 2228.49 L2636.62 2239.85 Z\" fill=\"#000000\" fill-rule=\"nonzero\" fill-opacity=\"1\" /><path clip-path=\"url(#clip430)\" d=\"M2652.1 2234.44 L2652.1 2235.48 L2642.31 2235.48 Q2642.45 2237.68 2643.63 2238.84 Q2644.82 2239.98 2646.94 2239.98 Q2648.16 2239.98 2649.31 2239.68 Q2650.47 2239.38 2651.6 2238.78 L2651.6 2240.79 Q2650.45 2241.28 2649.25 2241.53 Q2648.05 2241.79 2646.81 2241.79 Q2643.71 2241.79 2641.89 2239.98 Q2640.08 2238.18 2640.08 2235.1 Q2640.08 2231.92 2641.8 2230.05 Q2643.52 2228.18 2646.44 2228.18 Q2649.05 2228.18 2650.57 2229.87 Q2652.1 2231.55 2652.1 2234.44 M2649.97 2233.81 Q2649.95 2232.07 2648.98 2231.03 Q2648.04 2229.98 2646.46 2229.98 Q2644.68 2229.98 2643.6 2230.99 Q2642.54 2232 2642.38 2233.83 L2649.97 2233.81 Z\" fill=\"#000000\" fill-rule=\"nonzero\" fill-opacity=\"1\" /><path clip-path=\"url(#clip430)\" d=\"M2663.1 2230.48 Q2662.75 2230.27 2662.32 2230.18 Q2661.9 2230.08 2661.39 2230.08 Q2659.59 2230.08 2658.61 2231.26 Q2657.65 2232.43 2657.65 2234.63 L2657.65 2241.45 L2655.51 2241.45 L2655.51 2228.49 L2657.65 2228.49 L2657.65 2230.5 Q2658.32 2229.32 2659.4 2228.76 Q2660.48 2228.18 2662.02 2228.18 Q2662.24 2228.18 2662.5 2228.21 Q2662.77 2228.24 2663.09 2228.29 L2663.1 2230.48 Z\" fill=\"#000000\" fill-rule=\"nonzero\" fill-opacity=\"1\" /><path clip-path=\"url(#clip430)\" d=\"M1728.88 2090.16 L1728.88 2092.44 Q1727.55 2091.81 1726.37 2091.49 Q1725.19 2091.18 1724.09 2091.18 Q1722.18 2091.18 1721.14 2091.92 Q1720.11 2092.66 1720.11 2094.03 Q1720.11 2095.17 1720.79 2095.76 Q1721.48 2096.34 1723.4 2096.7 L1724.82 2096.99 Q1727.43 2097.49 1728.67 2098.75 Q1729.92 2100 1729.92 2102.11 Q1729.92 2104.62 1728.23 2105.91 Q1726.55 2107.21 1723.3 2107.21 Q1722.07 2107.21 1720.68 2106.93 Q1719.31 2106.66 1717.83 2106.11 L1717.83 2103.7 Q1719.25 2104.5 1720.61 2104.91 Q1721.98 2105.31 1723.3 2105.31 Q1725.3 2105.31 1726.39 2104.53 Q1727.48 2103.74 1727.48 2102.28 Q1727.48 2101.01 1726.69 2100.29 Q1725.92 2099.57 1724.13 2099.21 L1722.71 2098.94 Q1720.09 2098.41 1718.93 2097.3 Q1717.76 2096.19 1717.76 2094.21 Q1717.76 2091.92 1719.36 2090.6 Q1720.99 2089.28 1723.82 2089.28 Q1725.04 2089.28 1726.3 2089.5 Q1727.56 2089.72 1728.88 2090.16 Z\" fill=\"#000000\" fill-rule=\"nonzero\" fill-opacity=\"1\" /><path clip-path=\"url(#clip430)\" d=\"M1733.47 2093.91 L1735.6 2093.91 L1735.6 2106.88 L1733.47 2106.88 L1733.47 2093.91 M1733.47 2088.87 L1735.6 2088.87 L1735.6 2091.56 L1733.47 2091.56 L1733.47 2088.87 Z\" fill=\"#000000\" fill-rule=\"nonzero\" fill-opacity=\"1\" /><path clip-path=\"url(#clip430)\" d=\"M1748.59 2100.24 Q1748.59 2097.93 1747.63 2096.66 Q1746.68 2095.38 1744.95 2095.38 Q1743.24 2095.38 1742.28 2096.66 Q1741.33 2097.93 1741.33 2100.24 Q1741.33 2102.55 1742.28 2103.82 Q1743.24 2105.09 1744.95 2105.09 Q1746.68 2105.09 1747.63 2103.82 Q1748.59 2102.55 1748.59 2100.24 M1750.72 2105.27 Q1750.72 2108.58 1749.25 2110.19 Q1747.78 2111.81 1744.75 2111.81 Q1743.62 2111.81 1742.63 2111.63 Q1741.63 2111.47 1740.7 2111.12 L1740.7 2109.05 Q1741.63 2109.56 1742.55 2109.8 Q1743.46 2110.05 1744.41 2110.05 Q1746.51 2110.05 1747.55 2108.95 Q1748.59 2107.86 1748.59 2105.65 L1748.59 2104.59 Q1747.93 2105.74 1746.9 2106.31 Q1745.87 2106.88 1744.43 2106.88 Q1742.05 2106.88 1740.59 2105.06 Q1739.13 2103.24 1739.13 2100.24 Q1739.13 2097.23 1740.59 2095.42 Q1742.05 2093.6 1744.43 2093.6 Q1745.87 2093.6 1746.9 2094.17 Q1747.93 2094.73 1748.59 2095.88 L1748.59 2093.91 L1750.72 2093.91 L1750.72 2105.27 Z\" fill=\"#000000\" fill-rule=\"nonzero\" fill-opacity=\"1\" /><path clip-path=\"url(#clip430)\" d=\"M1765.88 2099.05 L1765.88 2106.88 L1763.75 2106.88 L1763.75 2099.12 Q1763.75 2097.28 1763.03 2096.37 Q1762.32 2095.45 1760.88 2095.45 Q1759.16 2095.45 1758.16 2096.55 Q1757.17 2097.65 1757.17 2099.55 L1757.17 2106.88 L1755.02 2106.88 L1755.02 2093.91 L1757.17 2093.91 L1757.17 2095.93 Q1757.93 2094.76 1758.96 2094.18 Q1760 2093.6 1761.36 2093.6 Q1763.59 2093.6 1764.73 2094.99 Q1765.88 2096.37 1765.88 2099.05 Z\" fill=\"#000000\" fill-rule=\"nonzero\" fill-opacity=\"1\" /><path clip-path=\"url(#clip430)\" d=\"M1781.22 2099.86 L1781.22 2100.9 L1771.42 2100.9 Q1771.56 2103.1 1772.74 2104.26 Q1773.94 2105.41 1776.05 2105.41 Q1777.28 2105.41 1778.43 2105.1 Q1779.58 2104.8 1780.72 2104.2 L1780.72 2106.22 Q1779.57 2106.7 1778.37 2106.96 Q1777.17 2107.21 1775.93 2107.21 Q1772.83 2107.21 1771.01 2105.41 Q1769.2 2103.6 1769.2 2100.52 Q1769.2 2097.34 1770.92 2095.47 Q1772.64 2093.6 1775.56 2093.6 Q1778.17 2093.6 1779.69 2095.29 Q1781.22 2096.97 1781.22 2099.86 M1779.09 2099.24 Q1779.06 2097.49 1778.1 2096.45 Q1777.15 2095.41 1775.58 2095.41 Q1773.8 2095.41 1772.72 2096.41 Q1771.66 2097.42 1771.49 2099.25 L1779.09 2099.24 Z\" fill=\"#000000\" fill-rule=\"nonzero\" fill-opacity=\"1\" /><path clip-path=\"url(#clip430)\" d=\"M1793.24 2095.88 L1793.24 2088.87 L1795.37 2088.87 L1795.37 2106.88 L1793.24 2106.88 L1793.24 2104.93 Q1792.57 2106.09 1791.54 2106.66 Q1790.52 2107.21 1789.09 2107.21 Q1786.74 2107.21 1785.26 2105.34 Q1783.79 2103.46 1783.79 2100.41 Q1783.79 2097.35 1785.26 2095.47 Q1786.74 2093.6 1789.09 2093.6 Q1790.52 2093.6 1791.54 2094.17 Q1792.57 2094.72 1793.24 2095.88 M1785.98 2100.41 Q1785.98 2102.75 1786.95 2104.1 Q1787.92 2105.43 1789.61 2105.43 Q1791.3 2105.43 1792.27 2104.1 Q1793.24 2102.75 1793.24 2100.41 Q1793.24 2098.06 1792.27 2096.72 Q1791.3 2095.38 1789.61 2095.38 Q1787.92 2095.38 1786.95 2096.72 Q1785.98 2098.06 1785.98 2100.41 Z\" fill=\"#000000\" fill-rule=\"nonzero\" fill-opacity=\"1\" /><path clip-path=\"url(#clip430)\" d=\"M1260.07 2709.5 L1260.07 2715.83 L1263.82 2715.83 Q1265.71 2715.83 1266.61 2715.05 Q1267.53 2714.27 1267.53 2712.66 Q1267.53 2711.04 1266.61 2710.27 Q1265.71 2709.5 1263.82 2709.5 L1260.07 2709.5 M1260.07 2702.39 L1260.07 2707.6 L1263.53 2707.6 Q1265.25 2707.6 1266.08 2706.96 Q1266.92 2706.32 1266.92 2705 Q1266.92 2703.69 1266.08 2703.04 Q1265.25 2702.39 1263.53 2702.39 L1260.07 2702.39 M1257.73 2700.47 L1263.71 2700.47 Q1266.38 2700.47 1267.83 2701.58 Q1269.27 2702.69 1269.27 2704.74 Q1269.27 2706.33 1268.53 2707.27 Q1267.79 2708.2 1266.36 2708.43 Q1268.08 2708.8 1269.03 2709.99 Q1269.99 2711.15 1269.99 2712.91 Q1269.99 2715.23 1268.42 2716.49 Q1266.84 2717.75 1263.94 2717.75 L1257.73 2717.75 L1257.73 2700.47 Z\" fill=\"#000000\" fill-rule=\"nonzero\" fill-opacity=\"1\" /><path clip-path=\"url(#clip430)\" d=\"M1273.9 2704.79 L1276.03 2704.79 L1276.03 2717.75 L1273.9 2717.75 L1273.9 2704.79 M1273.9 2699.74 L1276.03 2699.74 L1276.03 2702.44 L1273.9 2702.44 L1273.9 2699.74 Z\" fill=\"#000000\" fill-rule=\"nonzero\" fill-opacity=\"1\" /><path clip-path=\"url(#clip430)\" d=\"M1289.02 2711.12 Q1289.02 2708.8 1288.06 2707.53 Q1287.11 2706.26 1285.39 2706.26 Q1283.67 2706.26 1282.71 2707.53 Q1281.76 2708.8 1281.76 2711.12 Q1281.76 2713.42 1282.71 2714.7 Q1283.67 2715.97 1285.39 2715.97 Q1287.11 2715.97 1288.06 2714.7 Q1289.02 2713.42 1289.02 2711.12 M1291.15 2716.14 Q1291.15 2719.45 1289.68 2721.06 Q1288.21 2722.68 1285.18 2722.68 Q1284.05 2722.68 1283.06 2722.51 Q1282.06 2722.35 1281.13 2722 L1281.13 2719.93 Q1282.06 2720.44 1282.98 2720.68 Q1283.89 2720.92 1284.84 2720.92 Q1286.94 2720.92 1287.98 2719.82 Q1289.02 2718.74 1289.02 2716.52 L1289.02 2715.47 Q1288.36 2716.62 1287.33 2717.18 Q1286.3 2717.75 1284.86 2717.75 Q1282.48 2717.75 1281.02 2715.93 Q1279.56 2714.12 1279.56 2711.12 Q1279.56 2708.11 1281.02 2706.29 Q1282.48 2704.48 1284.86 2704.48 Q1286.3 2704.48 1287.33 2705.04 Q1288.36 2705.61 1289.02 2706.76 L1289.02 2704.79 L1291.15 2704.79 L1291.15 2716.14 Z\" fill=\"#000000\" fill-rule=\"nonzero\" fill-opacity=\"1\" /><path clip-path=\"url(#clip430)\" d=\"M1295.63 2700.47 L1297.97 2700.47 L1297.97 2717.75 L1295.63 2717.75 L1295.63 2700.47 Z\" fill=\"#000000\" fill-rule=\"nonzero\" fill-opacity=\"1\" /><path clip-path=\"url(#clip430)\" d=\"M1313.3 2709.93 L1313.3 2717.75 L1311.17 2717.75 L1311.17 2710 Q1311.17 2708.16 1310.45 2707.24 Q1309.74 2706.33 1308.3 2706.33 Q1306.58 2706.33 1305.58 2707.43 Q1304.59 2708.53 1304.59 2710.43 L1304.59 2717.75 L1302.45 2717.75 L1302.45 2704.79 L1304.59 2704.79 L1304.59 2706.8 Q1305.35 2705.63 1306.38 2705.05 Q1307.42 2704.48 1308.78 2704.48 Q1311.01 2704.48 1312.16 2705.86 Q1313.3 2707.24 1313.3 2709.93 Z\" fill=\"#000000\" fill-rule=\"nonzero\" fill-opacity=\"1\" /><path clip-path=\"url(#clip430)\" d=\"M1319.66 2701.11 L1319.66 2704.79 L1324.04 2704.79 L1324.04 2706.44 L1319.66 2706.44 L1319.66 2713.48 Q1319.66 2715.07 1320.08 2715.52 Q1320.52 2715.97 1321.85 2715.97 L1324.04 2715.97 L1324.04 2717.75 L1321.85 2717.75 Q1319.39 2717.75 1318.45 2716.84 Q1317.51 2715.91 1317.51 2713.48 L1317.51 2706.44 L1315.95 2706.44 L1315.95 2704.79 L1317.51 2704.79 L1317.51 2701.11 L1319.66 2701.11 Z\" fill=\"#000000\" fill-rule=\"nonzero\" fill-opacity=\"1\" /><path clip-path=\"url(#clip430)\" d=\"M1324 2610.51 L1326.34 2610.51 L1326.34 2627.79 L1324 2627.79 L1324 2610.51 Z\" fill=\"#000000\" fill-rule=\"nonzero\" fill-opacity=\"1\" /><path clip-path=\"url(#clip430)\" d=\"M1341.68 2619.97 L1341.68 2627.79 L1339.55 2627.79 L1339.55 2620.04 Q1339.55 2618.2 1338.83 2617.28 Q1338.11 2616.37 1336.68 2616.37 Q1334.95 2616.37 1333.96 2617.47 Q1332.96 2618.57 1332.96 2620.47 L1332.96 2627.79 L1330.82 2627.79 L1330.82 2614.83 L1332.96 2614.83 L1332.96 2616.84 Q1333.72 2615.67 1334.75 2615.1 Q1335.8 2614.52 1337.15 2614.52 Q1339.38 2614.52 1340.53 2615.91 Q1341.68 2617.28 1341.68 2619.97 Z\" fill=\"#000000\" fill-rule=\"nonzero\" fill-opacity=\"1\" /><path clip-path=\"url(#clip430)\" d=\"M1348.03 2611.15 L1348.03 2614.83 L1352.42 2614.83 L1352.42 2616.48 L1348.03 2616.48 L1348.03 2623.52 Q1348.03 2625.11 1348.46 2625.56 Q1348.9 2626.01 1350.23 2626.01 L1352.42 2626.01 L1352.42 2627.79 L1350.23 2627.79 Q1347.76 2627.79 1346.83 2626.88 Q1345.89 2625.95 1345.89 2623.52 L1345.89 2616.48 L1344.33 2616.48 L1344.33 2614.83 L1345.89 2614.83 L1345.89 2611.15 L1348.03 2611.15 Z\" fill=\"#000000\" fill-rule=\"nonzero\" fill-opacity=\"1\" /><path clip-path=\"url(#clip430)\" d=\"M1355.92 2625.83 L1359.74 2625.83 L1359.74 2612.64 L1355.59 2613.48 L1355.59 2611.35 L1359.72 2610.51 L1362.06 2610.51 L1362.06 2625.83 L1365.88 2625.83 L1365.88 2627.79 L1355.92 2627.79 L1355.92 2625.83 Z\" fill=\"#000000\" fill-rule=\"nonzero\" fill-opacity=\"1\" /><path clip-path=\"url(#clip430)\" d=\"M1372.61 2625.83 L1380.77 2625.83 L1380.77 2627.79 L1369.8 2627.79 L1369.8 2625.83 Q1371.13 2624.45 1373.42 2622.13 Q1375.73 2619.81 1376.32 2619.14 Q1377.44 2617.87 1377.88 2617.01 Q1378.33 2616.13 1378.33 2615.28 Q1378.33 2613.9 1377.36 2613.04 Q1376.4 2612.17 1374.85 2612.17 Q1373.75 2612.17 1372.52 2612.55 Q1371.31 2612.93 1369.92 2613.71 L1369.92 2611.35 Q1371.33 2610.78 1372.56 2610.49 Q1373.78 2610.2 1374.8 2610.2 Q1377.49 2610.2 1379.08 2611.54 Q1380.68 2612.89 1380.68 2615.13 Q1380.68 2616.2 1380.28 2617.16 Q1379.88 2618.11 1378.83 2619.4 Q1378.54 2619.74 1376.99 2621.35 Q1375.44 2622.94 1372.61 2625.83 Z\" fill=\"#000000\" fill-rule=\"nonzero\" fill-opacity=\"1\" /><path clip-path=\"url(#clip430)\" d=\"M1390.68 2619.59 Q1389.01 2619.59 1388.05 2620.48 Q1387.1 2621.37 1387.1 2622.93 Q1387.1 2624.49 1388.05 2625.39 Q1389.01 2626.28 1390.68 2626.28 Q1392.35 2626.28 1393.31 2625.39 Q1394.27 2624.48 1394.27 2622.93 Q1394.27 2621.37 1393.31 2620.48 Q1392.36 2619.59 1390.68 2619.59 M1388.34 2618.59 Q1386.84 2618.22 1385.99 2617.19 Q1385.16 2616.16 1385.16 2614.68 Q1385.16 2612.61 1386.63 2611.4 Q1388.11 2610.2 1390.68 2610.2 Q1393.26 2610.2 1394.73 2611.4 Q1396.2 2612.61 1396.2 2614.68 Q1396.2 2616.16 1395.36 2617.19 Q1394.52 2618.22 1393.03 2618.59 Q1394.72 2618.98 1395.66 2620.13 Q1396.61 2621.28 1396.61 2622.93 Q1396.61 2625.44 1395.07 2626.79 Q1393.54 2628.13 1390.68 2628.13 Q1387.82 2628.13 1386.28 2626.79 Q1384.75 2625.44 1384.75 2622.93 Q1384.75 2621.28 1385.7 2620.13 Q1386.65 2618.98 1388.34 2618.59 M1387.49 2614.9 Q1387.49 2616.24 1388.32 2616.99 Q1389.16 2617.75 1390.68 2617.75 Q1392.18 2617.75 1393.03 2616.99 Q1393.89 2616.24 1393.89 2614.9 Q1393.89 2613.56 1393.03 2612.8 Q1392.18 2612.05 1390.68 2612.05 Q1389.16 2612.05 1388.32 2612.8 Q1387.49 2613.56 1387.49 2614.9 Z\" fill=\"#000000\" fill-rule=\"nonzero\" fill-opacity=\"1\" /><path clip-path=\"url(#clip430)\" d=\"M1542.87 2698.07 L1545.21 2698.07 L1545.21 2715.35 L1542.87 2715.35 L1542.87 2698.07 Z\" fill=\"#000000\" fill-rule=\"nonzero\" fill-opacity=\"1\" /><path clip-path=\"url(#clip430)\" d=\"M1560.54 2707.52 L1560.54 2715.35 L1558.41 2715.35 L1558.41 2707.59 Q1558.41 2705.75 1557.7 2704.84 Q1556.98 2703.92 1555.54 2703.92 Q1553.82 2703.92 1552.82 2705.02 Q1551.83 2706.12 1551.83 2708.02 L1551.83 2715.35 L1549.69 2715.35 L1549.69 2702.38 L1551.83 2702.38 L1551.83 2704.4 Q1552.59 2703.23 1553.62 2702.65 Q1554.66 2702.07 1556.02 2702.07 Q1558.25 2702.07 1559.4 2703.46 Q1560.54 2704.84 1560.54 2707.52 Z\" fill=\"#000000\" fill-rule=\"nonzero\" fill-opacity=\"1\" /><path clip-path=\"url(#clip430)\" d=\"M1566.9 2698.7 L1566.9 2702.38 L1571.28 2702.38 L1571.28 2704.04 L1566.9 2704.04 L1566.9 2711.08 Q1566.9 2712.66 1567.33 2713.11 Q1567.77 2713.57 1569.1 2713.57 L1571.28 2713.57 L1571.28 2715.35 L1569.1 2715.35 Q1566.63 2715.35 1565.69 2714.43 Q1564.76 2713.51 1564.76 2711.08 L1564.76 2704.04 L1563.19 2704.04 L1563.19 2702.38 L1564.76 2702.38 L1564.76 2698.7 L1566.9 2698.7 Z\" fill=\"#000000\" fill-rule=\"nonzero\" fill-opacity=\"1\" /><path clip-path=\"url(#clip430)\" d=\"M1574.79 2713.38 L1578.61 2713.38 L1578.61 2700.2 L1574.46 2701.03 L1574.46 2698.9 L1578.59 2698.07 L1580.93 2698.07 L1580.93 2713.38 L1584.74 2713.38 L1584.74 2715.35 L1574.79 2715.35 L1574.79 2713.38 Z\" fill=\"#000000\" fill-rule=\"nonzero\" fill-opacity=\"1\" /><path clip-path=\"url(#clip430)\" d=\"M1594.76 2705.78 Q1593.18 2705.78 1592.26 2706.85 Q1591.34 2707.93 1591.34 2709.8 Q1591.34 2711.67 1592.26 2712.76 Q1593.18 2713.83 1594.76 2713.83 Q1596.33 2713.83 1597.24 2712.76 Q1598.17 2711.67 1598.17 2709.8 Q1598.17 2707.93 1597.24 2706.85 Q1596.33 2705.78 1594.76 2705.78 M1599.4 2698.45 L1599.4 2700.58 Q1598.52 2700.16 1597.62 2699.94 Q1596.72 2699.72 1595.84 2699.72 Q1593.53 2699.72 1592.3 2701.29 Q1591.09 2702.85 1590.91 2706.01 Q1591.6 2705 1592.63 2704.47 Q1593.66 2703.92 1594.9 2703.92 Q1597.5 2703.92 1599 2705.51 Q1600.52 2707.08 1600.52 2709.8 Q1600.52 2712.47 1598.95 2714.07 Q1597.37 2715.68 1594.76 2715.68 Q1591.76 2715.68 1590.17 2713.39 Q1588.59 2711.09 1588.59 2706.73 Q1588.59 2702.63 1590.53 2700.2 Q1592.48 2697.76 1595.75 2697.76 Q1596.63 2697.76 1597.52 2697.93 Q1598.43 2698.1 1599.4 2698.45 Z\" fill=\"#000000\" fill-rule=\"nonzero\" fill-opacity=\"1\" /><path clip-path=\"url(#clip430)\" d=\"M1652.5 2606.42 L1654.83 2606.42 L1654.83 2623.7 L1652.5 2623.7 L1652.5 2606.42 Z\" fill=\"#000000\" fill-rule=\"nonzero\" fill-opacity=\"1\" /><path clip-path=\"url(#clip430)\" d=\"M1670.17 2615.88 L1670.17 2623.7 L1668.04 2623.7 L1668.04 2615.95 Q1668.04 2614.11 1667.32 2613.19 Q1666.6 2612.28 1665.17 2612.28 Q1663.44 2612.28 1662.45 2613.38 Q1661.45 2614.48 1661.45 2616.37 L1661.45 2623.7 L1659.31 2623.7 L1659.31 2610.74 L1661.45 2610.74 L1661.45 2612.75 Q1662.22 2611.58 1663.25 2611 Q1664.29 2610.43 1665.64 2610.43 Q1667.88 2610.43 1669.02 2611.81 Q1670.17 2613.19 1670.17 2615.88 Z\" fill=\"#000000\" fill-rule=\"nonzero\" fill-opacity=\"1\" /><path clip-path=\"url(#clip430)\" d=\"M1676.52 2607.06 L1676.52 2610.74 L1680.91 2610.74 L1680.91 2612.39 L1676.52 2612.39 L1676.52 2619.43 Q1676.52 2621.02 1676.95 2621.47 Q1677.39 2621.92 1678.72 2621.92 L1680.91 2621.92 L1680.91 2623.7 L1678.72 2623.7 Q1676.26 2623.7 1675.32 2622.79 Q1674.38 2621.86 1674.38 2619.43 L1674.38 2612.39 L1672.82 2612.39 L1672.82 2610.74 L1674.38 2610.74 L1674.38 2607.06 L1676.52 2607.06 Z\" fill=\"#000000\" fill-rule=\"nonzero\" fill-opacity=\"1\" /><path clip-path=\"url(#clip430)\" d=\"M1691.1 2614.38 Q1692.77 2614.74 1693.71 2615.88 Q1694.66 2617.01 1694.66 2618.68 Q1694.66 2621.24 1692.9 2622.64 Q1691.14 2624.04 1687.9 2624.04 Q1686.81 2624.04 1685.66 2623.82 Q1684.51 2623.61 1683.28 2623.18 L1683.28 2620.92 Q1684.25 2621.49 1685.41 2621.78 Q1686.57 2622.07 1687.83 2622.07 Q1690.03 2622.07 1691.18 2621.2 Q1692.33 2620.33 1692.33 2618.68 Q1692.33 2617.15 1691.26 2616.29 Q1690.19 2615.43 1688.28 2615.43 L1686.27 2615.43 L1686.27 2613.5 L1688.38 2613.5 Q1690.1 2613.5 1691.01 2612.82 Q1691.93 2612.13 1691.93 2610.83 Q1691.93 2609.5 1690.98 2608.79 Q1690.04 2608.08 1688.28 2608.08 Q1687.32 2608.08 1686.22 2608.28 Q1685.12 2608.49 1683.8 2608.93 L1683.8 2606.85 Q1685.13 2606.48 1686.29 2606.29 Q1687.46 2606.11 1688.49 2606.11 Q1691.15 2606.11 1692.7 2607.32 Q1694.25 2608.53 1694.25 2610.59 Q1694.25 2612.02 1693.43 2613.02 Q1692.61 2614 1691.1 2614.38 Z\" fill=\"#000000\" fill-rule=\"nonzero\" fill-opacity=\"1\" /><path clip-path=\"url(#clip430)\" d=\"M1701.11 2621.73 L1709.27 2621.73 L1709.27 2623.7 L1698.29 2623.7 L1698.29 2621.73 Q1699.63 2620.36 1701.92 2618.04 Q1704.22 2615.71 1704.81 2615.04 Q1705.93 2613.78 1706.37 2612.91 Q1706.82 2612.03 1706.82 2611.19 Q1706.82 2609.81 1705.85 2608.94 Q1704.89 2608.08 1703.34 2608.08 Q1702.24 2608.08 1701.01 2608.46 Q1699.8 2608.84 1698.41 2609.62 L1698.41 2607.25 Q1699.82 2606.69 1701.05 2606.4 Q1702.28 2606.11 1703.29 2606.11 Q1705.98 2606.11 1707.58 2607.45 Q1709.17 2608.79 1709.17 2611.04 Q1709.17 2612.1 1708.77 2613.06 Q1708.38 2614.01 1707.32 2615.31 Q1707.03 2615.65 1705.48 2617.25 Q1703.93 2618.85 1701.11 2621.73 Z\" fill=\"#000000\" fill-rule=\"nonzero\" fill-opacity=\"1\" /><path clip-path=\"url(#clip430)\" d=\"M2037.83 2572.69 L2040.17 2572.69 L2040.17 2589.97 L2037.83 2589.97 L2037.83 2572.69 Z\" fill=\"#000000\" fill-rule=\"nonzero\" fill-opacity=\"1\" /><path clip-path=\"url(#clip430)\" d=\"M2055.5 2582.14 L2055.5 2589.97 L2053.38 2589.97 L2053.38 2582.21 Q2053.38 2580.37 2052.66 2579.46 Q2051.94 2578.54 2050.5 2578.54 Q2048.78 2578.54 2047.78 2579.64 Q2046.79 2580.74 2046.79 2582.64 L2046.79 2589.97 L2044.65 2589.97 L2044.65 2577 L2046.79 2577 L2046.79 2579.02 Q2047.55 2577.85 2048.58 2577.27 Q2049.63 2576.69 2050.98 2576.69 Q2053.21 2576.69 2054.36 2578.08 Q2055.5 2579.46 2055.5 2582.14 Z\" fill=\"#000000\" fill-rule=\"nonzero\" fill-opacity=\"1\" /><path clip-path=\"url(#clip430)\" d=\"M2061.86 2573.32 L2061.86 2577 L2066.25 2577 L2066.25 2578.66 L2061.86 2578.66 L2061.86 2585.69 Q2061.86 2587.28 2062.29 2587.73 Q2062.73 2588.18 2064.06 2588.18 L2066.25 2588.18 L2066.25 2589.97 L2064.06 2589.97 Q2061.59 2589.97 2060.66 2589.05 Q2059.72 2588.13 2059.72 2585.69 L2059.72 2578.66 L2058.16 2578.66 L2058.16 2577 L2059.72 2577 L2059.72 2573.32 L2061.86 2573.32 Z\" fill=\"#000000\" fill-rule=\"nonzero\" fill-opacity=\"1\" /><path clip-path=\"url(#clip430)\" d=\"M2074.64 2580.39 Q2073.06 2580.39 2072.14 2581.47 Q2071.22 2582.55 2071.22 2584.42 Q2071.22 2586.29 2072.14 2587.37 Q2073.06 2588.45 2074.64 2588.45 Q2076.21 2588.45 2077.13 2587.37 Q2078.05 2586.29 2078.05 2584.42 Q2078.05 2582.55 2077.13 2581.47 Q2076.21 2580.39 2074.64 2580.39 M2079.28 2573.07 L2079.28 2575.2 Q2078.4 2574.78 2077.5 2574.56 Q2076.6 2574.34 2075.72 2574.34 Q2073.41 2574.34 2072.18 2575.9 Q2070.97 2577.47 2070.79 2580.63 Q2071.48 2579.62 2072.51 2579.09 Q2073.54 2578.54 2074.78 2578.54 Q2077.38 2578.54 2078.88 2580.13 Q2080.4 2581.7 2080.4 2584.42 Q2080.4 2587.08 2078.83 2588.69 Q2077.25 2590.3 2074.64 2590.3 Q2071.64 2590.3 2070.05 2588.01 Q2068.47 2585.71 2068.47 2581.34 Q2068.47 2577.25 2070.41 2574.82 Q2072.36 2572.37 2075.63 2572.37 Q2076.51 2572.37 2077.4 2572.55 Q2078.31 2572.72 2079.28 2573.07 Z\" fill=\"#000000\" fill-rule=\"nonzero\" fill-opacity=\"1\" /><path clip-path=\"url(#clip430)\" d=\"M2090.85 2574.72 L2084.95 2583.95 L2090.85 2583.95 L2090.85 2574.72 M2090.24 2572.69 L2093.18 2572.69 L2093.18 2583.95 L2095.64 2583.95 L2095.64 2585.89 L2093.18 2585.89 L2093.18 2589.97 L2090.85 2589.97 L2090.85 2585.89 L2083.05 2585.89 L2083.05 2583.63 L2090.24 2572.69 Z\" fill=\"#000000\" fill-rule=\"nonzero\" fill-opacity=\"1\" /><path clip-path=\"url(#clip430)\" d=\"M1878.47 2646.6 L1880.8 2646.6 L1880.8 2663.88 L1878.47 2663.88 L1878.47 2646.6 Z\" fill=\"#000000\" fill-rule=\"nonzero\" fill-opacity=\"1\" /><path clip-path=\"url(#clip430)\" d=\"M1896.14 2656.05 L1896.14 2663.88 L1894.01 2663.88 L1894.01 2656.12 Q1894.01 2654.28 1893.29 2653.37 Q1892.57 2652.45 1891.14 2652.45 Q1889.41 2652.45 1888.42 2653.55 Q1887.42 2654.65 1887.42 2656.55 L1887.42 2663.88 L1885.28 2663.88 L1885.28 2650.91 L1887.42 2650.91 L1887.42 2652.93 Q1888.19 2651.76 1889.22 2651.18 Q1890.26 2650.6 1891.61 2650.6 Q1893.85 2650.6 1894.99 2651.99 Q1896.14 2653.37 1896.14 2656.05 Z\" fill=\"#000000\" fill-rule=\"nonzero\" fill-opacity=\"1\" /><path clip-path=\"url(#clip430)\" d=\"M1902.49 2647.23 L1902.49 2650.91 L1906.88 2650.91 L1906.88 2652.57 L1902.49 2652.57 L1902.49 2659.61 Q1902.49 2661.19 1902.92 2661.64 Q1903.36 2662.1 1904.69 2662.1 L1906.88 2662.1 L1906.88 2663.88 L1904.69 2663.88 Q1902.23 2663.88 1901.29 2662.96 Q1900.35 2662.04 1900.35 2659.61 L1900.35 2652.57 L1898.79 2652.57 L1898.79 2650.91 L1900.35 2650.91 L1900.35 2647.23 L1902.49 2647.23 Z\" fill=\"#000000\" fill-rule=\"nonzero\" fill-opacity=\"1\" /><path clip-path=\"url(#clip430)\" d=\"M1914.98 2655.67 Q1913.32 2655.67 1912.35 2656.56 Q1911.41 2657.45 1911.41 2659.02 Q1911.41 2660.58 1912.35 2661.47 Q1913.32 2662.36 1914.98 2662.36 Q1916.65 2662.36 1917.61 2661.47 Q1918.57 2660.57 1918.57 2659.02 Q1918.57 2657.45 1917.61 2656.56 Q1916.66 2655.67 1914.98 2655.67 M1912.64 2654.68 Q1911.14 2654.31 1910.29 2653.28 Q1909.46 2652.25 1909.46 2650.76 Q1909.46 2648.69 1910.93 2647.49 Q1912.41 2646.29 1914.98 2646.29 Q1917.56 2646.29 1919.03 2647.49 Q1920.5 2648.69 1920.5 2650.76 Q1920.5 2652.25 1919.66 2653.28 Q1918.82 2654.31 1917.33 2654.68 Q1919.02 2655.07 1919.96 2656.22 Q1920.91 2657.36 1920.91 2659.02 Q1920.91 2661.53 1919.37 2662.87 Q1917.84 2664.21 1914.98 2664.21 Q1912.12 2664.21 1910.58 2662.87 Q1909.06 2661.53 1909.06 2659.02 Q1909.06 2657.36 1910.01 2656.22 Q1910.95 2655.07 1912.64 2654.68 M1911.79 2650.98 Q1911.79 2652.33 1912.62 2653.08 Q1913.47 2653.83 1914.98 2653.83 Q1916.49 2653.83 1917.33 2653.08 Q1918.19 2652.33 1918.19 2650.98 Q1918.19 2649.64 1917.33 2648.89 Q1916.49 2648.14 1914.98 2648.14 Q1913.47 2648.14 1912.62 2648.89 Q1911.79 2649.64 1911.79 2650.98 Z\" fill=\"#000000\" fill-rule=\"nonzero\" fill-opacity=\"1\" /><path clip-path=\"url(#clip430)\" d=\"M2966.85 2099.22 L2969.2 2099.22 L2969.2 2109.72 Q2969.2 2112.5 2970.2 2113.72 Q2971.21 2114.94 2973.47 2114.94 Q2975.71 2114.94 2976.72 2113.72 Q2977.73 2112.5 2977.73 2109.72 L2977.73 2099.22 L2980.07 2099.22 L2980.07 2110.01 Q2980.07 2113.39 2978.4 2115.11 Q2976.73 2116.84 2973.47 2116.84 Q2970.19 2116.84 2968.51 2115.11 Q2966.85 2113.39 2966.85 2110.01 L2966.85 2099.22 Z\" fill=\"#000000\" fill-rule=\"nonzero\" fill-opacity=\"1\" /><path clip-path=\"url(#clip430)\" d=\"M2995.14 2108.68 L2995.14 2116.5 L2993.01 2116.5 L2993.01 2108.75 Q2993.01 2106.91 2992.3 2105.99 Q2991.58 2105.08 2990.14 2105.08 Q2988.42 2105.08 2987.42 2106.18 Q2986.43 2107.28 2986.43 2109.17 L2986.43 2116.5 L2984.29 2116.5 L2984.29 2103.54 L2986.43 2103.54 L2986.43 2105.55 Q2987.19 2104.38 2988.22 2103.8 Q2989.26 2103.22 2990.62 2103.22 Q2992.85 2103.22 2994 2104.61 Q2995.14 2105.99 2995.14 2108.68 Z\" fill=\"#000000\" fill-rule=\"nonzero\" fill-opacity=\"1\" /><path clip-path=\"url(#clip430)\" d=\"M3007.66 2103.92 L3007.66 2105.93 Q3006.75 2105.47 3005.78 2105.24 Q3004.81 2105.01 3003.77 2105.01 Q3002.18 2105.01 3001.38 2105.49 Q3000.6 2105.98 3000.6 2106.95 Q3000.6 2107.69 3001.16 2108.12 Q3001.73 2108.54 3003.44 2108.92 L3004.17 2109.08 Q3006.44 2109.57 3007.39 2110.46 Q3008.35 2111.34 3008.35 2112.92 Q3008.35 2114.73 3006.92 2115.78 Q3005.49 2116.84 3002.99 2116.84 Q3001.95 2116.84 3000.82 2116.63 Q2999.69 2116.43 2998.44 2116.03 L2998.44 2113.83 Q2999.62 2114.44 3000.77 2114.75 Q3001.92 2115.05 3003.04 2115.05 Q3004.54 2115.05 3005.35 2114.54 Q3006.16 2114.02 3006.16 2113.09 Q3006.16 2112.22 3005.57 2111.75 Q3004.99 2111.29 3003.01 2110.86 L3002.27 2110.69 Q3000.29 2110.27 2999.42 2109.42 Q2998.54 2108.55 2998.54 2107.04 Q2998.54 2105.22 2999.83 2104.22 Q3001.13 2103.22 3003.51 2103.22 Q3004.69 2103.22 3005.73 2103.4 Q3006.78 2103.57 3007.66 2103.92 Z\" fill=\"#000000\" fill-rule=\"nonzero\" fill-opacity=\"1\" /><path clip-path=\"url(#clip430)\" d=\"M3011.74 2103.54 L3013.87 2103.54 L3013.87 2116.5 L3011.74 2116.5 L3011.74 2103.54 M3011.74 2098.49 L3013.87 2098.49 L3013.87 2101.19 L3011.74 2101.19 L3011.74 2098.49 Z\" fill=\"#000000\" fill-rule=\"nonzero\" fill-opacity=\"1\" /><path clip-path=\"url(#clip430)\" d=\"M3026.86 2109.87 Q3026.86 2107.55 3025.9 2106.28 Q3024.95 2105.01 3023.22 2105.01 Q3021.51 2105.01 3020.55 2106.28 Q3019.6 2107.55 3019.6 2109.87 Q3019.6 2112.17 3020.55 2113.44 Q3021.51 2114.72 3023.22 2114.72 Q3024.95 2114.72 3025.9 2113.44 Q3026.86 2112.17 3026.86 2109.87 M3028.99 2114.89 Q3028.99 2118.2 3027.52 2119.81 Q3026.05 2121.43 3023.01 2121.43 Q3021.89 2121.43 3020.9 2121.26 Q3019.9 2121.09 3018.96 2120.75 L3018.96 2118.68 Q3019.9 2119.19 3020.82 2119.43 Q3021.73 2119.67 3022.68 2119.67 Q3024.77 2119.67 3025.82 2118.57 Q3026.86 2117.48 3026.86 2115.27 L3026.86 2114.22 Q3026.2 2115.37 3025.17 2115.93 Q3024.14 2116.5 3022.7 2116.5 Q3020.32 2116.5 3018.86 2114.68 Q3017.4 2112.87 3017.4 2109.87 Q3017.4 2106.86 3018.86 2105.04 Q3020.32 2103.22 3022.7 2103.22 Q3024.14 2103.22 3025.17 2103.79 Q3026.2 2104.36 3026.86 2105.5 L3026.86 2103.54 L3028.99 2103.54 L3028.99 2114.89 Z\" fill=\"#000000\" fill-rule=\"nonzero\" fill-opacity=\"1\" /><path clip-path=\"url(#clip430)\" d=\"M3044.15 2108.68 L3044.15 2116.5 L3042.02 2116.5 L3042.02 2108.75 Q3042.02 2106.91 3041.3 2105.99 Q3040.58 2105.08 3039.15 2105.08 Q3037.42 2105.08 3036.43 2106.18 Q3035.43 2107.28 3035.43 2109.17 L3035.43 2116.5 L3033.29 2116.5 L3033.29 2103.54 L3035.43 2103.54 L3035.43 2105.55 Q3036.2 2104.38 3037.23 2103.8 Q3038.27 2103.22 3039.62 2103.22 Q3041.86 2103.22 3043 2104.61 Q3044.15 2105.99 3044.15 2108.68 Z\" fill=\"#000000\" fill-rule=\"nonzero\" fill-opacity=\"1\" /><path clip-path=\"url(#clip430)\" d=\"M3059.48 2109.49 L3059.48 2110.53 L3049.69 2110.53 Q3049.83 2112.73 3051.01 2113.88 Q3052.2 2115.03 3054.32 2115.03 Q3055.55 2115.03 3056.69 2114.73 Q3057.85 2114.43 3058.99 2113.83 L3058.99 2115.84 Q3057.84 2116.33 3056.64 2116.58 Q3055.43 2116.84 3054.19 2116.84 Q3051.09 2116.84 3049.28 2115.03 Q3047.47 2113.22 3047.47 2110.15 Q3047.47 2106.96 3049.18 2105.1 Q3050.91 2103.22 3053.82 2103.22 Q3056.44 2103.22 3057.96 2104.91 Q3059.48 2106.59 3059.48 2109.49 M3057.35 2108.86 Q3057.33 2107.11 3056.37 2106.07 Q3055.42 2105.03 3053.85 2105.03 Q3052.07 2105.03 3050.99 2106.04 Q3049.92 2107.04 3049.76 2108.87 L3057.35 2108.86 Z\" fill=\"#000000\" fill-rule=\"nonzero\" fill-opacity=\"1\" /><path clip-path=\"url(#clip430)\" d=\"M3071.51 2105.5 L3071.51 2098.49 L3073.64 2098.49 L3073.64 2116.5 L3071.51 2116.5 L3071.51 2114.56 Q3070.84 2115.71 3069.81 2116.28 Q3068.79 2116.84 3067.35 2116.84 Q3065.01 2116.84 3063.52 2114.96 Q3062.05 2113.09 3062.05 2110.03 Q3062.05 2106.97 3063.52 2105.1 Q3065.01 2103.22 3067.35 2103.22 Q3068.79 2103.22 3069.81 2103.79 Q3070.84 2104.35 3071.51 2105.5 M3064.25 2110.03 Q3064.25 2112.38 3065.21 2113.72 Q3066.19 2115.05 3067.88 2115.05 Q3069.57 2115.05 3070.54 2113.72 Q3071.51 2112.38 3071.51 2110.03 Q3071.51 2107.68 3070.54 2106.35 Q3069.57 2105.01 3067.88 2105.01 Q3066.19 2105.01 3065.21 2106.35 Q3064.25 2107.68 3064.25 2110.03 Z\" fill=\"#000000\" fill-rule=\"nonzero\" fill-opacity=\"1\" /><path clip-path=\"url(#clip430)\" d=\"M3464 2491.32 L3466.35 2491.32 L3466.35 2501.82 Q3466.35 2504.6 3467.36 2505.83 Q3468.37 2507.04 3470.62 2507.04 Q3472.87 2507.04 3473.87 2505.83 Q3474.88 2504.6 3474.88 2501.82 L3474.88 2491.32 L3477.23 2491.32 L3477.23 2502.11 Q3477.23 2505.49 3475.55 2507.21 Q3473.89 2508.94 3470.62 2508.94 Q3467.35 2508.94 3465.67 2507.21 Q3464 2505.49 3464 2502.11 L3464 2491.32 Z\" fill=\"#000000\" fill-rule=\"nonzero\" fill-opacity=\"1\" /><path clip-path=\"url(#clip430)\" d=\"M3481.62 2491.32 L3483.96 2491.32 L3483.96 2508.6 L3481.62 2508.6 L3481.62 2491.32 Z\" fill=\"#000000\" fill-rule=\"nonzero\" fill-opacity=\"1\" /><path clip-path=\"url(#clip430)\" d=\"M3499.29 2500.78 L3499.29 2508.6 L3497.16 2508.6 L3497.16 2500.85 Q3497.16 2499.01 3496.44 2498.09 Q3495.73 2497.18 3494.29 2497.18 Q3492.57 2497.18 3491.57 2498.28 Q3490.58 2499.38 3490.58 2501.28 L3490.58 2508.6 L3488.43 2508.6 L3488.43 2495.64 L3490.58 2495.64 L3490.58 2497.65 Q3491.34 2496.49 3492.37 2495.91 Q3493.41 2495.33 3494.77 2495.33 Q3497 2495.33 3498.14 2496.72 Q3499.29 2498.09 3499.29 2500.78 Z\" fill=\"#000000\" fill-rule=\"nonzero\" fill-opacity=\"1\" /><path clip-path=\"url(#clip430)\" d=\"M3505.64 2491.96 L3505.64 2495.64 L3510.03 2495.64 L3510.03 2497.3 L3505.64 2497.3 L3505.64 2504.33 Q3505.64 2505.92 3506.07 2506.37 Q3506.51 2506.82 3507.84 2506.82 L3510.03 2506.82 L3510.03 2508.6 L3507.84 2508.6 Q3505.38 2508.6 3504.44 2507.69 Q3503.5 2506.76 3503.5 2504.33 L3503.5 2497.3 L3501.94 2497.3 L3501.94 2495.64 L3503.5 2495.64 L3503.5 2491.96 L3505.64 2491.96 Z\" fill=\"#000000\" fill-rule=\"nonzero\" fill-opacity=\"1\" /><path clip-path=\"url(#clip430)\" d=\"M3513.54 2506.64 L3517.36 2506.64 L3517.36 2493.45 L3513.2 2494.29 L3513.2 2492.16 L3517.33 2491.32 L3519.67 2491.32 L3519.67 2506.64 L3523.49 2506.64 L3523.49 2508.6 L3513.54 2508.6 L3513.54 2506.64 Z\" fill=\"#000000\" fill-rule=\"nonzero\" fill-opacity=\"1\" /><path clip-path=\"url(#clip430)\" d=\"M3530.23 2506.64 L3538.39 2506.64 L3538.39 2508.6 L3527.42 2508.6 L3527.42 2506.64 Q3528.75 2505.26 3531.04 2502.94 Q3533.34 2500.62 3533.93 2499.95 Q3535.05 2498.68 3535.49 2497.82 Q3535.95 2496.94 3535.95 2496.09 Q3535.95 2494.71 3534.97 2493.85 Q3534.01 2492.98 3532.46 2492.98 Q3531.36 2492.98 3530.14 2493.36 Q3528.92 2493.74 3527.53 2494.52 L3527.53 2492.16 Q3528.94 2491.59 3530.17 2491.3 Q3531.4 2491.01 3532.42 2491.01 Q3535.1 2491.01 3536.7 2492.35 Q3538.3 2493.7 3538.3 2495.94 Q3538.3 2497.01 3537.89 2497.97 Q3537.5 2498.92 3536.44 2500.21 Q3536.15 2500.55 3534.6 2502.16 Q3533.05 2503.75 3530.23 2506.64 Z\" fill=\"#000000\" fill-rule=\"nonzero\" fill-opacity=\"1\" /><path clip-path=\"url(#clip430)\" d=\"M3548.3 2500.4 Q3546.63 2500.4 3545.67 2501.29 Q3544.72 2502.18 3544.72 2503.74 Q3544.72 2505.3 3545.67 2506.2 Q3546.63 2507.09 3548.3 2507.09 Q3549.96 2507.09 3550.92 2506.2 Q3551.88 2505.29 3551.88 2503.74 Q3551.88 2502.18 3550.92 2501.29 Q3549.97 2500.4 3548.3 2500.4 M3545.96 2499.4 Q3544.45 2499.03 3543.61 2498 Q3542.77 2496.97 3542.77 2495.49 Q3542.77 2493.42 3544.24 2492.21 Q3545.73 2491.01 3548.3 2491.01 Q3550.88 2491.01 3552.35 2492.21 Q3553.82 2493.42 3553.82 2495.49 Q3553.82 2496.97 3552.97 2498 Q3552.14 2499.03 3550.64 2499.4 Q3552.33 2499.8 3553.27 2500.94 Q3554.22 2502.09 3554.22 2503.74 Q3554.22 2506.25 3552.68 2507.6 Q3551.15 2508.94 3548.3 2508.94 Q3545.44 2508.94 3543.9 2507.6 Q3542.37 2506.25 3542.37 2503.74 Q3542.37 2502.09 3543.32 2500.94 Q3544.27 2499.8 3545.96 2499.4 M3545.1 2495.71 Q3545.1 2497.05 3545.93 2497.8 Q3546.78 2498.56 3548.3 2498.56 Q3549.8 2498.56 3550.64 2497.8 Q3551.5 2497.05 3551.5 2495.71 Q3551.5 2494.37 3550.64 2493.61 Q3549.8 2492.86 3548.3 2492.86 Q3546.78 2492.86 3545.93 2493.61 Q3545.1 2494.37 3545.1 2495.71 Z\" fill=\"#000000\" fill-rule=\"nonzero\" fill-opacity=\"1\" /><path clip-path=\"url(#clip430)\" d=\"M3185.38 2618.14 L3187.73 2618.14 L3187.73 2628.64 Q3187.73 2631.42 3188.74 2632.64 Q3189.75 2633.86 3192 2633.86 Q3194.25 2633.86 3195.26 2632.64 Q3196.26 2631.42 3196.26 2628.64 L3196.26 2618.14 L3198.61 2618.14 L3198.61 2628.93 Q3198.61 2632.31 3196.94 2634.03 Q3195.27 2635.76 3192 2635.76 Q3188.73 2635.76 3187.05 2634.03 Q3185.38 2632.31 3185.38 2628.93 L3185.38 2618.14 Z\" fill=\"#000000\" fill-rule=\"nonzero\" fill-opacity=\"1\" /><path clip-path=\"url(#clip430)\" d=\"M3203 2618.14 L3205.34 2618.14 L3205.34 2635.42 L3203 2635.42 L3203 2618.14 Z\" fill=\"#000000\" fill-rule=\"nonzero\" fill-opacity=\"1\" /><path clip-path=\"url(#clip430)\" d=\"M3220.67 2627.6 L3220.67 2635.42 L3218.54 2635.42 L3218.54 2627.67 Q3218.54 2625.83 3217.83 2624.91 Q3217.11 2624 3215.67 2624 Q3213.95 2624 3212.95 2625.1 Q3211.96 2626.2 3211.96 2628.1 L3211.96 2635.42 L3209.82 2635.42 L3209.82 2622.46 L3211.96 2622.46 L3211.96 2624.47 Q3212.72 2623.3 3213.75 2622.73 Q3214.79 2622.15 3216.15 2622.15 Q3218.38 2622.15 3219.53 2623.54 Q3220.67 2624.91 3220.67 2627.6 Z\" fill=\"#000000\" fill-rule=\"nonzero\" fill-opacity=\"1\" /><path clip-path=\"url(#clip430)\" d=\"M3227.03 2618.78 L3227.03 2622.46 L3231.41 2622.46 L3231.41 2624.11 L3227.03 2624.11 L3227.03 2631.15 Q3227.03 2632.74 3227.46 2633.19 Q3227.9 2633.64 3229.23 2633.64 L3231.41 2633.64 L3231.41 2635.42 L3229.23 2635.42 Q3226.76 2635.42 3225.82 2634.51 Q3224.89 2633.58 3224.89 2631.15 L3224.89 2624.11 L3223.32 2624.11 L3223.32 2622.46 L3224.89 2622.46 L3224.89 2618.78 L3227.03 2618.78 Z\" fill=\"#000000\" fill-rule=\"nonzero\" fill-opacity=\"1\" /><path clip-path=\"url(#clip430)\" d=\"M3234.92 2633.46 L3238.74 2633.46 L3238.74 2620.27 L3234.59 2621.11 L3234.59 2618.98 L3238.72 2618.14 L3241.06 2618.14 L3241.06 2633.46 L3244.87 2633.46 L3244.87 2635.42 L3234.92 2635.42 L3234.92 2633.46 Z\" fill=\"#000000\" fill-rule=\"nonzero\" fill-opacity=\"1\" /><path clip-path=\"url(#clip430)\" d=\"M3254.89 2625.85 Q3253.31 2625.85 3252.39 2626.93 Q3251.47 2628 3251.47 2629.88 Q3251.47 2631.74 3252.39 2632.83 Q3253.31 2633.91 3254.89 2633.91 Q3256.46 2633.91 3257.37 2632.83 Q3258.3 2631.74 3258.3 2629.88 Q3258.3 2628 3257.37 2626.93 Q3256.46 2625.85 3254.89 2625.85 M3259.53 2618.52 L3259.53 2620.65 Q3258.65 2620.24 3257.75 2620.02 Q3256.85 2619.8 3255.97 2619.8 Q3253.66 2619.8 3252.43 2621.36 Q3251.22 2622.92 3251.04 2626.08 Q3251.73 2625.08 3252.76 2624.54 Q3253.79 2624 3255.03 2624 Q3257.63 2624 3259.13 2625.58 Q3260.65 2627.16 3260.65 2629.88 Q3260.65 2632.54 3259.08 2634.15 Q3257.5 2635.76 3254.89 2635.76 Q3251.89 2635.76 3250.3 2633.47 Q3248.72 2631.16 3248.72 2626.8 Q3248.72 2622.7 3250.66 2620.27 Q3252.61 2617.83 3255.88 2617.83 Q3256.76 2617.83 3257.65 2618 Q3258.56 2618.18 3259.53 2618.52 Z\" fill=\"#000000\" fill-rule=\"nonzero\" fill-opacity=\"1\" /><path clip-path=\"url(#clip430)\" d=\"M3361.76 2666.51 L3364.11 2666.51 L3364.11 2677.01 Q3364.11 2679.79 3365.12 2681.02 Q3366.12 2682.23 3368.38 2682.23 Q3370.63 2682.23 3371.63 2681.02 Q3372.64 2679.79 3372.64 2677.01 L3372.64 2666.51 L3374.99 2666.51 L3374.99 2677.3 Q3374.99 2680.68 3373.31 2682.41 Q3371.64 2684.13 3368.38 2684.13 Q3365.11 2684.13 3363.43 2682.41 Q3361.76 2680.68 3361.76 2677.3 L3361.76 2666.51 Z\" fill=\"#000000\" fill-rule=\"nonzero\" fill-opacity=\"1\" /><path clip-path=\"url(#clip430)\" d=\"M3379.38 2666.51 L3381.71 2666.51 L3381.71 2683.79 L3379.38 2683.79 L3379.38 2666.51 Z\" fill=\"#000000\" fill-rule=\"nonzero\" fill-opacity=\"1\" /><path clip-path=\"url(#clip430)\" d=\"M3397.05 2675.97 L3397.05 2683.79 L3394.92 2683.79 L3394.92 2676.04 Q3394.92 2674.2 3394.2 2673.29 Q3393.48 2672.37 3392.05 2672.37 Q3390.33 2672.37 3389.33 2673.47 Q3388.33 2674.57 3388.33 2676.47 L3388.33 2683.79 L3386.19 2683.79 L3386.19 2670.83 L3388.33 2670.83 L3388.33 2672.85 Q3389.1 2671.68 3390.13 2671.1 Q3391.17 2670.52 3392.52 2670.52 Q3394.76 2670.52 3395.9 2671.91 Q3397.05 2673.29 3397.05 2675.97 Z\" fill=\"#000000\" fill-rule=\"nonzero\" fill-opacity=\"1\" /><path clip-path=\"url(#clip430)\" d=\"M3403.4 2667.15 L3403.4 2670.83 L3407.79 2670.83 L3407.79 2672.49 L3403.4 2672.49 L3403.4 2679.52 Q3403.4 2681.11 3403.83 2681.56 Q3404.27 2682.01 3405.6 2682.01 L3407.79 2682.01 L3407.79 2683.79 L3405.6 2683.79 Q3403.14 2683.79 3402.2 2682.88 Q3401.26 2681.95 3401.26 2679.52 L3401.26 2672.49 L3399.7 2672.49 L3399.7 2670.83 L3401.26 2670.83 L3401.26 2667.15 L3403.4 2667.15 Z\" fill=\"#000000\" fill-rule=\"nonzero\" fill-opacity=\"1\" /><path clip-path=\"url(#clip430)\" d=\"M3417.98 2674.48 Q3419.65 2674.84 3420.59 2675.97 Q3421.54 2677.1 3421.54 2678.77 Q3421.54 2681.33 3419.78 2682.73 Q3418.02 2684.13 3414.78 2684.13 Q3413.69 2684.13 3412.54 2683.91 Q3411.39 2683.7 3410.16 2683.27 L3410.16 2681.02 Q3411.14 2681.58 3412.29 2681.87 Q3413.45 2682.16 3414.71 2682.16 Q3416.91 2682.16 3418.06 2681.29 Q3419.21 2680.43 3419.21 2678.77 Q3419.21 2677.24 3418.14 2676.39 Q3417.07 2675.52 3415.16 2675.52 L3413.15 2675.52 L3413.15 2673.6 L3415.26 2673.6 Q3416.98 2673.6 3417.89 2672.92 Q3418.81 2672.22 3418.81 2670.92 Q3418.81 2669.59 3417.86 2668.89 Q3416.92 2668.17 3415.16 2668.17 Q3414.2 2668.17 3413.1 2668.38 Q3412 2668.59 3410.68 2669.03 L3410.68 2666.94 Q3412.01 2666.57 3413.17 2666.39 Q3414.34 2666.2 3415.37 2666.2 Q3418.03 2666.2 3419.58 2667.42 Q3421.14 2668.62 3421.14 2670.68 Q3421.14 2672.12 3420.31 2673.11 Q3419.49 2674.1 3417.98 2674.48 Z\" fill=\"#000000\" fill-rule=\"nonzero\" fill-opacity=\"1\" /><path clip-path=\"url(#clip430)\" d=\"M3427.99 2681.83 L3436.15 2681.83 L3436.15 2683.79 L3425.17 2683.79 L3425.17 2681.83 Q3426.51 2680.45 3428.8 2678.13 Q3431.1 2675.81 3431.69 2675.14 Q3432.81 2673.88 3433.25 2673.01 Q3433.7 2672.13 3433.7 2671.28 Q3433.7 2669.91 3432.73 2669.04 Q3431.77 2668.17 3430.22 2668.17 Q3429.12 2668.17 3427.89 2668.55 Q3426.68 2668.93 3425.29 2669.71 L3425.29 2667.35 Q3426.7 2666.78 3427.93 2666.49 Q3429.16 2666.2 3430.17 2666.2 Q3432.86 2666.2 3434.46 2667.54 Q3436.05 2668.89 3436.05 2671.13 Q3436.05 2672.2 3435.65 2673.16 Q3435.26 2674.11 3434.2 2675.4 Q3433.91 2675.74 3432.36 2677.35 Q3430.81 2678.95 3427.99 2681.83 Z\" fill=\"#000000\" fill-rule=\"nonzero\" fill-opacity=\"1\" /><path clip-path=\"url(#clip430)\" d=\"M2774.98 2650.06 L2777.33 2650.06 L2777.33 2660.56 Q2777.33 2663.34 2778.33 2664.56 Q2779.34 2665.78 2781.6 2665.78 Q2783.84 2665.78 2784.85 2664.56 Q2785.86 2663.34 2785.86 2660.56 L2785.86 2650.06 L2788.21 2650.06 L2788.21 2660.85 Q2788.21 2664.23 2786.53 2665.95 Q2784.86 2667.68 2781.6 2667.68 Q2778.32 2667.68 2776.64 2665.95 Q2774.98 2664.23 2774.98 2660.85 L2774.98 2650.06 Z\" fill=\"#000000\" fill-rule=\"nonzero\" fill-opacity=\"1\" /><path clip-path=\"url(#clip430)\" d=\"M2792.59 2650.06 L2794.93 2650.06 L2794.93 2667.34 L2792.59 2667.34 L2792.59 2650.06 Z\" fill=\"#000000\" fill-rule=\"nonzero\" fill-opacity=\"1\" /><path clip-path=\"url(#clip430)\" d=\"M2810.27 2659.52 L2810.27 2667.34 L2808.14 2667.34 L2808.14 2659.59 Q2808.14 2657.75 2807.42 2656.83 Q2806.7 2655.92 2805.27 2655.92 Q2803.54 2655.92 2802.55 2657.02 Q2801.55 2658.12 2801.55 2660.02 L2801.55 2667.34 L2799.41 2667.34 L2799.41 2654.38 L2801.55 2654.38 L2801.55 2656.39 Q2802.32 2655.22 2803.35 2654.65 Q2804.39 2654.07 2805.74 2654.07 Q2807.97 2654.07 2809.12 2655.46 Q2810.27 2656.83 2810.27 2659.52 Z\" fill=\"#000000\" fill-rule=\"nonzero\" fill-opacity=\"1\" /><path clip-path=\"url(#clip430)\" d=\"M2816.62 2650.7 L2816.62 2654.38 L2821.01 2654.38 L2821.01 2656.03 L2816.62 2656.03 L2816.62 2663.07 Q2816.62 2664.66 2817.05 2665.11 Q2817.49 2665.56 2818.82 2665.56 L2821.01 2665.56 L2821.01 2667.34 L2818.82 2667.34 Q2816.35 2667.34 2815.42 2666.43 Q2814.48 2665.5 2814.48 2663.07 L2814.48 2656.03 L2812.92 2656.03 L2812.92 2654.38 L2814.48 2654.38 L2814.48 2650.7 L2816.62 2650.7 Z\" fill=\"#000000\" fill-rule=\"nonzero\" fill-opacity=\"1\" /><path clip-path=\"url(#clip430)\" d=\"M2829.4 2657.77 Q2827.82 2657.77 2826.9 2658.85 Q2825.98 2659.92 2825.98 2661.8 Q2825.98 2663.66 2826.9 2664.75 Q2827.82 2665.83 2829.4 2665.83 Q2830.97 2665.83 2831.89 2664.75 Q2832.81 2663.66 2832.81 2661.8 Q2832.81 2659.92 2831.89 2658.85 Q2830.97 2657.77 2829.4 2657.77 M2834.04 2650.44 L2834.04 2652.57 Q2833.16 2652.16 2832.26 2651.94 Q2831.37 2651.72 2830.49 2651.72 Q2828.17 2651.72 2826.94 2653.28 Q2825.73 2654.84 2825.56 2658 Q2826.24 2657 2827.27 2656.46 Q2828.3 2655.92 2829.54 2655.92 Q2832.14 2655.92 2833.65 2657.5 Q2835.16 2659.08 2835.16 2661.8 Q2835.16 2664.46 2833.59 2666.07 Q2832.01 2667.68 2829.4 2667.68 Q2826.4 2667.68 2824.81 2665.39 Q2823.23 2663.08 2823.23 2658.72 Q2823.23 2654.62 2825.17 2652.19 Q2827.12 2649.75 2830.39 2649.75 Q2831.27 2649.75 2832.16 2649.92 Q2833.07 2650.1 2834.04 2650.44 Z\" fill=\"#000000\" fill-rule=\"nonzero\" fill-opacity=\"1\" /><path clip-path=\"url(#clip430)\" d=\"M2845.61 2652.1 L2839.71 2661.32 L2845.61 2661.32 L2845.61 2652.1 M2845 2650.06 L2847.94 2650.06 L2847.94 2661.32 L2850.41 2661.32 L2850.41 2663.27 L2847.94 2663.27 L2847.94 2667.34 L2845.61 2667.34 L2845.61 2663.27 L2837.81 2663.27 L2837.81 2661.01 L2845 2650.06 Z\" fill=\"#000000\" fill-rule=\"nonzero\" fill-opacity=\"1\" /><path clip-path=\"url(#clip430)\" d=\"M2998.36 2606.68 L3000.71 2606.68 L3000.71 2617.18 Q3000.71 2619.96 3001.71 2621.19 Q3002.72 2622.4 3004.98 2622.4 Q3007.22 2622.4 3008.23 2621.19 Q3009.24 2619.96 3009.24 2617.18 L3009.24 2606.68 L3011.59 2606.68 L3011.59 2617.47 Q3011.59 2620.85 3009.91 2622.57 Q3008.24 2624.3 3004.98 2624.3 Q3001.7 2624.3 3000.02 2622.57 Q2998.36 2620.85 2998.36 2617.47 L2998.36 2606.68 Z\" fill=\"#000000\" fill-rule=\"nonzero\" fill-opacity=\"1\" /><path clip-path=\"url(#clip430)\" d=\"M3015.97 2606.68 L3018.31 2606.68 L3018.31 2623.96 L3015.97 2623.96 L3015.97 2606.68 Z\" fill=\"#000000\" fill-rule=\"nonzero\" fill-opacity=\"1\" /><path clip-path=\"url(#clip430)\" d=\"M3033.65 2616.14 L3033.65 2623.96 L3031.52 2623.96 L3031.52 2616.21 Q3031.52 2614.37 3030.8 2613.45 Q3030.08 2612.54 3028.65 2612.54 Q3026.92 2612.54 3025.93 2613.64 Q3024.93 2614.74 3024.93 2616.64 L3024.93 2623.96 L3022.79 2623.96 L3022.79 2611 L3024.93 2611 L3024.93 2613.01 Q3025.69 2611.85 3026.73 2611.27 Q3027.77 2610.69 3029.12 2610.69 Q3031.35 2610.69 3032.5 2612.08 Q3033.65 2613.45 3033.65 2616.14 Z\" fill=\"#000000\" fill-rule=\"nonzero\" fill-opacity=\"1\" /><path clip-path=\"url(#clip430)\" d=\"M3040 2607.32 L3040 2611 L3044.39 2611 L3044.39 2612.66 L3040 2612.66 L3040 2619.69 Q3040 2621.28 3040.43 2621.73 Q3040.87 2622.18 3042.2 2622.18 L3044.39 2622.18 L3044.39 2623.96 L3042.2 2623.96 Q3039.73 2623.96 3038.8 2623.05 Q3037.86 2622.12 3037.86 2619.69 L3037.86 2612.66 L3036.3 2612.66 L3036.3 2611 L3037.86 2611 L3037.86 2607.32 L3040 2607.32 Z\" fill=\"#000000\" fill-rule=\"nonzero\" fill-opacity=\"1\" /><path clip-path=\"url(#clip430)\" d=\"M3052.49 2615.76 Q3050.82 2615.76 3049.86 2616.65 Q3048.91 2617.54 3048.91 2619.1 Q3048.91 2620.66 3049.86 2621.56 Q3050.82 2622.45 3052.49 2622.45 Q3054.16 2622.45 3055.12 2621.56 Q3056.08 2620.65 3056.08 2619.1 Q3056.08 2617.54 3055.12 2616.65 Q3054.17 2615.76 3052.49 2615.76 M3050.15 2614.76 Q3048.65 2614.39 3047.8 2613.36 Q3046.97 2612.33 3046.97 2610.85 Q3046.97 2608.78 3048.44 2607.57 Q3049.92 2606.37 3052.49 2606.37 Q3055.07 2606.37 3056.54 2607.57 Q3058.01 2608.78 3058.01 2610.85 Q3058.01 2612.33 3057.16 2613.36 Q3056.33 2614.39 3054.84 2614.76 Q3056.53 2615.16 3057.47 2616.3 Q3058.41 2617.45 3058.41 2619.1 Q3058.41 2621.61 3056.88 2622.96 Q3055.35 2624.3 3052.49 2624.3 Q3049.63 2624.3 3048.09 2622.96 Q3046.56 2621.61 3046.56 2619.1 Q3046.56 2617.45 3047.51 2616.3 Q3048.46 2615.16 3050.15 2614.76 M3049.29 2611.07 Q3049.29 2612.41 3050.13 2613.16 Q3050.97 2613.92 3052.49 2613.92 Q3053.99 2613.92 3054.84 2613.16 Q3055.69 2612.41 3055.69 2611.07 Q3055.69 2609.73 3054.84 2608.97 Q3053.99 2608.22 3052.49 2608.22 Q3050.97 2608.22 3050.13 2608.97 Q3049.29 2609.73 3049.29 2611.07 Z\" fill=\"#000000\" fill-rule=\"nonzero\" fill-opacity=\"1\" /></svg>\n"
      ]
     },
     "execution_count": 8,
     "metadata": {},
     "output_type": "execute_result"
    }
   ],
   "source": [
    "using GraphRecipes, Plots\n",
    "\n",
    "#pyplot(size=(800, 600))\n",
    "gr()\n",
    "theme(:default)\n",
    "\n",
    "plot(Integer, method = :tree, fontsize = 4)\n",
    "plot!(size = (1200, 800))"
   ]
  },
  {
   "cell_type": "markdown",
   "metadata": {},
   "source": [
    "### Signed integers\n",
    "\n",
    "* First bit indicates sign.  \n",
    "    - `0` for nonnegative numbers\n",
    "    - `1` for negative numbers  \n",
    "    \n",
    "* **Two's complement representation** for negative numbers. \n",
    "    - Sign bit is set to 1  \n",
    "    - remaining bits are set to opposite values  \n",
    "    - 1 is added to the result  \n",
    "    - Two's complement representation of a negative integer `x` is same as the unsigned integer `2^64 + x`."
   ]
  },
  {
   "cell_type": "code",
   "execution_count": 9,
   "metadata": {
    "tags": []
   },
   "outputs": [
    {
     "name": "stdout",
     "output_type": "stream",
     "text": [
      "typeof(18) = Int64\n",
      "bitstring(18) = \"0000000000000000000000000000000000000000000000000000000000010010\"\n",
      "bitstring(-18) = \"1111111111111111111111111111111111111111111111111111111111101110\"\n",
      "bitstring(UInt64(Int128(2) ^ 64 - 18)) == bitstring(-18) = true\n",
      "bitstring(2 * 18) = \"0000000000000000000000000000000000000000000000000000000000100100\"\n",
      "bitstring(2 * -18) = \"1111111111111111111111111111111111111111111111111111111111011100\"\n"
     ]
    }
   ],
   "source": [
    "@show typeof(18)\n",
    "@show bitstring(18)\n",
    "@show bitstring(-18) # two's complement representation\n",
    "@show bitstring(UInt64(Int128(2)^64 - 18)) == bitstring(-18) # modular arithmetic\n",
    "@show bitstring(2 * 18) # shift bits of 18\n",
    "@show bitstring(2 * -18); # shift bits of -18"
   ]
  },
  {
   "cell_type": "markdown",
   "metadata": {},
   "source": [
    "* Two's complement representation respects modular arithmetic nicely.  \n",
    "    Addition of any two signed integers are just bitwise addition, possibly modulo $2^M$\n",
    "    \n",
    "<img src=\"http://users.dickinson.edu/~braught/courses/cs251f02/classes/images/twosCompWheel.png\" width=\"400\" align=\"center\"/>    \n",
    "\n",
    "* Arithmetics (addition, substraction, multiplication) of integers are **exact** except for the possiblity of overflow and underflow.\n",
    "\n",
    "* **Range** of representable integers by $M$-bit **signed integer** is $[-2^{M-1},2^{M-1}-1]$.\n",
    "    - Julia functions `typemin(T)` and `typemax(T)` give the lowest and highest representable number of a type `T` respectively"
   ]
  },
  {
   "cell_type": "code",
   "execution_count": 10,
   "metadata": {
    "tags": []
   },
   "outputs": [
    {
     "data": {
      "text/plain": [
       "(-9223372036854775808, 9223372036854775807)"
      ]
     },
     "execution_count": 10,
     "metadata": {},
     "output_type": "execute_result"
    }
   ],
   "source": [
    "typemin(Int64), typemax(Int64)"
   ]
  },
  {
   "cell_type": "code",
   "execution_count": 11,
   "metadata": {
    "tags": []
   },
   "outputs": [
    {
     "name": "stdout",
     "output_type": "stream",
     "text": [
      "Int8\t-128\t127\n",
      "Int16\t-32768\t32767\n",
      "Int32\t-2147483648\t2147483647\n",
      "Int64\t-9223372036854775808\t9223372036854775807\n",
      "Int128\t-170141183460469231731687303715884105728\t170141183460469231731687303715884105727\n"
     ]
    }
   ],
   "source": [
    "for T in [Int8, Int16, Int32, Int64, Int128]\n",
    "    println(T, '\\t', typemin(T), '\\t', typemax(T))\n",
    "end"
   ]
  },
  {
   "cell_type": "markdown",
   "metadata": {},
   "source": [
    "### Unsigned integers\n",
    "\n",
    "* For unsigned integers, the range is $[0,2^M-1]$."
   ]
  },
  {
   "cell_type": "code",
   "execution_count": 12,
   "metadata": {
    "tags": []
   },
   "outputs": [
    {
     "name": "stdout",
     "output_type": "stream",
     "text": [
      "UInt8\t0\t255\n",
      "UInt16\t0\t65535\n",
      "UInt32\t0\t4294967295\n",
      "UInt64\t0\t18446744073709551615\n",
      "UInt128\t0\t340282366920938463463374607431768211455\n"
     ]
    }
   ],
   "source": [
    "for t in [UInt8, UInt16, UInt32, UInt64, UInt128]\n",
    "    println(t, '\\t', typemin(t), '\\t', typemax(t))\n",
    "end"
   ]
  },
  {
   "cell_type": "markdown",
   "metadata": {},
   "source": [
    "### `BigInt`\n",
    "\n",
    "Julia `BigInt` type is arbitrary precision."
   ]
  },
  {
   "cell_type": "code",
   "execution_count": 13,
   "metadata": {
    "tags": []
   },
   "outputs": [
    {
     "name": "stdout",
     "output_type": "stream",
     "text": [
      "typemax(Int128) = 170141183460469231731687303715884105727\n",
      "typemax(Int128) + 1 = -170141183460469231731687303715884105728\n",
      "BigInt(typemax(Int128)) + 1 = 170141183460469231731687303715884105728\n"
     ]
    }
   ],
   "source": [
    "@show typemax(Int128)\n",
    "@show typemax(Int128) + 1 # modular arithmetic!\n",
    "@show BigInt(typemax(Int128)) + 1;"
   ]
  },
  {
   "cell_type": "markdown",
   "metadata": {},
   "source": [
    "### Overflow and underflow for integer arithmetic\n",
    "\n",
    "R reports `NA` for integer overflow and underflow.  \n",
    "\n",
    "> **Julia outputs the result according to modular arithmetic.**"
   ]
  },
  {
   "cell_type": "code",
   "execution_count": 14,
   "metadata": {
    "tags": []
   },
   "outputs": [
    {
     "name": "stdout",
     "output_type": "stream",
     "text": [
      "typemax(Int32) = 2147483647\n",
      "typemax(Int32) + Int32(1) = -2147483648\n"
     ]
    }
   ],
   "source": [
    "@show typemax(Int32)\n",
    "@show typemax(Int32) + Int32(1); # modular arithmetics!"
   ]
  },
  {
   "cell_type": "code",
   "execution_count": 15,
   "metadata": {
    "tags": []
   },
   "outputs": [
    {
     "data": {
      "text/plain": [
       "RObject{IntSxp}\n",
       "[1] 2147483647\n"
      ]
     },
     "execution_count": 15,
     "metadata": {},
     "output_type": "execute_result"
    }
   ],
   "source": [
    "using RCall\n",
    "\n",
    "R\"\"\"\n",
    ".Machine$integer.max\n",
    "\"\"\""
   ]
  },
  {
   "cell_type": "code",
   "execution_count": 16,
   "metadata": {
    "tags": []
   },
   "outputs": [
    {
     "data": {
      "text/plain": [
       "RObject{IntSxp}\n",
       "[1] 2147483647\n"
      ]
     },
     "execution_count": 16,
     "metadata": {},
     "output_type": "execute_result"
    }
   ],
   "source": [
    "R\"\"\"\n",
    "M <- 32\n",
    "big <- 2^(M - 1) - 1\n",
    "as.integer(big)\n",
    "\"\"\""
   ]
  },
  {
   "cell_type": "code",
   "execution_count": 17,
   "metadata": {
    "tags": []
   },
   "outputs": [
    {
     "name": "stderr",
     "output_type": "stream",
     "text": [
      "\u001b[33m\u001b[1m┌ \u001b[22m\u001b[39m\u001b[33m\u001b[1mWarning: \u001b[22m\u001b[39mRCall.jl: Warning: NAs introduced by coercion to integer range\n",
      "\u001b[33m\u001b[1m└ \u001b[22m\u001b[39m\u001b[90m@ RCall ~/.julia/packages/RCall/Wyd74/src/io.jl:172\u001b[39m\n"
     ]
    },
    {
     "data": {
      "text/plain": [
       "RObject{IntSxp}\n",
       "[1] NA\n"
      ]
     },
     "execution_count": 17,
     "metadata": {},
     "output_type": "execute_result"
    }
   ],
   "source": [
    "R\"\"\"\n",
    "as.integer(big + 1)\n",
    "\"\"\""
   ]
  },
  {
   "cell_type": "markdown",
   "metadata": {},
   "source": [
    "## Real numbers: floating-number system\n",
    "\n",
    "Floating-point number system is a computer model for real numbers.\n",
    "\n",
    "* Most computer systems adopt the [IEEE 754 standard](https://en.wikipedia.org/wiki/IEEE_floating_point), established in 1985, for floating-point arithmetics.  \n",
    "For the history, see an [interview with William Kahan](http://www.cs.berkeley.edu/~wkahan/ieee754status/754story.html).\n",
    "\n",
    "* In the scientific notation, a real number is represented as\n",
    "$$\\pm d_0.d_1d_2 \\cdots d_p \\times b^e.$$\n",
    "In computer, the _base_ is $b=2$ and the digits $d_i$ are 0 or 1.\n",
    "\n",
    "* **Normalized** vs **denormalized** numbers. For example, decimal number 18 is\n",
    "$$ +1.0010 \\times 2^4 \\quad (\\text{normalized})$$\n",
    "or, equivalently,\n",
    "$$ +0.1001 \\times 2^5 \\quad (\\text{denormalized}).$$\n",
    "\n",
    "* In the floating-number system, computer stores \n",
    "    - sign bit  \n",
    "    - the _fraction_ (or _mantissa_, or _significand_) of the **normalized** representation\n",
    "    - the actual exponent _plus_ a bias"
   ]
  },
  {
   "cell_type": "code",
   "execution_count": 18,
   "metadata": {
    "tags": []
   },
   "outputs": [
    {
     "data": {
      "image/svg+xml": [
       "<?xml version=\"1.0\" encoding=\"utf-8\"?>\n",
       "<svg xmlns=\"http://www.w3.org/2000/svg\" xmlns:xlink=\"http://www.w3.org/1999/xlink\" width=\"1200\" height=\"900\" viewBox=\"0 0 4800 3600\">\n",
       "<defs>\n",
       "  <clipPath id=\"clip460\">\n",
       "    <rect x=\"0\" y=\"0\" width=\"4800\" height=\"3600\"/>\n",
       "  </clipPath>\n",
       "</defs>\n",
       "<path clip-path=\"url(#clip460)\" d=\"M0 3600 L4800 3600 L4800 0 L0 0  Z\" fill=\"#ffffff\" fill-rule=\"evenodd\" fill-opacity=\"1\"/>\n",
       "<defs>\n",
       "  <clipPath id=\"clip461\">\n",
       "    <rect x=\"960\" y=\"0\" width=\"3361\" height=\"3361\"/>\n",
       "  </clipPath>\n",
       "</defs>\n",
       "<path clip-path=\"url(#clip460)\" d=\"M647.244 3552.76 L4152.76 3552.76 L4152.76 47.2441 L647.244 47.2441  Z\" fill=\"#ffffff\" fill-rule=\"evenodd\" fill-opacity=\"1\"/>\n",
       "<defs>\n",
       "  <clipPath id=\"clip462\">\n",
       "    <rect x=\"647\" y=\"47\" width=\"3507\" height=\"3507\"/>\n",
       "  </clipPath>\n",
       "</defs>\n",
       "<polyline clip-path=\"url(#clip462)\" style=\"stroke:#000000; stroke-linecap:round; stroke-linejoin:round; stroke-width:4; stroke-opacity:1; fill:none\" points=\"1769.58,548.031 1769.23,571.971 1768.2,596.373 1766.54,621.202 1764.3,646.424 1761.53,672.005 1758.29,697.912 1754.63,724.109 1750.58,750.562 1746.21,777.238 1741.57,804.102 1736.69,831.12 1731.65,858.258 1726.47,885.481 1721.22,912.756 1715.95,940.047 1710.7,967.322 1705.53,994.545 1700.48,1021.68 1695.61,1048.7 1690.96,1075.56 1686.59,1102.24 1682.55,1128.69 1678.88,1154.89 1675.64,1180.8 1672.88,1206.38 1670.64,1231.6 1668.98,1256.43 1667.95,1280.83 1667.59,1304.77 \"/>\n",
       "<polyline clip-path=\"url(#clip462)\" style=\"stroke:#000000; stroke-linecap:round; stroke-linejoin:round; stroke-width:4; stroke-opacity:1; fill:none\" points=\"1667.59,1304.77 1670.32,1323.34 1678.26,1340.68 1691.03,1356.87 1708.23,1372.01 1729.48,1386.19 1754.39,1399.51 1782.58,1412.04 1813.67,1423.89 1847.27,1435.15 1882.98,1445.91 1920.43,1456.25 1959.24,1466.27 1999,1476.07 2039.35,1485.73 2079.89,1495.34 2120.23,1505 2160,1514.79 2198.8,1524.81 2236.26,1535.16 2271.97,1545.91 2305.57,1557.17 2336.66,1569.02 2364.85,1581.56 2389.76,1594.87 2411.01,1609.05 2428.21,1624.2 2440.98,1640.39 2448.92,1657.72 2451.65,1676.29 \"/>\n",
       "<polyline clip-path=\"url(#clip462)\" style=\"stroke:#000000; stroke-linecap:round; stroke-linejoin:round; stroke-width:4; stroke-opacity:1; fill:none\" points=\"2451.65,1676.29 2451.36,1696.68 2450.51,1717.46 2449.15,1738.6 2447.32,1760.08 2445.06,1781.88 2442.41,1803.95 2439.41,1826.27 2436.1,1848.81 2432.53,1871.54 2428.73,1894.43 2424.74,1917.45 2420.61,1940.58 2416.38,1963.78 2412.09,1987.02 2407.77,2010.28 2403.48,2033.53 2399.25,2056.73 2395.12,2079.85 2391.13,2102.88 2387.33,2125.77 2383.76,2148.5 2380.45,2171.04 2377.45,2193.36 2374.8,2215.43 2372.53,2237.22 2370.7,2258.71 2369.35,2279.85 2368.5,2300.63 2368.21,2321.01 \"/>\n",
       "<polyline clip-path=\"url(#clip462)\" style=\"stroke:#000000; stroke-linecap:round; stroke-linejoin:round; stroke-width:4; stroke-opacity:1; fill:none\" points=\"2368.21,2321.01 2372.68,2346.12 2385.68,2369.56 2406.58,2391.45 2434.74,2411.93 2469.54,2431.1 2510.33,2449.1 2556.49,2466.06 2607.39,2482.08 2662.4,2497.3 2720.88,2511.84 2782.2,2525.83 2845.73,2539.38 2910.84,2552.62 2976.9,2565.68 3043.28,2578.68 3109.34,2591.74 3174.45,2604.98 3237.98,2618.53 3299.3,2632.52 3357.78,2647.06 3412.79,2662.28 3463.69,2678.3 3509.85,2695.26 3550.64,2713.26 3585.44,2732.43 3613.6,2752.91 3634.49,2774.8 3647.49,2798.24 3651.97,2823.35 \"/>\n",
       "<polyline clip-path=\"url(#clip462)\" style=\"stroke:#000000; stroke-linecap:round; stroke-linejoin:round; stroke-width:4; stroke-opacity:1; fill:none\" points=\"2368.21,2321.01 2366.72,2347.16 2362.41,2373.11 2355.48,2398.87 2346.13,2424.46 2334.59,2449.89 2321.06,2475.17 2305.74,2500.33 2288.85,2525.38 2270.6,2550.33 2251.2,2575.2 2230.85,2600 2209.77,2624.75 2188.17,2649.46 2166.25,2674.15 2144.23,2698.83 2122.31,2723.52 2100.71,2748.23 2079.63,2772.98 2059.29,2797.78 2039.88,2822.65 2021.63,2847.6 2004.75,2872.65 1989.43,2897.81 1975.9,2923.1 1964.35,2948.53 1955.01,2974.11 1948.08,2999.87 1943.76,3025.82 1942.28,3051.97 \"/>\n",
       "<polyline clip-path=\"url(#clip462)\" style=\"stroke:#000000; stroke-linecap:round; stroke-linejoin:round; stroke-width:4; stroke-opacity:1; fill:none\" points=\"2368.21,2321.01 2363.96,2344.26 2351.6,2365.96 2331.74,2386.23 2304.97,2405.19 2271.9,2422.94 2233.13,2439.61 2189.25,2455.3 2140.87,2470.14 2088.59,2484.23 2033.01,2497.7 1974.72,2510.64 1914.34,2523.19 1852.45,2535.45 1789.66,2547.54 1726.58,2559.58 1663.79,2571.67 1601.9,2583.93 1541.52,2596.48 1483.23,2609.43 1427.65,2622.89 1375.37,2636.98 1326.99,2651.82 1283.11,2667.51 1244.34,2684.18 1211.27,2701.93 1184.5,2720.89 1164.64,2741.16 1152.28,2762.86 1148.03,2786.11 \"/>\n",
       "<polyline clip-path=\"url(#clip462)\" style=\"stroke:#000000; stroke-linecap:round; stroke-linejoin:round; stroke-width:4; stroke-opacity:1; fill:none\" points=\"2368.21,2321.01 2370.08,2343.78 2375.5,2365.55 2384.22,2386.4 2395.98,2406.4 2410.5,2425.63 2427.52,2444.16 2446.78,2462.06 2468.03,2479.4 2490.98,2496.27 2515.39,2512.73 2540.98,2528.86 2567.49,2544.73 2594.67,2560.41 2622.23,2575.99 2649.93,2591.53 2677.5,2607.11 2704.68,2622.79 2731.19,2638.66 2756.78,2654.79 2781.19,2671.25 2804.14,2688.12 2825.38,2705.46 2844.65,2723.36 2861.67,2741.89 2876.19,2761.12 2887.95,2781.12 2896.67,2801.97 2902.09,2823.74 2903.96,2846.51 \"/>\n",
       "<path clip-path=\"url(#clip462)\" d=\"M1834.71 548.031 L1802.15 491.632 L1737.02 491.632 L1704.46 548.031 L1737.02 604.431 L1802.15 604.431 L1834.71 548.031 L1834.71 548.031  Z\" fill=\"#009af9\" fill-rule=\"evenodd\" fill-opacity=\"1\"/>\n",
       "<polyline clip-path=\"url(#clip462)\" style=\"stroke:#000000; stroke-linecap:round; stroke-linejoin:round; stroke-width:4; stroke-opacity:1; fill:none\" points=\"1834.71,548.031 1802.15,491.632 1737.02,491.632 1704.46,548.031 1737.02,604.431 1802.15,604.431 1834.71,548.031 \"/>\n",
       "<path clip-path=\"url(#clip462)\" d=\"M1780.98 1304.77 L1724.28 1206.57 L1610.9 1206.57 L1554.2 1304.77 L1610.9 1402.97 L1724.28 1402.97 L1780.98 1304.77 L1780.98 1304.77  Z\" fill=\"#009af9\" fill-rule=\"evenodd\" fill-opacity=\"1\"/>\n",
       "<polyline clip-path=\"url(#clip462)\" style=\"stroke:#000000; stroke-linecap:round; stroke-linejoin:round; stroke-width:4; stroke-opacity:1; fill:none\" points=\"1780.98,1304.77 1724.28,1206.57 1610.9,1206.57 1554.2,1304.77 1610.9,1402.97 1724.28,1402.97 1780.98,1304.77 \"/>\n",
       "<path clip-path=\"url(#clip462)\" d=\"M2533.63 1676.29 L2492.64 1605.3 L2410.66 1605.3 L2369.67 1676.29 L2410.66 1747.29 L2492.64 1747.29 L2533.63 1676.29 L2533.63 1676.29  Z\" fill=\"#009af9\" fill-rule=\"evenodd\" fill-opacity=\"1\"/>\n",
       "<polyline clip-path=\"url(#clip462)\" style=\"stroke:#000000; stroke-linecap:round; stroke-linejoin:round; stroke-width:4; stroke-opacity:1; fill:none\" points=\"2533.63,1676.29 2492.64,1605.3 2410.66,1605.3 2369.67,1676.29 2410.66,1747.29 2492.64,1747.29 2533.63,1676.29 \"/>\n",
       "<path clip-path=\"url(#clip462)\" d=\"M2578.69 2321.01 L2473.45 2138.74 L2262.97 2138.74 L2157.73 2321.01 L2262.97 2503.29 L2473.45 2503.29 L2578.69 2321.01 L2578.69 2321.01  Z\" fill=\"#009af9\" fill-rule=\"evenodd\" fill-opacity=\"1\"/>\n",
       "<polyline clip-path=\"url(#clip462)\" style=\"stroke:#000000; stroke-linecap:round; stroke-linejoin:round; stroke-width:4; stroke-opacity:1; fill:none\" points=\"2578.69,2321.01 2473.45,2138.74 2262.97,2138.74 2157.73,2321.01 2262.97,2503.29 2473.45,2503.29 2578.69,2321.01 \"/>\n",
       "<path clip-path=\"url(#clip462)\" d=\"M3794.7 2823.35 L3723.33 2699.74 L3580.6 2699.74 L3509.24 2823.35 L3580.6 2946.95 L3723.33 2946.95 L3794.7 2823.35 L3794.7 2823.35  Z\" fill=\"#009af9\" fill-rule=\"evenodd\" fill-opacity=\"1\"/>\n",
       "<polyline clip-path=\"url(#clip462)\" style=\"stroke:#000000; stroke-linecap:round; stroke-linejoin:round; stroke-width:4; stroke-opacity:1; fill:none\" points=\"3794.7,2823.35 3723.33,2699.74 3580.6,2699.74 3509.24,2823.35 3580.6,2946.95 3723.33,2946.95 3794.7,2823.35 \"/>\n",
       "<path clip-path=\"url(#clip462)\" d=\"M2070.55 3051.97 L2006.41 2940.88 L1878.14 2940.88 L1814.01 3051.97 L1878.14 3163.05 L2006.41 3163.05 L2070.55 3051.97 L2070.55 3051.97  Z\" fill=\"#009af9\" fill-rule=\"evenodd\" fill-opacity=\"1\"/>\n",
       "<polyline clip-path=\"url(#clip462)\" style=\"stroke:#000000; stroke-linecap:round; stroke-linejoin:round; stroke-width:4; stroke-opacity:1; fill:none\" points=\"2070.55,3051.97 2006.41,2940.88 1878.14,2940.88 1814.01,3051.97 1878.14,3163.05 2006.41,3163.05 2070.55,3051.97 \"/>\n",
       "<path clip-path=\"url(#clip462)\" d=\"M1276.3 2786.11 L1212.17 2675.02 L1083.9 2675.02 L1019.76 2786.11 L1083.9 2897.19 L1212.17 2897.19 L1276.3 2786.11 L1276.3 2786.11  Z\" fill=\"#009af9\" fill-rule=\"evenodd\" fill-opacity=\"1\"/>\n",
       "<polyline clip-path=\"url(#clip462)\" style=\"stroke:#000000; stroke-linecap:round; stroke-linejoin:round; stroke-width:4; stroke-opacity:1; fill:none\" points=\"1276.3,2786.11 1212.17,2675.02 1083.9,2675.02 1019.76,2786.11 1083.9,2897.19 1212.17,2897.19 1276.3,2786.11 \"/>\n",
       "<path clip-path=\"url(#clip462)\" d=\"M3032.23 2846.51 L2968.09 2735.42 L2839.82 2735.42 L2775.69 2846.51 L2839.82 2957.59 L2968.09 2957.59 L3032.23 2846.51 L3032.23 2846.51  Z\" fill=\"#009af9\" fill-rule=\"evenodd\" fill-opacity=\"1\"/>\n",
       "<polyline clip-path=\"url(#clip462)\" style=\"stroke:#000000; stroke-linecap:round; stroke-linejoin:round; stroke-width:4; stroke-opacity:1; fill:none\" points=\"3032.23,2846.51 2968.09,2735.42 2839.82,2735.42 2775.69,2846.51 2839.82,2957.59 2968.09,2957.59 3032.23,2846.51 \"/>\n",
       "<path clip-path=\"url(#clip462)\" d=\"M1769.58 548.431 L1769.24 548.231 L1769.24 547.831 L1769.58 547.631 L1769.93 547.831 L1769.93 548.231 Z\" fill=\"#009af9\" fill-rule=\"evenodd\" fill-opacity=\"1\" stroke=\"#000000\" stroke-opacity=\"1\" stroke-width=\"7.2\"/>\n",
       "<path clip-path=\"url(#clip462)\" d=\"M1667.59 1305.17 L1667.24 1304.97 L1667.24 1304.57 L1667.59 1304.37 L1667.94 1304.57 L1667.94 1304.97 Z\" fill=\"#009af9\" fill-rule=\"evenodd\" fill-opacity=\"1\" stroke=\"#000000\" stroke-opacity=\"1\" stroke-width=\"7.2\"/>\n",
       "<path clip-path=\"url(#clip462)\" d=\"M2451.65 1676.69 L2451.3 1676.49 L2451.3 1676.09 L2451.65 1675.89 L2452 1676.09 L2452 1676.49 Z\" fill=\"#009af9\" fill-rule=\"evenodd\" fill-opacity=\"1\" stroke=\"#000000\" stroke-opacity=\"1\" stroke-width=\"7.2\"/>\n",
       "<path clip-path=\"url(#clip462)\" d=\"M2368.21 2321.41 L2367.86 2321.21 L2367.86 2320.81 L2368.21 2320.61 L2368.56 2320.81 L2368.56 2321.21 Z\" fill=\"#009af9\" fill-rule=\"evenodd\" fill-opacity=\"1\" stroke=\"#000000\" stroke-opacity=\"1\" stroke-width=\"7.2\"/>\n",
       "<path clip-path=\"url(#clip462)\" d=\"M3651.97 2823.75 L3651.62 2823.55 L3651.62 2823.15 L3651.97 2822.95 L3652.31 2823.15 L3652.31 2823.55 Z\" fill=\"#009af9\" fill-rule=\"evenodd\" fill-opacity=\"1\" stroke=\"#000000\" stroke-opacity=\"1\" stroke-width=\"7.2\"/>\n",
       "<path clip-path=\"url(#clip462)\" d=\"M1942.28 3052.37 L1941.93 3052.17 L1941.93 3051.77 L1942.28 3051.57 L1942.62 3051.77 L1942.62 3052.17 Z\" fill=\"#009af9\" fill-rule=\"evenodd\" fill-opacity=\"1\" stroke=\"#000000\" stroke-opacity=\"1\" stroke-width=\"7.2\"/>\n",
       "<path clip-path=\"url(#clip462)\" d=\"M1148.03 2786.51 L1147.69 2786.31 L1147.69 2785.91 L1148.03 2785.71 L1148.38 2785.91 L1148.38 2786.31 Z\" fill=\"#009af9\" fill-rule=\"evenodd\" fill-opacity=\"1\" stroke=\"#000000\" stroke-opacity=\"1\" stroke-width=\"7.2\"/>\n",
       "<path clip-path=\"url(#clip462)\" d=\"M2903.96 2846.91 L2903.61 2846.71 L2903.61 2846.31 L2903.96 2846.11 L2904.31 2846.31 L2904.31 2846.71 Z\" fill=\"#009af9\" fill-rule=\"evenodd\" fill-opacity=\"1\" stroke=\"#000000\" stroke-opacity=\"1\" stroke-width=\"7.2\"/>\n",
       "<path clip-path=\"url(#clip460)\" d=\"M1755.31 541.695 L1752.14 550.294 L1758.5 550.294 L1755.31 541.695 M1753.99 539.391 L1756.64 539.391 L1763.23 556.671 L1760.8 556.671 L1759.23 552.239 L1751.44 552.239 L1749.86 556.671 L1747.4 556.671 L1753.99 539.391 Z\" fill=\"#000000\" fill-rule=\"nonzero\" fill-opacity=\"1\" /><path clip-path=\"url(#clip460)\" d=\"M1776.44 548.847 L1776.44 556.671 L1774.31 556.671 L1774.31 548.917 Q1774.31 547.077 1773.59 546.162 Q1772.87 545.248 1771.44 545.248 Q1769.71 545.248 1768.72 546.347 Q1767.72 547.447 1767.72 549.345 L1767.72 556.671 L1765.58 556.671 L1765.58 543.709 L1767.72 543.709 L1767.72 545.722 Q1768.48 544.554 1769.51 543.975 Q1770.56 543.396 1771.91 543.396 Q1774.14 543.396 1775.29 544.785 Q1776.44 546.162 1776.44 548.847 Z\" fill=\"#000000\" fill-rule=\"nonzero\" fill-opacity=\"1\" /><path clip-path=\"url(#clip460)\" d=\"M1786.08 557.875 Q1785.17 560.19 1784.32 560.896 Q1783.46 561.602 1782.03 561.602 L1780.33 561.602 L1780.33 559.82 L1781.58 559.82 Q1782.45 559.82 1782.94 559.403 Q1783.43 558.986 1784.02 557.435 L1784.4 556.463 L1779.16 543.709 L1781.41 543.709 L1785.46 553.847 L1789.51 543.709 L1791.77 543.709 L1786.08 557.875 Z\" fill=\"#000000\" fill-rule=\"nonzero\" fill-opacity=\"1\" /><path clip-path=\"url(#clip460)\" d=\"M1621.14 1296.13 L1624.29 1296.13 L1631.95 1310.59 L1631.95 1296.13 L1634.22 1296.13 L1634.22 1313.41 L1631.07 1313.41 L1623.41 1298.96 L1623.41 1313.41 L1621.14 1313.41 L1621.14 1296.13 Z\" fill=\"#000000\" fill-rule=\"nonzero\" fill-opacity=\"1\" /><path clip-path=\"url(#clip460)\" d=\"M1638.56 1308.3 L1638.56 1300.45 L1640.69 1300.45 L1640.69 1308.21 Q1640.69 1310.05 1641.41 1310.98 Q1642.13 1311.9 1643.56 1311.9 Q1645.29 1311.9 1646.28 1310.8 Q1647.29 1309.7 1647.29 1307.8 L1647.29 1300.45 L1649.42 1300.45 L1649.42 1313.41 L1647.29 1313.41 L1647.29 1311.42 Q1646.51 1312.6 1645.48 1313.18 Q1644.47 1313.75 1643.11 1313.75 Q1640.88 1313.75 1639.72 1312.36 Q1638.56 1310.97 1638.56 1308.3 M1643.92 1300.14 L1643.92 1300.14 Z\" fill=\"#000000\" fill-rule=\"nonzero\" fill-opacity=\"1\" /><path clip-path=\"url(#clip460)\" d=\"M1663.9 1302.94 Q1664.7 1301.5 1665.81 1300.82 Q1666.92 1300.14 1668.42 1300.14 Q1670.45 1300.14 1671.55 1301.56 Q1672.65 1302.97 1672.65 1305.59 L1672.65 1313.41 L1670.51 1313.41 L1670.51 1305.66 Q1670.51 1303.79 1669.85 1302.89 Q1669.19 1301.99 1667.83 1301.99 Q1666.18 1301.99 1665.22 1303.09 Q1664.26 1304.19 1664.26 1306.08 L1664.26 1313.41 L1662.12 1313.41 L1662.12 1305.66 Q1662.12 1303.78 1661.46 1302.89 Q1660.8 1301.99 1659.42 1301.99 Q1657.79 1301.99 1656.83 1303.1 Q1655.87 1304.2 1655.87 1306.08 L1655.87 1313.41 L1653.72 1313.41 L1653.72 1300.45 L1655.87 1300.45 L1655.87 1302.46 Q1656.6 1301.27 1657.61 1300.7 Q1658.63 1300.14 1660.03 1300.14 Q1661.44 1300.14 1662.43 1300.85 Q1663.42 1301.57 1663.9 1302.94 Z\" fill=\"#000000\" fill-rule=\"nonzero\" fill-opacity=\"1\" /><path clip-path=\"url(#clip460)\" d=\"M1686.2 1306.94 Q1686.2 1304.59 1685.23 1303.26 Q1684.27 1301.92 1682.58 1301.92 Q1680.89 1301.92 1679.92 1303.26 Q1678.96 1304.59 1678.96 1306.94 Q1678.96 1309.29 1679.92 1310.63 Q1680.89 1311.96 1682.58 1311.96 Q1684.27 1311.96 1685.23 1310.63 Q1686.2 1309.29 1686.2 1306.94 M1678.96 1302.42 Q1679.63 1301.26 1680.65 1300.7 Q1681.68 1300.14 1683.1 1300.14 Q1685.46 1300.14 1686.93 1302.01 Q1688.41 1303.89 1688.41 1306.94 Q1688.41 1310 1686.93 1311.87 Q1685.46 1313.75 1683.1 1313.75 Q1681.68 1313.75 1680.65 1313.19 Q1679.63 1312.62 1678.96 1311.47 L1678.96 1313.41 L1676.81 1313.41 L1676.81 1295.4 L1678.96 1295.4 L1678.96 1302.42 Z\" fill=\"#000000\" fill-rule=\"nonzero\" fill-opacity=\"1\" /><path clip-path=\"url(#clip460)\" d=\"M1703.03 1306.4 L1703.03 1307.44 L1693.24 1307.44 Q1693.38 1309.64 1694.56 1310.8 Q1695.75 1311.94 1697.87 1311.94 Q1699.09 1311.94 1700.24 1311.64 Q1701.4 1311.34 1702.53 1310.74 L1702.53 1312.75 Q1701.39 1313.24 1700.18 1313.49 Q1698.98 1313.75 1697.74 1313.75 Q1694.64 1313.75 1692.82 1311.94 Q1691.02 1310.14 1691.02 1307.06 Q1691.02 1303.87 1692.73 1302.01 Q1694.45 1300.14 1697.37 1300.14 Q1699.99 1300.14 1701.5 1301.83 Q1703.03 1303.5 1703.03 1306.4 M1700.9 1305.77 Q1700.88 1304.02 1699.92 1302.98 Q1698.97 1301.94 1697.39 1301.94 Q1695.61 1301.94 1694.53 1302.95 Q1693.47 1303.96 1693.31 1305.78 L1700.9 1305.77 Z\" fill=\"#000000\" fill-rule=\"nonzero\" fill-opacity=\"1\" /><path clip-path=\"url(#clip460)\" d=\"M1714.04 1302.44 Q1713.68 1302.23 1713.25 1302.14 Q1712.83 1302.03 1712.32 1302.03 Q1710.52 1302.03 1709.55 1303.21 Q1708.59 1304.38 1708.59 1306.58 L1708.59 1313.41 L1706.44 1313.41 L1706.44 1300.45 L1708.59 1300.45 L1708.59 1302.46 Q1709.26 1301.28 1710.33 1300.71 Q1711.41 1300.14 1712.95 1300.14 Q1713.17 1300.14 1713.44 1300.17 Q1713.7 1300.19 1714.03 1300.25 L1714.04 1302.44 Z\" fill=\"#000000\" fill-rule=\"nonzero\" fill-opacity=\"1\" /><path clip-path=\"url(#clip460)\" d=\"M2436.57 1676.83 Q2437.32 1677.09 2438.03 1677.92 Q2438.74 1678.75 2439.46 1680.21 L2441.83 1684.93 L2439.32 1684.93 L2437.11 1680.5 Q2436.26 1678.76 2435.45 1678.2 Q2434.65 1677.63 2433.26 1677.63 L2430.71 1677.63 L2430.71 1684.93 L2428.37 1684.93 L2428.37 1667.65 L2433.65 1667.65 Q2436.61 1667.65 2438.07 1668.89 Q2439.53 1670.13 2439.53 1672.63 Q2439.53 1674.26 2438.77 1675.34 Q2438.01 1676.41 2436.57 1676.83 M2430.71 1669.57 L2430.71 1675.71 L2433.65 1675.71 Q2435.34 1675.71 2436.2 1674.93 Q2437.07 1674.15 2437.07 1672.63 Q2437.07 1671.11 2436.2 1670.35 Q2435.34 1669.57 2433.65 1669.57 L2430.71 1669.57 Z\" fill=\"#000000\" fill-rule=\"nonzero\" fill-opacity=\"1\" /><path clip-path=\"url(#clip460)\" d=\"M2454.77 1677.92 L2454.77 1678.96 L2444.98 1678.96 Q2445.12 1681.16 2446.3 1682.32 Q2447.49 1683.46 2449.61 1683.46 Q2450.84 1683.46 2451.98 1683.16 Q2453.14 1682.86 2454.28 1682.26 L2454.28 1684.27 Q2453.13 1684.76 2451.93 1685.01 Q2450.72 1685.27 2449.48 1685.27 Q2446.38 1685.27 2444.57 1683.46 Q2442.76 1681.66 2442.76 1678.58 Q2442.76 1675.4 2444.47 1673.53 Q2446.2 1671.66 2449.11 1671.66 Q2451.73 1671.66 2453.25 1673.35 Q2454.77 1675.03 2454.77 1677.92 M2452.64 1677.29 Q2452.62 1675.55 2451.66 1674.5 Q2450.71 1673.46 2449.14 1673.46 Q2447.35 1673.46 2446.28 1674.47 Q2445.21 1675.48 2445.05 1677.31 L2452.64 1677.29 Z\" fill=\"#000000\" fill-rule=\"nonzero\" fill-opacity=\"1\" /><path clip-path=\"url(#clip460)\" d=\"M2464.16 1678.42 Q2461.58 1678.42 2460.58 1679.01 Q2459.59 1679.6 2459.59 1681.02 Q2459.59 1682.15 2460.33 1682.83 Q2461.08 1683.49 2462.37 1683.49 Q2464.14 1683.49 2465.2 1682.24 Q2466.28 1680.97 2466.28 1678.89 L2466.28 1678.42 L2464.16 1678.42 M2468.41 1677.54 L2468.41 1684.93 L2466.28 1684.93 L2466.28 1682.96 Q2465.55 1684.15 2464.46 1684.71 Q2463.37 1685.27 2461.8 1685.27 Q2459.81 1685.27 2458.63 1684.16 Q2457.46 1683.03 2457.46 1681.16 Q2457.46 1678.97 2458.92 1677.86 Q2460.39 1676.75 2463.29 1676.75 L2466.28 1676.75 L2466.28 1676.54 Q2466.28 1675.07 2465.31 1674.27 Q2464.35 1673.46 2462.6 1673.46 Q2461.49 1673.46 2460.43 1673.73 Q2459.38 1673.99 2458.41 1674.53 L2458.41 1672.56 Q2459.58 1672.11 2460.68 1671.89 Q2461.78 1671.66 2462.82 1671.66 Q2465.63 1671.66 2467.02 1673.12 Q2468.41 1674.57 2468.41 1677.54 Z\" fill=\"#000000\" fill-rule=\"nonzero\" fill-opacity=\"1\" /><path clip-path=\"url(#clip460)\" d=\"M2472.79 1666.92 L2474.92 1666.92 L2474.92 1684.93 L2472.79 1684.93 L2472.79 1666.92 Z\" fill=\"#000000\" fill-rule=\"nonzero\" fill-opacity=\"1\" /><path clip-path=\"url(#clip460)\" d=\"M2297.48 2314.68 L2294.31 2323.28 L2300.66 2323.28 L2297.48 2314.68 M2296.16 2312.37 L2298.81 2312.37 L2305.4 2329.65 L2302.97 2329.65 L2301.39 2325.22 L2293.6 2325.22 L2292.03 2329.65 L2289.56 2329.65 L2296.16 2312.37 Z\" fill=\"#000000\" fill-rule=\"nonzero\" fill-opacity=\"1\" /><path clip-path=\"url(#clip460)\" d=\"M2317.13 2323.18 Q2317.13 2320.83 2316.16 2319.5 Q2315.2 2318.16 2313.51 2318.16 Q2311.82 2318.16 2310.85 2319.5 Q2309.89 2320.83 2309.89 2323.18 Q2309.89 2325.53 2310.85 2326.88 Q2311.82 2328.21 2313.51 2328.21 Q2315.2 2328.21 2316.16 2326.88 Q2317.13 2325.53 2317.13 2323.18 M2309.89 2318.66 Q2310.56 2317.5 2311.58 2316.95 Q2312.61 2316.38 2314.03 2316.38 Q2316.39 2316.38 2317.86 2318.25 Q2319.34 2320.13 2319.34 2323.18 Q2319.34 2326.24 2317.86 2328.11 Q2316.39 2329.99 2314.03 2329.99 Q2312.61 2329.99 2311.58 2329.43 Q2310.56 2328.87 2309.89 2327.71 L2309.89 2329.65 L2307.75 2329.65 L2307.75 2311.64 L2309.89 2311.64 L2309.89 2318.66 Z\" fill=\"#000000\" fill-rule=\"nonzero\" fill-opacity=\"1\" /><path clip-path=\"url(#clip460)\" d=\"M2331.14 2317.07 L2331.14 2319.09 Q2330.24 2318.62 2329.26 2318.39 Q2328.29 2318.16 2327.25 2318.16 Q2325.66 2318.16 2324.86 2318.65 Q2324.08 2319.13 2324.08 2320.11 Q2324.08 2320.85 2324.64 2321.27 Q2325.21 2321.69 2326.92 2322.07 L2327.65 2322.24 Q2329.92 2322.72 2330.87 2323.61 Q2331.83 2324.49 2331.83 2326.08 Q2331.83 2327.88 2330.4 2328.94 Q2328.97 2329.99 2326.47 2329.99 Q2325.43 2329.99 2324.3 2329.78 Q2323.17 2329.58 2321.92 2329.18 L2321.92 2326.98 Q2323.11 2327.59 2324.25 2327.91 Q2325.4 2328.21 2326.52 2328.21 Q2328.02 2328.21 2328.83 2327.7 Q2329.64 2327.18 2329.64 2326.24 Q2329.64 2325.37 2329.05 2324.91 Q2328.48 2324.45 2326.5 2324.02 L2325.76 2323.84 Q2323.78 2323.43 2322.9 2322.57 Q2322.02 2321.7 2322.02 2320.2 Q2322.02 2318.37 2323.31 2317.37 Q2324.61 2316.38 2326.99 2316.38 Q2328.17 2316.38 2329.22 2316.55 Q2330.26 2316.73 2331.14 2317.07 Z\" fill=\"#000000\" fill-rule=\"nonzero\" fill-opacity=\"1\" /><path clip-path=\"url(#clip460)\" d=\"M2337.33 2313.01 L2337.33 2316.69 L2341.72 2316.69 L2341.72 2318.35 L2337.33 2318.35 L2337.33 2325.38 Q2337.33 2326.97 2337.76 2327.42 Q2338.2 2327.87 2339.53 2327.87 L2341.72 2327.87 L2341.72 2329.65 L2339.53 2329.65 Q2337.06 2329.65 2336.13 2328.74 Q2335.19 2327.81 2335.19 2325.38 L2335.19 2318.35 L2333.63 2318.35 L2333.63 2316.69 L2335.19 2316.69 L2335.19 2313.01 L2337.33 2313.01 Z\" fill=\"#000000\" fill-rule=\"nonzero\" fill-opacity=\"1\" /><path clip-path=\"url(#clip460)\" d=\"M2352.03 2318.68 Q2351.67 2318.47 2351.24 2318.38 Q2350.83 2318.28 2350.32 2318.28 Q2348.51 2318.28 2347.54 2319.46 Q2346.58 2320.63 2346.58 2322.83 L2346.58 2329.65 L2344.44 2329.65 L2344.44 2316.69 L2346.58 2316.69 L2346.58 2318.7 Q2347.25 2317.52 2348.33 2316.96 Q2349.4 2316.38 2350.94 2316.38 Q2351.16 2316.38 2351.43 2316.41 Q2351.69 2316.44 2352.02 2316.49 L2352.03 2318.68 Z\" fill=\"#000000\" fill-rule=\"nonzero\" fill-opacity=\"1\" /><path clip-path=\"url(#clip460)\" d=\"M2360.15 2323.14 Q2357.57 2323.14 2356.58 2323.73 Q2355.58 2324.32 2355.58 2325.74 Q2355.58 2326.88 2356.32 2327.55 Q2357.08 2328.21 2358.36 2328.21 Q2360.13 2328.21 2361.2 2326.96 Q2362.27 2325.7 2362.27 2323.61 L2362.27 2323.14 L2360.15 2323.14 M2364.4 2322.26 L2364.4 2329.65 L2362.27 2329.65 L2362.27 2327.69 Q2361.54 2328.87 2360.45 2329.43 Q2359.37 2329.99 2357.79 2329.99 Q2355.8 2329.99 2354.62 2328.88 Q2353.45 2327.76 2353.45 2325.88 Q2353.45 2323.69 2354.91 2322.58 Q2356.38 2321.47 2359.29 2321.47 L2362.27 2321.47 L2362.27 2321.26 Q2362.27 2319.79 2361.3 2318.99 Q2360.34 2318.18 2358.59 2318.18 Q2357.48 2318.18 2356.43 2318.45 Q2355.37 2318.72 2354.4 2319.25 L2354.4 2317.28 Q2355.57 2316.83 2356.67 2316.61 Q2357.77 2316.38 2358.81 2316.38 Q2361.62 2316.38 2363.01 2317.84 Q2364.4 2319.3 2364.4 2322.26 Z\" fill=\"#000000\" fill-rule=\"nonzero\" fill-opacity=\"1\" /><path clip-path=\"url(#clip460)\" d=\"M2378.12 2317.19 L2378.12 2319.18 Q2377.21 2318.68 2376.3 2318.44 Q2375.4 2318.18 2374.47 2318.18 Q2372.4 2318.18 2371.25 2319.5 Q2370.11 2320.81 2370.11 2323.18 Q2370.11 2325.56 2371.25 2326.88 Q2372.4 2328.18 2374.47 2328.18 Q2375.4 2328.18 2376.3 2327.94 Q2377.21 2327.69 2378.12 2327.19 L2378.12 2329.16 Q2377.23 2329.57 2376.26 2329.78 Q2375.32 2329.99 2374.24 2329.99 Q2371.31 2329.99 2369.59 2328.15 Q2367.86 2326.31 2367.86 2323.18 Q2367.86 2320.01 2369.6 2318.2 Q2371.35 2316.38 2374.38 2316.38 Q2375.36 2316.38 2376.3 2316.59 Q2377.24 2316.78 2378.12 2317.19 Z\" fill=\"#000000\" fill-rule=\"nonzero\" fill-opacity=\"1\" /><path clip-path=\"url(#clip460)\" d=\"M2383.93 2313.01 L2383.93 2316.69 L2388.31 2316.69 L2388.31 2318.35 L2383.93 2318.35 L2383.93 2325.38 Q2383.93 2326.97 2384.36 2327.42 Q2384.79 2327.87 2386.13 2327.87 L2388.31 2327.87 L2388.31 2329.65 L2386.13 2329.65 Q2383.66 2329.65 2382.72 2328.74 Q2381.79 2327.81 2381.79 2325.38 L2381.79 2318.35 L2380.22 2318.35 L2380.22 2316.69 L2381.79 2316.69 L2381.79 2313.01 L2383.93 2313.01 Z\" fill=\"#000000\" fill-rule=\"nonzero\" fill-opacity=\"1\" /><path clip-path=\"url(#clip460)\" d=\"M2391.21 2312.37 L2401.14 2312.37 L2401.14 2314.34 L2393.54 2314.34 L2393.54 2319.43 L2400.4 2319.43 L2400.4 2321.4 L2393.54 2321.4 L2393.54 2329.65 L2391.21 2329.65 L2391.21 2312.37 Z\" fill=\"#000000\" fill-rule=\"nonzero\" fill-opacity=\"1\" /><path clip-path=\"url(#clip460)\" d=\"M2404.75 2311.64 L2406.88 2311.64 L2406.88 2329.65 L2404.75 2329.65 L2404.75 2311.64 Z\" fill=\"#000000\" fill-rule=\"nonzero\" fill-opacity=\"1\" /><path clip-path=\"url(#clip460)\" d=\"M2416.36 2318.18 Q2414.64 2318.18 2413.65 2319.53 Q2412.65 2320.86 2412.65 2323.18 Q2412.65 2325.51 2413.64 2326.85 Q2414.63 2328.18 2416.36 2328.18 Q2418.06 2328.18 2419.05 2326.84 Q2420.05 2325.5 2420.05 2323.18 Q2420.05 2320.88 2419.05 2319.54 Q2418.06 2318.18 2416.36 2318.18 M2416.36 2316.38 Q2419.14 2316.38 2420.72 2318.18 Q2422.31 2319.99 2422.31 2323.18 Q2422.31 2326.37 2420.72 2328.18 Q2419.14 2329.99 2416.36 2329.99 Q2413.57 2329.99 2411.98 2328.18 Q2410.41 2326.37 2410.41 2323.18 Q2410.41 2319.99 2411.98 2318.18 Q2413.57 2316.38 2416.36 2316.38 Z\" fill=\"#000000\" fill-rule=\"nonzero\" fill-opacity=\"1\" /><path clip-path=\"url(#clip460)\" d=\"M2431.73 2323.14 Q2429.15 2323.14 2428.15 2323.73 Q2427.16 2324.32 2427.16 2325.74 Q2427.16 2326.88 2427.9 2327.55 Q2428.65 2328.21 2429.93 2328.21 Q2431.7 2328.21 2432.77 2326.96 Q2433.85 2325.7 2433.85 2323.61 L2433.85 2323.14 L2431.73 2323.14 M2435.98 2322.26 L2435.98 2329.65 L2433.85 2329.65 L2433.85 2327.69 Q2433.12 2328.87 2432.03 2329.43 Q2430.94 2329.99 2429.37 2329.99 Q2427.38 2329.99 2426.2 2328.88 Q2425.03 2327.76 2425.03 2325.88 Q2425.03 2323.69 2426.48 2322.58 Q2427.95 2321.47 2430.86 2321.47 L2433.85 2321.47 L2433.85 2321.26 Q2433.85 2319.79 2432.87 2318.99 Q2431.91 2318.18 2430.17 2318.18 Q2429.05 2318.18 2428 2318.45 Q2426.95 2318.72 2425.98 2319.25 L2425.98 2317.28 Q2427.14 2316.83 2428.24 2316.61 Q2429.34 2316.38 2430.38 2316.38 Q2433.2 2316.38 2434.59 2317.84 Q2435.98 2319.3 2435.98 2322.26 Z\" fill=\"#000000\" fill-rule=\"nonzero\" fill-opacity=\"1\" /><path clip-path=\"url(#clip460)\" d=\"M2442.47 2313.01 L2442.47 2316.69 L2446.85 2316.69 L2446.85 2318.35 L2442.47 2318.35 L2442.47 2325.38 Q2442.47 2326.97 2442.9 2327.42 Q2443.34 2327.87 2444.67 2327.87 L2446.85 2327.87 L2446.85 2329.65 L2444.67 2329.65 Q2442.2 2329.65 2441.26 2328.74 Q2440.33 2327.81 2440.33 2325.38 L2440.33 2318.35 L2438.76 2318.35 L2438.76 2316.69 L2440.33 2316.69 L2440.33 2313.01 L2442.47 2313.01 Z\" fill=\"#000000\" fill-rule=\"nonzero\" fill-opacity=\"1\" /><path clip-path=\"url(#clip460)\" d=\"M3607.54 2823.73 L3607.54 2830.06 L3611.29 2830.06 Q3613.17 2830.06 3614.08 2829.29 Q3614.99 2828.5 3614.99 2826.89 Q3614.99 2825.27 3614.08 2824.51 Q3613.17 2823.73 3611.29 2823.73 L3607.54 2823.73 M3607.54 2816.63 L3607.54 2821.84 L3611 2821.84 Q3612.71 2821.84 3613.54 2821.2 Q3614.39 2820.55 3614.39 2819.23 Q3614.39 2817.92 3613.54 2817.28 Q3612.71 2816.63 3611 2816.63 L3607.54 2816.63 M3605.2 2814.71 L3611.17 2814.71 Q3613.84 2814.71 3615.29 2815.82 Q3616.74 2816.93 3616.74 2818.98 Q3616.74 2820.56 3616 2821.5 Q3615.26 2822.44 3613.82 2822.67 Q3615.55 2823.04 3616.49 2824.22 Q3617.45 2825.39 3617.45 2827.15 Q3617.45 2829.46 3615.88 2830.72 Q3614.31 2831.99 3611.4 2831.99 L3605.2 2831.99 L3605.2 2814.71 Z\" fill=\"#000000\" fill-rule=\"nonzero\" fill-opacity=\"1\" /><path clip-path=\"url(#clip460)\" d=\"M3621.37 2819.02 L3623.5 2819.02 L3623.5 2831.99 L3621.37 2831.99 L3621.37 2819.02 M3621.37 2813.98 L3623.5 2813.98 L3623.5 2816.67 L3621.37 2816.67 L3621.37 2813.98 Z\" fill=\"#000000\" fill-rule=\"nonzero\" fill-opacity=\"1\" /><path clip-path=\"url(#clip460)\" d=\"M3636.48 2825.35 Q3636.48 2823.04 3635.52 2821.77 Q3634.57 2820.49 3632.85 2820.49 Q3631.14 2820.49 3630.17 2821.77 Q3629.23 2823.04 3629.23 2825.35 Q3629.23 2827.66 3630.17 2828.93 Q3631.14 2830.2 3632.85 2830.2 Q3634.57 2830.2 3635.52 2828.93 Q3636.48 2827.66 3636.48 2825.35 M3638.61 2830.38 Q3638.61 2833.69 3637.14 2835.3 Q3635.67 2836.92 3632.64 2836.92 Q3631.52 2836.92 3630.52 2836.74 Q3629.53 2836.58 3628.59 2836.23 L3628.59 2834.16 Q3629.53 2834.67 3630.44 2834.91 Q3631.36 2835.16 3632.3 2835.16 Q3634.4 2835.16 3635.44 2834.06 Q3636.48 2832.97 3636.48 2830.76 L3636.48 2829.71 Q3635.82 2830.85 3634.79 2831.42 Q3633.76 2831.99 3632.33 2831.99 Q3629.94 2831.99 3628.48 2830.17 Q3627.03 2828.35 3627.03 2825.35 Q3627.03 2822.34 3628.48 2820.53 Q3629.94 2818.71 3632.33 2818.71 Q3633.76 2818.71 3634.79 2819.28 Q3635.82 2819.84 3636.48 2820.99 L3636.48 2819.02 L3638.61 2819.02 L3638.61 2830.38 Z\" fill=\"#000000\" fill-rule=\"nonzero\" fill-opacity=\"1\" /><path clip-path=\"url(#clip460)\" d=\"M3643.09 2814.71 L3653.02 2814.71 L3653.02 2816.67 L3645.43 2816.67 L3645.43 2821.77 L3652.28 2821.77 L3652.28 2823.73 L3645.43 2823.73 L3645.43 2831.99 L3643.09 2831.99 L3643.09 2814.71 Z\" fill=\"#000000\" fill-rule=\"nonzero\" fill-opacity=\"1\" /><path clip-path=\"url(#clip460)\" d=\"M3656.63 2813.98 L3658.76 2813.98 L3658.76 2831.99 L3656.63 2831.99 L3656.63 2813.98 Z\" fill=\"#000000\" fill-rule=\"nonzero\" fill-opacity=\"1\" /><path clip-path=\"url(#clip460)\" d=\"M3668.24 2820.52 Q3666.53 2820.52 3665.53 2821.86 Q3664.54 2823.19 3664.54 2825.52 Q3664.54 2827.84 3665.52 2829.18 Q3666.52 2830.52 3668.24 2830.52 Q3669.94 2830.52 3670.94 2829.17 Q3671.93 2827.83 3671.93 2825.52 Q3671.93 2823.21 3670.94 2821.87 Q3669.94 2820.52 3668.24 2820.52 M3668.24 2818.71 Q3671.02 2818.71 3672.6 2820.52 Q3674.19 2822.32 3674.19 2825.52 Q3674.19 2828.7 3672.6 2830.52 Q3671.02 2832.32 3668.24 2832.32 Q3665.45 2832.32 3663.87 2830.52 Q3662.29 2828.7 3662.29 2825.52 Q3662.29 2822.32 3663.87 2820.52 Q3665.45 2818.71 3668.24 2818.71 Z\" fill=\"#000000\" fill-rule=\"nonzero\" fill-opacity=\"1\" /><path clip-path=\"url(#clip460)\" d=\"M3683.61 2825.47 Q3681.03 2825.47 3680.04 2826.06 Q3679.04 2826.65 3679.04 2828.07 Q3679.04 2829.21 3679.78 2829.88 Q3680.53 2830.54 3681.82 2830.54 Q3683.59 2830.54 3684.65 2829.29 Q3685.73 2828.03 3685.73 2825.94 L3685.73 2825.47 L3683.61 2825.47 M3687.86 2824.59 L3687.86 2831.99 L3685.73 2831.99 L3685.73 2830.02 Q3685 2831.2 3683.91 2831.77 Q3682.82 2832.32 3681.25 2832.32 Q3679.26 2832.32 3678.08 2831.21 Q3676.91 2830.09 3676.91 2828.21 Q3676.91 2826.02 3678.37 2824.91 Q3679.84 2823.8 3682.74 2823.8 L3685.73 2823.8 L3685.73 2823.59 Q3685.73 2822.12 3684.76 2821.33 Q3683.8 2820.52 3682.05 2820.52 Q3680.94 2820.52 3679.89 2820.78 Q3678.83 2821.05 3677.86 2821.58 L3677.86 2819.61 Q3679.03 2819.16 3680.13 2818.94 Q3681.23 2818.71 3682.27 2818.71 Q3685.08 2818.71 3686.47 2820.17 Q3687.86 2821.63 3687.86 2824.59 Z\" fill=\"#000000\" fill-rule=\"nonzero\" fill-opacity=\"1\" /><path clip-path=\"url(#clip460)\" d=\"M3694.35 2815.34 L3694.35 2819.02 L3698.74 2819.02 L3698.74 2820.68 L3694.35 2820.68 L3694.35 2827.71 Q3694.35 2829.3 3694.78 2829.75 Q3695.22 2830.2 3696.55 2830.2 L3698.74 2830.2 L3698.74 2831.99 L3696.55 2831.99 Q3694.09 2831.99 3693.15 2831.07 Q3692.21 2830.15 3692.21 2827.71 L3692.21 2820.68 L3690.65 2820.68 L3690.65 2819.02 L3692.21 2819.02 L3692.21 2815.34 L3694.35 2815.34 Z\" fill=\"#000000\" fill-rule=\"nonzero\" fill-opacity=\"1\" /><path clip-path=\"url(#clip460)\" d=\"M1899.84 3043.33 L1909.77 3043.33 L1909.77 3045.3 L1902.17 3045.3 L1902.17 3050.39 L1909.03 3050.39 L1909.03 3052.36 L1902.17 3052.36 L1902.17 3060.61 L1899.84 3060.61 L1899.84 3043.33 Z\" fill=\"#000000\" fill-rule=\"nonzero\" fill-opacity=\"1\" /><path clip-path=\"url(#clip460)\" d=\"M1913.38 3042.6 L1915.51 3042.6 L1915.51 3060.61 L1913.38 3060.61 L1913.38 3042.6 Z\" fill=\"#000000\" fill-rule=\"nonzero\" fill-opacity=\"1\" /><path clip-path=\"url(#clip460)\" d=\"M1924.99 3049.14 Q1923.27 3049.14 1922.28 3050.48 Q1921.28 3051.81 1921.28 3054.14 Q1921.28 3056.47 1922.27 3057.81 Q1923.26 3059.14 1924.99 3059.14 Q1926.69 3059.14 1927.68 3057.8 Q1928.68 3056.45 1928.68 3054.14 Q1928.68 3051.84 1927.68 3050.49 Q1926.69 3049.14 1924.99 3049.14 M1924.99 3047.33 Q1927.76 3047.33 1929.35 3049.14 Q1930.93 3050.94 1930.93 3054.14 Q1930.93 3057.32 1929.35 3059.14 Q1927.76 3060.94 1924.99 3060.94 Q1922.2 3060.94 1920.61 3059.14 Q1919.04 3057.32 1919.04 3054.14 Q1919.04 3050.94 1920.61 3049.14 Q1922.2 3047.33 1924.99 3047.33 Z\" fill=\"#000000\" fill-rule=\"nonzero\" fill-opacity=\"1\" /><path clip-path=\"url(#clip460)\" d=\"M1940.36 3054.09 Q1937.77 3054.09 1936.78 3054.68 Q1935.78 3055.27 1935.78 3056.7 Q1935.78 3057.83 1936.52 3058.5 Q1937.28 3059.16 1938.56 3059.16 Q1940.33 3059.16 1941.4 3057.91 Q1942.47 3056.65 1942.47 3054.57 L1942.47 3054.09 L1940.36 3054.09 M1944.6 3053.21 L1944.6 3060.61 L1942.47 3060.61 L1942.47 3058.64 Q1941.74 3059.82 1940.66 3060.39 Q1939.57 3060.94 1937.99 3060.94 Q1936 3060.94 1934.82 3059.83 Q1933.65 3058.71 1933.65 3056.84 Q1933.65 3054.65 1935.11 3053.54 Q1936.58 3052.43 1939.49 3052.43 L1942.47 3052.43 L1942.47 3052.22 Q1942.47 3050.75 1941.5 3049.95 Q1940.54 3049.14 1938.79 3049.14 Q1937.68 3049.14 1936.63 3049.4 Q1935.58 3049.67 1934.6 3050.2 L1934.6 3048.24 Q1935.77 3047.78 1936.87 3047.56 Q1937.97 3047.33 1939.01 3047.33 Q1941.83 3047.33 1943.21 3048.79 Q1944.6 3050.25 1944.6 3053.21 Z\" fill=\"#000000\" fill-rule=\"nonzero\" fill-opacity=\"1\" /><path clip-path=\"url(#clip460)\" d=\"M1951.1 3043.97 L1951.1 3047.65 L1955.48 3047.65 L1955.48 3049.3 L1951.1 3049.3 L1951.1 3056.34 Q1951.1 3057.92 1951.52 3058.37 Q1951.96 3058.83 1953.3 3058.83 L1955.48 3058.83 L1955.48 3060.61 L1953.3 3060.61 Q1950.83 3060.61 1949.89 3059.69 Q1948.96 3058.77 1948.96 3056.34 L1948.96 3049.3 L1947.39 3049.3 L1947.39 3047.65 L1948.96 3047.65 L1948.96 3043.97 L1951.1 3043.97 Z\" fill=\"#000000\" fill-rule=\"nonzero\" fill-opacity=\"1\" /><path clip-path=\"url(#clip460)\" d=\"M1958.99 3058.64 L1962.81 3058.64 L1962.81 3045.46 L1958.65 3046.29 L1958.65 3044.16 L1962.79 3043.33 L1965.12 3043.33 L1965.12 3058.64 L1968.94 3058.64 L1968.94 3060.61 L1958.99 3060.61 L1958.99 3058.64 Z\" fill=\"#000000\" fill-rule=\"nonzero\" fill-opacity=\"1\" /><path clip-path=\"url(#clip460)\" d=\"M1978.96 3051.04 Q1977.38 3051.04 1976.46 3052.11 Q1975.54 3053.19 1975.54 3055.06 Q1975.54 3056.93 1976.46 3058.02 Q1977.38 3059.09 1978.96 3059.09 Q1980.53 3059.09 1981.44 3058.02 Q1982.37 3056.93 1982.37 3055.06 Q1982.37 3053.19 1981.44 3052.11 Q1980.53 3051.04 1978.96 3051.04 M1983.6 3043.71 L1983.6 3045.84 Q1982.72 3045.42 1981.81 3045.2 Q1980.92 3044.98 1980.04 3044.98 Q1977.73 3044.98 1976.5 3046.55 Q1975.29 3048.11 1975.11 3051.27 Q1975.8 3050.26 1976.83 3049.73 Q1977.86 3049.18 1979.09 3049.18 Q1981.7 3049.18 1983.2 3050.77 Q1984.72 3052.34 1984.72 3055.06 Q1984.72 3057.73 1983.15 3059.34 Q1981.57 3060.94 1978.96 3060.94 Q1975.96 3060.94 1974.37 3058.65 Q1972.79 3056.35 1972.79 3051.99 Q1972.79 3047.89 1974.73 3045.46 Q1976.68 3043.02 1979.95 3043.02 Q1980.83 3043.02 1981.72 3043.19 Q1982.62 3043.36 1983.6 3043.71 Z\" fill=\"#000000\" fill-rule=\"nonzero\" fill-opacity=\"1\" /><path clip-path=\"url(#clip460)\" d=\"M1106.03 2777.47 L1115.96 2777.47 L1115.96 2779.44 L1108.37 2779.44 L1108.37 2784.53 L1115.22 2784.53 L1115.22 2786.5 L1108.37 2786.5 L1108.37 2794.75 L1106.03 2794.75 L1106.03 2777.47 Z\" fill=\"#000000\" fill-rule=\"nonzero\" fill-opacity=\"1\" /><path clip-path=\"url(#clip460)\" d=\"M1119.57 2776.74 L1121.7 2776.74 L1121.7 2794.75 L1119.57 2794.75 L1119.57 2776.74 Z\" fill=\"#000000\" fill-rule=\"nonzero\" fill-opacity=\"1\" /><path clip-path=\"url(#clip460)\" d=\"M1131.18 2783.28 Q1129.47 2783.28 1128.47 2784.62 Q1127.48 2785.95 1127.48 2788.28 Q1127.48 2790.6 1128.46 2791.95 Q1129.46 2793.28 1131.18 2793.28 Q1132.88 2793.28 1133.88 2791.94 Q1134.87 2790.59 1134.87 2788.28 Q1134.87 2785.97 1133.88 2784.63 Q1132.88 2783.28 1131.18 2783.28 M1131.18 2781.47 Q1133.96 2781.47 1135.54 2783.28 Q1137.13 2785.08 1137.13 2788.28 Q1137.13 2791.46 1135.54 2793.28 Q1133.96 2795.08 1131.18 2795.08 Q1128.39 2795.08 1126.8 2793.28 Q1125.23 2791.46 1125.23 2788.28 Q1125.23 2785.08 1126.8 2783.28 Q1128.39 2781.47 1131.18 2781.47 Z\" fill=\"#000000\" fill-rule=\"nonzero\" fill-opacity=\"1\" /><path clip-path=\"url(#clip460)\" d=\"M1146.55 2788.23 Q1143.97 2788.23 1142.97 2788.82 Q1141.98 2789.41 1141.98 2790.84 Q1141.98 2791.97 1142.72 2792.64 Q1143.47 2793.3 1144.76 2793.3 Q1146.53 2793.3 1147.59 2792.05 Q1148.67 2790.79 1148.67 2788.71 L1148.67 2788.23 L1146.55 2788.23 M1150.8 2787.35 L1150.8 2794.75 L1148.67 2794.75 L1148.67 2792.78 Q1147.94 2793.96 1146.85 2794.53 Q1145.76 2795.08 1144.19 2795.08 Q1142.2 2795.08 1141.02 2793.97 Q1139.85 2792.85 1139.85 2790.97 Q1139.85 2788.79 1141.31 2787.68 Q1142.78 2786.57 1145.68 2786.57 L1148.67 2786.57 L1148.67 2786.36 Q1148.67 2784.89 1147.7 2784.09 Q1146.74 2783.28 1144.99 2783.28 Q1143.88 2783.28 1142.82 2783.54 Q1141.77 2783.81 1140.8 2784.34 L1140.8 2782.38 Q1141.97 2781.92 1143.07 2781.7 Q1144.17 2781.47 1145.21 2781.47 Q1148.02 2781.47 1149.41 2782.93 Q1150.8 2784.39 1150.8 2787.35 Z\" fill=\"#000000\" fill-rule=\"nonzero\" fill-opacity=\"1\" /><path clip-path=\"url(#clip460)\" d=\"M1157.29 2778.1 L1157.29 2781.79 L1161.68 2781.79 L1161.68 2783.44 L1157.29 2783.44 L1157.29 2790.48 Q1157.29 2792.06 1157.72 2792.51 Q1158.16 2792.97 1159.49 2792.97 L1161.68 2792.97 L1161.68 2794.75 L1159.49 2794.75 Q1157.02 2794.75 1156.09 2793.83 Q1155.15 2792.91 1155.15 2790.48 L1155.15 2783.44 L1153.59 2783.44 L1153.59 2781.79 L1155.15 2781.79 L1155.15 2778.1 L1157.29 2778.1 Z\" fill=\"#000000\" fill-rule=\"nonzero\" fill-opacity=\"1\" /><path clip-path=\"url(#clip460)\" d=\"M1171.86 2785.43 Q1173.54 2785.79 1174.48 2786.92 Q1175.43 2788.06 1175.43 2789.72 Q1175.43 2792.28 1173.67 2793.68 Q1171.91 2795.08 1168.67 2795.08 Q1167.58 2795.08 1166.42 2794.86 Q1165.28 2794.66 1164.05 2794.23 L1164.05 2791.97 Q1165.02 2792.54 1166.18 2792.83 Q1167.34 2793.12 1168.6 2793.12 Q1170.8 2793.12 1171.94 2792.25 Q1173.1 2791.38 1173.1 2789.72 Q1173.1 2788.2 1172.02 2787.34 Q1170.96 2786.47 1169.05 2786.47 L1167.04 2786.47 L1167.04 2784.55 L1169.14 2784.55 Q1170.87 2784.55 1171.78 2783.87 Q1172.7 2783.17 1172.7 2781.88 Q1172.7 2780.55 1171.75 2779.84 Q1170.81 2779.12 1169.05 2779.12 Q1168.09 2779.12 1166.99 2779.33 Q1165.89 2779.54 1164.57 2779.98 L1164.57 2777.9 Q1165.9 2777.53 1167.06 2777.34 Q1168.23 2777.16 1169.26 2777.16 Q1171.92 2777.16 1173.47 2778.37 Q1175.02 2779.57 1175.02 2781.63 Q1175.02 2783.07 1174.2 2784.07 Q1173.38 2785.05 1171.86 2785.43 Z\" fill=\"#000000\" fill-rule=\"nonzero\" fill-opacity=\"1\" /><path clip-path=\"url(#clip460)\" d=\"M1181.87 2792.78 L1190.03 2792.78 L1190.03 2794.75 L1179.06 2794.75 L1179.06 2792.78 Q1180.39 2791.4 1182.68 2789.09 Q1184.99 2786.76 1185.58 2786.09 Q1186.7 2784.83 1187.14 2783.96 Q1187.59 2783.08 1187.59 2782.24 Q1187.59 2780.86 1186.62 2779.99 Q1185.66 2779.12 1184.11 2779.12 Q1183.01 2779.12 1181.78 2779.5 Q1180.57 2779.89 1179.18 2780.66 L1179.18 2778.3 Q1180.59 2777.73 1181.82 2777.44 Q1183.04 2777.16 1184.06 2777.16 Q1186.75 2777.16 1188.34 2778.5 Q1189.94 2779.84 1189.94 2782.09 Q1189.94 2783.15 1189.54 2784.11 Q1189.14 2785.06 1188.09 2786.36 Q1187.8 2786.69 1186.25 2788.3 Q1184.7 2789.9 1181.87 2792.78 Z\" fill=\"#000000\" fill-rule=\"nonzero\" fill-opacity=\"1\" /><path clip-path=\"url(#clip460)\" d=\"M2861.44 2837.87 L2871.37 2837.87 L2871.37 2839.83 L2863.77 2839.83 L2863.77 2844.93 L2870.63 2844.93 L2870.63 2846.89 L2863.77 2846.89 L2863.77 2855.15 L2861.44 2855.15 L2861.44 2837.87 Z\" fill=\"#000000\" fill-rule=\"nonzero\" fill-opacity=\"1\" /><path clip-path=\"url(#clip460)\" d=\"M2874.98 2837.14 L2877.11 2837.14 L2877.11 2855.15 L2874.98 2855.15 L2874.98 2837.14 Z\" fill=\"#000000\" fill-rule=\"nonzero\" fill-opacity=\"1\" /><path clip-path=\"url(#clip460)\" d=\"M2886.59 2843.68 Q2884.87 2843.68 2883.88 2845.02 Q2882.88 2846.35 2882.88 2848.68 Q2882.88 2851 2883.87 2852.35 Q2884.86 2853.68 2886.59 2853.68 Q2888.29 2853.68 2889.28 2852.33 Q2890.28 2850.99 2890.28 2848.68 Q2890.28 2846.37 2889.28 2845.03 Q2888.29 2843.68 2886.59 2843.68 M2886.59 2841.87 Q2889.36 2841.87 2890.95 2843.68 Q2892.54 2845.48 2892.54 2848.68 Q2892.54 2851.86 2890.95 2853.68 Q2889.36 2855.48 2886.59 2855.48 Q2883.8 2855.48 2882.21 2853.68 Q2880.64 2851.86 2880.64 2848.68 Q2880.64 2845.48 2882.21 2843.68 Q2883.8 2841.87 2886.59 2841.87 Z\" fill=\"#000000\" fill-rule=\"nonzero\" fill-opacity=\"1\" /><path clip-path=\"url(#clip460)\" d=\"M2901.96 2848.63 Q2899.38 2848.63 2898.38 2849.22 Q2897.39 2849.81 2897.39 2851.23 Q2897.39 2852.37 2898.13 2853.04 Q2898.88 2853.7 2900.16 2853.7 Q2901.93 2853.7 2903 2852.45 Q2904.08 2851.19 2904.08 2849.1 L2904.08 2848.63 L2901.96 2848.63 M2906.21 2847.75 L2906.21 2855.15 L2904.08 2855.15 L2904.08 2853.18 Q2903.35 2854.36 2902.26 2854.93 Q2901.17 2855.48 2899.6 2855.48 Q2897.61 2855.48 2896.43 2854.37 Q2895.26 2853.25 2895.26 2851.37 Q2895.26 2849.19 2896.71 2848.07 Q2898.18 2846.96 2901.09 2846.96 L2904.08 2846.96 L2904.08 2846.75 Q2904.08 2845.29 2903.1 2844.49 Q2902.14 2843.68 2900.39 2843.68 Q2899.28 2843.68 2898.23 2843.94 Q2897.18 2844.21 2896.21 2844.74 L2896.21 2842.77 Q2897.37 2842.32 2898.47 2842.1 Q2899.57 2841.87 2900.61 2841.87 Q2903.43 2841.87 2904.82 2843.33 Q2906.21 2844.79 2906.21 2847.75 Z\" fill=\"#000000\" fill-rule=\"nonzero\" fill-opacity=\"1\" /><path clip-path=\"url(#clip460)\" d=\"M2912.7 2838.5 L2912.7 2842.18 L2917.08 2842.18 L2917.08 2843.84 L2912.7 2843.84 L2912.7 2850.88 Q2912.7 2852.46 2913.13 2852.91 Q2913.57 2853.36 2914.9 2853.36 L2917.08 2853.36 L2917.08 2855.15 L2914.9 2855.15 Q2912.43 2855.15 2911.49 2854.23 Q2910.56 2853.31 2910.56 2850.88 L2910.56 2843.84 L2908.99 2843.84 L2908.99 2842.18 L2910.56 2842.18 L2910.56 2838.5 L2912.7 2838.5 Z\" fill=\"#000000\" fill-rule=\"nonzero\" fill-opacity=\"1\" /><path clip-path=\"url(#clip460)\" d=\"M2925.48 2845.57 Q2923.9 2845.57 2922.98 2846.65 Q2922.06 2847.73 2922.06 2849.6 Q2922.06 2851.47 2922.98 2852.55 Q2923.9 2853.63 2925.48 2853.63 Q2927.05 2853.63 2927.96 2852.55 Q2928.89 2851.47 2928.89 2849.6 Q2928.89 2847.73 2927.96 2846.65 Q2927.05 2845.57 2925.48 2845.57 M2930.12 2838.25 L2930.12 2840.38 Q2929.24 2839.96 2928.33 2839.74 Q2927.44 2839.52 2926.56 2839.52 Q2924.25 2839.52 2923.02 2841.08 Q2921.81 2842.65 2921.63 2845.81 Q2922.32 2844.8 2923.35 2844.27 Q2924.38 2843.72 2925.61 2843.72 Q2928.22 2843.72 2929.72 2845.31 Q2931.24 2846.88 2931.24 2849.6 Q2931.24 2852.26 2929.67 2853.87 Q2928.09 2855.48 2925.48 2855.48 Q2922.48 2855.48 2920.89 2853.19 Q2919.31 2850.89 2919.31 2846.52 Q2919.31 2842.43 2921.25 2840 Q2923.2 2837.55 2926.47 2837.55 Q2927.35 2837.55 2928.24 2837.73 Q2929.14 2837.9 2930.12 2838.25 Z\" fill=\"#000000\" fill-rule=\"nonzero\" fill-opacity=\"1\" /><path clip-path=\"url(#clip460)\" d=\"M2941.69 2839.9 L2935.79 2849.13 L2941.69 2849.13 L2941.69 2839.9 M2941.08 2837.87 L2944.02 2837.87 L2944.02 2849.13 L2946.48 2849.13 L2946.48 2851.07 L2944.02 2851.07 L2944.02 2855.15 L2941.69 2855.15 L2941.69 2851.07 L2933.89 2851.07 L2933.89 2848.82 L2941.08 2837.87 Z\" fill=\"#000000\" fill-rule=\"nonzero\" fill-opacity=\"1\" /></svg>\n"
      ]
     },
     "execution_count": 18,
     "metadata": {},
     "output_type": "execute_result"
    }
   ],
   "source": [
    "using GraphRecipes, Plots\n",
    "\n",
    "#pyplot(size=(800, 600))\n",
    "gr()\n",
    "theme(:default)\n",
    "\n",
    "plot(AbstractFloat, method = :tree, fontsize = 4)\n",
    "plot!(size = (1200, 900))"
   ]
  },
  {
   "cell_type": "markdown",
   "metadata": {},
   "source": [
    "### Double precision (Float64)\n",
    "\n",
    "<img src=\"./double-precision-numbers.png\" width=\"500\" align=\"center\"/>\n",
    "\n",
    "- Double precision (64 bits = 8 bytes) numbers are the dominant data type in scientific computing.\n",
    "      \n",
    "- In Julia, `Float64` is the type for double precision numbers.    \n",
    "\n",
    "- First bit is sign bit.  \n",
    "\n",
    "- $p=52$ significant bits.\n",
    "\n",
    "- 11 exponent bits: $e_{\\max}=1023$, $e_{\\min}=-1022$, **bias**=1023.  \n",
    "\n",
    "- $e_{\\text{min}}-1$ and $e_{\\text{max}}+1$ are reserved for special numbers.  \n",
    "\n",
    "- range of **magnitude**: $10^{\\pm 308}$ in decimal because $\\log_{10} (2^{1023}) \\approx 308$.  \n",
    "\n",
    "- **precision** to the $- \\log_{10}(2^{-52}) \\approx 15$ decimal point."
   ]
  },
  {
   "cell_type": "code",
   "execution_count": 19,
   "metadata": {
    "tags": []
   },
   "outputs": [
    {
     "name": "stdout",
     "output_type": "stream",
     "text": [
      "Double precision:\n",
      "bitstring(Float64(18)) = \"0100000000110010000000000000000000000000000000000000000000000000\"\n",
      "bitstring(Float64(-18)) = \"1100000000110010000000000000000000000000000000000000000000000000\"\n"
     ]
    }
   ],
   "source": [
    "println(\"Double precision:\")\n",
    "@show bitstring(Float64(18)) # 18 in double precision\n",
    "@show bitstring(Float64(-18)); # -18 in double precision"
   ]
  },
  {
   "cell_type": "markdown",
   "metadata": {},
   "source": [
    "### Single precision (Float32)\n",
    "\n",
    "<img src=\"./single-precision-numbers.png\" width=\"500\" align=\"center\"/>\n",
    "\n",
    "- In Julia, `Float32` is the type for single precision numbers.  \n",
    "\n",
    "- First bit is sign bit.  \n",
    "\n",
    "- $p=23$ significant bits.  \n",
    "\n",
    "- 8 exponent bits: $e_{\\max}=127$, $e_{\\min}=-126$, **bias**=127.  \n",
    "\n",
    "- $e_{\\text{min}}-1$ and $e_{\\text{max}}+1$ are reserved for special numbers.  \n",
    "\n",
    "- range of **magnitude**: $10^{\\pm 38}$ in decimal because $\\log_{10} (2^{127}) \\approx 38$.\n",
    "\n",
    "- **precision**: $- \\log_{10}(2^{-23}) \\approx 7$ decimal point.  "
   ]
  },
  {
   "cell_type": "code",
   "execution_count": 20,
   "metadata": {
    "tags": []
   },
   "outputs": [
    {
     "name": "stdout",
     "output_type": "stream",
     "text": [
      "Single precision:\n",
      "bitstring(Float32(18.0)) = \"01000001100100000000000000000000\"\n",
      "bitstring(Float32(-18.0)) = \"11000001100100000000000000000000\"\n"
     ]
    }
   ],
   "source": [
    "println(\"Single precision:\")\n",
    "@show bitstring(Float32(18.0)) # 18 in single precision\n",
    "@show bitstring(Float32(-18.0)); # -18 in single precision"
   ]
  },
  {
   "cell_type": "markdown",
   "metadata": {},
   "source": [
    "### Half precision (Float16)\n",
    "\n",
    "<img src=\"./half-precision-numbers.png\" width=\"200\" align=\"center\"/>\n",
    "    \n",
    "- In Julia, `Float16` is the type for half precision numbers.\n",
    "\n",
    "- First bit is sign bit.  \n",
    "\n",
    "- $p=10$ significant bits.  \n",
    "\n",
    "- 5 exponent bits: $e_{\\max}=15$, $e_{\\min}=-14$, bias=15.  \n",
    "\n",
    "- $e_{\\text{min}}-1$ and $e_{\\text{max}}+1$ are reserved for special numbers.  \n",
    "\n",
    "- range of **magnitude**: $10^{\\pm 4}$ in decimal because $\\log_{10} (2^{15}) \\approx 4$.  \n",
    "\n",
    "- **precision**: $\\log_{10}(2^{10}) \\approx 3$ decimal point.      "
   ]
  },
  {
   "cell_type": "code",
   "execution_count": 21,
   "metadata": {
    "tags": []
   },
   "outputs": [
    {
     "name": "stdout",
     "output_type": "stream",
     "text": [
      "Half precision:\n",
      "bitstring(Float16(18)) = \"0100110010000000\"\n",
      "bitstring(Float16(-18)) = \"1100110010000000\"\n"
     ]
    }
   ],
   "source": [
    "println(\"Half precision:\")\n",
    "@show bitstring(Float16(18)) # 18 in half precision\n",
    "@show bitstring(Float16(-18)); # -18 in half precision"
   ]
  },
  {
   "cell_type": "markdown",
   "metadata": {},
   "source": [
    "### Special floating-point numbers. \n",
    "\n",
    "- Exponent $e_{\\max}+1$ (exponent bits all 1) plus a zero mantissa means $\\pm \\infty$."
   ]
  },
  {
   "cell_type": "code",
   "execution_count": 22,
   "metadata": {
    "tags": []
   },
   "outputs": [
    {
     "name": "stdout",
     "output_type": "stream",
     "text": [
      "bitstring(Inf) = \"0111111111110000000000000000000000000000000000000000000000000000\"\n",
      "bitstring(-Inf) = \"1111111111110000000000000000000000000000000000000000000000000000\"\n"
     ]
    }
   ],
   "source": [
    "@show bitstring(Inf) # Inf in double precision\n",
    "@show bitstring(-Inf); # -Inf in double precision"
   ]
  },
  {
   "cell_type": "markdown",
   "metadata": {},
   "source": [
    "- Exponent $e_{\\max}+1$ (exponent bits all 1) plus a nonzero mantissa means `NaN`. `NaN` could be produced from `0 / 0`, `0 * Inf`, ...  \n",
    "\n",
    "- In general `NaN ≠ NaN` bitwise. Test whether a number is `NaN` by `isnan` function.  "
   ]
  },
  {
   "cell_type": "code",
   "execution_count": 23,
   "metadata": {
    "tags": []
   },
   "outputs": [
    {
     "name": "stdout",
     "output_type": "stream",
     "text": [
      "bitstring(0 / 0) = \"0111111111111000000000000000000000000000000000000000000000000000\"\n",
      "bitstring(0Inf) = \"0111111111111000000000000000000000000000000000000000000000000000\"\n"
     ]
    }
   ],
   "source": [
    "@show bitstring(0 / 0) # NaN\n",
    "@show bitstring(0 * Inf); # NaN"
   ]
  },
  {
   "cell_type": "markdown",
   "metadata": {},
   "source": [
    "- Exponent $e_{\\min}-1$ (exponent bits all 0) with a zero mantissa represents the real number 0.  "
   ]
  },
  {
   "cell_type": "code",
   "execution_count": 24,
   "metadata": {
    "tags": []
   },
   "outputs": [
    {
     "name": "stdout",
     "output_type": "stream",
     "text": [
      "bitstring(0.0) = \"0000000000000000000000000000000000000000000000000000000000000000\"\n"
     ]
    }
   ],
   "source": [
    "@show bitstring(0.0); # 0 in double precision "
   ]
  },
  {
   "cell_type": "markdown",
   "metadata": {},
   "source": [
    "- Exponent $e_{\\min}-1$ (exponent bits all 0) with a nonzero mantissa are for numbers less than $b^{e_{\\min}}$.  \n",
    "    Numbers are _denormalized_ in the range $(0,b^{e_{\\min}})$ -- **graceful underflow**. "
   ]
  },
  {
   "cell_type": "code",
   "execution_count": 25,
   "metadata": {
    "tags": []
   },
   "outputs": [
    {
     "name": "stdout",
     "output_type": "stream",
     "text": [
      "nextfloat(0.0) = 5.0e-324\n",
      "bitstring(nextfloat(0.0)) = \"0000000000000000000000000000000000000000000000000000000000000001\"\n"
     ]
    }
   ],
   "source": [
    "@show nextfloat(0.0) # next representable number\n",
    "@show bitstring(nextfloat(0.0)); # denormalized"
   ]
  },
  {
   "cell_type": "markdown",
   "metadata": {},
   "source": [
    "### Rounding\n",
    "\n",
    "* Rounding is necessary whenever a number has more than $p$ significand bits. Most computer systems use the default IEEE 754 _round to nearest_ mode (also called _ties to even_ mode). Julia offers several [rounding modes](https://docs.julialang.org/en/v1/base/math/#Base.Rounding.RoundingMode), the default being [`RoundNearest`](https://docs.julialang.org/en/v1/base/math/#Base.Rounding.RoundNearest). For example, the number 0.1 in decimal system cannot be represented accurately as a floating point number:\n",
    "$$ 0.1 = 1.10011001... \\times 2^{-4} $$"
   ]
  },
  {
   "cell_type": "code",
   "execution_count": 26,
   "metadata": {
    "tags": []
   },
   "outputs": [
    {
     "name": "stdout",
     "output_type": "stream",
     "text": [
      "bitstring(Float16(0.1)) = \"0010111001100110\"\n",
      "bitstring(0.1f0) = \"00111101110011001100110011001101\"\n",
      "bitstring(0.1) = \"0011111110111001100110011001100110011001100110011001100110011010\"\n"
     ]
    }
   ],
   "source": [
    "# half precision Float16, ...110(011...) rounds down to 110\n",
    "@show bitstring(Float16(0.1))\n",
    "# single precision Float32, ...100(110...) rounds up to 101\n",
    "@show bitstring(0.1f0) \n",
    "# double precision Float64, ...001(100..) rounds up to 010\n",
    "@show bitstring(0.1);"
   ]
  },
  {
   "cell_type": "markdown",
   "metadata": {},
   "source": [
    "For a number with mantissa ending with ...001(100..., all 0 digits after), it's a tie and will be rounded to ...010 to make the mantissa even."
   ]
  },
  {
   "cell_type": "markdown",
   "metadata": {},
   "source": [
    "### Summary\n",
    "\n",
    "- **Double precision**: range $\\pm 10^{\\pm 308}$ with precision up to 16 decimal digits.  \n",
    "\n",
    "- **Single precision**: range $\\pm 10^{\\pm 38}$ with precision up to 7 decimal digits.\n",
    "\n",
    "- **Half precision**: range $\\pm 10^{\\pm 4}$ with precision up to 3 decimal digits.\n",
    "\n",
    "- The floating-point numbers do not occur uniformly over the real number line. Each magnitude has same number of representible numbers\n",
    "\n",
    "    <img src=\"http://www.volkerschatz.com/science/pics/fltscale-wh.png\" width=\"700\" align=\"center\"/>\n",
    "        \n",
    "- **Machine epsilons** are the spacings of numbers around 1: \n",
    "    $$\\epsilon_{\\min}=b^{-p}, \\quad  \\epsilon_{\\max} = b^{1-p}.$$\n",
    "    \n",
    "    <img src=\"./machine_epsilons.png\" width=\"500\" align=\"center\"/>"
   ]
  },
  {
   "cell_type": "code",
   "execution_count": 27,
   "metadata": {
    "tags": []
   },
   "outputs": [
    {
     "name": "stdout",
     "output_type": "stream",
     "text": [
      "eps(Float32) = 1.1920929f-7\n",
      "eps(Float64) = 2.220446049250313e-16\n",
      "eps(100.0) = 1.4210854715202004e-14\n",
      "eps(0.0) = 5.0e-324\n",
      "x = 1.25f0 = 1.25f0\n",
      "(prevfloat(x), x, nextfloat(x)) = (1.2499999f0, 1.25f0, 1.2500001f0)\n",
      "(bitstring(prevfloat(x)), bitstring(x), bitstring(nextfloat(x))) = (\"00111111100111111111111111111111\", \"00111111101000000000000000000000\", \"00111111101000000000000000000001\")\n"
     ]
    }
   ],
   "source": [
    "@show eps(Float32)  # machine epsilon for a floating point type\n",
    "@show eps(Float64)  # same as eps()\n",
    "# eps(x) is the spacing after x\n",
    "@show eps(100.0)\n",
    "@show eps(0.0) # grace underflow\n",
    "# nextfloat(x) and prevfloat(x) give the neighbors of x\n",
    "@show x = 1.25f0\n",
    "@show prevfloat(x), x, nextfloat(x)\n",
    "@show bitstring(prevfloat(x)), bitstring(x), bitstring(nextfloat(x));"
   ]
  },
  {
   "cell_type": "markdown",
   "metadata": {},
   "source": [
    "* In R, the variable `.Machine` contains numerical characteristics of the machine."
   ]
  },
  {
   "cell_type": "code",
   "execution_count": 28,
   "metadata": {
    "tags": []
   },
   "outputs": [
    {
     "data": {
      "text/plain": [
       "RObject{VecSxp}\n",
       "$double.eps\n",
       "[1] 2.220446e-16\n",
       "\n",
       "$double.neg.eps\n",
       "[1] 1.110223e-16\n",
       "\n",
       "$double.xmin\n",
       "[1] 2.225074e-308\n",
       "\n",
       "$double.xmax\n",
       "[1] 1.797693e+308\n",
       "\n",
       "$double.base\n",
       "[1] 2\n",
       "\n",
       "$double.digits\n",
       "[1] 53\n",
       "\n",
       "$double.rounding\n",
       "[1] 5\n",
       "\n",
       "$double.guard\n",
       "[1] 0\n",
       "\n",
       "$double.ulp.digits\n",
       "[1] -52\n",
       "\n",
       "$double.neg.ulp.digits\n",
       "[1] -53\n",
       "\n",
       "$double.exponent\n",
       "[1] 11\n",
       "\n",
       "$double.min.exp\n",
       "[1] -1022\n",
       "\n",
       "$double.max.exp\n",
       "[1] 1024\n",
       "\n",
       "$integer.max\n",
       "[1] 2147483647\n",
       "\n",
       "$sizeof.long\n",
       "[1] 8\n",
       "\n",
       "$sizeof.longlong\n",
       "[1] 8\n",
       "\n",
       "$sizeof.longdouble\n",
       "[1] 8\n",
       "\n",
       "$sizeof.pointer\n",
       "[1] 8\n",
       "\n"
      ]
     },
     "execution_count": 28,
     "metadata": {},
     "output_type": "execute_result"
    }
   ],
   "source": [
    "R\"\"\"\n",
    ".Machine\n",
    "\"\"\""
   ]
  },
  {
   "cell_type": "markdown",
   "metadata": {},
   "source": [
    "* Julia provides `Float16` (half precision), `Float32` (single precision), `Float64` (double precision), and `BigFloat` (arbitrary precision)."
   ]
  },
  {
   "cell_type": "markdown",
   "metadata": {},
   "source": [
    "### Overflow and underflow of floating-point number\n",
    "\n",
    "* For double precision, the range is $\\pm 10^{\\pm 308}$. In most situations, underflow (magnitude of result is less than $10^{-308}$) is preferred over overflow (magnitude of result is larger than $10^{308}$). Overflow produces $\\pm \\inf$. Underflow yields zeros or denormalized numbers. \n",
    "\n",
    "* E.g., the logit link function is\n",
    "$$p(x) = \\frac{\\exp (x^T \\beta)}{1 + \\exp (x^T \\beta)} = \\frac{1}{1+\\exp(- x^T \\beta)}.$$\n",
    "The former expression can easily lead to `Inf / Inf = NaN`, while the latter expression leads to graceful underflow.\n",
    "\n",
    "* `floatmin` and `floatmax` functions gives largest and smallest _finite_ number represented by a type."
   ]
  },
  {
   "cell_type": "code",
   "execution_count": 29,
   "metadata": {
    "tags": []
   },
   "outputs": [
    {
     "name": "stdout",
     "output_type": "stream",
     "text": [
      "Float16\t6.104e-5\t6.55e4\t-Inf\tInf\t0.000977\n",
      "Float32\t1.1754944e-38\t3.4028235e38\t-Inf\tInf\t1.1920929e-7\n",
      "Float64\t2.2250738585072014e-308\t1.7976931348623157e308\t-Inf\tInf\t2.220446049250313e-16\n"
     ]
    }
   ],
   "source": [
    "for T in [Float16, Float32, Float64]\n",
    "    println(\n",
    "        T, '\\t', \n",
    "        floatmin(T), '\\t', \n",
    "        floatmax(T), '\\t', \n",
    "        typemin(T),  '\\t', \n",
    "        typemax(T), '\\t', \n",
    "        eps(T)\n",
    "    )\n",
    "end"
   ]
  },
  {
   "cell_type": "markdown",
   "metadata": {},
   "source": [
    "### Arbitrary precision\n",
    "\n",
    "* `BigFloat` in Julia offers arbitrary precision."
   ]
  },
  {
   "cell_type": "code",
   "execution_count": 30,
   "metadata": {
    "tags": []
   },
   "outputs": [
    {
     "name": "stdout",
     "output_type": "stream",
     "text": [
      "precision(BigFloat) = 256\n",
      "floatmin(BigFloat) = 8.50969131174083613912978790962048280567755996982969624908264897850135431080301e-1388255822130839284\n",
      "floatmax(BigFloat) = 5.875653789111587590936911998878442589938516392745498308333779606469323584389875e+1388255822130839282\n"
     ]
    }
   ],
   "source": [
    "@show precision(BigFloat) # default precision (how many bits) of BigFloat\n",
    "@show floatmin(BigFloat)\n",
    "@show floatmax(BigFloat);"
   ]
  },
  {
   "cell_type": "code",
   "execution_count": 31,
   "metadata": {
    "tags": []
   },
   "outputs": [
    {
     "name": "stdout",
     "output_type": "stream",
     "text": [
      "BigFloat(π) = 3.141592653589793238462643383279502884197169399375105820974944592307816406286198\n",
      "BigFloat(π) = 3.141592653589793238462643383279502884197169399375105820974944592307816406286208998628034825342117067982148086513282306647093844609550582231725359408128481117450284102701938521105559644622948954930381964428810975665933446128475648233786783165271201909145648566923460348610454326648213393607260249141273724586997\n"
     ]
    }
   ],
   "source": [
    "@show BigFloat(π); # default precision for BigFloat is 256 bits\n",
    "# set precision to 1024 bits\n",
    "setprecision(BigFloat, 1024) do \n",
    "    @show BigFloat(π)\n",
    "end;"
   ]
  },
  {
   "cell_type": "markdown",
   "metadata": {},
   "source": [
    "## Catastrophic cancellation\n",
    "\n",
    "* **Scenario 1**: Addition or subtraction of two numbers of widely different magnitudes: $a+b$ or $a-b$ where $a \\gg b$ or $a \\ll b$. We loose the precision in the number of smaller magnitude. Consider \n",
    "$$\\begin{eqnarray*}\n",
    "    a &=& x.xxx ... \\times 2^{30} \\\\  \n",
    "    b &=& y.yyy... \\times 2^{-30}\n",
    "\\end{eqnarray*}$$\n",
    "What happens when computer calculates $a+b$? We get $a+b=a$!"
   ]
  },
  {
   "cell_type": "code",
   "execution_count": 32,
   "metadata": {
    "tags": []
   },
   "outputs": [
    {
     "name": "stdout",
     "output_type": "stream",
     "text": [
      "a = 2.0 ^ 30 = 1.073741824e9\n",
      "b = 2.0 ^ -30 = 9.313225746154785e-10\n",
      "a + b == a = true\n"
     ]
    },
    {
     "data": {
      "text/plain": [
       "true"
      ]
     },
     "execution_count": 32,
     "metadata": {},
     "output_type": "execute_result"
    }
   ],
   "source": [
    "@show a = 2.0^30\n",
    "@show b = 2.0^-30\n",
    "@show a + b == a"
   ]
  },
  {
   "cell_type": "markdown",
   "metadata": {},
   "source": [
    "* **Scenario 2**: Subtraction of two nearly equal numbers eliminates significant digits.  $a-b$ where $a \\approx b$. Consider \n",
    "$$\\begin{eqnarray*}\n",
    "    a &=& x.xxxxxxxxxx1ssss  \\\\\n",
    "    b &=& x.xxxxxxxxxx0tttt\n",
    "\\end{eqnarray*}$$\n",
    "The result is $1.vvvvu...u$ where $u$ are unassigned digits."
   ]
  },
  {
   "cell_type": "code",
   "execution_count": 33,
   "metadata": {
    "tags": []
   },
   "outputs": [
    {
     "name": "stdout",
     "output_type": "stream",
     "text": [
      "bitstring(a) = \"00111111100111100000011001010001\"\n",
      "bitstring(b) = \"00111111100111100000011001010000\"\n",
      "a - b = 1.1920929f-7\n"
     ]
    },
    {
     "data": {
      "text/plain": [
       "1.1920929f-7"
      ]
     },
     "execution_count": 33,
     "metadata": {},
     "output_type": "execute_result"
    }
   ],
   "source": [
    "a = 1.2345678f0 # rounding\n",
    "@show bitstring(a) # rounding\n",
    "b = 1.2345677f0\n",
    "@show bitstring(b)\n",
    "# correct result should be 1e-7\n",
    "# we see big error due to catastrophic cancellation\n",
    "@show a - b "
   ]
  },
  {
   "cell_type": "markdown",
   "metadata": {},
   "source": [
    "* Implications for numerical computation\n",
    "    - Rule 1: add small numbers together before adding larger ones  \n",
    "    - Rule 2: add numbers of like magnitude together (paring). When all numbers are of same sign and similar magnitude, add in pairs so each stage the summands are of similar magnitude  \n",
    "    - Rule 3: avoid substraction of two numbers that are nearly equal\n",
    "\n",
    "### Algebraic laws\n",
    "\n",
    "Floating-point numbers may violate many algebraic laws we are familiar with, such associative and distributive laws. See Homework 1 problems.\n",
    "\n",
    "## Further reading\n",
    "\n",
    "* Textbook treatment, e.g., Chapter II.2 of [Computational Statistics](http://ucla.worldcat.org/title/computational-statistics/oclc/437345409&referer=brief_results) by James Gentle (2010).\n",
    "\n",
    "* [What every computer scientist should know about floating-point arithmetic](https://ucla-biostat-257.github.io/2023spring/readings/Goldberg91FloatingPoint.pdf) by David Goldberg (1991)."
   ]
  }
 ],
 "metadata": {
  "hide_input": false,
  "jupytext": {
   "formats": "ipynb,qmd"
  },
  "kernelspec": {
   "display_name": "Julia 1.8.5",
   "language": "julia",
   "name": "julia-1.8"
  },
  "language_info": {
   "file_extension": ".jl",
   "mimetype": "application/julia",
   "name": "julia",
   "version": "1.8.5"
  },
  "toc": {
   "colors": {
    "hover_highlight": "#DAA520",
    "running_highlight": "#FF0000",
    "selected_highlight": "#FFD700"
   },
   "moveMenuLeft": true,
   "nav_menu": {
    "height": "250px",
    "width": "252px"
   },
   "navigate_menu": true,
   "number_sections": true,
   "sideBar": true,
   "skip_h1_title": true,
   "threshold": 4,
   "toc_cell": true,
   "toc_position": {
    "height": "433.6666564941406px",
    "left": "0px",
    "right": "831.3333129882812px",
    "top": "111.33333587646484px",
    "width": "250px"
   },
   "toc_section_display": "block",
   "toc_window_display": true,
   "widenNotebook": false
  },
  "toc-autonumbering": true
 },
 "nbformat": 4,
 "nbformat_minor": 4
}
