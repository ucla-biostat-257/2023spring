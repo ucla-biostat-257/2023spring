{
 "cells": [
  {
   "cell_type": "raw",
   "metadata": {},
   "source": [
    "---\n",
    "title: Computer Arithmetics\n",
    "subtitle: Biostat/Biomath M257\n",
    "author: Dr. Hua Zhou @ UCLA\n",
    "date: today\n",
    "format:\n",
    "  html:\n",
    "    theme: cosmo\n",
    "    embed-resources: true\n",
    "    number-sections: true\n",
    "    toc: true\n",
    "    toc-depth: 4\n",
    "    toc-location: left\n",
    "    code-fold: false\n",
    "---"
   ]
  },
  {
   "cell_type": "markdown",
   "metadata": {},
   "source": [
    "System information (for reproducibility):"
   ]
  },
  {
   "cell_type": "code",
   "execution_count": 1,
   "metadata": {
    "tags": []
   },
   "outputs": [
    {
     "name": "stdout",
     "output_type": "stream",
     "text": [
      "Julia Version 1.8.5\n",
      "Commit 17cfb8e65ea (2023-01-08 06:45 UTC)\n",
      "Platform Info:\n",
      "  OS: macOS (arm64-apple-darwin21.5.0)\n",
      "  CPU: 12 × Apple M2 Max\n",
      "  WORD_SIZE: 64\n",
      "  LIBM: libopenlibm\n",
      "  LLVM: libLLVM-13.0.1 (ORCJIT, apple-m1)\n",
      "  Threads: 1 on 8 virtual cores\n",
      "Environment:\n",
      "  JULIA_EDITOR = code\n"
     ]
    }
   ],
   "source": [
    "versioninfo()"
   ]
  },
  {
   "cell_type": "markdown",
   "metadata": {},
   "source": [
    "Load packages:"
   ]
  },
  {
   "cell_type": "code",
   "execution_count": 2,
   "metadata": {
    "tags": []
   },
   "outputs": [
    {
     "name": "stderr",
     "output_type": "stream",
     "text": [
      "\u001b[32m\u001b[1m  Activating\u001b[22m\u001b[39m project at `~/Documents/github.com/ucla-biostat-257/2023spring/slides/06-arith`\n"
     ]
    },
    {
     "name": "stdout",
     "output_type": "stream",
     "text": [
      "\u001b[32m\u001b[1mStatus\u001b[22m\u001b[39m `~/Documents/github.com/ucla-biostat-257/2023spring/slides/06-arith/Project.toml`\n",
      " \u001b[90m [bd48cda9] \u001b[39mGraphRecipes v0.5.12\n",
      " \u001b[90m [91a5bcdd] \u001b[39mPlots v1.38.8\n",
      " \u001b[90m [6f49c342] \u001b[39mRCall v0.13.14\n"
     ]
    }
   ],
   "source": [
    "using Pkg\n",
    "\n",
    "Pkg.activate(pwd())\n",
    "Pkg.instantiate()\n",
    "Pkg.status()"
   ]
  },
  {
   "cell_type": "markdown",
   "metadata": {},
   "source": [
    "## Units of computer storage\n",
    "\n",
    "* `bit` = `binary` + `digit` (coined by statistician [John Tukey](https://en.wikipedia.org/wiki/Bit#History)).  \n",
    "* `byte` = 8 bits.  \n",
    "* KB = kilobyte = $10^3$ bytes.  \n",
    "* MB = megabytes = $10^6$ bytes.  \n",
    "* GB = gigabytes = $10^9$ bytes. Typical RAM size.  \n",
    "* TB = terabytes = $10^{12}$ bytes. Typical hard drive size. Size of NYSE each trading session.    \n",
    "* PB = petabytes = $10^{15}$ bytes.  \n",
    "* EB = exabytes = $10^{18}$ bytes. Size of all healthcare data in 2011 is ~150 EB.    \n",
    "* ZB = zetabytes = $10^{21}$ bytes. \n",
    "\n",
    "Difference between `KB` and `KiB`: `1 KB = 1000 bytes` but `1 KiB = 1024 bytes`. \n",
    "\n",
    "Difference between `TB` and `TiB`: `1 TB = 1000 GB` but `1 TiB = 1024 GB`. "
   ]
  },
  {
   "cell_type": "markdown",
   "metadata": {},
   "source": [
    "Julia function `Base.summarysize` shows the amount of memory (in bytes) used by an object."
   ]
  },
  {
   "cell_type": "code",
   "execution_count": 3,
   "metadata": {
    "tags": []
   },
   "outputs": [
    {
     "data": {
      "text/plain": [
       "80040"
      ]
     },
     "execution_count": 3,
     "metadata": {},
     "output_type": "execute_result"
    }
   ],
   "source": [
    "x = rand(100, 100)\n",
    "Base.summarysize(x)"
   ]
  },
  {
   "cell_type": "markdown",
   "metadata": {},
   "source": [
    "`varinfo()` function prints all variables in workspace and their sizes."
   ]
  },
  {
   "cell_type": "code",
   "execution_count": 4,
   "metadata": {
    "tags": []
   },
   "outputs": [
    {
     "data": {
      "text/latex": [
       "\\begin{tabular}\n",
       "{l | r | l}\n",
       "name & size & summary \\\\\n",
       "\\hline\n",
       "Base &  & Module \\\\\n",
       "Core &  & Module \\\\\n",
       "Main &  & Module \\\\\n",
       "x & 78.164 KiB & 100×100 Matrix\\{Float64\\} \\\\\n",
       "\\end{tabular}\n"
      ],
      "text/markdown": [
       "| name |       size | summary                 |\n",
       "|:---- | ----------:|:----------------------- |\n",
       "| Base |            | Module                  |\n",
       "| Core |            | Module                  |\n",
       "| Main |            | Module                  |\n",
       "| x    | 78.164 KiB | 100×100 Matrix{Float64} |\n"
      ],
      "text/plain": [
       "  name       size summary                \n",
       "  –––– –––––––––– –––––––––––––––––––––––\n",
       "  Base            Module                 \n",
       "  Core            Module                 \n",
       "  Main            Module                 \n",
       "  x    78.164 KiB 100×100 Matrix{Float64}"
      ]
     },
     "execution_count": 4,
     "metadata": {},
     "output_type": "execute_result"
    }
   ],
   "source": [
    "varinfo() # similar to Matlab whos()"
   ]
  },
  {
   "cell_type": "markdown",
   "metadata": {},
   "source": [
    "## Storage of Characters\n",
    "\n",
    "* Plain text files are stored in the form of characters: `.jl`, `.r`, `.c`, `.cpp`, `.ipynb`, `.html`, `.tex`, ...  \n",
    "* ASCII (American Code for Information Interchange): 7 bits, only $2^7=128$ characters.  "
   ]
  },
  {
   "cell_type": "code",
   "execution_count": 5,
   "metadata": {
    "tags": []
   },
   "outputs": [
    {
     "data": {
      "text/plain": [
       "128×2 Matrix{Any}:\n",
       "   0  '\\0'\n",
       "   1  '\\x01'\n",
       "   2  '\\x02'\n",
       "   3  '\\x03'\n",
       "   4  '\\x04'\n",
       "   5  '\\x05'\n",
       "   6  '\\x06'\n",
       "   7  '\\a'\n",
       "   8  '\\b'\n",
       "   9  '\\t'\n",
       "  10  '\\n'\n",
       "  11  '\\v'\n",
       "  12  '\\f'\n",
       "   ⋮  \n",
       " 116  't'\n",
       " 117  'u'\n",
       " 118  'v'\n",
       " 119  'w'\n",
       " 120  'x'\n",
       " 121  'y'\n",
       " 122  'z'\n",
       " 123  '{'\n",
       " 124  '|'\n",
       " 125  '}'\n",
       " 126  '~'\n",
       " 127  '\\x7f'"
      ]
     },
     "execution_count": 5,
     "metadata": {},
     "output_type": "execute_result"
    }
   ],
   "source": [
    "# integers 0, 1, ..., 127 and corresponding ascii character\n",
    "[0:127 Char.(0:127)]"
   ]
  },
  {
   "cell_type": "markdown",
   "metadata": {},
   "source": [
    "* Extended ASCII: 8 bits, $2^8=256$ characters.  "
   ]
  },
  {
   "cell_type": "code",
   "execution_count": 6,
   "metadata": {
    "tags": []
   },
   "outputs": [
    {
     "data": {
      "text/plain": [
       "128×2 Matrix{Any}:\n",
       " 128  '\\u80'\n",
       " 129  '\\u81'\n",
       " 130  '\\u82'\n",
       " 131  '\\u83'\n",
       " 132  '\\u84'\n",
       " 133  '\\u85'\n",
       " 134  '\\u86'\n",
       " 135  '\\u87'\n",
       " 136  '\\u88'\n",
       " 137  '\\u89'\n",
       " 138  '\\u8a'\n",
       " 139  '\\u8b'\n",
       " 140  '\\u8c'\n",
       "   ⋮  \n",
       " 244  'ô'\n",
       " 245  'õ'\n",
       " 246  'ö'\n",
       " 247  '÷'\n",
       " 248  'ø'\n",
       " 249  'ù'\n",
       " 250  'ú'\n",
       " 251  'û'\n",
       " 252  'ü'\n",
       " 253  'ý'\n",
       " 254  'þ'\n",
       " 255  'ÿ'"
      ]
     },
     "execution_count": 6,
     "metadata": {},
     "output_type": "execute_result"
    }
   ],
   "source": [
    "# integers 128, 129, ..., 255 and corresponding extended ascii character\n",
    "# show(STDOUT, \"text/plain\", [128:255 Char.(128:255)])\n",
    "[128:255 Char.(128:255)]"
   ]
  },
  {
   "cell_type": "markdown",
   "metadata": {},
   "source": [
    "* Unicode: UTF-8, UTF-16 and UTF-32 support many more characters including foreign characters; last 7 digits conform to ASCII. \n",
    "\n",
    "* [UTF-8](https://en.wikipedia.org/wiki/UTF-8) is the current dominant character encoding on internet.  \n",
    "\n",
    "<img src=\"https://upload.wikimedia.org/wikipedia/commons/9/97/Unicode_Web_growth.svg\" width=\"500\" align=\"center\"/>\n",
    "\n",
    "* Julia supports the full range of UTF-8 characters. You can type many Unicode math symbols by typing the backslashed LaTeX symbol name followed by tab. "
   ]
  },
  {
   "cell_type": "code",
   "execution_count": 7,
   "metadata": {
    "tags": []
   },
   "outputs": [
    {
     "data": {
      "text/plain": [
       "0.0"
      ]
     },
     "execution_count": 7,
     "metadata": {},
     "output_type": "execute_result"
    }
   ],
   "source": [
    "# \\beta-<tab>\n",
    "β = 0.0\n",
    "# \\beta-<tab>-\\hat-<tab>\n",
    "β̂ = 0.0"
   ]
  },
  {
   "cell_type": "markdown",
   "metadata": {},
   "source": [
    "* For a table of unicode symbols that can be entered via tab completion of LaTeX-like abbreviations: <https://docs.julialang.org/en/v1.1/manual/unicode-input/#Unicode-Input-1>\n",
    "\n",
    "## Integers: fixed-point number system\n",
    "\n",
    "* Fixed-point number system is a computer model for integers $\\mathbb{Z}$. \n",
    "\n",
    "* The number of bits and method of representing negative numbers vary from system to system. \n",
    "    - The `integer` type in R has $M=32$ or 64 bits, determined by machine word size. \n",
    "    - Matlab has `(u)int8`, `(u)int16`, `(u)int32`, `(u)int64`.  \n",
    "\n",
    "* Julia has even more integer types. Using `Plots.jl` and `GraphRecipes.jl` packages, we can [visualize the type tree](http://www.breloff.com/Graphs/) under `Integer`\n",
    "    - Storage for a `Signed` or `Unsigned` integer can be $M = 8, 16, 32, 64$ or 128 bits.  \n",
    "    - GraphRecipes.jl package has a convenience function for plotting the type hiearchy."
   ]
  },
  {
   "cell_type": "code",
   "execution_count": 8,
   "metadata": {
    "tags": []
   },
   "outputs": [
    {
     "data": {
      "image/svg+xml": [
       "<?xml version=\"1.0\" encoding=\"utf-8\"?>\n",
       "<svg xmlns=\"http://www.w3.org/2000/svg\" xmlns:xlink=\"http://www.w3.org/1999/xlink\" width=\"600\" height=\"400\" viewBox=\"0 0 2400 1600\">\n",
       "<defs>\n",
       "  <clipPath id=\"clip040\">\n",
       "    <rect x=\"0\" y=\"0\" width=\"2400\" height=\"1600\"/>\n",
       "  </clipPath>\n",
       "</defs>\n",
       "<path clip-path=\"url(#clip040)\" d=\"M0 1600 L2400 1600 L2400 0 L0 0  Z\" fill=\"#ffffff\" fill-rule=\"evenodd\" fill-opacity=\"1\"/>\n",
       "<defs>\n",
       "  <clipPath id=\"clip041\">\n",
       "    <rect x=\"480\" y=\"0\" width=\"1681\" height=\"1600\"/>\n",
       "  </clipPath>\n",
       "</defs>\n",
       "<path clip-path=\"url(#clip040)\" d=\"M447.244 1552.76 L1952.76 1552.76 L1952.76 47.2441 L447.244 47.2441  Z\" fill=\"#ffffff\" fill-rule=\"evenodd\" fill-opacity=\"1\"/>\n",
       "<defs>\n",
       "  <clipPath id=\"clip042\">\n",
       "    <rect x=\"447\" y=\"47\" width=\"1507\" height=\"1507\"/>\n",
       "  </clipPath>\n",
       "</defs>\n",
       "<polyline clip-path=\"url(#clip042)\" style=\"stroke:#000000; stroke-linecap:round; stroke-linejoin:round; stroke-width:4; stroke-opacity:1; fill:none\" points=\"1136.22,262.317 1136.54,268.108 1137.47,273.863 1138.96,279.586 1140.97,285.28 1143.45,290.947 1146.36,296.589 1149.66,302.209 1153.29,307.81 1157.21,313.394 1161.39,318.964 1165.76,324.522 1170.3,330.072 1174.94,335.615 1179.66,341.153 1184.4,346.691 1189.11,352.23 1193.76,357.773 1198.29,363.322 1202.67,368.881 1206.84,374.451 1210.77,380.035 1214.4,385.636 1217.69,391.256 1220.61,396.898 1223.09,402.565 1225.1,408.258 1226.59,413.982 1227.52,419.737 1227.84,425.527 \"/>\n",
       "<polyline clip-path=\"url(#clip042)\" style=\"stroke:#000000; stroke-linecap:round; stroke-linejoin:round; stroke-width:4; stroke-opacity:1; fill:none\" points=\"1227.84,425.527 1227.78,432.599 1227.62,439.816 1227.36,447.168 1227,454.644 1226.57,462.234 1226.06,469.927 1225.48,477.711 1224.84,485.577 1224.15,493.512 1223.42,501.507 1222.65,509.551 1221.85,517.633 1221.03,525.741 1220.2,533.866 1219.37,541.996 1218.54,550.121 1217.73,558.23 1216.93,566.311 1216.16,574.355 1215.43,582.35 1214.74,590.286 1214.1,598.151 1213.52,605.936 1213.01,613.628 1212.57,621.218 1212.22,628.694 1211.96,636.047 1211.8,643.264 1211.74,650.335 \"/>\n",
       "<polyline clip-path=\"url(#clip042)\" style=\"stroke:#000000; stroke-linecap:round; stroke-linejoin:round; stroke-width:4; stroke-opacity:1; fill:none\" points=\"1211.74,650.335 1211.73,656.483 1211.7,662.76 1211.64,669.158 1211.57,675.667 1211.49,682.277 1211.39,688.978 1211.27,695.761 1211.15,702.617 1211.01,709.535 1210.87,716.505 1210.71,723.519 1210.56,730.567 1210.4,737.639 1210.23,744.725 1210.07,751.817 1209.91,758.903 1209.74,765.975 1209.59,773.023 1209.44,780.037 1209.29,787.008 1209.15,793.925 1209.03,800.781 1208.91,807.564 1208.81,814.265 1208.73,820.875 1208.66,827.384 1208.61,833.782 1208.57,840.06 1208.56,846.207 \"/>\n",
       "<polyline clip-path=\"url(#clip042)\" style=\"stroke:#000000; stroke-linecap:round; stroke-linejoin:round; stroke-width:4; stroke-opacity:1; fill:none\" points=\"1208.56,846.207 1208.6,854.129 1208.7,862.216 1208.87,870.457 1209.1,878.84 1209.38,887.353 1209.71,895.982 1210.09,904.716 1210.5,913.543 1210.94,922.449 1211.42,931.423 1211.91,940.453 1212.43,949.525 1212.95,958.629 1213.49,967.751 1214.02,976.879 1214.56,986.001 1215.08,995.104 1215.6,1004.18 1216.09,1013.21 1216.57,1022.18 1217.01,1031.09 1217.42,1039.91 1217.8,1048.65 1218.13,1057.28 1218.41,1065.79 1218.64,1074.17 1218.81,1082.41 1218.91,1090.5 1218.95,1098.42 \"/>\n",
       "<polyline clip-path=\"url(#clip042)\" style=\"stroke:#000000; stroke-linecap:round; stroke-linejoin:round; stroke-width:4; stroke-opacity:1; fill:none\" points=\"1208.56,846.207 1208.93,854.837 1210.01,863.512 1211.73,872.227 1214.06,880.979 1216.93,889.767 1220.3,898.585 1224.12,907.431 1228.32,916.301 1232.87,925.193 1237.7,934.103 1242.77,943.027 1248.02,951.963 1253.4,960.907 1258.85,969.857 1264.34,978.807 1269.79,987.756 1275.17,996.7 1280.42,1005.64 1285.49,1014.56 1290.32,1023.47 1294.87,1032.36 1299.07,1041.23 1302.89,1050.08 1306.26,1058.9 1309.13,1067.68 1311.46,1076.44 1313.18,1085.15 1314.26,1093.83 1314.63,1102.46 \"/>\n",
       "<polyline clip-path=\"url(#clip042)\" style=\"stroke:#000000; stroke-linecap:round; stroke-linejoin:round; stroke-width:4; stroke-opacity:1; fill:none\" points=\"1208.56,846.207 1208.26,854.817 1207.39,863.518 1205.98,872.303 1204.08,881.166 1201.74,890.1 1198.99,899.097 1195.88,908.152 1192.46,917.257 1188.75,926.406 1184.81,935.592 1180.68,944.809 1176.41,954.049 1172.02,963.306 1167.57,972.573 1163.1,981.843 1158.66,991.11 1154.27,1000.37 1149.99,1009.61 1145.86,1018.82 1141.92,1028.01 1138.22,1037.16 1134.79,1046.26 1131.68,1055.32 1128.94,1064.32 1126.59,1073.25 1124.7,1082.11 1123.29,1090.9 1122.42,1099.6 1122.11,1108.21 \"/>\n",
       "<polyline clip-path=\"url(#clip042)\" style=\"stroke:#000000; stroke-linecap:round; stroke-linejoin:round; stroke-width:4; stroke-opacity:1; fill:none\" points=\"1208.56,846.207 1207.54,856.903 1204.58,866.888 1199.81,876.215 1193.38,884.936 1185.45,893.105 1176.14,900.773 1165.61,907.994 1154,914.82 1141.45,921.304 1128.11,927.499 1114.12,933.457 1099.62,939.23 1084.77,944.872 1069.7,950.434 1054.56,955.971 1039.49,961.534 1024.63,967.175 1010.14,972.949 996.149,978.906 982.808,985.101 970.259,991.585 958.647,998.411 948.116,1005.63 938.809,1013.3 930.872,1021.47 924.448,1030.19 919.68,1039.52 916.714,1049.5 915.694,1060.2 \"/>\n",
       "<polyline clip-path=\"url(#clip042)\" style=\"stroke:#000000; stroke-linecap:round; stroke-linejoin:round; stroke-width:4; stroke-opacity:1; fill:none\" points=\"915.694,1060.2 916.164,1068.09 917.531,1075.9 919.729,1083.63 922.69,1091.28 926.349,1098.87 930.639,1106.4 935.493,1113.87 940.846,1121.3 946.63,1128.68 952.78,1136.03 959.229,1143.35 965.91,1150.65 972.757,1157.93 979.704,1165.21 986.684,1172.48 993.63,1179.75 1000.48,1187.03 1007.16,1194.33 1013.61,1201.65 1019.76,1209 1025.54,1216.38 1030.89,1223.81 1035.75,1231.28 1040.04,1238.81 1043.7,1246.4 1046.66,1254.05 1048.86,1261.78 1050.22,1269.59 1050.69,1277.48 \"/>\n",
       "<polyline clip-path=\"url(#clip042)\" style=\"stroke:#000000; stroke-linecap:round; stroke-linejoin:round; stroke-width:4; stroke-opacity:1; fill:none\" points=\"915.694,1060.2 915.042,1069.26 913.147,1078.08 910.102,1086.68 905.999,1095.06 900.929,1103.26 894.984,1111.28 888.258,1119.14 880.841,1126.87 872.825,1134.49 864.304,1142 855.368,1149.43 846.11,1156.8 836.622,1164.12 826.996,1171.42 817.324,1178.7 807.698,1186 798.211,1193.32 788.953,1200.69 780.017,1208.12 771.496,1215.63 763.48,1223.24 756.063,1230.97 749.337,1238.84 743.392,1246.86 738.322,1255.06 734.219,1263.44 731.174,1272.03 729.279,1280.85 728.627,1289.92 \"/>\n",
       "<polyline clip-path=\"url(#clip042)\" style=\"stroke:#000000; stroke-linecap:round; stroke-linejoin:round; stroke-width:4; stroke-opacity:1; fill:none\" points=\"915.694,1060.2 915.247,1067.43 913.949,1074.57 911.862,1081.62 909.05,1088.58 905.575,1095.47 901.502,1102.29 896.892,1109.05 891.81,1115.76 886.317,1122.42 880.477,1129.04 874.354,1135.63 868.01,1142.19 861.508,1148.73 854.911,1155.27 848.283,1161.8 841.687,1168.33 835.185,1174.87 828.841,1181.44 822.717,1188.02 816.878,1194.64 811.385,1201.3 806.302,1208.01 801.693,1214.77 797.619,1221.59 794.145,1228.48 791.333,1235.45 789.246,1242.49 787.948,1249.63 787.501,1256.87 \"/>\n",
       "<polyline clip-path=\"url(#clip042)\" style=\"stroke:#000000; stroke-linecap:round; stroke-linejoin:round; stroke-width:4; stroke-opacity:1; fill:none\" points=\"915.694,1060.2 915.82,1067.27 916.188,1074.47 916.78,1081.8 917.577,1089.23 918.561,1096.77 919.716,1104.4 921.022,1112.1 922.463,1119.89 924.02,1127.73 925.675,1135.63 927.41,1143.57 929.208,1151.55 931.051,1159.55 932.921,1167.56 934.799,1175.58 936.669,1183.59 938.512,1191.59 940.31,1199.57 942.045,1207.51 943.701,1215.41 945.257,1223.25 946.698,1231.03 948.004,1238.74 949.159,1246.37 950.144,1253.91 950.941,1261.34 951.532,1268.67 951.9,1275.87 952.027,1282.94 \"/>\n",
       "<polyline clip-path=\"url(#clip042)\" style=\"stroke:#000000; stroke-linecap:round; stroke-linejoin:round; stroke-width:4; stroke-opacity:1; fill:none\" points=\"915.694,1060.2 914.811,1070.78 912.244,1080.88 908.12,1090.52 902.562,1099.74 895.695,1108.59 887.643,1117.08 878.532,1125.27 868.486,1133.19 857.63,1140.86 846.088,1148.34 833.984,1155.66 821.445,1162.85 808.594,1169.94 795.556,1176.99 782.455,1184.01 769.417,1191.05 756.566,1198.15 744.026,1205.34 731.923,1212.65 720.381,1220.13 709.525,1227.81 699.479,1235.73 690.367,1243.91 682.316,1252.41 675.449,1261.25 669.891,1270.48 665.766,1280.12 663.2,1290.21 662.317,1300.8 \"/>\n",
       "<polyline clip-path=\"url(#clip042)\" style=\"stroke:#000000; stroke-linecap:round; stroke-linejoin:round; stroke-width:4; stroke-opacity:1; fill:none\" points=\"915.694,1060.2 915.572,1068.76 915.22,1077.49 914.654,1086.38 913.891,1095.4 912.949,1104.56 911.844,1113.83 910.593,1123.21 909.214,1132.68 907.724,1142.23 906.14,1151.85 904.479,1161.53 902.757,1171.25 900.994,1180.99 899.204,1190.76 897.406,1200.54 895.616,1210.3 893.852,1220.05 892.131,1229.77 890.47,1239.44 888.886,1249.06 887.396,1258.61 886.017,1268.09 884.766,1277.46 883.661,1286.74 882.719,1295.89 881.956,1304.92 881.39,1313.81 881.038,1322.54 880.916,1331.1 \"/>\n",
       "<polyline clip-path=\"url(#clip042)\" style=\"stroke:#000000; stroke-linecap:round; stroke-linejoin:round; stroke-width:4; stroke-opacity:1; fill:none\" points=\"1208.56,846.207 1209.56,858.594 1212.44,870.479 1217.08,881.9 1223.34,892.894 1231.06,903.498 1240.12,913.749 1250.37,923.684 1261.67,933.341 1273.89,942.756 1286.87,951.967 1300.49,961.011 1314.59,969.925 1329.05,978.746 1343.72,987.511 1358.46,996.258 1373.13,1005.02 1387.58,1013.84 1401.69,1022.76 1415.31,1031.8 1428.29,1041.01 1440.51,1050.43 1451.81,1060.08 1462.06,1070.02 1471.12,1080.27 1478.84,1090.88 1485.09,1101.87 1489.73,1113.29 1492.62,1125.18 1493.61,1137.56 \"/>\n",
       "<polyline clip-path=\"url(#clip042)\" style=\"stroke:#000000; stroke-linecap:round; stroke-linejoin:round; stroke-width:4; stroke-opacity:1; fill:none\" points=\"1493.61,1137.56 1494.46,1142.34 1496.94,1146.8 1500.91,1150.97 1506.26,1154.86 1512.88,1158.51 1520.63,1161.94 1529.41,1165.16 1539.09,1168.21 1549.55,1171.11 1560.66,1173.87 1572.32,1176.53 1584.4,1179.11 1596.78,1181.63 1609.34,1184.12 1621.96,1186.59 1634.52,1189.08 1646.9,1191.6 1658.98,1194.17 1670.63,1196.84 1681.75,1199.6 1692.21,1202.5 1701.89,1205.55 1710.66,1208.77 1718.42,1212.2 1725.03,1215.85 1730.39,1219.74 1734.36,1223.91 1736.83,1228.37 1737.68,1233.15 \"/>\n",
       "<polyline clip-path=\"url(#clip042)\" style=\"stroke:#000000; stroke-linecap:round; stroke-linejoin:round; stroke-width:4; stroke-opacity:1; fill:none\" points=\"1493.61,1137.56 1493.74,1142.33 1494.1,1147.18 1494.67,1152.09 1495.44,1157.06 1496.4,1162.1 1497.52,1167.18 1498.79,1172.31 1500.19,1177.48 1501.71,1182.69 1503.32,1187.93 1505,1193.19 1506.75,1198.47 1508.54,1203.76 1510.36,1209.07 1512.19,1214.37 1514,1219.68 1515.79,1224.97 1517.54,1230.25 1519.23,1235.51 1520.84,1240.75 1522.35,1245.96 1523.75,1251.13 1525.02,1256.26 1526.14,1261.34 1527.1,1266.38 1527.87,1271.35 1528.45,1276.26 1528.81,1281.11 1528.93,1285.88 \"/>\n",
       "<polyline clip-path=\"url(#clip042)\" style=\"stroke:#000000; stroke-linecap:round; stroke-linejoin:round; stroke-width:4; stroke-opacity:1; fill:none\" points=\"1493.61,1137.56 1493.93,1144.34 1494.85,1151.13 1496.33,1157.93 1498.33,1164.74 1500.79,1171.56 1503.68,1178.39 1506.95,1185.23 1510.55,1192.07 1514.45,1198.93 1518.59,1205.78 1522.93,1212.65 1527.43,1219.51 1532.04,1226.38 1536.72,1233.25 1541.42,1240.12 1546.09,1246.99 1550.7,1253.85 1555.2,1260.72 1559.55,1267.58 1563.69,1274.44 1567.58,1281.29 1571.19,1288.14 1574.45,1294.98 1577.34,1301.81 1579.81,1308.63 1581.8,1315.44 1583.28,1322.24 1584.2,1329.03 1584.52,1335.8 \"/>\n",
       "<polyline clip-path=\"url(#clip042)\" style=\"stroke:#000000; stroke-linecap:round; stroke-linejoin:round; stroke-width:4; stroke-opacity:1; fill:none\" points=\"1493.61,1137.56 1493.28,1141.83 1492.33,1145.95 1490.79,1149.94 1488.72,1153.79 1486.16,1157.53 1483.15,1161.16 1479.76,1164.69 1476.01,1168.14 1471.96,1171.53 1467.66,1174.84 1463.14,1178.11 1458.47,1181.34 1453.67,1184.55 1448.81,1187.73 1443.93,1190.91 1439.06,1194.1 1434.27,1197.3 1429.59,1200.53 1425.08,1203.8 1420.78,1207.12 1416.73,1210.5 1412.98,1213.95 1409.58,1217.49 1406.58,1221.12 1404.02,1224.85 1401.95,1228.71 1400.41,1232.69 1399.45,1236.81 1399.12,1241.08 \"/>\n",
       "<polyline clip-path=\"url(#clip042)\" style=\"stroke:#000000; stroke-linecap:round; stroke-linejoin:round; stroke-width:4; stroke-opacity:1; fill:none\" points=\"1493.61,1137.56 1494.3,1146.1 1496.3,1154.29 1499.51,1162.15 1503.84,1169.71 1509.19,1177 1515.46,1184.05 1522.56,1190.87 1530.38,1197.5 1538.84,1203.96 1547.83,1210.27 1557.25,1216.47 1567.02,1222.58 1577.03,1228.62 1587.18,1234.63 1597.39,1240.62 1607.54,1246.62 1617.55,1252.66 1627.32,1258.77 1636.74,1264.97 1645.73,1271.29 1654.19,1277.75 1662.01,1284.37 1669.11,1291.2 1675.38,1298.24 1680.73,1305.53 1685.06,1313.09 1688.27,1320.96 1690.27,1329.14 1690.96,1337.68 \"/>\n",
       "<path clip-path=\"url(#clip042)\" d=\"M1154.86 262.317 L1145.54 246.169 L1126.9 246.169 L1117.57 262.317 L1126.9 278.465 L1145.54 278.465 L1154.86 262.317 L1154.86 262.317  Z\" fill=\"#009af9\" fill-rule=\"evenodd\" fill-opacity=\"1\"/>\n",
       "<polyline clip-path=\"url(#clip042)\" style=\"stroke:#000000; stroke-linecap:round; stroke-linejoin:round; stroke-width:4; stroke-opacity:1; fill:none\" points=\"1154.86,262.317 1145.54,246.169 1126.9,246.169 1117.57,262.317 1126.9,278.465 1145.54,278.465 1154.86,262.317 \"/>\n",
       "<path clip-path=\"url(#clip042)\" d=\"M1260.3 425.527 L1244.07 397.412 L1211.61 397.412 L1195.37 425.527 L1211.61 453.643 L1244.07 453.643 L1260.3 425.527 L1260.3 425.527  Z\" fill=\"#009af9\" fill-rule=\"evenodd\" fill-opacity=\"1\"/>\n",
       "<polyline clip-path=\"url(#clip042)\" style=\"stroke:#000000; stroke-linecap:round; stroke-linejoin:round; stroke-width:4; stroke-opacity:1; fill:none\" points=\"1260.3,425.527 1244.07,397.412 1211.61,397.412 1195.37,425.527 1211.61,453.643 1244.07,453.643 1260.3,425.527 \"/>\n",
       "<path clip-path=\"url(#clip042)\" d=\"M1235.21 650.335 L1223.47 630.008 L1200 630.008 L1188.27 650.335 L1200 670.662 L1223.47 670.662 L1235.21 650.335 L1235.21 650.335  Z\" fill=\"#009af9\" fill-rule=\"evenodd\" fill-opacity=\"1\"/>\n",
       "<polyline clip-path=\"url(#clip042)\" style=\"stroke:#000000; stroke-linecap:round; stroke-linejoin:round; stroke-width:4; stroke-opacity:1; fill:none\" points=\"1235.21,650.335 1223.47,630.008 1200,630.008 1188.27,650.335 1200,670.662 1223.47,670.662 1235.21,650.335 \"/>\n",
       "<path clip-path=\"url(#clip042)\" d=\"M1245.29 846.207 L1226.93 814.402 L1190.2 814.402 L1171.84 846.207 L1190.2 878.012 L1226.93 878.012 L1245.29 846.207 L1245.29 846.207  Z\" fill=\"#009af9\" fill-rule=\"evenodd\" fill-opacity=\"1\"/>\n",
       "<polyline clip-path=\"url(#clip042)\" style=\"stroke:#000000; stroke-linecap:round; stroke-linejoin:round; stroke-width:4; stroke-opacity:1; fill:none\" points=\"1245.29,846.207 1226.93,814.402 1190.2,814.402 1171.84,846.207 1190.2,878.012 1226.93,878.012 1245.29,846.207 \"/>\n",
       "<path clip-path=\"url(#clip042)\" d=\"M1242.42 1098.42 L1230.68 1078.1 L1207.21 1078.1 L1195.48 1098.42 L1207.21 1118.75 L1230.68 1118.75 L1242.42 1098.42 L1242.42 1098.42  Z\" fill=\"#009af9\" fill-rule=\"evenodd\" fill-opacity=\"1\"/>\n",
       "<polyline clip-path=\"url(#clip042)\" style=\"stroke:#000000; stroke-linecap:round; stroke-linejoin:round; stroke-width:4; stroke-opacity:1; fill:none\" points=\"1242.42,1098.42 1230.68,1078.1 1207.21,1078.1 1195.48,1098.42 1207.21,1118.75 1230.68,1118.75 1242.42,1098.42 \"/>\n",
       "<path clip-path=\"url(#clip042)\" d=\"M1374.89 1102.46 L1344.76 1050.27 L1284.5 1050.27 L1254.37 1102.46 L1284.5 1154.64 L1344.76 1154.64 L1374.89 1102.46 L1374.89 1102.46  Z\" fill=\"#009af9\" fill-rule=\"evenodd\" fill-opacity=\"1\"/>\n",
       "<polyline clip-path=\"url(#clip042)\" style=\"stroke:#000000; stroke-linecap:round; stroke-linejoin:round; stroke-width:4; stroke-opacity:1; fill:none\" points=\"1374.89,1102.46 1344.76,1050.27 1284.5,1050.27 1254.37,1102.46 1284.5,1154.64 1344.76,1154.64 1374.89,1102.46 \"/>\n",
       "<path clip-path=\"url(#clip042)\" d=\"M1182.38 1108.21 L1152.24 1056.02 L1091.98 1056.02 L1061.85 1108.21 L1091.98 1160.4 L1152.24 1160.4 L1182.38 1108.21 L1182.38 1108.21  Z\" fill=\"#009af9\" fill-rule=\"evenodd\" fill-opacity=\"1\"/>\n",
       "<polyline clip-path=\"url(#clip042)\" style=\"stroke:#000000; stroke-linecap:round; stroke-linejoin:round; stroke-width:4; stroke-opacity:1; fill:none\" points=\"1182.38,1108.21 1152.24,1056.02 1091.98,1056.02 1061.85,1108.21 1091.98,1160.4 1152.24,1160.4 1182.38,1108.21 \"/>\n",
       "<path clip-path=\"url(#clip042)\" d=\"M948.158 1060.2 L931.926 1032.08 L899.461 1032.08 L883.229 1060.2 L899.461 1088.31 L931.926 1088.31 L948.158 1060.2 L948.158 1060.2  Z\" fill=\"#009af9\" fill-rule=\"evenodd\" fill-opacity=\"1\"/>\n",
       "<polyline clip-path=\"url(#clip042)\" style=\"stroke:#000000; stroke-linecap:round; stroke-linejoin:round; stroke-width:4; stroke-opacity:1; fill:none\" points=\"948.158,1060.2 931.926,1032.08 899.461,1032.08 883.229,1060.2 899.461,1088.31 931.926,1088.31 948.158,1060.2 \"/>\n",
       "<path clip-path=\"url(#clip042)\" d=\"M1083.16 1277.48 L1066.93 1249.37 L1034.46 1249.37 L1018.23 1277.48 L1034.46 1305.6 L1066.93 1305.6 L1083.16 1277.48 L1083.16 1277.48  Z\" fill=\"#009af9\" fill-rule=\"evenodd\" fill-opacity=\"1\"/>\n",
       "<polyline clip-path=\"url(#clip042)\" style=\"stroke:#000000; stroke-linecap:round; stroke-linejoin:round; stroke-width:4; stroke-opacity:1; fill:none\" points=\"1083.16,1277.48 1066.93,1249.37 1034.46,1249.37 1018.23,1277.48 1034.46,1305.6 1066.93,1305.6 1083.16,1277.48 \"/>\n",
       "<path clip-path=\"url(#clip042)\" d=\"M761.092 1289.92 L744.86 1261.81 L712.395 1261.81 L696.163 1289.92 L712.395 1318.04 L744.86 1318.04 L761.092 1289.92 L761.092 1289.92  Z\" fill=\"#009af9\" fill-rule=\"evenodd\" fill-opacity=\"1\"/>\n",
       "<polyline clip-path=\"url(#clip042)\" style=\"stroke:#000000; stroke-linecap:round; stroke-linejoin:round; stroke-width:4; stroke-opacity:1; fill:none\" points=\"761.092,1289.92 744.86,1261.81 712.395,1261.81 696.163,1289.92 712.395,1318.04 744.86,1318.04 761.092,1289.92 \"/>\n",
       "<path clip-path=\"url(#clip042)\" d=\"M815.559 1256.87 L801.53 1232.57 L773.472 1232.57 L759.442 1256.87 L773.472 1281.17 L801.53 1281.17 L815.559 1256.87 L815.559 1256.87  Z\" fill=\"#009af9\" fill-rule=\"evenodd\" fill-opacity=\"1\"/>\n",
       "<polyline clip-path=\"url(#clip042)\" style=\"stroke:#000000; stroke-linecap:round; stroke-linejoin:round; stroke-width:4; stroke-opacity:1; fill:none\" points=\"815.559,1256.87 801.53,1232.57 773.472,1232.57 759.442,1256.87 773.472,1281.17 801.53,1281.17 815.559,1256.87 \"/>\n",
       "<path clip-path=\"url(#clip042)\" d=\"M980.085 1282.94 L966.056 1258.64 L937.997 1258.64 L923.968 1282.94 L937.997 1307.24 L966.056 1307.24 L980.085 1282.94 L980.085 1282.94  Z\" fill=\"#009af9\" fill-rule=\"evenodd\" fill-opacity=\"1\"/>\n",
       "<polyline clip-path=\"url(#clip042)\" style=\"stroke:#000000; stroke-linecap:round; stroke-linejoin:round; stroke-width:4; stroke-opacity:1; fill:none\" points=\"980.085,1282.94 966.056,1258.64 937.997,1258.64 923.968,1282.94 937.997,1307.24 966.056,1307.24 980.085,1282.94 \"/>\n",
       "<path clip-path=\"url(#clip042)\" d=\"M690.376 1300.8 L676.346 1276.5 L648.288 1276.5 L634.259 1300.8 L648.288 1325.1 L676.346 1325.1 L690.376 1300.8 L690.376 1300.8  Z\" fill=\"#009af9\" fill-rule=\"evenodd\" fill-opacity=\"1\"/>\n",
       "<polyline clip-path=\"url(#clip042)\" style=\"stroke:#000000; stroke-linecap:round; stroke-linejoin:round; stroke-width:4; stroke-opacity:1; fill:none\" points=\"690.376,1300.8 676.346,1276.5 648.288,1276.5 634.259,1300.8 648.288,1325.1 676.346,1325.1 690.376,1300.8 \"/>\n",
       "<path clip-path=\"url(#clip042)\" d=\"M904.388 1331.1 L892.652 1310.77 L869.181 1310.77 L857.445 1331.1 L869.181 1351.43 L892.652 1351.43 L904.388 1331.1 L904.388 1331.1  Z\" fill=\"#009af9\" fill-rule=\"evenodd\" fill-opacity=\"1\"/>\n",
       "<polyline clip-path=\"url(#clip042)\" style=\"stroke:#000000; stroke-linecap:round; stroke-linejoin:round; stroke-width:4; stroke-opacity:1; fill:none\" points=\"904.388,1331.1 892.652,1310.77 869.181,1310.77 857.445,1331.1 869.181,1351.43 892.652,1351.43 904.388,1331.1 \"/>\n",
       "<path clip-path=\"url(#clip042)\" d=\"M1534.48 1137.56 L1514.05 1102.17 L1473.18 1102.17 L1452.75 1137.56 L1473.18 1172.95 L1514.05 1172.95 L1534.48 1137.56 L1534.48 1137.56  Z\" fill=\"#009af9\" fill-rule=\"evenodd\" fill-opacity=\"1\"/>\n",
       "<polyline clip-path=\"url(#clip042)\" style=\"stroke:#000000; stroke-linecap:round; stroke-linejoin:round; stroke-width:4; stroke-opacity:1; fill:none\" points=\"1534.48,1137.56 1514.05,1102.17 1473.18,1102.17 1452.75,1137.56 1473.18,1172.95 1514.05,1172.95 1534.48,1137.56 \"/>\n",
       "<path clip-path=\"url(#clip042)\" d=\"M1774.41 1233.15 L1756.05 1201.34 L1719.32 1201.34 L1700.96 1233.15 L1719.32 1264.95 L1756.05 1264.95 L1774.41 1233.15 L1774.41 1233.15  Z\" fill=\"#009af9\" fill-rule=\"evenodd\" fill-opacity=\"1\"/>\n",
       "<polyline clip-path=\"url(#clip042)\" style=\"stroke:#000000; stroke-linecap:round; stroke-linejoin:round; stroke-width:4; stroke-opacity:1; fill:none\" points=\"1774.41,1233.15 1756.05,1201.34 1719.32,1201.34 1700.96,1233.15 1719.32,1264.95 1756.05,1264.95 1774.41,1233.15 \"/>\n",
       "<path clip-path=\"url(#clip042)\" d=\"M1561.39 1285.88 L1545.16 1257.76 L1512.7 1257.76 L1496.47 1285.88 L1512.7 1313.99 L1545.16 1313.99 L1561.39 1285.88 L1561.39 1285.88  Z\" fill=\"#009af9\" fill-rule=\"evenodd\" fill-opacity=\"1\"/>\n",
       "<polyline clip-path=\"url(#clip042)\" style=\"stroke:#000000; stroke-linecap:round; stroke-linejoin:round; stroke-width:4; stroke-opacity:1; fill:none\" points=\"1561.39,1285.88 1545.16,1257.76 1512.7,1257.76 1496.47,1285.88 1512.7,1313.99 1545.16,1313.99 1561.39,1285.88 \"/>\n",
       "<path clip-path=\"url(#clip042)\" d=\"M1616.98 1335.8 L1600.75 1307.69 L1568.29 1307.69 L1552.05 1335.8 L1568.29 1363.92 L1600.75 1363.92 L1616.98 1335.8 L1616.98 1335.8  Z\" fill=\"#009af9\" fill-rule=\"evenodd\" fill-opacity=\"1\"/>\n",
       "<polyline clip-path=\"url(#clip042)\" style=\"stroke:#000000; stroke-linecap:round; stroke-linejoin:round; stroke-width:4; stroke-opacity:1; fill:none\" points=\"1616.98,1335.8 1600.75,1307.69 1568.29,1307.69 1552.05,1335.8 1568.29,1363.92 1600.75,1363.92 1616.98,1335.8 \"/>\n",
       "<path clip-path=\"url(#clip042)\" d=\"M1431.59 1241.08 L1415.36 1212.97 L1382.89 1212.97 L1366.66 1241.08 L1382.89 1269.2 L1415.36 1269.2 L1431.59 1241.08 L1431.59 1241.08  Z\" fill=\"#009af9\" fill-rule=\"evenodd\" fill-opacity=\"1\"/>\n",
       "<polyline clip-path=\"url(#clip042)\" style=\"stroke:#000000; stroke-linecap:round; stroke-linejoin:round; stroke-width:4; stroke-opacity:1; fill:none\" points=\"1431.59,1241.08 1415.36,1212.97 1382.89,1212.97 1366.66,1241.08 1382.89,1269.2 1415.36,1269.2 1431.59,1241.08 \"/>\n",
       "<path clip-path=\"url(#clip042)\" d=\"M1719.02 1337.68 L1704.99 1313.38 L1676.93 1313.38 L1662.9 1337.68 L1676.93 1361.98 L1704.99 1361.98 L1719.02 1337.68 L1719.02 1337.68  Z\" fill=\"#009af9\" fill-rule=\"evenodd\" fill-opacity=\"1\"/>\n",
       "<polyline clip-path=\"url(#clip042)\" style=\"stroke:#000000; stroke-linecap:round; stroke-linejoin:round; stroke-width:4; stroke-opacity:1; fill:none\" points=\"1719.02,1337.68 1704.99,1313.38 1676.93,1313.38 1662.9,1337.68 1676.93,1361.98 1704.99,1361.98 1719.02,1337.68 \"/>\n",
       "<path clip-path=\"url(#clip042)\" d=\"M1136.22 262.717 L1135.87 262.517 L1135.87 262.117 L1136.22 261.917 L1136.56 262.117 L1136.56 262.517 Z\" fill=\"#009af9\" fill-rule=\"evenodd\" fill-opacity=\"1\" stroke=\"#000000\" stroke-opacity=\"1\" stroke-width=\"3.2\"/>\n",
       "<path clip-path=\"url(#clip042)\" d=\"M1227.84 425.927 L1227.49 425.727 L1227.49 425.327 L1227.84 425.127 L1228.18 425.327 L1228.18 425.727 Z\" fill=\"#009af9\" fill-rule=\"evenodd\" fill-opacity=\"1\" stroke=\"#000000\" stroke-opacity=\"1\" stroke-width=\"3.2\"/>\n",
       "<path clip-path=\"url(#clip042)\" d=\"M1211.74 650.735 L1211.39 650.535 L1211.39 650.135 L1211.74 649.935 L1212.09 650.135 L1212.09 650.535 Z\" fill=\"#009af9\" fill-rule=\"evenodd\" fill-opacity=\"1\" stroke=\"#000000\" stroke-opacity=\"1\" stroke-width=\"3.2\"/>\n",
       "<path clip-path=\"url(#clip042)\" d=\"M1208.56 846.607 L1208.22 846.407 L1208.22 846.007 L1208.56 845.807 L1208.91 846.007 L1208.91 846.407 Z\" fill=\"#009af9\" fill-rule=\"evenodd\" fill-opacity=\"1\" stroke=\"#000000\" stroke-opacity=\"1\" stroke-width=\"3.2\"/>\n",
       "<path clip-path=\"url(#clip042)\" d=\"M1218.95 1098.82 L1218.6 1098.62 L1218.6 1098.22 L1218.95 1098.02 L1219.29 1098.22 L1219.29 1098.62 Z\" fill=\"#009af9\" fill-rule=\"evenodd\" fill-opacity=\"1\" stroke=\"#000000\" stroke-opacity=\"1\" stroke-width=\"3.2\"/>\n",
       "<path clip-path=\"url(#clip042)\" d=\"M1314.63 1102.86 L1314.28 1102.66 L1314.28 1102.26 L1314.63 1102.06 L1314.97 1102.26 L1314.97 1102.66 Z\" fill=\"#009af9\" fill-rule=\"evenodd\" fill-opacity=\"1\" stroke=\"#000000\" stroke-opacity=\"1\" stroke-width=\"3.2\"/>\n",
       "<path clip-path=\"url(#clip042)\" d=\"M1122.11 1108.61 L1121.77 1108.41 L1121.77 1108.01 L1122.11 1107.81 L1122.46 1108.01 L1122.46 1108.41 Z\" fill=\"#009af9\" fill-rule=\"evenodd\" fill-opacity=\"1\" stroke=\"#000000\" stroke-opacity=\"1\" stroke-width=\"3.2\"/>\n",
       "<path clip-path=\"url(#clip042)\" d=\"M915.694 1060.6 L915.347 1060.4 L915.347 1060 L915.694 1059.8 L916.04 1060 L916.04 1060.4 Z\" fill=\"#009af9\" fill-rule=\"evenodd\" fill-opacity=\"1\" stroke=\"#000000\" stroke-opacity=\"1\" stroke-width=\"3.2\"/>\n",
       "<path clip-path=\"url(#clip042)\" d=\"M1050.69 1277.88 L1050.35 1277.68 L1050.35 1277.28 L1050.69 1277.08 L1051.04 1277.28 L1051.04 1277.68 Z\" fill=\"#009af9\" fill-rule=\"evenodd\" fill-opacity=\"1\" stroke=\"#000000\" stroke-opacity=\"1\" stroke-width=\"3.2\"/>\n",
       "<path clip-path=\"url(#clip042)\" d=\"M728.627 1290.32 L728.281 1290.12 L728.281 1289.72 L728.627 1289.52 L728.974 1289.72 L728.974 1290.12 Z\" fill=\"#009af9\" fill-rule=\"evenodd\" fill-opacity=\"1\" stroke=\"#000000\" stroke-opacity=\"1\" stroke-width=\"3.2\"/>\n",
       "<path clip-path=\"url(#clip042)\" d=\"M787.501 1257.27 L787.154 1257.07 L787.154 1256.67 L787.501 1256.47 L787.847 1256.67 L787.847 1257.07 Z\" fill=\"#009af9\" fill-rule=\"evenodd\" fill-opacity=\"1\" stroke=\"#000000\" stroke-opacity=\"1\" stroke-width=\"3.2\"/>\n",
       "<path clip-path=\"url(#clip042)\" d=\"M952.027 1283.34 L951.68 1283.14 L951.68 1282.74 L952.027 1282.54 L952.373 1282.74 L952.373 1283.14 Z\" fill=\"#009af9\" fill-rule=\"evenodd\" fill-opacity=\"1\" stroke=\"#000000\" stroke-opacity=\"1\" stroke-width=\"3.2\"/>\n",
       "<path clip-path=\"url(#clip042)\" d=\"M662.317 1301.2 L661.971 1301 L661.971 1300.6 L662.317 1300.4 L662.664 1300.6 L662.664 1301 Z\" fill=\"#009af9\" fill-rule=\"evenodd\" fill-opacity=\"1\" stroke=\"#000000\" stroke-opacity=\"1\" stroke-width=\"3.2\"/>\n",
       "<path clip-path=\"url(#clip042)\" d=\"M880.916 1331.5 L880.57 1331.3 L880.57 1330.9 L880.916 1330.7 L881.263 1330.9 L881.263 1331.3 Z\" fill=\"#009af9\" fill-rule=\"evenodd\" fill-opacity=\"1\" stroke=\"#000000\" stroke-opacity=\"1\" stroke-width=\"3.2\"/>\n",
       "<path clip-path=\"url(#clip042)\" d=\"M1493.61 1137.96 L1493.27 1137.76 L1493.27 1137.36 L1493.61 1137.16 L1493.96 1137.36 L1493.96 1137.76 Z\" fill=\"#009af9\" fill-rule=\"evenodd\" fill-opacity=\"1\" stroke=\"#000000\" stroke-opacity=\"1\" stroke-width=\"3.2\"/>\n",
       "<path clip-path=\"url(#clip042)\" d=\"M1737.68 1233.55 L1737.34 1233.35 L1737.34 1232.95 L1737.68 1232.75 L1738.03 1232.95 L1738.03 1233.35 Z\" fill=\"#009af9\" fill-rule=\"evenodd\" fill-opacity=\"1\" stroke=\"#000000\" stroke-opacity=\"1\" stroke-width=\"3.2\"/>\n",
       "<path clip-path=\"url(#clip042)\" d=\"M1528.93 1286.28 L1528.58 1286.08 L1528.58 1285.68 L1528.93 1285.48 L1529.28 1285.68 L1529.28 1286.08 Z\" fill=\"#009af9\" fill-rule=\"evenodd\" fill-opacity=\"1\" stroke=\"#000000\" stroke-opacity=\"1\" stroke-width=\"3.2\"/>\n",
       "<path clip-path=\"url(#clip042)\" d=\"M1584.52 1336.2 L1584.17 1336 L1584.17 1335.6 L1584.52 1335.4 L1584.86 1335.6 L1584.86 1336 Z\" fill=\"#009af9\" fill-rule=\"evenodd\" fill-opacity=\"1\" stroke=\"#000000\" stroke-opacity=\"1\" stroke-width=\"3.2\"/>\n",
       "<path clip-path=\"url(#clip042)\" d=\"M1399.12 1241.48 L1398.78 1241.28 L1398.78 1240.88 L1399.12 1240.68 L1399.47 1240.88 L1399.47 1241.28 Z\" fill=\"#009af9\" fill-rule=\"evenodd\" fill-opacity=\"1\" stroke=\"#000000\" stroke-opacity=\"1\" stroke-width=\"3.2\"/>\n",
       "<path clip-path=\"url(#clip042)\" d=\"M1690.96 1338.08 L1690.61 1337.88 L1690.61 1337.48 L1690.96 1337.28 L1691.3 1337.48 L1691.3 1337.88 Z\" fill=\"#009af9\" fill-rule=\"evenodd\" fill-opacity=\"1\" stroke=\"#000000\" stroke-opacity=\"1\" stroke-width=\"3.2\"/>\n",
       "<path clip-path=\"url(#clip040)\" d=\"M1121.95 255.98 L1118.78 264.58 L1125.13 264.58 L1121.95 255.98 M1120.63 253.677 L1123.28 253.677 L1129.86 270.957 L1127.43 270.957 L1125.86 266.524 L1118.07 266.524 L1116.5 270.957 L1114.03 270.957 L1120.63 253.677 Z\" fill=\"#000000\" fill-rule=\"nonzero\" fill-opacity=\"1\" /><path clip-path=\"url(#clip040)\" d=\"M1143.07 263.133 L1143.07 270.957 L1140.94 270.957 L1140.94 263.203 Q1140.94 261.362 1140.22 260.448 Q1139.51 259.534 1138.07 259.534 Q1136.35 259.534 1135.35 260.633 Q1134.36 261.733 1134.36 263.631 L1134.36 270.957 L1132.21 270.957 L1132.21 257.994 L1134.36 257.994 L1134.36 260.008 Q1135.12 258.839 1136.15 258.261 Q1137.19 257.682 1138.54 257.682 Q1140.78 257.682 1141.92 259.071 Q1143.07 260.448 1143.07 263.133 Z\" fill=\"#000000\" fill-rule=\"nonzero\" fill-opacity=\"1\" /><path clip-path=\"url(#clip040)\" d=\"M1152.71 272.161 Q1151.81 274.476 1150.95 275.182 Q1150.1 275.888 1148.66 275.888 L1146.96 275.888 L1146.96 274.105 L1148.21 274.105 Q1149.09 274.105 1149.57 273.689 Q1150.06 273.272 1150.65 271.721 L1151.03 270.749 L1145.79 257.994 L1148.05 257.994 L1152.1 268.133 L1156.15 257.994 L1158.41 257.994 L1152.71 272.161 Z\" fill=\"#000000\" fill-rule=\"nonzero\" fill-opacity=\"1\" /><path clip-path=\"url(#clip040)\" d=\"M1181.39 416.887 L1184.54 416.887 L1192.2 431.343 L1192.2 416.887 L1194.47 416.887 L1194.47 434.167 L1191.32 434.167 L1183.66 419.712 L1183.66 434.167 L1181.39 434.167 L1181.39 416.887 Z\" fill=\"#000000\" fill-rule=\"nonzero\" fill-opacity=\"1\" /><path clip-path=\"url(#clip040)\" d=\"M1198.81 429.052 L1198.81 421.205 L1200.94 421.205 L1200.94 428.971 Q1200.94 430.811 1201.66 431.737 Q1202.37 432.651 1203.81 432.651 Q1205.53 432.651 1206.53 431.552 Q1207.54 430.452 1207.54 428.554 L1207.54 421.205 L1209.67 421.205 L1209.67 434.167 L1207.54 434.167 L1207.54 432.177 Q1206.76 433.357 1205.73 433.936 Q1204.71 434.503 1203.36 434.503 Q1201.12 434.503 1199.97 433.114 Q1198.81 431.725 1198.81 429.052 M1204.17 420.892 L1204.17 420.892 Z\" fill=\"#000000\" fill-rule=\"nonzero\" fill-opacity=\"1\" /><path clip-path=\"url(#clip040)\" d=\"M1224.15 423.693 Q1224.94 422.258 1226.06 421.575 Q1227.17 420.892 1228.67 420.892 Q1230.7 420.892 1231.8 422.316 Q1232.9 423.728 1232.9 426.343 L1232.9 434.167 L1230.75 434.167 L1230.75 426.413 Q1230.75 424.549 1230.09 423.647 Q1229.43 422.744 1228.08 422.744 Q1226.43 422.744 1225.46 423.843 Q1224.5 424.943 1224.5 426.841 L1224.5 434.167 L1222.36 434.167 L1222.36 426.413 Q1222.36 424.538 1221.7 423.647 Q1221.04 422.744 1219.67 422.744 Q1218.03 422.744 1217.07 423.855 Q1216.11 424.955 1216.11 426.841 L1216.11 434.167 L1213.97 434.167 L1213.97 421.205 L1216.11 421.205 L1216.11 423.218 Q1216.84 422.026 1217.86 421.459 Q1218.88 420.892 1220.28 420.892 Q1221.69 420.892 1222.68 421.61 Q1223.67 422.327 1224.15 423.693 Z\" fill=\"#000000\" fill-rule=\"nonzero\" fill-opacity=\"1\" /><path clip-path=\"url(#clip040)\" d=\"M1246.45 427.698 Q1246.45 425.348 1245.48 424.017 Q1244.52 422.674 1242.83 422.674 Q1241.14 422.674 1240.16 424.017 Q1239.2 425.348 1239.2 427.698 Q1239.2 430.047 1240.16 431.39 Q1241.14 432.721 1242.83 432.721 Q1244.52 432.721 1245.48 431.39 Q1246.45 430.047 1246.45 427.698 M1239.2 423.172 Q1239.87 422.015 1240.89 421.459 Q1241.92 420.892 1243.35 420.892 Q1245.71 420.892 1247.18 422.767 Q1248.66 424.642 1248.66 427.698 Q1248.66 430.753 1247.18 432.628 Q1245.71 434.503 1243.35 434.503 Q1241.92 434.503 1240.89 433.948 Q1239.87 433.38 1239.2 432.223 L1239.2 434.167 L1237.06 434.167 L1237.06 416.158 L1239.2 416.158 L1239.2 423.172 Z\" fill=\"#000000\" fill-rule=\"nonzero\" fill-opacity=\"1\" /><path clip-path=\"url(#clip040)\" d=\"M1263.28 427.154 L1263.28 428.195 L1253.49 428.195 Q1253.62 430.394 1254.8 431.552 Q1256 432.698 1258.12 432.698 Q1259.34 432.698 1260.49 432.397 Q1261.65 432.096 1262.78 431.494 L1262.78 433.508 Q1261.63 433.994 1260.43 434.249 Q1259.23 434.503 1257.99 434.503 Q1254.89 434.503 1253.07 432.698 Q1251.26 430.892 1251.26 427.813 Q1251.26 424.63 1252.98 422.767 Q1254.7 420.892 1257.62 420.892 Q1260.23 420.892 1261.75 422.582 Q1263.28 424.26 1263.28 427.154 M1261.15 426.529 Q1261.12 424.781 1260.16 423.739 Q1259.21 422.698 1257.64 422.698 Q1255.86 422.698 1254.78 423.705 Q1253.72 424.712 1253.55 426.54 L1261.15 426.529 Z\" fill=\"#000000\" fill-rule=\"nonzero\" fill-opacity=\"1\" /><path clip-path=\"url(#clip040)\" d=\"M1274.28 423.195 Q1273.93 422.987 1273.5 422.894 Q1273.08 422.79 1272.57 422.79 Q1270.77 422.79 1269.79 423.971 Q1268.83 425.14 1268.83 427.339 L1268.83 434.167 L1266.69 434.167 L1266.69 421.205 L1268.83 421.205 L1268.83 423.218 Q1269.5 422.038 1270.58 421.471 Q1271.66 420.892 1273.2 420.892 Q1273.42 420.892 1273.68 420.927 Q1273.95 420.95 1274.27 421.008 L1274.28 423.195 Z\" fill=\"#000000\" fill-rule=\"nonzero\" fill-opacity=\"1\" /><path clip-path=\"url(#clip040)\" d=\"M1196.66 650.873 Q1197.41 651.128 1198.12 651.961 Q1198.83 652.794 1199.55 654.253 L1201.92 658.975 L1199.41 658.975 L1197.2 654.542 Q1196.35 652.806 1195.54 652.239 Q1194.74 651.672 1193.35 651.672 L1190.8 651.672 L1190.8 658.975 L1188.46 658.975 L1188.46 641.695 L1193.74 641.695 Q1196.7 641.695 1198.16 642.933 Q1199.62 644.172 1199.62 646.672 Q1199.62 648.304 1198.86 649.38 Q1198.1 650.456 1196.66 650.873 M1190.8 643.616 L1190.8 649.75 L1193.74 649.75 Q1195.43 649.75 1196.29 648.975 Q1197.16 648.188 1197.16 646.672 Q1197.16 645.155 1196.29 644.392 Q1195.43 643.616 1193.74 643.616 L1190.8 643.616 Z\" fill=\"#000000\" fill-rule=\"nonzero\" fill-opacity=\"1\" /><path clip-path=\"url(#clip040)\" d=\"M1214.86 651.961 L1214.86 653.003 L1205.07 653.003 Q1205.21 655.202 1206.39 656.359 Q1207.58 657.505 1209.7 657.505 Q1210.93 657.505 1212.07 657.204 Q1213.23 656.903 1214.37 656.301 L1214.37 658.315 Q1213.22 658.801 1212.02 659.056 Q1210.81 659.31 1209.57 659.31 Q1206.47 659.31 1204.66 657.505 Q1202.85 655.699 1202.85 652.621 Q1202.85 649.438 1204.56 647.574 Q1206.29 645.699 1209.2 645.699 Q1211.82 645.699 1213.34 647.389 Q1214.86 649.067 1214.86 651.961 M1212.73 651.336 Q1212.71 649.588 1211.75 648.547 Q1210.8 647.505 1209.23 647.505 Q1207.45 647.505 1206.37 648.512 Q1205.3 649.519 1205.14 651.348 L1212.73 651.336 Z\" fill=\"#000000\" fill-rule=\"nonzero\" fill-opacity=\"1\" /><path clip-path=\"url(#clip040)\" d=\"M1224.25 652.459 Q1221.67 652.459 1220.67 653.049 Q1219.68 653.639 1219.68 655.063 Q1219.68 656.197 1220.42 656.868 Q1221.17 657.528 1222.46 657.528 Q1224.23 657.528 1225.29 656.278 Q1226.37 655.017 1226.37 652.933 L1226.37 652.459 L1224.25 652.459 M1228.5 651.579 L1228.5 658.975 L1226.37 658.975 L1226.37 657.007 Q1225.64 658.188 1224.55 658.755 Q1223.46 659.31 1221.89 659.31 Q1219.9 659.31 1218.72 658.199 Q1217.55 657.077 1217.55 655.202 Q1217.55 653.014 1219.01 651.903 Q1220.48 650.792 1223.38 650.792 L1226.37 650.792 L1226.37 650.584 Q1226.37 649.114 1225.4 648.315 Q1224.44 647.505 1222.69 647.505 Q1221.58 647.505 1220.52 647.771 Q1219.47 648.037 1218.5 648.57 L1218.5 646.602 Q1219.67 646.151 1220.77 645.931 Q1221.87 645.699 1222.91 645.699 Q1225.72 645.699 1227.11 647.158 Q1228.5 648.616 1228.5 651.579 Z\" fill=\"#000000\" fill-rule=\"nonzero\" fill-opacity=\"1\" /><path clip-path=\"url(#clip040)\" d=\"M1232.88 640.966 L1235.01 640.966 L1235.01 658.975 L1232.88 658.975 L1232.88 640.966 Z\" fill=\"#000000\" fill-rule=\"nonzero\" fill-opacity=\"1\" /><path clip-path=\"url(#clip040)\" d=\"M1167.09 837.567 L1169.43 837.567 L1169.43 854.847 L1167.09 854.847 L1167.09 837.567 Z\" fill=\"#000000\" fill-rule=\"nonzero\" fill-opacity=\"1\" /><path clip-path=\"url(#clip040)\" d=\"M1184.77 847.023 L1184.77 854.847 L1182.64 854.847 L1182.64 847.093 Q1182.64 845.252 1181.92 844.338 Q1181.2 843.424 1179.77 843.424 Q1178.04 843.424 1177.05 844.523 Q1176.05 845.623 1176.05 847.521 L1176.05 854.847 L1173.91 854.847 L1173.91 841.884 L1176.05 841.884 L1176.05 843.898 Q1176.82 842.729 1177.85 842.151 Q1178.89 841.572 1180.24 841.572 Q1182.47 841.572 1183.62 842.961 Q1184.77 844.338 1184.77 847.023 Z\" fill=\"#000000\" fill-rule=\"nonzero\" fill-opacity=\"1\" /><path clip-path=\"url(#clip040)\" d=\"M1191.12 838.204 L1191.12 841.884 L1195.51 841.884 L1195.51 843.539 L1191.12 843.539 L1191.12 850.576 Q1191.12 852.162 1191.55 852.614 Q1191.99 853.065 1193.32 853.065 L1195.51 853.065 L1195.51 854.847 L1193.32 854.847 Q1190.85 854.847 1189.92 853.933 Q1188.98 853.007 1188.98 850.576 L1188.98 843.539 L1187.42 843.539 L1187.42 841.884 L1188.98 841.884 L1188.98 838.204 L1191.12 838.204 Z\" fill=\"#000000\" fill-rule=\"nonzero\" fill-opacity=\"1\" /><path clip-path=\"url(#clip040)\" d=\"M1209.4 847.833 L1209.4 848.875 L1199.6 848.875 Q1199.74 851.074 1200.92 852.232 Q1202.12 853.377 1204.23 853.377 Q1205.46 853.377 1206.61 853.076 Q1207.76 852.776 1208.9 852.174 L1208.9 854.188 Q1207.75 854.674 1206.55 854.928 Q1205.35 855.183 1204.11 855.183 Q1201 855.183 1199.19 853.377 Q1197.38 851.572 1197.38 848.493 Q1197.38 845.31 1199.1 843.447 Q1200.82 841.572 1203.74 841.572 Q1206.35 841.572 1207.87 843.262 Q1209.4 844.94 1209.4 847.833 M1207.27 847.208 Q1207.24 845.461 1206.28 844.419 Q1205.33 843.377 1203.76 843.377 Q1201.98 843.377 1200.9 844.384 Q1199.84 845.391 1199.67 847.22 L1207.27 847.208 Z\" fill=\"#000000\" fill-rule=\"nonzero\" fill-opacity=\"1\" /><path clip-path=\"url(#clip040)\" d=\"M1221.42 848.215 Q1221.42 845.901 1220.46 844.627 Q1219.51 843.354 1217.79 843.354 Q1216.07 843.354 1215.11 844.627 Q1214.16 845.901 1214.16 848.215 Q1214.16 850.519 1215.11 851.792 Q1216.07 853.065 1217.79 853.065 Q1219.51 853.065 1220.46 851.792 Q1221.42 850.519 1221.42 848.215 M1223.55 853.239 Q1223.55 856.549 1222.08 858.157 Q1220.61 859.778 1217.58 859.778 Q1216.46 859.778 1215.46 859.604 Q1214.47 859.442 1213.53 859.095 L1213.53 857.023 Q1214.47 857.532 1215.38 857.776 Q1216.29 858.019 1217.24 858.019 Q1219.34 858.019 1220.38 856.919 Q1221.42 855.831 1221.42 853.62 L1221.42 852.567 Q1220.76 853.713 1219.73 854.28 Q1218.7 854.847 1217.27 854.847 Q1214.88 854.847 1213.42 853.03 Q1211.97 851.213 1211.97 848.215 Q1211.97 845.206 1213.42 843.389 Q1214.88 841.572 1217.27 841.572 Q1218.7 841.572 1219.73 842.139 Q1220.76 842.706 1221.42 843.852 L1221.42 841.884 L1223.55 841.884 L1223.55 853.239 Z\" fill=\"#000000\" fill-rule=\"nonzero\" fill-opacity=\"1\" /><path clip-path=\"url(#clip040)\" d=\"M1239.03 847.833 L1239.03 848.875 L1229.23 848.875 Q1229.37 851.074 1230.55 852.232 Q1231.75 853.377 1233.86 853.377 Q1235.09 853.377 1236.24 853.076 Q1237.39 852.776 1238.53 852.174 L1238.53 854.188 Q1237.38 854.674 1236.18 854.928 Q1234.97 855.183 1233.74 855.183 Q1230.63 855.183 1228.82 853.377 Q1227.01 851.572 1227.01 848.493 Q1227.01 845.31 1228.72 843.447 Q1230.45 841.572 1233.37 841.572 Q1235.98 841.572 1237.5 843.262 Q1239.03 844.94 1239.03 847.833 M1236.9 847.208 Q1236.87 845.461 1235.91 844.419 Q1234.96 843.377 1233.39 843.377 Q1231.61 843.377 1230.53 844.384 Q1229.47 845.391 1229.3 847.22 L1236.9 847.208 Z\" fill=\"#000000\" fill-rule=\"nonzero\" fill-opacity=\"1\" /><path clip-path=\"url(#clip040)\" d=\"M1250.03 843.875 Q1249.67 843.667 1249.25 843.574 Q1248.83 843.47 1248.32 843.47 Q1246.51 843.47 1245.54 844.651 Q1244.58 845.82 1244.58 848.019 L1244.58 854.847 L1242.44 854.847 L1242.44 841.884 L1244.58 841.884 L1244.58 843.898 Q1245.25 842.718 1246.33 842.151 Q1247.41 841.572 1248.94 841.572 Q1249.16 841.572 1249.43 841.607 Q1249.7 841.63 1250.02 841.688 L1250.03 843.875 Z\" fill=\"#000000\" fill-rule=\"nonzero\" fill-opacity=\"1\" /><path clip-path=\"url(#clip040)\" d=\"M1197.63 1098.81 L1197.63 1105.14 L1201.38 1105.14 Q1203.27 1105.14 1204.17 1104.37 Q1205.09 1103.58 1205.09 1101.97 Q1205.09 1100.35 1204.17 1099.59 Q1203.27 1098.81 1201.38 1098.81 L1197.63 1098.81 M1197.63 1091.7 L1197.63 1096.91 L1201.09 1096.91 Q1202.81 1096.91 1203.64 1096.28 Q1204.49 1095.63 1204.49 1094.31 Q1204.49 1093 1203.64 1092.35 Q1202.81 1091.7 1201.09 1091.7 L1197.63 1091.7 M1195.3 1089.78 L1201.27 1089.78 Q1203.94 1089.78 1205.39 1090.89 Q1206.83 1092 1206.83 1094.05 Q1206.83 1095.64 1206.09 1096.58 Q1205.35 1097.51 1203.92 1097.75 Q1205.64 1098.12 1206.59 1099.3 Q1207.55 1100.47 1207.55 1102.22 Q1207.55 1104.54 1205.98 1105.8 Q1204.4 1107.06 1201.5 1107.06 L1195.3 1107.06 L1195.3 1089.78 Z\" fill=\"#000000\" fill-rule=\"nonzero\" fill-opacity=\"1\" /><path clip-path=\"url(#clip040)\" d=\"M1216.49 1095.59 Q1214.77 1095.59 1213.78 1096.94 Q1212.78 1098.27 1212.78 1100.59 Q1212.78 1102.92 1213.77 1104.26 Q1214.76 1105.59 1216.49 1105.59 Q1218.19 1105.59 1219.18 1104.25 Q1220.18 1102.91 1220.18 1100.59 Q1220.18 1098.29 1219.18 1096.95 Q1218.19 1095.59 1216.49 1095.59 M1216.49 1093.79 Q1219.27 1093.79 1220.85 1095.59 Q1222.44 1097.4 1222.44 1100.59 Q1222.44 1103.78 1220.85 1105.59 Q1219.27 1107.4 1216.49 1107.4 Q1213.7 1107.4 1212.11 1105.59 Q1210.54 1103.78 1210.54 1100.59 Q1210.54 1097.4 1212.11 1095.59 Q1213.7 1093.79 1216.49 1093.79 Z\" fill=\"#000000\" fill-rule=\"nonzero\" fill-opacity=\"1\" /><path clip-path=\"url(#clip040)\" d=\"M1230.99 1095.59 Q1229.28 1095.59 1228.28 1096.94 Q1227.29 1098.27 1227.29 1100.59 Q1227.29 1102.92 1228.27 1104.26 Q1229.27 1105.59 1230.99 1105.59 Q1232.69 1105.59 1233.69 1104.25 Q1234.68 1102.91 1234.68 1100.59 Q1234.68 1098.29 1233.69 1096.95 Q1232.69 1095.59 1230.99 1095.59 M1230.99 1093.79 Q1233.77 1093.79 1235.35 1095.59 Q1236.94 1097.4 1236.94 1100.59 Q1236.94 1103.78 1235.35 1105.59 Q1233.77 1107.4 1230.99 1107.4 Q1228.2 1107.4 1226.61 1105.59 Q1225.04 1103.78 1225.04 1100.59 Q1225.04 1097.4 1226.61 1095.59 Q1228.2 1093.79 1230.99 1093.79 Z\" fill=\"#000000\" fill-rule=\"nonzero\" fill-opacity=\"1\" /><path clip-path=\"url(#clip040)\" d=\"M1240.47 1089.05 L1242.6 1089.05 L1242.6 1107.06 L1240.47 1107.06 L1240.47 1089.05 Z\" fill=\"#000000\" fill-rule=\"nonzero\" fill-opacity=\"1\" /><path clip-path=\"url(#clip040)\" d=\"M1244.88 1095.4 Q1242.34 1095.4 1240.83 1097.3 Q1239.34 1099.2 1239.34 1102.47 Q1239.34 1105.74 1240.83 1107.64 Q1242.34 1109.53 1244.88 1109.53 Q1247.43 1109.53 1248.91 1107.64 Q1250.4 1105.74 1250.4 1102.47 Q1250.4 1099.2 1248.91 1097.3 Q1247.43 1095.4 1244.88 1095.4 M1244.88 1093.5 Q1248.52 1093.5 1250.69 1095.95 Q1252.87 1098.38 1252.87 1102.47 Q1252.87 1106.56 1250.69 1109 Q1248.52 1111.43 1244.88 1111.43 Q1241.24 1111.43 1239.05 1109 Q1236.87 1106.57 1236.87 1102.47 Q1236.87 1098.38 1239.05 1095.95 Q1241.24 1093.5 1244.88 1093.5 Z\" fill=\"#000000\" fill-rule=\"nonzero\" fill-opacity=\"1\" /><path clip-path=\"url(#clip040)\" d=\"M1263 1093.09 L1263 1094.86 L1260.96 1094.86 Q1259.81 1094.86 1259.36 1095.32 Q1258.92 1095.78 1258.92 1096.99 L1258.92 1098.13 L1262.43 1098.13 L1262.43 1099.79 L1258.92 1099.79 L1258.92 1111.1 L1256.78 1111.1 L1256.78 1099.79 L1254.74 1099.79 L1254.74 1098.13 L1256.78 1098.13 L1256.78 1097.23 Q1256.78 1095.07 1257.79 1094.08 Q1258.79 1093.09 1260.98 1093.09 L1263 1093.09 Z\" fill=\"#000000\" fill-rule=\"nonzero\" fill-opacity=\"1\" /><path clip-path=\"url(#clip040)\" d=\"M1271.34 1093.09 L1271.34 1094.86 L1269.3 1094.86 Q1268.16 1094.86 1267.71 1095.32 Q1267.27 1095.78 1267.27 1096.99 L1267.27 1098.13 L1270.77 1098.13 L1270.77 1099.79 L1267.27 1099.79 L1267.27 1111.1 L1265.13 1111.1 L1265.13 1099.79 L1263.09 1099.79 L1263.09 1098.13 L1265.13 1098.13 L1265.13 1097.23 Q1265.13 1095.07 1266.13 1094.08 Q1267.14 1093.09 1269.33 1093.09 L1271.34 1093.09 Z\" fill=\"#000000\" fill-rule=\"nonzero\" fill-opacity=\"1\" /><path clip-path=\"url(#clip040)\" d=\"M1281.39 1098.52 L1281.39 1100.53 Q1280.48 1100.07 1279.51 1099.83 Q1278.54 1099.6 1277.5 1099.6 Q1275.91 1099.6 1275.11 1100.09 Q1274.33 1100.58 1274.33 1101.55 Q1274.33 1102.29 1274.89 1102.72 Q1275.46 1103.13 1277.17 1103.52 L1277.9 1103.68 Q1280.17 1104.16 1281.12 1105.05 Q1282.08 1105.93 1282.08 1107.52 Q1282.08 1109.33 1280.65 1110.38 Q1279.22 1111.43 1276.72 1111.43 Q1275.68 1111.43 1274.55 1111.22 Q1273.42 1111.03 1272.17 1110.62 L1272.17 1108.42 Q1273.35 1109.04 1274.5 1109.35 Q1275.65 1109.65 1276.77 1109.65 Q1278.27 1109.65 1279.08 1109.14 Q1279.89 1108.62 1279.89 1107.68 Q1279.89 1106.81 1279.3 1106.35 Q1278.72 1105.89 1276.75 1105.46 L1276 1105.29 Q1274.03 1104.87 1273.15 1104.01 Q1272.27 1103.15 1272.27 1101.64 Q1272.27 1099.81 1273.56 1098.82 Q1274.86 1097.82 1277.24 1097.82 Q1278.42 1097.82 1279.47 1097.99 Q1280.51 1098.17 1281.39 1098.52 Z\" fill=\"#000000\" fill-rule=\"nonzero\" fill-opacity=\"1\" /><path clip-path=\"url(#clip040)\" d=\"M1296.56 1104.08 L1296.56 1105.12 L1286.77 1105.12 Q1286.91 1107.32 1288.09 1108.48 Q1289.28 1109.63 1291.4 1109.63 Q1292.63 1109.63 1293.77 1109.33 Q1294.93 1109.02 1296.06 1108.42 L1296.06 1110.44 Q1294.92 1110.92 1293.71 1111.18 Q1292.51 1111.43 1291.27 1111.43 Q1288.17 1111.43 1286.35 1109.63 Q1284.55 1107.82 1284.55 1104.74 Q1284.55 1101.56 1286.26 1099.7 Q1287.98 1097.82 1290.9 1097.82 Q1293.52 1097.82 1295.03 1099.51 Q1296.56 1101.19 1296.56 1104.08 M1294.43 1103.46 Q1294.41 1101.71 1293.45 1100.67 Q1292.5 1099.63 1290.92 1099.63 Q1289.14 1099.63 1288.07 1100.63 Q1287 1101.64 1286.84 1103.47 L1294.43 1103.46 Z\" fill=\"#000000\" fill-rule=\"nonzero\" fill-opacity=\"1\" /><path clip-path=\"url(#clip040)\" d=\"M1302.16 1094.45 L1302.16 1098.13 L1306.55 1098.13 L1306.55 1099.79 L1302.16 1099.79 L1302.16 1106.83 Q1302.16 1108.41 1302.59 1108.86 Q1303.03 1109.31 1304.36 1109.31 L1306.55 1109.31 L1306.55 1111.1 L1304.36 1111.1 Q1301.9 1111.1 1300.96 1110.18 Q1300.02 1109.26 1300.02 1106.83 L1300.02 1099.79 L1298.46 1099.79 L1298.46 1098.13 L1300.02 1098.13 L1300.02 1094.45 L1302.16 1094.45 Z\" fill=\"#000000\" fill-rule=\"nonzero\" fill-opacity=\"1\" /><path clip-path=\"url(#clip040)\" d=\"M1309.44 1093.82 L1311.78 1093.82 L1311.78 1111.1 L1309.44 1111.1 L1309.44 1093.82 Z\" fill=\"#000000\" fill-rule=\"nonzero\" fill-opacity=\"1\" /><path clip-path=\"url(#clip040)\" d=\"M1327.12 1103.27 L1327.12 1111.1 L1324.99 1111.1 L1324.99 1103.34 Q1324.99 1101.5 1324.27 1100.59 Q1323.55 1099.67 1322.12 1099.67 Q1320.39 1099.67 1319.4 1100.77 Q1318.4 1101.87 1318.4 1103.77 L1318.4 1111.1 L1316.26 1111.1 L1316.26 1098.13 L1318.4 1098.13 L1318.4 1100.15 Q1319.16 1098.98 1320.19 1098.4 Q1321.24 1097.82 1322.59 1097.82 Q1324.82 1097.82 1325.97 1099.21 Q1327.12 1100.59 1327.12 1103.27 Z\" fill=\"#000000\" fill-rule=\"nonzero\" fill-opacity=\"1\" /><path clip-path=\"url(#clip040)\" d=\"M1333.47 1094.45 L1333.47 1098.13 L1337.86 1098.13 L1337.86 1099.79 L1333.47 1099.79 L1333.47 1106.83 Q1333.47 1108.41 1333.9 1108.86 Q1334.34 1109.31 1335.67 1109.31 L1337.86 1109.31 L1337.86 1111.1 L1335.67 1111.1 Q1333.2 1111.1 1332.27 1110.18 Q1331.33 1109.26 1331.33 1106.83 L1331.33 1099.79 L1329.77 1099.79 L1329.77 1098.13 L1331.33 1098.13 L1331.33 1094.45 L1333.47 1094.45 Z\" fill=\"#000000\" fill-rule=\"nonzero\" fill-opacity=\"1\" /><path clip-path=\"url(#clip040)\" d=\"M1351.75 1104.08 L1351.75 1105.12 L1341.95 1105.12 Q1342.09 1107.32 1343.27 1108.48 Q1344.47 1109.63 1346.58 1109.63 Q1347.81 1109.63 1348.96 1109.33 Q1350.11 1109.02 1351.25 1108.42 L1351.25 1110.44 Q1350.1 1110.92 1348.9 1111.18 Q1347.69 1111.43 1346.46 1111.43 Q1343.35 1111.43 1341.54 1109.63 Q1339.73 1107.82 1339.73 1104.74 Q1339.73 1101.56 1341.44 1099.7 Q1343.17 1097.82 1346.09 1097.82 Q1348.7 1097.82 1350.22 1099.51 Q1351.75 1101.19 1351.75 1104.08 M1349.62 1103.46 Q1349.59 1101.71 1348.63 1100.67 Q1347.68 1099.63 1346.11 1099.63 Q1344.33 1099.63 1343.25 1100.63 Q1342.19 1101.64 1342.02 1103.47 L1349.62 1103.46 Z\" fill=\"#000000\" fill-rule=\"nonzero\" fill-opacity=\"1\" /><path clip-path=\"url(#clip040)\" d=\"M1363.77 1104.46 Q1363.77 1102.15 1362.81 1100.88 Q1361.86 1099.6 1360.14 1099.6 Q1358.42 1099.6 1357.46 1100.88 Q1356.51 1102.15 1356.51 1104.46 Q1356.51 1106.77 1357.46 1108.04 Q1358.42 1109.31 1360.14 1109.31 Q1361.86 1109.31 1362.81 1108.04 Q1363.77 1106.77 1363.77 1104.46 M1365.9 1109.49 Q1365.9 1112.8 1364.43 1114.41 Q1362.96 1116.03 1359.93 1116.03 Q1358.81 1116.03 1357.81 1115.85 Q1356.81 1115.69 1355.88 1115.34 L1355.88 1113.27 Q1356.81 1113.78 1357.73 1114.02 Q1358.64 1114.27 1359.59 1114.27 Q1361.69 1114.27 1362.73 1113.17 Q1363.77 1112.08 1363.77 1109.87 L1363.77 1108.82 Q1363.11 1109.96 1362.08 1110.53 Q1361.05 1111.1 1359.62 1111.1 Q1357.23 1111.1 1355.77 1109.28 Q1354.31 1107.46 1354.31 1104.46 Q1354.31 1101.46 1355.77 1099.64 Q1357.23 1097.82 1359.62 1097.82 Q1361.05 1097.82 1362.08 1098.39 Q1363.11 1098.96 1363.77 1100.1 L1363.77 1098.13 L1365.9 1098.13 L1365.9 1109.49 Z\" fill=\"#000000\" fill-rule=\"nonzero\" fill-opacity=\"1\" /><path clip-path=\"url(#clip040)\" d=\"M1381.37 1104.08 L1381.37 1105.12 L1371.58 1105.12 Q1371.72 1107.32 1372.9 1108.48 Q1374.09 1109.63 1376.21 1109.63 Q1377.44 1109.63 1378.59 1109.33 Q1379.74 1109.02 1380.88 1108.42 L1380.88 1110.44 Q1379.73 1110.92 1378.53 1111.18 Q1377.32 1111.43 1376.09 1111.43 Q1372.98 1111.43 1371.17 1109.63 Q1369.36 1107.82 1369.36 1104.74 Q1369.36 1101.56 1371.07 1099.7 Q1372.8 1097.82 1375.72 1097.82 Q1378.33 1097.82 1379.85 1099.51 Q1381.37 1101.19 1381.37 1104.08 M1379.25 1103.46 Q1379.22 1101.71 1378.26 1100.67 Q1377.31 1099.63 1375.74 1099.63 Q1373.96 1099.63 1372.88 1100.63 Q1371.81 1101.64 1371.65 1103.47 L1379.25 1103.46 Z\" fill=\"#000000\" fill-rule=\"nonzero\" fill-opacity=\"1\" /><path clip-path=\"url(#clip040)\" d=\"M1392.38 1100.12 Q1392.02 1099.92 1391.59 1099.82 Q1391.18 1099.72 1390.67 1099.72 Q1388.86 1099.72 1387.89 1100.9 Q1386.93 1102.07 1386.93 1104.27 L1386.93 1111.1 L1384.79 1111.1 L1384.79 1098.13 L1386.93 1098.13 L1386.93 1100.15 Q1387.6 1098.97 1388.68 1098.4 Q1389.75 1097.82 1391.29 1097.82 Q1391.51 1097.82 1391.78 1097.86 Q1392.05 1097.88 1392.37 1097.94 L1392.38 1100.12 Z\" fill=\"#000000\" fill-rule=\"nonzero\" fill-opacity=\"1\" /><path clip-path=\"url(#clip040)\" d=\"M1052.37 1101.15 Q1049.82 1101.15 1048.32 1103.05 Q1046.83 1104.95 1046.83 1108.23 Q1046.83 1111.49 1048.32 1113.39 Q1049.82 1115.29 1052.37 1115.29 Q1054.92 1115.29 1056.4 1113.39 Q1057.89 1111.49 1057.89 1108.23 Q1057.89 1104.95 1056.4 1103.05 Q1054.92 1101.15 1052.37 1101.15 M1052.37 1099.26 Q1056 1099.26 1058.18 1101.7 Q1060.36 1104.13 1060.36 1108.23 Q1060.36 1112.31 1058.18 1114.75 Q1056 1117.18 1052.37 1117.18 Q1048.72 1117.18 1046.54 1114.75 Q1044.36 1112.32 1044.36 1108.23 Q1044.36 1104.13 1046.54 1101.7 Q1048.72 1099.26 1052.37 1099.26 Z\" fill=\"#000000\" fill-rule=\"nonzero\" fill-opacity=\"1\" /><path clip-path=\"url(#clip040)\" d=\"M1070.48 1098.84 L1070.48 1100.61 L1068.45 1100.61 Q1067.3 1100.61 1066.85 1101.07 Q1066.41 1101.54 1066.41 1102.74 L1066.41 1103.89 L1069.92 1103.89 L1069.92 1105.54 L1066.41 1105.54 L1066.41 1116.85 L1064.27 1116.85 L1064.27 1105.54 L1062.23 1105.54 L1062.23 1103.89 L1064.27 1103.89 L1064.27 1102.98 Q1064.27 1100.82 1065.27 1099.83 Q1066.28 1098.84 1068.47 1098.84 L1070.48 1098.84 Z\" fill=\"#000000\" fill-rule=\"nonzero\" fill-opacity=\"1\" /><path clip-path=\"url(#clip040)\" d=\"M1078.83 1098.84 L1078.83 1100.61 L1076.79 1100.61 Q1075.64 1100.61 1075.19 1101.07 Q1074.75 1101.54 1074.75 1102.74 L1074.75 1103.89 L1078.26 1103.89 L1078.26 1105.54 L1074.75 1105.54 L1074.75 1116.85 L1072.61 1116.85 L1072.61 1105.54 L1070.57 1105.54 L1070.57 1103.89 L1072.61 1103.89 L1072.61 1102.98 Q1072.61 1100.82 1073.62 1099.83 Q1074.63 1098.84 1076.81 1098.84 L1078.83 1098.84 Z\" fill=\"#000000\" fill-rule=\"nonzero\" fill-opacity=\"1\" /><path clip-path=\"url(#clip040)\" d=\"M1088.87 1104.27 L1088.87 1106.28 Q1087.97 1105.82 1087 1105.59 Q1086.03 1105.36 1084.98 1105.36 Q1083.4 1105.36 1082.6 1105.84 Q1081.81 1106.33 1081.81 1107.3 Q1081.81 1108.04 1082.38 1108.47 Q1082.95 1108.89 1084.66 1109.27 L1085.39 1109.43 Q1087.66 1109.92 1088.61 1110.81 Q1089.57 1111.69 1089.57 1113.27 Q1089.57 1115.08 1088.13 1116.13 Q1086.71 1117.18 1084.21 1117.18 Q1083.17 1117.18 1082.03 1116.98 Q1080.91 1116.78 1079.66 1116.37 L1079.66 1114.17 Q1080.84 1114.79 1081.99 1115.1 Q1083.13 1115.4 1084.26 1115.4 Q1085.76 1115.4 1086.57 1114.89 Q1087.38 1114.37 1087.38 1113.43 Q1087.38 1112.57 1086.79 1112.1 Q1086.21 1111.64 1084.23 1111.21 L1083.49 1111.04 Q1081.51 1110.62 1080.63 1109.77 Q1079.75 1108.9 1079.75 1107.39 Q1079.75 1105.56 1081.05 1104.57 Q1082.35 1103.57 1084.73 1103.57 Q1085.91 1103.57 1086.95 1103.75 Q1087.99 1103.92 1088.87 1104.27 Z\" fill=\"#000000\" fill-rule=\"nonzero\" fill-opacity=\"1\" /><path clip-path=\"url(#clip040)\" d=\"M1104.05 1109.83 L1104.05 1110.88 L1094.26 1110.88 Q1094.39 1113.08 1095.57 1114.23 Q1096.77 1115.38 1098.88 1115.38 Q1100.11 1115.38 1101.26 1115.08 Q1102.41 1114.78 1103.55 1114.17 L1103.55 1116.19 Q1102.4 1116.67 1101.2 1116.93 Q1100 1117.18 1098.76 1117.18 Q1095.66 1117.18 1093.84 1115.38 Q1092.03 1113.57 1092.03 1110.49 Q1092.03 1107.31 1093.75 1105.45 Q1095.47 1103.57 1098.39 1103.57 Q1101 1103.57 1102.52 1105.26 Q1104.05 1106.94 1104.05 1109.83 M1101.92 1109.21 Q1101.89 1107.46 1100.93 1106.42 Q1099.98 1105.38 1098.41 1105.38 Q1096.63 1105.38 1095.55 1106.39 Q1094.49 1107.39 1094.32 1109.22 L1101.92 1109.21 Z\" fill=\"#000000\" fill-rule=\"nonzero\" fill-opacity=\"1\" /><path clip-path=\"url(#clip040)\" d=\"M1109.65 1100.21 L1109.65 1103.89 L1114.04 1103.89 L1114.04 1105.54 L1109.65 1105.54 L1109.65 1112.58 Q1109.65 1114.16 1110.08 1114.61 Q1110.52 1115.07 1111.85 1115.07 L1114.04 1115.07 L1114.04 1116.85 L1111.85 1116.85 Q1109.38 1116.85 1108.45 1115.93 Q1107.51 1115.01 1107.51 1112.58 L1107.51 1105.54 L1105.95 1105.54 L1105.95 1103.89 L1107.51 1103.89 L1107.51 1100.21 L1109.65 1100.21 Z\" fill=\"#000000\" fill-rule=\"nonzero\" fill-opacity=\"1\" /><path clip-path=\"url(#clip040)\" d=\"M1116.93 1099.57 L1119.27 1099.57 L1119.27 1116.85 L1116.93 1116.85 L1116.93 1099.57 Z\" fill=\"#000000\" fill-rule=\"nonzero\" fill-opacity=\"1\" /><path clip-path=\"url(#clip040)\" d=\"M1134.6 1109.02 L1134.6 1116.85 L1132.47 1116.85 L1132.47 1109.09 Q1132.47 1107.25 1131.76 1106.34 Q1131.04 1105.43 1129.6 1105.43 Q1127.88 1105.43 1126.88 1106.52 Q1125.89 1107.62 1125.89 1109.52 L1125.89 1116.85 L1123.75 1116.85 L1123.75 1103.89 L1125.89 1103.89 L1125.89 1105.9 Q1126.65 1104.73 1127.68 1104.15 Q1128.72 1103.57 1130.08 1103.57 Q1132.31 1103.57 1133.46 1104.96 Q1134.6 1106.34 1134.6 1109.02 Z\" fill=\"#000000\" fill-rule=\"nonzero\" fill-opacity=\"1\" /><path clip-path=\"url(#clip040)\" d=\"M1140.96 1100.21 L1140.96 1103.89 L1145.34 1103.89 L1145.34 1105.54 L1140.96 1105.54 L1140.96 1112.58 Q1140.96 1114.16 1141.38 1114.61 Q1141.82 1115.07 1143.16 1115.07 L1145.34 1115.07 L1145.34 1116.85 L1143.16 1116.85 Q1140.69 1116.85 1139.75 1115.93 Q1138.82 1115.01 1138.82 1112.58 L1138.82 1105.54 L1137.25 1105.54 L1137.25 1103.89 L1138.82 1103.89 L1138.82 1100.21 L1140.96 1100.21 Z\" fill=\"#000000\" fill-rule=\"nonzero\" fill-opacity=\"1\" /><path clip-path=\"url(#clip040)\" d=\"M1159.23 1109.83 L1159.23 1110.88 L1149.44 1110.88 Q1149.58 1113.08 1150.76 1114.23 Q1151.95 1115.38 1154.07 1115.38 Q1155.3 1115.38 1156.44 1115.08 Q1157.6 1114.78 1158.73 1114.17 L1158.73 1116.19 Q1157.59 1116.67 1156.38 1116.93 Q1155.18 1117.18 1153.94 1117.18 Q1150.84 1117.18 1149.02 1115.38 Q1147.22 1113.57 1147.22 1110.49 Q1147.22 1107.31 1148.93 1105.45 Q1150.66 1103.57 1153.57 1103.57 Q1156.19 1103.57 1157.7 1105.26 Q1159.23 1106.94 1159.23 1109.83 M1157.1 1109.21 Q1157.08 1107.46 1156.12 1106.42 Q1155.17 1105.38 1153.6 1105.38 Q1151.81 1105.38 1150.74 1106.39 Q1149.67 1107.39 1149.51 1109.22 L1157.1 1109.21 Z\" fill=\"#000000\" fill-rule=\"nonzero\" fill-opacity=\"1\" /><path clip-path=\"url(#clip040)\" d=\"M1171.26 1110.22 Q1171.26 1107.9 1170.3 1106.63 Q1169.35 1105.36 1167.62 1105.36 Q1165.91 1105.36 1164.95 1106.63 Q1164 1107.9 1164 1110.22 Q1164 1112.52 1164.95 1113.79 Q1165.91 1115.07 1167.62 1115.07 Q1169.35 1115.07 1170.3 1113.79 Q1171.26 1112.52 1171.26 1110.22 M1173.39 1115.24 Q1173.39 1118.55 1171.92 1120.16 Q1170.45 1121.78 1167.41 1121.78 Q1166.29 1121.78 1165.3 1121.61 Q1164.3 1121.44 1163.36 1121.1 L1163.36 1119.02 Q1164.3 1119.53 1165.22 1119.78 Q1166.13 1120.02 1167.08 1120.02 Q1169.17 1120.02 1170.22 1118.92 Q1171.26 1117.83 1171.26 1115.62 L1171.26 1114.57 Q1170.6 1115.71 1169.57 1116.28 Q1168.54 1116.85 1167.1 1116.85 Q1164.72 1116.85 1163.26 1115.03 Q1161.8 1113.21 1161.8 1110.22 Q1161.8 1107.21 1163.26 1105.39 Q1164.72 1103.57 1167.1 1103.57 Q1168.54 1103.57 1169.57 1104.14 Q1170.6 1104.71 1171.26 1105.85 L1171.26 1103.89 L1173.39 1103.89 L1173.39 1115.24 Z\" fill=\"#000000\" fill-rule=\"nonzero\" fill-opacity=\"1\" /><path clip-path=\"url(#clip040)\" d=\"M1188.86 1109.83 L1188.86 1110.88 L1179.07 1110.88 Q1179.21 1113.08 1180.39 1114.23 Q1181.58 1115.38 1183.7 1115.38 Q1184.93 1115.38 1186.07 1115.08 Q1187.23 1114.78 1188.36 1114.17 L1188.36 1116.19 Q1187.22 1116.67 1186.01 1116.93 Q1184.81 1117.18 1183.57 1117.18 Q1180.47 1117.18 1178.65 1115.38 Q1176.85 1113.57 1176.85 1110.49 Q1176.85 1107.31 1178.56 1105.45 Q1180.28 1103.57 1183.2 1103.57 Q1185.82 1103.57 1187.33 1105.26 Q1188.86 1106.94 1188.86 1109.83 M1186.73 1109.21 Q1186.71 1107.46 1185.75 1106.42 Q1184.8 1105.38 1183.22 1105.38 Q1181.44 1105.38 1180.37 1106.39 Q1179.3 1107.39 1179.14 1109.22 L1186.73 1109.21 Z\" fill=\"#000000\" fill-rule=\"nonzero\" fill-opacity=\"1\" /><path clip-path=\"url(#clip040)\" d=\"M1199.87 1105.88 Q1199.51 1105.67 1199.08 1105.58 Q1198.66 1105.47 1198.16 1105.47 Q1196.35 1105.47 1195.38 1106.65 Q1194.42 1107.82 1194.42 1110.02 L1194.42 1116.85 L1192.28 1116.85 L1192.28 1103.89 L1194.42 1103.89 L1194.42 1105.9 Q1195.09 1104.72 1196.16 1104.15 Q1197.24 1103.57 1198.78 1103.57 Q1199 1103.57 1199.27 1103.61 Q1199.53 1103.63 1199.86 1103.69 L1199.87 1105.88 Z\" fill=\"#000000\" fill-rule=\"nonzero\" fill-opacity=\"1\" /><path clip-path=\"url(#clip040)\" d=\"M888.009 1052.12 L888.009 1054.41 Q886.678 1053.77 885.497 1053.46 Q884.316 1053.14 883.217 1053.14 Q881.307 1053.14 880.266 1053.88 Q879.235 1054.62 879.235 1055.99 Q879.235 1057.14 879.918 1057.73 Q880.613 1058.31 882.534 1058.66 L883.946 1058.95 Q886.562 1059.45 887.8 1060.71 Q889.05 1061.96 889.05 1064.07 Q889.05 1066.58 887.36 1067.88 Q885.682 1069.17 882.43 1069.17 Q881.203 1069.17 879.814 1068.9 Q878.437 1068.62 876.955 1068.07 L876.955 1065.67 Q878.379 1066.47 879.745 1066.87 Q881.11 1067.28 882.43 1067.28 Q884.432 1067.28 885.52 1066.49 Q886.608 1065.7 886.608 1064.24 Q886.608 1062.97 885.821 1062.25 Q885.046 1061.53 883.263 1061.18 L881.84 1060.9 Q879.224 1060.38 878.055 1059.27 Q876.886 1058.16 876.886 1056.18 Q876.886 1053.88 878.495 1052.56 Q880.115 1051.25 882.951 1051.25 Q884.166 1051.25 885.428 1051.47 Q886.689 1051.69 888.009 1052.12 Z\" fill=\"#000000\" fill-rule=\"nonzero\" fill-opacity=\"1\" /><path clip-path=\"url(#clip040)\" d=\"M892.603 1055.87 L894.733 1055.87 L894.733 1068.84 L892.603 1068.84 L892.603 1055.87 M892.603 1050.83 L894.733 1050.83 L894.733 1053.53 L892.603 1053.53 L892.603 1050.83 Z\" fill=\"#000000\" fill-rule=\"nonzero\" fill-opacity=\"1\" /><path clip-path=\"url(#clip040)\" d=\"M907.719 1062.21 Q907.719 1059.89 906.758 1058.62 Q905.809 1057.34 904.085 1057.34 Q902.372 1057.34 901.411 1058.62 Q900.462 1059.89 900.462 1062.21 Q900.462 1064.51 901.411 1065.78 Q902.372 1067.06 904.085 1067.06 Q905.809 1067.06 906.758 1065.78 Q907.719 1064.51 907.719 1062.21 M909.849 1067.23 Q909.849 1070.54 908.379 1072.15 Q906.909 1073.77 903.877 1073.77 Q902.754 1073.77 901.758 1073.59 Q900.763 1073.43 899.826 1073.09 L899.826 1071.01 Q900.763 1071.52 901.677 1071.77 Q902.592 1072.01 903.541 1072.01 Q905.636 1072.01 906.677 1070.91 Q907.719 1069.82 907.719 1067.61 L907.719 1066.56 Q907.059 1067.7 906.029 1068.27 Q904.999 1068.84 903.564 1068.84 Q901.18 1068.84 899.721 1067.02 Q898.263 1065.2 898.263 1062.21 Q898.263 1059.2 899.721 1057.38 Q901.18 1055.56 903.564 1055.56 Q904.999 1055.56 906.029 1056.13 Q907.059 1056.7 907.719 1057.84 L907.719 1055.87 L909.849 1055.87 L909.849 1067.23 Z\" fill=\"#000000\" fill-rule=\"nonzero\" fill-opacity=\"1\" /><path clip-path=\"url(#clip040)\" d=\"M925.011 1061.01 L925.011 1068.84 L922.881 1068.84 L922.881 1061.08 Q922.881 1059.24 922.163 1058.33 Q921.446 1057.41 920.011 1057.41 Q918.286 1057.41 917.291 1058.51 Q916.295 1059.61 916.295 1061.51 L916.295 1068.84 L914.154 1068.84 L914.154 1055.87 L916.295 1055.87 L916.295 1057.89 Q917.059 1056.72 918.089 1056.14 Q919.131 1055.56 920.485 1055.56 Q922.719 1055.56 923.865 1056.95 Q925.011 1058.33 925.011 1061.01 Z\" fill=\"#000000\" fill-rule=\"nonzero\" fill-opacity=\"1\" /><path clip-path=\"url(#clip040)\" d=\"M940.346 1061.82 L940.346 1062.87 L930.555 1062.87 Q930.694 1065.06 931.874 1066.22 Q933.066 1067.37 935.184 1067.37 Q936.411 1067.37 937.557 1067.07 Q938.714 1066.77 939.849 1066.16 L939.849 1068.18 Q938.703 1068.66 937.499 1068.92 Q936.295 1069.17 935.057 1069.17 Q931.955 1069.17 930.138 1067.37 Q928.332 1065.56 928.332 1062.48 Q928.332 1059.3 930.045 1057.44 Q931.77 1055.56 934.687 1055.56 Q937.302 1055.56 938.818 1057.25 Q940.346 1058.93 940.346 1061.82 M938.217 1061.2 Q938.193 1059.45 937.233 1058.41 Q936.284 1057.37 934.71 1057.37 Q932.927 1057.37 931.851 1058.37 Q930.786 1059.38 930.624 1061.21 L938.217 1061.2 Z\" fill=\"#000000\" fill-rule=\"nonzero\" fill-opacity=\"1\" /><path clip-path=\"url(#clip040)\" d=\"M952.372 1057.84 L952.372 1050.83 L954.501 1050.83 L954.501 1068.84 L952.372 1068.84 L952.372 1066.89 Q951.7 1068.05 950.67 1068.62 Q949.652 1069.17 948.217 1069.17 Q945.867 1069.17 944.386 1067.3 Q942.916 1065.42 942.916 1062.37 Q942.916 1059.31 944.386 1057.44 Q945.867 1055.56 948.217 1055.56 Q949.652 1055.56 950.67 1056.13 Q951.7 1056.69 952.372 1057.84 M945.115 1062.37 Q945.115 1064.72 946.075 1066.06 Q947.048 1067.39 948.737 1067.39 Q950.427 1067.39 951.399 1066.06 Q952.372 1064.72 952.372 1062.37 Q952.372 1060.02 951.399 1058.69 Q950.427 1057.34 948.737 1057.34 Q947.048 1057.34 946.075 1058.69 Q945.115 1060.02 945.115 1062.37 Z\" fill=\"#000000\" fill-rule=\"nonzero\" fill-opacity=\"1\" /><path clip-path=\"url(#clip040)\" d=\"M1019.88 1277.87 L1019.88 1284.2 L1023.63 1284.2 Q1025.51 1284.2 1026.42 1283.43 Q1027.33 1282.64 1027.33 1281.03 Q1027.33 1279.41 1026.42 1278.65 Q1025.51 1277.87 1023.63 1277.87 L1019.88 1277.87 M1019.88 1270.77 L1019.88 1275.97 L1023.34 1275.97 Q1025.05 1275.97 1025.88 1275.34 Q1026.73 1274.69 1026.73 1273.37 Q1026.73 1272.06 1025.88 1271.41 Q1025.05 1270.77 1023.34 1270.77 L1019.88 1270.77 M1017.54 1268.84 L1023.51 1268.84 Q1026.19 1268.84 1027.63 1269.96 Q1029.08 1271.07 1029.08 1273.12 Q1029.08 1274.7 1028.34 1275.64 Q1027.6 1276.58 1026.16 1276.81 Q1027.89 1277.18 1028.84 1278.36 Q1029.8 1279.53 1029.8 1281.29 Q1029.8 1283.6 1028.22 1284.86 Q1026.65 1286.12 1023.74 1286.12 L1017.54 1286.12 L1017.54 1268.84 Z\" fill=\"#000000\" fill-rule=\"nonzero\" fill-opacity=\"1\" /><path clip-path=\"url(#clip040)\" d=\"M1033.71 1273.16 L1035.84 1273.16 L1035.84 1286.12 L1033.71 1286.12 L1033.71 1273.16 M1033.71 1268.12 L1035.84 1268.12 L1035.84 1270.81 L1033.71 1270.81 L1033.71 1268.12 Z\" fill=\"#000000\" fill-rule=\"nonzero\" fill-opacity=\"1\" /><path clip-path=\"url(#clip040)\" d=\"M1048.82 1279.49 Q1048.82 1277.18 1047.86 1275.9 Q1046.91 1274.63 1045.19 1274.63 Q1043.48 1274.63 1042.52 1275.9 Q1041.57 1277.18 1041.57 1279.49 Q1041.57 1281.8 1042.52 1283.07 Q1043.48 1284.34 1045.19 1284.34 Q1046.91 1284.34 1047.86 1283.07 Q1048.82 1281.8 1048.82 1279.49 M1050.95 1284.52 Q1050.95 1287.83 1049.48 1289.43 Q1048.01 1291.05 1044.98 1291.05 Q1043.86 1291.05 1042.86 1290.88 Q1041.87 1290.72 1040.93 1290.37 L1040.93 1288.3 Q1041.87 1288.81 1042.78 1289.05 Q1043.7 1289.3 1044.65 1289.3 Q1046.74 1289.3 1047.78 1288.2 Q1048.82 1287.11 1048.82 1284.9 L1048.82 1283.84 Q1048.16 1284.99 1047.13 1285.56 Q1046.1 1286.12 1044.67 1286.12 Q1042.28 1286.12 1040.83 1284.31 Q1039.37 1282.49 1039.37 1279.49 Q1039.37 1276.48 1040.83 1274.67 Q1042.28 1272.85 1044.67 1272.85 Q1046.1 1272.85 1047.13 1273.42 Q1048.16 1273.98 1048.82 1275.13 L1048.82 1273.16 L1050.95 1273.16 L1050.95 1284.52 Z\" fill=\"#000000\" fill-rule=\"nonzero\" fill-opacity=\"1\" /><path clip-path=\"url(#clip040)\" d=\"M1055.43 1268.84 L1057.77 1268.84 L1057.77 1286.12 L1055.43 1286.12 L1055.43 1268.84 Z\" fill=\"#000000\" fill-rule=\"nonzero\" fill-opacity=\"1\" /><path clip-path=\"url(#clip040)\" d=\"M1073.11 1278.3 L1073.11 1286.12 L1070.98 1286.12 L1070.98 1278.37 Q1070.98 1276.53 1070.26 1275.62 Q1069.54 1274.7 1068.11 1274.7 Q1066.38 1274.7 1065.39 1275.8 Q1064.39 1276.9 1064.39 1278.8 L1064.39 1286.12 L1062.25 1286.12 L1062.25 1273.16 L1064.39 1273.16 L1064.39 1275.18 Q1065.16 1274.01 1066.19 1273.43 Q1067.23 1272.85 1068.58 1272.85 Q1070.81 1272.85 1071.96 1274.24 Q1073.11 1275.62 1073.11 1278.3 Z\" fill=\"#000000\" fill-rule=\"nonzero\" fill-opacity=\"1\" /><path clip-path=\"url(#clip040)\" d=\"M1079.46 1269.48 L1079.46 1273.16 L1083.85 1273.16 L1083.85 1274.82 L1079.46 1274.82 L1079.46 1281.85 Q1079.46 1283.44 1079.89 1283.89 Q1080.33 1284.34 1081.66 1284.34 L1083.85 1284.34 L1083.85 1286.12 L1081.66 1286.12 Q1079.19 1286.12 1078.26 1285.21 Q1077.32 1284.28 1077.32 1281.85 L1077.32 1274.82 L1075.76 1274.82 L1075.76 1273.16 L1077.32 1273.16 L1077.32 1269.48 L1079.46 1269.48 Z\" fill=\"#000000\" fill-rule=\"nonzero\" fill-opacity=\"1\" /><path clip-path=\"url(#clip040)\" d=\"M692.325 1281.28 L694.663 1281.28 L694.663 1298.56 L692.325 1298.56 L692.325 1281.28 Z\" fill=\"#000000\" fill-rule=\"nonzero\" fill-opacity=\"1\" /><path clip-path=\"url(#clip040)\" d=\"M709.999 1290.74 L709.999 1298.56 L707.869 1298.56 L707.869 1290.81 Q707.869 1288.97 707.152 1288.05 Q706.434 1287.14 704.999 1287.14 Q703.274 1287.14 702.279 1288.24 Q701.284 1289.34 701.284 1291.23 L701.284 1298.56 L699.142 1298.56 L699.142 1285.6 L701.284 1285.6 L701.284 1287.61 Q702.048 1286.44 703.078 1285.86 Q704.119 1285.28 705.473 1285.28 Q707.707 1285.28 708.853 1286.67 Q709.999 1288.05 709.999 1290.74 Z\" fill=\"#000000\" fill-rule=\"nonzero\" fill-opacity=\"1\" /><path clip-path=\"url(#clip040)\" d=\"M716.353 1281.92 L716.353 1285.6 L720.74 1285.6 L720.74 1287.25 L716.353 1287.25 L716.353 1294.29 Q716.353 1295.88 716.781 1296.33 Q717.221 1296.78 718.552 1296.78 L720.74 1296.78 L720.74 1298.56 L718.552 1298.56 Q716.087 1298.56 715.149 1297.65 Q714.212 1296.72 714.212 1294.29 L714.212 1287.25 L712.649 1287.25 L712.649 1285.6 L714.212 1285.6 L714.212 1281.92 L716.353 1281.92 Z\" fill=\"#000000\" fill-rule=\"nonzero\" fill-opacity=\"1\" /><path clip-path=\"url(#clip040)\" d=\"M724.247 1296.59 L728.066 1296.59 L728.066 1283.41 L723.911 1284.24 L723.911 1282.11 L728.043 1281.28 L730.381 1281.28 L730.381 1296.59 L734.2 1296.59 L734.2 1298.56 L724.247 1298.56 L724.247 1296.59 Z\" fill=\"#000000\" fill-rule=\"nonzero\" fill-opacity=\"1\" /><path clip-path=\"url(#clip040)\" d=\"M740.936 1296.59 L749.096 1296.59 L749.096 1298.56 L738.124 1298.56 L738.124 1296.59 Q739.455 1295.22 741.746 1292.9 Q744.05 1290.57 744.64 1289.9 Q745.763 1288.64 746.202 1287.77 Q746.654 1286.89 746.654 1286.05 Q746.654 1284.67 745.682 1283.8 Q744.721 1282.94 743.17 1282.94 Q742.07 1282.94 740.844 1283.32 Q739.628 1283.7 738.239 1284.47 L738.239 1282.11 Q739.652 1281.55 740.878 1281.26 Q742.105 1280.97 743.124 1280.97 Q745.809 1280.97 747.406 1282.31 Q749.003 1283.65 749.003 1285.9 Q749.003 1286.96 748.598 1287.92 Q748.205 1288.87 747.151 1290.17 Q746.862 1290.5 745.311 1292.11 Q743.76 1293.71 740.936 1296.59 Z\" fill=\"#000000\" fill-rule=\"nonzero\" fill-opacity=\"1\" /><path clip-path=\"url(#clip040)\" d=\"M759.003 1290.35 Q757.337 1290.35 756.376 1291.25 Q755.427 1292.14 755.427 1293.7 Q755.427 1295.26 756.376 1296.15 Q757.337 1297.04 759.003 1297.04 Q760.67 1297.04 761.631 1296.15 Q762.591 1295.25 762.591 1293.7 Q762.591 1292.14 761.631 1291.25 Q760.682 1290.35 759.003 1290.35 M756.665 1289.36 Q755.161 1288.99 754.316 1287.96 Q753.482 1286.93 753.482 1285.45 Q753.482 1283.38 754.952 1282.17 Q756.434 1280.97 759.003 1280.97 Q761.584 1280.97 763.054 1282.17 Q764.524 1283.38 764.524 1285.45 Q764.524 1286.93 763.679 1287.96 Q762.846 1288.99 761.353 1289.36 Q763.043 1289.75 763.98 1290.9 Q764.929 1292.04 764.929 1293.7 Q764.929 1296.21 763.39 1297.55 Q761.862 1298.9 759.003 1298.9 Q756.144 1298.9 754.605 1297.55 Q753.077 1296.21 753.077 1293.7 Q753.077 1292.04 754.026 1290.9 Q754.976 1289.75 756.665 1289.36 M755.809 1285.67 Q755.809 1287.01 756.642 1287.76 Q757.487 1288.51 759.003 1288.51 Q760.508 1288.51 761.353 1287.76 Q762.209 1287.01 762.209 1285.67 Q762.209 1284.32 761.353 1283.57 Q760.508 1282.82 759.003 1282.82 Q757.487 1282.82 756.642 1283.57 Q755.809 1284.32 755.809 1285.67 Z\" fill=\"#000000\" fill-rule=\"nonzero\" fill-opacity=\"1\" /><path clip-path=\"url(#clip040)\" d=\"M758.676 1248.23 L761.014 1248.23 L761.014 1265.51 L758.676 1265.51 L758.676 1248.23 Z\" fill=\"#000000\" fill-rule=\"nonzero\" fill-opacity=\"1\" /><path clip-path=\"url(#clip040)\" d=\"M776.349 1257.68 L776.349 1265.51 L774.22 1265.51 L774.22 1257.75 Q774.22 1255.91 773.502 1255 Q772.785 1254.08 771.349 1254.08 Q769.625 1254.08 768.629 1255.18 Q767.634 1256.28 767.634 1258.18 L767.634 1265.51 L765.493 1265.51 L765.493 1252.54 L767.634 1252.54 L767.634 1254.56 Q768.398 1253.39 769.428 1252.81 Q770.47 1252.23 771.824 1252.23 Q774.058 1252.23 775.204 1253.62 Q776.349 1255 776.349 1257.68 Z\" fill=\"#000000\" fill-rule=\"nonzero\" fill-opacity=\"1\" /><path clip-path=\"url(#clip040)\" d=\"M782.703 1248.86 L782.703 1252.54 L787.09 1252.54 L787.09 1254.2 L782.703 1254.2 L782.703 1261.24 Q782.703 1262.82 783.132 1263.27 Q783.572 1263.72 784.903 1263.72 L787.09 1263.72 L787.09 1265.51 L784.903 1265.51 Q782.437 1265.51 781.5 1264.59 Q780.562 1263.67 780.562 1261.24 L780.562 1254.2 L779 1254.2 L779 1252.54 L780.562 1252.54 L780.562 1248.86 L782.703 1248.86 Z\" fill=\"#000000\" fill-rule=\"nonzero\" fill-opacity=\"1\" /><path clip-path=\"url(#clip040)\" d=\"M790.597 1263.54 L794.416 1263.54 L794.416 1250.36 L790.261 1251.19 L790.261 1249.06 L794.393 1248.23 L796.731 1248.23 L796.731 1263.54 L800.551 1263.54 L800.551 1265.51 L790.597 1265.51 L790.597 1263.54 Z\" fill=\"#000000\" fill-rule=\"nonzero\" fill-opacity=\"1\" /><path clip-path=\"url(#clip040)\" d=\"M810.562 1255.93 Q808.988 1255.93 808.062 1257.01 Q807.148 1258.09 807.148 1259.96 Q807.148 1261.83 808.062 1262.91 Q808.988 1263.99 810.562 1263.99 Q812.136 1263.99 813.051 1262.91 Q813.976 1261.83 813.976 1259.96 Q813.976 1258.09 813.051 1257.01 Q812.136 1255.93 810.562 1255.93 M815.203 1248.61 L815.203 1250.74 Q814.324 1250.32 813.421 1250.1 Q812.53 1249.88 811.65 1249.88 Q809.335 1249.88 808.108 1251.44 Q806.893 1253.01 806.72 1256.17 Q807.402 1255.16 808.432 1254.63 Q809.463 1254.08 810.701 1254.08 Q813.305 1254.08 814.81 1255.67 Q816.326 1257.24 816.326 1259.96 Q816.326 1262.62 814.752 1264.23 Q813.178 1265.84 810.562 1265.84 Q807.564 1265.84 805.979 1263.55 Q804.393 1261.25 804.393 1256.88 Q804.393 1252.79 806.338 1250.36 Q808.282 1247.91 811.557 1247.91 Q812.437 1247.91 813.328 1248.09 Q814.231 1248.26 815.203 1248.61 Z\" fill=\"#000000\" fill-rule=\"nonzero\" fill-opacity=\"1\" /><path clip-path=\"url(#clip040)\" d=\"M923.641 1274.3 L925.979 1274.3 L925.979 1291.58 L923.641 1291.58 L923.641 1274.3 Z\" fill=\"#000000\" fill-rule=\"nonzero\" fill-opacity=\"1\" /><path clip-path=\"url(#clip040)\" d=\"M941.315 1283.76 L941.315 1291.58 L939.185 1291.58 L939.185 1283.83 Q939.185 1281.99 938.468 1281.07 Q937.75 1280.16 936.315 1280.16 Q934.59 1280.16 933.595 1281.26 Q932.6 1282.36 932.6 1284.26 L932.6 1291.58 L930.458 1291.58 L930.458 1278.62 L932.6 1278.62 L932.6 1280.63 Q933.364 1279.46 934.394 1278.88 Q935.435 1278.31 936.789 1278.31 Q939.023 1278.31 940.169 1279.7 Q941.315 1281.07 941.315 1283.76 Z\" fill=\"#000000\" fill-rule=\"nonzero\" fill-opacity=\"1\" /><path clip-path=\"url(#clip040)\" d=\"M947.669 1274.94 L947.669 1278.62 L952.056 1278.62 L952.056 1280.27 L947.669 1280.27 L947.669 1287.31 Q947.669 1288.9 948.097 1289.35 Q948.537 1289.8 949.868 1289.8 L952.056 1289.8 L952.056 1291.58 L949.868 1291.58 Q947.403 1291.58 946.465 1290.67 Q945.528 1289.74 945.528 1287.31 L945.528 1280.27 L943.965 1280.27 L943.965 1278.62 L945.528 1278.62 L945.528 1274.94 L947.669 1274.94 Z\" fill=\"#000000\" fill-rule=\"nonzero\" fill-opacity=\"1\" /><path clip-path=\"url(#clip040)\" d=\"M962.241 1282.26 Q963.919 1282.62 964.856 1283.76 Q965.806 1284.89 965.806 1286.56 Q965.806 1289.12 964.046 1290.52 Q962.287 1291.92 959.046 1291.92 Q957.958 1291.92 956.801 1291.7 Q955.655 1291.49 954.428 1291.06 L954.428 1288.8 Q955.4 1289.37 956.558 1289.66 Q957.715 1289.95 958.977 1289.95 Q961.176 1289.95 962.322 1289.08 Q963.479 1288.21 963.479 1286.56 Q963.479 1285.03 962.403 1284.17 Q961.338 1283.31 959.428 1283.31 L957.414 1283.31 L957.414 1281.38 L959.521 1281.38 Q961.245 1281.38 962.16 1280.7 Q963.074 1280.01 963.074 1278.71 Q963.074 1277.38 962.125 1276.67 Q961.187 1275.96 959.428 1275.96 Q958.468 1275.96 957.368 1276.17 Q956.269 1276.37 954.949 1276.81 L954.949 1274.73 Q956.28 1274.36 957.438 1274.17 Q958.606 1273.99 959.637 1273.99 Q962.299 1273.99 963.85 1275.2 Q965.4 1276.41 965.4 1278.47 Q965.4 1279.9 964.579 1280.9 Q963.757 1281.88 962.241 1282.26 Z\" fill=\"#000000\" fill-rule=\"nonzero\" fill-opacity=\"1\" /><path clip-path=\"url(#clip040)\" d=\"M972.252 1289.61 L980.412 1289.61 L980.412 1291.58 L969.44 1291.58 L969.44 1289.61 Q970.771 1288.24 973.062 1285.92 Q975.366 1283.6 975.956 1282.92 Q977.079 1281.66 977.518 1280.79 Q977.97 1279.92 977.97 1279.07 Q977.97 1277.69 976.998 1276.82 Q976.037 1275.96 974.486 1275.96 Q973.386 1275.96 972.16 1276.34 Q970.944 1276.72 969.556 1277.5 L969.556 1275.13 Q970.968 1274.57 972.194 1274.28 Q973.421 1273.99 974.44 1273.99 Q977.125 1273.99 978.722 1275.33 Q980.319 1276.67 980.319 1278.92 Q980.319 1279.98 979.914 1280.95 Q979.521 1281.89 978.467 1283.19 Q978.178 1283.53 976.627 1285.13 Q975.076 1286.73 972.252 1289.61 Z\" fill=\"#000000\" fill-rule=\"nonzero\" fill-opacity=\"1\" /><path clip-path=\"url(#clip040)\" d=\"M633.411 1292.16 L635.749 1292.16 L635.749 1309.44 L633.411 1309.44 L633.411 1292.16 Z\" fill=\"#000000\" fill-rule=\"nonzero\" fill-opacity=\"1\" /><path clip-path=\"url(#clip040)\" d=\"M651.085 1301.62 L651.085 1309.44 L648.955 1309.44 L648.955 1301.69 Q648.955 1299.85 648.237 1298.93 Q647.52 1298.02 646.085 1298.02 Q644.36 1298.02 643.365 1299.12 Q642.369 1300.22 642.369 1302.11 L642.369 1309.44 L640.228 1309.44 L640.228 1296.48 L642.369 1296.48 L642.369 1298.49 Q643.133 1297.32 644.163 1296.74 Q645.205 1296.16 646.559 1296.16 Q648.793 1296.16 649.939 1297.55 Q651.085 1298.93 651.085 1301.62 Z\" fill=\"#000000\" fill-rule=\"nonzero\" fill-opacity=\"1\" /><path clip-path=\"url(#clip040)\" d=\"M657.439 1292.8 L657.439 1296.48 L661.825 1296.48 L661.825 1298.13 L657.439 1298.13 L657.439 1305.17 Q657.439 1306.75 657.867 1307.21 Q658.307 1307.66 659.638 1307.66 L661.825 1307.66 L661.825 1309.44 L659.638 1309.44 Q657.173 1309.44 656.235 1308.53 Q655.298 1307.6 655.298 1305.17 L655.298 1298.13 L653.735 1298.13 L653.735 1296.48 L655.298 1296.48 L655.298 1292.8 L657.439 1292.8 Z\" fill=\"#000000\" fill-rule=\"nonzero\" fill-opacity=\"1\" /><path clip-path=\"url(#clip040)\" d=\"M670.216 1299.87 Q668.642 1299.87 667.716 1300.94 Q666.802 1302.02 666.802 1303.9 Q666.802 1305.76 667.716 1306.85 Q668.642 1307.92 670.216 1307.92 Q671.791 1307.92 672.705 1306.85 Q673.631 1305.76 673.631 1303.9 Q673.631 1302.02 672.705 1300.94 Q671.791 1299.87 670.216 1299.87 M674.858 1292.54 L674.858 1294.67 Q673.978 1294.25 673.075 1294.03 Q672.184 1293.81 671.304 1293.81 Q668.99 1293.81 667.763 1295.38 Q666.548 1296.94 666.374 1300.1 Q667.057 1299.09 668.087 1298.56 Q669.117 1298.02 670.355 1298.02 Q672.96 1298.02 674.464 1299.6 Q675.98 1301.18 675.98 1303.9 Q675.98 1306.56 674.406 1308.17 Q672.832 1309.78 670.216 1309.78 Q667.219 1309.78 665.633 1307.48 Q664.048 1305.18 664.048 1300.82 Q664.048 1296.72 665.992 1294.29 Q667.936 1291.85 671.212 1291.85 Q672.091 1291.85 672.983 1292.02 Q673.885 1292.19 674.858 1292.54 Z\" fill=\"#000000\" fill-rule=\"nonzero\" fill-opacity=\"1\" /><path clip-path=\"url(#clip040)\" d=\"M686.432 1294.2 L680.529 1303.42 L686.432 1303.42 L686.432 1294.2 M685.818 1292.16 L688.758 1292.16 L688.758 1303.42 L691.223 1303.42 L691.223 1305.37 L688.758 1305.37 L688.758 1309.44 L686.432 1309.44 L686.432 1305.37 L678.631 1305.37 L678.631 1303.11 L685.818 1292.16 Z\" fill=\"#000000\" fill-rule=\"nonzero\" fill-opacity=\"1\" /><path clip-path=\"url(#clip040)\" d=\"M859.695 1322.46 L862.033 1322.46 L862.033 1339.74 L859.695 1339.74 L859.695 1322.46 Z\" fill=\"#000000\" fill-rule=\"nonzero\" fill-opacity=\"1\" /><path clip-path=\"url(#clip040)\" d=\"M877.369 1331.92 L877.369 1339.74 L875.239 1339.74 L875.239 1331.98 Q875.239 1330.14 874.522 1329.23 Q873.804 1328.32 872.369 1328.32 Q870.644 1328.32 869.649 1329.42 Q868.654 1330.51 868.654 1332.41 L868.654 1339.74 L866.512 1339.74 L866.512 1326.78 L868.654 1326.78 L868.654 1328.79 Q869.418 1327.62 870.448 1327.04 Q871.489 1326.46 872.843 1326.46 Q875.077 1326.46 876.223 1327.85 Q877.369 1329.23 877.369 1331.92 Z\" fill=\"#000000\" fill-rule=\"nonzero\" fill-opacity=\"1\" /><path clip-path=\"url(#clip040)\" d=\"M883.723 1323.1 L883.723 1326.78 L888.11 1326.78 L888.11 1328.43 L883.723 1328.43 L883.723 1335.47 Q883.723 1337.05 884.151 1337.51 Q884.591 1337.96 885.922 1337.96 L888.11 1337.96 L888.11 1339.74 L885.922 1339.74 Q883.457 1339.74 882.519 1338.82 Q881.582 1337.9 881.582 1335.47 L881.582 1328.43 L880.019 1328.43 L880.019 1326.78 L881.582 1326.78 L881.582 1323.1 L883.723 1323.1 Z\" fill=\"#000000\" fill-rule=\"nonzero\" fill-opacity=\"1\" /><path clip-path=\"url(#clip040)\" d=\"M896.211 1331.53 Q894.545 1331.53 893.584 1332.42 Q892.635 1333.32 892.635 1334.88 Q892.635 1336.44 893.584 1337.33 Q894.545 1338.22 896.211 1338.22 Q897.878 1338.22 898.839 1337.33 Q899.799 1336.43 899.799 1334.88 Q899.799 1333.32 898.839 1332.42 Q897.89 1331.53 896.211 1331.53 M893.873 1330.54 Q892.369 1330.17 891.524 1329.14 Q890.691 1328.11 890.691 1326.63 Q890.691 1324.55 892.16 1323.35 Q893.642 1322.15 896.211 1322.15 Q898.792 1322.15 900.262 1323.35 Q901.732 1324.55 901.732 1326.63 Q901.732 1328.11 900.887 1329.14 Q900.054 1330.17 898.561 1330.54 Q900.251 1330.93 901.188 1332.08 Q902.137 1333.22 902.137 1334.88 Q902.137 1337.39 900.598 1338.73 Q899.07 1340.07 896.211 1340.07 Q893.353 1340.07 891.813 1338.73 Q890.285 1337.39 890.285 1334.88 Q890.285 1333.22 891.235 1332.08 Q892.184 1330.93 893.873 1330.54 M893.017 1326.85 Q893.017 1328.19 893.85 1328.94 Q894.695 1329.69 896.211 1329.69 Q897.716 1329.69 898.561 1328.94 Q899.417 1328.19 899.417 1326.85 Q899.417 1325.5 898.561 1324.75 Q897.716 1324 896.211 1324 Q894.695 1324 893.85 1324.75 Q893.017 1325.5 893.017 1326.85 Z\" fill=\"#000000\" fill-rule=\"nonzero\" fill-opacity=\"1\" /><path clip-path=\"url(#clip040)\" d=\"M1440.22 1128.92 L1442.57 1128.92 L1442.57 1139.42 Q1442.57 1142.2 1443.57 1143.42 Q1444.58 1144.64 1446.84 1144.64 Q1449.08 1144.64 1450.09 1143.42 Q1451.1 1142.2 1451.1 1139.42 L1451.1 1128.92 L1453.45 1128.92 L1453.45 1139.71 Q1453.45 1143.09 1451.77 1144.81 Q1450.1 1146.54 1446.84 1146.54 Q1443.56 1146.54 1441.88 1144.81 Q1440.22 1143.09 1440.22 1139.71 L1440.22 1128.92 Z\" fill=\"#000000\" fill-rule=\"nonzero\" fill-opacity=\"1\" /><path clip-path=\"url(#clip040)\" d=\"M1468.52 1138.38 L1468.52 1146.2 L1466.39 1146.2 L1466.39 1138.45 Q1466.39 1136.61 1465.67 1135.69 Q1464.95 1134.78 1463.52 1134.78 Q1461.79 1134.78 1460.8 1135.88 Q1459.8 1136.98 1459.8 1138.88 L1459.8 1146.2 L1457.66 1146.2 L1457.66 1133.24 L1459.8 1133.24 L1459.8 1135.25 Q1460.56 1134.08 1461.59 1133.51 Q1462.64 1132.93 1463.99 1132.93 Q1466.22 1132.93 1467.37 1134.32 Q1468.52 1135.69 1468.52 1138.38 Z\" fill=\"#000000\" fill-rule=\"nonzero\" fill-opacity=\"1\" /><path clip-path=\"url(#clip040)\" d=\"M1481.03 1133.62 L1481.03 1135.63 Q1480.12 1135.17 1479.15 1134.94 Q1478.18 1134.71 1477.14 1134.71 Q1475.55 1134.71 1474.75 1135.2 Q1473.97 1135.68 1473.97 1136.65 Q1473.97 1137.39 1474.53 1137.82 Q1475.1 1138.24 1476.81 1138.62 L1477.54 1138.78 Q1479.81 1139.27 1480.76 1140.16 Q1481.72 1141.04 1481.72 1142.63 Q1481.72 1144.43 1480.29 1145.48 Q1478.86 1146.54 1476.36 1146.54 Q1475.32 1146.54 1474.19 1146.33 Q1473.06 1146.13 1471.81 1145.73 L1471.81 1143.53 Q1473 1144.14 1474.14 1144.45 Q1475.29 1144.76 1476.41 1144.76 Q1477.91 1144.76 1478.72 1144.25 Q1479.53 1143.73 1479.53 1142.79 Q1479.53 1141.92 1478.94 1141.46 Q1478.37 1140.99 1476.39 1140.57 L1475.65 1140.39 Q1473.67 1139.98 1472.79 1139.12 Q1471.91 1138.25 1471.91 1136.75 Q1471.91 1134.92 1473.2 1133.92 Q1474.5 1132.93 1476.88 1132.93 Q1478.06 1132.93 1479.11 1133.1 Q1480.15 1133.27 1481.03 1133.62 Z\" fill=\"#000000\" fill-rule=\"nonzero\" fill-opacity=\"1\" /><path clip-path=\"url(#clip040)\" d=\"M1485.11 1133.24 L1487.24 1133.24 L1487.24 1146.2 L1485.11 1146.2 L1485.11 1133.24 M1485.11 1128.19 L1487.24 1128.19 L1487.24 1130.89 L1485.11 1130.89 L1485.11 1128.19 Z\" fill=\"#000000\" fill-rule=\"nonzero\" fill-opacity=\"1\" /><path clip-path=\"url(#clip040)\" d=\"M1500.23 1139.57 Q1500.23 1137.26 1499.27 1135.98 Q1498.32 1134.71 1496.59 1134.71 Q1494.88 1134.71 1493.92 1135.98 Q1492.97 1137.26 1492.97 1139.57 Q1492.97 1141.87 1493.92 1143.15 Q1494.88 1144.42 1496.59 1144.42 Q1498.32 1144.42 1499.27 1143.15 Q1500.23 1141.87 1500.23 1139.57 M1502.36 1144.59 Q1502.36 1147.9 1500.89 1149.51 Q1499.42 1151.13 1496.39 1151.13 Q1495.26 1151.13 1494.27 1150.96 Q1493.27 1150.8 1492.34 1150.45 L1492.34 1148.38 Q1493.27 1148.89 1494.19 1149.13 Q1495.1 1149.37 1496.05 1149.37 Q1498.15 1149.37 1499.19 1148.27 Q1500.23 1147.19 1500.23 1144.98 L1500.23 1143.92 Q1499.57 1145.07 1498.54 1145.63 Q1497.51 1146.2 1496.07 1146.2 Q1493.69 1146.2 1492.23 1144.38 Q1490.77 1142.57 1490.77 1139.57 Q1490.77 1136.56 1492.23 1134.74 Q1493.69 1132.93 1496.07 1132.93 Q1497.51 1132.93 1498.54 1133.49 Q1499.57 1134.06 1500.23 1135.21 L1500.23 1133.24 L1502.36 1133.24 L1502.36 1144.59 Z\" fill=\"#000000\" fill-rule=\"nonzero\" fill-opacity=\"1\" /><path clip-path=\"url(#clip040)\" d=\"M1517.52 1138.38 L1517.52 1146.2 L1515.39 1146.2 L1515.39 1138.45 Q1515.39 1136.61 1514.67 1135.69 Q1513.96 1134.78 1512.52 1134.78 Q1510.8 1134.78 1509.8 1135.88 Q1508.81 1136.98 1508.81 1138.88 L1508.81 1146.2 L1506.66 1146.2 L1506.66 1133.24 L1508.81 1133.24 L1508.81 1135.25 Q1509.57 1134.08 1510.6 1133.51 Q1511.64 1132.93 1512.99 1132.93 Q1515.23 1132.93 1516.37 1134.32 Q1517.52 1135.69 1517.52 1138.38 Z\" fill=\"#000000\" fill-rule=\"nonzero\" fill-opacity=\"1\" /><path clip-path=\"url(#clip040)\" d=\"M1532.86 1139.19 L1532.86 1140.23 L1523.06 1140.23 Q1523.2 1142.43 1524.38 1143.59 Q1525.58 1144.73 1527.69 1144.73 Q1528.92 1144.73 1530.07 1144.43 Q1531.22 1144.13 1532.36 1143.53 L1532.36 1145.54 Q1531.21 1146.03 1530.01 1146.28 Q1528.81 1146.54 1527.57 1146.54 Q1524.46 1146.54 1522.65 1144.73 Q1520.84 1142.93 1520.84 1139.85 Q1520.84 1136.67 1522.56 1134.8 Q1524.28 1132.93 1527.2 1132.93 Q1529.81 1132.93 1531.33 1134.62 Q1532.86 1136.29 1532.86 1139.19 M1530.73 1138.56 Q1530.7 1136.82 1529.74 1135.77 Q1528.79 1134.73 1527.22 1134.73 Q1525.44 1134.73 1524.36 1135.74 Q1523.3 1136.75 1523.13 1138.57 L1530.73 1138.56 Z\" fill=\"#000000\" fill-rule=\"nonzero\" fill-opacity=\"1\" /><path clip-path=\"url(#clip040)\" d=\"M1544.88 1135.21 L1544.88 1128.19 L1547.01 1128.19 L1547.01 1146.2 L1544.88 1146.2 L1544.88 1144.26 Q1544.21 1145.41 1543.18 1145.98 Q1542.16 1146.54 1540.73 1146.54 Q1538.38 1146.54 1536.9 1144.66 Q1535.43 1142.79 1535.43 1139.73 Q1535.43 1136.68 1536.9 1134.8 Q1538.38 1132.93 1540.73 1132.93 Q1542.16 1132.93 1543.18 1133.49 Q1544.21 1134.05 1544.88 1135.21 M1537.62 1139.73 Q1537.62 1142.08 1538.59 1143.42 Q1539.56 1144.76 1541.25 1144.76 Q1542.94 1144.76 1543.91 1143.42 Q1544.88 1142.08 1544.88 1139.73 Q1544.88 1137.38 1543.91 1136.05 Q1542.94 1134.71 1541.25 1134.71 Q1539.56 1134.71 1538.59 1136.05 Q1537.62 1137.38 1537.62 1139.73 Z\" fill=\"#000000\" fill-rule=\"nonzero\" fill-opacity=\"1\" /><path clip-path=\"url(#clip040)\" d=\"M1692.57 1224.51 L1694.92 1224.51 L1694.92 1235 Q1694.92 1237.78 1695.93 1239.01 Q1696.94 1240.22 1699.19 1240.22 Q1701.44 1240.22 1702.45 1239.01 Q1703.45 1237.78 1703.45 1235 L1703.45 1224.51 L1705.8 1224.51 L1705.8 1235.29 Q1705.8 1238.67 1704.12 1240.4 Q1702.46 1242.12 1699.19 1242.12 Q1695.92 1242.12 1694.24 1240.4 Q1692.57 1238.67 1692.57 1235.29 L1692.57 1224.51 Z\" fill=\"#000000\" fill-rule=\"nonzero\" fill-opacity=\"1\" /><path clip-path=\"url(#clip040)\" d=\"M1710.19 1224.51 L1712.53 1224.51 L1712.53 1241.79 L1710.19 1241.79 L1710.19 1224.51 Z\" fill=\"#000000\" fill-rule=\"nonzero\" fill-opacity=\"1\" /><path clip-path=\"url(#clip040)\" d=\"M1727.86 1233.96 L1727.86 1241.79 L1725.73 1241.79 L1725.73 1234.03 Q1725.73 1232.19 1725.02 1231.28 Q1724.3 1230.36 1722.86 1230.36 Q1721.14 1230.36 1720.14 1231.46 Q1719.15 1232.56 1719.15 1234.46 L1719.15 1241.79 L1717.01 1241.79 L1717.01 1228.82 L1719.15 1228.82 L1719.15 1230.84 Q1719.91 1229.67 1720.94 1229.09 Q1721.98 1228.51 1723.34 1228.51 Q1725.57 1228.51 1726.72 1229.9 Q1727.86 1231.28 1727.86 1233.96 Z\" fill=\"#000000\" fill-rule=\"nonzero\" fill-opacity=\"1\" /><path clip-path=\"url(#clip040)\" d=\"M1734.22 1225.14 L1734.22 1228.82 L1738.6 1228.82 L1738.6 1230.48 L1734.22 1230.48 L1734.22 1237.52 Q1734.22 1239.1 1734.64 1239.55 Q1735.08 1240 1736.42 1240 L1738.6 1240 L1738.6 1241.79 L1736.42 1241.79 Q1733.95 1241.79 1733.01 1240.87 Q1732.08 1239.95 1732.08 1237.52 L1732.08 1230.48 L1730.51 1230.48 L1730.51 1228.82 L1732.08 1228.82 L1732.08 1225.14 L1734.22 1225.14 Z\" fill=\"#000000\" fill-rule=\"nonzero\" fill-opacity=\"1\" /><path clip-path=\"url(#clip040)\" d=\"M1742.11 1239.82 L1745.93 1239.82 L1745.93 1226.64 L1741.77 1227.47 L1741.77 1225.34 L1745.91 1224.51 L1748.24 1224.51 L1748.24 1239.82 L1752.06 1239.82 L1752.06 1241.79 L1742.11 1241.79 L1742.11 1239.82 Z\" fill=\"#000000\" fill-rule=\"nonzero\" fill-opacity=\"1\" /><path clip-path=\"url(#clip040)\" d=\"M1758.8 1239.82 L1766.96 1239.82 L1766.96 1241.79 L1755.99 1241.79 L1755.99 1239.82 Q1757.32 1238.44 1759.61 1236.13 Q1761.91 1233.8 1762.5 1233.13 Q1763.63 1231.87 1764.07 1231 Q1764.52 1230.12 1764.52 1229.27 Q1764.52 1227.9 1763.54 1227.03 Q1762.58 1226.16 1761.03 1226.16 Q1759.93 1226.16 1758.71 1226.54 Q1757.49 1226.93 1756.1 1227.7 L1756.1 1225.34 Q1757.51 1224.77 1758.74 1224.48 Q1759.97 1224.19 1760.99 1224.19 Q1763.67 1224.19 1765.27 1225.54 Q1766.87 1226.88 1766.87 1229.12 Q1766.87 1230.19 1766.46 1231.15 Q1766.07 1232.1 1765.01 1233.4 Q1764.73 1233.73 1763.17 1235.34 Q1761.62 1236.94 1758.8 1239.82 Z\" fill=\"#000000\" fill-rule=\"nonzero\" fill-opacity=\"1\" /><path clip-path=\"url(#clip040)\" d=\"M1776.87 1233.58 Q1775.2 1233.58 1774.24 1234.47 Q1773.29 1235.36 1773.29 1236.93 Q1773.29 1238.49 1774.24 1239.38 Q1775.2 1240.27 1776.87 1240.27 Q1778.53 1240.27 1779.49 1239.38 Q1780.45 1238.48 1780.45 1236.93 Q1780.45 1235.36 1779.49 1234.47 Q1778.54 1233.58 1776.87 1233.58 M1774.53 1232.58 Q1773.02 1232.21 1772.18 1231.18 Q1771.35 1230.15 1771.35 1228.67 Q1771.35 1226.6 1772.82 1225.4 Q1774.3 1224.19 1776.87 1224.19 Q1779.45 1224.19 1780.92 1225.4 Q1782.39 1226.6 1782.39 1228.67 Q1782.39 1230.15 1781.54 1231.18 Q1780.71 1232.21 1779.22 1232.58 Q1780.91 1232.98 1781.84 1234.12 Q1782.79 1235.27 1782.79 1236.93 Q1782.79 1239.44 1781.25 1240.78 Q1779.73 1242.12 1776.87 1242.12 Q1774.01 1242.12 1772.47 1240.78 Q1770.94 1239.44 1770.94 1236.93 Q1770.94 1235.27 1771.89 1234.12 Q1772.84 1232.98 1774.53 1232.58 M1773.67 1228.89 Q1773.67 1230.24 1774.51 1230.99 Q1775.35 1231.74 1776.87 1231.74 Q1778.37 1231.74 1779.22 1230.99 Q1780.07 1230.24 1780.07 1228.89 Q1780.07 1227.55 1779.22 1226.8 Q1778.37 1226.05 1776.87 1226.05 Q1775.35 1226.05 1774.51 1226.8 Q1773.67 1227.55 1773.67 1228.89 Z\" fill=\"#000000\" fill-rule=\"nonzero\" fill-opacity=\"1\" /><path clip-path=\"url(#clip040)\" d=\"M1491.3 1277.24 L1493.65 1277.24 L1493.65 1287.74 Q1493.65 1290.51 1494.65 1291.74 Q1495.66 1292.96 1497.92 1292.96 Q1500.16 1292.96 1501.17 1291.74 Q1502.18 1290.51 1502.18 1287.74 L1502.18 1277.24 L1504.53 1277.24 L1504.53 1288.03 Q1504.53 1291.41 1502.85 1293.13 Q1501.18 1294.85 1497.92 1294.85 Q1494.64 1294.85 1492.96 1293.13 Q1491.3 1291.41 1491.3 1288.03 L1491.3 1277.24 Z\" fill=\"#000000\" fill-rule=\"nonzero\" fill-opacity=\"1\" /><path clip-path=\"url(#clip040)\" d=\"M1508.91 1277.24 L1511.25 1277.24 L1511.25 1294.52 L1508.91 1294.52 L1508.91 1277.24 Z\" fill=\"#000000\" fill-rule=\"nonzero\" fill-opacity=\"1\" /><path clip-path=\"url(#clip040)\" d=\"M1526.59 1286.69 L1526.59 1294.52 L1524.46 1294.52 L1524.46 1286.76 Q1524.46 1284.92 1523.74 1284.01 Q1523.02 1283.1 1521.59 1283.1 Q1519.86 1283.1 1518.87 1284.19 Q1517.87 1285.29 1517.87 1287.19 L1517.87 1294.52 L1515.73 1294.52 L1515.73 1281.56 L1517.87 1281.56 L1517.87 1283.57 Q1518.63 1282.4 1519.66 1281.82 Q1520.71 1281.24 1522.06 1281.24 Q1524.29 1281.24 1525.44 1282.63 Q1526.59 1284.01 1526.59 1286.69 Z\" fill=\"#000000\" fill-rule=\"nonzero\" fill-opacity=\"1\" /><path clip-path=\"url(#clip040)\" d=\"M1532.94 1277.88 L1532.94 1281.56 L1537.33 1281.56 L1537.33 1283.21 L1532.94 1283.21 L1532.94 1290.25 Q1532.94 1291.83 1533.37 1292.29 Q1533.81 1292.74 1535.14 1292.74 L1537.33 1292.74 L1537.33 1294.52 L1535.14 1294.52 Q1532.67 1294.52 1531.74 1293.6 Q1530.8 1292.68 1530.8 1290.25 L1530.8 1283.21 L1529.24 1283.21 L1529.24 1281.56 L1530.8 1281.56 L1530.8 1277.88 L1532.94 1277.88 Z\" fill=\"#000000\" fill-rule=\"nonzero\" fill-opacity=\"1\" /><path clip-path=\"url(#clip040)\" d=\"M1540.83 1292.55 L1544.65 1292.55 L1544.65 1279.37 L1540.5 1280.2 L1540.5 1278.07 L1544.63 1277.24 L1546.97 1277.24 L1546.97 1292.55 L1550.79 1292.55 L1550.79 1294.52 L1540.83 1294.52 L1540.83 1292.55 Z\" fill=\"#000000\" fill-rule=\"nonzero\" fill-opacity=\"1\" /><path clip-path=\"url(#clip040)\" d=\"M1560.8 1284.95 Q1559.22 1284.95 1558.3 1286.02 Q1557.38 1287.1 1557.38 1288.98 Q1557.38 1290.84 1558.3 1291.93 Q1559.22 1293 1560.8 1293 Q1562.37 1293 1563.29 1291.93 Q1564.21 1290.84 1564.21 1288.98 Q1564.21 1287.1 1563.29 1286.02 Q1562.37 1284.95 1560.8 1284.95 M1565.44 1277.62 L1565.44 1279.75 Q1564.56 1279.33 1563.66 1279.11 Q1562.77 1278.89 1561.89 1278.89 Q1559.57 1278.89 1558.35 1280.46 Q1557.13 1282.02 1556.96 1285.18 Q1557.64 1284.17 1558.67 1283.64 Q1559.7 1283.1 1560.94 1283.1 Q1563.54 1283.1 1565.05 1284.68 Q1566.56 1286.26 1566.56 1288.98 Q1566.56 1291.64 1564.99 1293.25 Q1563.41 1294.85 1560.8 1294.85 Q1557.8 1294.85 1556.22 1292.56 Q1554.63 1290.26 1554.63 1285.9 Q1554.63 1281.8 1556.57 1279.37 Q1558.52 1276.93 1561.79 1276.93 Q1562.67 1276.93 1563.57 1277.1 Q1564.47 1277.27 1565.44 1277.62 Z\" fill=\"#000000\" fill-rule=\"nonzero\" fill-opacity=\"1\" /><path clip-path=\"url(#clip040)\" d=\"M1547.32 1327.16 L1549.67 1327.16 L1549.67 1337.66 Q1549.67 1340.44 1550.68 1341.67 Q1551.69 1342.88 1553.94 1342.88 Q1556.19 1342.88 1557.2 1341.67 Q1558.2 1340.44 1558.2 1337.66 L1558.2 1327.16 L1560.55 1327.16 L1560.55 1337.95 Q1560.55 1341.33 1558.88 1343.05 Q1557.21 1344.78 1553.94 1344.78 Q1550.67 1344.78 1548.99 1343.05 Q1547.32 1341.33 1547.32 1337.95 L1547.32 1327.16 Z\" fill=\"#000000\" fill-rule=\"nonzero\" fill-opacity=\"1\" /><path clip-path=\"url(#clip040)\" d=\"M1564.94 1327.16 L1567.28 1327.16 L1567.28 1344.44 L1564.94 1344.44 L1564.94 1327.16 Z\" fill=\"#000000\" fill-rule=\"nonzero\" fill-opacity=\"1\" /><path clip-path=\"url(#clip040)\" d=\"M1582.61 1336.62 L1582.61 1344.44 L1580.48 1344.44 L1580.48 1336.69 Q1580.48 1334.85 1579.77 1333.93 Q1579.05 1333.02 1577.61 1333.02 Q1575.89 1333.02 1574.89 1334.12 Q1573.9 1335.22 1573.9 1337.12 L1573.9 1344.44 L1571.76 1344.44 L1571.76 1331.48 L1573.9 1331.48 L1573.9 1333.49 Q1574.66 1332.33 1575.69 1331.75 Q1576.73 1331.17 1578.09 1331.17 Q1580.32 1331.17 1581.47 1332.56 Q1582.61 1333.93 1582.61 1336.62 Z\" fill=\"#000000\" fill-rule=\"nonzero\" fill-opacity=\"1\" /><path clip-path=\"url(#clip040)\" d=\"M1588.97 1327.8 L1588.97 1331.48 L1593.35 1331.48 L1593.35 1333.14 L1588.97 1333.14 L1588.97 1340.17 Q1588.97 1341.76 1589.4 1342.21 Q1589.84 1342.66 1591.17 1342.66 L1593.35 1342.66 L1593.35 1344.44 L1591.17 1344.44 Q1588.7 1344.44 1587.76 1343.53 Q1586.83 1342.6 1586.83 1340.17 L1586.83 1333.14 L1585.26 1333.14 L1585.26 1331.48 L1586.83 1331.48 L1586.83 1327.8 L1588.97 1327.8 Z\" fill=\"#000000\" fill-rule=\"nonzero\" fill-opacity=\"1\" /><path clip-path=\"url(#clip040)\" d=\"M1603.54 1335.13 Q1605.22 1335.48 1606.16 1336.62 Q1607.1 1337.75 1607.1 1339.42 Q1607.1 1341.98 1605.35 1343.38 Q1603.59 1344.78 1600.35 1344.78 Q1599.26 1344.78 1598.1 1344.56 Q1596.95 1344.35 1595.73 1343.92 L1595.73 1341.67 Q1596.7 1342.23 1597.86 1342.52 Q1599.01 1342.81 1600.28 1342.81 Q1602.47 1342.81 1603.62 1341.94 Q1604.78 1341.08 1604.78 1339.42 Q1604.78 1337.89 1603.7 1337.04 Q1602.64 1336.17 1600.73 1336.17 L1598.71 1336.17 L1598.71 1334.25 L1600.82 1334.25 Q1602.54 1334.25 1603.46 1333.56 Q1604.37 1332.87 1604.37 1331.57 Q1604.37 1330.24 1603.42 1329.54 Q1602.49 1328.82 1600.73 1328.82 Q1599.77 1328.82 1598.67 1329.03 Q1597.57 1329.23 1596.25 1329.67 L1596.25 1327.59 Q1597.58 1327.22 1598.74 1327.04 Q1599.91 1326.85 1600.94 1326.85 Q1603.6 1326.85 1605.15 1328.07 Q1606.7 1329.27 1606.7 1331.33 Q1606.7 1332.76 1605.88 1333.76 Q1605.06 1334.74 1603.54 1335.13 Z\" fill=\"#000000\" fill-rule=\"nonzero\" fill-opacity=\"1\" /><path clip-path=\"url(#clip040)\" d=\"M1613.55 1342.48 L1621.71 1342.48 L1621.71 1344.44 L1610.74 1344.44 L1610.74 1342.48 Q1612.07 1341.1 1614.36 1338.78 Q1616.66 1336.46 1617.25 1335.79 Q1618.38 1334.52 1618.82 1333.66 Q1619.27 1332.78 1619.27 1331.93 Q1619.27 1330.55 1618.3 1329.69 Q1617.34 1328.82 1615.78 1328.82 Q1614.69 1328.82 1613.46 1329.2 Q1612.24 1329.58 1610.85 1330.36 L1610.85 1328 Q1612.27 1327.43 1613.49 1327.14 Q1614.72 1326.85 1615.74 1326.85 Q1618.42 1326.85 1620.02 1328.19 Q1621.62 1329.54 1621.62 1331.78 Q1621.62 1332.85 1621.21 1333.81 Q1620.82 1334.76 1619.77 1336.05 Q1619.48 1336.39 1617.93 1338 Q1616.38 1339.59 1613.55 1342.48 Z\" fill=\"#000000\" fill-rule=\"nonzero\" fill-opacity=\"1\" /><path clip-path=\"url(#clip040)\" d=\"M1361.41 1232.44 L1363.76 1232.44 L1363.76 1242.94 Q1363.76 1245.72 1364.77 1246.94 Q1365.77 1248.16 1368.03 1248.16 Q1370.27 1248.16 1371.28 1246.94 Q1372.29 1245.72 1372.29 1242.94 L1372.29 1232.44 L1374.64 1232.44 L1374.64 1243.23 Q1374.64 1246.61 1372.96 1248.33 Q1371.29 1250.06 1368.03 1250.06 Q1364.75 1250.06 1363.08 1248.33 Q1361.41 1246.61 1361.41 1243.23 L1361.41 1232.44 Z\" fill=\"#000000\" fill-rule=\"nonzero\" fill-opacity=\"1\" /><path clip-path=\"url(#clip040)\" d=\"M1379.02 1232.44 L1381.36 1232.44 L1381.36 1249.72 L1379.02 1249.72 L1379.02 1232.44 Z\" fill=\"#000000\" fill-rule=\"nonzero\" fill-opacity=\"1\" /><path clip-path=\"url(#clip040)\" d=\"M1396.7 1241.9 L1396.7 1249.72 L1394.57 1249.72 L1394.57 1241.97 Q1394.57 1240.13 1393.85 1239.21 Q1393.13 1238.3 1391.7 1238.3 Q1389.97 1238.3 1388.98 1239.4 Q1387.98 1240.5 1387.98 1242.39 L1387.98 1249.72 L1385.84 1249.72 L1385.84 1236.76 L1387.98 1236.76 L1387.98 1238.77 Q1388.75 1237.6 1389.78 1237.02 Q1390.82 1236.45 1392.17 1236.45 Q1394.41 1236.45 1395.55 1237.83 Q1396.7 1239.21 1396.7 1241.9 Z\" fill=\"#000000\" fill-rule=\"nonzero\" fill-opacity=\"1\" /><path clip-path=\"url(#clip040)\" d=\"M1403.05 1233.08 L1403.05 1236.76 L1407.44 1236.76 L1407.44 1238.41 L1403.05 1238.41 L1403.05 1245.45 Q1403.05 1247.04 1403.48 1247.49 Q1403.92 1247.94 1405.25 1247.94 L1407.44 1247.94 L1407.44 1249.72 L1405.25 1249.72 Q1402.79 1249.72 1401.85 1248.81 Q1400.91 1247.88 1400.91 1245.45 L1400.91 1238.41 L1399.35 1238.41 L1399.35 1236.76 L1400.91 1236.76 L1400.91 1233.08 L1403.05 1233.08 Z\" fill=\"#000000\" fill-rule=\"nonzero\" fill-opacity=\"1\" /><path clip-path=\"url(#clip040)\" d=\"M1415.83 1240.15 Q1414.26 1240.15 1413.33 1241.23 Q1412.42 1242.3 1412.42 1244.18 Q1412.42 1246.04 1413.33 1247.13 Q1414.26 1248.2 1415.83 1248.2 Q1417.4 1248.2 1418.32 1247.13 Q1419.24 1246.04 1419.24 1244.18 Q1419.24 1242.3 1418.32 1241.23 Q1417.4 1240.15 1415.83 1240.15 M1420.47 1232.82 L1420.47 1234.95 Q1419.59 1234.54 1418.69 1234.32 Q1417.8 1234.1 1416.92 1234.1 Q1414.6 1234.1 1413.38 1235.66 Q1412.16 1237.22 1411.99 1240.38 Q1412.67 1239.37 1413.7 1238.84 Q1414.73 1238.3 1415.97 1238.3 Q1418.57 1238.3 1420.08 1239.88 Q1421.59 1241.46 1421.59 1244.18 Q1421.59 1246.84 1420.02 1248.45 Q1418.45 1250.06 1415.83 1250.06 Q1412.83 1250.06 1411.25 1247.76 Q1409.66 1245.46 1409.66 1241.1 Q1409.66 1237 1411.61 1234.57 Q1413.55 1232.13 1416.83 1232.13 Q1417.71 1232.13 1418.6 1232.3 Q1419.5 1232.48 1420.47 1232.82 Z\" fill=\"#000000\" fill-rule=\"nonzero\" fill-opacity=\"1\" /><path clip-path=\"url(#clip040)\" d=\"M1432.05 1234.48 L1426.14 1243.7 L1432.05 1243.7 L1432.05 1234.48 M1431.43 1232.44 L1434.37 1232.44 L1434.37 1243.7 L1436.84 1243.7 L1436.84 1245.65 L1434.37 1245.65 L1434.37 1249.72 L1432.05 1249.72 L1432.05 1245.65 L1424.24 1245.65 L1424.24 1243.39 L1431.43 1232.44 Z\" fill=\"#000000\" fill-rule=\"nonzero\" fill-opacity=\"1\" /><path clip-path=\"url(#clip040)\" d=\"M1660.93 1329.04 L1663.28 1329.04 L1663.28 1339.54 Q1663.28 1342.32 1664.29 1343.55 Q1665.29 1344.76 1667.55 1344.76 Q1669.79 1344.76 1670.8 1343.55 Q1671.81 1342.32 1671.81 1339.54 L1671.81 1329.04 L1674.16 1329.04 L1674.16 1339.83 Q1674.16 1343.21 1672.48 1344.93 Q1670.81 1346.66 1667.55 1346.66 Q1664.27 1346.66 1662.6 1344.93 Q1660.93 1343.21 1660.93 1339.83 L1660.93 1329.04 Z\" fill=\"#000000\" fill-rule=\"nonzero\" fill-opacity=\"1\" /><path clip-path=\"url(#clip040)\" d=\"M1678.54 1329.04 L1680.88 1329.04 L1680.88 1346.32 L1678.54 1346.32 L1678.54 1329.04 Z\" fill=\"#000000\" fill-rule=\"nonzero\" fill-opacity=\"1\" /><path clip-path=\"url(#clip040)\" d=\"M1696.22 1338.5 L1696.22 1346.32 L1694.09 1346.32 L1694.09 1338.57 Q1694.09 1336.73 1693.37 1335.81 Q1692.65 1334.9 1691.22 1334.9 Q1689.49 1334.9 1688.5 1336 Q1687.5 1337.1 1687.5 1339 L1687.5 1346.32 L1685.36 1346.32 L1685.36 1333.36 L1687.5 1333.36 L1687.5 1335.37 Q1688.27 1334.2 1689.3 1333.63 Q1690.34 1333.05 1691.69 1333.05 Q1693.93 1333.05 1695.07 1334.44 Q1696.22 1335.81 1696.22 1338.5 Z\" fill=\"#000000\" fill-rule=\"nonzero\" fill-opacity=\"1\" /><path clip-path=\"url(#clip040)\" d=\"M1702.57 1329.68 L1702.57 1333.36 L1706.96 1333.36 L1706.96 1335.01 L1702.57 1335.01 L1702.57 1342.05 Q1702.57 1343.64 1703 1344.09 Q1703.44 1344.54 1704.77 1344.54 L1706.96 1344.54 L1706.96 1346.32 L1704.77 1346.32 Q1702.31 1346.32 1701.37 1345.41 Q1700.43 1344.48 1700.43 1342.05 L1700.43 1335.01 L1698.87 1335.01 L1698.87 1333.36 L1700.43 1333.36 L1700.43 1329.68 L1702.57 1329.68 Z\" fill=\"#000000\" fill-rule=\"nonzero\" fill-opacity=\"1\" /><path clip-path=\"url(#clip040)\" d=\"M1715.06 1338.12 Q1713.39 1338.12 1712.43 1339.01 Q1711.48 1339.9 1711.48 1341.46 Q1711.48 1343.02 1712.43 1343.92 Q1713.39 1344.81 1715.06 1344.81 Q1716.73 1344.81 1717.69 1343.92 Q1718.65 1343.01 1718.65 1341.46 Q1718.65 1339.9 1717.69 1339.01 Q1716.74 1338.12 1715.06 1338.12 M1712.72 1337.12 Q1711.22 1336.75 1710.37 1335.72 Q1709.54 1334.69 1709.54 1333.21 Q1709.54 1331.14 1711.01 1329.93 Q1712.49 1328.73 1715.06 1328.73 Q1717.64 1328.73 1719.11 1329.93 Q1720.58 1331.14 1720.58 1333.21 Q1720.58 1334.69 1719.74 1335.72 Q1718.9 1336.75 1717.41 1337.12 Q1719.1 1337.51 1720.04 1338.66 Q1720.99 1339.81 1720.99 1341.46 Q1720.99 1343.97 1719.45 1345.32 Q1717.92 1346.66 1715.06 1346.66 Q1712.2 1346.66 1710.66 1345.32 Q1709.13 1343.97 1709.13 1341.46 Q1709.13 1339.81 1710.08 1338.66 Q1711.03 1337.51 1712.72 1337.12 M1711.87 1333.43 Q1711.87 1334.77 1712.7 1335.52 Q1713.54 1336.28 1715.06 1336.28 Q1716.57 1336.28 1717.41 1335.52 Q1718.27 1334.77 1718.27 1333.43 Q1718.27 1332.09 1717.41 1331.33 Q1716.57 1330.58 1715.06 1330.58 Q1713.54 1330.58 1712.7 1331.33 Q1711.87 1332.09 1711.87 1333.43 Z\" fill=\"#000000\" fill-rule=\"nonzero\" fill-opacity=\"1\" /></svg>\n"
      ]
     },
     "execution_count": 8,
     "metadata": {},
     "output_type": "execute_result"
    }
   ],
   "source": [
    "using GraphRecipes, Plots\n",
    "\n",
    "#pyplot(size=(800, 600))\n",
    "gr(size=(600, 400))\n",
    "theme(:default)\n",
    "\n",
    "plot(Integer, method = :tree, fontsize = 4)"
   ]
  },
  {
   "cell_type": "markdown",
   "metadata": {},
   "source": [
    "### Signed integers\n",
    "\n",
    "* First bit indicates sign.  \n",
    "    - `0` for nonnegative numbers\n",
    "    - `1` for negative numbers  \n",
    "    \n",
    "* **Two's complement representation** for negative numbers. \n",
    "    - Sign bit is set to 1  \n",
    "    - remaining bits are set to opposite values  \n",
    "    - 1 is added to the result  \n",
    "    - Two's complement representation of a negative integer `x` is same as the unsigned integer `2^64 + x`."
   ]
  },
  {
   "cell_type": "code",
   "execution_count": 9,
   "metadata": {
    "tags": []
   },
   "outputs": [
    {
     "name": "stdout",
     "output_type": "stream",
     "text": [
      "typeof(18) = Int64\n",
      "bitstring(18) = \"0000000000000000000000000000000000000000000000000000000000010010\"\n",
      "bitstring(-18) = \"1111111111111111111111111111111111111111111111111111111111101110\"\n",
      "bitstring(UInt64(Int128(2) ^ 64 - 18)) == bitstring(-18) = true\n",
      "bitstring(2 * 18) = \"0000000000000000000000000000000000000000000000000000000000100100\"\n",
      "bitstring(2 * -18) = \"1111111111111111111111111111111111111111111111111111111111011100\"\n"
     ]
    }
   ],
   "source": [
    "@show typeof(18)\n",
    "@show bitstring(18)\n",
    "@show bitstring(-18) # two's complement representation\n",
    "@show bitstring(UInt64(Int128(2)^64 - 18)) == bitstring(-18) # modular arithmetic\n",
    "@show bitstring(2 * 18) # shift bits of 18\n",
    "@show bitstring(2 * -18); # shift bits of -18"
   ]
  },
  {
   "cell_type": "markdown",
   "metadata": {},
   "source": [
    "* Two's complement representation respects modular arithmetic nicely.  \n",
    "    Addition of any two signed integers are just bitwise addition, possibly modulo $2^M$\n",
    "    \n",
    "<img src=\"http://users.dickinson.edu/~braught/courses/cs251f02/classes/images/twosCompWheel.png\" width=\"400\" align=\"center\"/>    \n",
    "\n",
    "* Arithmetics (addition, substraction, multiplication) of integers are exact except for the possiblity of overflow and underflow.\n",
    "\n",
    "* **Range** of representable integers by $M$-bit **signed integer** is $[-2^{M-1},2^{M-1}-1]$.\n",
    "    - Julia functions `typemin(T)` and `typemax(T)` give the lowest and highest representable number of a type `T` respectively"
   ]
  },
  {
   "cell_type": "code",
   "execution_count": 10,
   "metadata": {
    "tags": []
   },
   "outputs": [
    {
     "data": {
      "text/plain": [
       "(-9223372036854775808, 9223372036854775807)"
      ]
     },
     "execution_count": 10,
     "metadata": {},
     "output_type": "execute_result"
    }
   ],
   "source": [
    "typemin(Int64), typemax(Int64)"
   ]
  },
  {
   "cell_type": "code",
   "execution_count": 11,
   "metadata": {
    "tags": []
   },
   "outputs": [
    {
     "name": "stdout",
     "output_type": "stream",
     "text": [
      "Int8\t-128\t127\n",
      "Int16\t-32768\t32767\n",
      "Int32\t-2147483648\t2147483647\n",
      "Int64\t-9223372036854775808\t9223372036854775807\n",
      "Int128\t-170141183460469231731687303715884105728\t170141183460469231731687303715884105727\n"
     ]
    }
   ],
   "source": [
    "for T in [Int8, Int16, Int32, Int64, Int128]\n",
    "    println(T, '\\t', typemin(T), '\\t', typemax(T))\n",
    "end"
   ]
  },
  {
   "cell_type": "markdown",
   "metadata": {},
   "source": [
    "### Unsigned integers\n",
    "\n",
    "* For unsigned integers, the range is $[0,2^M-1]$."
   ]
  },
  {
   "cell_type": "code",
   "execution_count": 12,
   "metadata": {
    "tags": []
   },
   "outputs": [
    {
     "name": "stdout",
     "output_type": "stream",
     "text": [
      "UInt8\t0\t255\n",
      "UInt16\t0\t65535\n",
      "UInt32\t0\t4294967295\n",
      "UInt64\t0\t18446744073709551615\n",
      "UInt128\t0\t340282366920938463463374607431768211455\n"
     ]
    }
   ],
   "source": [
    "for t in [UInt8, UInt16, UInt32, UInt64, UInt128]\n",
    "    println(t, '\\t', typemin(t), '\\t', typemax(t))\n",
    "end"
   ]
  },
  {
   "cell_type": "markdown",
   "metadata": {},
   "source": [
    "### `BigInt`\n",
    "\n",
    "Julia `BigInt` type is arbitrary precision."
   ]
  },
  {
   "cell_type": "code",
   "execution_count": 13,
   "metadata": {
    "tags": []
   },
   "outputs": [
    {
     "name": "stdout",
     "output_type": "stream",
     "text": [
      "typemax(Int128) = 170141183460469231731687303715884105727\n",
      "typemax(Int128) + 1 = -170141183460469231731687303715884105728\n",
      "BigInt(typemax(Int128)) + 1 = 170141183460469231731687303715884105728\n"
     ]
    }
   ],
   "source": [
    "@show typemax(Int128)\n",
    "@show typemax(Int128) + 1 # modular arithmetic!\n",
    "@show BigInt(typemax(Int128)) + 1;"
   ]
  },
  {
   "cell_type": "markdown",
   "metadata": {},
   "source": [
    "### Overflow and underflow for integer arithmetic\n",
    "\n",
    "R reports `NA` for integer overflow and underflow.  \n",
    "**Julia outputs the result according to modular arithmetic.**"
   ]
  },
  {
   "cell_type": "code",
   "execution_count": 14,
   "metadata": {
    "tags": []
   },
   "outputs": [
    {
     "name": "stdout",
     "output_type": "stream",
     "text": [
      "typemax(Int32) = 2147483647\n",
      "typemax(Int32) + Int32(1) = -2147483648\n"
     ]
    }
   ],
   "source": [
    "@show typemax(Int32)\n",
    "@show typemax(Int32) + Int32(1); # modular arithmetics!"
   ]
  },
  {
   "cell_type": "code",
   "execution_count": 15,
   "metadata": {
    "tags": []
   },
   "outputs": [
    {
     "data": {
      "text/plain": [
       "RObject{IntSxp}\n",
       "[1] 2147483647\n"
      ]
     },
     "execution_count": 15,
     "metadata": {},
     "output_type": "execute_result"
    }
   ],
   "source": [
    "using RCall\n",
    "\n",
    "R\"\"\"\n",
    ".Machine$integer.max\n",
    "\"\"\""
   ]
  },
  {
   "cell_type": "code",
   "execution_count": 16,
   "metadata": {
    "tags": []
   },
   "outputs": [
    {
     "data": {
      "text/plain": [
       "RObject{IntSxp}\n",
       "[1] 2147483647\n"
      ]
     },
     "execution_count": 16,
     "metadata": {},
     "output_type": "execute_result"
    }
   ],
   "source": [
    "R\"\"\"\n",
    "M <- 32\n",
    "big <- 2^(M - 1) - 1\n",
    "as.integer(big)\n",
    "\"\"\""
   ]
  },
  {
   "cell_type": "code",
   "execution_count": 17,
   "metadata": {
    "tags": []
   },
   "outputs": [
    {
     "name": "stderr",
     "output_type": "stream",
     "text": [
      "\u001b[33m\u001b[1m┌ \u001b[22m\u001b[39m\u001b[33m\u001b[1mWarning: \u001b[22m\u001b[39mRCall.jl: Warning: NAs introduced by coercion to integer range\n",
      "\u001b[33m\u001b[1m└ \u001b[22m\u001b[39m\u001b[90m@ RCall ~/.julia/packages/RCall/Wyd74/src/io.jl:172\u001b[39m\n"
     ]
    },
    {
     "data": {
      "text/plain": [
       "RObject{IntSxp}\n",
       "[1] NA\n"
      ]
     },
     "execution_count": 17,
     "metadata": {},
     "output_type": "execute_result"
    }
   ],
   "source": [
    "R\"\"\"\n",
    "as.integer(big + 1)\n",
    "\"\"\""
   ]
  },
  {
   "cell_type": "markdown",
   "metadata": {},
   "source": [
    "## Real numbers: floating-number system\n",
    "\n",
    "Floating-point number system is a computer model for real numbers.\n",
    "\n",
    "* Most computer systems adopt the [IEEE 754 standard](https://en.wikipedia.org/wiki/IEEE_floating_point), established in 1985, for floating-point arithmetics.  \n",
    "For the history, see an [interview with William Kahan](http://www.cs.berkeley.edu/~wkahan/ieee754status/754story.html).\n",
    "\n",
    "* In the scientific notation, a real number is represented as\n",
    "$$\\pm d_0.d_1d_2 \\cdots d_p \\times b^e.$$\n",
    "In computer, the _base_ is $b=2$ and the digits $d_i$ are 0 or 1.\n",
    "\n",
    "* **Normalized** vs **denormalized** numbers. For example, decimal number 18 is\n",
    "$$ +1.0010 \\times 2^4 \\quad (\\text{normalized})$$\n",
    "or, equivalently,\n",
    "$$ +0.1001 \\times 2^5 \\quad (\\text{denormalized}).$$\n",
    "\n",
    "* In the floating-number system, computer stores \n",
    "    - sign bit  \n",
    "    - the _fraction_ (or _mantissa_, or _significand_) of the **normalized** representation\n",
    "    - the actual exponent _plus_ a bias"
   ]
  },
  {
   "cell_type": "code",
   "execution_count": 18,
   "metadata": {
    "tags": []
   },
   "outputs": [
    {
     "data": {
      "image/svg+xml": [
       "<?xml version=\"1.0\" encoding=\"utf-8\"?>\n",
       "<svg xmlns=\"http://www.w3.org/2000/svg\" xmlns:xlink=\"http://www.w3.org/1999/xlink\" width=\"600\" height=\"400\" viewBox=\"0 0 2400 1600\">\n",
       "<defs>\n",
       "  <clipPath id=\"clip070\">\n",
       "    <rect x=\"0\" y=\"0\" width=\"2400\" height=\"1600\"/>\n",
       "  </clipPath>\n",
       "</defs>\n",
       "<path clip-path=\"url(#clip070)\" d=\"M0 1600 L2400 1600 L2400 0 L0 0  Z\" fill=\"#ffffff\" fill-rule=\"evenodd\" fill-opacity=\"1\"/>\n",
       "<defs>\n",
       "  <clipPath id=\"clip071\">\n",
       "    <rect x=\"480\" y=\"0\" width=\"1681\" height=\"1600\"/>\n",
       "  </clipPath>\n",
       "</defs>\n",
       "<path clip-path=\"url(#clip070)\" d=\"M447.244 1552.76 L1952.76 1552.76 L1952.76 47.2441 L447.244 47.2441  Z\" fill=\"#ffffff\" fill-rule=\"evenodd\" fill-opacity=\"1\"/>\n",
       "<defs>\n",
       "  <clipPath id=\"clip072\">\n",
       "    <rect x=\"447\" y=\"47\" width=\"1507\" height=\"1507\"/>\n",
       "  </clipPath>\n",
       "</defs>\n",
       "<polyline clip-path=\"url(#clip072)\" style=\"stroke:#000000; stroke-linecap:round; stroke-linejoin:round; stroke-width:4; stroke-opacity:1; fill:none\" points=\"1731.08,262.317 1729.64,270.496 1725.45,278.132 1718.71,285.265 1709.64,291.934 1698.43,298.181 1685.28,304.045 1670.4,309.567 1654,314.788 1636.27,319.746 1617.43,324.483 1597.67,329.039 1577.19,333.454 1556.21,337.769 1534.92,342.023 1513.53,346.256 1492.24,350.51 1471.26,354.825 1450.78,359.24 1431.02,363.796 1412.18,368.533 1394.45,373.491 1378.05,378.711 1363.17,384.234 1350.02,390.098 1338.81,396.345 1329.74,403.014 1323,410.147 1318.81,417.782 1317.37,425.962 \"/>\n",
       "<polyline clip-path=\"url(#clip072)\" style=\"stroke:#000000; stroke-linecap:round; stroke-linejoin:round; stroke-width:4; stroke-opacity:1; fill:none\" points=\"1317.37,425.962 1316.99,434.872 1315.87,443.826 1314.07,452.819 1311.64,461.849 1308.65,470.912 1305.14,480.005 1301.16,489.126 1296.78,498.27 1292.04,507.435 1287.01,516.617 1281.73,525.814 1276.26,535.021 1270.66,544.237 1264.97,553.457 1259.26,562.679 1253.57,571.9 1247.96,581.115 1242.49,590.323 1237.21,599.52 1232.18,608.702 1227.45,617.867 1223.06,627.011 1219.09,636.131 1215.58,645.225 1212.58,654.288 1210.16,663.318 1208.36,672.311 1207.24,681.264 1206.85,690.175 \"/>\n",
       "<polyline clip-path=\"url(#clip072)\" style=\"stroke:#000000; stroke-linecap:round; stroke-linejoin:round; stroke-width:4; stroke-opacity:1; fill:none\" points=\"1206.85,690.175 1206.89,699.553 1206.97,709.129 1207.12,718.888 1207.31,728.815 1207.55,738.895 1207.83,749.115 1208.15,759.459 1208.5,769.913 1208.88,780.463 1209.29,791.092 1209.71,801.788 1210.15,812.535 1210.6,823.318 1211.05,834.124 1211.51,844.936 1211.97,855.742 1212.41,866.525 1212.85,877.272 1213.28,887.967 1213.68,898.597 1214.06,909.146 1214.41,919.6 1214.73,929.945 1215.01,940.164 1215.25,950.245 1215.44,960.172 1215.59,969.931 1215.68,979.507 1215.71,988.885 \"/>\n",
       "<polyline clip-path=\"url(#clip072)\" style=\"stroke:#000000; stroke-linecap:round; stroke-linejoin:round; stroke-width:4; stroke-opacity:1; fill:none\" points=\"1215.71,988.885 1217.53,1004.16 1222.81,1018.42 1231.31,1031.75 1242.76,1044.2 1256.91,1055.87 1273.49,1066.82 1292.26,1077.14 1312.96,1086.89 1335.32,1096.15 1359.1,1105 1384.04,1113.51 1409.87,1121.75 1436.34,1129.81 1463.2,1137.76 1490.19,1145.67 1517.05,1153.61 1543.52,1161.67 1569.36,1169.92 1594.29,1178.43 1618.07,1187.27 1640.43,1196.54 1661.13,1206.29 1679.9,1216.6 1696.48,1227.55 1710.63,1239.22 1722.08,1251.68 1730.58,1265 1735.86,1279.26 1737.68,1294.54 \"/>\n",
       "<polyline clip-path=\"url(#clip072)\" style=\"stroke:#000000; stroke-linecap:round; stroke-linejoin:round; stroke-width:4; stroke-opacity:1; fill:none\" points=\"1215.71,988.885 1214.9,1001.66 1212.54,1014.23 1208.75,1026.62 1203.64,1038.84 1197.33,1050.9 1189.93,1062.82 1181.56,1074.62 1172.33,1086.31 1162.36,1097.9 1151.75,1109.41 1140.63,1120.86 1129.11,1132.25 1117.3,1143.61 1105.32,1154.94 1093.28,1166.27 1081.3,1177.6 1069.49,1188.96 1057.97,1200.35 1046.85,1211.79 1036.24,1223.3 1026.27,1234.9 1017.04,1246.58 1008.67,1258.38 1001.27,1270.31 994.958,1282.37 989.851,1294.59 986.062,1306.98 983.704,1319.55 982.892,1332.32 \"/>\n",
       "<polyline clip-path=\"url(#clip072)\" style=\"stroke:#000000; stroke-linecap:round; stroke-linejoin:round; stroke-width:4; stroke-opacity:1; fill:none\" points=\"1215.71,988.885 1213.78,1001.07 1208.18,1012.44 1199.17,1023.07 1187.03,1033 1172.03,1042.31 1154.44,1051.04 1134.55,1059.27 1112.6,1067.05 1088.89,1074.43 1063.68,1081.49 1037.25,1088.28 1009.86,1094.85 981.795,1101.28 953.319,1107.62 924.707,1113.92 896.23,1120.26 868.163,1126.69 840.776,1133.26 814.342,1140.05 789.133,1147.11 765.421,1154.49 743.48,1162.27 723.581,1170.5 705.996,1179.23 690.998,1188.54 678.858,1198.47 669.85,1209.1 664.246,1220.47 662.317,1232.66 \"/>\n",
       "<polyline clip-path=\"url(#clip072)\" style=\"stroke:#000000; stroke-linecap:round; stroke-linejoin:round; stroke-width:4; stroke-opacity:1; fill:none\" points=\"1215.71,988.885 1216.33,1001.01 1218.12,1013.12 1221,1025.21 1224.88,1037.27 1229.68,1049.33 1235.31,1061.36 1241.68,1073.38 1248.7,1085.4 1256.28,1097.4 1264.35,1109.39 1272.8,1121.37 1281.57,1133.35 1290.55,1145.33 1299.66,1157.3 1308.81,1169.27 1317.92,1181.24 1326.9,1193.22 1335.66,1205.2 1344.12,1217.18 1352.19,1229.17 1359.77,1241.17 1366.79,1253.18 1373.16,1265.21 1378.79,1277.24 1383.58,1289.29 1387.47,1301.36 1390.35,1313.45 1392.14,1325.55 1392.76,1337.68 \"/>\n",
       "<path clip-path=\"url(#clip072)\" d=\"M1759.05 262.317 L1745.07 238.095 L1717.1 238.095 L1703.11 262.317 L1717.1 286.539 L1745.07 286.539 L1759.05 262.317 L1759.05 262.317  Z\" fill=\"#009af9\" fill-rule=\"evenodd\" fill-opacity=\"1\"/>\n",
       "<polyline clip-path=\"url(#clip072)\" style=\"stroke:#000000; stroke-linecap:round; stroke-linejoin:round; stroke-width:4; stroke-opacity:1; fill:none\" points=\"1759.05,262.317 1745.07,238.095 1717.1,238.095 1703.11,262.317 1717.1,286.539 1745.07,286.539 1759.05,262.317 \"/>\n",
       "<path clip-path=\"url(#clip072)\" d=\"M1366.07 425.962 L1341.72 383.789 L1293.02 383.789 L1268.67 425.962 L1293.02 468.134 L1341.72 468.134 L1366.07 425.962 L1366.07 425.962  Z\" fill=\"#009af9\" fill-rule=\"evenodd\" fill-opacity=\"1\"/>\n",
       "<polyline clip-path=\"url(#clip072)\" style=\"stroke:#000000; stroke-linecap:round; stroke-linejoin:round; stroke-width:4; stroke-opacity:1; fill:none\" points=\"1366.07,425.962 1341.72,383.789 1293.02,383.789 1268.67,425.962 1293.02,468.134 1341.72,468.134 1366.07,425.962 \"/>\n",
       "<path clip-path=\"url(#clip072)\" d=\"M1242.06 690.175 L1224.46 659.685 L1189.25 659.685 L1171.65 690.175 L1189.25 720.665 L1224.46 720.665 L1242.06 690.175 L1242.06 690.175  Z\" fill=\"#009af9\" fill-rule=\"evenodd\" fill-opacity=\"1\"/>\n",
       "<polyline clip-path=\"url(#clip072)\" style=\"stroke:#000000; stroke-linecap:round; stroke-linejoin:round; stroke-width:4; stroke-opacity:1; fill:none\" points=\"1242.06,690.175 1224.46,659.685 1189.25,659.685 1171.65,690.175 1189.25,720.665 1224.46,720.665 1242.06,690.175 \"/>\n",
       "<path clip-path=\"url(#clip072)\" d=\"M1306.1 988.885 L1260.9 910.602 L1170.51 910.602 L1125.32 988.885 L1170.51 1067.17 L1260.9 1067.17 L1306.1 988.885 L1306.1 988.885  Z\" fill=\"#009af9\" fill-rule=\"evenodd\" fill-opacity=\"1\"/>\n",
       "<polyline clip-path=\"url(#clip072)\" style=\"stroke:#000000; stroke-linecap:round; stroke-linejoin:round; stroke-width:4; stroke-opacity:1; fill:none\" points=\"1306.1,988.885 1260.9,910.602 1170.51,910.602 1125.32,988.885 1170.51,1067.17 1260.9,1067.17 1306.1,988.885 \"/>\n",
       "<path clip-path=\"url(#clip072)\" d=\"M1798.98 1294.54 L1768.33 1241.45 L1707.03 1241.45 L1676.38 1294.54 L1707.03 1347.63 L1768.33 1347.63 L1798.98 1294.54 L1798.98 1294.54  Z\" fill=\"#009af9\" fill-rule=\"evenodd\" fill-opacity=\"1\"/>\n",
       "<polyline clip-path=\"url(#clip072)\" style=\"stroke:#000000; stroke-linecap:round; stroke-linejoin:round; stroke-width:4; stroke-opacity:1; fill:none\" points=\"1798.98,1294.54 1768.33,1241.45 1707.03,1241.45 1676.38,1294.54 1707.03,1347.63 1768.33,1347.63 1798.98,1294.54 \"/>\n",
       "<path clip-path=\"url(#clip072)\" d=\"M1037.98 1332.32 L1010.44 1284.61 L955.348 1284.61 L927.804 1332.32 L955.348 1380.03 L1010.44 1380.03 L1037.98 1332.32 L1037.98 1332.32  Z\" fill=\"#009af9\" fill-rule=\"evenodd\" fill-opacity=\"1\"/>\n",
       "<polyline clip-path=\"url(#clip072)\" style=\"stroke:#000000; stroke-linecap:round; stroke-linejoin:round; stroke-width:4; stroke-opacity:1; fill:none\" points=\"1037.98,1332.32 1010.44,1284.61 955.348,1284.61 927.804,1332.32 955.348,1380.03 1010.44,1380.03 1037.98,1332.32 \"/>\n",
       "<path clip-path=\"url(#clip072)\" d=\"M717.405 1232.66 L689.861 1184.95 L634.773 1184.95 L607.229 1232.66 L634.773 1280.36 L689.861 1280.36 L717.405 1232.66 L717.405 1232.66  Z\" fill=\"#009af9\" fill-rule=\"evenodd\" fill-opacity=\"1\"/>\n",
       "<polyline clip-path=\"url(#clip072)\" style=\"stroke:#000000; stroke-linecap:round; stroke-linejoin:round; stroke-width:4; stroke-opacity:1; fill:none\" points=\"717.405,1232.66 689.861,1184.95 634.773,1184.95 607.229,1232.66 634.773,1280.36 689.861,1280.36 717.405,1232.66 \"/>\n",
       "<path clip-path=\"url(#clip072)\" d=\"M1447.85 1337.68 L1420.3 1289.98 L1365.22 1289.98 L1337.67 1337.68 L1365.22 1385.39 L1420.3 1385.39 L1447.85 1337.68 L1447.85 1337.68  Z\" fill=\"#009af9\" fill-rule=\"evenodd\" fill-opacity=\"1\"/>\n",
       "<polyline clip-path=\"url(#clip072)\" style=\"stroke:#000000; stroke-linecap:round; stroke-linejoin:round; stroke-width:4; stroke-opacity:1; fill:none\" points=\"1447.85,1337.68 1420.3,1289.98 1365.22,1289.98 1337.67,1337.68 1365.22,1385.39 1420.3,1385.39 1447.85,1337.68 \"/>\n",
       "<path clip-path=\"url(#clip072)\" d=\"M1731.08 262.717 L1730.73 262.517 L1730.73 262.117 L1731.08 261.917 L1731.43 262.117 L1731.43 262.517 Z\" fill=\"#009af9\" fill-rule=\"evenodd\" fill-opacity=\"1\" stroke=\"#000000\" stroke-opacity=\"1\" stroke-width=\"3.2\"/>\n",
       "<path clip-path=\"url(#clip072)\" d=\"M1317.37 426.362 L1317.02 426.162 L1317.02 425.762 L1317.37 425.562 L1317.72 425.762 L1317.72 426.162 Z\" fill=\"#009af9\" fill-rule=\"evenodd\" fill-opacity=\"1\" stroke=\"#000000\" stroke-opacity=\"1\" stroke-width=\"3.2\"/>\n",
       "<path clip-path=\"url(#clip072)\" d=\"M1206.85 690.575 L1206.51 690.375 L1206.51 689.975 L1206.85 689.775 L1207.2 689.975 L1207.2 690.375 Z\" fill=\"#009af9\" fill-rule=\"evenodd\" fill-opacity=\"1\" stroke=\"#000000\" stroke-opacity=\"1\" stroke-width=\"3.2\"/>\n",
       "<path clip-path=\"url(#clip072)\" d=\"M1215.71 989.285 L1215.36 989.085 L1215.36 988.685 L1215.71 988.485 L1216.05 988.685 L1216.05 989.085 Z\" fill=\"#009af9\" fill-rule=\"evenodd\" fill-opacity=\"1\" stroke=\"#000000\" stroke-opacity=\"1\" stroke-width=\"3.2\"/>\n",
       "<path clip-path=\"url(#clip072)\" d=\"M1737.68 1294.94 L1737.34 1294.74 L1737.34 1294.34 L1737.68 1294.14 L1738.03 1294.34 L1738.03 1294.74 Z\" fill=\"#009af9\" fill-rule=\"evenodd\" fill-opacity=\"1\" stroke=\"#000000\" stroke-opacity=\"1\" stroke-width=\"3.2\"/>\n",
       "<path clip-path=\"url(#clip072)\" d=\"M982.892 1332.72 L982.546 1332.52 L982.546 1332.12 L982.892 1331.92 L983.239 1332.12 L983.239 1332.52 Z\" fill=\"#009af9\" fill-rule=\"evenodd\" fill-opacity=\"1\" stroke=\"#000000\" stroke-opacity=\"1\" stroke-width=\"3.2\"/>\n",
       "<path clip-path=\"url(#clip072)\" d=\"M662.317 1233.06 L661.971 1232.86 L661.971 1232.46 L662.317 1232.26 L662.664 1232.46 L662.664 1232.86 Z\" fill=\"#009af9\" fill-rule=\"evenodd\" fill-opacity=\"1\" stroke=\"#000000\" stroke-opacity=\"1\" stroke-width=\"3.2\"/>\n",
       "<path clip-path=\"url(#clip072)\" d=\"M1392.76 1338.08 L1392.41 1337.88 L1392.41 1337.48 L1392.76 1337.28 L1393.11 1337.48 L1393.11 1337.88 Z\" fill=\"#009af9\" fill-rule=\"evenodd\" fill-opacity=\"1\" stroke=\"#000000\" stroke-opacity=\"1\" stroke-width=\"3.2\"/>\n",
       "<path clip-path=\"url(#clip070)\" d=\"M1716.81 255.98 L1713.64 264.58 L1719.99 264.58 L1716.81 255.98 M1715.49 253.677 L1718.14 253.677 L1724.73 270.957 L1722.3 270.957 L1720.72 266.524 L1712.93 266.524 L1711.36 270.957 L1708.89 270.957 L1715.49 253.677 Z\" fill=\"#000000\" fill-rule=\"nonzero\" fill-opacity=\"1\" /><path clip-path=\"url(#clip070)\" d=\"M1737.93 263.133 L1737.93 270.957 L1735.8 270.957 L1735.8 263.203 Q1735.8 261.362 1735.09 260.448 Q1734.37 259.534 1732.93 259.534 Q1731.21 259.534 1730.21 260.633 Q1729.22 261.733 1729.22 263.631 L1729.22 270.957 L1727.08 270.957 L1727.08 257.994 L1729.22 257.994 L1729.22 260.008 Q1729.98 258.839 1731.01 258.261 Q1732.05 257.682 1733.41 257.682 Q1735.64 257.682 1736.79 259.071 Q1737.93 260.448 1737.93 263.133 Z\" fill=\"#000000\" fill-rule=\"nonzero\" fill-opacity=\"1\" /><path clip-path=\"url(#clip070)\" d=\"M1747.57 272.161 Q1746.67 274.476 1745.81 275.182 Q1744.96 275.888 1743.52 275.888 L1741.82 275.888 L1741.82 274.105 L1743.07 274.105 Q1743.95 274.105 1744.44 273.689 Q1744.92 273.272 1745.51 271.721 L1745.9 270.749 L1740.65 257.994 L1742.91 257.994 L1746.96 268.133 L1751.01 257.994 L1753.27 257.994 L1747.57 272.161 Z\" fill=\"#000000\" fill-rule=\"nonzero\" fill-opacity=\"1\" /><path clip-path=\"url(#clip070)\" d=\"M1270.92 417.322 L1274.07 417.322 L1281.73 431.778 L1281.73 417.322 L1284 417.322 L1284 434.602 L1280.85 434.602 L1273.19 420.146 L1273.19 434.602 L1270.92 434.602 L1270.92 417.322 Z\" fill=\"#000000\" fill-rule=\"nonzero\" fill-opacity=\"1\" /><path clip-path=\"url(#clip070)\" d=\"M1288.34 429.486 L1288.34 421.639 L1290.47 421.639 L1290.47 429.405 Q1290.47 431.245 1291.19 432.171 Q1291.91 433.085 1293.34 433.085 Q1295.07 433.085 1296.06 431.986 Q1297.07 430.886 1297.07 428.988 L1297.07 421.639 L1299.2 421.639 L1299.2 434.602 L1297.07 434.602 L1297.07 432.611 Q1296.29 433.791 1295.26 434.37 Q1294.25 434.937 1292.89 434.937 Q1290.66 434.937 1289.5 433.548 Q1288.34 432.16 1288.34 429.486 M1293.7 421.326 L1293.7 421.326 Z\" fill=\"#000000\" fill-rule=\"nonzero\" fill-opacity=\"1\" /><path clip-path=\"url(#clip070)\" d=\"M1313.68 424.127 Q1314.48 422.692 1315.59 422.009 Q1316.7 421.326 1318.2 421.326 Q1320.23 421.326 1321.33 422.75 Q1322.43 424.162 1322.43 426.778 L1322.43 434.602 L1320.29 434.602 L1320.29 426.847 Q1320.29 424.984 1319.63 424.081 Q1318.97 423.178 1317.61 423.178 Q1315.96 423.178 1315 424.278 Q1314.04 425.377 1314.04 427.275 L1314.04 434.602 L1311.9 434.602 L1311.9 426.847 Q1311.9 424.972 1311.24 424.081 Q1310.58 423.178 1309.2 423.178 Q1307.57 423.178 1306.61 424.289 Q1305.65 425.389 1305.65 427.275 L1305.65 434.602 L1303.51 434.602 L1303.51 421.639 L1305.65 421.639 L1305.65 423.653 Q1306.38 422.461 1307.39 421.893 Q1308.41 421.326 1309.81 421.326 Q1311.23 421.326 1312.21 422.044 Q1313.2 422.761 1313.68 424.127 Z\" fill=\"#000000\" fill-rule=\"nonzero\" fill-opacity=\"1\" /><path clip-path=\"url(#clip070)\" d=\"M1335.98 428.132 Q1335.98 425.782 1335.01 424.451 Q1334.05 423.109 1332.36 423.109 Q1330.67 423.109 1329.7 424.451 Q1328.74 425.782 1328.74 428.132 Q1328.74 430.481 1329.7 431.824 Q1330.67 433.155 1332.36 433.155 Q1334.05 433.155 1335.01 431.824 Q1335.98 430.481 1335.98 428.132 M1328.74 423.606 Q1329.41 422.449 1330.43 421.893 Q1331.46 421.326 1332.88 421.326 Q1335.24 421.326 1336.71 423.201 Q1338.19 425.076 1338.19 428.132 Q1338.19 431.187 1336.71 433.062 Q1335.24 434.937 1332.88 434.937 Q1331.46 434.937 1330.43 434.382 Q1329.41 433.815 1328.74 432.657 L1328.74 434.602 L1326.6 434.602 L1326.6 416.592 L1328.74 416.592 L1328.74 423.606 Z\" fill=\"#000000\" fill-rule=\"nonzero\" fill-opacity=\"1\" /><path clip-path=\"url(#clip070)\" d=\"M1352.81 427.588 L1352.81 428.629 L1343.02 428.629 Q1343.16 430.829 1344.34 431.986 Q1345.53 433.132 1347.65 433.132 Q1348.88 433.132 1350.02 432.831 Q1351.18 432.53 1352.31 431.928 L1352.31 433.942 Q1351.17 434.428 1349.96 434.683 Q1348.76 434.937 1347.52 434.937 Q1344.42 434.937 1342.6 433.132 Q1340.8 431.326 1340.8 428.248 Q1340.8 425.065 1342.51 423.201 Q1344.23 421.326 1347.15 421.326 Q1349.77 421.326 1351.28 423.016 Q1352.81 424.694 1352.81 427.588 M1350.68 426.963 Q1350.66 425.215 1349.7 424.173 Q1348.75 423.132 1347.17 423.132 Q1345.39 423.132 1344.32 424.139 Q1343.25 425.146 1343.09 426.974 L1350.68 426.963 Z\" fill=\"#000000\" fill-rule=\"nonzero\" fill-opacity=\"1\" /><path clip-path=\"url(#clip070)\" d=\"M1363.82 423.629 Q1363.46 423.421 1363.03 423.329 Q1362.61 423.224 1362.1 423.224 Q1360.3 423.224 1359.33 424.405 Q1358.37 425.574 1358.37 427.773 L1358.37 434.602 L1356.22 434.602 L1356.22 421.639 L1358.37 421.639 L1358.37 423.653 Q1359.04 422.472 1360.11 421.905 Q1361.19 421.326 1362.73 421.326 Q1362.95 421.326 1363.22 421.361 Q1363.48 421.384 1363.81 421.442 L1363.82 423.629 Z\" fill=\"#000000\" fill-rule=\"nonzero\" fill-opacity=\"1\" /><path clip-path=\"url(#clip070)\" d=\"M1191.77 690.713 Q1192.53 690.968 1193.23 691.801 Q1193.95 692.635 1194.67 694.093 L1197.04 698.815 L1194.53 698.815 L1192.32 694.382 Q1191.46 692.646 1190.65 692.079 Q1189.85 691.512 1188.46 691.512 L1185.92 691.512 L1185.92 698.815 L1183.58 698.815 L1183.58 681.535 L1188.86 681.535 Q1191.82 681.535 1193.28 682.774 Q1194.74 684.012 1194.74 686.512 Q1194.74 688.144 1193.97 689.22 Q1193.22 690.297 1191.77 690.713 M1185.92 683.456 L1185.92 689.591 L1188.86 689.591 Q1190.55 689.591 1191.4 688.815 Q1192.27 688.028 1192.27 686.512 Q1192.27 684.996 1191.4 684.232 Q1190.55 683.456 1188.86 683.456 L1185.92 683.456 Z\" fill=\"#000000\" fill-rule=\"nonzero\" fill-opacity=\"1\" /><path clip-path=\"url(#clip070)\" d=\"M1209.98 691.801 L1209.98 692.843 L1200.19 692.843 Q1200.33 695.042 1201.51 696.199 Q1202.7 697.345 1204.82 697.345 Q1206.04 697.345 1207.19 697.044 Q1208.35 696.743 1209.48 696.141 L1209.48 698.155 Q1208.34 698.641 1207.13 698.896 Q1205.93 699.151 1204.69 699.151 Q1201.59 699.151 1199.77 697.345 Q1197.97 695.54 1197.97 692.461 Q1197.97 689.278 1199.68 687.415 Q1201.4 685.54 1204.32 685.54 Q1206.94 685.54 1208.45 687.23 Q1209.98 688.908 1209.98 691.801 M1207.85 691.176 Q1207.83 689.429 1206.87 688.387 Q1205.92 687.345 1204.34 687.345 Q1202.56 687.345 1201.48 688.352 Q1200.42 689.359 1200.26 691.188 L1207.85 691.176 Z\" fill=\"#000000\" fill-rule=\"nonzero\" fill-opacity=\"1\" /><path clip-path=\"url(#clip070)\" d=\"M1219.37 692.299 Q1216.78 692.299 1215.79 692.889 Q1214.79 693.479 1214.79 694.903 Q1214.79 696.037 1215.53 696.709 Q1216.29 697.368 1217.57 697.368 Q1219.34 697.368 1220.41 696.118 Q1221.48 694.857 1221.48 692.773 L1221.48 692.299 L1219.37 692.299 M1223.61 691.419 L1223.61 698.815 L1221.48 698.815 L1221.48 696.848 Q1220.75 698.028 1219.67 698.595 Q1218.58 699.151 1217 699.151 Q1215.01 699.151 1213.83 698.04 Q1212.66 696.917 1212.66 695.042 Q1212.66 692.854 1214.12 691.743 Q1215.59 690.632 1218.5 690.632 L1221.48 690.632 L1221.48 690.424 Q1221.48 688.954 1220.51 688.155 Q1219.55 687.345 1217.8 687.345 Q1216.69 687.345 1215.64 687.611 Q1214.59 687.878 1213.61 688.41 L1213.61 686.442 Q1214.78 685.991 1215.88 685.771 Q1216.98 685.54 1218.02 685.54 Q1220.84 685.54 1222.22 686.998 Q1223.61 688.456 1223.61 691.419 Z\" fill=\"#000000\" fill-rule=\"nonzero\" fill-opacity=\"1\" /><path clip-path=\"url(#clip070)\" d=\"M1228 680.806 L1230.13 680.806 L1230.13 698.815 L1228 698.815 L1228 680.806 Z\" fill=\"#000000\" fill-rule=\"nonzero\" fill-opacity=\"1\" /><path clip-path=\"url(#clip070)\" d=\"M1144.98 982.548 L1141.81 991.147 L1148.16 991.147 L1144.98 982.548 M1143.66 980.245 L1146.31 980.245 L1152.9 997.525 L1150.47 997.525 L1148.89 993.092 L1141.1 993.092 L1139.53 997.525 L1137.06 997.525 L1143.66 980.245 Z\" fill=\"#000000\" fill-rule=\"nonzero\" fill-opacity=\"1\" /><path clip-path=\"url(#clip070)\" d=\"M1164.63 991.055 Q1164.63 988.705 1163.66 987.374 Q1162.7 986.032 1161.01 986.032 Q1159.32 986.032 1158.35 987.374 Q1157.39 988.705 1157.39 991.055 Q1157.39 993.404 1158.35 994.747 Q1159.32 996.078 1161.01 996.078 Q1162.7 996.078 1163.66 994.747 Q1164.63 993.404 1164.63 991.055 M1157.39 986.529 Q1158.06 985.372 1159.08 984.816 Q1160.11 984.249 1161.53 984.249 Q1163.89 984.249 1165.36 986.124 Q1166.84 987.999 1166.84 991.055 Q1166.84 994.11 1165.36 995.985 Q1163.89 997.86 1161.53 997.86 Q1160.11 997.86 1159.08 997.305 Q1158.06 996.738 1157.39 995.58 L1157.39 997.525 L1155.25 997.525 L1155.25 979.515 L1157.39 979.515 L1157.39 986.529 Z\" fill=\"#000000\" fill-rule=\"nonzero\" fill-opacity=\"1\" /><path clip-path=\"url(#clip070)\" d=\"M1178.64 984.944 L1178.64 986.958 Q1177.73 986.495 1176.76 986.263 Q1175.79 986.032 1174.75 986.032 Q1173.16 986.032 1172.36 986.518 Q1171.58 987.004 1171.58 987.976 Q1171.58 988.717 1172.14 989.145 Q1172.71 989.562 1174.42 989.944 L1175.15 990.106 Q1177.42 990.592 1178.37 991.483 Q1179.33 992.363 1179.33 993.948 Q1179.33 995.754 1177.9 996.807 Q1176.47 997.86 1173.97 997.86 Q1172.93 997.86 1171.8 997.652 Q1170.67 997.455 1169.42 997.05 L1169.42 994.851 Q1170.6 995.464 1171.75 995.777 Q1172.9 996.078 1174.02 996.078 Q1175.52 996.078 1176.33 995.569 Q1177.14 995.048 1177.14 994.11 Q1177.14 993.242 1176.55 992.779 Q1175.97 992.316 1174 991.888 L1173.25 991.715 Q1171.28 991.298 1170.4 990.441 Q1169.52 989.573 1169.52 988.069 Q1169.52 986.24 1170.81 985.245 Q1172.11 984.249 1174.49 984.249 Q1175.67 984.249 1176.72 984.423 Q1177.76 984.596 1178.64 984.944 Z\" fill=\"#000000\" fill-rule=\"nonzero\" fill-opacity=\"1\" /><path clip-path=\"url(#clip070)\" d=\"M1184.83 980.881 L1184.83 984.562 L1189.22 984.562 L1189.22 986.217 L1184.83 986.217 L1184.83 993.254 Q1184.83 994.839 1185.26 995.291 Q1185.7 995.742 1187.03 995.742 L1189.22 995.742 L1189.22 997.525 L1187.03 997.525 Q1184.56 997.525 1183.63 996.61 Q1182.69 995.684 1182.69 993.254 L1182.69 986.217 L1181.13 986.217 L1181.13 984.562 L1182.69 984.562 L1182.69 980.881 L1184.83 980.881 Z\" fill=\"#000000\" fill-rule=\"nonzero\" fill-opacity=\"1\" /><path clip-path=\"url(#clip070)\" d=\"M1199.53 986.552 Q1199.17 986.344 1198.74 986.252 Q1198.32 986.147 1197.81 986.147 Q1196.01 986.147 1195.04 987.328 Q1194.08 988.497 1194.08 990.696 L1194.08 997.525 L1191.94 997.525 L1191.94 984.562 L1194.08 984.562 L1194.08 986.576 Q1194.75 985.395 1195.82 984.828 Q1196.9 984.249 1198.44 984.249 Q1198.66 984.249 1198.93 984.284 Q1199.19 984.307 1199.52 984.365 L1199.53 986.552 Z\" fill=\"#000000\" fill-rule=\"nonzero\" fill-opacity=\"1\" /><path clip-path=\"url(#clip070)\" d=\"M1207.65 991.008 Q1205.07 991.008 1204.08 991.599 Q1203.08 992.189 1203.08 993.613 Q1203.08 994.747 1203.82 995.418 Q1204.57 996.078 1205.86 996.078 Q1207.63 996.078 1208.69 994.828 Q1209.77 993.566 1209.77 991.483 L1209.77 991.008 L1207.65 991.008 M1211.9 990.129 L1211.9 997.525 L1209.77 997.525 L1209.77 995.557 Q1209.04 996.738 1207.95 997.305 Q1206.87 997.86 1205.29 997.86 Q1203.3 997.86 1202.12 996.749 Q1200.95 995.627 1200.95 993.752 Q1200.95 991.564 1202.41 990.453 Q1203.88 989.342 1206.78 989.342 L1209.77 989.342 L1209.77 989.133 Q1209.77 987.664 1208.8 986.865 Q1207.84 986.055 1206.09 986.055 Q1204.98 986.055 1203.93 986.321 Q1202.87 986.587 1201.9 987.12 L1201.9 985.152 Q1203.07 984.701 1204.17 984.481 Q1205.27 984.249 1206.31 984.249 Q1209.12 984.249 1210.51 985.708 Q1211.9 987.166 1211.9 990.129 Z\" fill=\"#000000\" fill-rule=\"nonzero\" fill-opacity=\"1\" /><path clip-path=\"url(#clip070)\" d=\"M1225.62 985.059 L1225.62 987.05 Q1224.71 986.552 1223.8 986.309 Q1222.9 986.055 1221.97 986.055 Q1219.9 986.055 1218.75 987.374 Q1217.61 988.682 1217.61 991.055 Q1217.61 993.427 1218.75 994.747 Q1219.9 996.055 1221.97 996.055 Q1222.9 996.055 1223.8 995.812 Q1224.71 995.557 1225.62 995.059 L1225.62 997.027 Q1224.72 997.444 1223.76 997.652 Q1222.81 997.86 1221.74 997.86 Q1218.81 997.86 1217.09 996.02 Q1215.36 994.18 1215.36 991.055 Q1215.36 987.884 1217.1 986.066 Q1218.84 984.249 1221.88 984.249 Q1222.86 984.249 1223.8 984.458 Q1224.74 984.654 1225.62 985.059 Z\" fill=\"#000000\" fill-rule=\"nonzero\" fill-opacity=\"1\" /><path clip-path=\"url(#clip070)\" d=\"M1231.43 980.881 L1231.43 984.562 L1235.81 984.562 L1235.81 986.217 L1231.43 986.217 L1231.43 993.254 Q1231.43 994.839 1231.85 995.291 Q1232.29 995.742 1233.62 995.742 L1235.81 995.742 L1235.81 997.525 L1233.62 997.525 Q1231.16 997.525 1230.22 996.61 Q1229.28 995.684 1229.28 993.254 L1229.28 986.217 L1227.72 986.217 L1227.72 984.562 L1229.28 984.562 L1229.28 980.881 L1231.43 980.881 Z\" fill=\"#000000\" fill-rule=\"nonzero\" fill-opacity=\"1\" /><path clip-path=\"url(#clip070)\" d=\"M1238.71 980.245 L1248.64 980.245 L1248.64 982.212 L1241.04 982.212 L1241.04 987.305 L1247.9 987.305 L1247.9 989.272 L1241.04 989.272 L1241.04 997.525 L1238.71 997.525 L1238.71 980.245 Z\" fill=\"#000000\" fill-rule=\"nonzero\" fill-opacity=\"1\" /><path clip-path=\"url(#clip070)\" d=\"M1252.25 979.515 L1254.38 979.515 L1254.38 997.525 L1252.25 997.525 L1252.25 979.515 Z\" fill=\"#000000\" fill-rule=\"nonzero\" fill-opacity=\"1\" /><path clip-path=\"url(#clip070)\" d=\"M1263.86 986.055 Q1262.14 986.055 1261.15 987.397 Q1260.15 988.728 1260.15 991.055 Q1260.15 993.381 1261.14 994.724 Q1262.13 996.055 1263.86 996.055 Q1265.56 996.055 1266.55 994.712 Q1267.55 993.37 1267.55 991.055 Q1267.55 988.752 1266.55 987.409 Q1265.56 986.055 1263.86 986.055 M1263.86 984.249 Q1266.63 984.249 1268.22 986.055 Q1269.81 987.86 1269.81 991.055 Q1269.81 994.238 1268.22 996.055 Q1266.63 997.86 1263.86 997.86 Q1261.07 997.86 1259.48 996.055 Q1257.91 994.238 1257.91 991.055 Q1257.91 987.86 1259.48 986.055 Q1261.07 984.249 1263.86 984.249 Z\" fill=\"#000000\" fill-rule=\"nonzero\" fill-opacity=\"1\" /><path clip-path=\"url(#clip070)\" d=\"M1279.23 991.008 Q1276.65 991.008 1275.65 991.599 Q1274.65 992.189 1274.65 993.613 Q1274.65 994.747 1275.4 995.418 Q1276.15 996.078 1277.43 996.078 Q1279.2 996.078 1280.27 994.828 Q1281.34 993.566 1281.34 991.483 L1281.34 991.008 L1279.23 991.008 M1283.47 990.129 L1283.47 997.525 L1281.34 997.525 L1281.34 995.557 Q1280.62 996.738 1279.53 997.305 Q1278.44 997.86 1276.87 997.86 Q1274.87 997.86 1273.69 996.749 Q1272.53 995.627 1272.53 993.752 Q1272.53 991.564 1273.98 990.453 Q1275.45 989.342 1278.36 989.342 L1281.34 989.342 L1281.34 989.133 Q1281.34 987.664 1280.37 986.865 Q1279.41 986.055 1277.66 986.055 Q1276.55 986.055 1275.5 986.321 Q1274.45 986.587 1273.47 987.12 L1273.47 985.152 Q1274.64 984.701 1275.74 984.481 Q1276.84 984.249 1277.88 984.249 Q1280.7 984.249 1282.09 985.708 Q1283.47 987.166 1283.47 990.129 Z\" fill=\"#000000\" fill-rule=\"nonzero\" fill-opacity=\"1\" /><path clip-path=\"url(#clip070)\" d=\"M1289.97 980.881 L1289.97 984.562 L1294.35 984.562 L1294.35 986.217 L1289.97 986.217 L1289.97 993.254 Q1289.97 994.839 1290.4 995.291 Q1290.84 995.742 1292.17 995.742 L1294.35 995.742 L1294.35 997.525 L1292.17 997.525 Q1289.7 997.525 1288.76 996.61 Q1287.83 995.684 1287.83 993.254 L1287.83 986.217 L1286.26 986.217 L1286.26 984.562 L1287.83 984.562 L1287.83 980.881 L1289.97 980.881 Z\" fill=\"#000000\" fill-rule=\"nonzero\" fill-opacity=\"1\" /><path clip-path=\"url(#clip070)\" d=\"M1693.25 1294.93 L1693.25 1301.26 L1697 1301.26 Q1698.89 1301.26 1699.79 1300.48 Q1700.7 1299.7 1700.7 1298.09 Q1700.7 1296.47 1699.79 1295.7 Q1698.89 1294.93 1697 1294.93 L1693.25 1294.93 M1693.25 1287.82 L1693.25 1293.03 L1696.71 1293.03 Q1698.42 1293.03 1699.26 1292.39 Q1700.1 1291.74 1700.1 1290.42 Q1700.1 1289.12 1699.26 1288.47 Q1698.42 1287.82 1696.71 1287.82 L1693.25 1287.82 M1690.91 1285.9 L1696.88 1285.9 Q1699.56 1285.9 1701 1287.01 Q1702.45 1288.12 1702.45 1290.17 Q1702.45 1291.76 1701.71 1292.69 Q1700.97 1293.63 1699.53 1293.86 Q1701.26 1294.23 1702.21 1295.41 Q1703.17 1296.58 1703.17 1298.34 Q1703.17 1300.66 1701.6 1301.92 Q1700.02 1303.18 1697.12 1303.18 L1690.91 1303.18 L1690.91 1285.9 Z\" fill=\"#000000\" fill-rule=\"nonzero\" fill-opacity=\"1\" /><path clip-path=\"url(#clip070)\" d=\"M1707.08 1290.22 L1709.21 1290.22 L1709.21 1303.18 L1707.08 1303.18 L1707.08 1290.22 M1707.08 1285.17 L1709.21 1285.17 L1709.21 1287.87 L1707.08 1287.87 L1707.08 1285.17 Z\" fill=\"#000000\" fill-rule=\"nonzero\" fill-opacity=\"1\" /><path clip-path=\"url(#clip070)\" d=\"M1722.2 1296.55 Q1722.2 1294.23 1721.24 1292.96 Q1720.29 1291.69 1718.56 1291.69 Q1716.85 1291.69 1715.89 1292.96 Q1714.94 1294.23 1714.94 1296.55 Q1714.94 1298.85 1715.89 1300.12 Q1716.85 1301.4 1718.56 1301.4 Q1720.29 1301.4 1721.24 1300.12 Q1722.2 1298.85 1722.2 1296.55 M1724.33 1301.57 Q1724.33 1304.88 1722.86 1306.49 Q1721.39 1308.11 1718.35 1308.11 Q1717.23 1308.11 1716.24 1307.94 Q1715.24 1307.77 1714.3 1307.43 L1714.3 1305.35 Q1715.24 1305.86 1716.16 1306.11 Q1717.07 1306.35 1718.02 1306.35 Q1720.11 1306.35 1721.16 1305.25 Q1722.2 1304.16 1722.2 1301.95 L1722.2 1300.9 Q1721.54 1302.04 1720.51 1302.61 Q1719.48 1303.18 1718.04 1303.18 Q1715.66 1303.18 1714.2 1301.36 Q1712.74 1299.54 1712.74 1296.55 Q1712.74 1293.54 1714.2 1291.72 Q1715.66 1289.9 1718.04 1289.9 Q1719.48 1289.9 1720.51 1290.47 Q1721.54 1291.04 1722.2 1292.18 L1722.2 1290.22 L1724.33 1290.22 L1724.33 1301.57 Z\" fill=\"#000000\" fill-rule=\"nonzero\" fill-opacity=\"1\" /><path clip-path=\"url(#clip070)\" d=\"M1728.81 1285.9 L1738.74 1285.9 L1738.74 1287.87 L1731.14 1287.87 L1731.14 1292.96 L1738 1292.96 L1738 1294.93 L1731.14 1294.93 L1731.14 1303.18 L1728.81 1303.18 L1728.81 1285.9 Z\" fill=\"#000000\" fill-rule=\"nonzero\" fill-opacity=\"1\" /><path clip-path=\"url(#clip070)\" d=\"M1742.35 1285.17 L1744.48 1285.17 L1744.48 1303.18 L1742.35 1303.18 L1742.35 1285.17 Z\" fill=\"#000000\" fill-rule=\"nonzero\" fill-opacity=\"1\" /><path clip-path=\"url(#clip070)\" d=\"M1753.96 1291.71 Q1752.24 1291.71 1751.25 1293.05 Q1750.25 1294.38 1750.25 1296.71 Q1750.25 1299.04 1751.24 1300.38 Q1752.23 1301.71 1753.96 1301.71 Q1755.66 1301.71 1756.65 1300.37 Q1757.65 1299.02 1757.65 1296.71 Q1757.65 1294.41 1756.65 1293.06 Q1755.66 1291.71 1753.96 1291.71 M1753.96 1289.9 Q1756.73 1289.9 1758.32 1291.71 Q1759.9 1293.51 1759.9 1296.71 Q1759.9 1299.89 1758.32 1301.71 Q1756.73 1303.51 1753.96 1303.51 Q1751.17 1303.51 1749.58 1301.71 Q1748.01 1299.89 1748.01 1296.71 Q1748.01 1293.51 1749.58 1291.71 Q1751.17 1289.9 1753.96 1289.9 Z\" fill=\"#000000\" fill-rule=\"nonzero\" fill-opacity=\"1\" /><path clip-path=\"url(#clip070)\" d=\"M1769.33 1296.66 Q1766.75 1296.66 1765.75 1297.25 Q1764.75 1297.84 1764.75 1299.27 Q1764.75 1300.4 1765.5 1301.07 Q1766.25 1301.73 1767.53 1301.73 Q1769.3 1301.73 1770.37 1300.48 Q1771.44 1299.22 1771.44 1297.14 L1771.44 1296.66 L1769.33 1296.66 M1773.57 1295.78 L1773.57 1303.18 L1771.44 1303.18 L1771.44 1301.21 Q1770.72 1302.39 1769.63 1302.96 Q1768.54 1303.51 1766.97 1303.51 Q1764.97 1303.51 1763.79 1302.4 Q1762.62 1301.28 1762.62 1299.41 Q1762.62 1297.22 1764.08 1296.11 Q1765.55 1295 1768.46 1295 L1771.44 1295 L1771.44 1294.79 Q1771.44 1293.32 1770.47 1292.52 Q1769.51 1291.71 1767.76 1291.71 Q1766.65 1291.71 1765.6 1291.98 Q1764.55 1292.24 1763.57 1292.77 L1763.57 1290.81 Q1764.74 1290.36 1765.84 1290.14 Q1766.94 1289.9 1767.98 1289.9 Q1770.8 1289.9 1772.18 1291.36 Q1773.57 1292.82 1773.57 1295.78 Z\" fill=\"#000000\" fill-rule=\"nonzero\" fill-opacity=\"1\" /><path clip-path=\"url(#clip070)\" d=\"M1780.07 1286.54 L1780.07 1290.22 L1784.45 1290.22 L1784.45 1291.87 L1780.07 1291.87 L1780.07 1298.91 Q1780.07 1300.49 1780.5 1300.95 Q1780.93 1301.4 1782.27 1301.4 L1784.45 1301.4 L1784.45 1303.18 L1782.27 1303.18 Q1779.8 1303.18 1778.86 1302.26 Q1777.93 1301.34 1777.93 1298.91 L1777.93 1291.87 L1776.36 1291.87 L1776.36 1290.22 L1777.93 1290.22 L1777.93 1286.54 L1780.07 1286.54 Z\" fill=\"#000000\" fill-rule=\"nonzero\" fill-opacity=\"1\" /><path clip-path=\"url(#clip070)\" d=\"M940.45 1323.68 L950.381 1323.68 L950.381 1325.65 L942.788 1325.65 L942.788 1330.74 L949.64 1330.74 L949.64 1332.71 L942.788 1332.71 L942.788 1340.96 L940.45 1340.96 L940.45 1323.68 Z\" fill=\"#000000\" fill-rule=\"nonzero\" fill-opacity=\"1\" /><path clip-path=\"url(#clip070)\" d=\"M953.992 1322.95 L956.122 1322.95 L956.122 1340.96 L953.992 1340.96 L953.992 1322.95 Z\" fill=\"#000000\" fill-rule=\"nonzero\" fill-opacity=\"1\" /><path clip-path=\"url(#clip070)\" d=\"M965.601 1329.49 Q963.888 1329.49 962.892 1330.83 Q961.897 1332.17 961.897 1334.49 Q961.897 1336.82 962.881 1338.16 Q963.876 1339.49 965.601 1339.49 Q967.302 1339.49 968.298 1338.15 Q969.293 1336.81 969.293 1334.49 Q969.293 1332.19 968.298 1330.85 Q967.302 1329.49 965.601 1329.49 M965.601 1327.69 Q968.379 1327.69 969.964 1329.49 Q971.55 1331.3 971.55 1334.49 Q971.55 1337.68 969.964 1339.49 Q968.379 1341.3 965.601 1341.3 Q962.811 1341.3 961.226 1339.49 Q959.652 1337.68 959.652 1334.49 Q959.652 1331.3 961.226 1329.49 Q962.811 1327.69 965.601 1327.69 Z\" fill=\"#000000\" fill-rule=\"nonzero\" fill-opacity=\"1\" /><path clip-path=\"url(#clip070)\" d=\"M980.971 1334.45 Q978.39 1334.45 977.395 1335.04 Q976.399 1335.63 976.399 1337.05 Q976.399 1338.18 977.14 1338.86 Q977.892 1339.52 979.177 1339.52 Q980.948 1339.52 982.013 1338.27 Q983.089 1337 983.089 1334.92 L983.089 1334.45 L980.971 1334.45 M985.219 1333.57 L985.219 1340.96 L983.089 1340.96 L983.089 1338.99 Q982.36 1340.18 981.272 1340.74 Q980.184 1341.3 978.61 1341.3 Q976.619 1341.3 975.439 1340.19 Q974.27 1339.06 974.27 1337.19 Q974.27 1335 975.728 1333.89 Q977.198 1332.78 980.103 1332.78 L983.089 1332.78 L983.089 1332.57 Q983.089 1331.1 982.117 1330.3 Q981.156 1329.49 979.409 1329.49 Q978.298 1329.49 977.244 1329.76 Q976.191 1330.02 975.219 1330.56 L975.219 1328.59 Q976.388 1328.14 977.487 1327.92 Q978.587 1327.69 979.629 1327.69 Q982.441 1327.69 983.83 1329.15 Q985.219 1330.6 985.219 1333.57 Z\" fill=\"#000000\" fill-rule=\"nonzero\" fill-opacity=\"1\" /><path clip-path=\"url(#clip070)\" d=\"M991.712 1324.32 L991.712 1328 L996.098 1328 L996.098 1329.65 L991.712 1329.65 L991.712 1336.69 Q991.712 1338.28 992.14 1338.73 Q992.58 1339.18 993.911 1339.18 L996.098 1339.18 L996.098 1340.96 L993.911 1340.96 Q991.446 1340.96 990.508 1340.05 Q989.571 1339.12 989.571 1336.69 L989.571 1329.65 L988.008 1329.65 L988.008 1328 L989.571 1328 L989.571 1324.32 L991.712 1324.32 Z\" fill=\"#000000\" fill-rule=\"nonzero\" fill-opacity=\"1\" /><path clip-path=\"url(#clip070)\" d=\"M999.605 1338.99 L1003.42 1338.99 L1003.42 1325.81 L999.27 1326.65 L999.27 1324.52 L1003.4 1323.68 L1005.74 1323.68 L1005.74 1338.99 L1009.56 1338.99 L1009.56 1340.96 L999.605 1340.96 L999.605 1338.99 Z\" fill=\"#000000\" fill-rule=\"nonzero\" fill-opacity=\"1\" /><path clip-path=\"url(#clip070)\" d=\"M1019.57 1331.39 Q1018 1331.39 1017.07 1332.47 Q1016.16 1333.54 1016.16 1335.42 Q1016.16 1337.28 1017.07 1338.37 Q1018 1339.45 1019.57 1339.45 Q1021.14 1339.45 1022.06 1338.37 Q1022.98 1337.28 1022.98 1335.42 Q1022.98 1333.54 1022.06 1332.47 Q1021.14 1331.39 1019.57 1331.39 M1024.21 1324.06 L1024.21 1326.19 Q1023.33 1325.78 1022.43 1325.56 Q1021.54 1325.34 1020.66 1325.34 Q1018.34 1325.34 1017.12 1326.9 Q1015.9 1328.46 1015.73 1331.62 Q1016.41 1330.61 1017.44 1330.08 Q1018.47 1329.54 1019.71 1329.54 Q1022.31 1329.54 1023.82 1331.12 Q1025.33 1332.7 1025.33 1335.42 Q1025.33 1338.08 1023.76 1339.69 Q1022.19 1341.3 1019.57 1341.3 Q1016.57 1341.3 1014.99 1339.01 Q1013.4 1336.7 1013.4 1332.34 Q1013.4 1328.24 1015.35 1325.81 Q1017.29 1323.37 1020.57 1323.37 Q1021.45 1323.37 1022.34 1323.54 Q1023.24 1323.72 1024.21 1324.06 Z\" fill=\"#000000\" fill-rule=\"nonzero\" fill-opacity=\"1\" /><path clip-path=\"url(#clip070)\" d=\"M620.315 1224.02 L630.246 1224.02 L630.246 1225.98 L622.653 1225.98 L622.653 1231.08 L629.505 1231.08 L629.505 1233.04 L622.653 1233.04 L622.653 1241.3 L620.315 1241.3 L620.315 1224.02 Z\" fill=\"#000000\" fill-rule=\"nonzero\" fill-opacity=\"1\" /><path clip-path=\"url(#clip070)\" d=\"M633.857 1223.29 L635.986 1223.29 L635.986 1241.3 L633.857 1241.3 L633.857 1223.29 Z\" fill=\"#000000\" fill-rule=\"nonzero\" fill-opacity=\"1\" /><path clip-path=\"url(#clip070)\" d=\"M645.465 1229.83 Q643.752 1229.83 642.757 1231.17 Q641.762 1232.5 641.762 1234.83 Q641.762 1237.15 642.746 1238.5 Q643.741 1239.83 645.465 1239.83 Q647.167 1239.83 648.162 1238.48 Q649.158 1237.14 649.158 1234.83 Q649.158 1232.52 648.162 1231.18 Q647.167 1229.83 645.465 1229.83 M645.465 1228.02 Q648.243 1228.02 649.829 1229.83 Q651.414 1231.63 651.414 1234.83 Q651.414 1238.01 649.829 1239.83 Q648.243 1241.63 645.465 1241.63 Q642.676 1241.63 641.09 1239.83 Q639.516 1238.01 639.516 1234.83 Q639.516 1231.63 641.09 1229.83 Q642.676 1228.02 645.465 1228.02 Z\" fill=\"#000000\" fill-rule=\"nonzero\" fill-opacity=\"1\" /><path clip-path=\"url(#clip070)\" d=\"M660.836 1234.78 Q658.255 1234.78 657.259 1235.37 Q656.264 1235.96 656.264 1237.38 Q656.264 1238.52 657.005 1239.19 Q657.757 1239.85 659.042 1239.85 Q660.813 1239.85 661.877 1238.6 Q662.954 1237.34 662.954 1235.26 L662.954 1234.78 L660.836 1234.78 M665.083 1233.9 L665.083 1241.3 L662.954 1241.3 L662.954 1239.33 Q662.225 1240.51 661.137 1241.08 Q660.049 1241.63 658.475 1241.63 Q656.484 1241.63 655.303 1240.52 Q654.134 1239.4 654.134 1237.52 Q654.134 1235.34 655.593 1234.23 Q657.063 1233.11 659.968 1233.11 L662.954 1233.11 L662.954 1232.91 Q662.954 1231.44 661.982 1230.64 Q661.021 1229.83 659.273 1229.83 Q658.162 1229.83 657.109 1230.09 Q656.056 1230.36 655.083 1230.89 L655.083 1228.92 Q656.252 1228.47 657.352 1228.25 Q658.451 1228.02 659.493 1228.02 Q662.306 1228.02 663.695 1229.48 Q665.083 1230.94 665.083 1233.9 Z\" fill=\"#000000\" fill-rule=\"nonzero\" fill-opacity=\"1\" /><path clip-path=\"url(#clip070)\" d=\"M671.576 1224.65 L671.576 1228.33 L675.963 1228.33 L675.963 1229.99 L671.576 1229.99 L671.576 1237.03 Q671.576 1238.61 672.005 1239.06 Q672.444 1239.51 673.775 1239.51 L675.963 1239.51 L675.963 1241.3 L673.775 1241.3 Q671.31 1241.3 670.373 1240.38 Q669.435 1239.46 669.435 1237.03 L669.435 1229.99 L667.873 1229.99 L667.873 1228.33 L669.435 1228.33 L669.435 1224.65 L671.576 1224.65 Z\" fill=\"#000000\" fill-rule=\"nonzero\" fill-opacity=\"1\" /><path clip-path=\"url(#clip070)\" d=\"M686.148 1231.98 Q687.826 1232.34 688.764 1233.47 Q689.713 1234.61 689.713 1236.27 Q689.713 1238.83 687.954 1240.23 Q686.194 1241.63 682.954 1241.63 Q681.866 1241.63 680.708 1241.41 Q679.562 1241.2 678.336 1240.78 L678.336 1238.52 Q679.308 1239.09 680.465 1239.38 Q681.623 1239.66 682.884 1239.66 Q685.083 1239.66 686.229 1238.8 Q687.387 1237.93 687.387 1236.27 Q687.387 1234.75 686.31 1233.89 Q685.245 1233.02 683.336 1233.02 L681.322 1233.02 L681.322 1231.1 L683.428 1231.1 Q685.153 1231.1 686.067 1230.42 Q686.981 1229.72 686.981 1228.43 Q686.981 1227.1 686.032 1226.39 Q685.095 1225.67 683.336 1225.67 Q682.375 1225.67 681.275 1225.88 Q680.176 1226.09 678.856 1226.53 L678.856 1224.45 Q680.187 1224.07 681.345 1223.89 Q682.514 1223.7 683.544 1223.7 Q686.206 1223.7 687.757 1224.92 Q689.308 1226.12 689.308 1228.18 Q689.308 1229.62 688.486 1230.61 Q687.664 1231.6 686.148 1231.98 Z\" fill=\"#000000\" fill-rule=\"nonzero\" fill-opacity=\"1\" /><path clip-path=\"url(#clip070)\" d=\"M696.16 1239.33 L704.319 1239.33 L704.319 1241.3 L693.347 1241.3 L693.347 1239.33 Q694.678 1237.95 696.97 1235.64 Q699.273 1233.31 699.863 1232.64 Q700.986 1231.38 701.426 1230.51 Q701.877 1229.63 701.877 1228.79 Q701.877 1227.41 700.905 1226.54 Q699.944 1225.67 698.393 1225.67 Q697.294 1225.67 696.067 1226.05 Q694.852 1226.44 693.463 1227.21 L693.463 1224.85 Q694.875 1224.28 696.102 1223.99 Q697.329 1223.7 698.347 1223.7 Q701.032 1223.7 702.629 1225.05 Q704.227 1226.39 704.227 1228.63 Q704.227 1229.7 703.822 1230.66 Q703.428 1231.61 702.375 1232.91 Q702.086 1233.24 700.535 1234.85 Q698.984 1236.45 696.16 1239.33 Z\" fill=\"#000000\" fill-rule=\"nonzero\" fill-opacity=\"1\" /><path clip-path=\"url(#clip070)\" d=\"M1350.24 1329.04 L1360.17 1329.04 L1360.17 1331.01 L1352.58 1331.01 L1352.58 1336.1 L1359.43 1336.1 L1359.43 1338.07 L1352.58 1338.07 L1352.58 1346.32 L1350.24 1346.32 L1350.24 1329.04 Z\" fill=\"#000000\" fill-rule=\"nonzero\" fill-opacity=\"1\" /><path clip-path=\"url(#clip070)\" d=\"M1363.78 1328.31 L1365.91 1328.31 L1365.91 1346.32 L1363.78 1346.32 L1363.78 1328.31 Z\" fill=\"#000000\" fill-rule=\"nonzero\" fill-opacity=\"1\" /><path clip-path=\"url(#clip070)\" d=\"M1375.39 1334.85 Q1373.68 1334.85 1372.68 1336.2 Q1371.68 1337.53 1371.68 1339.85 Q1371.68 1342.18 1372.67 1343.52 Q1373.66 1344.85 1375.39 1344.85 Q1377.09 1344.85 1378.09 1343.51 Q1379.08 1342.17 1379.08 1339.85 Q1379.08 1337.55 1378.09 1336.21 Q1377.09 1334.85 1375.39 1334.85 M1375.39 1333.05 Q1378.17 1333.05 1379.75 1334.85 Q1381.34 1336.66 1381.34 1339.85 Q1381.34 1343.04 1379.75 1344.85 Q1378.17 1346.66 1375.39 1346.66 Q1372.6 1346.66 1371.01 1344.85 Q1369.44 1343.04 1369.44 1339.85 Q1369.44 1336.66 1371.01 1334.85 Q1372.6 1333.05 1375.39 1333.05 Z\" fill=\"#000000\" fill-rule=\"nonzero\" fill-opacity=\"1\" /><path clip-path=\"url(#clip070)\" d=\"M1390.76 1339.81 Q1388.18 1339.81 1387.18 1340.4 Q1386.19 1340.99 1386.19 1342.41 Q1386.19 1343.55 1386.93 1344.22 Q1387.68 1344.88 1388.96 1344.88 Q1390.74 1344.88 1391.8 1343.63 Q1392.88 1342.36 1392.88 1340.28 L1392.88 1339.81 L1390.76 1339.81 M1395.01 1338.93 L1395.01 1346.32 L1392.88 1346.32 L1392.88 1344.36 Q1392.15 1345.54 1391.06 1346.1 Q1389.97 1346.66 1388.4 1346.66 Q1386.41 1346.66 1385.23 1345.55 Q1384.06 1344.42 1384.06 1342.55 Q1384.06 1340.36 1385.52 1339.25 Q1386.99 1338.14 1389.89 1338.14 L1392.88 1338.14 L1392.88 1337.93 Q1392.88 1336.46 1391.9 1335.66 Q1390.94 1334.85 1389.2 1334.85 Q1388.09 1334.85 1387.03 1335.12 Q1385.98 1335.39 1385.01 1335.92 L1385.01 1333.95 Q1386.18 1333.5 1387.27 1333.28 Q1388.37 1333.05 1389.42 1333.05 Q1392.23 1333.05 1393.62 1334.51 Q1395.01 1335.96 1395.01 1338.93 Z\" fill=\"#000000\" fill-rule=\"nonzero\" fill-opacity=\"1\" /><path clip-path=\"url(#clip070)\" d=\"M1401.5 1329.68 L1401.5 1333.36 L1405.89 1333.36 L1405.89 1335.01 L1401.5 1335.01 L1401.5 1342.05 Q1401.5 1343.64 1401.93 1344.09 Q1402.37 1344.54 1403.7 1344.54 L1405.89 1344.54 L1405.89 1346.32 L1403.7 1346.32 Q1401.23 1346.32 1400.3 1345.41 Q1399.36 1344.48 1399.36 1342.05 L1399.36 1335.01 L1397.8 1335.01 L1397.8 1333.36 L1399.36 1333.36 L1399.36 1329.68 L1401.5 1329.68 Z\" fill=\"#000000\" fill-rule=\"nonzero\" fill-opacity=\"1\" /><path clip-path=\"url(#clip070)\" d=\"M1414.28 1336.75 Q1412.7 1336.75 1411.78 1337.83 Q1410.86 1338.9 1410.86 1340.78 Q1410.86 1342.64 1411.78 1343.73 Q1412.7 1344.81 1414.28 1344.81 Q1415.85 1344.81 1416.77 1343.73 Q1417.69 1342.64 1417.69 1340.78 Q1417.69 1338.9 1416.77 1337.83 Q1415.85 1336.75 1414.28 1336.75 M1418.92 1329.42 L1418.92 1331.55 Q1418.04 1331.14 1417.14 1330.92 Q1416.24 1330.7 1415.36 1330.7 Q1413.05 1330.7 1411.82 1332.26 Q1410.61 1333.82 1410.43 1336.98 Q1411.12 1335.98 1412.15 1335.44 Q1413.18 1334.9 1414.42 1334.9 Q1417.02 1334.9 1418.52 1336.48 Q1420.04 1338.06 1420.04 1340.78 Q1420.04 1343.44 1418.47 1345.05 Q1416.89 1346.66 1414.28 1346.66 Q1411.28 1346.66 1409.69 1344.37 Q1408.11 1342.06 1408.11 1337.7 Q1408.11 1333.6 1410.05 1331.17 Q1412 1328.73 1415.27 1328.73 Q1416.15 1328.73 1417.04 1328.9 Q1417.95 1329.08 1418.92 1329.42 Z\" fill=\"#000000\" fill-rule=\"nonzero\" fill-opacity=\"1\" /><path clip-path=\"url(#clip070)\" d=\"M1430.49 1331.08 L1424.59 1340.3 L1430.49 1340.3 L1430.49 1331.08 M1429.88 1329.04 L1432.82 1329.04 L1432.82 1340.3 L1435.28 1340.3 L1435.28 1342.25 L1432.82 1342.25 L1432.82 1346.32 L1430.49 1346.32 L1430.49 1342.25 L1422.69 1342.25 L1422.69 1339.99 L1429.88 1329.04 Z\" fill=\"#000000\" fill-rule=\"nonzero\" fill-opacity=\"1\" /></svg>\n"
      ]
     },
     "execution_count": 18,
     "metadata": {},
     "output_type": "execute_result"
    }
   ],
   "source": [
    "using GraphRecipes, Plots\n",
    "\n",
    "#pyplot(size=(800, 600))\n",
    "gr(size = (600, 400))\n",
    "theme(:default)\n",
    "\n",
    "plot(AbstractFloat, method = :tree, fontsize = 4)"
   ]
  },
  {
   "cell_type": "markdown",
   "metadata": {},
   "source": [
    "### Double precision (Float64)\n",
    "\n",
    "<img src=\"./double-precision-numbers.png\" width=\"500\" align=\"center\"/>\n",
    "\n",
    "- Double precision (64 bits = 8 bytes) numbers are the dominant data type in scientific computing.\n",
    "      \n",
    "- In Julia, `Float64` is the type for double precision numbers.    \n",
    "\n",
    "- First bit is sign bit.  \n",
    "\n",
    "- $p=52$ significant bits.\n",
    "\n",
    "- 11 exponent bits: $e_{\\max}=1023$, $e_{\\min}=-1022$, **bias**=1023.  \n",
    "\n",
    "- $e_{\\text{min}}-1$ and $e_{\\text{max}}+1$ are reserved for special numbers.  \n",
    "\n",
    "- range of **magnitude**: $10^{\\pm 308}$ in decimal because $\\log_{10} (2^{1023}) \\approx 308$.  \n",
    "\n",
    "- **precision** to the $- \\log_{10}(2^{-52}) \\approx 15$ decimal point."
   ]
  },
  {
   "cell_type": "code",
   "execution_count": 19,
   "metadata": {
    "tags": []
   },
   "outputs": [
    {
     "name": "stdout",
     "output_type": "stream",
     "text": [
      "Double precision:\n",
      "bitstring(Float64(18)) = \"0100000000110010000000000000000000000000000000000000000000000000\"\n",
      "bitstring(Float64(-18)) = \"1100000000110010000000000000000000000000000000000000000000000000\"\n"
     ]
    }
   ],
   "source": [
    "println(\"Double precision:\")\n",
    "@show bitstring(Float64(18)) # 18 in double precision\n",
    "@show bitstring(Float64(-18)); # -18 in double precision"
   ]
  },
  {
   "cell_type": "markdown",
   "metadata": {},
   "source": [
    "### Single precision (Float32)\n",
    "\n",
    "<img src=\"./single-precision-numbers.png\" width=\"500\" align=\"center\"/>\n",
    "\n",
    "- In Julia, `Float32` is the type for single precision numbers.  \n",
    "\n",
    "- First bit is sign bit.  \n",
    "\n",
    "- $p=23$ significant bits.  \n",
    "\n",
    "- 8 exponent bits: $e_{\\max}=127$, $e_{\\min}=-126$, **bias**=127.  \n",
    "\n",
    "- $e_{\\text{min}}-1$ and $e_{\\text{max}}+1$ are reserved for special numbers.  \n",
    "\n",
    "- range of **magnitude**: $10^{\\pm 38}$ in decimal because $\\log_{10} (2^{127}) \\approx 38$.\n",
    "\n",
    "- **precision**: $- \\log_{10}(2^{-23}) \\approx 7$ decimal point.  "
   ]
  },
  {
   "cell_type": "code",
   "execution_count": 20,
   "metadata": {
    "tags": []
   },
   "outputs": [
    {
     "name": "stdout",
     "output_type": "stream",
     "text": [
      "Single precision:\n",
      "bitstring(Float32(18.0)) = \"01000001100100000000000000000000\"\n",
      "bitstring(Float32(-18.0)) = \"11000001100100000000000000000000\"\n"
     ]
    }
   ],
   "source": [
    "println(\"Single precision:\")\n",
    "@show bitstring(Float32(18.0)) # 18 in single precision\n",
    "@show bitstring(Float32(-18.0)); # -18 in single precision"
   ]
  },
  {
   "cell_type": "markdown",
   "metadata": {},
   "source": [
    "### Half precision (Float16)\n",
    "\n",
    "<img src=\"./half-precision-numbers.png\" width=\"200\" align=\"center\"/>\n",
    "    \n",
    "- In Julia, `Float16` is the type for half precision numbers.\n",
    "\n",
    "- First bit is sign bit.  \n",
    "\n",
    "- $p=10$ significant bits.  \n",
    "\n",
    "- 5 exponent bits: $e_{\\max}=15$, $e_{\\min}=-14$, bias=15.  \n",
    "\n",
    "- $e_{\\text{min}}-1$ and $e_{\\text{max}}+1$ are reserved for special numbers.  \n",
    "\n",
    "- range of **magnitude**: $10^{\\pm 4}$ in decimal because $\\log_{10} (2^{15}) \\approx 4$.  \n",
    "\n",
    "- **precision**: $\\log_{10}(2^{10}) \\approx 3$ decimal point.      "
   ]
  },
  {
   "cell_type": "code",
   "execution_count": 21,
   "metadata": {
    "tags": []
   },
   "outputs": [
    {
     "name": "stdout",
     "output_type": "stream",
     "text": [
      "Half precision:\n",
      "bitstring(Float16(18)) = \"0100110010000000\"\n",
      "bitstring(Float16(-18)) = \"1100110010000000\"\n"
     ]
    }
   ],
   "source": [
    "println(\"Half precision:\")\n",
    "@show bitstring(Float16(18)) # 18 in half precision\n",
    "@show bitstring(Float16(-18)); # -18 in half precision"
   ]
  },
  {
   "cell_type": "markdown",
   "metadata": {},
   "source": [
    "### Special floating-point numbers. \n",
    "\n",
    "- Exponent $e_{\\max}+1$ plus a zero mantissa means $\\pm \\infty$."
   ]
  },
  {
   "cell_type": "code",
   "execution_count": 22,
   "metadata": {
    "tags": []
   },
   "outputs": [
    {
     "name": "stdout",
     "output_type": "stream",
     "text": [
      "bitstring(Inf) = \"0111111111110000000000000000000000000000000000000000000000000000\"\n",
      "bitstring(-Inf) = \"1111111111110000000000000000000000000000000000000000000000000000\"\n"
     ]
    }
   ],
   "source": [
    "@show bitstring(Inf) # Inf in double precision\n",
    "@show bitstring(-Inf); # -Inf in double precision"
   ]
  },
  {
   "cell_type": "markdown",
   "metadata": {},
   "source": [
    "- Exponent $e_{\\max}+1$ plus a nonzero mantissa means `NaN`. `NaN` could be produced from `0 / 0`, `0 * Inf`, ...  \n",
    "\n",
    "- In general `NaN ≠ NaN` bitwise. Test whether a number is `NaN` by `isnan` function.  "
   ]
  },
  {
   "cell_type": "code",
   "execution_count": 23,
   "metadata": {
    "tags": []
   },
   "outputs": [
    {
     "name": "stdout",
     "output_type": "stream",
     "text": [
      "bitstring(0 / 0) = \"0111111111111000000000000000000000000000000000000000000000000000\"\n",
      "bitstring(0Inf) = \"0111111111111000000000000000000000000000000000000000000000000000\"\n"
     ]
    }
   ],
   "source": [
    "@show bitstring(0 / 0) # NaN\n",
    "@show bitstring(0 * Inf); # NaN"
   ]
  },
  {
   "cell_type": "markdown",
   "metadata": {},
   "source": [
    "- Exponent $e_{\\min}-1$ with a zero mantissa represents the real number 0.  "
   ]
  },
  {
   "cell_type": "code",
   "execution_count": 24,
   "metadata": {
    "tags": []
   },
   "outputs": [
    {
     "name": "stdout",
     "output_type": "stream",
     "text": [
      "bitstring(0.0) = \"0000000000000000000000000000000000000000000000000000000000000000\"\n"
     ]
    }
   ],
   "source": [
    "@show bitstring(0.0); # 0 in double precision "
   ]
  },
  {
   "cell_type": "markdown",
   "metadata": {},
   "source": [
    "- Exponent $e_{\\min}-1$ with a nonzero mantissa are for numbers less than $b^{e_{\\min}}$.  \n",
    "    Numbers are _denormalized_ in the range $(0,b^{e_{\\min}})$ -- **graceful underflow**. "
   ]
  },
  {
   "cell_type": "code",
   "execution_count": 25,
   "metadata": {
    "tags": []
   },
   "outputs": [
    {
     "name": "stdout",
     "output_type": "stream",
     "text": [
      "nextfloat(0.0) = 5.0e-324\n",
      "bitstring(nextfloat(0.0)) = \"0000000000000000000000000000000000000000000000000000000000000001\"\n"
     ]
    }
   ],
   "source": [
    "@show nextfloat(0.0) # next representable number\n",
    "@show bitstring(nextfloat(0.0)); # denormalized"
   ]
  },
  {
   "cell_type": "markdown",
   "metadata": {},
   "source": [
    "### Rounding\n",
    "\n",
    "* Rounding is necessary whenever a number has more than $p$ significand bits. Most computer systems use the default IEEE 754 _round to nearest_ mode (also called _ties to even_ mode). Julia offers several [rounding modes](https://docs.julialang.org/en/v1/base/math/#Base.Rounding.RoundingMode), the default being [`RoundNearest`](https://docs.julialang.org/en/v1/base/math/#Base.Rounding.RoundNearest). For example, the number 0.1 in decimal system cannot be represented accurately as a floating point number:\n",
    "$$ 0.1 = 1.10011001... \\times 2^{-4} $$"
   ]
  },
  {
   "cell_type": "code",
   "execution_count": 26,
   "metadata": {
    "tags": []
   },
   "outputs": [
    {
     "name": "stdout",
     "output_type": "stream",
     "text": [
      "bitstring(Float16(0.1)) = \"0010111001100110\"\n",
      "bitstring(0.1f0) = \"00111101110011001100110011001101\"\n",
      "bitstring(0.1) = \"0011111110111001100110011001100110011001100110011001100110011010\"\n"
     ]
    }
   ],
   "source": [
    "# half precision Float16, ...110(011...) rounds down to 110\n",
    "@show bitstring(Float16(0.1))\n",
    "# single precision Float32, ...100(110...) rounds up to 101\n",
    "@show bitstring(0.1f0) \n",
    "# double precision Float64, ...001(100..) rounds up to 010\n",
    "@show bitstring(0.1);"
   ]
  },
  {
   "cell_type": "markdown",
   "metadata": {},
   "source": [
    "For a number with mantissa ending with ...001(100..., all 0 digits after), it's a tie and will be rounded to ...010 to make the mantissa even.\n",
    "\n",
    "### Summary\n",
    "\n",
    "- Double precision: range $\\pm 10^{\\pm 308}$ with precision up to 16 decimal digits.  \n",
    "\n",
    "- Single precision: range $\\pm 10^{\\pm 38}$ with precision up to 7 decimal digits.\n",
    "\n",
    "- Half precision: range $\\pm 10^{\\pm 4}$ with precision up to 3 decimal digits.\n",
    "\n",
    "- The floating-point numbers do not occur uniformly over the real number line\n",
    "    <img src=\"http://www.volkerschatz.com/science/pics/fltscale-wh.png\" width=\"700\" align=\"center\"/>\n",
    "    Each magnitude has same number of representible numbers\n",
    "    \n",
    "- **Machine epsilons** are the spacings of numbers around 1: \n",
    "    $$\\epsilon_{\\min}=b^{-p}, \\quad  \\epsilon_{\\max} = b^{1-p}.$$\n",
    "    <img src=\"./machine_epsilons.png\" width=\"500\" align=\"center\"/>"
   ]
  },
  {
   "cell_type": "code",
   "execution_count": 27,
   "metadata": {
    "tags": []
   },
   "outputs": [
    {
     "name": "stdout",
     "output_type": "stream",
     "text": [
      "eps(Float32) = 1.1920929f-7\n",
      "eps(Float64) = 2.220446049250313e-16\n",
      "eps(100.0) = 1.4210854715202004e-14\n",
      "eps(0.0) = 5.0e-324\n",
      "x = 1.25f0 = 1.25f0\n",
      "(prevfloat(x), x, nextfloat(x)) = (1.2499999f0, 1.25f0, 1.2500001f0)\n",
      "(bitstring(prevfloat(x)), bitstring(x), bitstring(nextfloat(x))) = (\"00111111100111111111111111111111\", \"00111111101000000000000000000000\", \"00111111101000000000000000000001\")\n"
     ]
    }
   ],
   "source": [
    "@show eps(Float32)  # machine epsilon for a floating point type\n",
    "@show eps(Float64)  # same as eps()\n",
    "# eps(x) is the spacing after x\n",
    "@show eps(100.0)\n",
    "@show eps(0.0) # grace underflow\n",
    "# nextfloat(x) and prevfloat(x) give the neighbors of x\n",
    "@show x = 1.25f0\n",
    "@show prevfloat(x), x, nextfloat(x)\n",
    "@show bitstring(prevfloat(x)), bitstring(x), bitstring(nextfloat(x));"
   ]
  },
  {
   "cell_type": "markdown",
   "metadata": {},
   "source": [
    "* In R, the variable `.Machine` contains numerical characteristics of the machine."
   ]
  },
  {
   "cell_type": "code",
   "execution_count": 28,
   "metadata": {
    "tags": []
   },
   "outputs": [
    {
     "data": {
      "text/plain": [
       "RObject{VecSxp}\n",
       "$double.eps\n",
       "[1] 2.220446e-16\n",
       "\n",
       "$double.neg.eps\n",
       "[1] 1.110223e-16\n",
       "\n",
       "$double.xmin\n",
       "[1] 2.225074e-308\n",
       "\n",
       "$double.xmax\n",
       "[1] 1.797693e+308\n",
       "\n",
       "$double.base\n",
       "[1] 2\n",
       "\n",
       "$double.digits\n",
       "[1] 53\n",
       "\n",
       "$double.rounding\n",
       "[1] 5\n",
       "\n",
       "$double.guard\n",
       "[1] 0\n",
       "\n",
       "$double.ulp.digits\n",
       "[1] -52\n",
       "\n",
       "$double.neg.ulp.digits\n",
       "[1] -53\n",
       "\n",
       "$double.exponent\n",
       "[1] 11\n",
       "\n",
       "$double.min.exp\n",
       "[1] -1022\n",
       "\n",
       "$double.max.exp\n",
       "[1] 1024\n",
       "\n",
       "$integer.max\n",
       "[1] 2147483647\n",
       "\n",
       "$sizeof.long\n",
       "[1] 8\n",
       "\n",
       "$sizeof.longlong\n",
       "[1] 8\n",
       "\n",
       "$sizeof.longdouble\n",
       "[1] 8\n",
       "\n",
       "$sizeof.pointer\n",
       "[1] 8\n",
       "\n"
      ]
     },
     "execution_count": 28,
     "metadata": {},
     "output_type": "execute_result"
    }
   ],
   "source": [
    "R\"\"\"\n",
    ".Machine\n",
    "\"\"\""
   ]
  },
  {
   "cell_type": "markdown",
   "metadata": {},
   "source": [
    "* Julia provides `Float16` (half precision), `Float32` (single precision), `Float64` (double precision), and `BigFloat` (arbitrary precision).\n",
    "\n",
    "### Overflow and underflow of floating-point number\n",
    "\n",
    "* For double precision, the range is $\\pm 10^{\\pm 308}$. In most situations, underflow (magnitude of result is less than $10^{-308}$) is preferred over overflow (magnitude of result is larger than $10^{308}$). Overflow produces $\\pm \\inf$. Underflow yields zeros or denormalized numbers. \n",
    "\n",
    "* E.g., the logit link function is\n",
    "$$p(x) = \\frac{\\exp (x^T \\beta)}{1 + \\exp (x^T \\beta)} = \\frac{1}{1+\\exp(- x^T \\beta)}.$$\n",
    "The former expression can easily lead to `Inf / Inf = NaN`, while the latter expression leads to graceful underflow.\n",
    "\n",
    "* `floatmin` and `floatmax` functions gives largest and smallest _finite_ number represented by a type."
   ]
  },
  {
   "cell_type": "code",
   "execution_count": 29,
   "metadata": {
    "tags": []
   },
   "outputs": [
    {
     "name": "stdout",
     "output_type": "stream",
     "text": [
      "Float16\t6.104e-5\t6.55e4\t-Inf\tInf\t0.000977\n",
      "Float32\t1.1754944e-38\t3.4028235e38\t-Inf\tInf\t1.1920929e-7\n",
      "Float64\t2.2250738585072014e-308\t1.7976931348623157e308\t-Inf\tInf\t2.220446049250313e-16\n"
     ]
    }
   ],
   "source": [
    "for T in [Float16, Float32, Float64]\n",
    "    println(T, '\\t', floatmin(T), '\\t', floatmax(T), '\\t', typemin(T), \n",
    "        '\\t', typemax(T), '\\t', eps(T))\n",
    "end"
   ]
  },
  {
   "cell_type": "markdown",
   "metadata": {},
   "source": [
    "### Arbitrary precision\n",
    "\n",
    "* `BigFloat` in Julia offers arbitrary precision."
   ]
  },
  {
   "cell_type": "code",
   "execution_count": 30,
   "metadata": {
    "tags": []
   },
   "outputs": [
    {
     "name": "stdout",
     "output_type": "stream",
     "text": [
      "precision(BigFloat) = 256\n",
      "floatmin(BigFloat) = 8.50969131174083613912978790962048280567755996982969624908264897850135431080301e-1388255822130839284\n",
      "floatmax(BigFloat) = 5.875653789111587590936911998878442589938516392745498308333779606469323584389875e+1388255822130839282\n"
     ]
    }
   ],
   "source": [
    "@show precision(BigFloat)\n",
    "@show floatmin(BigFloat)\n",
    "@show floatmax(BigFloat);"
   ]
  },
  {
   "cell_type": "code",
   "execution_count": 31,
   "metadata": {
    "tags": []
   },
   "outputs": [
    {
     "name": "stdout",
     "output_type": "stream",
     "text": [
      "BigFloat(π) = 3.141592653589793238462643383279502884197169399375105820974944592307816406286198\n",
      "BigFloat(π) = 3.141592653589793238462643383279502884197169399375105820974944592307816406286208998628034825342117067982148086513282306647093844609550582231725359408128481117450284102701938521105559644622948954930381964428810975665933446128475648233786783165271201909145648566923460348610454326648213393607260249141273724586997\n"
     ]
    }
   ],
   "source": [
    "@show BigFloat(π); # default precision for BigFloat is 256 bits\n",
    "# set precision to 1024 bits\n",
    "setprecision(BigFloat, 1024) do \n",
    "    @show BigFloat(π)\n",
    "end;"
   ]
  },
  {
   "cell_type": "markdown",
   "metadata": {},
   "source": [
    "## Catastrophic cancellation\n",
    "\n",
    "* **Scenario 1**: Addition or subtraction of two numbers of widely different magnitudes: $a+b$ or $a-b$ where $a \\gg b$ or $a \\ll b$. We loose the precision in the number of smaller magnitude. Consider \n",
    "$$\\begin{eqnarray*}\n",
    "    a &=& x.xxx ... \\times 2^{30} \\\\  \n",
    "    b &=& y.yyy... \\times 2^{-30}\n",
    "\\end{eqnarray*}$$\n",
    "What happens when computer calculates $a+b$? We get $a+b=a$!"
   ]
  },
  {
   "cell_type": "code",
   "execution_count": 32,
   "metadata": {
    "tags": []
   },
   "outputs": [
    {
     "name": "stdout",
     "output_type": "stream",
     "text": [
      "a = 2.0 ^ 30 = 1.073741824e9\n",
      "b = 2.0 ^ -30 = 9.313225746154785e-10\n",
      "a + b == a = true\n"
     ]
    },
    {
     "data": {
      "text/plain": [
       "true"
      ]
     },
     "execution_count": 32,
     "metadata": {},
     "output_type": "execute_result"
    }
   ],
   "source": [
    "@show a = 2.0^30\n",
    "@show b = 2.0^-30\n",
    "@show a + b == a"
   ]
  },
  {
   "cell_type": "markdown",
   "metadata": {},
   "source": [
    "* **Scenario 2**: Subtraction of two nearly equal numbers eliminates significant digits.  $a-b$ where $a \\approx b$. Consider \n",
    "$$\\begin{eqnarray*}\n",
    "    a &=& x.xxxxxxxxxx1ssss  \\\\\n",
    "    b &=& x.xxxxxxxxxx0tttt\n",
    "\\end{eqnarray*}$$\n",
    "The result is $1.vvvvu...u$ where $u$ are unassigned digits."
   ]
  },
  {
   "cell_type": "code",
   "execution_count": 33,
   "metadata": {
    "tags": []
   },
   "outputs": [
    {
     "name": "stdout",
     "output_type": "stream",
     "text": [
      "bitstring(a) = \"00111111100111100000011001010001\"\n",
      "bitstring(b) = \"00111111100111100000011001010000\"\n",
      "a - b = 1.1920929f-7\n"
     ]
    },
    {
     "data": {
      "text/plain": [
       "1.1920929f-7"
      ]
     },
     "execution_count": 33,
     "metadata": {},
     "output_type": "execute_result"
    }
   ],
   "source": [
    "a = 1.2345678f0 # rounding\n",
    "@show bitstring(a) # rounding\n",
    "b = 1.2345677f0\n",
    "@show bitstring(b)\n",
    "@show a - b # correct result should be 1e-7"
   ]
  },
  {
   "cell_type": "markdown",
   "metadata": {},
   "source": [
    "* Implications for numerical computation\n",
    "    - Rule 1: add small numbers together before adding larger ones  \n",
    "    - Rule 2: add numbers of like magnitude together (paring). When all numbers are of same sign and similar magnitude, add in pairs so each stage the summands are of similar magnitude  \n",
    "    - Rule 3: avoid substraction of two numbers that are nearly equal\n",
    "\n",
    "### Algebraic laws\n",
    "\n",
    "Floating-point numbers may violate many algebraic laws we are familiar with, such associative and distributive laws. See Homework 1 problems.\n",
    "\n",
    "## Further reading\n",
    "\n",
    "* Textbook treatment, e.g., Chapter II.2 of [Computational Statistics](http://ucla.worldcat.org/title/computational-statistics/oclc/437345409&referer=brief_results) by James Gentle (2010).\n",
    "\n",
    "* [What every computer scientist should know about floating-point arithmetic](https://ucla-biostat-257.github.io/2023spring/readings/Goldberg91FloatingPoint.pdf) by David Goldberg (1991)."
   ]
  }
 ],
 "metadata": {
  "hide_input": false,
  "jupytext": {
   "formats": "ipynb,qmd"
  },
  "kernelspec": {
   "display_name": "Julia 1.8.5",
   "language": "julia",
   "name": "julia-1.8"
  },
  "language_info": {
   "file_extension": ".jl",
   "mimetype": "application/julia",
   "name": "julia",
   "version": "1.8.5"
  },
  "toc": {
   "colors": {
    "hover_highlight": "#DAA520",
    "running_highlight": "#FF0000",
    "selected_highlight": "#FFD700"
   },
   "moveMenuLeft": true,
   "nav_menu": {
    "height": "250px",
    "width": "252px"
   },
   "navigate_menu": true,
   "number_sections": true,
   "sideBar": true,
   "skip_h1_title": true,
   "threshold": 4,
   "toc_cell": true,
   "toc_position": {
    "height": "433.6666564941406px",
    "left": "0px",
    "right": "831.3333129882812px",
    "top": "111.33333587646484px",
    "width": "250px"
   },
   "toc_section_display": "block",
   "toc_window_display": true,
   "widenNotebook": false
  },
  "toc-autonumbering": true
 },
 "nbformat": 4,
 "nbformat_minor": 4
}
