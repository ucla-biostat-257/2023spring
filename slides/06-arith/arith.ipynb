{
 "cells": [
  {
   "cell_type": "raw",
   "metadata": {},
   "source": [
    "---\n",
    "title: Computer Arithmetics\n",
    "subtitle: Biostat/Biomath M257\n",
    "author: Dr. Hua Zhou @ UCLA\n",
    "date: today\n",
    "format:\n",
    "  html:\n",
    "    theme: cosmo\n",
    "    embed-resources: true\n",
    "    number-sections: true\n",
    "    toc: true\n",
    "    toc-depth: 4\n",
    "    toc-location: left\n",
    "    code-fold: false\n",
    "---"
   ]
  },
  {
   "cell_type": "markdown",
   "metadata": {},
   "source": [
    "System information (for reproducibility):"
   ]
  },
  {
   "cell_type": "code",
   "execution_count": 1,
   "metadata": {
    "tags": []
   },
   "outputs": [
    {
     "name": "stdout",
     "output_type": "stream",
     "text": [
      "Julia Version 1.8.5\n",
      "Commit 17cfb8e65ea (2023-01-08 06:45 UTC)\n",
      "Platform Info:\n",
      "  OS: macOS (arm64-apple-darwin21.5.0)\n",
      "  CPU: 12 × Apple M2 Max\n",
      "  WORD_SIZE: 64\n",
      "  LIBM: libopenlibm\n",
      "  LLVM: libLLVM-13.0.1 (ORCJIT, apple-m1)\n",
      "  Threads: 8 on 8 virtual cores\n",
      "Environment:\n",
      "  JULIA_NUM_THREADS = 8\n",
      "  JULIA_EDITOR = code\n"
     ]
    }
   ],
   "source": [
    "versioninfo()"
   ]
  },
  {
   "cell_type": "markdown",
   "metadata": {},
   "source": [
    "Load packages:"
   ]
  },
  {
   "cell_type": "code",
   "execution_count": 2,
   "metadata": {
    "tags": []
   },
   "outputs": [
    {
     "name": "stderr",
     "output_type": "stream",
     "text": [
      "\u001b[32m\u001b[1m  Activating\u001b[22m\u001b[39m project at `~/Documents/github.com/ucla-biostat-257/2023spring/slides/06-arith`\n"
     ]
    },
    {
     "name": "stdout",
     "output_type": "stream",
     "text": [
      "\u001b[32m\u001b[1mStatus\u001b[22m\u001b[39m `~/Documents/github.com/ucla-biostat-257/2023spring/slides/06-arith/Project.toml`\n",
      " \u001b[90m [bd48cda9] \u001b[39mGraphRecipes v0.5.12\n",
      " \u001b[90m [91a5bcdd] \u001b[39mPlots v1.38.9\n",
      " \u001b[90m [6f49c342] \u001b[39mRCall v0.13.14\n"
     ]
    }
   ],
   "source": [
    "using Pkg\n",
    "\n",
    "Pkg.activate(pwd())\n",
    "Pkg.instantiate()\n",
    "Pkg.status()"
   ]
  },
  {
   "cell_type": "markdown",
   "metadata": {},
   "source": [
    "## Units of computer storage\n",
    "\n",
    "* `bit` = `binary` + `digit` (coined by statistician [John Tukey](https://en.wikipedia.org/wiki/Bit#History)).  \n",
    "* `byte` = 8 bits.  \n",
    "* KB = kilobyte = $10^3$ bytes.  \n",
    "* MB = megabytes = $10^6$ bytes.  \n",
    "* GB = gigabytes = $10^9$ bytes. Typical RAM size.  \n",
    "* TB = terabytes = $10^{12}$ bytes. Typical hard drive size. Size of NYSE each trading session.    \n",
    "* PB = petabytes = $10^{15}$ bytes.  \n",
    "* EB = exabytes = $10^{18}$ bytes. Size of all healthcare data in 2011 is ~150 EB.    \n",
    "* ZB = zetabytes = $10^{21}$ bytes. \n",
    "\n",
    "Difference between `KB` and `KiB`: `1 KB = 1000 bytes` but `1 KiB = 1024 bytes`. \n",
    "\n",
    "Difference between `TB` and `TiB`: `1 TB = 1000 GB` but `1 TiB = 1024 GB`. \n",
    "\n",
    "Julia function `Base.summarysize` shows the amount of memory (in bytes) used by an object."
   ]
  },
  {
   "cell_type": "code",
   "execution_count": 3,
   "metadata": {
    "tags": []
   },
   "outputs": [
    {
     "data": {
      "text/plain": [
       "80040"
      ]
     },
     "execution_count": 3,
     "metadata": {},
     "output_type": "execute_result"
    }
   ],
   "source": [
    "x = rand(100, 100)\n",
    "Base.summarysize(x)"
   ]
  },
  {
   "cell_type": "markdown",
   "metadata": {},
   "source": [
    "`varinfo()` function prints all variables in workspace and their sizes."
   ]
  },
  {
   "cell_type": "code",
   "execution_count": 4,
   "metadata": {
    "tags": []
   },
   "outputs": [
    {
     "data": {
      "text/latex": [
       "\\begin{tabular}\n",
       "{l | r | l}\n",
       "name & size & summary \\\\\n",
       "\\hline\n",
       "Base &  & Module \\\\\n",
       "Core &  & Module \\\\\n",
       "Main &  & Module \\\\\n",
       "x & 78.164 KiB & 100×100 Matrix\\{Float64\\} \\\\\n",
       "\\end{tabular}\n"
      ],
      "text/markdown": [
       "| name |       size | summary                 |\n",
       "|:---- | ----------:|:----------------------- |\n",
       "| Base |            | Module                  |\n",
       "| Core |            | Module                  |\n",
       "| Main |            | Module                  |\n",
       "| x    | 78.164 KiB | 100×100 Matrix{Float64} |\n"
      ],
      "text/plain": [
       "  name       size summary                \n",
       "  –––– –––––––––– –––––––––––––––––––––––\n",
       "  Base            Module                 \n",
       "  Core            Module                 \n",
       "  Main            Module                 \n",
       "  x    78.164 KiB 100×100 Matrix{Float64}"
      ]
     },
     "execution_count": 4,
     "metadata": {},
     "output_type": "execute_result"
    }
   ],
   "source": [
    "varinfo() # similar to Matlab whos()"
   ]
  },
  {
   "cell_type": "markdown",
   "metadata": {},
   "source": [
    "## Storage of Characters\n",
    "\n",
    "* Plain text files are stored in the form of characters: `.jl`, `.r`, `.c`, `.cpp`, `.ipynb`, `.html`, `.tex`, ...  \n",
    "* ASCII (American Code for Information Interchange): 7 bits, only $2^7=128$ characters.  "
   ]
  },
  {
   "cell_type": "code",
   "execution_count": 5,
   "metadata": {
    "tags": []
   },
   "outputs": [
    {
     "data": {
      "text/plain": [
       "128×2 Matrix{Any}:\n",
       "   0  '\\0'\n",
       "   1  '\\x01'\n",
       "   2  '\\x02'\n",
       "   3  '\\x03'\n",
       "   4  '\\x04'\n",
       "   5  '\\x05'\n",
       "   6  '\\x06'\n",
       "   7  '\\a'\n",
       "   8  '\\b'\n",
       "   9  '\\t'\n",
       "  10  '\\n'\n",
       "  11  '\\v'\n",
       "  12  '\\f'\n",
       "   ⋮  \n",
       " 116  't'\n",
       " 117  'u'\n",
       " 118  'v'\n",
       " 119  'w'\n",
       " 120  'x'\n",
       " 121  'y'\n",
       " 122  'z'\n",
       " 123  '{'\n",
       " 124  '|'\n",
       " 125  '}'\n",
       " 126  '~'\n",
       " 127  '\\x7f'"
      ]
     },
     "execution_count": 5,
     "metadata": {},
     "output_type": "execute_result"
    }
   ],
   "source": [
    "# integers 0, 1, ..., 127 and corresponding ascii character\n",
    "[0:127 Char.(0:127)]"
   ]
  },
  {
   "cell_type": "markdown",
   "metadata": {},
   "source": [
    "* Extended ASCII: 8 bits, $2^8=256$ characters.  "
   ]
  },
  {
   "cell_type": "code",
   "execution_count": 6,
   "metadata": {
    "tags": []
   },
   "outputs": [
    {
     "data": {
      "text/plain": [
       "128×2 Matrix{Any}:\n",
       " 128  '\\u80'\n",
       " 129  '\\u81'\n",
       " 130  '\\u82'\n",
       " 131  '\\u83'\n",
       " 132  '\\u84'\n",
       " 133  '\\u85'\n",
       " 134  '\\u86'\n",
       " 135  '\\u87'\n",
       " 136  '\\u88'\n",
       " 137  '\\u89'\n",
       " 138  '\\u8a'\n",
       " 139  '\\u8b'\n",
       " 140  '\\u8c'\n",
       "   ⋮  \n",
       " 244  'ô'\n",
       " 245  'õ'\n",
       " 246  'ö'\n",
       " 247  '÷'\n",
       " 248  'ø'\n",
       " 249  'ù'\n",
       " 250  'ú'\n",
       " 251  'û'\n",
       " 252  'ü'\n",
       " 253  'ý'\n",
       " 254  'þ'\n",
       " 255  'ÿ'"
      ]
     },
     "execution_count": 6,
     "metadata": {},
     "output_type": "execute_result"
    }
   ],
   "source": [
    "# integers 128, 129, ..., 255 and corresponding extended ascii character\n",
    "# show(STDOUT, \"text/plain\", [128:255 Char.(128:255)])\n",
    "[128:255 Char.(128:255)]"
   ]
  },
  {
   "cell_type": "markdown",
   "metadata": {},
   "source": [
    "* Unicode: UTF-8, UTF-16 and UTF-32 support many more characters including foreign characters; last 7 digits conform to ASCII. \n",
    "\n",
    "* [UTF-8](https://en.wikipedia.org/wiki/UTF-8) is the current dominant character encoding on internet.  \n",
    "\n",
    "<img src=\"https://upload.wikimedia.org/wikipedia/commons/9/97/Unicode_Web_growth.svg\" width=\"500\" align=\"center\"/>\n",
    "\n",
    "* Julia supports the full range of UTF-8 characters. You can type many Unicode math symbols by typing the backslashed LaTeX symbol name followed by tab. "
   ]
  },
  {
   "cell_type": "code",
   "execution_count": 7,
   "metadata": {
    "tags": []
   },
   "outputs": [
    {
     "data": {
      "text/plain": [
       "0.0"
      ]
     },
     "execution_count": 7,
     "metadata": {},
     "output_type": "execute_result"
    }
   ],
   "source": [
    "# \\beta-<tab>\n",
    "β = 0.0\n",
    "# \\beta-<tab>-\\hat-<tab>\n",
    "β̂ = 0.0"
   ]
  },
  {
   "cell_type": "markdown",
   "metadata": {},
   "source": [
    "* For a table of unicode symbols that can be entered via tab completion of LaTeX-like abbreviations: <https://docs.julialang.org/en/v1.1/manual/unicode-input/#Unicode-Input-1>\n",
    "\n",
    "## Integers: fixed-point number system\n",
    "\n",
    "* Fixed-point number system is a computer model for integers $\\mathbb{Z}$. \n",
    "\n",
    "* The number of bits and method of representing negative numbers vary from system to system. \n",
    "    - The `integer` type in R has $M=32$ or 64 bits, determined by machine word size. \n",
    "    - Matlab has `(u)int8`, `(u)int16`, `(u)int32`, `(u)int64`.  \n",
    "\n",
    "* Julia has even more integer types. Using `Plots.jl` and `GraphRecipes.jl` packages, we can [visualize the type tree](http://www.breloff.com/Graphs/) under `Integer`\n",
    "    - Storage for a `Signed` or `Unsigned` integer can be $M = 8, 16, 32, 64$ or 128 bits.  \n",
    "    - GraphRecipes.jl package has a convenience function for plotting the type hiearchy."
   ]
  },
  {
   "cell_type": "code",
   "execution_count": 8,
   "metadata": {
    "tags": []
   },
   "outputs": [
    {
     "data": {
      "image/svg+xml": [
       "<?xml version=\"1.0\" encoding=\"utf-8\"?>\n",
       "<svg xmlns=\"http://www.w3.org/2000/svg\" xmlns:xlink=\"http://www.w3.org/1999/xlink\" width=\"1200\" height=\"800\" viewBox=\"0 0 4800 3200\">\n",
       "<defs>\n",
       "  <clipPath id=\"clip370\">\n",
       "    <rect x=\"0\" y=\"0\" width=\"4800\" height=\"3200\"/>\n",
       "  </clipPath>\n",
       "</defs>\n",
       "<path clip-path=\"url(#clip370)\" d=\"M0 3200 L4800 3200 L4800 0 L0 0  Z\" fill=\"#ffffff\" fill-rule=\"evenodd\" fill-opacity=\"1\"/>\n",
       "<defs>\n",
       "  <clipPath id=\"clip371\">\n",
       "    <rect x=\"960\" y=\"0\" width=\"3361\" height=\"3200\"/>\n",
       "  </clipPath>\n",
       "</defs>\n",
       "<path clip-path=\"url(#clip370)\" d=\"M847.244 3152.76 L3952.76 3152.76 L3952.76 47.2441 L847.244 47.2441  Z\" fill=\"#ffffff\" fill-rule=\"evenodd\" fill-opacity=\"1\"/>\n",
       "<defs>\n",
       "  <clipPath id=\"clip372\">\n",
       "    <rect x=\"847\" y=\"47\" width=\"3107\" height=\"3107\"/>\n",
       "  </clipPath>\n",
       "</defs>\n",
       "<polyline clip-path=\"url(#clip372)\" style=\"stroke:#000000; stroke-linecap:round; stroke-linejoin:round; stroke-width:4; stroke-opacity:1; fill:none\" points=\"2363.31,490.889 2363.33,506.289 2363.37,522.016 2363.45,538.044 2363.55,554.349 2363.68,570.908 2363.82,587.697 2363.99,604.69 2364.17,621.865 2364.37,639.196 2364.58,656.66 2364.8,674.233 2365.03,691.89 2365.26,709.607 2365.5,727.361 2365.74,745.127 2365.97,762.881 2366.21,780.598 2366.44,798.255 2366.66,815.828 2366.87,833.292 2367.06,850.623 2367.25,867.798 2367.41,884.791 2367.56,901.58 2367.69,918.139 2367.79,934.444 2367.86,950.472 2367.91,966.199 2367.92,981.599 \"/>\n",
       "<polyline clip-path=\"url(#clip372)\" style=\"stroke:#000000; stroke-linecap:round; stroke-linejoin:round; stroke-width:4; stroke-opacity:1; fill:none\" points=\"2367.92,981.599 2367.94,995.136 2367.98,1008.96 2368.05,1023.05 2368.13,1037.38 2368.24,1051.94 2368.37,1066.69 2368.52,1081.63 2368.68,1096.73 2368.85,1111.96 2369.04,1127.31 2369.23,1142.76 2369.43,1158.28 2369.64,1173.85 2369.85,1189.46 2370.06,1205.07 2370.26,1220.68 2370.47,1236.25 2370.67,1251.77 2370.86,1267.22 2371.05,1282.57 2371.22,1297.8 2371.38,1312.9 2371.53,1327.84 2371.66,1342.59 2371.77,1357.15 2371.86,1371.48 2371.92,1385.57 2371.96,1399.39 2371.98,1412.93 \"/>\n",
       "<polyline clip-path=\"url(#clip372)\" style=\"stroke:#000000; stroke-linecap:round; stroke-linejoin:round; stroke-width:4; stroke-opacity:1; fill:none\" points=\"2371.98,1412.93 2371.9,1424.54 2371.69,1436.38 2371.35,1448.45 2370.88,1460.73 2370.31,1473.19 2369.64,1485.82 2368.88,1498.61 2368.04,1511.53 2367.14,1524.56 2366.18,1537.7 2365.17,1550.91 2364.12,1564.19 2363.05,1577.51 2361.96,1590.86 2360.87,1604.22 2359.78,1617.57 2358.71,1630.89 2357.67,1644.17 2356.66,1657.39 2355.7,1670.52 2354.79,1683.56 2353.96,1696.48 2353.2,1709.26 2352.53,1721.9 2351.95,1734.36 2351.49,1746.64 2351.15,1758.71 2350.93,1770.55 2350.86,1782.16 \"/>\n",
       "<polyline clip-path=\"url(#clip372)\" style=\"stroke:#000000; stroke-linecap:round; stroke-linejoin:round; stroke-width:4; stroke-opacity:1; fill:none\" points=\"2350.86,1782.16 2351.53,1799.44 2353.49,1816.86 2356.65,1834.4 2360.9,1852.06 2366.14,1869.83 2372.3,1887.69 2379.26,1905.64 2386.94,1923.67 2395.24,1941.76 2404.06,1959.9 2413.31,1978.1 2422.9,1996.32 2432.72,2014.57 2442.68,2032.84 2452.7,2051.11 2462.66,2069.38 2472.49,2087.63 2482.07,2105.86 2491.32,2124.05 2500.14,2142.2 2508.44,2160.29 2516.12,2178.32 2523.08,2196.26 2529.24,2214.13 2534.49,2231.89 2538.73,2249.56 2541.89,2267.1 2543.85,2284.52 2544.52,2301.8 \"/>\n",
       "<polyline clip-path=\"url(#clip372)\" style=\"stroke:#000000; stroke-linecap:round; stroke-linejoin:round; stroke-width:4; stroke-opacity:1; fill:none\" points=\"2350.86,1782.16 2349,1802.04 2343.61,1820.6 2334.94,1837.94 2323.25,1854.16 2308.82,1869.34 2291.89,1883.6 2272.74,1897.03 2251.62,1909.72 2228.8,1921.77 2204.54,1933.29 2179.1,1944.36 2152.74,1955.1 2125.72,1965.59 2098.32,1975.93 2070.78,1986.22 2043.37,1996.56 2016.36,2007.05 1990,2017.78 1964.56,2028.86 1940.29,2040.38 1917.47,2052.43 1896.35,2065.12 1877.2,2078.55 1860.28,2092.8 1845.84,2107.99 1834.16,2124.2 1825.49,2141.54 1820.09,2160.11 1818.24,2179.99 \"/>\n",
       "<polyline clip-path=\"url(#clip372)\" style=\"stroke:#000000; stroke-linecap:round; stroke-linejoin:round; stroke-width:4; stroke-opacity:1; fill:none\" points=\"2350.86,1782.16 2350.4,1793.44 2349.08,1804.81 2346.95,1816.25 2344.09,1827.76 2340.55,1839.33 2336.4,1850.95 2331.71,1862.63 2326.53,1874.35 2320.93,1886.1 2314.98,1897.89 2308.74,1909.7 2302.28,1921.54 2295.66,1933.39 2288.94,1945.25 2282.19,1957.11 2275.47,1968.97 2268.84,1980.82 2262.38,1992.65 2256.14,2004.47 2250.19,2016.26 2244.6,2028.01 2239.42,2039.73 2234.72,2051.41 2230.57,2063.03 2227.03,2074.6 2224.17,2086.11 2222.04,2097.55 2220.72,2108.91 2220.27,2120.2 \"/>\n",
       "<polyline clip-path=\"url(#clip372)\" style=\"stroke:#000000; stroke-linecap:round; stroke-linejoin:round; stroke-width:4; stroke-opacity:1; fill:none\" points=\"2350.86,1782.16 2349.19,1802.01 2344.33,1820.91 2336.51,1838.93 2325.99,1856.15 2312.98,1872.62 2297.73,1888.42 2280.47,1903.62 2261.44,1918.29 2240.88,1932.51 2219.02,1946.34 2196.1,1959.85 2172.34,1973.11 2148,1986.2 2123.31,1999.18 2098.5,2012.13 2073.8,2025.11 2049.46,2038.2 2025.71,2051.46 2002.78,2064.97 1980.92,2078.8 1960.36,2093.02 1941.33,2107.69 1924.07,2122.89 1908.83,2138.7 1895.82,2155.17 1885.29,2172.38 1877.48,2190.4 1872.62,2209.3 1870.95,2229.16 \"/>\n",
       "<polyline clip-path=\"url(#clip372)\" style=\"stroke:#000000; stroke-linecap:round; stroke-linejoin:round; stroke-width:4; stroke-opacity:1; fill:none\" points=\"1870.95,2229.16 1870.06,2246 1867.47,2262.77 1863.31,2279.49 1857.71,2296.16 1850.79,2312.78 1842.68,2329.36 1833.49,2345.89 1823.37,2362.39 1812.43,2378.87 1800.8,2395.31 1788.6,2411.74 1775.96,2428.15 1763.01,2444.55 1749.87,2460.94 1736.67,2477.33 1723.53,2493.72 1710.58,2510.12 1697.94,2526.53 1685.74,2542.96 1674.11,2559.4 1663.17,2575.87 1653.04,2592.38 1643.86,2608.91 1635.75,2625.49 1628.83,2642.11 1623.22,2658.77 1619.07,2675.49 1616.48,2692.27 1615.59,2709.11 \"/>\n",
       "<polyline clip-path=\"url(#clip372)\" style=\"stroke:#000000; stroke-linecap:round; stroke-linejoin:round; stroke-width:4; stroke-opacity:1; fill:none\" points=\"1870.95,2229.16 1870.79,2243.87 1870.35,2258.89 1869.63,2274.18 1868.67,2289.73 1867.48,2305.5 1866.09,2321.49 1864.51,2337.67 1862.77,2354.01 1860.89,2370.49 1858.89,2387.1 1856.79,2403.8 1854.62,2420.58 1852.4,2437.42 1850.14,2454.29 1847.87,2471.17 1845.61,2488.04 1843.38,2504.88 1841.21,2521.66 1839.12,2538.36 1837.12,2554.97 1835.24,2571.45 1833.5,2587.79 1831.92,2603.97 1830.52,2619.95 1829.33,2635.73 1828.37,2651.28 1827.66,2666.57 1827.21,2681.59 1827.06,2696.3 \"/>\n",
       "<polyline clip-path=\"url(#clip372)\" style=\"stroke:#000000; stroke-linecap:round; stroke-linejoin:round; stroke-width:4; stroke-opacity:1; fill:none\" points=\"1870.95,2229.16 1869.4,2247.93 1864.9,2265.86 1857.68,2283.02 1847.95,2299.48 1835.92,2315.28 1821.81,2330.49 1805.86,2345.18 1788.26,2359.41 1769.24,2373.23 1749.03,2386.72 1727.83,2399.92 1705.86,2412.91 1683.35,2425.75 1660.52,2438.49 1637.57,2451.2 1614.73,2463.94 1592.22,2476.78 1570.26,2489.77 1549.06,2502.98 1528.84,2516.46 1509.83,2530.28 1492.23,2544.51 1476.27,2559.2 1462.17,2574.41 1450.14,2590.22 1440.41,2606.67 1433.18,2623.83 1428.69,2641.77 1427.14,2660.54 \"/>\n",
       "<polyline clip-path=\"url(#clip372)\" style=\"stroke:#000000; stroke-linecap:round; stroke-linejoin:round; stroke-width:4; stroke-opacity:1; fill:none\" points=\"1870.95,2229.16 1868.92,2246.33 1863.05,2262.36 1853.61,2277.34 1840.88,2291.34 1825.16,2304.46 1806.73,2316.77 1785.87,2328.36 1762.87,2339.32 1738.02,2349.73 1711.6,2359.68 1683.89,2369.24 1655.18,2378.51 1625.76,2387.57 1595.91,2396.5 1565.92,2405.39 1536.07,2414.33 1506.65,2423.38 1477.95,2432.65 1450.24,2442.22 1423.81,2452.16 1398.96,2462.58 1375.96,2473.54 1355.1,2485.13 1336.67,2497.44 1320.95,2510.56 1308.23,2524.56 1298.78,2539.54 1292.91,2555.57 1290.89,2572.74 \"/>\n",
       "<polyline clip-path=\"url(#clip372)\" style=\"stroke:#000000; stroke-linecap:round; stroke-linejoin:round; stroke-width:4; stroke-opacity:1; fill:none\" points=\"1870.95,2229.16 1871.68,2244.99 1873.8,2260.87 1877.22,2276.78 1881.82,2292.72 1887.51,2308.69 1894.18,2324.69 1901.73,2340.71 1910.05,2356.76 1919.04,2372.82 1928.6,2388.9 1938.62,2404.99 1949.01,2421.09 1959.65,2437.19 1970.45,2453.31 1981.3,2469.42 1992.1,2485.53 2002.75,2501.64 2013.13,2517.74 2023.16,2533.83 2032.72,2549.91 2041.71,2565.97 2050.03,2582.01 2057.58,2598.04 2064.24,2614.04 2069.93,2630.01 2074.54,2645.95 2077.95,2661.86 2080.08,2677.73 2080.81,2693.57 \"/>\n",
       "<polyline clip-path=\"url(#clip372)\" style=\"stroke:#000000; stroke-linecap:round; stroke-linejoin:round; stroke-width:4; stroke-opacity:1; fill:none\" points=\"1870.95,2229.16 1872.13,2241.72 1875.56,2253.45 1881.08,2264.4 1888.52,2274.65 1897.72,2284.24 1908.5,2293.25 1920.69,2301.73 1934.14,2309.75 1948.67,2317.36 1964.12,2324.64 1980.33,2331.64 1997.11,2338.42 2014.31,2345.05 2031.77,2351.58 2049.3,2358.08 2066.76,2364.62 2083.96,2371.24 2100.75,2378.02 2116.95,2385.02 2132.4,2392.3 2146.93,2399.91 2160.38,2407.93 2172.58,2416.41 2183.35,2425.42 2192.55,2435.01 2199.99,2445.26 2205.51,2456.21 2208.94,2467.94 2210.13,2480.5 \"/>\n",
       "<polyline clip-path=\"url(#clip372)\" style=\"stroke:#000000; stroke-linecap:round; stroke-linejoin:round; stroke-width:4; stroke-opacity:1; fill:none\" points=\"2350.86,1782.16 2353.1,1799.16 2359.63,1815.03 2370.12,1829.85 2384.26,1843.71 2401.73,1856.7 2422.21,1868.88 2445.39,1880.36 2470.94,1891.21 2498.56,1901.52 2527.92,1911.36 2558.7,1920.83 2590.6,1930.01 2623.29,1938.97 2656.45,1947.82 2689.78,1956.62 2722.94,1965.46 2755.63,1974.42 2787.53,1983.6 2818.32,1993.07 2847.68,2002.92 2875.29,2013.22 2900.85,2024.07 2924.02,2035.55 2944.5,2047.74 2961.97,2060.72 2976.11,2074.58 2986.6,2089.41 2993.13,2105.28 2995.37,2122.28 \"/>\n",
       "<polyline clip-path=\"url(#clip372)\" style=\"stroke:#000000; stroke-linecap:round; stroke-linejoin:round; stroke-width:4; stroke-opacity:1; fill:none\" points=\"2995.37,2122.28 2997.16,2142.4 3002.37,2161.37 3010.73,2179.27 3022,2196.18 3035.92,2212.19 3052.25,2227.39 3070.72,2241.86 3091.09,2255.69 3113.1,2268.95 3136.5,2281.75 3161.04,2294.16 3186.47,2306.28 3212.53,2318.17 3238.96,2329.94 3265.52,2341.67 3291.96,2353.44 3318.02,2365.34 3343.44,2377.45 3367.98,2389.86 3391.38,2402.66 3413.4,2415.93 3433.76,2429.76 3452.24,2444.22 3468.56,2459.42 3482.49,2475.43 3493.76,2492.35 3502.12,2510.24 3507.32,2529.21 3509.11,2549.34 \"/>\n",
       "<polyline clip-path=\"url(#clip372)\" style=\"stroke:#000000; stroke-linecap:round; stroke-linejoin:round; stroke-width:4; stroke-opacity:1; fill:none\" points=\"2995.37,2122.28 2996.07,2141.6 2998.11,2161.11 3001.38,2180.79 3005.79,2200.64 3011.24,2220.63 3017.62,2240.76 3024.85,2261 3032.81,2281.35 3041.43,2301.79 3050.58,2322.31 3060.18,2342.88 3070.12,2363.51 3080.32,2384.18 3090.66,2404.86 3101.05,2425.55 3111.39,2446.24 3121.58,2466.9 3131.53,2487.53 3141.13,2508.11 3150.28,2528.63 3158.89,2549.07 3166.86,2569.42 3174.08,2589.66 3180.47,2609.79 3185.92,2629.78 3190.32,2649.62 3193.6,2669.31 3195.63,2688.82 3196.33,2708.14 \"/>\n",
       "<polyline clip-path=\"url(#clip372)\" style=\"stroke:#000000; stroke-linecap:round; stroke-linejoin:round; stroke-width:4; stroke-opacity:1; fill:none\" points=\"2995.37,2122.28 2996.72,2142.48 3000.64,2162.28 3006.93,2181.72 3015.41,2200.82 3025.89,2219.6 3038.18,2238.11 3052.09,2256.37 3067.42,2274.4 3083.99,2292.25 3101.6,2309.93 3120.07,2327.48 3139.21,2344.92 3158.82,2362.3 3178.72,2379.62 3198.71,2396.94 3218.61,2414.27 3238.22,2431.64 3257.36,2449.08 3275.83,2466.63 3293.44,2484.31 3310.01,2502.16 3325.34,2520.19 3339.25,2538.45 3351.54,2556.96 3362.02,2575.75 3370.5,2594.84 3376.79,2614.28 3380.71,2634.08 3382.06,2654.28 \"/>\n",
       "<polyline clip-path=\"url(#clip372)\" style=\"stroke:#000000; stroke-linecap:round; stroke-linejoin:round; stroke-width:4; stroke-opacity:1; fill:none\" points=\"2995.37,2122.28 2994.77,2139.32 2993.03,2156.55 2990.23,2173.94 2986.45,2191.48 2981.79,2209.17 2976.32,2226.97 2970.13,2244.89 2963.31,2262.91 2955.93,2281.01 2948.09,2299.19 2939.87,2317.42 2931.35,2335.7 2922.62,2354.02 2913.76,2372.35 2904.87,2390.69 2896.01,2409.03 2887.28,2427.34 2878.76,2445.62 2870.54,2463.86 2862.7,2482.03 2855.32,2500.14 2848.5,2518.15 2842.31,2536.07 2836.84,2553.88 2832.18,2571.56 2828.4,2589.1 2825.6,2606.49 2823.86,2623.72 2823.26,2640.77 \"/>\n",
       "<polyline clip-path=\"url(#clip372)\" style=\"stroke:#000000; stroke-linecap:round; stroke-linejoin:round; stroke-width:4; stroke-opacity:1; fill:none\" points=\"2995.37,2122.28 2995.47,2139.12 2995.75,2156.32 2996.2,2173.84 2996.81,2191.66 2997.56,2209.75 2998.45,2228.1 2999.44,2246.66 3000.55,2265.42 3001.73,2284.35 3003,2303.42 3004.32,2322.61 3005.7,2341.89 3007.11,2361.23 3008.53,2380.62 3009.97,2400.01 3011.4,2419.4 3012.81,2438.74 3014.18,2458.02 3015.5,2477.21 3016.77,2496.29 3017.96,2515.21 3019.06,2533.97 3020.06,2552.54 3020.94,2570.88 3021.69,2588.97 3022.3,2606.79 3022.75,2624.32 3023.03,2641.51 3023.13,2658.35 \"/>\n",
       "<path clip-path=\"url(#clip372)\" d=\"M2401.77 490.889 L2382.54 457.579 L2344.08 457.579 L2324.85 490.889 L2344.08 524.198 L2382.54 524.198 L2401.77 490.889 L2401.77 490.889  Z\" fill=\"#009af9\" fill-rule=\"evenodd\" fill-opacity=\"1\"/>\n",
       "<polyline clip-path=\"url(#clip372)\" style=\"stroke:#000000; stroke-linecap:round; stroke-linejoin:round; stroke-width:4; stroke-opacity:1; fill:none\" points=\"2401.77,490.889 2382.54,457.579 2344.08,457.579 2324.85,490.889 2344.08,524.198 2382.54,524.198 2401.77,490.889 \"/>\n",
       "<path clip-path=\"url(#clip372)\" d=\"M2434.89 981.599 L2401.41 923.604 L2334.44 923.604 L2300.96 981.599 L2334.44 1039.59 L2401.41 1039.59 L2434.89 981.599 L2434.89 981.599  Z\" fill=\"#009af9\" fill-rule=\"evenodd\" fill-opacity=\"1\"/>\n",
       "<polyline clip-path=\"url(#clip372)\" style=\"stroke:#000000; stroke-linecap:round; stroke-linejoin:round; stroke-width:4; stroke-opacity:1; fill:none\" points=\"2434.89,981.599 2401.41,923.604 2334.44,923.604 2300.96,981.599 2334.44,1039.59 2401.41,1039.59 2434.89,981.599 \"/>\n",
       "<path clip-path=\"url(#clip372)\" d=\"M2420.39 1412.93 L2396.18 1371 L2347.77 1371 L2323.56 1412.93 L2347.77 1454.86 L2396.18 1454.86 L2420.39 1412.93 L2420.39 1412.93  Z\" fill=\"#009af9\" fill-rule=\"evenodd\" fill-opacity=\"1\"/>\n",
       "<polyline clip-path=\"url(#clip372)\" style=\"stroke:#000000; stroke-linecap:round; stroke-linejoin:round; stroke-width:4; stroke-opacity:1; fill:none\" points=\"2420.39,1412.93 2396.18,1371 2347.77,1371 2323.56,1412.93 2347.77,1454.86 2396.18,1454.86 2420.39,1412.93 \"/>\n",
       "<path clip-path=\"url(#clip372)\" d=\"M2426.61 1782.16 L2388.74 1716.55 L2312.98 1716.55 L2275.1 1782.16 L2312.98 1847.76 L2388.74 1847.76 L2426.61 1782.16 L2426.61 1782.16  Z\" fill=\"#009af9\" fill-rule=\"evenodd\" fill-opacity=\"1\"/>\n",
       "<polyline clip-path=\"url(#clip372)\" style=\"stroke:#000000; stroke-linecap:round; stroke-linejoin:round; stroke-width:4; stroke-opacity:1; fill:none\" points=\"2426.61,1782.16 2388.74,1716.55 2312.98,1716.55 2275.1,1782.16 2312.98,1847.76 2388.74,1847.76 2426.61,1782.16 \"/>\n",
       "<path clip-path=\"url(#clip372)\" d=\"M2592.94 2301.8 L2568.73 2259.87 L2520.31 2259.87 L2496.11 2301.8 L2520.31 2343.73 L2568.73 2343.73 L2592.94 2301.8 L2592.94 2301.8  Z\" fill=\"#009af9\" fill-rule=\"evenodd\" fill-opacity=\"1\"/>\n",
       "<polyline clip-path=\"url(#clip372)\" style=\"stroke:#000000; stroke-linecap:round; stroke-linejoin:round; stroke-width:4; stroke-opacity:1; fill:none\" points=\"2592.94,2301.8 2568.73,2259.87 2520.31,2259.87 2496.11,2301.8 2520.31,2343.73 2568.73,2343.73 2592.94,2301.8 \"/>\n",
       "<path clip-path=\"url(#clip372)\" d=\"M1942.54 2179.99 L1880.39 2072.34 L1756.08 2072.34 L1693.93 2179.99 L1756.08 2287.64 L1880.39 2287.64 L1942.54 2179.99 L1942.54 2179.99  Z\" fill=\"#009af9\" fill-rule=\"evenodd\" fill-opacity=\"1\"/>\n",
       "<polyline clip-path=\"url(#clip372)\" style=\"stroke:#000000; stroke-linecap:round; stroke-linejoin:round; stroke-width:4; stroke-opacity:1; fill:none\" points=\"1942.54,2179.99 1880.39,2072.34 1756.08,2072.34 1693.93,2179.99 1756.08,2287.64 1880.39,2287.64 1942.54,2179.99 \"/>\n",
       "<path clip-path=\"url(#clip372)\" d=\"M2344.57 2120.2 L2282.42 2012.55 L2158.11 2012.55 L2095.96 2120.2 L2158.11 2227.86 L2282.42 2227.86 L2344.57 2120.2 L2344.57 2120.2  Z\" fill=\"#009af9\" fill-rule=\"evenodd\" fill-opacity=\"1\"/>\n",
       "<polyline clip-path=\"url(#clip372)\" style=\"stroke:#000000; stroke-linecap:round; stroke-linejoin:round; stroke-width:4; stroke-opacity:1; fill:none\" points=\"2344.57,2120.2 2282.42,2012.55 2158.11,2012.55 2095.96,2120.2 2158.11,2227.86 2282.42,2227.86 2344.57,2120.2 \"/>\n",
       "<path clip-path=\"url(#clip372)\" d=\"M1937.91 2229.16 L1904.43 2171.16 L1837.46 2171.16 L1803.98 2229.16 L1837.46 2287.15 L1904.43 2287.15 L1937.91 2229.16 L1937.91 2229.16  Z\" fill=\"#009af9\" fill-rule=\"evenodd\" fill-opacity=\"1\"/>\n",
       "<polyline clip-path=\"url(#clip372)\" style=\"stroke:#000000; stroke-linecap:round; stroke-linejoin:round; stroke-width:4; stroke-opacity:1; fill:none\" points=\"1937.91,2229.16 1904.43,2171.16 1837.46,2171.16 1803.98,2229.16 1837.46,2287.15 1904.43,2287.15 1937.91,2229.16 \"/>\n",
       "<path clip-path=\"url(#clip372)\" d=\"M1682.56 2709.11 L1649.07 2651.12 L1582.11 2651.12 L1548.62 2709.11 L1582.11 2767.11 L1649.07 2767.11 L1682.56 2709.11 L1682.56 2709.11  Z\" fill=\"#009af9\" fill-rule=\"evenodd\" fill-opacity=\"1\"/>\n",
       "<polyline clip-path=\"url(#clip372)\" style=\"stroke:#000000; stroke-linecap:round; stroke-linejoin:round; stroke-width:4; stroke-opacity:1; fill:none\" points=\"1682.56,2709.11 1649.07,2651.12 1582.11,2651.12 1548.62,2709.11 1582.11,2767.11 1649.07,2767.11 1682.56,2709.11 \"/>\n",
       "<path clip-path=\"url(#clip372)\" d=\"M1894.03 2696.3 L1860.54 2638.31 L1793.58 2638.31 L1760.09 2696.3 L1793.58 2754.3 L1860.54 2754.3 L1894.03 2696.3 L1894.03 2696.3  Z\" fill=\"#009af9\" fill-rule=\"evenodd\" fill-opacity=\"1\"/>\n",
       "<polyline clip-path=\"url(#clip372)\" style=\"stroke:#000000; stroke-linecap:round; stroke-linejoin:round; stroke-width:4; stroke-opacity:1; fill:none\" points=\"1894.03,2696.3 1860.54,2638.31 1793.58,2638.31 1760.09,2696.3 1793.58,2754.3 1860.54,2754.3 1894.03,2696.3 \"/>\n",
       "<path clip-path=\"url(#clip372)\" d=\"M1485.02 2660.54 L1456.08 2610.41 L1398.2 2610.41 L1369.26 2660.54 L1398.2 2710.66 L1456.08 2710.66 L1485.02 2660.54 L1485.02 2660.54  Z\" fill=\"#009af9\" fill-rule=\"evenodd\" fill-opacity=\"1\"/>\n",
       "<polyline clip-path=\"url(#clip372)\" style=\"stroke:#000000; stroke-linecap:round; stroke-linejoin:round; stroke-width:4; stroke-opacity:1; fill:none\" points=\"1485.02,2660.54 1456.08,2610.41 1398.2,2610.41 1369.26,2660.54 1398.2,2710.66 1456.08,2710.66 1485.02,2660.54 \"/>\n",
       "<path clip-path=\"url(#clip372)\" d=\"M1348.77 2572.74 L1319.83 2522.62 L1261.95 2522.62 L1233.01 2572.74 L1261.95 2622.87 L1319.83 2622.87 L1348.77 2572.74 L1348.77 2572.74  Z\" fill=\"#009af9\" fill-rule=\"evenodd\" fill-opacity=\"1\"/>\n",
       "<polyline clip-path=\"url(#clip372)\" style=\"stroke:#000000; stroke-linecap:round; stroke-linejoin:round; stroke-width:4; stroke-opacity:1; fill:none\" points=\"1348.77,2572.74 1319.83,2522.62 1261.95,2522.62 1233.01,2572.74 1261.95,2622.87 1319.83,2622.87 1348.77,2572.74 \"/>\n",
       "<path clip-path=\"url(#clip372)\" d=\"M2138.69 2693.57 L2109.75 2643.45 L2051.87 2643.45 L2022.93 2693.57 L2051.87 2743.69 L2109.75 2743.69 L2138.69 2693.57 L2138.69 2693.57  Z\" fill=\"#009af9\" fill-rule=\"evenodd\" fill-opacity=\"1\"/>\n",
       "<polyline clip-path=\"url(#clip372)\" style=\"stroke:#000000; stroke-linecap:round; stroke-linejoin:round; stroke-width:4; stroke-opacity:1; fill:none\" points=\"2138.69,2693.57 2109.75,2643.45 2051.87,2643.45 2022.93,2693.57 2051.87,2743.69 2109.75,2743.69 2138.69,2693.57 \"/>\n",
       "<path clip-path=\"url(#clip372)\" d=\"M2258.54 2480.5 L2234.33 2438.58 L2185.92 2438.58 L2161.71 2480.5 L2185.92 2522.43 L2234.33 2522.43 L2258.54 2480.5 L2258.54 2480.5  Z\" fill=\"#009af9\" fill-rule=\"evenodd\" fill-opacity=\"1\"/>\n",
       "<polyline clip-path=\"url(#clip372)\" style=\"stroke:#000000; stroke-linecap:round; stroke-linejoin:round; stroke-width:4; stroke-opacity:1; fill:none\" points=\"2258.54,2480.5 2234.33,2438.58 2185.92,2438.58 2161.71,2480.5 2185.92,2522.43 2234.33,2522.43 2258.54,2480.5 \"/>\n",
       "<path clip-path=\"url(#clip372)\" d=\"M3079.67 2122.28 L3037.52 2049.27 L2953.23 2049.27 L2911.08 2122.28 L2953.23 2195.28 L3037.52 2195.28 L3079.67 2122.28 L3079.67 2122.28  Z\" fill=\"#009af9\" fill-rule=\"evenodd\" fill-opacity=\"1\"/>\n",
       "<polyline clip-path=\"url(#clip372)\" style=\"stroke:#000000; stroke-linecap:round; stroke-linejoin:round; stroke-width:4; stroke-opacity:1; fill:none\" points=\"3079.67,2122.28 3037.52,2049.27 2953.23,2049.27 2911.08,2122.28 2953.23,2195.28 3037.52,2195.28 3079.67,2122.28 \"/>\n",
       "<path clip-path=\"url(#clip372)\" d=\"M3584.87 2549.34 L3546.99 2483.73 L3471.23 2483.73 L3433.36 2549.34 L3471.23 2614.94 L3546.99 2614.94 L3584.87 2549.34 L3584.87 2549.34  Z\" fill=\"#009af9\" fill-rule=\"evenodd\" fill-opacity=\"1\"/>\n",
       "<polyline clip-path=\"url(#clip372)\" style=\"stroke:#000000; stroke-linecap:round; stroke-linejoin:round; stroke-width:4; stroke-opacity:1; fill:none\" points=\"3584.87,2549.34 3546.99,2483.73 3471.23,2483.73 3433.36,2549.34 3471.23,2614.94 3546.99,2614.94 3584.87,2549.34 \"/>\n",
       "<path clip-path=\"url(#clip372)\" d=\"M3263.3 2708.14 L3229.81 2650.14 L3162.85 2650.14 L3129.36 2708.14 L3162.85 2766.13 L3229.81 2766.13 L3263.3 2708.14 L3263.3 2708.14  Z\" fill=\"#009af9\" fill-rule=\"evenodd\" fill-opacity=\"1\"/>\n",
       "<polyline clip-path=\"url(#clip372)\" style=\"stroke:#000000; stroke-linecap:round; stroke-linejoin:round; stroke-width:4; stroke-opacity:1; fill:none\" points=\"3263.3,2708.14 3229.81,2650.14 3162.85,2650.14 3129.36,2708.14 3162.85,2766.13 3229.81,2766.13 3263.3,2708.14 \"/>\n",
       "<path clip-path=\"url(#clip372)\" d=\"M3449.02 2654.28 L3415.54 2596.29 L3348.57 2596.29 L3315.09 2654.28 L3348.57 2712.28 L3415.54 2712.28 L3449.02 2654.28 L3449.02 2654.28  Z\" fill=\"#009af9\" fill-rule=\"evenodd\" fill-opacity=\"1\"/>\n",
       "<polyline clip-path=\"url(#clip372)\" style=\"stroke:#000000; stroke-linecap:round; stroke-linejoin:round; stroke-width:4; stroke-opacity:1; fill:none\" points=\"3449.02,2654.28 3415.54,2596.29 3348.57,2596.29 3315.09,2654.28 3348.57,2712.28 3415.54,2712.28 3449.02,2654.28 \"/>\n",
       "<path clip-path=\"url(#clip372)\" d=\"M2890.22 2640.77 L2856.74 2582.77 L2789.77 2582.77 L2756.29 2640.77 L2789.77 2698.76 L2856.74 2698.76 L2890.22 2640.77 L2890.22 2640.77  Z\" fill=\"#009af9\" fill-rule=\"evenodd\" fill-opacity=\"1\"/>\n",
       "<polyline clip-path=\"url(#clip372)\" style=\"stroke:#000000; stroke-linecap:round; stroke-linejoin:round; stroke-width:4; stroke-opacity:1; fill:none\" points=\"2890.22,2640.77 2856.74,2582.77 2789.77,2582.77 2756.29,2640.77 2789.77,2698.76 2856.74,2698.76 2890.22,2640.77 \"/>\n",
       "<path clip-path=\"url(#clip372)\" d=\"M3081.01 2658.35 L3052.07 2608.23 L2994.19 2608.23 L2965.25 2658.35 L2994.19 2708.48 L3052.07 2708.48 L3081.01 2658.35 L3081.01 2658.35  Z\" fill=\"#009af9\" fill-rule=\"evenodd\" fill-opacity=\"1\"/>\n",
       "<polyline clip-path=\"url(#clip372)\" style=\"stroke:#000000; stroke-linecap:round; stroke-linejoin:round; stroke-width:4; stroke-opacity:1; fill:none\" points=\"3081.01,2658.35 3052.07,2608.23 2994.19,2608.23 2965.25,2658.35 2994.19,2708.48 3052.07,2708.48 3081.01,2658.35 \"/>\n",
       "<path clip-path=\"url(#clip372)\" d=\"M2363.31 491.289 L2362.97 491.089 L2362.97 490.689 L2363.31 490.489 L2363.66 490.689 L2363.66 491.089 Z\" fill=\"#009af9\" fill-rule=\"evenodd\" fill-opacity=\"1\" stroke=\"#000000\" stroke-opacity=\"1\" stroke-width=\"6.4\"/>\n",
       "<path clip-path=\"url(#clip372)\" d=\"M2367.92 981.999 L2367.58 981.799 L2367.58 981.399 L2367.92 981.199 L2368.27 981.399 L2368.27 981.799 Z\" fill=\"#009af9\" fill-rule=\"evenodd\" fill-opacity=\"1\" stroke=\"#000000\" stroke-opacity=\"1\" stroke-width=\"6.4\"/>\n",
       "<path clip-path=\"url(#clip372)\" d=\"M2371.98 1413.33 L2371.63 1413.13 L2371.63 1412.73 L2371.98 1412.53 L2372.32 1412.73 L2372.32 1413.13 Z\" fill=\"#009af9\" fill-rule=\"evenodd\" fill-opacity=\"1\" stroke=\"#000000\" stroke-opacity=\"1\" stroke-width=\"6.4\"/>\n",
       "<path clip-path=\"url(#clip372)\" d=\"M2350.86 1782.56 L2350.51 1782.36 L2350.51 1781.96 L2350.86 1781.76 L2351.2 1781.96 L2351.2 1782.36 Z\" fill=\"#009af9\" fill-rule=\"evenodd\" fill-opacity=\"1\" stroke=\"#000000\" stroke-opacity=\"1\" stroke-width=\"6.4\"/>\n",
       "<path clip-path=\"url(#clip372)\" d=\"M2544.52 2302.2 L2544.18 2302 L2544.18 2301.6 L2544.52 2301.4 L2544.87 2301.6 L2544.87 2302 Z\" fill=\"#009af9\" fill-rule=\"evenodd\" fill-opacity=\"1\" stroke=\"#000000\" stroke-opacity=\"1\" stroke-width=\"6.4\"/>\n",
       "<path clip-path=\"url(#clip372)\" d=\"M1818.24 2180.39 L1817.89 2180.19 L1817.89 2179.79 L1818.24 2179.59 L1818.58 2179.79 L1818.58 2180.19 Z\" fill=\"#009af9\" fill-rule=\"evenodd\" fill-opacity=\"1\" stroke=\"#000000\" stroke-opacity=\"1\" stroke-width=\"6.4\"/>\n",
       "<path clip-path=\"url(#clip372)\" d=\"M2220.27 2120.6 L2219.92 2120.4 L2219.92 2120 L2220.27 2119.8 L2220.61 2120 L2220.61 2120.4 Z\" fill=\"#009af9\" fill-rule=\"evenodd\" fill-opacity=\"1\" stroke=\"#000000\" stroke-opacity=\"1\" stroke-width=\"6.4\"/>\n",
       "<path clip-path=\"url(#clip372)\" d=\"M1870.95 2229.56 L1870.6 2229.36 L1870.6 2228.96 L1870.95 2228.76 L1871.29 2228.96 L1871.29 2229.36 Z\" fill=\"#009af9\" fill-rule=\"evenodd\" fill-opacity=\"1\" stroke=\"#000000\" stroke-opacity=\"1\" stroke-width=\"6.4\"/>\n",
       "<path clip-path=\"url(#clip372)\" d=\"M1615.59 2709.51 L1615.24 2709.31 L1615.24 2708.91 L1615.59 2708.71 L1615.94 2708.91 L1615.94 2709.31 Z\" fill=\"#009af9\" fill-rule=\"evenodd\" fill-opacity=\"1\" stroke=\"#000000\" stroke-opacity=\"1\" stroke-width=\"6.4\"/>\n",
       "<path clip-path=\"url(#clip372)\" d=\"M1827.06 2696.7 L1826.71 2696.5 L1826.71 2696.1 L1827.06 2695.9 L1827.41 2696.1 L1827.41 2696.5 Z\" fill=\"#009af9\" fill-rule=\"evenodd\" fill-opacity=\"1\" stroke=\"#000000\" stroke-opacity=\"1\" stroke-width=\"6.4\"/>\n",
       "<path clip-path=\"url(#clip372)\" d=\"M1427.14 2660.94 L1426.79 2660.74 L1426.79 2660.34 L1427.14 2660.14 L1427.49 2660.34 L1427.49 2660.74 Z\" fill=\"#009af9\" fill-rule=\"evenodd\" fill-opacity=\"1\" stroke=\"#000000\" stroke-opacity=\"1\" stroke-width=\"6.4\"/>\n",
       "<path clip-path=\"url(#clip372)\" d=\"M1290.89 2573.14 L1290.54 2572.94 L1290.54 2572.54 L1290.89 2572.34 L1291.24 2572.54 L1291.24 2572.94 Z\" fill=\"#009af9\" fill-rule=\"evenodd\" fill-opacity=\"1\" stroke=\"#000000\" stroke-opacity=\"1\" stroke-width=\"6.4\"/>\n",
       "<path clip-path=\"url(#clip372)\" d=\"M2080.81 2693.97 L2080.46 2693.77 L2080.46 2693.37 L2080.81 2693.17 L2081.15 2693.37 L2081.15 2693.77 Z\" fill=\"#009af9\" fill-rule=\"evenodd\" fill-opacity=\"1\" stroke=\"#000000\" stroke-opacity=\"1\" stroke-width=\"6.4\"/>\n",
       "<path clip-path=\"url(#clip372)\" d=\"M2210.13 2480.9 L2209.78 2480.7 L2209.78 2480.3 L2210.13 2480.1 L2210.47 2480.3 L2210.47 2480.7 Z\" fill=\"#009af9\" fill-rule=\"evenodd\" fill-opacity=\"1\" stroke=\"#000000\" stroke-opacity=\"1\" stroke-width=\"6.4\"/>\n",
       "<path clip-path=\"url(#clip372)\" d=\"M2995.37 2122.68 L2995.03 2122.48 L2995.03 2122.08 L2995.37 2121.88 L2995.72 2122.08 L2995.72 2122.48 Z\" fill=\"#009af9\" fill-rule=\"evenodd\" fill-opacity=\"1\" stroke=\"#000000\" stroke-opacity=\"1\" stroke-width=\"6.4\"/>\n",
       "<path clip-path=\"url(#clip372)\" d=\"M3509.11 2549.74 L3508.76 2549.54 L3508.76 2549.14 L3509.11 2548.94 L3509.46 2549.14 L3509.46 2549.54 Z\" fill=\"#009af9\" fill-rule=\"evenodd\" fill-opacity=\"1\" stroke=\"#000000\" stroke-opacity=\"1\" stroke-width=\"6.4\"/>\n",
       "<path clip-path=\"url(#clip372)\" d=\"M3196.33 2708.54 L3195.98 2708.34 L3195.98 2707.94 L3196.33 2707.74 L3196.68 2707.94 L3196.68 2708.34 Z\" fill=\"#009af9\" fill-rule=\"evenodd\" fill-opacity=\"1\" stroke=\"#000000\" stroke-opacity=\"1\" stroke-width=\"6.4\"/>\n",
       "<path clip-path=\"url(#clip372)\" d=\"M3382.06 2654.68 L3381.71 2654.48 L3381.71 2654.08 L3382.06 2653.88 L3382.4 2654.08 L3382.4 2654.48 Z\" fill=\"#009af9\" fill-rule=\"evenodd\" fill-opacity=\"1\" stroke=\"#000000\" stroke-opacity=\"1\" stroke-width=\"6.4\"/>\n",
       "<path clip-path=\"url(#clip372)\" d=\"M2823.26 2641.17 L2822.91 2640.97 L2822.91 2640.57 L2823.26 2640.37 L2823.6 2640.57 L2823.6 2640.97 Z\" fill=\"#009af9\" fill-rule=\"evenodd\" fill-opacity=\"1\" stroke=\"#000000\" stroke-opacity=\"1\" stroke-width=\"6.4\"/>\n",
       "<path clip-path=\"url(#clip372)\" d=\"M3023.13 2658.75 L3022.78 2658.55 L3022.78 2658.15 L3023.13 2657.95 L3023.48 2658.15 L3023.48 2658.55 Z\" fill=\"#009af9\" fill-rule=\"evenodd\" fill-opacity=\"1\" stroke=\"#000000\" stroke-opacity=\"1\" stroke-width=\"6.4\"/>\n",
       "<path clip-path=\"url(#clip370)\" d=\"M2349.04 484.552 L2345.87 493.151 L2352.22 493.151 L2349.04 484.552 M2347.72 482.249 L2350.37 482.249 L2356.96 499.529 L2354.53 499.529 L2352.95 495.096 L2345.16 495.096 L2343.59 499.529 L2341.12 499.529 L2347.72 482.249 Z\" fill=\"#000000\" fill-rule=\"nonzero\" fill-opacity=\"1\" /><path clip-path=\"url(#clip370)\" d=\"M2370.16 491.705 L2370.16 499.529 L2368.03 499.529 L2368.03 491.774 Q2368.03 489.934 2367.32 489.019 Q2366.6 488.105 2365.16 488.105 Q2363.44 488.105 2362.44 489.205 Q2361.45 490.304 2361.45 492.202 L2361.45 499.529 L2359.31 499.529 L2359.31 486.566 L2361.45 486.566 L2361.45 488.58 Q2362.21 487.411 2363.24 486.832 Q2364.28 486.253 2365.64 486.253 Q2367.87 486.253 2369.02 487.642 Q2370.16 489.019 2370.16 491.705 Z\" fill=\"#000000\" fill-rule=\"nonzero\" fill-opacity=\"1\" /><path clip-path=\"url(#clip370)\" d=\"M2379.81 500.732 Q2378.9 503.047 2378.05 503.753 Q2377.19 504.459 2375.75 504.459 L2374.05 504.459 L2374.05 502.677 L2375.3 502.677 Q2376.18 502.677 2376.67 502.26 Q2377.15 501.843 2377.74 500.293 L2378.13 499.32 L2372.88 486.566 L2375.14 486.566 L2379.19 496.705 L2383.24 486.566 L2385.5 486.566 L2379.81 500.732 Z\" fill=\"#000000\" fill-rule=\"nonzero\" fill-opacity=\"1\" /><path clip-path=\"url(#clip370)\" d=\"M2321.48 972.959 L2324.63 972.959 L2332.29 987.415 L2332.29 972.959 L2334.56 972.959 L2334.56 990.239 L2331.41 990.239 L2323.75 975.783 L2323.75 990.239 L2321.48 990.239 L2321.48 972.959 Z\" fill=\"#000000\" fill-rule=\"nonzero\" fill-opacity=\"1\" /><path clip-path=\"url(#clip370)\" d=\"M2338.9 985.124 L2338.9 977.276 L2341.03 977.276 L2341.03 985.043 Q2341.03 986.883 2341.74 987.809 Q2342.46 988.723 2343.9 988.723 Q2345.62 988.723 2346.62 987.624 Q2347.62 986.524 2347.62 984.626 L2347.62 977.276 L2349.75 977.276 L2349.75 990.239 L2347.62 990.239 L2347.62 988.249 Q2346.85 989.429 2345.82 990.008 Q2344.8 990.575 2343.45 990.575 Q2341.21 990.575 2340.05 989.186 Q2338.9 987.797 2338.9 985.124 M2344.26 976.964 L2344.26 976.964 Z\" fill=\"#000000\" fill-rule=\"nonzero\" fill-opacity=\"1\" /><path clip-path=\"url(#clip370)\" d=\"M2364.23 979.765 Q2365.03 978.33 2366.14 977.647 Q2367.25 976.964 2368.76 976.964 Q2370.78 976.964 2371.88 978.387 Q2372.98 979.8 2372.98 982.415 L2372.98 990.239 L2370.84 990.239 L2370.84 982.485 Q2370.84 980.621 2370.18 979.719 Q2369.52 978.816 2368.17 978.816 Q2366.51 978.816 2365.55 979.915 Q2364.59 981.015 2364.59 982.913 L2364.59 990.239 L2362.45 990.239 L2362.45 982.485 Q2362.45 980.61 2361.79 979.719 Q2361.13 978.816 2359.75 978.816 Q2358.12 978.816 2357.16 979.927 Q2356.2 981.026 2356.2 982.913 L2356.2 990.239 L2354.06 990.239 L2354.06 977.276 L2356.2 977.276 L2356.2 979.29 Q2356.93 978.098 2357.95 977.531 Q2358.97 976.964 2360.37 976.964 Q2361.78 976.964 2362.76 977.681 Q2363.76 978.399 2364.23 979.765 Z\" fill=\"#000000\" fill-rule=\"nonzero\" fill-opacity=\"1\" /><path clip-path=\"url(#clip370)\" d=\"M2386.54 983.769 Q2386.54 981.42 2385.56 980.089 Q2384.6 978.746 2382.91 978.746 Q2381.22 978.746 2380.25 980.089 Q2379.29 981.42 2379.29 983.769 Q2379.29 986.119 2380.25 987.462 Q2381.22 988.793 2382.91 988.793 Q2384.6 988.793 2385.56 987.462 Q2386.54 986.119 2386.54 983.769 M2379.29 979.244 Q2379.96 978.087 2380.98 977.531 Q2382.01 976.964 2383.43 976.964 Q2385.79 976.964 2387.26 978.839 Q2388.75 980.714 2388.75 983.769 Q2388.75 986.825 2387.26 988.7 Q2385.79 990.575 2383.43 990.575 Q2382.01 990.575 2380.98 990.019 Q2379.96 989.452 2379.29 988.295 L2379.29 990.239 L2377.15 990.239 L2377.15 972.23 L2379.29 972.23 L2379.29 979.244 Z\" fill=\"#000000\" fill-rule=\"nonzero\" fill-opacity=\"1\" /><path clip-path=\"url(#clip370)\" d=\"M2403.36 983.225 L2403.36 984.267 L2393.57 984.267 Q2393.71 986.466 2394.89 987.624 Q2396.08 988.769 2398.2 988.769 Q2399.43 988.769 2400.57 988.468 Q2401.73 988.168 2402.87 987.566 L2402.87 989.58 Q2401.72 990.066 2400.52 990.32 Q2399.31 990.575 2398.07 990.575 Q2394.97 990.575 2393.16 988.769 Q2391.35 986.964 2391.35 983.885 Q2391.35 980.702 2393.06 978.839 Q2394.79 976.964 2397.7 976.964 Q2400.32 976.964 2401.84 978.654 Q2403.36 980.332 2403.36 983.225 M2401.23 982.6 Q2401.21 980.853 2400.25 979.811 Q2399.3 978.769 2397.73 978.769 Q2395.94 978.769 2394.87 979.776 Q2393.8 980.783 2393.64 982.612 L2401.23 982.6 Z\" fill=\"#000000\" fill-rule=\"nonzero\" fill-opacity=\"1\" /><path clip-path=\"url(#clip370)\" d=\"M2414.37 979.267 Q2414.01 979.059 2413.58 978.966 Q2413.17 978.862 2412.66 978.862 Q2410.85 978.862 2409.88 980.043 Q2408.92 981.212 2408.92 983.411 L2408.92 990.239 L2406.78 990.239 L2406.78 977.276 L2408.92 977.276 L2408.92 979.29 Q2409.59 978.11 2410.67 977.543 Q2411.74 976.964 2413.28 976.964 Q2413.5 976.964 2413.77 976.999 Q2414.04 977.022 2414.36 977.08 L2414.37 979.267 Z\" fill=\"#000000\" fill-rule=\"nonzero\" fill-opacity=\"1\" /><path clip-path=\"url(#clip370)\" d=\"M2356.9 1413.47 Q2357.65 1413.72 2358.35 1414.56 Q2359.07 1415.39 2359.79 1416.85 L2362.16 1421.57 L2359.65 1421.57 L2357.44 1417.14 Q2356.58 1415.4 2355.77 1414.83 Q2354.97 1414.27 2353.59 1414.27 L2351.04 1414.27 L2351.04 1421.57 L2348.7 1421.57 L2348.7 1404.29 L2353.98 1404.29 Q2356.94 1404.29 2358.4 1405.53 Q2359.86 1406.77 2359.86 1409.27 Q2359.86 1410.9 2359.09 1411.98 Q2358.34 1413.05 2356.9 1413.47 M2351.04 1406.21 L2351.04 1412.35 L2353.98 1412.35 Q2355.67 1412.35 2356.53 1411.57 Q2357.39 1410.78 2357.39 1409.27 Q2357.39 1407.75 2356.53 1406.99 Q2355.67 1406.21 2353.98 1406.21 L2351.04 1406.21 Z\" fill=\"#000000\" fill-rule=\"nonzero\" fill-opacity=\"1\" /><path clip-path=\"url(#clip370)\" d=\"M2375.1 1414.56 L2375.1 1415.6 L2365.31 1415.6 Q2365.45 1417.8 2366.63 1418.96 Q2367.82 1420.1 2369.94 1420.1 Q2371.17 1420.1 2372.31 1419.8 Q2373.47 1419.5 2374.6 1418.9 L2374.6 1420.91 Q2373.46 1421.4 2372.25 1421.65 Q2371.05 1421.91 2369.81 1421.91 Q2366.71 1421.91 2364.89 1420.1 Q2363.09 1418.3 2363.09 1415.22 Q2363.09 1412.03 2364.8 1410.17 Q2366.53 1408.3 2369.44 1408.3 Q2372.06 1408.3 2373.57 1409.99 Q2375.1 1411.66 2375.1 1414.56 M2372.97 1413.93 Q2372.95 1412.18 2371.99 1411.14 Q2371.04 1410.1 2369.46 1410.1 Q2367.68 1410.1 2366.61 1411.11 Q2365.54 1412.12 2365.38 1413.94 L2372.97 1413.93 Z\" fill=\"#000000\" fill-rule=\"nonzero\" fill-opacity=\"1\" /><path clip-path=\"url(#clip370)\" d=\"M2384.49 1415.05 Q2381.91 1415.05 2380.91 1415.65 Q2379.92 1416.24 2379.92 1417.66 Q2379.92 1418.79 2380.66 1419.46 Q2381.41 1420.12 2382.69 1420.12 Q2384.46 1420.12 2385.53 1418.87 Q2386.61 1417.61 2386.61 1415.53 L2386.61 1415.05 L2384.49 1415.05 M2388.74 1414.18 L2388.74 1421.57 L2386.61 1421.57 L2386.61 1419.6 Q2385.88 1420.78 2384.79 1421.35 Q2383.7 1421.91 2382.13 1421.91 Q2380.14 1421.91 2378.96 1420.8 Q2377.79 1419.67 2377.79 1417.8 Q2377.79 1415.61 2379.24 1414.5 Q2380.71 1413.39 2383.62 1413.39 L2386.61 1413.39 L2386.61 1413.18 Q2386.61 1411.71 2385.63 1410.91 Q2384.67 1410.1 2382.93 1410.1 Q2381.81 1410.1 2380.76 1410.37 Q2379.71 1410.63 2378.74 1411.17 L2378.74 1409.2 Q2379.9 1408.75 2381 1408.53 Q2382.1 1408.3 2383.15 1408.3 Q2385.96 1408.3 2387.35 1409.75 Q2388.74 1411.21 2388.74 1414.18 Z\" fill=\"#000000\" fill-rule=\"nonzero\" fill-opacity=\"1\" /><path clip-path=\"url(#clip370)\" d=\"M2393.12 1403.56 L2395.25 1403.56 L2395.25 1421.57 L2393.12 1421.57 L2393.12 1403.56 Z\" fill=\"#000000\" fill-rule=\"nonzero\" fill-opacity=\"1\" /><path clip-path=\"url(#clip370)\" d=\"M2309.39 1773.52 L2311.73 1773.52 L2311.73 1790.8 L2309.39 1790.8 L2309.39 1773.52 Z\" fill=\"#000000\" fill-rule=\"nonzero\" fill-opacity=\"1\" /><path clip-path=\"url(#clip370)\" d=\"M2327.06 1782.97 L2327.06 1790.8 L2324.93 1790.8 L2324.93 1783.04 Q2324.93 1781.2 2324.21 1780.29 Q2323.5 1779.37 2322.06 1779.37 Q2320.34 1779.37 2319.34 1780.47 Q2318.35 1781.57 2318.35 1783.47 L2318.35 1790.8 L2316.21 1790.8 L2316.21 1777.83 L2318.35 1777.83 L2318.35 1779.85 Q2319.11 1778.68 2320.14 1778.1 Q2321.18 1777.52 2322.54 1777.52 Q2324.77 1777.52 2325.92 1778.91 Q2327.06 1780.29 2327.06 1782.97 Z\" fill=\"#000000\" fill-rule=\"nonzero\" fill-opacity=\"1\" /><path clip-path=\"url(#clip370)\" d=\"M2333.42 1774.15 L2333.42 1777.83 L2337.8 1777.83 L2337.8 1779.49 L2333.42 1779.49 L2333.42 1786.53 Q2333.42 1788.11 2333.84 1788.56 Q2334.28 1789.01 2335.62 1789.01 L2337.8 1789.01 L2337.8 1790.8 L2335.62 1790.8 Q2333.15 1790.8 2332.21 1789.88 Q2331.27 1788.96 2331.27 1786.53 L2331.27 1779.49 L2329.71 1779.49 L2329.71 1777.83 L2331.27 1777.83 L2331.27 1774.15 L2333.42 1774.15 Z\" fill=\"#000000\" fill-rule=\"nonzero\" fill-opacity=\"1\" /><path clip-path=\"url(#clip370)\" d=\"M2351.69 1783.78 L2351.69 1784.82 L2341.9 1784.82 Q2342.04 1787.02 2343.22 1788.18 Q2344.41 1789.33 2346.53 1789.33 Q2347.76 1789.33 2348.9 1789.03 Q2350.06 1788.72 2351.19 1788.12 L2351.19 1790.14 Q2350.05 1790.62 2348.84 1790.88 Q2347.64 1791.13 2346.4 1791.13 Q2343.3 1791.13 2341.48 1789.33 Q2339.68 1787.52 2339.68 1784.44 Q2339.68 1781.26 2341.39 1779.4 Q2343.12 1777.52 2346.03 1777.52 Q2348.65 1777.52 2350.16 1779.21 Q2351.69 1780.89 2351.69 1783.78 M2349.56 1783.16 Q2349.54 1781.41 2348.58 1780.37 Q2347.63 1779.33 2346.05 1779.33 Q2344.27 1779.33 2343.2 1780.33 Q2342.13 1781.34 2341.97 1783.17 L2349.56 1783.16 Z\" fill=\"#000000\" fill-rule=\"nonzero\" fill-opacity=\"1\" /><path clip-path=\"url(#clip370)\" d=\"M2363.72 1784.16 Q2363.72 1781.85 2362.76 1780.58 Q2361.81 1779.3 2360.08 1779.3 Q2358.37 1779.3 2357.41 1780.58 Q2356.46 1781.85 2356.46 1784.16 Q2356.46 1786.47 2357.41 1787.74 Q2358.37 1789.01 2360.08 1789.01 Q2361.81 1789.01 2362.76 1787.74 Q2363.72 1786.47 2363.72 1784.16 M2365.85 1789.19 Q2365.85 1792.5 2364.38 1794.11 Q2362.91 1795.73 2359.87 1795.73 Q2358.75 1795.73 2357.76 1795.55 Q2356.76 1795.39 2355.82 1795.04 L2355.82 1792.97 Q2356.76 1793.48 2357.68 1793.72 Q2358.59 1793.97 2359.54 1793.97 Q2361.63 1793.97 2362.68 1792.87 Q2363.72 1791.78 2363.72 1789.57 L2363.72 1788.52 Q2363.06 1789.66 2362.03 1790.23 Q2361 1790.8 2359.56 1790.8 Q2357.18 1790.8 2355.72 1788.98 Q2354.26 1787.16 2354.26 1784.16 Q2354.26 1781.15 2355.72 1779.34 Q2357.18 1777.52 2359.56 1777.52 Q2361 1777.52 2362.03 1778.09 Q2363.06 1778.65 2363.72 1779.8 L2363.72 1777.83 L2365.85 1777.83 L2365.85 1789.19 Z\" fill=\"#000000\" fill-rule=\"nonzero\" fill-opacity=\"1\" /><path clip-path=\"url(#clip370)\" d=\"M2381.32 1783.78 L2381.32 1784.82 L2371.53 1784.82 Q2371.67 1787.02 2372.85 1788.18 Q2374.04 1789.33 2376.16 1789.33 Q2377.39 1789.33 2378.53 1789.03 Q2379.69 1788.72 2380.82 1788.12 L2380.82 1790.14 Q2379.68 1790.62 2378.47 1790.88 Q2377.27 1791.13 2376.03 1791.13 Q2372.93 1791.13 2371.11 1789.33 Q2369.31 1787.52 2369.31 1784.44 Q2369.31 1781.26 2371.02 1779.4 Q2372.74 1777.52 2375.66 1777.52 Q2378.28 1777.52 2379.79 1779.21 Q2381.32 1780.89 2381.32 1783.78 M2379.19 1783.16 Q2379.17 1781.41 2378.21 1780.37 Q2377.26 1779.33 2375.68 1779.33 Q2373.9 1779.33 2372.83 1780.33 Q2371.76 1781.34 2371.6 1783.17 L2379.19 1783.16 Z\" fill=\"#000000\" fill-rule=\"nonzero\" fill-opacity=\"1\" /><path clip-path=\"url(#clip370)\" d=\"M2392.33 1779.82 Q2391.97 1779.62 2391.54 1779.52 Q2391.12 1779.42 2390.61 1779.42 Q2388.81 1779.42 2387.84 1780.6 Q2386.88 1781.77 2386.88 1783.97 L2386.88 1790.8 L2384.74 1790.8 L2384.74 1777.83 L2386.88 1777.83 L2386.88 1779.85 Q2387.55 1778.67 2388.62 1778.1 Q2389.7 1777.52 2391.24 1777.52 Q2391.46 1777.52 2391.73 1777.56 Q2391.99 1777.58 2392.32 1777.64 L2392.33 1779.82 Z\" fill=\"#000000\" fill-rule=\"nonzero\" fill-opacity=\"1\" /><path clip-path=\"url(#clip370)\" d=\"M2523.21 2302.19 L2523.21 2308.52 L2526.96 2308.52 Q2528.85 2308.52 2529.75 2307.74 Q2530.66 2306.96 2530.66 2305.35 Q2530.66 2303.73 2529.75 2302.96 Q2528.85 2302.19 2526.96 2302.19 L2523.21 2302.19 M2523.21 2295.08 L2523.21 2300.29 L2526.67 2300.29 Q2528.38 2300.29 2529.22 2299.65 Q2530.06 2299.01 2530.06 2297.69 Q2530.06 2296.38 2529.22 2295.73 Q2528.38 2295.08 2526.67 2295.08 L2523.21 2295.08 M2520.87 2293.16 L2526.84 2293.16 Q2529.52 2293.16 2530.96 2294.27 Q2532.41 2295.38 2532.41 2297.43 Q2532.41 2299.02 2531.67 2299.96 Q2530.93 2300.89 2529.49 2301.12 Q2531.22 2301.49 2532.17 2302.67 Q2533.13 2303.84 2533.13 2305.6 Q2533.13 2307.92 2531.55 2309.18 Q2529.98 2310.44 2527.07 2310.44 L2520.87 2310.44 L2520.87 2293.16 Z\" fill=\"#000000\" fill-rule=\"nonzero\" fill-opacity=\"1\" /><path clip-path=\"url(#clip370)\" d=\"M2542.06 2298.97 Q2540.35 2298.97 2539.35 2300.31 Q2538.36 2301.64 2538.36 2303.97 Q2538.36 2306.3 2539.34 2307.64 Q2540.34 2308.97 2542.06 2308.97 Q2543.76 2308.97 2544.76 2307.63 Q2545.76 2306.29 2545.76 2303.97 Q2545.76 2301.67 2544.76 2300.33 Q2543.76 2298.97 2542.06 2298.97 M2542.06 2297.17 Q2544.84 2297.17 2546.43 2298.97 Q2548.01 2300.78 2548.01 2303.97 Q2548.01 2307.15 2546.43 2308.97 Q2544.84 2310.78 2542.06 2310.78 Q2539.27 2310.78 2537.69 2308.97 Q2536.11 2307.15 2536.11 2303.97 Q2536.11 2300.78 2537.69 2298.97 Q2539.27 2297.17 2542.06 2297.17 Z\" fill=\"#000000\" fill-rule=\"nonzero\" fill-opacity=\"1\" /><path clip-path=\"url(#clip370)\" d=\"M2556.57 2298.97 Q2554.85 2298.97 2553.86 2300.31 Q2552.86 2301.64 2552.86 2303.97 Q2552.86 2306.3 2553.85 2307.64 Q2554.84 2308.97 2556.57 2308.97 Q2558.27 2308.97 2559.26 2307.63 Q2560.26 2306.29 2560.26 2303.97 Q2560.26 2301.67 2559.26 2300.33 Q2558.27 2298.97 2556.57 2298.97 M2556.57 2297.17 Q2559.34 2297.17 2560.93 2298.97 Q2562.51 2300.78 2562.51 2303.97 Q2562.51 2307.15 2560.93 2308.97 Q2559.34 2310.78 2556.57 2310.78 Q2553.78 2310.78 2552.19 2308.97 Q2550.62 2307.15 2550.62 2303.97 Q2550.62 2300.78 2552.19 2298.97 Q2553.78 2297.17 2556.57 2297.17 Z\" fill=\"#000000\" fill-rule=\"nonzero\" fill-opacity=\"1\" /><path clip-path=\"url(#clip370)\" d=\"M2566.04 2292.43 L2568.17 2292.43 L2568.17 2310.44 L2566.04 2310.44 L2566.04 2292.43 Z\" fill=\"#000000\" fill-rule=\"nonzero\" fill-opacity=\"1\" /><path clip-path=\"url(#clip370)\" d=\"M1748.49 2172.94 Q1745.95 2172.94 1744.44 2174.84 Q1742.95 2176.73 1742.95 2180.01 Q1742.95 2183.27 1744.44 2185.17 Q1745.95 2187.07 1748.49 2187.07 Q1751.04 2187.07 1752.52 2185.17 Q1754.01 2183.27 1754.01 2180.01 Q1754.01 2176.73 1752.52 2174.84 Q1751.04 2172.94 1748.49 2172.94 M1748.49 2171.04 Q1752.13 2171.04 1754.3 2173.48 Q1756.48 2175.91 1756.48 2180.01 Q1756.48 2184.1 1754.3 2186.54 Q1752.13 2188.97 1748.49 2188.97 Q1744.85 2188.97 1742.66 2186.54 Q1740.48 2184.11 1740.48 2180.01 Q1740.48 2175.91 1742.66 2173.48 Q1744.85 2171.04 1748.49 2171.04 Z\" fill=\"#000000\" fill-rule=\"nonzero\" fill-opacity=\"1\" /><path clip-path=\"url(#clip370)\" d=\"M1766.6 2170.62 L1766.6 2172.39 L1764.57 2172.39 Q1763.42 2172.39 1762.97 2172.86 Q1762.53 2173.32 1762.53 2174.52 L1762.53 2175.67 L1766.04 2175.67 L1766.04 2177.32 L1762.53 2177.32 L1762.53 2188.63 L1760.39 2188.63 L1760.39 2177.32 L1758.35 2177.32 L1758.35 2175.67 L1760.39 2175.67 L1760.39 2174.77 Q1760.39 2172.6 1761.4 2171.62 Q1762.4 2170.62 1764.59 2170.62 L1766.6 2170.62 Z\" fill=\"#000000\" fill-rule=\"nonzero\" fill-opacity=\"1\" /><path clip-path=\"url(#clip370)\" d=\"M1774.95 2170.62 L1774.95 2172.39 L1772.91 2172.39 Q1771.77 2172.39 1771.32 2172.86 Q1770.88 2173.32 1770.88 2174.52 L1770.88 2175.67 L1774.38 2175.67 L1774.38 2177.32 L1770.88 2177.32 L1770.88 2188.63 L1768.73 2188.63 L1768.73 2177.32 L1766.7 2177.32 L1766.7 2175.67 L1768.73 2175.67 L1768.73 2174.77 Q1768.73 2172.6 1769.74 2171.62 Q1770.75 2170.62 1772.94 2170.62 L1774.95 2170.62 Z\" fill=\"#000000\" fill-rule=\"nonzero\" fill-opacity=\"1\" /><path clip-path=\"url(#clip370)\" d=\"M1785 2176.05 L1785 2178.07 Q1784.09 2177.6 1783.12 2177.37 Q1782.15 2177.14 1781.11 2177.14 Q1779.52 2177.14 1778.72 2177.63 Q1777.94 2178.11 1777.94 2179.08 Q1777.94 2179.82 1778.5 2180.25 Q1779.07 2180.67 1780.78 2181.05 L1781.51 2181.21 Q1783.78 2181.7 1784.73 2182.59 Q1785.69 2183.47 1785.69 2185.06 Q1785.69 2186.86 1784.26 2187.91 Q1782.83 2188.97 1780.33 2188.97 Q1779.29 2188.97 1778.16 2188.76 Q1777.03 2188.56 1775.78 2188.16 L1775.78 2185.96 Q1776.96 2186.57 1778.11 2186.88 Q1779.26 2187.19 1780.38 2187.19 Q1781.88 2187.19 1782.69 2186.68 Q1783.5 2186.16 1783.5 2185.22 Q1783.5 2184.35 1782.91 2183.89 Q1782.33 2183.42 1780.35 2183 L1779.61 2182.82 Q1777.63 2182.41 1776.76 2181.55 Q1775.88 2180.68 1775.88 2179.18 Q1775.88 2177.35 1777.17 2176.35 Q1778.47 2175.36 1780.85 2175.36 Q1782.03 2175.36 1783.07 2175.53 Q1784.12 2175.7 1785 2176.05 Z\" fill=\"#000000\" fill-rule=\"nonzero\" fill-opacity=\"1\" /><path clip-path=\"url(#clip370)\" d=\"M1800.17 2181.62 L1800.17 2182.66 L1790.38 2182.66 Q1790.52 2184.86 1791.7 2186.02 Q1792.89 2187.16 1795.01 2187.16 Q1796.23 2187.16 1797.38 2186.86 Q1798.54 2186.56 1799.67 2185.96 L1799.67 2187.97 Q1798.53 2188.46 1797.32 2188.71 Q1796.12 2188.97 1794.88 2188.97 Q1791.78 2188.97 1789.96 2187.16 Q1788.16 2185.36 1788.16 2182.28 Q1788.16 2179.1 1789.87 2177.23 Q1791.59 2175.36 1794.51 2175.36 Q1797.13 2175.36 1798.64 2177.05 Q1800.17 2178.72 1800.17 2181.62 M1798.04 2180.99 Q1798.02 2179.25 1797.06 2178.2 Q1796.11 2177.16 1794.53 2177.16 Q1792.75 2177.16 1791.67 2178.17 Q1790.61 2179.18 1790.45 2181 L1798.04 2180.99 Z\" fill=\"#000000\" fill-rule=\"nonzero\" fill-opacity=\"1\" /><path clip-path=\"url(#clip370)\" d=\"M1805.77 2171.99 L1805.77 2175.67 L1810.16 2175.67 L1810.16 2177.32 L1805.77 2177.32 L1805.77 2184.36 Q1805.77 2185.95 1806.2 2186.4 Q1806.64 2186.85 1807.97 2186.85 L1810.16 2186.85 L1810.16 2188.63 L1807.97 2188.63 Q1805.51 2188.63 1804.57 2187.72 Q1803.63 2186.79 1803.63 2184.36 L1803.63 2177.32 L1802.07 2177.32 L1802.07 2175.67 L1803.63 2175.67 L1803.63 2171.99 L1805.77 2171.99 Z\" fill=\"#000000\" fill-rule=\"nonzero\" fill-opacity=\"1\" /><path clip-path=\"url(#clip370)\" d=\"M1813.05 2171.35 L1815.39 2171.35 L1815.39 2188.63 L1813.05 2188.63 L1813.05 2171.35 Z\" fill=\"#000000\" fill-rule=\"nonzero\" fill-opacity=\"1\" /><path clip-path=\"url(#clip370)\" d=\"M1830.72 2180.81 L1830.72 2188.63 L1828.6 2188.63 L1828.6 2180.88 Q1828.6 2179.04 1827.88 2178.12 Q1827.16 2177.21 1825.73 2177.21 Q1824 2177.21 1823.01 2178.31 Q1822.01 2179.41 1822.01 2181.31 L1822.01 2188.63 L1819.87 2188.63 L1819.87 2175.67 L1822.01 2175.67 L1822.01 2177.68 Q1822.77 2176.51 1823.8 2175.94 Q1824.85 2175.36 1826.2 2175.36 Q1828.43 2175.36 1829.58 2176.75 Q1830.72 2178.12 1830.72 2180.81 Z\" fill=\"#000000\" fill-rule=\"nonzero\" fill-opacity=\"1\" /><path clip-path=\"url(#clip370)\" d=\"M1837.08 2171.99 L1837.08 2175.67 L1841.47 2175.67 L1841.47 2177.32 L1837.08 2177.32 L1837.08 2184.36 Q1837.08 2185.95 1837.51 2186.4 Q1837.95 2186.85 1839.28 2186.85 L1841.47 2186.85 L1841.47 2188.63 L1839.28 2188.63 Q1836.81 2188.63 1835.88 2187.72 Q1834.94 2186.79 1834.94 2184.36 L1834.94 2177.32 L1833.38 2177.32 L1833.38 2175.67 L1834.94 2175.67 L1834.94 2171.99 L1837.08 2171.99 Z\" fill=\"#000000\" fill-rule=\"nonzero\" fill-opacity=\"1\" /><path clip-path=\"url(#clip370)\" d=\"M1855.35 2181.62 L1855.35 2182.66 L1845.56 2182.66 Q1845.7 2184.86 1846.88 2186.02 Q1848.07 2187.16 1850.19 2187.16 Q1851.42 2187.16 1852.57 2186.86 Q1853.72 2186.56 1854.86 2185.96 L1854.86 2187.97 Q1853.71 2188.46 1852.51 2188.71 Q1851.3 2188.97 1850.07 2188.97 Q1846.96 2188.97 1845.15 2187.16 Q1843.34 2185.36 1843.34 2182.28 Q1843.34 2179.1 1845.05 2177.23 Q1846.78 2175.36 1849.69 2175.36 Q1852.31 2175.36 1853.83 2177.05 Q1855.35 2178.72 1855.35 2181.62 M1853.22 2180.99 Q1853.2 2179.25 1852.24 2178.2 Q1851.29 2177.16 1849.72 2177.16 Q1847.94 2177.16 1846.86 2178.17 Q1845.79 2179.18 1845.63 2181 L1853.22 2180.99 Z\" fill=\"#000000\" fill-rule=\"nonzero\" fill-opacity=\"1\" /><path clip-path=\"url(#clip370)\" d=\"M1867.38 2182 Q1867.38 2179.69 1866.42 2178.41 Q1865.47 2177.14 1863.75 2177.14 Q1862.03 2177.14 1861.07 2178.41 Q1860.12 2179.69 1860.12 2182 Q1860.12 2184.3 1861.07 2185.58 Q1862.03 2186.85 1863.75 2186.85 Q1865.47 2186.85 1866.42 2185.58 Q1867.38 2184.3 1867.38 2182 M1869.51 2187.02 Q1869.51 2190.33 1868.04 2191.94 Q1866.57 2193.56 1863.54 2193.56 Q1862.41 2193.56 1861.42 2193.39 Q1860.42 2193.23 1859.49 2192.88 L1859.49 2190.81 Q1860.42 2191.32 1861.34 2191.56 Q1862.25 2191.8 1863.2 2191.8 Q1865.3 2191.8 1866.34 2190.7 Q1867.38 2189.62 1867.38 2187.41 L1867.38 2186.35 Q1866.72 2187.5 1865.69 2188.06 Q1864.66 2188.63 1863.22 2188.63 Q1860.84 2188.63 1859.38 2186.82 Q1857.92 2185 1857.92 2182 Q1857.92 2178.99 1859.38 2177.17 Q1860.84 2175.36 1863.22 2175.36 Q1864.66 2175.36 1865.69 2175.92 Q1866.72 2176.49 1867.38 2177.64 L1867.38 2175.67 L1869.51 2175.67 L1869.51 2187.02 Z\" fill=\"#000000\" fill-rule=\"nonzero\" fill-opacity=\"1\" /><path clip-path=\"url(#clip370)\" d=\"M1884.98 2181.62 L1884.98 2182.66 L1875.19 2182.66 Q1875.33 2184.86 1876.51 2186.02 Q1877.7 2187.16 1879.82 2187.16 Q1881.05 2187.16 1882.19 2186.86 Q1883.35 2186.56 1884.49 2185.96 L1884.49 2187.97 Q1883.34 2188.46 1882.14 2188.71 Q1880.93 2188.97 1879.69 2188.97 Q1876.59 2188.97 1874.78 2187.16 Q1872.97 2185.36 1872.97 2182.28 Q1872.97 2179.1 1874.68 2177.23 Q1876.41 2175.36 1879.32 2175.36 Q1881.94 2175.36 1883.46 2177.05 Q1884.98 2178.72 1884.98 2181.62 M1882.85 2180.99 Q1882.83 2179.25 1881.87 2178.2 Q1880.92 2177.16 1879.35 2177.16 Q1877.57 2177.16 1876.49 2178.17 Q1875.42 2179.18 1875.26 2181 L1882.85 2180.99 Z\" fill=\"#000000\" fill-rule=\"nonzero\" fill-opacity=\"1\" /><path clip-path=\"url(#clip370)\" d=\"M1895.99 2177.66 Q1895.63 2177.45 1895.2 2177.36 Q1894.79 2177.25 1894.28 2177.25 Q1892.47 2177.25 1891.5 2178.44 Q1890.54 2179.6 1890.54 2181.8 L1890.54 2188.63 L1888.4 2188.63 L1888.4 2175.67 L1890.54 2175.67 L1890.54 2177.68 Q1891.21 2176.5 1892.29 2175.94 Q1893.36 2175.36 1894.9 2175.36 Q1895.12 2175.36 1895.39 2175.39 Q1895.66 2175.41 1895.98 2175.47 L1895.99 2177.66 Z\" fill=\"#000000\" fill-rule=\"nonzero\" fill-opacity=\"1\" /><path clip-path=\"url(#clip370)\" d=\"M2150.52 2113.15 Q2147.98 2113.15 2146.47 2115.05 Q2144.98 2116.94 2144.98 2120.22 Q2144.98 2123.48 2146.47 2125.38 Q2147.98 2127.28 2150.52 2127.28 Q2153.07 2127.28 2154.55 2125.38 Q2156.04 2123.48 2156.04 2120.22 Q2156.04 2116.94 2154.55 2115.05 Q2153.07 2113.15 2150.52 2113.15 M2150.52 2111.25 Q2154.16 2111.25 2156.33 2113.69 Q2158.51 2116.12 2158.51 2120.22 Q2158.51 2124.31 2156.33 2126.75 Q2154.16 2129.18 2150.52 2129.18 Q2146.88 2129.18 2144.69 2126.75 Q2142.51 2124.32 2142.51 2120.22 Q2142.51 2116.12 2144.69 2113.69 Q2146.88 2111.25 2150.52 2111.25 Z\" fill=\"#000000\" fill-rule=\"nonzero\" fill-opacity=\"1\" /><path clip-path=\"url(#clip370)\" d=\"M2168.64 2110.83 L2168.64 2112.6 L2166.6 2112.6 Q2165.45 2112.6 2165 2113.07 Q2164.56 2113.53 2164.56 2114.73 L2164.56 2115.88 L2168.07 2115.88 L2168.07 2117.54 L2164.56 2117.54 L2164.56 2128.84 L2162.42 2128.84 L2162.42 2117.54 L2160.38 2117.54 L2160.38 2115.88 L2162.42 2115.88 L2162.42 2114.98 Q2162.42 2112.81 2163.43 2111.83 Q2164.43 2110.83 2166.62 2110.83 L2168.64 2110.83 Z\" fill=\"#000000\" fill-rule=\"nonzero\" fill-opacity=\"1\" /><path clip-path=\"url(#clip370)\" d=\"M2176.98 2110.83 L2176.98 2112.6 L2174.94 2112.6 Q2173.8 2112.6 2173.35 2113.07 Q2172.91 2113.53 2172.91 2114.73 L2172.91 2115.88 L2176.41 2115.88 L2176.41 2117.54 L2172.91 2117.54 L2172.91 2128.84 L2170.76 2128.84 L2170.76 2117.54 L2168.73 2117.54 L2168.73 2115.88 L2170.76 2115.88 L2170.76 2114.98 Q2170.76 2112.81 2171.77 2111.83 Q2172.78 2110.83 2174.97 2110.83 L2176.98 2110.83 Z\" fill=\"#000000\" fill-rule=\"nonzero\" fill-opacity=\"1\" /><path clip-path=\"url(#clip370)\" d=\"M2187.03 2116.26 L2187.03 2118.28 Q2186.12 2117.81 2185.15 2117.58 Q2184.18 2117.35 2183.14 2117.35 Q2181.55 2117.35 2180.75 2117.84 Q2179.97 2118.32 2179.97 2119.29 Q2179.97 2120.04 2180.53 2120.46 Q2181.1 2120.88 2182.81 2121.26 L2183.54 2121.42 Q2185.81 2121.91 2186.76 2122.8 Q2187.72 2123.68 2187.72 2125.27 Q2187.72 2127.07 2186.29 2128.13 Q2184.86 2129.18 2182.36 2129.18 Q2181.32 2129.18 2180.19 2128.97 Q2179.06 2128.77 2177.81 2128.37 L2177.81 2126.17 Q2178.99 2126.78 2180.14 2127.1 Q2181.29 2127.4 2182.41 2127.4 Q2183.91 2127.4 2184.72 2126.89 Q2185.53 2126.37 2185.53 2125.43 Q2185.53 2124.56 2184.94 2124.1 Q2184.36 2123.63 2182.39 2123.21 L2181.64 2123.03 Q2179.67 2122.62 2178.79 2121.76 Q2177.91 2120.89 2177.91 2119.39 Q2177.91 2117.56 2179.2 2116.56 Q2180.5 2115.57 2182.88 2115.57 Q2184.06 2115.57 2185.11 2115.74 Q2186.15 2115.91 2187.03 2116.26 Z\" fill=\"#000000\" fill-rule=\"nonzero\" fill-opacity=\"1\" /><path clip-path=\"url(#clip370)\" d=\"M2202.2 2121.83 L2202.2 2122.87 L2192.41 2122.87 Q2192.55 2125.07 2193.73 2126.23 Q2194.92 2127.37 2197.04 2127.37 Q2198.26 2127.37 2199.41 2127.07 Q2200.57 2126.77 2201.7 2126.17 L2201.7 2128.18 Q2200.56 2128.67 2199.35 2128.92 Q2198.15 2129.18 2196.91 2129.18 Q2193.81 2129.18 2191.99 2127.37 Q2190.19 2125.57 2190.19 2122.49 Q2190.19 2119.31 2191.9 2117.44 Q2193.62 2115.57 2196.54 2115.57 Q2199.16 2115.57 2200.67 2117.26 Q2202.2 2118.94 2202.2 2121.83 M2200.07 2121.2 Q2200.05 2119.46 2199.09 2118.41 Q2198.14 2117.37 2196.56 2117.37 Q2194.78 2117.37 2193.7 2118.38 Q2192.64 2119.39 2192.48 2121.22 L2200.07 2121.2 Z\" fill=\"#000000\" fill-rule=\"nonzero\" fill-opacity=\"1\" /><path clip-path=\"url(#clip370)\" d=\"M2207.8 2112.2 L2207.8 2115.88 L2212.19 2115.88 L2212.19 2117.54 L2207.8 2117.54 L2207.8 2124.57 Q2207.8 2126.16 2208.23 2126.61 Q2208.67 2127.06 2210 2127.06 L2212.19 2127.06 L2212.19 2128.84 L2210 2128.84 Q2207.54 2128.84 2206.6 2127.93 Q2205.66 2127 2205.66 2124.57 L2205.66 2117.54 L2204.1 2117.54 L2204.1 2115.88 L2205.66 2115.88 L2205.66 2112.2 L2207.8 2112.2 Z\" fill=\"#000000\" fill-rule=\"nonzero\" fill-opacity=\"1\" /><path clip-path=\"url(#clip370)\" d=\"M2215.08 2111.56 L2217.42 2111.56 L2217.42 2128.84 L2215.08 2128.84 L2215.08 2111.56 Z\" fill=\"#000000\" fill-rule=\"nonzero\" fill-opacity=\"1\" /><path clip-path=\"url(#clip370)\" d=\"M2232.76 2121.02 L2232.76 2128.84 L2230.63 2128.84 L2230.63 2121.09 Q2230.63 2119.25 2229.91 2118.33 Q2229.19 2117.42 2227.76 2117.42 Q2226.03 2117.42 2225.04 2118.52 Q2224.04 2119.62 2224.04 2121.52 L2224.04 2128.84 L2221.9 2128.84 L2221.9 2115.88 L2224.04 2115.88 L2224.04 2117.89 Q2224.8 2116.73 2225.83 2116.15 Q2226.88 2115.57 2228.23 2115.57 Q2230.46 2115.57 2231.61 2116.96 Q2232.76 2118.33 2232.76 2121.02 Z\" fill=\"#000000\" fill-rule=\"nonzero\" fill-opacity=\"1\" /><path clip-path=\"url(#clip370)\" d=\"M2239.11 2112.2 L2239.11 2115.88 L2243.5 2115.88 L2243.5 2117.54 L2239.11 2117.54 L2239.11 2124.57 Q2239.11 2126.16 2239.54 2126.61 Q2239.98 2127.06 2241.31 2127.06 L2243.5 2127.06 L2243.5 2128.84 L2241.31 2128.84 Q2238.84 2128.84 2237.91 2127.93 Q2236.97 2127 2236.97 2124.57 L2236.97 2117.54 L2235.41 2117.54 L2235.41 2115.88 L2236.97 2115.88 L2236.97 2112.2 L2239.11 2112.2 Z\" fill=\"#000000\" fill-rule=\"nonzero\" fill-opacity=\"1\" /><path clip-path=\"url(#clip370)\" d=\"M2257.38 2121.83 L2257.38 2122.87 L2247.59 2122.87 Q2247.73 2125.07 2248.91 2126.23 Q2250.1 2127.37 2252.22 2127.37 Q2253.45 2127.37 2254.6 2127.07 Q2255.75 2126.77 2256.89 2126.17 L2256.89 2128.18 Q2255.74 2128.67 2254.54 2128.92 Q2253.33 2129.18 2252.1 2129.18 Q2248.99 2129.18 2247.18 2127.37 Q2245.37 2125.57 2245.37 2122.49 Q2245.37 2119.31 2247.08 2117.44 Q2248.81 2115.57 2251.73 2115.57 Q2254.34 2115.57 2255.86 2117.26 Q2257.38 2118.94 2257.38 2121.83 M2255.26 2121.2 Q2255.23 2119.46 2254.27 2118.41 Q2253.32 2117.37 2251.75 2117.37 Q2249.97 2117.37 2248.89 2118.38 Q2247.82 2119.39 2247.66 2121.22 L2255.26 2121.2 Z\" fill=\"#000000\" fill-rule=\"nonzero\" fill-opacity=\"1\" /><path clip-path=\"url(#clip370)\" d=\"M2269.41 2122.21 Q2269.41 2119.9 2268.45 2118.62 Q2267.5 2117.35 2265.78 2117.35 Q2264.06 2117.35 2263.1 2118.62 Q2262.15 2119.9 2262.15 2122.21 Q2262.15 2124.51 2263.1 2125.79 Q2264.06 2127.06 2265.78 2127.06 Q2267.5 2127.06 2268.45 2125.79 Q2269.41 2124.51 2269.41 2122.21 M2271.54 2127.23 Q2271.54 2130.54 2270.07 2132.15 Q2268.6 2133.77 2265.57 2133.77 Q2264.44 2133.77 2263.45 2133.6 Q2262.45 2133.44 2261.52 2133.09 L2261.52 2131.02 Q2262.45 2131.53 2263.37 2131.77 Q2264.28 2132.01 2265.23 2132.01 Q2267.33 2132.01 2268.37 2130.91 Q2269.41 2129.83 2269.41 2127.62 L2269.41 2126.56 Q2268.75 2127.71 2267.72 2128.28 Q2266.69 2128.84 2265.26 2128.84 Q2262.87 2128.84 2261.41 2127.03 Q2259.95 2125.21 2259.95 2122.21 Q2259.95 2119.2 2261.41 2117.38 Q2262.87 2115.57 2265.26 2115.57 Q2266.69 2115.57 2267.72 2116.13 Q2268.75 2116.7 2269.41 2117.85 L2269.41 2115.88 L2271.54 2115.88 L2271.54 2127.23 Z\" fill=\"#000000\" fill-rule=\"nonzero\" fill-opacity=\"1\" /><path clip-path=\"url(#clip370)\" d=\"M2287.01 2121.83 L2287.01 2122.87 L2277.22 2122.87 Q2277.36 2125.07 2278.54 2126.23 Q2279.73 2127.37 2281.85 2127.37 Q2283.08 2127.37 2284.22 2127.07 Q2285.38 2126.77 2286.52 2126.17 L2286.52 2128.18 Q2285.37 2128.67 2284.17 2128.92 Q2282.96 2129.18 2281.72 2129.18 Q2278.62 2129.18 2276.81 2127.37 Q2275 2125.57 2275 2122.49 Q2275 2119.31 2276.71 2117.44 Q2278.44 2115.57 2281.35 2115.57 Q2283.97 2115.57 2285.49 2117.26 Q2287.01 2118.94 2287.01 2121.83 M2284.88 2121.2 Q2284.86 2119.46 2283.9 2118.41 Q2282.95 2117.37 2281.38 2117.37 Q2279.6 2117.37 2278.52 2118.38 Q2277.45 2119.39 2277.29 2121.22 L2284.88 2121.2 Z\" fill=\"#000000\" fill-rule=\"nonzero\" fill-opacity=\"1\" /><path clip-path=\"url(#clip370)\" d=\"M2298.02 2117.87 Q2297.66 2117.66 2297.23 2117.57 Q2296.82 2117.47 2296.31 2117.47 Q2294.5 2117.47 2293.53 2118.65 Q2292.57 2119.82 2292.57 2122.01 L2292.57 2128.84 L2290.43 2128.84 L2290.43 2115.88 L2292.57 2115.88 L2292.57 2117.89 Q2293.24 2116.71 2294.32 2116.15 Q2295.39 2115.57 2296.93 2115.57 Q2297.15 2115.57 2297.42 2115.6 Q2297.69 2115.63 2298.01 2115.68 L2298.02 2117.87 Z\" fill=\"#000000\" fill-rule=\"nonzero\" fill-opacity=\"1\" /><path clip-path=\"url(#clip370)\" d=\"M1843.26 2221.08 L1843.26 2223.36 Q1841.93 2222.73 1840.75 2222.41 Q1839.57 2222.1 1838.47 2222.1 Q1836.56 2222.1 1835.52 2222.84 Q1834.49 2223.58 1834.49 2224.95 Q1834.49 2226.1 1835.17 2226.69 Q1835.87 2227.26 1837.79 2227.62 L1839.2 2227.91 Q1841.81 2228.41 1843.05 2229.67 Q1844.3 2230.92 1844.3 2233.03 Q1844.3 2235.54 1842.61 2236.84 Q1840.93 2238.13 1837.68 2238.13 Q1836.46 2238.13 1835.07 2237.85 Q1833.69 2237.58 1832.21 2237.03 L1832.21 2234.63 Q1833.63 2235.42 1835 2235.83 Q1836.36 2236.23 1837.68 2236.23 Q1839.68 2236.23 1840.77 2235.45 Q1841.86 2234.66 1841.86 2233.2 Q1841.86 2231.93 1841.07 2231.21 Q1840.3 2230.49 1838.52 2230.13 L1837.09 2229.86 Q1834.48 2229.34 1833.31 2228.22 Q1832.14 2227.11 1832.14 2225.13 Q1832.14 2222.84 1833.75 2221.52 Q1835.37 2220.2 1838.2 2220.2 Q1839.42 2220.2 1840.68 2220.42 Q1841.94 2220.64 1843.26 2221.08 Z\" fill=\"#000000\" fill-rule=\"nonzero\" fill-opacity=\"1\" /><path clip-path=\"url(#clip370)\" d=\"M1847.86 2224.83 L1849.99 2224.83 L1849.99 2237.8 L1847.86 2237.8 L1847.86 2224.83 M1847.86 2219.79 L1849.99 2219.79 L1849.99 2222.48 L1847.86 2222.48 L1847.86 2219.79 Z\" fill=\"#000000\" fill-rule=\"nonzero\" fill-opacity=\"1\" /><path clip-path=\"url(#clip370)\" d=\"M1862.97 2231.16 Q1862.97 2228.85 1862.01 2227.58 Q1861.06 2226.3 1859.34 2226.3 Q1857.62 2226.3 1856.66 2227.58 Q1855.71 2228.85 1855.71 2231.16 Q1855.71 2233.47 1856.66 2234.74 Q1857.62 2236.01 1859.34 2236.01 Q1861.06 2236.01 1862.01 2234.74 Q1862.97 2233.47 1862.97 2231.16 M1865.1 2236.19 Q1865.1 2239.5 1863.63 2241.11 Q1862.16 2242.73 1859.13 2242.73 Q1858.01 2242.73 1857.01 2242.55 Q1856.02 2242.39 1855.08 2242.04 L1855.08 2239.97 Q1856.02 2240.48 1856.93 2240.72 Q1857.84 2240.97 1858.79 2240.97 Q1860.89 2240.97 1861.93 2239.87 Q1862.97 2238.78 1862.97 2236.57 L1862.97 2235.52 Q1862.31 2236.66 1861.28 2237.23 Q1860.25 2237.8 1858.82 2237.8 Q1856.43 2237.8 1854.97 2235.98 Q1853.52 2234.16 1853.52 2231.16 Q1853.52 2228.16 1854.97 2226.34 Q1856.43 2224.52 1858.82 2224.52 Q1860.25 2224.52 1861.28 2225.09 Q1862.31 2225.66 1862.97 2226.8 L1862.97 2224.83 L1865.1 2224.83 L1865.1 2236.19 Z\" fill=\"#000000\" fill-rule=\"nonzero\" fill-opacity=\"1\" /><path clip-path=\"url(#clip370)\" d=\"M1880.26 2229.97 L1880.26 2237.8 L1878.13 2237.8 L1878.13 2230.04 Q1878.13 2228.2 1877.42 2227.29 Q1876.7 2226.37 1875.26 2226.37 Q1873.54 2226.37 1872.54 2227.47 Q1871.55 2228.57 1871.55 2230.47 L1871.55 2237.8 L1869.41 2237.8 L1869.41 2224.83 L1871.55 2224.83 L1871.55 2226.85 Q1872.31 2225.68 1873.34 2225.1 Q1874.38 2224.52 1875.74 2224.52 Q1877.97 2224.52 1879.12 2225.91 Q1880.26 2227.29 1880.26 2229.97 Z\" fill=\"#000000\" fill-rule=\"nonzero\" fill-opacity=\"1\" /><path clip-path=\"url(#clip370)\" d=\"M1895.6 2230.78 L1895.6 2231.82 L1885.81 2231.82 Q1885.95 2234.02 1887.13 2235.18 Q1888.32 2236.33 1890.44 2236.33 Q1891.66 2236.33 1892.81 2236.03 Q1893.97 2235.72 1895.1 2235.12 L1895.1 2237.14 Q1893.96 2237.62 1892.75 2237.88 Q1891.55 2238.13 1890.31 2238.13 Q1887.21 2238.13 1885.39 2236.33 Q1883.58 2234.52 1883.58 2231.44 Q1883.58 2228.26 1885.3 2226.4 Q1887.02 2224.52 1889.94 2224.52 Q1892.55 2224.52 1894.07 2226.21 Q1895.6 2227.89 1895.6 2230.78 M1893.47 2230.16 Q1893.45 2228.41 1892.49 2227.37 Q1891.54 2226.33 1889.96 2226.33 Q1888.18 2226.33 1887.1 2227.33 Q1886.04 2228.34 1885.88 2230.17 L1893.47 2230.16 Z\" fill=\"#000000\" fill-rule=\"nonzero\" fill-opacity=\"1\" /><path clip-path=\"url(#clip370)\" d=\"M1907.62 2226.8 L1907.62 2219.79 L1909.75 2219.79 L1909.75 2237.8 L1907.62 2237.8 L1907.62 2235.85 Q1906.95 2237.01 1905.92 2237.58 Q1904.9 2238.13 1903.47 2238.13 Q1901.12 2238.13 1899.64 2236.26 Q1898.17 2234.38 1898.17 2231.33 Q1898.17 2228.27 1899.64 2226.4 Q1901.12 2224.52 1903.47 2224.52 Q1904.9 2224.52 1905.92 2225.09 Q1906.95 2225.64 1907.62 2226.8 M1900.37 2231.33 Q1900.37 2233.68 1901.33 2235.02 Q1902.3 2236.35 1903.99 2236.35 Q1905.68 2236.35 1906.65 2235.02 Q1907.62 2233.68 1907.62 2231.33 Q1907.62 2228.98 1906.65 2227.65 Q1905.68 2226.3 1903.99 2226.3 Q1902.3 2226.3 1901.33 2227.65 Q1900.37 2228.98 1900.37 2231.33 Z\" fill=\"#000000\" fill-rule=\"nonzero\" fill-opacity=\"1\" /><path clip-path=\"url(#clip370)\" d=\"M1584.78 2709.5 L1584.78 2715.83 L1588.53 2715.83 Q1590.41 2715.83 1591.31 2715.05 Q1592.23 2714.27 1592.23 2712.66 Q1592.23 2711.04 1591.31 2710.27 Q1590.41 2709.5 1588.53 2709.5 L1584.78 2709.5 M1584.78 2702.39 L1584.78 2707.6 L1588.24 2707.6 Q1589.95 2707.6 1590.78 2706.96 Q1591.63 2706.32 1591.63 2705 Q1591.63 2703.69 1590.78 2703.04 Q1589.95 2702.39 1588.24 2702.39 L1584.78 2702.39 M1582.44 2700.47 L1588.41 2700.47 Q1591.08 2700.47 1592.53 2701.58 Q1593.98 2702.69 1593.98 2704.74 Q1593.98 2706.33 1593.24 2707.27 Q1592.5 2708.2 1591.06 2708.43 Q1592.78 2708.8 1593.73 2709.99 Q1594.69 2711.15 1594.69 2712.91 Q1594.69 2715.23 1593.12 2716.49 Q1591.55 2717.75 1588.64 2717.75 L1582.44 2717.75 L1582.44 2700.47 Z\" fill=\"#000000\" fill-rule=\"nonzero\" fill-opacity=\"1\" /><path clip-path=\"url(#clip370)\" d=\"M1598.61 2704.79 L1600.74 2704.79 L1600.74 2717.75 L1598.61 2717.75 L1598.61 2704.79 M1598.61 2699.74 L1600.74 2699.74 L1600.74 2702.44 L1598.61 2702.44 L1598.61 2699.74 Z\" fill=\"#000000\" fill-rule=\"nonzero\" fill-opacity=\"1\" /><path clip-path=\"url(#clip370)\" d=\"M1613.72 2711.12 Q1613.72 2708.8 1612.76 2707.53 Q1611.81 2706.26 1610.09 2706.26 Q1608.37 2706.26 1607.41 2707.53 Q1606.46 2708.8 1606.46 2711.12 Q1606.46 2713.42 1607.41 2714.7 Q1608.37 2715.97 1610.09 2715.97 Q1611.81 2715.97 1612.76 2714.7 Q1613.72 2713.42 1613.72 2711.12 M1615.85 2716.14 Q1615.85 2719.45 1614.38 2721.06 Q1612.91 2722.68 1609.88 2722.68 Q1608.76 2722.68 1607.76 2722.51 Q1606.77 2722.35 1605.83 2722 L1605.83 2719.93 Q1606.77 2720.44 1607.68 2720.68 Q1608.59 2720.92 1609.54 2720.92 Q1611.64 2720.92 1612.68 2719.82 Q1613.72 2718.74 1613.72 2716.52 L1613.72 2715.47 Q1613.06 2716.62 1612.03 2717.18 Q1611 2717.75 1609.57 2717.75 Q1607.18 2717.75 1605.72 2715.93 Q1604.27 2714.12 1604.27 2711.12 Q1604.27 2708.11 1605.72 2706.29 Q1607.18 2704.48 1609.57 2704.48 Q1611 2704.48 1612.03 2705.04 Q1613.06 2705.61 1613.72 2706.76 L1613.72 2704.79 L1615.85 2704.79 L1615.85 2716.14 Z\" fill=\"#000000\" fill-rule=\"nonzero\" fill-opacity=\"1\" /><path clip-path=\"url(#clip370)\" d=\"M1620.33 2700.47 L1622.67 2700.47 L1622.67 2717.75 L1620.33 2717.75 L1620.33 2700.47 Z\" fill=\"#000000\" fill-rule=\"nonzero\" fill-opacity=\"1\" /><path clip-path=\"url(#clip370)\" d=\"M1638 2709.93 L1638 2717.75 L1635.87 2717.75 L1635.87 2710 Q1635.87 2708.16 1635.16 2707.24 Q1634.44 2706.33 1633 2706.33 Q1631.28 2706.33 1630.28 2707.43 Q1629.29 2708.53 1629.29 2710.43 L1629.29 2717.75 L1627.15 2717.75 L1627.15 2704.79 L1629.29 2704.79 L1629.29 2706.8 Q1630.05 2705.63 1631.08 2705.05 Q1632.12 2704.48 1633.48 2704.48 Q1635.71 2704.48 1636.86 2705.86 Q1638 2707.24 1638 2709.93 Z\" fill=\"#000000\" fill-rule=\"nonzero\" fill-opacity=\"1\" /><path clip-path=\"url(#clip370)\" d=\"M1644.36 2701.11 L1644.36 2704.79 L1648.74 2704.79 L1648.74 2706.44 L1644.36 2706.44 L1644.36 2713.48 Q1644.36 2715.07 1644.79 2715.52 Q1645.23 2715.97 1646.56 2715.97 L1648.74 2715.97 L1648.74 2717.75 L1646.56 2717.75 Q1644.09 2717.75 1643.15 2716.84 Q1642.22 2715.91 1642.22 2713.48 L1642.22 2706.44 L1640.65 2706.44 L1640.65 2704.79 L1642.22 2704.79 L1642.22 2701.11 L1644.36 2701.11 Z\" fill=\"#000000\" fill-rule=\"nonzero\" fill-opacity=\"1\" /><path clip-path=\"url(#clip370)\" d=\"M1790.76 2687.66 L1793.1 2687.66 L1793.1 2704.94 L1790.76 2704.94 L1790.76 2687.66 Z\" fill=\"#000000\" fill-rule=\"nonzero\" fill-opacity=\"1\" /><path clip-path=\"url(#clip370)\" d=\"M1808.43 2697.12 L1808.43 2704.94 L1806.3 2704.94 L1806.3 2697.19 Q1806.3 2695.35 1805.58 2694.43 Q1804.87 2693.52 1803.43 2693.52 Q1801.71 2693.52 1800.71 2694.62 Q1799.72 2695.72 1799.72 2697.62 L1799.72 2704.94 L1797.57 2704.94 L1797.57 2691.98 L1799.72 2691.98 L1799.72 2693.99 Q1800.48 2692.83 1801.51 2692.25 Q1802.55 2691.67 1803.91 2691.67 Q1806.14 2691.67 1807.29 2693.06 Q1808.43 2694.43 1808.43 2697.12 Z\" fill=\"#000000\" fill-rule=\"nonzero\" fill-opacity=\"1\" /><path clip-path=\"url(#clip370)\" d=\"M1814.78 2688.3 L1814.78 2691.98 L1819.17 2691.98 L1819.17 2693.64 L1814.78 2693.64 L1814.78 2700.67 Q1814.78 2702.26 1815.21 2702.71 Q1815.65 2703.16 1816.98 2703.16 L1819.17 2703.16 L1819.17 2704.94 L1816.98 2704.94 Q1814.52 2704.94 1813.58 2704.03 Q1812.64 2703.1 1812.64 2700.67 L1812.64 2693.64 L1811.08 2693.64 L1811.08 2691.98 L1812.64 2691.98 L1812.64 2688.3 L1814.78 2688.3 Z\" fill=\"#000000\" fill-rule=\"nonzero\" fill-opacity=\"1\" /><path clip-path=\"url(#clip370)\" d=\"M1822.68 2702.98 L1826.5 2702.98 L1826.5 2689.79 L1822.34 2690.63 L1822.34 2688.5 L1826.47 2687.66 L1828.81 2687.66 L1828.81 2702.98 L1832.63 2702.98 L1832.63 2704.94 L1822.68 2704.94 L1822.68 2702.98 Z\" fill=\"#000000\" fill-rule=\"nonzero\" fill-opacity=\"1\" /><path clip-path=\"url(#clip370)\" d=\"M1839.37 2702.98 L1847.53 2702.98 L1847.53 2704.94 L1836.56 2704.94 L1836.56 2702.98 Q1837.89 2701.6 1840.18 2699.28 Q1842.48 2696.96 1843.07 2696.29 Q1844.19 2695.02 1844.63 2694.16 Q1845.09 2693.28 1845.09 2692.43 Q1845.09 2691.05 1844.11 2690.19 Q1843.15 2689.32 1841.6 2689.32 Q1840.5 2689.32 1839.28 2689.7 Q1838.06 2690.08 1836.67 2690.86 L1836.67 2688.5 Q1838.08 2687.93 1839.31 2687.64 Q1840.54 2687.35 1841.56 2687.35 Q1844.24 2687.35 1845.84 2688.69 Q1847.44 2690.04 1847.44 2692.28 Q1847.44 2693.35 1847.03 2694.31 Q1846.64 2695.26 1845.58 2696.55 Q1845.29 2696.89 1843.74 2698.5 Q1842.19 2700.09 1839.37 2702.98 Z\" fill=\"#000000\" fill-rule=\"nonzero\" fill-opacity=\"1\" /><path clip-path=\"url(#clip370)\" d=\"M1857.44 2696.74 Q1855.77 2696.74 1854.81 2697.63 Q1853.86 2698.52 1853.86 2700.08 Q1853.86 2701.64 1854.81 2702.54 Q1855.77 2703.43 1857.44 2703.43 Q1859.1 2703.43 1860.06 2702.54 Q1861.02 2701.63 1861.02 2700.08 Q1861.02 2698.52 1860.06 2697.63 Q1859.11 2696.74 1857.44 2696.74 M1855.1 2695.74 Q1853.59 2695.37 1852.75 2694.34 Q1851.91 2693.31 1851.91 2691.83 Q1851.91 2689.76 1853.38 2688.55 Q1854.87 2687.35 1857.44 2687.35 Q1860.02 2687.35 1861.49 2688.55 Q1862.96 2689.76 1862.96 2691.83 Q1862.96 2693.31 1862.11 2694.34 Q1861.28 2695.37 1859.78 2695.74 Q1861.47 2696.14 1862.41 2697.28 Q1863.36 2698.43 1863.36 2700.08 Q1863.36 2702.59 1861.82 2703.94 Q1860.29 2705.28 1857.44 2705.28 Q1854.58 2705.28 1853.04 2703.94 Q1851.51 2702.59 1851.51 2700.08 Q1851.51 2698.43 1852.46 2697.28 Q1853.41 2696.14 1855.1 2695.74 M1854.24 2692.05 Q1854.24 2693.39 1855.07 2694.14 Q1855.92 2694.9 1857.44 2694.9 Q1858.94 2694.9 1859.78 2694.14 Q1860.64 2693.39 1860.64 2692.05 Q1860.64 2690.71 1859.78 2689.95 Q1858.94 2689.2 1857.44 2689.2 Q1855.92 2689.2 1855.07 2689.95 Q1854.24 2690.71 1854.24 2692.05 Z\" fill=\"#000000\" fill-rule=\"nonzero\" fill-opacity=\"1\" /><path clip-path=\"url(#clip370)\" d=\"M1398.31 2651.9 L1400.65 2651.9 L1400.65 2669.18 L1398.31 2669.18 L1398.31 2651.9 Z\" fill=\"#000000\" fill-rule=\"nonzero\" fill-opacity=\"1\" /><path clip-path=\"url(#clip370)\" d=\"M1415.99 2661.35 L1415.99 2669.18 L1413.86 2669.18 L1413.86 2661.42 Q1413.86 2659.58 1413.14 2658.67 Q1412.42 2657.75 1410.99 2657.75 Q1409.26 2657.75 1408.27 2658.85 Q1407.27 2659.95 1407.27 2661.85 L1407.27 2669.18 L1405.13 2669.18 L1405.13 2656.21 L1407.27 2656.21 L1407.27 2658.23 Q1408.04 2657.06 1409.07 2656.48 Q1410.11 2655.9 1411.46 2655.9 Q1413.7 2655.9 1414.84 2657.29 Q1415.99 2658.67 1415.99 2661.35 Z\" fill=\"#000000\" fill-rule=\"nonzero\" fill-opacity=\"1\" /><path clip-path=\"url(#clip370)\" d=\"M1422.34 2652.53 L1422.34 2656.21 L1426.73 2656.21 L1426.73 2657.87 L1422.34 2657.87 L1422.34 2664.91 Q1422.34 2666.49 1422.77 2666.94 Q1423.21 2667.39 1424.54 2667.39 L1426.73 2667.39 L1426.73 2669.18 L1424.54 2669.18 Q1422.08 2669.18 1421.14 2668.26 Q1420.2 2667.34 1420.2 2664.91 L1420.2 2657.87 L1418.64 2657.87 L1418.64 2656.21 L1420.2 2656.21 L1420.2 2652.53 L1422.34 2652.53 Z\" fill=\"#000000\" fill-rule=\"nonzero\" fill-opacity=\"1\" /><path clip-path=\"url(#clip370)\" d=\"M1430.24 2667.21 L1434.06 2667.21 L1434.06 2654.03 L1429.9 2654.86 L1429.9 2652.73 L1434.03 2651.9 L1436.37 2651.9 L1436.37 2667.21 L1440.19 2667.21 L1440.19 2669.18 L1430.24 2669.18 L1430.24 2667.21 Z\" fill=\"#000000\" fill-rule=\"nonzero\" fill-opacity=\"1\" /><path clip-path=\"url(#clip370)\" d=\"M1450.2 2659.6 Q1448.63 2659.6 1447.7 2660.68 Q1446.79 2661.76 1446.79 2663.63 Q1446.79 2665.5 1447.7 2666.58 Q1448.63 2667.66 1450.2 2667.66 Q1451.77 2667.66 1452.69 2666.58 Q1453.62 2665.5 1453.62 2663.63 Q1453.62 2661.76 1452.69 2660.68 Q1451.77 2659.6 1450.2 2659.6 M1454.84 2652.28 L1454.84 2654.41 Q1453.96 2653.99 1453.06 2653.77 Q1452.17 2653.55 1451.29 2653.55 Q1448.97 2653.55 1447.75 2655.11 Q1446.53 2656.68 1446.36 2659.84 Q1447.04 2658.83 1448.07 2658.3 Q1449.1 2657.75 1450.34 2657.75 Q1452.94 2657.75 1454.45 2659.34 Q1455.96 2660.91 1455.96 2663.63 Q1455.96 2666.29 1454.39 2667.9 Q1452.82 2669.51 1450.2 2669.51 Q1447.2 2669.51 1445.62 2667.22 Q1444.03 2664.92 1444.03 2660.55 Q1444.03 2656.46 1445.98 2654.03 Q1447.92 2651.58 1451.2 2651.58 Q1452.08 2651.58 1452.97 2651.76 Q1453.87 2651.93 1454.84 2652.28 Z\" fill=\"#000000\" fill-rule=\"nonzero\" fill-opacity=\"1\" /><path clip-path=\"url(#clip370)\" d=\"M1262.5 2564.1 L1264.84 2564.1 L1264.84 2581.38 L1262.5 2581.38 L1262.5 2564.1 Z\" fill=\"#000000\" fill-rule=\"nonzero\" fill-opacity=\"1\" /><path clip-path=\"url(#clip370)\" d=\"M1280.18 2573.56 L1280.18 2581.38 L1278.05 2581.38 L1278.05 2573.63 Q1278.05 2571.79 1277.33 2570.87 Q1276.61 2569.96 1275.18 2569.96 Q1273.45 2569.96 1272.46 2571.06 Q1271.46 2572.16 1271.46 2574.06 L1271.46 2581.38 L1269.32 2581.38 L1269.32 2568.42 L1271.46 2568.42 L1271.46 2570.43 Q1272.23 2569.26 1273.26 2568.69 Q1274.3 2568.11 1275.65 2568.11 Q1277.89 2568.11 1279.03 2569.5 Q1280.18 2570.87 1280.18 2573.56 Z\" fill=\"#000000\" fill-rule=\"nonzero\" fill-opacity=\"1\" /><path clip-path=\"url(#clip370)\" d=\"M1286.53 2564.74 L1286.53 2568.42 L1290.92 2568.42 L1290.92 2570.07 L1286.53 2570.07 L1286.53 2577.11 Q1286.53 2578.7 1286.96 2579.15 Q1287.4 2579.6 1288.73 2579.6 L1290.92 2579.6 L1290.92 2581.38 L1288.73 2581.38 Q1286.26 2581.38 1285.33 2580.47 Q1284.39 2579.54 1284.39 2577.11 L1284.39 2570.07 L1282.83 2570.07 L1282.83 2568.42 L1284.39 2568.42 L1284.39 2564.74 L1286.53 2564.74 Z\" fill=\"#000000\" fill-rule=\"nonzero\" fill-opacity=\"1\" /><path clip-path=\"url(#clip370)\" d=\"M1301.1 2572.06 Q1302.78 2572.42 1303.72 2573.56 Q1304.67 2574.69 1304.67 2576.36 Q1304.67 2578.92 1302.91 2580.32 Q1301.15 2581.72 1297.91 2581.72 Q1296.82 2581.72 1295.66 2581.5 Q1294.52 2581.29 1293.29 2580.86 L1293.29 2578.6 Q1294.26 2579.17 1295.42 2579.46 Q1296.58 2579.75 1297.84 2579.75 Q1300.04 2579.75 1301.18 2578.88 Q1302.34 2578.01 1302.34 2576.36 Q1302.34 2574.83 1301.26 2573.97 Q1300.2 2573.11 1298.29 2573.11 L1296.28 2573.11 L1296.28 2571.19 L1298.38 2571.19 Q1300.11 2571.19 1301.02 2570.5 Q1301.94 2569.81 1301.94 2568.51 Q1301.94 2567.18 1300.99 2566.47 Q1300.05 2565.76 1298.29 2565.76 Q1297.33 2565.76 1296.23 2565.97 Q1295.13 2566.17 1293.81 2566.61 L1293.81 2564.53 Q1295.14 2564.16 1296.3 2563.97 Q1297.47 2563.79 1298.5 2563.79 Q1301.16 2563.79 1302.71 2565 Q1304.26 2566.21 1304.26 2568.27 Q1304.26 2569.7 1303.44 2570.7 Q1302.62 2571.68 1301.1 2572.06 Z\" fill=\"#000000\" fill-rule=\"nonzero\" fill-opacity=\"1\" /><path clip-path=\"url(#clip370)\" d=\"M1311.11 2579.41 L1319.27 2579.41 L1319.27 2581.38 L1308.3 2581.38 L1308.3 2579.41 Q1309.63 2578.04 1311.92 2575.72 Q1314.23 2573.4 1314.82 2572.72 Q1315.94 2571.46 1316.38 2570.59 Q1316.83 2569.72 1316.83 2568.87 Q1316.83 2567.49 1315.86 2566.62 Q1314.9 2565.76 1313.35 2565.76 Q1312.25 2565.76 1311.02 2566.14 Q1309.81 2566.52 1308.42 2567.3 L1308.42 2564.94 Q1309.83 2564.37 1311.06 2564.08 Q1312.28 2563.79 1313.3 2563.79 Q1315.99 2563.79 1317.58 2565.13 Q1319.18 2566.47 1319.18 2568.72 Q1319.18 2569.78 1318.78 2570.75 Q1318.38 2571.69 1317.33 2572.99 Q1317.04 2573.33 1315.49 2574.94 Q1313.94 2576.53 1311.11 2579.41 Z\" fill=\"#000000\" fill-rule=\"nonzero\" fill-opacity=\"1\" /><path clip-path=\"url(#clip370)\" d=\"M2051.9 2684.93 L2054.24 2684.93 L2054.24 2702.21 L2051.9 2702.21 L2051.9 2684.93 Z\" fill=\"#000000\" fill-rule=\"nonzero\" fill-opacity=\"1\" /><path clip-path=\"url(#clip370)\" d=\"M2069.58 2694.39 L2069.58 2702.21 L2067.45 2702.21 L2067.45 2694.45 Q2067.45 2692.61 2066.73 2691.7 Q2066.01 2690.79 2064.58 2690.79 Q2062.85 2690.79 2061.86 2691.89 Q2060.86 2692.98 2060.86 2694.88 L2060.86 2702.21 L2058.72 2702.21 L2058.72 2689.25 L2060.86 2689.25 L2060.86 2691.26 Q2061.62 2690.09 2062.65 2689.51 Q2063.7 2688.93 2065.05 2688.93 Q2067.28 2688.93 2068.43 2690.32 Q2069.58 2691.7 2069.58 2694.39 Z\" fill=\"#000000\" fill-rule=\"nonzero\" fill-opacity=\"1\" /><path clip-path=\"url(#clip370)\" d=\"M2075.93 2685.57 L2075.93 2689.25 L2080.32 2689.25 L2080.32 2690.9 L2075.93 2690.9 L2075.93 2697.94 Q2075.93 2699.52 2076.36 2699.98 Q2076.8 2700.43 2078.13 2700.43 L2080.32 2700.43 L2080.32 2702.21 L2078.13 2702.21 Q2075.66 2702.21 2074.73 2701.29 Q2073.79 2700.37 2073.79 2697.94 L2073.79 2690.9 L2072.23 2690.9 L2072.23 2689.25 L2073.79 2689.25 L2073.79 2685.57 L2075.93 2685.57 Z\" fill=\"#000000\" fill-rule=\"nonzero\" fill-opacity=\"1\" /><path clip-path=\"url(#clip370)\" d=\"M2088.71 2692.64 Q2087.13 2692.64 2086.21 2693.71 Q2085.29 2694.79 2085.29 2696.67 Q2085.29 2698.53 2086.21 2699.62 Q2087.13 2700.69 2088.71 2700.69 Q2090.28 2700.69 2091.2 2699.62 Q2092.12 2698.53 2092.12 2696.67 Q2092.12 2694.79 2091.2 2693.71 Q2090.28 2692.64 2088.71 2692.64 M2093.35 2685.31 L2093.35 2687.44 Q2092.47 2687.02 2091.57 2686.8 Q2090.67 2686.58 2089.8 2686.58 Q2087.48 2686.58 2086.25 2688.15 Q2085.04 2689.71 2084.86 2692.87 Q2085.55 2691.86 2086.58 2691.33 Q2087.61 2690.79 2088.85 2690.79 Q2091.45 2690.79 2092.95 2692.37 Q2094.47 2693.95 2094.47 2696.67 Q2094.47 2699.33 2092.9 2700.94 Q2091.32 2702.54 2088.71 2702.54 Q2085.71 2702.54 2084.12 2700.25 Q2082.54 2697.95 2082.54 2693.59 Q2082.54 2689.49 2084.48 2687.06 Q2086.43 2684.62 2089.7 2684.62 Q2090.58 2684.62 2091.47 2684.79 Q2092.38 2684.96 2093.35 2685.31 Z\" fill=\"#000000\" fill-rule=\"nonzero\" fill-opacity=\"1\" /><path clip-path=\"url(#clip370)\" d=\"M2104.92 2686.97 L2099.02 2696.19 L2104.92 2696.19 L2104.92 2686.97 M2104.31 2684.93 L2107.25 2684.93 L2107.25 2696.19 L2109.71 2696.19 L2109.71 2698.14 L2107.25 2698.14 L2107.25 2702.21 L2104.92 2702.21 L2104.92 2698.14 L2097.12 2698.14 L2097.12 2695.88 L2104.31 2684.93 Z\" fill=\"#000000\" fill-rule=\"nonzero\" fill-opacity=\"1\" /><path clip-path=\"url(#clip370)\" d=\"M2188.91 2471.86 L2191.24 2471.86 L2191.24 2489.14 L2188.91 2489.14 L2188.91 2471.86 Z\" fill=\"#000000\" fill-rule=\"nonzero\" fill-opacity=\"1\" /><path clip-path=\"url(#clip370)\" d=\"M2206.58 2481.32 L2206.58 2489.14 L2204.45 2489.14 L2204.45 2481.39 Q2204.45 2479.55 2203.73 2478.64 Q2203.01 2477.72 2201.58 2477.72 Q2199.85 2477.72 2198.86 2478.82 Q2197.86 2479.92 2197.86 2481.82 L2197.86 2489.14 L2195.72 2489.14 L2195.72 2476.18 L2197.86 2476.18 L2197.86 2478.2 Q2198.63 2477.03 2199.66 2476.45 Q2200.7 2475.87 2202.05 2475.87 Q2204.29 2475.87 2205.43 2477.26 Q2206.58 2478.64 2206.58 2481.32 Z\" fill=\"#000000\" fill-rule=\"nonzero\" fill-opacity=\"1\" /><path clip-path=\"url(#clip370)\" d=\"M2212.93 2472.5 L2212.93 2476.18 L2217.32 2476.18 L2217.32 2477.84 L2212.93 2477.84 L2212.93 2484.87 Q2212.93 2486.46 2213.36 2486.91 Q2213.8 2487.36 2215.13 2487.36 L2217.32 2487.36 L2217.32 2489.14 L2215.13 2489.14 Q2212.67 2489.14 2211.73 2488.23 Q2210.79 2487.3 2210.79 2484.87 L2210.79 2477.84 L2209.23 2477.84 L2209.23 2476.18 L2210.79 2476.18 L2210.79 2472.5 L2212.93 2472.5 Z\" fill=\"#000000\" fill-rule=\"nonzero\" fill-opacity=\"1\" /><path clip-path=\"url(#clip370)\" d=\"M2225.42 2480.94 Q2223.75 2480.94 2222.79 2481.83 Q2221.84 2482.72 2221.84 2484.28 Q2221.84 2485.85 2222.79 2486.74 Q2223.75 2487.63 2225.42 2487.63 Q2227.09 2487.63 2228.05 2486.74 Q2229.01 2485.83 2229.01 2484.28 Q2229.01 2482.72 2228.05 2481.83 Q2227.1 2480.94 2225.42 2480.94 M2223.08 2479.94 Q2221.58 2479.57 2220.73 2478.54 Q2219.9 2477.51 2219.9 2476.03 Q2219.9 2473.96 2221.37 2472.76 Q2222.85 2471.55 2225.42 2471.55 Q2228 2471.55 2229.47 2472.76 Q2230.94 2473.96 2230.94 2476.03 Q2230.94 2477.51 2230.1 2478.54 Q2229.26 2479.57 2227.77 2479.94 Q2229.46 2480.34 2230.4 2481.48 Q2231.35 2482.63 2231.35 2484.28 Q2231.35 2486.8 2229.81 2488.14 Q2228.28 2489.48 2225.42 2489.48 Q2222.56 2489.48 2221.02 2488.14 Q2219.5 2486.8 2219.5 2484.28 Q2219.5 2482.63 2220.44 2481.48 Q2221.39 2480.34 2223.08 2479.94 M2222.23 2476.25 Q2222.23 2477.59 2223.06 2478.35 Q2223.9 2479.1 2225.42 2479.1 Q2226.93 2479.1 2227.77 2478.35 Q2228.63 2477.59 2228.63 2476.25 Q2228.63 2474.91 2227.77 2474.16 Q2226.93 2473.4 2225.42 2473.4 Q2223.9 2473.4 2223.06 2474.16 Q2222.23 2474.91 2222.23 2476.25 Z\" fill=\"#000000\" fill-rule=\"nonzero\" fill-opacity=\"1\" /><path clip-path=\"url(#clip370)\" d=\"M2941.98 2113.64 L2944.33 2113.64 L2944.33 2124.13 Q2944.33 2126.91 2945.33 2128.14 Q2946.34 2129.35 2948.6 2129.35 Q2950.84 2129.35 2951.85 2128.14 Q2952.86 2126.91 2952.86 2124.13 L2952.86 2113.64 L2955.21 2113.64 L2955.21 2124.42 Q2955.21 2127.8 2953.53 2129.53 Q2951.86 2131.25 2948.6 2131.25 Q2945.32 2131.25 2943.64 2129.53 Q2941.98 2127.8 2941.98 2124.42 L2941.98 2113.64 Z\" fill=\"#000000\" fill-rule=\"nonzero\" fill-opacity=\"1\" /><path clip-path=\"url(#clip370)\" d=\"M2970.28 2123.09 L2970.28 2130.92 L2968.15 2130.92 L2968.15 2123.16 Q2968.15 2121.32 2967.43 2120.41 Q2966.71 2119.49 2965.28 2119.49 Q2963.55 2119.49 2962.56 2120.59 Q2961.56 2121.69 2961.56 2123.59 L2961.56 2130.92 L2959.42 2130.92 L2959.42 2117.95 L2961.56 2117.95 L2961.56 2119.97 Q2962.32 2118.8 2963.35 2118.22 Q2964.4 2117.64 2965.75 2117.64 Q2967.98 2117.64 2969.13 2119.03 Q2970.28 2120.41 2970.28 2123.09 Z\" fill=\"#000000\" fill-rule=\"nonzero\" fill-opacity=\"1\" /><path clip-path=\"url(#clip370)\" d=\"M2982.79 2118.34 L2982.79 2120.35 Q2981.88 2119.89 2980.91 2119.66 Q2979.94 2119.42 2978.9 2119.42 Q2977.31 2119.42 2976.51 2119.91 Q2975.73 2120.4 2975.73 2121.37 Q2975.73 2122.11 2976.29 2122.54 Q2976.86 2122.95 2978.57 2123.34 L2979.3 2123.5 Q2981.57 2123.98 2982.52 2124.88 Q2983.48 2125.75 2983.48 2127.34 Q2983.48 2129.15 2982.05 2130.2 Q2980.62 2131.25 2978.12 2131.25 Q2977.08 2131.25 2975.95 2131.04 Q2974.82 2130.85 2973.57 2130.44 L2973.57 2128.24 Q2974.75 2128.86 2975.9 2129.17 Q2977.05 2129.47 2978.17 2129.47 Q2979.67 2129.47 2980.48 2128.96 Q2981.29 2128.44 2981.29 2127.5 Q2981.29 2126.63 2980.7 2126.17 Q2980.13 2125.71 2978.15 2125.28 L2977.41 2125.11 Q2975.43 2124.69 2974.55 2123.83 Q2973.67 2122.97 2973.67 2121.46 Q2973.67 2119.63 2974.96 2118.64 Q2976.26 2117.64 2978.64 2117.64 Q2979.82 2117.64 2980.87 2117.81 Q2981.91 2117.99 2982.79 2118.34 Z\" fill=\"#000000\" fill-rule=\"nonzero\" fill-opacity=\"1\" /><path clip-path=\"url(#clip370)\" d=\"M2986.87 2117.95 L2989 2117.95 L2989 2130.92 L2986.87 2130.92 L2986.87 2117.95 M2986.87 2112.91 L2989 2112.91 L2989 2115.6 L2986.87 2115.6 L2986.87 2112.91 Z\" fill=\"#000000\" fill-rule=\"nonzero\" fill-opacity=\"1\" /><path clip-path=\"url(#clip370)\" d=\"M3001.99 2124.28 Q3001.99 2121.97 3001.03 2120.7 Q3000.08 2119.42 2998.35 2119.42 Q2996.64 2119.42 2995.68 2120.7 Q2994.73 2121.97 2994.73 2124.28 Q2994.73 2126.59 2995.68 2127.86 Q2996.64 2129.13 2998.35 2129.13 Q3000.08 2129.13 3001.03 2127.86 Q3001.99 2126.59 3001.99 2124.28 M3004.12 2129.31 Q3004.12 2132.62 3002.65 2134.23 Q3001.18 2135.85 2998.15 2135.85 Q2997.02 2135.85 2996.03 2135.67 Q2995.03 2135.51 2994.1 2135.16 L2994.1 2133.09 Q2995.03 2133.6 2995.95 2133.84 Q2996.86 2134.09 2997.81 2134.09 Q2999.91 2134.09 3000.95 2132.99 Q3001.99 2131.9 3001.99 2129.69 L3001.99 2128.64 Q3001.33 2129.78 3000.3 2130.35 Q2999.27 2130.92 2997.83 2130.92 Q2995.45 2130.92 2993.99 2129.1 Q2992.53 2127.28 2992.53 2124.28 Q2992.53 2121.28 2993.99 2119.46 Q2995.45 2117.64 2997.83 2117.64 Q2999.27 2117.64 3000.3 2118.21 Q3001.33 2118.78 3001.99 2119.92 L3001.99 2117.95 L3004.12 2117.95 L3004.12 2129.31 Z\" fill=\"#000000\" fill-rule=\"nonzero\" fill-opacity=\"1\" /><path clip-path=\"url(#clip370)\" d=\"M3019.28 2123.09 L3019.28 2130.92 L3017.15 2130.92 L3017.15 2123.16 Q3017.15 2121.32 3016.43 2120.41 Q3015.72 2119.49 3014.28 2119.49 Q3012.56 2119.49 3011.56 2120.59 Q3010.56 2121.69 3010.56 2123.59 L3010.56 2130.92 L3008.42 2130.92 L3008.42 2117.95 L3010.56 2117.95 L3010.56 2119.97 Q3011.33 2118.8 3012.36 2118.22 Q3013.4 2117.64 3014.75 2117.64 Q3016.99 2117.64 3018.13 2119.03 Q3019.28 2120.41 3019.28 2123.09 Z\" fill=\"#000000\" fill-rule=\"nonzero\" fill-opacity=\"1\" /><path clip-path=\"url(#clip370)\" d=\"M3034.62 2123.9 L3034.62 2124.94 L3024.82 2124.94 Q3024.96 2127.14 3026.14 2128.3 Q3027.34 2129.45 3029.45 2129.45 Q3030.68 2129.45 3031.83 2129.15 Q3032.98 2128.84 3034.12 2128.24 L3034.12 2130.26 Q3032.97 2130.74 3031.77 2131 Q3030.56 2131.25 3029.33 2131.25 Q3026.22 2131.25 3024.41 2129.45 Q3022.6 2127.64 3022.6 2124.56 Q3022.6 2121.38 3024.31 2119.52 Q3026.04 2117.64 3028.96 2117.64 Q3031.57 2117.64 3033.09 2119.33 Q3034.62 2121.01 3034.62 2123.9 M3032.49 2123.28 Q3032.46 2121.53 3031.5 2120.49 Q3030.55 2119.45 3028.98 2119.45 Q3027.2 2119.45 3026.12 2120.45 Q3025.06 2121.46 3024.89 2123.29 L3032.49 2123.28 Z\" fill=\"#000000\" fill-rule=\"nonzero\" fill-opacity=\"1\" /><path clip-path=\"url(#clip370)\" d=\"M3046.64 2119.92 L3046.64 2112.91 L3048.77 2112.91 L3048.77 2130.92 L3046.64 2130.92 L3046.64 2128.97 Q3045.97 2130.13 3044.94 2130.7 Q3043.92 2131.25 3042.49 2131.25 Q3040.14 2131.25 3038.65 2129.38 Q3037.19 2127.5 3037.19 2124.45 Q3037.19 2121.39 3038.65 2119.52 Q3040.14 2117.64 3042.49 2117.64 Q3043.92 2117.64 3044.94 2118.21 Q3045.97 2118.76 3046.64 2119.92 M3039.38 2124.45 Q3039.38 2126.8 3040.34 2128.14 Q3041.32 2129.47 3043.01 2129.47 Q3044.7 2129.47 3045.67 2128.14 Q3046.64 2126.8 3046.64 2124.45 Q3046.64 2122.1 3045.67 2120.77 Q3044.7 2119.42 3043.01 2119.42 Q3041.32 2119.42 3040.34 2120.77 Q3039.38 2122.1 3039.38 2124.45 Z\" fill=\"#000000\" fill-rule=\"nonzero\" fill-opacity=\"1\" /><path clip-path=\"url(#clip370)\" d=\"M3464 2540.7 L3466.35 2540.7 L3466.35 2551.2 Q3466.35 2553.97 3467.36 2555.2 Q3468.37 2556.42 3470.62 2556.42 Q3472.87 2556.42 3473.87 2555.2 Q3474.88 2553.97 3474.88 2551.2 L3474.88 2540.7 L3477.23 2540.7 L3477.23 2551.49 Q3477.23 2554.86 3475.55 2556.59 Q3473.89 2558.31 3470.62 2558.31 Q3467.35 2558.31 3465.67 2556.59 Q3464 2554.86 3464 2551.49 L3464 2540.7 Z\" fill=\"#000000\" fill-rule=\"nonzero\" fill-opacity=\"1\" /><path clip-path=\"url(#clip370)\" d=\"M3481.62 2540.7 L3483.96 2540.7 L3483.96 2557.98 L3481.62 2557.98 L3481.62 2540.7 Z\" fill=\"#000000\" fill-rule=\"nonzero\" fill-opacity=\"1\" /><path clip-path=\"url(#clip370)\" d=\"M3499.29 2550.15 L3499.29 2557.98 L3497.16 2557.98 L3497.16 2550.22 Q3497.16 2548.38 3496.44 2547.47 Q3495.73 2546.55 3494.29 2546.55 Q3492.57 2546.55 3491.57 2547.65 Q3490.58 2548.75 3490.58 2550.65 L3490.58 2557.98 L3488.43 2557.98 L3488.43 2545.02 L3490.58 2545.02 L3490.58 2547.03 Q3491.34 2545.86 3492.37 2545.28 Q3493.41 2544.7 3494.77 2544.7 Q3497 2544.7 3498.14 2546.09 Q3499.29 2547.47 3499.29 2550.15 Z\" fill=\"#000000\" fill-rule=\"nonzero\" fill-opacity=\"1\" /><path clip-path=\"url(#clip370)\" d=\"M3505.64 2541.33 L3505.64 2545.02 L3510.03 2545.02 L3510.03 2546.67 L3505.64 2546.67 L3505.64 2553.71 Q3505.64 2555.29 3506.07 2555.74 Q3506.51 2556.2 3507.84 2556.2 L3510.03 2556.2 L3510.03 2557.98 L3507.84 2557.98 Q3505.38 2557.98 3504.44 2557.06 Q3503.5 2556.14 3503.5 2553.71 L3503.5 2546.67 L3501.94 2546.67 L3501.94 2545.02 L3503.5 2545.02 L3503.5 2541.33 L3505.64 2541.33 Z\" fill=\"#000000\" fill-rule=\"nonzero\" fill-opacity=\"1\" /><path clip-path=\"url(#clip370)\" d=\"M3513.54 2556.01 L3517.36 2556.01 L3517.36 2542.83 L3513.2 2543.66 L3513.2 2541.53 L3517.33 2540.7 L3519.67 2540.7 L3519.67 2556.01 L3523.49 2556.01 L3523.49 2557.98 L3513.54 2557.98 L3513.54 2556.01 Z\" fill=\"#000000\" fill-rule=\"nonzero\" fill-opacity=\"1\" /><path clip-path=\"url(#clip370)\" d=\"M3530.23 2556.01 L3538.39 2556.01 L3538.39 2557.98 L3527.42 2557.98 L3527.42 2556.01 Q3528.75 2554.63 3531.04 2552.32 Q3533.34 2549.99 3533.93 2549.32 Q3535.05 2548.06 3535.49 2547.19 Q3535.95 2546.31 3535.95 2545.47 Q3535.95 2544.09 3534.97 2543.22 Q3534.01 2542.35 3532.46 2542.35 Q3531.36 2542.35 3530.14 2542.74 Q3528.92 2543.12 3527.53 2543.89 L3527.53 2541.53 Q3528.94 2540.96 3530.17 2540.68 Q3531.4 2540.39 3532.42 2540.39 Q3535.1 2540.39 3536.7 2541.73 Q3538.3 2543.07 3538.3 2545.32 Q3538.3 2546.38 3537.89 2547.34 Q3537.5 2548.29 3536.44 2549.59 Q3536.15 2549.92 3534.6 2551.53 Q3533.05 2553.13 3530.23 2556.01 Z\" fill=\"#000000\" fill-rule=\"nonzero\" fill-opacity=\"1\" /><path clip-path=\"url(#clip370)\" d=\"M3548.3 2549.77 Q3546.63 2549.77 3545.67 2550.66 Q3544.72 2551.55 3544.72 2553.12 Q3544.72 2554.68 3545.67 2555.57 Q3546.63 2556.46 3548.3 2556.46 Q3549.96 2556.46 3550.92 2555.57 Q3551.88 2554.67 3551.88 2553.12 Q3551.88 2551.55 3550.92 2550.66 Q3549.97 2549.77 3548.3 2549.77 M3545.96 2548.78 Q3544.45 2548.41 3543.61 2547.38 Q3542.77 2546.35 3542.77 2544.86 Q3542.77 2542.79 3544.24 2541.59 Q3545.73 2540.39 3548.3 2540.39 Q3550.88 2540.39 3552.35 2541.59 Q3553.82 2542.79 3553.82 2544.86 Q3553.82 2546.35 3552.97 2547.38 Q3552.14 2548.41 3550.64 2548.78 Q3552.33 2549.17 3553.27 2550.32 Q3554.22 2551.46 3554.22 2553.12 Q3554.22 2555.63 3552.68 2556.97 Q3551.15 2558.31 3548.3 2558.31 Q3545.44 2558.31 3543.9 2556.97 Q3542.37 2555.63 3542.37 2553.12 Q3542.37 2551.46 3543.32 2550.32 Q3544.27 2549.17 3545.96 2548.78 M3545.1 2545.08 Q3545.1 2546.43 3545.93 2547.18 Q3546.78 2547.93 3548.3 2547.93 Q3549.8 2547.93 3550.64 2547.18 Q3551.5 2546.43 3551.5 2545.08 Q3551.5 2543.74 3550.64 2542.99 Q3549.8 2542.24 3548.3 2542.24 Q3546.78 2542.24 3545.93 2542.99 Q3545.1 2543.74 3545.1 2545.08 Z\" fill=\"#000000\" fill-rule=\"nonzero\" fill-opacity=\"1\" /><path clip-path=\"url(#clip370)\" d=\"M3158.7 2699.5 L3161.05 2699.5 L3161.05 2710 Q3161.05 2712.78 3162.05 2714 Q3163.06 2715.22 3165.32 2715.22 Q3167.56 2715.22 3168.57 2714 Q3169.58 2712.78 3169.58 2710 L3169.58 2699.5 L3171.93 2699.5 L3171.93 2710.29 Q3171.93 2713.67 3170.25 2715.39 Q3168.58 2717.12 3165.32 2717.12 Q3162.04 2717.12 3160.36 2715.39 Q3158.7 2713.67 3158.7 2710.29 L3158.7 2699.5 Z\" fill=\"#000000\" fill-rule=\"nonzero\" fill-opacity=\"1\" /><path clip-path=\"url(#clip370)\" d=\"M3176.31 2699.5 L3178.65 2699.5 L3178.65 2716.78 L3176.31 2716.78 L3176.31 2699.5 Z\" fill=\"#000000\" fill-rule=\"nonzero\" fill-opacity=\"1\" /><path clip-path=\"url(#clip370)\" d=\"M3193.99 2708.96 L3193.99 2716.78 L3191.86 2716.78 L3191.86 2709.03 Q3191.86 2707.18 3191.14 2706.27 Q3190.42 2705.36 3188.99 2705.36 Q3187.26 2705.36 3186.27 2706.46 Q3185.27 2707.56 3185.27 2709.45 L3185.27 2716.78 L3183.13 2716.78 L3183.13 2703.82 L3185.27 2703.82 L3185.27 2705.83 Q3186.04 2704.66 3187.07 2704.08 Q3188.11 2703.5 3189.46 2703.5 Q3191.7 2703.5 3192.84 2704.89 Q3193.99 2706.27 3193.99 2708.96 Z\" fill=\"#000000\" fill-rule=\"nonzero\" fill-opacity=\"1\" /><path clip-path=\"url(#clip370)\" d=\"M3200.34 2700.14 L3200.34 2703.82 L3204.73 2703.82 L3204.73 2705.47 L3200.34 2705.47 L3200.34 2712.51 Q3200.34 2714.09 3200.77 2714.55 Q3201.21 2715 3202.54 2715 L3204.73 2715 L3204.73 2716.78 L3202.54 2716.78 Q3200.08 2716.78 3199.14 2715.87 Q3198.2 2714.94 3198.2 2712.51 L3198.2 2705.47 L3196.64 2705.47 L3196.64 2703.82 L3198.2 2703.82 L3198.2 2700.14 L3200.34 2700.14 Z\" fill=\"#000000\" fill-rule=\"nonzero\" fill-opacity=\"1\" /><path clip-path=\"url(#clip370)\" d=\"M3208.24 2714.81 L3212.05 2714.81 L3212.05 2701.63 L3207.9 2702.46 L3207.9 2700.33 L3212.03 2699.5 L3214.37 2699.5 L3214.37 2714.81 L3218.19 2714.81 L3218.19 2716.78 L3208.24 2716.78 L3208.24 2714.81 Z\" fill=\"#000000\" fill-rule=\"nonzero\" fill-opacity=\"1\" /><path clip-path=\"url(#clip370)\" d=\"M3228.2 2707.21 Q3226.63 2707.21 3225.7 2708.28 Q3224.79 2709.36 3224.79 2711.24 Q3224.79 2713.1 3225.7 2714.19 Q3226.63 2715.26 3228.2 2715.26 Q3229.77 2715.26 3230.69 2714.19 Q3231.61 2713.1 3231.61 2711.24 Q3231.61 2709.36 3230.69 2708.28 Q3229.77 2707.21 3228.2 2707.21 M3232.84 2699.88 L3232.84 2702.01 Q3231.96 2701.59 3231.06 2701.37 Q3230.17 2701.15 3229.29 2701.15 Q3226.97 2701.15 3225.75 2702.72 Q3224.53 2704.28 3224.36 2707.44 Q3225.04 2706.43 3226.07 2705.9 Q3227.1 2705.36 3228.34 2705.36 Q3230.94 2705.36 3232.45 2706.94 Q3233.96 2708.52 3233.96 2711.24 Q3233.96 2713.9 3232.39 2715.51 Q3230.82 2717.12 3228.2 2717.12 Q3225.2 2717.12 3223.62 2714.82 Q3222.03 2712.52 3222.03 2708.16 Q3222.03 2704.06 3223.98 2701.63 Q3225.92 2699.19 3229.2 2699.19 Q3230.08 2699.19 3230.97 2699.36 Q3231.87 2699.53 3232.84 2699.88 Z\" fill=\"#000000\" fill-rule=\"nonzero\" fill-opacity=\"1\" /><path clip-path=\"url(#clip370)\" d=\"M3344.86 2645.64 L3347.21 2645.64 L3347.21 2656.14 Q3347.21 2658.92 3348.22 2660.15 Q3349.23 2661.36 3351.48 2661.36 Q3353.73 2661.36 3354.74 2660.15 Q3355.74 2658.92 3355.74 2656.14 L3355.74 2645.64 L3358.09 2645.64 L3358.09 2656.43 Q3358.09 2659.81 3356.42 2661.54 Q3354.75 2663.26 3351.48 2663.26 Q3348.21 2663.26 3346.53 2661.54 Q3344.86 2659.81 3344.86 2656.43 L3344.86 2645.64 Z\" fill=\"#000000\" fill-rule=\"nonzero\" fill-opacity=\"1\" /><path clip-path=\"url(#clip370)\" d=\"M3362.48 2645.64 L3364.82 2645.64 L3364.82 2662.92 L3362.48 2662.92 L3362.48 2645.64 Z\" fill=\"#000000\" fill-rule=\"nonzero\" fill-opacity=\"1\" /><path clip-path=\"url(#clip370)\" d=\"M3380.15 2655.1 L3380.15 2662.92 L3378.02 2662.92 L3378.02 2655.17 Q3378.02 2653.33 3377.31 2652.42 Q3376.59 2651.5 3375.15 2651.5 Q3373.43 2651.5 3372.43 2652.6 Q3371.44 2653.7 3371.44 2655.6 L3371.44 2662.92 L3369.3 2662.92 L3369.3 2649.96 L3371.44 2649.96 L3371.44 2651.98 Q3372.2 2650.81 3373.23 2650.23 Q3374.27 2649.65 3375.63 2649.65 Q3377.86 2649.65 3379.01 2651.04 Q3380.15 2652.42 3380.15 2655.1 Z\" fill=\"#000000\" fill-rule=\"nonzero\" fill-opacity=\"1\" /><path clip-path=\"url(#clip370)\" d=\"M3386.51 2646.28 L3386.51 2649.96 L3390.89 2649.96 L3390.89 2651.62 L3386.51 2651.62 L3386.51 2658.65 Q3386.51 2660.24 3386.94 2660.69 Q3387.38 2661.14 3388.71 2661.14 L3390.89 2661.14 L3390.89 2662.92 L3388.71 2662.92 Q3386.24 2662.92 3385.3 2662.01 Q3384.37 2661.08 3384.37 2658.65 L3384.37 2651.62 L3382.8 2651.62 L3382.8 2649.96 L3384.37 2649.96 L3384.37 2646.28 L3386.51 2646.28 Z\" fill=\"#000000\" fill-rule=\"nonzero\" fill-opacity=\"1\" /><path clip-path=\"url(#clip370)\" d=\"M3401.08 2653.61 Q3402.76 2653.97 3403.69 2655.1 Q3404.64 2656.23 3404.64 2657.9 Q3404.64 2660.46 3402.88 2661.86 Q3401.13 2663.26 3397.88 2663.26 Q3396.8 2663.26 3395.64 2663.04 Q3394.49 2662.83 3393.27 2662.4 L3393.27 2660.15 Q3394.24 2660.71 3395.4 2661 Q3396.55 2661.29 3397.82 2661.29 Q3400.01 2661.29 3401.16 2660.42 Q3402.32 2659.56 3402.32 2657.9 Q3402.32 2656.37 3401.24 2655.52 Q3400.18 2654.65 3398.27 2654.65 L3396.25 2654.65 L3396.25 2652.73 L3398.36 2652.73 Q3400.08 2652.73 3401 2652.04 Q3401.91 2651.35 3401.91 2650.05 Q3401.91 2648.72 3400.96 2648.02 Q3400.03 2647.3 3398.27 2647.3 Q3397.31 2647.3 3396.21 2647.51 Q3395.11 2647.72 3393.79 2648.16 L3393.79 2646.07 Q3395.12 2645.7 3396.28 2645.52 Q3397.44 2645.33 3398.47 2645.33 Q3401.14 2645.33 3402.69 2646.55 Q3404.24 2647.75 3404.24 2649.81 Q3404.24 2651.25 3403.42 2652.24 Q3402.6 2653.23 3401.08 2653.61 Z\" fill=\"#000000\" fill-rule=\"nonzero\" fill-opacity=\"1\" /><path clip-path=\"url(#clip370)\" d=\"M3411.09 2660.96 L3419.25 2660.96 L3419.25 2662.92 L3408.28 2662.92 L3408.28 2660.96 Q3409.61 2659.58 3411.9 2657.26 Q3414.2 2654.94 3414.79 2654.27 Q3415.92 2653.01 3416.36 2652.14 Q3416.81 2651.26 3416.81 2650.41 Q3416.81 2649.04 3415.84 2648.17 Q3414.88 2647.3 3413.32 2647.3 Q3412.22 2647.3 3411 2647.68 Q3409.78 2648.06 3408.39 2648.84 L3408.39 2646.48 Q3409.81 2645.91 3411.03 2645.62 Q3412.26 2645.33 3413.28 2645.33 Q3415.96 2645.33 3417.56 2646.67 Q3419.16 2648.02 3419.16 2650.26 Q3419.16 2651.33 3418.75 2652.29 Q3418.36 2653.24 3417.31 2654.53 Q3417.02 2654.87 3415.47 2656.48 Q3413.91 2658.07 3411.09 2660.96 Z\" fill=\"#000000\" fill-rule=\"nonzero\" fill-opacity=\"1\" /><path clip-path=\"url(#clip370)\" d=\"M2785.54 2632.13 L2787.89 2632.13 L2787.89 2642.62 Q2787.89 2645.4 2788.9 2646.63 Q2789.91 2647.84 2792.16 2647.84 Q2794.41 2647.84 2795.42 2646.63 Q2796.42 2645.4 2796.42 2642.62 L2796.42 2632.13 L2798.77 2632.13 L2798.77 2642.91 Q2798.77 2646.29 2797.09 2648.02 Q2795.43 2649.74 2792.16 2649.74 Q2788.89 2649.74 2787.21 2648.02 Q2785.54 2646.29 2785.54 2642.91 L2785.54 2632.13 Z\" fill=\"#000000\" fill-rule=\"nonzero\" fill-opacity=\"1\" /><path clip-path=\"url(#clip370)\" d=\"M2803.16 2632.13 L2805.5 2632.13 L2805.5 2649.41 L2803.16 2649.41 L2803.16 2632.13 Z\" fill=\"#000000\" fill-rule=\"nonzero\" fill-opacity=\"1\" /><path clip-path=\"url(#clip370)\" d=\"M2820.83 2641.58 L2820.83 2649.41 L2818.7 2649.41 L2818.7 2641.65 Q2818.7 2639.81 2817.98 2638.9 Q2817.27 2637.98 2815.83 2637.98 Q2814.11 2637.98 2813.11 2639.08 Q2812.12 2640.18 2812.12 2642.08 L2812.12 2649.41 L2809.98 2649.41 L2809.98 2636.44 L2812.12 2636.44 L2812.12 2638.46 Q2812.88 2637.29 2813.91 2636.71 Q2814.95 2636.13 2816.31 2636.13 Q2818.54 2636.13 2819.69 2637.52 Q2820.83 2638.9 2820.83 2641.58 Z\" fill=\"#000000\" fill-rule=\"nonzero\" fill-opacity=\"1\" /><path clip-path=\"url(#clip370)\" d=\"M2827.19 2632.76 L2827.19 2636.44 L2831.57 2636.44 L2831.57 2638.1 L2827.19 2638.1 L2827.19 2645.14 Q2827.19 2646.72 2827.61 2647.17 Q2828.05 2647.62 2829.39 2647.62 L2831.57 2647.62 L2831.57 2649.41 L2829.39 2649.41 Q2826.92 2649.41 2825.98 2648.49 Q2825.05 2647.57 2825.05 2645.14 L2825.05 2638.1 L2823.48 2638.1 L2823.48 2636.44 L2825.05 2636.44 L2825.05 2632.76 L2827.19 2632.76 Z\" fill=\"#000000\" fill-rule=\"nonzero\" fill-opacity=\"1\" /><path clip-path=\"url(#clip370)\" d=\"M2839.96 2639.84 Q2838.39 2639.84 2837.46 2640.91 Q2836.55 2641.99 2836.55 2643.86 Q2836.55 2645.73 2837.46 2646.81 Q2838.39 2647.89 2839.96 2647.89 Q2841.54 2647.89 2842.45 2646.81 Q2843.38 2645.73 2843.38 2643.86 Q2843.38 2641.99 2842.45 2640.91 Q2841.54 2639.84 2839.96 2639.84 M2844.61 2632.51 L2844.61 2634.64 Q2843.73 2634.22 2842.82 2634 Q2841.93 2633.78 2841.05 2633.78 Q2838.74 2633.78 2837.51 2635.34 Q2836.3 2636.91 2836.12 2640.07 Q2836.8 2639.06 2837.83 2638.53 Q2838.86 2637.98 2840.1 2637.98 Q2842.71 2637.98 2844.21 2639.57 Q2845.73 2641.14 2845.73 2643.86 Q2845.73 2646.52 2844.15 2648.13 Q2842.58 2649.74 2839.96 2649.74 Q2836.97 2649.74 2835.38 2647.45 Q2833.8 2645.15 2833.8 2640.78 Q2833.8 2636.69 2835.74 2634.26 Q2837.68 2631.81 2840.96 2631.81 Q2841.84 2631.81 2842.73 2631.99 Q2843.63 2632.16 2844.61 2632.51 Z\" fill=\"#000000\" fill-rule=\"nonzero\" fill-opacity=\"1\" /><path clip-path=\"url(#clip370)\" d=\"M2856.18 2634.16 L2850.28 2643.39 L2856.18 2643.39 L2856.18 2634.16 M2855.57 2632.13 L2858.51 2632.13 L2858.51 2643.39 L2860.97 2643.39 L2860.97 2645.33 L2858.51 2645.33 L2858.51 2649.41 L2856.18 2649.41 L2856.18 2645.33 L2848.38 2645.33 L2848.38 2643.08 L2855.57 2632.13 Z\" fill=\"#000000\" fill-rule=\"nonzero\" fill-opacity=\"1\" /><path clip-path=\"url(#clip370)\" d=\"M2993.1 2649.71 L2995.45 2649.71 L2995.45 2660.21 Q2995.45 2662.99 2996.46 2664.22 Q2997.46 2665.43 2999.72 2665.43 Q3001.97 2665.43 3002.97 2664.22 Q3003.98 2662.99 3003.98 2660.21 L3003.98 2649.71 L3006.33 2649.71 L3006.33 2660.5 Q3006.33 2663.88 3004.65 2665.61 Q3002.99 2667.33 2999.72 2667.33 Q2996.45 2667.33 2994.77 2665.61 Q2993.1 2663.88 2993.1 2660.5 L2993.1 2649.71 Z\" fill=\"#000000\" fill-rule=\"nonzero\" fill-opacity=\"1\" /><path clip-path=\"url(#clip370)\" d=\"M3010.72 2649.71 L3013.05 2649.71 L3013.05 2666.99 L3010.72 2666.99 L3010.72 2649.71 Z\" fill=\"#000000\" fill-rule=\"nonzero\" fill-opacity=\"1\" /><path clip-path=\"url(#clip370)\" d=\"M3028.39 2659.17 L3028.39 2666.99 L3026.26 2666.99 L3026.26 2659.24 Q3026.26 2657.4 3025.54 2656.49 Q3024.83 2655.57 3023.39 2655.57 Q3021.67 2655.57 3020.67 2656.67 Q3019.67 2657.77 3019.67 2659.67 L3019.67 2666.99 L3017.53 2666.99 L3017.53 2654.03 L3019.67 2654.03 L3019.67 2656.05 Q3020.44 2654.88 3021.47 2654.3 Q3022.51 2653.72 3023.86 2653.72 Q3026.1 2653.72 3027.24 2655.11 Q3028.39 2656.49 3028.39 2659.17 Z\" fill=\"#000000\" fill-rule=\"nonzero\" fill-opacity=\"1\" /><path clip-path=\"url(#clip370)\" d=\"M3034.74 2650.35 L3034.74 2654.03 L3039.13 2654.03 L3039.13 2655.69 L3034.74 2655.69 L3034.74 2662.72 Q3034.74 2664.31 3035.17 2664.76 Q3035.61 2665.21 3036.94 2665.21 L3039.13 2665.21 L3039.13 2666.99 L3036.94 2666.99 Q3034.48 2666.99 3033.54 2666.08 Q3032.6 2665.15 3032.6 2662.72 L3032.6 2655.69 L3031.04 2655.69 L3031.04 2654.03 L3032.6 2654.03 L3032.6 2650.35 L3034.74 2650.35 Z\" fill=\"#000000\" fill-rule=\"nonzero\" fill-opacity=\"1\" /><path clip-path=\"url(#clip370)\" d=\"M3047.23 2658.79 Q3045.57 2658.79 3044.61 2659.68 Q3043.66 2660.57 3043.66 2662.13 Q3043.66 2663.7 3044.61 2664.59 Q3045.57 2665.48 3047.23 2665.48 Q3048.9 2665.48 3049.86 2664.59 Q3050.82 2663.68 3050.82 2662.13 Q3050.82 2660.57 3049.86 2659.68 Q3048.91 2658.79 3047.23 2658.79 M3044.89 2657.79 Q3043.39 2657.42 3042.55 2656.39 Q3041.71 2655.36 3041.71 2653.88 Q3041.71 2651.81 3043.18 2650.61 Q3044.66 2649.4 3047.23 2649.4 Q3049.81 2649.4 3051.28 2650.61 Q3052.75 2651.81 3052.75 2653.88 Q3052.75 2655.36 3051.91 2656.39 Q3051.08 2657.42 3049.58 2657.79 Q3051.27 2658.19 3052.21 2659.33 Q3053.16 2660.48 3053.16 2662.13 Q3053.16 2664.65 3051.62 2665.99 Q3050.09 2667.33 3047.23 2667.33 Q3044.37 2667.33 3042.83 2665.99 Q3041.31 2664.65 3041.31 2662.13 Q3041.31 2660.48 3042.26 2659.33 Q3043.2 2658.19 3044.89 2657.79 M3044.04 2654.1 Q3044.04 2655.44 3044.87 2656.2 Q3045.72 2656.95 3047.23 2656.95 Q3048.74 2656.95 3049.58 2656.2 Q3050.44 2655.44 3050.44 2654.1 Q3050.44 2652.76 3049.58 2652.01 Q3048.74 2651.25 3047.23 2651.25 Q3045.72 2651.25 3044.87 2652.01 Q3044.04 2652.76 3044.04 2654.1 Z\" fill=\"#000000\" fill-rule=\"nonzero\" fill-opacity=\"1\" /></svg>\n"
      ]
     },
     "execution_count": 8,
     "metadata": {},
     "output_type": "execute_result"
    }
   ],
   "source": [
    "using GraphRecipes, Plots\n",
    "\n",
    "#pyplot(size=(800, 600))\n",
    "gr()\n",
    "theme(:default)\n",
    "\n",
    "plot(Integer, method = :tree, fontsize = 4)\n",
    "plot!(size = (1200, 800))"
   ]
  },
  {
   "cell_type": "markdown",
   "metadata": {},
   "source": [
    "### Signed integers\n",
    "\n",
    "* First bit indicates sign.  \n",
    "    - `0` for nonnegative numbers\n",
    "    - `1` for negative numbers  \n",
    "    \n",
    "* **Two's complement representation** for negative numbers. \n",
    "    - Sign bit is set to 1  \n",
    "    - remaining bits are set to opposite values  \n",
    "    - 1 is added to the result  \n",
    "    - Two's complement representation of a negative integer `x` is same as the unsigned integer `2^64 + x`."
   ]
  },
  {
   "cell_type": "code",
   "execution_count": 9,
   "metadata": {
    "tags": []
   },
   "outputs": [
    {
     "name": "stdout",
     "output_type": "stream",
     "text": [
      "typeof(18) = Int64\n",
      "bitstring(18) = \"0000000000000000000000000000000000000000000000000000000000010010\"\n",
      "bitstring(-18) = \"1111111111111111111111111111111111111111111111111111111111101110\"\n",
      "bitstring(UInt64(Int128(2) ^ 64 - 18)) == bitstring(-18) = true\n",
      "bitstring(2 * 18) = \"0000000000000000000000000000000000000000000000000000000000100100\"\n",
      "bitstring(2 * -18) = \"1111111111111111111111111111111111111111111111111111111111011100\"\n"
     ]
    }
   ],
   "source": [
    "@show typeof(18)\n",
    "@show bitstring(18)\n",
    "@show bitstring(-18) # two's complement representation\n",
    "@show bitstring(UInt64(Int128(2)^64 - 18)) == bitstring(-18) # modular arithmetic\n",
    "@show bitstring(2 * 18) # shift bits of 18\n",
    "@show bitstring(2 * -18); # shift bits of -18"
   ]
  },
  {
   "cell_type": "markdown",
   "metadata": {},
   "source": [
    "* Two's complement representation respects modular arithmetic nicely.  \n",
    "    Addition of any two signed integers are just bitwise addition, possibly modulo $2^M$\n",
    "    \n",
    "<img src=\"http://users.dickinson.edu/~braught/courses/cs251f02/classes/images/twosCompWheel.png\" width=\"400\" align=\"center\"/>    \n",
    "\n",
    "* Arithmetics (addition, substraction, multiplication) of integers are **exact** except for the possiblity of overflow and underflow.\n",
    "\n",
    "* **Range** of representable integers by $M$-bit **signed integer** is $[-2^{M-1},2^{M-1}-1]$.\n",
    "    - Julia functions `typemin(T)` and `typemax(T)` give the lowest and highest representable number of a type `T` respectively"
   ]
  },
  {
   "cell_type": "code",
   "execution_count": 10,
   "metadata": {
    "tags": []
   },
   "outputs": [
    {
     "data": {
      "text/plain": [
       "(-9223372036854775808, 9223372036854775807)"
      ]
     },
     "execution_count": 10,
     "metadata": {},
     "output_type": "execute_result"
    }
   ],
   "source": [
    "typemin(Int64), typemax(Int64)"
   ]
  },
  {
   "cell_type": "code",
   "execution_count": 11,
   "metadata": {
    "tags": []
   },
   "outputs": [
    {
     "name": "stdout",
     "output_type": "stream",
     "text": [
      "Int8\t-128\t127\n",
      "Int16\t-32768\t32767\n",
      "Int32\t-2147483648\t2147483647\n",
      "Int64\t-9223372036854775808\t9223372036854775807\n",
      "Int128\t-170141183460469231731687303715884105728\t170141183460469231731687303715884105727\n"
     ]
    }
   ],
   "source": [
    "for T in [Int8, Int16, Int32, Int64, Int128]\n",
    "    println(T, '\\t', typemin(T), '\\t', typemax(T))\n",
    "end"
   ]
  },
  {
   "cell_type": "markdown",
   "metadata": {},
   "source": [
    "### Unsigned integers\n",
    "\n",
    "* For unsigned integers, the range is $[0,2^M-1]$."
   ]
  },
  {
   "cell_type": "code",
   "execution_count": 12,
   "metadata": {
    "tags": []
   },
   "outputs": [
    {
     "name": "stdout",
     "output_type": "stream",
     "text": [
      "UInt8\t0\t255\n",
      "UInt16\t0\t65535\n",
      "UInt32\t0\t4294967295\n",
      "UInt64\t0\t18446744073709551615\n",
      "UInt128\t0\t340282366920938463463374607431768211455\n"
     ]
    }
   ],
   "source": [
    "for t in [UInt8, UInt16, UInt32, UInt64, UInt128]\n",
    "    println(t, '\\t', typemin(t), '\\t', typemax(t))\n",
    "end"
   ]
  },
  {
   "cell_type": "markdown",
   "metadata": {},
   "source": [
    "### `BigInt`\n",
    "\n",
    "Julia `BigInt` type is arbitrary precision."
   ]
  },
  {
   "cell_type": "code",
   "execution_count": 13,
   "metadata": {
    "tags": []
   },
   "outputs": [
    {
     "name": "stdout",
     "output_type": "stream",
     "text": [
      "typemax(Int128) = 170141183460469231731687303715884105727\n",
      "typemax(Int128) + 1 = -170141183460469231731687303715884105728\n",
      "BigInt(typemax(Int128)) + 1 = 170141183460469231731687303715884105728\n"
     ]
    }
   ],
   "source": [
    "@show typemax(Int128)\n",
    "@show typemax(Int128) + 1 # modular arithmetic!\n",
    "@show BigInt(typemax(Int128)) + 1;"
   ]
  },
  {
   "cell_type": "markdown",
   "metadata": {},
   "source": [
    "### Overflow and underflow for integer arithmetic\n",
    "\n",
    "R reports `NA` for integer overflow and underflow.  \n",
    "\n",
    "> **Julia outputs the result according to modular arithmetic.**"
   ]
  },
  {
   "cell_type": "code",
   "execution_count": 14,
   "metadata": {
    "tags": []
   },
   "outputs": [
    {
     "name": "stdout",
     "output_type": "stream",
     "text": [
      "typemax(Int32) = 2147483647\n",
      "typemax(Int32) + Int32(1) = -2147483648\n"
     ]
    }
   ],
   "source": [
    "@show typemax(Int32)\n",
    "@show typemax(Int32) + Int32(1); # modular arithmetics!"
   ]
  },
  {
   "cell_type": "code",
   "execution_count": 15,
   "metadata": {
    "tags": []
   },
   "outputs": [
    {
     "data": {
      "text/plain": [
       "RObject{IntSxp}\n",
       "[1] 2147483647\n"
      ]
     },
     "execution_count": 15,
     "metadata": {},
     "output_type": "execute_result"
    }
   ],
   "source": [
    "using RCall\n",
    "\n",
    "R\"\"\"\n",
    ".Machine$integer.max\n",
    "\"\"\""
   ]
  },
  {
   "cell_type": "code",
   "execution_count": 16,
   "metadata": {
    "tags": []
   },
   "outputs": [
    {
     "data": {
      "text/plain": [
       "RObject{IntSxp}\n",
       "[1] 2147483647\n"
      ]
     },
     "execution_count": 16,
     "metadata": {},
     "output_type": "execute_result"
    }
   ],
   "source": [
    "R\"\"\"\n",
    "M <- 32\n",
    "big <- 2^(M - 1) - 1\n",
    "as.integer(big)\n",
    "\"\"\""
   ]
  },
  {
   "cell_type": "code",
   "execution_count": 17,
   "metadata": {
    "tags": []
   },
   "outputs": [
    {
     "name": "stderr",
     "output_type": "stream",
     "text": [
      "\u001b[33m\u001b[1m┌ \u001b[22m\u001b[39m\u001b[33m\u001b[1mWarning: \u001b[22m\u001b[39mRCall.jl: Warning: NAs introduced by coercion to integer range\n",
      "\u001b[33m\u001b[1m└ \u001b[22m\u001b[39m\u001b[90m@ RCall ~/.julia/packages/RCall/Wyd74/src/io.jl:172\u001b[39m\n"
     ]
    },
    {
     "data": {
      "text/plain": [
       "RObject{IntSxp}\n",
       "[1] NA\n"
      ]
     },
     "execution_count": 17,
     "metadata": {},
     "output_type": "execute_result"
    }
   ],
   "source": [
    "R\"\"\"\n",
    "as.integer(big + 1)\n",
    "\"\"\""
   ]
  },
  {
   "cell_type": "markdown",
   "metadata": {},
   "source": [
    "## Real numbers: floating-number system\n",
    "\n",
    "Floating-point number system is a computer model for real numbers.\n",
    "\n",
    "* Most computer systems adopt the [IEEE 754 standard](https://en.wikipedia.org/wiki/IEEE_floating_point), established in 1985, for floating-point arithmetics.  \n",
    "For the history, see an [interview with William Kahan](http://www.cs.berkeley.edu/~wkahan/ieee754status/754story.html).\n",
    "\n",
    "* In the scientific notation, a real number is represented as\n",
    "$$\\pm d_0.d_1d_2 \\cdots d_p \\times b^e.$$\n",
    "In computer, the _base_ is $b=2$ and the digits $d_i$ are 0 or 1.\n",
    "\n",
    "* **Normalized** vs **denormalized** numbers. For example, decimal number 18 is\n",
    "$$ +1.0010 \\times 2^4 \\quad (\\text{normalized})$$\n",
    "or, equivalently,\n",
    "$$ +0.1001 \\times 2^5 \\quad (\\text{denormalized}).$$\n",
    "\n",
    "* In the floating-number system, computer stores \n",
    "    - sign bit  \n",
    "    - the _fraction_ (or _mantissa_, or _significand_) of the **normalized** representation\n",
    "    - the actual exponent _plus_ a bias"
   ]
  },
  {
   "cell_type": "code",
   "execution_count": 18,
   "metadata": {
    "tags": []
   },
   "outputs": [
    {
     "data": {
      "image/svg+xml": [
       "<?xml version=\"1.0\" encoding=\"utf-8\"?>\n",
       "<svg xmlns=\"http://www.w3.org/2000/svg\" xmlns:xlink=\"http://www.w3.org/1999/xlink\" width=\"1200\" height=\"900\" viewBox=\"0 0 4800 3600\">\n",
       "<defs>\n",
       "  <clipPath id=\"clip400\">\n",
       "    <rect x=\"0\" y=\"0\" width=\"4800\" height=\"3600\"/>\n",
       "  </clipPath>\n",
       "</defs>\n",
       "<path clip-path=\"url(#clip400)\" d=\"M0 3600 L4800 3600 L4800 0 L0 0  Z\" fill=\"#ffffff\" fill-rule=\"evenodd\" fill-opacity=\"1\"/>\n",
       "<defs>\n",
       "  <clipPath id=\"clip401\">\n",
       "    <rect x=\"960\" y=\"0\" width=\"3361\" height=\"3361\"/>\n",
       "  </clipPath>\n",
       "</defs>\n",
       "<path clip-path=\"url(#clip400)\" d=\"M647.244 3552.76 L4152.76 3552.76 L4152.76 47.2441 L647.244 47.2441  Z\" fill=\"#ffffff\" fill-rule=\"evenodd\" fill-opacity=\"1\"/>\n",
       "<defs>\n",
       "  <clipPath id=\"clip402\">\n",
       "    <rect x=\"647\" y=\"47\" width=\"3507\" height=\"3507\"/>\n",
       "  </clipPath>\n",
       "</defs>\n",
       "<polyline clip-path=\"url(#clip402)\" style=\"stroke:#000000; stroke-linecap:round; stroke-linejoin:round; stroke-width:4; stroke-opacity:1; fill:none\" points=\"2256.72,548.031 2256.71,566.197 2256.68,584.748 2256.64,603.654 2256.58,622.888 2256.5,642.421 2256.41,662.224 2256.31,682.27 2256.2,702.529 2256.08,722.973 2255.95,743.574 2255.81,764.303 2255.67,785.131 2255.53,806.031 2255.38,826.974 2255.24,847.93 2255.09,868.873 2254.95,889.773 2254.81,910.601 2254.68,931.33 2254.55,951.931 2254.43,972.375 2254.31,992.634 2254.21,1012.68 2254.12,1032.48 2254.05,1052.02 2253.98,1071.25 2253.94,1090.16 2253.91,1108.71 2253.9,1126.87 \"/>\n",
       "<polyline clip-path=\"url(#clip402)\" style=\"stroke:#000000; stroke-linecap:round; stroke-linejoin:round; stroke-width:4; stroke-opacity:1; fill:none\" points=\"2253.9,1126.87 2254.09,1143.94 2254.66,1161.36 2255.56,1179.09 2256.78,1197.11 2258.29,1215.4 2260.06,1233.92 2262.06,1252.67 2264.26,1271.6 2266.65,1290.71 2269.18,1309.94 2271.84,1329.3 2274.59,1348.74 2277.41,1368.25 2280.27,1387.79 2283.15,1407.35 2286.01,1426.89 2288.83,1446.4 2291.58,1465.84 2294.24,1485.2 2296.77,1504.44 2299.15,1523.54 2301.36,1542.47 2303.36,1561.22 2305.13,1579.75 2306.63,1598.03 2307.85,1616.06 2308.76,1633.79 2309.32,1651.2 2309.52,1668.27 \"/>\n",
       "<polyline clip-path=\"url(#clip402)\" style=\"stroke:#000000; stroke-linecap:round; stroke-linejoin:round; stroke-width:4; stroke-opacity:1; fill:none\" points=\"2309.52,1668.27 2309.58,1689.37 2309.76,1710.93 2310.05,1732.89 2310.44,1755.23 2310.92,1777.92 2311.49,1800.92 2312.13,1824.2 2312.84,1847.73 2313.6,1871.48 2314.41,1895.4 2315.26,1919.47 2316.14,1943.66 2317.05,1967.93 2317.96,1992.25 2318.88,2016.59 2319.8,2040.91 2320.7,2065.18 2321.58,2089.37 2322.43,2113.44 2323.25,2137.37 2324.01,2161.11 2324.72,2184.64 2325.36,2207.92 2325.92,2230.93 2326.4,2253.61 2326.8,2275.96 2327.09,2297.92 2327.27,2319.47 2327.33,2340.58 \"/>\n",
       "<polyline clip-path=\"url(#clip402)\" style=\"stroke:#000000; stroke-linecap:round; stroke-linejoin:round; stroke-width:4; stroke-opacity:1; fill:none\" points=\"2327.33,2340.58 2323.22,2376.13 2311.27,2409.33 2292.08,2440.33 2266.21,2469.33 2234.25,2496.48 2196.77,2521.98 2154.37,2545.98 2107.61,2568.67 2057.08,2590.23 2003.36,2610.82 1947.03,2630.63 1888.66,2649.82 1828.85,2668.58 1768.17,2687.07 1707.19,2705.47 1646.51,2723.97 1586.7,2742.72 1528.33,2761.92 1472,2781.72 1418.28,2802.31 1367.75,2823.87 1320.99,2846.56 1278.59,2870.57 1241.11,2896.06 1209.15,2923.22 1183.28,2952.21 1164.08,2983.22 1152.14,3016.41 1148.03,3051.97 \"/>\n",
       "<polyline clip-path=\"url(#clip402)\" style=\"stroke:#000000; stroke-linecap:round; stroke-linejoin:round; stroke-width:4; stroke-opacity:1; fill:none\" points=\"2327.33,2340.58 2329.24,2366.95 2334.8,2392.59 2343.74,2417.55 2355.78,2441.87 2370.67,2465.62 2388.11,2488.86 2407.86,2511.62 2429.63,2533.98 2453.15,2555.98 2478.17,2577.69 2504.39,2599.14 2531.57,2620.4 2559.42,2641.53 2587.67,2662.58 2616.06,2683.59 2644.31,2704.64 2672.16,2725.77 2699.33,2747.03 2725.56,2768.49 2750.57,2790.19 2774.1,2812.19 2795.87,2834.55 2815.61,2857.31 2833.06,2880.55 2847.94,2904.3 2859.99,2928.63 2868.93,2953.58 2874.49,2979.22 2876.4,3005.6 \"/>\n",
       "<polyline clip-path=\"url(#clip402)\" style=\"stroke:#000000; stroke-linecap:round; stroke-linejoin:round; stroke-width:4; stroke-opacity:1; fill:none\" points=\"2327.33,2340.58 2331.94,2367.23 2345.36,2392.12 2366.92,2415.36 2395.98,2437.1 2431.88,2457.46 2473.97,2476.57 2521.61,2494.57 2574.13,2511.58 2630.88,2527.74 2691.22,2543.18 2754.5,2558.03 2820.06,2572.42 2887.24,2586.48 2955.4,2600.35 3023.89,2614.15 3092.06,2628.01 3159.24,2642.07 3224.8,2656.46 3288.07,2671.31 3348.41,2686.75 3405.17,2702.91 3457.69,2719.92 3505.32,2737.92 3547.42,2757.03 3583.32,2777.39 3612.37,2799.13 3633.94,2822.37 3647.35,2847.26 3651.97,2873.92 \"/>\n",
       "<polyline clip-path=\"url(#clip402)\" style=\"stroke:#000000; stroke-linecap:round; stroke-linejoin:round; stroke-width:4; stroke-opacity:1; fill:none\" points=\"2327.33,2340.58 2325.85,2364.94 2321.57,2389.02 2314.69,2412.83 2305.41,2436.39 2293.96,2459.72 2280.52,2482.86 2265.32,2505.8 2248.55,2528.59 2230.44,2551.24 2211.18,2573.77 2190.98,2596.2 2170.05,2618.56 2148.61,2640.87 2126.85,2663.14 2104.99,2685.4 2083.24,2707.67 2061.79,2729.98 2040.87,2752.34 2020.67,2774.77 2001.41,2797.3 1983.29,2819.95 1966.53,2842.74 1951.33,2865.69 1937.89,2888.82 1926.43,2912.15 1917.16,2935.71 1910.27,2959.52 1905.99,2983.6 1904.52,3007.97 \"/>\n",
       "<path clip-path=\"url(#clip402)\" d=\"M2321.85 548.031 L2289.29 491.632 L2224.16 491.632 L2191.6 548.031 L2224.16 604.431 L2289.29 604.431 L2321.85 548.031 L2321.85 548.031  Z\" fill=\"#009af9\" fill-rule=\"evenodd\" fill-opacity=\"1\"/>\n",
       "<polyline clip-path=\"url(#clip402)\" style=\"stroke:#000000; stroke-linecap:round; stroke-linejoin:round; stroke-width:4; stroke-opacity:1; fill:none\" points=\"2321.85,548.031 2289.29,491.632 2224.16,491.632 2191.6,548.031 2224.16,604.431 2289.29,604.431 2321.85,548.031 \"/>\n",
       "<path clip-path=\"url(#clip402)\" d=\"M2367.29 1126.87 L2310.59 1028.68 L2197.21 1028.68 L2140.51 1126.87 L2197.21 1225.07 L2310.59 1225.07 L2367.29 1126.87 L2367.29 1126.87  Z\" fill=\"#009af9\" fill-rule=\"evenodd\" fill-opacity=\"1\"/>\n",
       "<polyline clip-path=\"url(#clip402)\" style=\"stroke:#000000; stroke-linecap:round; stroke-linejoin:round; stroke-width:4; stroke-opacity:1; fill:none\" points=\"2367.29,1126.87 2310.59,1028.68 2197.21,1028.68 2140.51,1126.87 2197.21,1225.07 2310.59,1225.07 2367.29,1126.87 \"/>\n",
       "<path clip-path=\"url(#clip402)\" d=\"M2391.49 1668.27 L2350.51 1597.27 L2268.53 1597.27 L2227.54 1668.27 L2268.53 1739.26 L2350.51 1739.26 L2391.49 1668.27 L2391.49 1668.27  Z\" fill=\"#009af9\" fill-rule=\"evenodd\" fill-opacity=\"1\"/>\n",
       "<polyline clip-path=\"url(#clip402)\" style=\"stroke:#000000; stroke-linecap:round; stroke-linejoin:round; stroke-width:4; stroke-opacity:1; fill:none\" points=\"2391.49,1668.27 2350.51,1597.27 2268.53,1597.27 2227.54,1668.27 2268.53,1739.26 2350.51,1739.26 2391.49,1668.27 \"/>\n",
       "<path clip-path=\"url(#clip402)\" d=\"M2537.8 2340.58 L2432.57 2158.3 L2222.09 2158.3 L2116.85 2340.58 L2222.09 2522.85 L2432.57 2522.85 L2537.8 2340.58 L2537.8 2340.58  Z\" fill=\"#009af9\" fill-rule=\"evenodd\" fill-opacity=\"1\"/>\n",
       "<polyline clip-path=\"url(#clip402)\" style=\"stroke:#000000; stroke-linecap:round; stroke-linejoin:round; stroke-width:4; stroke-opacity:1; fill:none\" points=\"2537.8,2340.58 2432.57,2158.3 2222.09,2158.3 2116.85,2340.58 2222.09,2522.85 2432.57,2522.85 2537.8,2340.58 \"/>\n",
       "<path clip-path=\"url(#clip402)\" d=\"M1290.76 3051.97 L1219.4 2928.36 L1076.67 2928.36 L1005.3 3051.97 L1076.67 3175.58 L1219.4 3175.58 L1290.76 3051.97 L1290.76 3051.97  Z\" fill=\"#009af9\" fill-rule=\"evenodd\" fill-opacity=\"1\"/>\n",
       "<polyline clip-path=\"url(#clip402)\" style=\"stroke:#000000; stroke-linecap:round; stroke-linejoin:round; stroke-width:4; stroke-opacity:1; fill:none\" points=\"1290.76,3051.97 1219.4,2928.36 1076.67,2928.36 1005.3,3051.97 1076.67,3175.58 1219.4,3175.58 1290.76,3051.97 \"/>\n",
       "<path clip-path=\"url(#clip402)\" d=\"M3004.67 3005.6 L2940.53 2894.51 L2812.26 2894.51 L2748.13 3005.6 L2812.26 3116.68 L2940.53 3116.68 L3004.67 3005.6 L3004.67 3005.6  Z\" fill=\"#009af9\" fill-rule=\"evenodd\" fill-opacity=\"1\"/>\n",
       "<polyline clip-path=\"url(#clip402)\" style=\"stroke:#000000; stroke-linecap:round; stroke-linejoin:round; stroke-width:4; stroke-opacity:1; fill:none\" points=\"3004.67,3005.6 2940.53,2894.51 2812.26,2894.51 2748.13,3005.6 2812.26,3116.68 2940.53,3116.68 3004.67,3005.6 \"/>\n",
       "<path clip-path=\"url(#clip402)\" d=\"M3780.24 2873.92 L3716.1 2762.83 L3587.83 2762.83 L3523.7 2873.92 L3587.83 2985 L3716.1 2985 L3780.24 2873.92 L3780.24 2873.92  Z\" fill=\"#009af9\" fill-rule=\"evenodd\" fill-opacity=\"1\"/>\n",
       "<polyline clip-path=\"url(#clip402)\" style=\"stroke:#000000; stroke-linecap:round; stroke-linejoin:round; stroke-width:4; stroke-opacity:1; fill:none\" points=\"3780.24,2873.92 3716.1,2762.83 3587.83,2762.83 3523.7,2873.92 3587.83,2985 3716.1,2985 3780.24,2873.92 \"/>\n",
       "<path clip-path=\"url(#clip402)\" d=\"M2032.79 3007.97 L1968.65 2896.88 L1840.38 2896.88 L1776.25 3007.97 L1840.38 3119.05 L1968.65 3119.05 L2032.79 3007.97 L2032.79 3007.97  Z\" fill=\"#009af9\" fill-rule=\"evenodd\" fill-opacity=\"1\"/>\n",
       "<polyline clip-path=\"url(#clip402)\" style=\"stroke:#000000; stroke-linecap:round; stroke-linejoin:round; stroke-width:4; stroke-opacity:1; fill:none\" points=\"2032.79,3007.97 1968.65,2896.88 1840.38,2896.88 1776.25,3007.97 1840.38,3119.05 1968.65,3119.05 2032.79,3007.97 \"/>\n",
       "<path clip-path=\"url(#clip402)\" d=\"M2256.72 548.431 L2256.38 548.231 L2256.38 547.831 L2256.72 547.631 L2257.07 547.831 L2257.07 548.231 Z\" fill=\"#009af9\" fill-rule=\"evenodd\" fill-opacity=\"1\" stroke=\"#000000\" stroke-opacity=\"1\" stroke-width=\"7.2\"/>\n",
       "<path clip-path=\"url(#clip402)\" d=\"M2253.9 1127.27 L2253.55 1127.07 L2253.55 1126.67 L2253.9 1126.47 L2254.25 1126.67 L2254.25 1127.07 Z\" fill=\"#009af9\" fill-rule=\"evenodd\" fill-opacity=\"1\" stroke=\"#000000\" stroke-opacity=\"1\" stroke-width=\"7.2\"/>\n",
       "<path clip-path=\"url(#clip402)\" d=\"M2309.52 1668.67 L2309.17 1668.47 L2309.17 1668.07 L2309.52 1667.87 L2309.86 1668.07 L2309.86 1668.47 Z\" fill=\"#009af9\" fill-rule=\"evenodd\" fill-opacity=\"1\" stroke=\"#000000\" stroke-opacity=\"1\" stroke-width=\"7.2\"/>\n",
       "<path clip-path=\"url(#clip402)\" d=\"M2327.33 2340.98 L2326.98 2340.78 L2326.98 2340.38 L2327.33 2340.18 L2327.67 2340.38 L2327.67 2340.78 Z\" fill=\"#009af9\" fill-rule=\"evenodd\" fill-opacity=\"1\" stroke=\"#000000\" stroke-opacity=\"1\" stroke-width=\"7.2\"/>\n",
       "<path clip-path=\"url(#clip402)\" d=\"M1148.03 3052.37 L1147.69 3052.17 L1147.69 3051.77 L1148.03 3051.57 L1148.38 3051.77 L1148.38 3052.17 Z\" fill=\"#009af9\" fill-rule=\"evenodd\" fill-opacity=\"1\" stroke=\"#000000\" stroke-opacity=\"1\" stroke-width=\"7.2\"/>\n",
       "<path clip-path=\"url(#clip402)\" d=\"M2876.4 3006 L2876.05 3005.8 L2876.05 3005.4 L2876.4 3005.2 L2876.75 3005.4 L2876.75 3005.8 Z\" fill=\"#009af9\" fill-rule=\"evenodd\" fill-opacity=\"1\" stroke=\"#000000\" stroke-opacity=\"1\" stroke-width=\"7.2\"/>\n",
       "<path clip-path=\"url(#clip402)\" d=\"M3651.97 2874.32 L3651.62 2874.12 L3651.62 2873.72 L3651.97 2873.52 L3652.31 2873.72 L3652.31 2874.12 Z\" fill=\"#009af9\" fill-rule=\"evenodd\" fill-opacity=\"1\" stroke=\"#000000\" stroke-opacity=\"1\" stroke-width=\"7.2\"/>\n",
       "<path clip-path=\"url(#clip402)\" d=\"M1904.52 3008.37 L1904.17 3008.17 L1904.17 3007.77 L1904.52 3007.57 L1904.86 3007.77 L1904.86 3008.17 Z\" fill=\"#009af9\" fill-rule=\"evenodd\" fill-opacity=\"1\" stroke=\"#000000\" stroke-opacity=\"1\" stroke-width=\"7.2\"/>\n",
       "<path clip-path=\"url(#clip400)\" d=\"M2242.45 541.695 L2239.28 550.294 L2245.63 550.294 L2242.45 541.695 M2241.13 539.391 L2243.78 539.391 L2250.37 556.671 L2247.94 556.671 L2246.36 552.239 L2238.57 552.239 L2237 556.671 L2234.54 556.671 L2241.13 539.391 Z\" fill=\"#000000\" fill-rule=\"nonzero\" fill-opacity=\"1\" /><path clip-path=\"url(#clip400)\" d=\"M2263.57 548.847 L2263.57 556.671 L2261.45 556.671 L2261.45 548.917 Q2261.45 547.077 2260.73 546.162 Q2260.01 545.248 2258.57 545.248 Q2256.85 545.248 2255.85 546.347 Q2254.86 547.447 2254.86 549.345 L2254.86 556.671 L2252.72 556.671 L2252.72 543.709 L2254.86 543.709 L2254.86 545.722 Q2255.62 544.554 2256.65 543.975 Q2257.7 543.396 2259.05 543.396 Q2261.28 543.396 2262.43 544.785 Q2263.57 546.162 2263.57 548.847 Z\" fill=\"#000000\" fill-rule=\"nonzero\" fill-opacity=\"1\" /><path clip-path=\"url(#clip400)\" d=\"M2273.22 557.875 Q2272.31 560.19 2271.46 560.896 Q2270.6 561.602 2269.16 561.602 L2267.46 561.602 L2267.46 559.82 L2268.71 559.82 Q2269.59 559.82 2270.08 559.403 Q2270.57 558.986 2271.16 557.435 L2271.54 556.463 L2266.29 543.709 L2268.55 543.709 L2272.6 553.847 L2276.65 543.709 L2278.91 543.709 L2273.22 557.875 Z\" fill=\"#000000\" fill-rule=\"nonzero\" fill-opacity=\"1\" /><path clip-path=\"url(#clip400)\" d=\"M2207.45 1118.23 L2210.6 1118.23 L2218.26 1132.69 L2218.26 1118.23 L2220.53 1118.23 L2220.53 1135.51 L2217.38 1135.51 L2209.72 1121.06 L2209.72 1135.51 L2207.45 1135.51 L2207.45 1118.23 Z\" fill=\"#000000\" fill-rule=\"nonzero\" fill-opacity=\"1\" /><path clip-path=\"url(#clip400)\" d=\"M2224.87 1130.4 L2224.87 1122.55 L2227 1122.55 L2227 1130.32 Q2227 1132.16 2227.72 1133.08 Q2228.44 1134 2229.87 1134 Q2231.6 1134 2232.59 1132.9 Q2233.6 1131.8 2233.6 1129.9 L2233.6 1122.55 L2235.73 1122.55 L2235.73 1135.51 L2233.6 1135.51 L2233.6 1133.52 Q2232.82 1134.7 2231.79 1135.28 Q2230.77 1135.85 2229.42 1135.85 Q2227.19 1135.85 2226.03 1134.46 Q2224.87 1133.07 2224.87 1130.4 M2230.23 1122.24 L2230.23 1122.24 Z\" fill=\"#000000\" fill-rule=\"nonzero\" fill-opacity=\"1\" /><path clip-path=\"url(#clip400)\" d=\"M2250.21 1125.04 Q2251.01 1123.6 2252.12 1122.92 Q2253.23 1122.24 2254.73 1122.24 Q2256.76 1122.24 2257.86 1123.66 Q2258.96 1125.07 2258.96 1127.69 L2258.96 1135.51 L2256.82 1135.51 L2256.82 1127.76 Q2256.82 1125.89 2256.16 1124.99 Q2255.5 1124.09 2254.14 1124.09 Q2252.49 1124.09 2251.53 1125.19 Q2250.57 1126.29 2250.57 1128.19 L2250.57 1135.51 L2248.43 1135.51 L2248.43 1127.76 Q2248.43 1125.88 2247.77 1124.99 Q2247.11 1124.09 2245.73 1124.09 Q2244.1 1124.09 2243.14 1125.2 Q2242.18 1126.3 2242.18 1128.19 L2242.18 1135.51 L2240.03 1135.51 L2240.03 1122.55 L2242.18 1122.55 L2242.18 1124.56 Q2242.9 1123.37 2243.92 1122.8 Q2244.94 1122.24 2246.34 1122.24 Q2247.75 1122.24 2248.74 1122.95 Q2249.73 1123.67 2250.21 1125.04 Z\" fill=\"#000000\" fill-rule=\"nonzero\" fill-opacity=\"1\" /><path clip-path=\"url(#clip400)\" d=\"M2272.51 1129.04 Q2272.51 1126.69 2271.54 1125.36 Q2270.58 1124.02 2268.89 1124.02 Q2267.2 1124.02 2266.23 1125.36 Q2265.27 1126.69 2265.27 1129.04 Q2265.27 1131.39 2266.23 1132.73 Q2267.2 1134.07 2268.89 1134.07 Q2270.58 1134.07 2271.54 1132.73 Q2272.51 1131.39 2272.51 1129.04 M2265.27 1124.52 Q2265.94 1123.36 2266.96 1122.8 Q2267.99 1122.24 2269.41 1122.24 Q2271.77 1122.24 2273.24 1124.11 Q2274.72 1125.99 2274.72 1129.04 Q2274.72 1132.1 2273.24 1133.97 Q2271.77 1135.85 2269.41 1135.85 Q2267.99 1135.85 2266.96 1135.29 Q2265.94 1134.73 2265.27 1133.57 L2265.27 1135.51 L2263.12 1135.51 L2263.12 1117.5 L2265.27 1117.5 L2265.27 1124.52 Z\" fill=\"#000000\" fill-rule=\"nonzero\" fill-opacity=\"1\" /><path clip-path=\"url(#clip400)\" d=\"M2289.34 1128.5 L2289.34 1129.54 L2279.55 1129.54 Q2279.69 1131.74 2280.87 1132.9 Q2282.06 1134.04 2284.18 1134.04 Q2285.4 1134.04 2286.55 1133.74 Q2287.71 1133.44 2288.84 1132.84 L2288.84 1134.85 Q2287.7 1135.34 2286.49 1135.59 Q2285.29 1135.85 2284.05 1135.85 Q2280.95 1135.85 2279.13 1134.04 Q2277.33 1132.24 2277.33 1129.16 Q2277.33 1125.98 2279.04 1124.11 Q2280.76 1122.24 2283.68 1122.24 Q2286.3 1122.24 2287.81 1123.93 Q2289.34 1125.61 2289.34 1128.5 M2287.21 1127.87 Q2287.19 1126.13 2286.23 1125.08 Q2285.28 1124.04 2283.7 1124.04 Q2281.92 1124.04 2280.84 1125.05 Q2279.78 1126.06 2279.62 1127.89 L2287.21 1127.87 Z\" fill=\"#000000\" fill-rule=\"nonzero\" fill-opacity=\"1\" /><path clip-path=\"url(#clip400)\" d=\"M2300.35 1124.54 Q2299.99 1124.33 2299.56 1124.24 Q2299.14 1124.14 2298.63 1124.14 Q2296.83 1124.14 2295.86 1125.32 Q2294.9 1126.48 2294.9 1128.68 L2294.9 1135.51 L2292.75 1135.51 L2292.75 1122.55 L2294.9 1122.55 L2294.9 1124.56 Q2295.57 1123.38 2296.64 1122.82 Q2297.72 1122.24 2299.26 1122.24 Q2299.48 1122.24 2299.74 1122.27 Q2300.01 1122.3 2300.33 1122.35 L2300.35 1124.54 Z\" fill=\"#000000\" fill-rule=\"nonzero\" fill-opacity=\"1\" /><path clip-path=\"url(#clip400)\" d=\"M2294.44 1668.81 Q2295.19 1669.06 2295.89 1669.9 Q2296.61 1670.73 2297.33 1672.19 L2299.7 1676.91 L2297.19 1676.91 L2294.98 1672.48 Q2294.12 1670.74 2293.31 1670.17 Q2292.52 1669.61 2291.13 1669.61 L2288.58 1669.61 L2288.58 1676.91 L2286.24 1676.91 L2286.24 1659.63 L2291.52 1659.63 Q2294.48 1659.63 2295.94 1660.87 Q2297.4 1662.11 2297.4 1664.61 Q2297.4 1666.24 2296.64 1667.31 Q2295.88 1668.39 2294.44 1668.81 M2288.58 1661.55 L2288.58 1667.68 L2291.52 1667.68 Q2293.21 1667.68 2294.07 1666.91 Q2294.93 1666.12 2294.93 1664.61 Q2294.93 1663.09 2294.07 1662.33 Q2293.21 1661.55 2291.52 1661.55 L2288.58 1661.55 Z\" fill=\"#000000\" fill-rule=\"nonzero\" fill-opacity=\"1\" /><path clip-path=\"url(#clip400)\" d=\"M2312.64 1669.9 L2312.64 1670.94 L2302.85 1670.94 Q2302.99 1673.14 2304.17 1674.29 Q2305.36 1675.44 2307.48 1675.44 Q2308.71 1675.44 2309.85 1675.14 Q2311.01 1674.84 2312.14 1674.24 L2312.14 1676.25 Q2311 1676.74 2309.8 1676.99 Q2308.59 1677.24 2307.35 1677.24 Q2304.25 1677.24 2302.43 1675.44 Q2300.63 1673.63 2300.63 1670.55 Q2300.63 1667.37 2302.34 1665.51 Q2304.07 1663.63 2306.98 1663.63 Q2309.6 1663.63 2311.11 1665.32 Q2312.64 1667 2312.64 1669.9 M2310.51 1669.27 Q2310.49 1667.52 2309.53 1666.48 Q2308.58 1665.44 2307.01 1665.44 Q2305.22 1665.44 2304.15 1666.45 Q2303.08 1667.45 2302.92 1669.28 L2310.51 1669.27 Z\" fill=\"#000000\" fill-rule=\"nonzero\" fill-opacity=\"1\" /><path clip-path=\"url(#clip400)\" d=\"M2322.03 1670.39 Q2319.45 1670.39 2318.45 1670.98 Q2317.46 1671.57 2317.46 1673 Q2317.46 1674.13 2318.2 1674.8 Q2318.95 1675.46 2320.23 1675.46 Q2322.01 1675.46 2323.07 1674.21 Q2324.15 1672.95 2324.15 1670.87 L2324.15 1670.39 L2322.03 1670.39 M2326.28 1669.51 L2326.28 1676.91 L2324.15 1676.91 L2324.15 1674.94 Q2323.42 1676.12 2322.33 1676.69 Q2321.24 1677.24 2319.67 1677.24 Q2317.68 1677.24 2316.5 1676.13 Q2315.33 1675.01 2315.33 1673.14 Q2315.33 1670.95 2316.79 1669.84 Q2318.26 1668.73 2321.16 1668.73 L2324.15 1668.73 L2324.15 1668.52 Q2324.15 1667.05 2323.17 1666.25 Q2322.21 1665.44 2320.47 1665.44 Q2319.36 1665.44 2318.3 1665.71 Q2317.25 1665.97 2316.28 1666.5 L2316.28 1664.54 Q2317.45 1664.09 2318.54 1663.87 Q2319.64 1663.63 2320.69 1663.63 Q2323.5 1663.63 2324.89 1665.09 Q2326.28 1666.55 2326.28 1669.51 Z\" fill=\"#000000\" fill-rule=\"nonzero\" fill-opacity=\"1\" /><path clip-path=\"url(#clip400)\" d=\"M2330.66 1658.9 L2332.79 1658.9 L2332.79 1676.91 L2330.66 1676.91 L2330.66 1658.9 Z\" fill=\"#000000\" fill-rule=\"nonzero\" fill-opacity=\"1\" /><path clip-path=\"url(#clip400)\" d=\"M2256.6 2334.24 L2253.43 2342.84 L2259.78 2342.84 L2256.6 2334.24 M2255.28 2331.94 L2257.93 2331.94 L2264.52 2349.22 L2262.08 2349.22 L2260.51 2344.78 L2252.72 2344.78 L2251.15 2349.22 L2248.68 2349.22 L2255.28 2331.94 Z\" fill=\"#000000\" fill-rule=\"nonzero\" fill-opacity=\"1\" /><path clip-path=\"url(#clip400)\" d=\"M2276.25 2342.75 Q2276.25 2340.4 2275.28 2339.07 Q2274.32 2337.72 2272.63 2337.72 Q2270.94 2337.72 2269.97 2339.07 Q2269.01 2340.4 2269.01 2342.75 Q2269.01 2345.1 2269.97 2346.44 Q2270.94 2347.77 2272.63 2347.77 Q2274.32 2347.77 2275.28 2346.44 Q2276.25 2345.1 2276.25 2342.75 M2269.01 2338.22 Q2269.68 2337.06 2270.7 2336.51 Q2271.73 2335.94 2273.15 2335.94 Q2275.51 2335.94 2276.98 2337.82 Q2278.46 2339.69 2278.46 2342.75 Q2278.46 2345.8 2276.98 2347.68 Q2275.51 2349.55 2273.15 2349.55 Q2271.73 2349.55 2270.7 2349 Q2269.68 2348.43 2269.01 2347.27 L2269.01 2349.22 L2266.86 2349.22 L2266.86 2331.21 L2269.01 2331.21 L2269.01 2338.22 Z\" fill=\"#000000\" fill-rule=\"nonzero\" fill-opacity=\"1\" /><path clip-path=\"url(#clip400)\" d=\"M2290.26 2336.63 L2290.26 2338.65 Q2289.35 2338.19 2288.38 2337.95 Q2287.41 2337.72 2286.37 2337.72 Q2284.78 2337.72 2283.98 2338.21 Q2283.2 2338.69 2283.2 2339.67 Q2283.2 2340.41 2283.76 2340.84 Q2284.33 2341.25 2286.04 2341.63 L2286.77 2341.8 Q2289.04 2342.28 2289.99 2343.17 Q2290.95 2344.05 2290.95 2345.64 Q2290.95 2347.44 2289.52 2348.5 Q2288.09 2349.55 2285.59 2349.55 Q2284.55 2349.55 2283.42 2349.34 Q2282.29 2349.15 2281.04 2348.74 L2281.04 2346.54 Q2282.22 2347.16 2283.37 2347.47 Q2284.52 2347.77 2285.64 2347.77 Q2287.14 2347.77 2287.95 2347.26 Q2288.76 2346.74 2288.76 2345.8 Q2288.76 2344.93 2288.17 2344.47 Q2287.59 2344.01 2285.61 2343.58 L2284.87 2343.41 Q2282.89 2342.99 2282.02 2342.13 Q2281.14 2341.26 2281.14 2339.76 Q2281.14 2337.93 2282.43 2336.94 Q2283.73 2335.94 2286.11 2335.94 Q2287.29 2335.94 2288.33 2336.11 Q2289.38 2336.29 2290.26 2336.63 Z\" fill=\"#000000\" fill-rule=\"nonzero\" fill-opacity=\"1\" /><path clip-path=\"url(#clip400)\" d=\"M2296.45 2332.57 L2296.45 2336.25 L2300.83 2336.25 L2300.83 2337.91 L2296.45 2337.91 L2296.45 2344.94 Q2296.45 2346.53 2296.88 2346.98 Q2297.32 2347.43 2298.65 2347.43 L2300.83 2347.43 L2300.83 2349.22 L2298.65 2349.22 Q2296.18 2349.22 2295.24 2348.3 Q2294.31 2347.38 2294.31 2344.94 L2294.31 2337.91 L2292.74 2337.91 L2292.74 2336.25 L2294.31 2336.25 L2294.31 2332.57 L2296.45 2332.57 Z\" fill=\"#000000\" fill-rule=\"nonzero\" fill-opacity=\"1\" /><path clip-path=\"url(#clip400)\" d=\"M2311.15 2338.24 Q2310.79 2338.04 2310.36 2337.94 Q2309.94 2337.84 2309.43 2337.84 Q2307.63 2337.84 2306.66 2339.02 Q2305.7 2340.19 2305.7 2342.39 L2305.7 2349.22 L2303.55 2349.22 L2303.55 2336.25 L2305.7 2336.25 L2305.7 2338.27 Q2306.37 2337.09 2307.44 2336.52 Q2308.52 2335.94 2310.06 2335.94 Q2310.28 2335.94 2310.55 2335.98 Q2310.81 2336 2311.14 2336.06 L2311.15 2338.24 Z\" fill=\"#000000\" fill-rule=\"nonzero\" fill-opacity=\"1\" /><path clip-path=\"url(#clip400)\" d=\"M2319.27 2342.7 Q2316.69 2342.7 2315.7 2343.29 Q2314.7 2343.88 2314.7 2345.3 Q2314.7 2346.44 2315.44 2347.11 Q2316.19 2347.77 2317.48 2347.77 Q2319.25 2347.77 2320.31 2346.52 Q2321.39 2345.26 2321.39 2343.17 L2321.39 2342.7 L2319.27 2342.7 M2323.52 2341.82 L2323.52 2349.22 L2321.39 2349.22 L2321.39 2347.25 Q2320.66 2348.43 2319.57 2349 Q2318.48 2349.55 2316.91 2349.55 Q2314.92 2349.55 2313.74 2348.44 Q2312.57 2347.32 2312.57 2345.44 Q2312.57 2343.26 2314.03 2342.14 Q2315.5 2341.03 2318.4 2341.03 L2321.39 2341.03 L2321.39 2340.82 Q2321.39 2339.35 2320.42 2338.56 Q2319.46 2337.75 2317.71 2337.75 Q2316.6 2337.75 2315.55 2338.01 Q2314.49 2338.28 2313.52 2338.81 L2313.52 2336.84 Q2314.69 2336.39 2315.79 2336.17 Q2316.89 2335.94 2317.93 2335.94 Q2320.74 2335.94 2322.13 2337.4 Q2323.52 2338.86 2323.52 2341.82 Z\" fill=\"#000000\" fill-rule=\"nonzero\" fill-opacity=\"1\" /><path clip-path=\"url(#clip400)\" d=\"M2337.23 2336.75 L2337.23 2338.74 Q2336.33 2338.24 2335.42 2338 Q2334.51 2337.75 2333.59 2337.75 Q2331.52 2337.75 2330.37 2339.07 Q2329.23 2340.37 2329.23 2342.75 Q2329.23 2345.12 2330.37 2346.44 Q2331.52 2347.75 2333.59 2347.75 Q2334.51 2347.75 2335.42 2347.5 Q2336.33 2347.25 2337.23 2346.75 L2337.23 2348.72 Q2336.34 2349.13 2335.38 2349.34 Q2334.43 2349.55 2333.36 2349.55 Q2330.43 2349.55 2328.7 2347.71 Q2326.98 2345.87 2326.98 2342.75 Q2326.98 2339.57 2328.72 2337.76 Q2330.46 2335.94 2333.5 2335.94 Q2334.48 2335.94 2335.42 2336.15 Q2336.36 2336.35 2337.23 2336.75 Z\" fill=\"#000000\" fill-rule=\"nonzero\" fill-opacity=\"1\" /><path clip-path=\"url(#clip400)\" d=\"M2343.04 2332.57 L2343.04 2336.25 L2347.43 2336.25 L2347.43 2337.91 L2343.04 2337.91 L2343.04 2344.94 Q2343.04 2346.53 2343.47 2346.98 Q2343.91 2347.43 2345.24 2347.43 L2347.43 2347.43 L2347.43 2349.22 L2345.24 2349.22 Q2342.78 2349.22 2341.84 2348.3 Q2340.9 2347.38 2340.9 2344.94 L2340.9 2337.91 L2339.34 2337.91 L2339.34 2336.25 L2340.9 2336.25 L2340.9 2332.57 L2343.04 2332.57 Z\" fill=\"#000000\" fill-rule=\"nonzero\" fill-opacity=\"1\" /><path clip-path=\"url(#clip400)\" d=\"M2350.33 2331.94 L2360.26 2331.94 L2360.26 2333.9 L2352.66 2333.9 L2352.66 2339 L2359.51 2339 L2359.51 2340.96 L2352.66 2340.96 L2352.66 2349.22 L2350.33 2349.22 L2350.33 2331.94 Z\" fill=\"#000000\" fill-rule=\"nonzero\" fill-opacity=\"1\" /><path clip-path=\"url(#clip400)\" d=\"M2363.87 2331.21 L2366 2331.21 L2366 2349.22 L2363.87 2349.22 L2363.87 2331.21 Z\" fill=\"#000000\" fill-rule=\"nonzero\" fill-opacity=\"1\" /><path clip-path=\"url(#clip400)\" d=\"M2375.48 2337.75 Q2373.76 2337.75 2372.77 2339.09 Q2371.77 2340.42 2371.77 2342.75 Q2371.77 2345.07 2372.76 2346.41 Q2373.75 2347.75 2375.48 2347.75 Q2377.18 2347.75 2378.17 2346.4 Q2379.17 2345.06 2379.17 2342.75 Q2379.17 2340.44 2378.17 2339.1 Q2377.18 2337.75 2375.48 2337.75 M2375.48 2335.94 Q2378.25 2335.94 2379.84 2337.75 Q2381.42 2339.55 2381.42 2342.75 Q2381.42 2345.93 2379.84 2347.75 Q2378.25 2349.55 2375.48 2349.55 Q2372.69 2349.55 2371.1 2347.75 Q2369.53 2345.93 2369.53 2342.75 Q2369.53 2339.55 2371.1 2337.75 Q2372.69 2335.94 2375.48 2335.94 Z\" fill=\"#000000\" fill-rule=\"nonzero\" fill-opacity=\"1\" /><path clip-path=\"url(#clip400)\" d=\"M2390.85 2342.7 Q2388.26 2342.7 2387.27 2343.29 Q2386.27 2343.88 2386.27 2345.3 Q2386.27 2346.44 2387.01 2347.11 Q2387.77 2347.77 2389.05 2347.77 Q2390.82 2347.77 2391.89 2346.52 Q2392.96 2345.26 2392.96 2343.17 L2392.96 2342.7 L2390.85 2342.7 M2395.09 2341.82 L2395.09 2349.22 L2392.96 2349.22 L2392.96 2347.25 Q2392.23 2348.43 2391.15 2349 Q2390.06 2349.55 2388.48 2349.55 Q2386.49 2349.55 2385.31 2348.44 Q2384.14 2347.32 2384.14 2345.44 Q2384.14 2343.26 2385.6 2342.14 Q2387.07 2341.03 2389.98 2341.03 L2392.96 2341.03 L2392.96 2340.82 Q2392.96 2339.35 2391.99 2338.56 Q2391.03 2337.75 2389.28 2337.75 Q2388.17 2337.75 2387.12 2338.01 Q2386.07 2338.28 2385.09 2338.81 L2385.09 2336.84 Q2386.26 2336.39 2387.36 2336.17 Q2388.46 2335.94 2389.5 2335.94 Q2392.32 2335.94 2393.7 2337.4 Q2395.09 2338.86 2395.09 2341.82 Z\" fill=\"#000000\" fill-rule=\"nonzero\" fill-opacity=\"1\" /><path clip-path=\"url(#clip400)\" d=\"M2401.59 2332.57 L2401.59 2336.25 L2405.97 2336.25 L2405.97 2337.91 L2401.59 2337.91 L2401.59 2344.94 Q2401.59 2346.53 2402.01 2346.98 Q2402.45 2347.43 2403.79 2347.43 L2405.97 2347.43 L2405.97 2349.22 L2403.79 2349.22 Q2401.32 2349.22 2400.38 2348.3 Q2399.45 2347.38 2399.45 2344.94 L2399.45 2337.91 L2397.88 2337.91 L2397.88 2336.25 L2399.45 2336.25 L2399.45 2332.57 L2401.59 2332.57 Z\" fill=\"#000000\" fill-rule=\"nonzero\" fill-opacity=\"1\" /><path clip-path=\"url(#clip400)\" d=\"M1103.6 3052.36 L1103.6 3058.69 L1107.35 3058.69 Q1109.24 3058.69 1110.14 3057.91 Q1111.05 3057.12 1111.05 3055.52 Q1111.05 3053.9 1110.14 3053.13 Q1109.24 3052.36 1107.35 3052.36 L1103.6 3052.36 M1103.6 3045.25 L1103.6 3050.46 L1107.06 3050.46 Q1108.77 3050.46 1109.61 3049.82 Q1110.45 3049.17 1110.45 3047.85 Q1110.45 3046.55 1109.61 3045.9 Q1108.77 3045.25 1107.06 3045.25 L1103.6 3045.25 M1101.26 3043.33 L1107.23 3043.33 Q1109.91 3043.33 1111.35 3044.44 Q1112.8 3045.55 1112.8 3047.6 Q1112.8 3049.18 1112.06 3050.12 Q1111.32 3051.06 1109.88 3051.29 Q1111.61 3051.66 1112.56 3052.84 Q1113.52 3054.01 1113.52 3055.77 Q1113.52 3058.09 1111.94 3059.35 Q1110.37 3060.61 1107.46 3060.61 L1101.26 3060.61 L1101.26 3043.33 Z\" fill=\"#000000\" fill-rule=\"nonzero\" fill-opacity=\"1\" /><path clip-path=\"url(#clip400)\" d=\"M1117.43 3047.65 L1119.56 3047.65 L1119.56 3060.61 L1117.43 3060.61 L1117.43 3047.65 M1117.43 3042.6 L1119.56 3042.6 L1119.56 3045.3 L1117.43 3045.3 L1117.43 3042.6 Z\" fill=\"#000000\" fill-rule=\"nonzero\" fill-opacity=\"1\" /><path clip-path=\"url(#clip400)\" d=\"M1132.55 3053.98 Q1132.55 3051.66 1131.58 3050.39 Q1130.64 3049.12 1128.91 3049.12 Q1127.2 3049.12 1126.24 3050.39 Q1125.29 3051.66 1125.29 3053.98 Q1125.29 3056.28 1126.24 3057.55 Q1127.2 3058.83 1128.91 3058.83 Q1130.64 3058.83 1131.58 3057.55 Q1132.55 3056.28 1132.55 3053.98 M1134.68 3059 Q1134.68 3062.31 1133.21 3063.92 Q1131.74 3065.54 1128.7 3065.54 Q1127.58 3065.54 1126.58 3065.37 Q1125.59 3065.2 1124.65 3064.86 L1124.65 3062.78 Q1125.59 3063.29 1126.5 3063.54 Q1127.42 3063.78 1128.37 3063.78 Q1130.46 3063.78 1131.5 3062.68 Q1132.55 3061.59 1132.55 3059.38 L1132.55 3058.33 Q1131.89 3059.47 1130.86 3060.04 Q1129.83 3060.61 1128.39 3060.61 Q1126.01 3060.61 1124.55 3058.79 Q1123.09 3056.97 1123.09 3053.98 Q1123.09 3050.97 1124.55 3049.15 Q1126.01 3047.33 1128.39 3047.33 Q1129.83 3047.33 1130.86 3047.9 Q1131.89 3048.47 1132.55 3049.61 L1132.55 3047.65 L1134.68 3047.65 L1134.68 3059 Z\" fill=\"#000000\" fill-rule=\"nonzero\" fill-opacity=\"1\" /><path clip-path=\"url(#clip400)\" d=\"M1139.15 3043.33 L1149.08 3043.33 L1149.08 3045.3 L1141.49 3045.3 L1141.49 3050.39 L1148.34 3050.39 L1148.34 3052.36 L1141.49 3052.36 L1141.49 3060.61 L1139.15 3060.61 L1139.15 3043.33 Z\" fill=\"#000000\" fill-rule=\"nonzero\" fill-opacity=\"1\" /><path clip-path=\"url(#clip400)\" d=\"M1152.7 3042.6 L1154.83 3042.6 L1154.83 3060.61 L1152.7 3060.61 L1152.7 3042.6 Z\" fill=\"#000000\" fill-rule=\"nonzero\" fill-opacity=\"1\" /><path clip-path=\"url(#clip400)\" d=\"M1164.3 3049.14 Q1162.59 3049.14 1161.6 3050.48 Q1160.6 3051.81 1160.6 3054.14 Q1160.6 3056.47 1161.58 3057.81 Q1162.58 3059.14 1164.3 3059.14 Q1166.01 3059.14 1167 3057.8 Q1168 3056.45 1168 3054.14 Q1168 3051.84 1167 3050.49 Q1166.01 3049.14 1164.3 3049.14 M1164.3 3047.33 Q1167.08 3047.33 1168.67 3049.14 Q1170.25 3050.94 1170.25 3054.14 Q1170.25 3057.32 1168.67 3059.14 Q1167.08 3060.94 1164.3 3060.94 Q1161.52 3060.94 1159.93 3059.14 Q1158.36 3057.32 1158.36 3054.14 Q1158.36 3050.94 1159.93 3049.14 Q1161.52 3047.33 1164.3 3047.33 Z\" fill=\"#000000\" fill-rule=\"nonzero\" fill-opacity=\"1\" /><path clip-path=\"url(#clip400)\" d=\"M1179.67 3054.09 Q1177.09 3054.09 1176.1 3054.68 Q1175.1 3055.27 1175.1 3056.7 Q1175.1 3057.83 1175.84 3058.5 Q1176.6 3059.16 1177.88 3059.16 Q1179.65 3059.16 1180.72 3057.91 Q1181.79 3056.65 1181.79 3054.57 L1181.79 3054.09 L1179.67 3054.09 M1183.92 3053.21 L1183.92 3060.61 L1181.79 3060.61 L1181.79 3058.64 Q1181.06 3059.82 1179.98 3060.39 Q1178.89 3060.94 1177.31 3060.94 Q1175.32 3060.94 1174.14 3059.83 Q1172.97 3058.71 1172.97 3056.84 Q1172.97 3054.65 1174.43 3053.54 Q1175.9 3052.43 1178.81 3052.43 L1181.79 3052.43 L1181.79 3052.22 Q1181.79 3050.75 1180.82 3049.95 Q1179.86 3049.14 1178.11 3049.14 Q1177 3049.14 1175.95 3049.4 Q1174.89 3049.67 1173.92 3050.2 L1173.92 3048.24 Q1175.09 3047.78 1176.19 3047.56 Q1177.29 3047.33 1178.33 3047.33 Q1181.14 3047.33 1182.53 3048.79 Q1183.92 3050.25 1183.92 3053.21 Z\" fill=\"#000000\" fill-rule=\"nonzero\" fill-opacity=\"1\" /><path clip-path=\"url(#clip400)\" d=\"M1190.42 3043.97 L1190.42 3047.65 L1194.8 3047.65 L1194.8 3049.3 L1190.42 3049.3 L1190.42 3056.34 Q1190.42 3057.92 1190.84 3058.37 Q1191.28 3058.83 1192.61 3058.83 L1194.8 3058.83 L1194.8 3060.61 L1192.61 3060.61 Q1190.15 3060.61 1189.21 3059.69 Q1188.27 3058.77 1188.27 3056.34 L1188.27 3049.3 L1186.71 3049.3 L1186.71 3047.65 L1188.27 3047.65 L1188.27 3043.97 L1190.42 3043.97 Z\" fill=\"#000000\" fill-rule=\"nonzero\" fill-opacity=\"1\" /><path clip-path=\"url(#clip400)\" d=\"M2833.96 2996.96 L2843.89 2996.96 L2843.89 2998.92 L2836.3 2998.92 L2836.3 3004.02 L2843.15 3004.02 L2843.15 3005.98 L2836.3 3005.98 L2836.3 3014.24 L2833.96 3014.24 L2833.96 2996.96 Z\" fill=\"#000000\" fill-rule=\"nonzero\" fill-opacity=\"1\" /><path clip-path=\"url(#clip400)\" d=\"M2847.5 2996.23 L2849.63 2996.23 L2849.63 3014.24 L2847.5 3014.24 L2847.5 2996.23 Z\" fill=\"#000000\" fill-rule=\"nonzero\" fill-opacity=\"1\" /><path clip-path=\"url(#clip400)\" d=\"M2859.11 3002.77 Q2857.4 3002.77 2856.4 3004.11 Q2855.4 3005.44 2855.4 3007.77 Q2855.4 3010.09 2856.39 3011.43 Q2857.38 3012.77 2859.11 3012.77 Q2860.81 3012.77 2861.8 3011.42 Q2862.8 3010.08 2862.8 3007.77 Q2862.8 3005.46 2861.8 3004.12 Q2860.81 3002.77 2859.11 3002.77 M2859.11 3000.96 Q2861.89 3000.96 2863.47 3002.77 Q2865.06 3004.57 2865.06 3007.77 Q2865.06 3010.95 2863.47 3012.77 Q2861.89 3014.57 2859.11 3014.57 Q2856.32 3014.57 2854.73 3012.77 Q2853.16 3010.95 2853.16 3007.77 Q2853.16 3004.57 2854.73 3002.77 Q2856.32 3000.96 2859.11 3000.96 Z\" fill=\"#000000\" fill-rule=\"nonzero\" fill-opacity=\"1\" /><path clip-path=\"url(#clip400)\" d=\"M2874.48 3007.72 Q2871.9 3007.72 2870.9 3008.31 Q2869.91 3008.9 2869.91 3010.32 Q2869.91 3011.46 2870.65 3012.13 Q2871.4 3012.79 2872.68 3012.79 Q2874.46 3012.79 2875.52 3011.54 Q2876.6 3010.28 2876.6 3008.19 L2876.6 3007.72 L2874.48 3007.72 M2878.73 3006.84 L2878.73 3014.24 L2876.6 3014.24 L2876.6 3012.27 Q2875.87 3013.45 2874.78 3014.02 Q2873.69 3014.57 2872.12 3014.57 Q2870.13 3014.57 2868.95 3013.46 Q2867.78 3012.34 2867.78 3010.46 Q2867.78 3008.27 2869.24 3007.16 Q2870.71 3006.05 2873.61 3006.05 L2876.6 3006.05 L2876.6 3005.84 Q2876.6 3004.37 2875.62 3003.58 Q2874.66 3002.77 2872.92 3002.77 Q2871.8 3002.77 2870.75 3003.03 Q2869.7 3003.3 2868.73 3003.83 L2868.73 3001.86 Q2869.9 3001.41 2870.99 3001.19 Q2872.09 3000.96 2873.14 3000.96 Q2875.95 3000.96 2877.34 3002.42 Q2878.73 3003.88 2878.73 3006.84 Z\" fill=\"#000000\" fill-rule=\"nonzero\" fill-opacity=\"1\" /><path clip-path=\"url(#clip400)\" d=\"M2885.22 2997.59 L2885.22 3001.27 L2889.61 3001.27 L2889.61 3002.93 L2885.22 3002.93 L2885.22 3009.96 Q2885.22 3011.55 2885.65 3012 Q2886.09 3012.45 2887.42 3012.45 L2889.61 3012.45 L2889.61 3014.24 L2887.42 3014.24 Q2884.95 3014.24 2884.02 3013.32 Q2883.08 3012.4 2883.08 3009.96 L2883.08 3002.93 L2881.52 3002.93 L2881.52 3001.27 L2883.08 3001.27 L2883.08 2997.59 L2885.22 2997.59 Z\" fill=\"#000000\" fill-rule=\"nonzero\" fill-opacity=\"1\" /><path clip-path=\"url(#clip400)\" d=\"M2893.11 3012.27 L2896.93 3012.27 L2896.93 2999.09 L2892.78 2999.92 L2892.78 2997.79 L2896.91 2996.96 L2899.25 2996.96 L2899.25 3012.27 L2903.07 3012.27 L2903.07 3014.24 L2893.11 3014.24 L2893.11 3012.27 Z\" fill=\"#000000\" fill-rule=\"nonzero\" fill-opacity=\"1\" /><path clip-path=\"url(#clip400)\" d=\"M2913.08 3004.66 Q2911.5 3004.66 2910.58 3005.74 Q2909.66 3006.82 2909.66 3008.69 Q2909.66 3010.56 2910.58 3011.64 Q2911.5 3012.72 2913.08 3012.72 Q2914.65 3012.72 2915.57 3011.64 Q2916.49 3010.56 2916.49 3008.69 Q2916.49 3006.82 2915.57 3005.74 Q2914.65 3004.66 2913.08 3004.66 M2917.72 2997.34 L2917.72 2999.47 Q2916.84 2999.05 2915.94 2998.83 Q2915.05 2998.61 2914.17 2998.61 Q2911.85 2998.61 2910.62 3000.17 Q2909.41 3001.74 2909.24 3004.9 Q2909.92 3003.89 2910.95 3003.36 Q2911.98 3002.81 2913.22 3002.81 Q2915.82 3002.81 2917.33 3004.4 Q2918.84 3005.97 2918.84 3008.69 Q2918.84 3011.35 2917.27 3012.96 Q2915.69 3014.57 2913.08 3014.57 Q2910.08 3014.57 2908.49 3012.28 Q2906.91 3009.98 2906.91 3005.61 Q2906.91 3001.52 2908.85 2999.09 Q2910.8 2996.64 2914.07 2996.64 Q2914.95 2996.64 2915.84 2996.82 Q2916.75 2996.99 2917.72 2997.34 Z\" fill=\"#000000\" fill-rule=\"nonzero\" fill-opacity=\"1\" /><path clip-path=\"url(#clip400)\" d=\"M3609.97 2865.28 L3619.9 2865.28 L3619.9 2867.24 L3612.3 2867.24 L3612.3 2872.34 L3619.16 2872.34 L3619.16 2874.3 L3612.3 2874.3 L3612.3 2882.56 L3609.97 2882.56 L3609.97 2865.28 Z\" fill=\"#000000\" fill-rule=\"nonzero\" fill-opacity=\"1\" /><path clip-path=\"url(#clip400)\" d=\"M3623.51 2864.55 L3625.64 2864.55 L3625.64 2882.56 L3623.51 2882.56 L3623.51 2864.55 Z\" fill=\"#000000\" fill-rule=\"nonzero\" fill-opacity=\"1\" /><path clip-path=\"url(#clip400)\" d=\"M3635.12 2871.09 Q3633.4 2871.09 3632.41 2872.43 Q3631.41 2873.76 3631.41 2876.09 Q3631.41 2878.41 3632.4 2879.76 Q3633.39 2881.09 3635.12 2881.09 Q3636.82 2881.09 3637.81 2879.74 Q3638.81 2878.4 3638.81 2876.09 Q3638.81 2873.78 3637.81 2872.44 Q3636.82 2871.09 3635.12 2871.09 M3635.12 2869.28 Q3637.89 2869.28 3639.48 2871.09 Q3641.07 2872.89 3641.07 2876.09 Q3641.07 2879.27 3639.48 2881.09 Q3637.89 2882.89 3635.12 2882.89 Q3632.33 2882.89 3630.74 2881.09 Q3629.17 2879.27 3629.17 2876.09 Q3629.17 2872.89 3630.74 2871.09 Q3632.33 2869.28 3635.12 2869.28 Z\" fill=\"#000000\" fill-rule=\"nonzero\" fill-opacity=\"1\" /><path clip-path=\"url(#clip400)\" d=\"M3650.49 2876.04 Q3647.91 2876.04 3646.91 2876.63 Q3645.92 2877.22 3645.92 2878.64 Q3645.92 2879.78 3646.66 2880.45 Q3647.41 2881.11 3648.69 2881.11 Q3650.46 2881.11 3651.53 2879.86 Q3652.61 2878.6 3652.61 2876.51 L3652.61 2876.04 L3650.49 2876.04 M3654.73 2875.16 L3654.73 2882.56 L3652.61 2882.56 L3652.61 2880.59 Q3651.88 2881.77 3650.79 2882.34 Q3649.7 2882.89 3648.13 2882.89 Q3646.14 2882.89 3644.95 2881.78 Q3643.79 2880.66 3643.79 2878.78 Q3643.79 2876.6 3645.24 2875.48 Q3646.71 2874.37 3649.62 2874.37 L3652.61 2874.37 L3652.61 2874.17 Q3652.61 2872.7 3651.63 2871.9 Q3650.67 2871.09 3648.92 2871.09 Q3647.81 2871.09 3646.76 2871.35 Q3645.71 2871.62 3644.73 2872.15 L3644.73 2870.18 Q3645.9 2869.73 3647 2869.51 Q3648.1 2869.28 3649.14 2869.28 Q3651.96 2869.28 3653.35 2870.74 Q3654.73 2872.2 3654.73 2875.16 Z\" fill=\"#000000\" fill-rule=\"nonzero\" fill-opacity=\"1\" /><path clip-path=\"url(#clip400)\" d=\"M3661.23 2865.91 L3661.23 2869.59 L3665.61 2869.59 L3665.61 2871.25 L3661.23 2871.25 L3661.23 2878.29 Q3661.23 2879.87 3661.66 2880.32 Q3662.1 2880.77 3663.43 2880.77 L3665.61 2880.77 L3665.61 2882.56 L3663.43 2882.56 Q3660.96 2882.56 3660.02 2881.64 Q3659.09 2880.72 3659.09 2878.29 L3659.09 2871.25 L3657.52 2871.25 L3657.52 2869.59 L3659.09 2869.59 L3659.09 2865.91 L3661.23 2865.91 Z\" fill=\"#000000\" fill-rule=\"nonzero\" fill-opacity=\"1\" /><path clip-path=\"url(#clip400)\" d=\"M3675.8 2873.24 Q3677.48 2873.6 3678.42 2874.73 Q3679.36 2875.87 3679.36 2877.53 Q3679.36 2880.09 3677.6 2881.49 Q3675.85 2882.89 3672.6 2882.89 Q3671.52 2882.89 3670.36 2882.67 Q3669.21 2882.46 3667.99 2882.04 L3667.99 2879.78 Q3668.96 2880.35 3670.12 2880.64 Q3671.27 2880.92 3672.54 2880.92 Q3674.73 2880.92 3675.88 2880.06 Q3677.04 2879.19 3677.04 2877.53 Q3677.04 2876.01 3675.96 2875.15 Q3674.9 2874.28 3672.99 2874.28 L3670.97 2874.28 L3670.97 2872.36 L3673.08 2872.36 Q3674.8 2872.36 3675.72 2871.68 Q3676.63 2870.98 3676.63 2869.69 Q3676.63 2868.36 3675.68 2867.65 Q3674.75 2866.93 3672.99 2866.93 Q3672.03 2866.93 3670.93 2867.14 Q3669.83 2867.35 3668.51 2867.79 L3668.51 2865.7 Q3669.84 2865.33 3671 2865.15 Q3672.17 2864.96 3673.2 2864.96 Q3675.86 2864.96 3677.41 2866.18 Q3678.96 2867.38 3678.96 2869.44 Q3678.96 2870.88 3678.14 2871.87 Q3677.32 2872.86 3675.8 2873.24 Z\" fill=\"#000000\" fill-rule=\"nonzero\" fill-opacity=\"1\" /><path clip-path=\"url(#clip400)\" d=\"M3685.81 2880.59 L3693.97 2880.59 L3693.97 2882.56 L3683 2882.56 L3683 2880.59 Q3684.33 2879.21 3686.62 2876.9 Q3688.92 2874.57 3689.51 2873.9 Q3690.64 2872.64 3691.08 2871.77 Q3691.53 2870.89 3691.53 2870.05 Q3691.53 2868.67 3690.56 2867.8 Q3689.6 2866.93 3688.04 2866.93 Q3686.95 2866.93 3685.72 2867.31 Q3684.5 2867.7 3683.11 2868.47 L3683.11 2866.11 Q3684.53 2865.54 3685.75 2865.25 Q3686.98 2864.96 3688 2864.96 Q3690.68 2864.96 3692.28 2866.31 Q3693.88 2867.65 3693.88 2869.89 Q3693.88 2870.96 3693.47 2871.92 Q3693.08 2872.87 3692.03 2874.17 Q3691.74 2874.5 3690.19 2876.11 Q3688.63 2877.71 3685.81 2880.59 Z\" fill=\"#000000\" fill-rule=\"nonzero\" fill-opacity=\"1\" /><path clip-path=\"url(#clip400)\" d=\"M1861.99 2999.33 L1871.93 2999.33 L1871.93 3001.29 L1864.33 3001.29 L1864.33 3006.39 L1871.18 3006.39 L1871.18 3008.35 L1864.33 3008.35 L1864.33 3016.61 L1861.99 3016.61 L1861.99 2999.33 Z\" fill=\"#000000\" fill-rule=\"nonzero\" fill-opacity=\"1\" /><path clip-path=\"url(#clip400)\" d=\"M1875.54 2998.6 L1877.67 2998.6 L1877.67 3016.61 L1875.54 3016.61 L1875.54 2998.6 Z\" fill=\"#000000\" fill-rule=\"nonzero\" fill-opacity=\"1\" /><path clip-path=\"url(#clip400)\" d=\"M1887.15 3005.14 Q1885.43 3005.14 1884.44 3006.48 Q1883.44 3007.81 1883.44 3010.14 Q1883.44 3012.46 1884.43 3013.8 Q1885.42 3015.14 1887.15 3015.14 Q1888.85 3015.14 1889.84 3013.79 Q1890.84 3012.45 1890.84 3010.14 Q1890.84 3007.83 1889.84 3006.49 Q1888.85 3005.14 1887.15 3005.14 M1887.15 3003.33 Q1889.92 3003.33 1891.51 3005.14 Q1893.09 3006.94 1893.09 3010.14 Q1893.09 3013.32 1891.51 3015.14 Q1889.92 3016.94 1887.15 3016.94 Q1884.36 3016.94 1882.77 3015.14 Q1881.2 3013.32 1881.2 3010.14 Q1881.2 3006.94 1882.77 3005.14 Q1884.36 3003.33 1887.15 3003.33 Z\" fill=\"#000000\" fill-rule=\"nonzero\" fill-opacity=\"1\" /><path clip-path=\"url(#clip400)\" d=\"M1902.52 3010.09 Q1899.93 3010.09 1898.94 3010.68 Q1897.94 3011.27 1897.94 3012.69 Q1897.94 3013.83 1898.68 3014.5 Q1899.44 3015.16 1900.72 3015.16 Q1902.49 3015.16 1903.56 3013.91 Q1904.63 3012.65 1904.63 3010.56 L1904.63 3010.09 L1902.52 3010.09 M1906.76 3009.21 L1906.76 3016.61 L1904.63 3016.61 L1904.63 3014.64 Q1903.9 3015.82 1902.82 3016.39 Q1901.73 3016.94 1900.15 3016.94 Q1898.16 3016.94 1896.98 3015.83 Q1895.81 3014.71 1895.81 3012.83 Q1895.81 3010.64 1897.27 3009.53 Q1898.74 3008.42 1901.65 3008.42 L1904.63 3008.42 L1904.63 3008.21 Q1904.63 3006.74 1903.66 3005.95 Q1902.7 3005.14 1900.95 3005.14 Q1899.84 3005.14 1898.79 3005.4 Q1897.74 3005.67 1896.76 3006.2 L1896.76 3004.23 Q1897.93 3003.78 1899.03 3003.56 Q1900.13 3003.33 1901.17 3003.33 Q1903.99 3003.33 1905.37 3004.79 Q1906.76 3006.25 1906.76 3009.21 Z\" fill=\"#000000\" fill-rule=\"nonzero\" fill-opacity=\"1\" /><path clip-path=\"url(#clip400)\" d=\"M1913.26 2999.96 L1913.26 3003.64 L1917.64 3003.64 L1917.64 3005.3 L1913.26 3005.3 L1913.26 3012.33 Q1913.26 3013.92 1913.68 3014.37 Q1914.12 3014.82 1915.46 3014.82 L1917.64 3014.82 L1917.64 3016.61 L1915.46 3016.61 Q1912.99 3016.61 1912.05 3015.69 Q1911.11 3014.76 1911.11 3012.33 L1911.11 3005.3 L1909.55 3005.3 L1909.55 3003.64 L1911.11 3003.64 L1911.11 2999.96 L1913.26 2999.96 Z\" fill=\"#000000\" fill-rule=\"nonzero\" fill-opacity=\"1\" /><path clip-path=\"url(#clip400)\" d=\"M1926.03 3007.03 Q1924.46 3007.03 1923.53 3008.11 Q1922.62 3009.19 1922.62 3011.06 Q1922.62 3012.92 1923.53 3014.01 Q1924.46 3015.09 1926.03 3015.09 Q1927.61 3015.09 1928.52 3014.01 Q1929.45 3012.92 1929.45 3011.06 Q1929.45 3009.19 1928.52 3008.11 Q1927.61 3007.03 1926.03 3007.03 M1930.67 2999.71 L1930.67 3001.84 Q1929.8 3001.42 1928.89 3001.2 Q1928 3000.98 1927.12 3000.98 Q1924.81 3000.98 1923.58 3002.54 Q1922.36 3004.11 1922.19 3007.26 Q1922.87 3006.26 1923.9 3005.73 Q1924.93 3005.18 1926.17 3005.18 Q1928.78 3005.18 1930.28 3006.77 Q1931.8 3008.34 1931.8 3011.06 Q1931.8 3013.72 1930.22 3015.33 Q1928.65 3016.94 1926.03 3016.94 Q1923.04 3016.94 1921.45 3014.65 Q1919.86 3012.35 1919.86 3007.98 Q1919.86 3003.89 1921.81 3001.45 Q1923.75 2999.01 1927.03 2999.01 Q1927.91 2999.01 1928.8 2999.19 Q1929.7 2999.36 1930.67 2999.71 Z\" fill=\"#000000\" fill-rule=\"nonzero\" fill-opacity=\"1\" /><path clip-path=\"url(#clip400)\" d=\"M1942.25 3001.36 L1936.35 3010.59 L1942.25 3010.59 L1942.25 3001.36 M1941.64 2999.33 L1944.58 2999.33 L1944.58 3010.59 L1947.04 3010.59 L1947.04 3012.53 L1944.58 3012.53 L1944.58 3016.61 L1942.25 3016.61 L1942.25 3012.53 L1934.45 3012.53 L1934.45 3010.27 L1941.64 2999.33 Z\" fill=\"#000000\" fill-rule=\"nonzero\" fill-opacity=\"1\" /></svg>\n"
      ]
     },
     "execution_count": 18,
     "metadata": {},
     "output_type": "execute_result"
    }
   ],
   "source": [
    "using GraphRecipes, Plots\n",
    "\n",
    "#pyplot(size=(800, 600))\n",
    "gr()\n",
    "theme(:default)\n",
    "\n",
    "plot(AbstractFloat, method = :tree, fontsize = 4)\n",
    "plot!(size = (1200, 900))"
   ]
  },
  {
   "cell_type": "markdown",
   "metadata": {},
   "source": [
    "### Double precision (Float64)\n",
    "\n",
    "<img src=\"./double-precision-numbers.png\" width=\"500\" align=\"center\"/>\n",
    "\n",
    "- Double precision (64 bits = 8 bytes) numbers are the dominant data type in scientific computing.\n",
    "      \n",
    "- In Julia, `Float64` is the type for double precision numbers.    \n",
    "\n",
    "- First bit is sign bit.  \n",
    "\n",
    "- $p=52$ significant bits.\n",
    "\n",
    "- 11 exponent bits: $e_{\\max}=1023$, $e_{\\min}=-1022$, **bias**=1023.  \n",
    "\n",
    "- $e_{\\text{min}}-1$ and $e_{\\text{max}}+1$ are reserved for special numbers.  \n",
    "\n",
    "- range of **magnitude**: $10^{\\pm 308}$ in decimal because $\\log_{10} (2^{1023}) \\approx 308$.  \n",
    "\n",
    "- **precision** to the $- \\log_{10}(2^{-52}) \\approx 15$ decimal point."
   ]
  },
  {
   "cell_type": "code",
   "execution_count": 19,
   "metadata": {
    "tags": []
   },
   "outputs": [
    {
     "name": "stdout",
     "output_type": "stream",
     "text": [
      "Double precision:\n",
      "bitstring(Float64(18)) = \"0100000000110010000000000000000000000000000000000000000000000000\"\n",
      "bitstring(Float64(-18)) = \"1100000000110010000000000000000000000000000000000000000000000000\"\n"
     ]
    }
   ],
   "source": [
    "println(\"Double precision:\")\n",
    "@show bitstring(Float64(18)) # 18 in double precision\n",
    "@show bitstring(Float64(-18)); # -18 in double precision"
   ]
  },
  {
   "cell_type": "markdown",
   "metadata": {},
   "source": [
    "### Single precision (Float32)\n",
    "\n",
    "<img src=\"./single-precision-numbers.png\" width=\"500\" align=\"center\"/>\n",
    "\n",
    "- In Julia, `Float32` is the type for single precision numbers.  \n",
    "\n",
    "- First bit is sign bit.  \n",
    "\n",
    "- $p=23$ significant bits.  \n",
    "\n",
    "- 8 exponent bits: $e_{\\max}=127$, $e_{\\min}=-126$, **bias**=127.  \n",
    "\n",
    "- $e_{\\text{min}}-1$ and $e_{\\text{max}}+1$ are reserved for special numbers.  \n",
    "\n",
    "- range of **magnitude**: $10^{\\pm 38}$ in decimal because $\\log_{10} (2^{127}) \\approx 38$.\n",
    "\n",
    "- **precision**: $- \\log_{10}(2^{-23}) \\approx 7$ decimal point.  "
   ]
  },
  {
   "cell_type": "code",
   "execution_count": 20,
   "metadata": {
    "tags": []
   },
   "outputs": [
    {
     "name": "stdout",
     "output_type": "stream",
     "text": [
      "Single precision:\n",
      "bitstring(Float32(18.0)) = \"01000001100100000000000000000000\"\n",
      "bitstring(Float32(-18.0)) = \"11000001100100000000000000000000\"\n"
     ]
    }
   ],
   "source": [
    "println(\"Single precision:\")\n",
    "@show bitstring(Float32(18.0)) # 18 in single precision\n",
    "@show bitstring(Float32(-18.0)); # -18 in single precision"
   ]
  },
  {
   "cell_type": "markdown",
   "metadata": {},
   "source": [
    "### Half precision (Float16)\n",
    "\n",
    "<img src=\"./half-precision-numbers.png\" width=\"200\" align=\"center\"/>\n",
    "    \n",
    "- In Julia, `Float16` is the type for half precision numbers.\n",
    "\n",
    "- First bit is sign bit.  \n",
    "\n",
    "- $p=10$ significant bits.  \n",
    "\n",
    "- 5 exponent bits: $e_{\\max}=15$, $e_{\\min}=-14$, bias=15.  \n",
    "\n",
    "- $e_{\\text{min}}-1$ and $e_{\\text{max}}+1$ are reserved for special numbers.  \n",
    "\n",
    "- range of **magnitude**: $10^{\\pm 4}$ in decimal because $\\log_{10} (2^{15}) \\approx 4$.  \n",
    "\n",
    "- **precision**: $\\log_{10}(2^{10}) \\approx 3$ decimal point.      "
   ]
  },
  {
   "cell_type": "code",
   "execution_count": 21,
   "metadata": {
    "tags": []
   },
   "outputs": [
    {
     "name": "stdout",
     "output_type": "stream",
     "text": [
      "Half precision:\n",
      "bitstring(Float16(18)) = \"0100110010000000\"\n",
      "bitstring(Float16(-18)) = \"1100110010000000\"\n"
     ]
    }
   ],
   "source": [
    "println(\"Half precision:\")\n",
    "@show bitstring(Float16(18)) # 18 in half precision\n",
    "@show bitstring(Float16(-18)); # -18 in half precision"
   ]
  },
  {
   "cell_type": "markdown",
   "metadata": {},
   "source": [
    "### Special floating-point numbers. \n",
    "\n",
    "- Exponent $e_{\\max}+1$ (exponent bits all 1) plus a zero mantissa means $\\pm \\infty$."
   ]
  },
  {
   "cell_type": "code",
   "execution_count": 22,
   "metadata": {
    "tags": []
   },
   "outputs": [
    {
     "name": "stdout",
     "output_type": "stream",
     "text": [
      "bitstring(Inf) = \"0111111111110000000000000000000000000000000000000000000000000000\"\n",
      "bitstring(-Inf) = \"1111111111110000000000000000000000000000000000000000000000000000\"\n"
     ]
    }
   ],
   "source": [
    "@show bitstring(Inf) # Inf in double precision\n",
    "@show bitstring(-Inf); # -Inf in double precision"
   ]
  },
  {
   "cell_type": "markdown",
   "metadata": {},
   "source": [
    "- Exponent $e_{\\max}+1$ (exponent bits all 1) plus a nonzero mantissa means `NaN`. `NaN` could be produced from `0 / 0`, `0 * Inf`, ...  \n",
    "\n",
    "- In general `NaN ≠ NaN` bitwise. Test whether a number is `NaN` by `isnan` function.  "
   ]
  },
  {
   "cell_type": "code",
   "execution_count": 23,
   "metadata": {
    "tags": []
   },
   "outputs": [
    {
     "name": "stdout",
     "output_type": "stream",
     "text": [
      "bitstring(0 / 0) = \"0111111111111000000000000000000000000000000000000000000000000000\"\n",
      "bitstring(0Inf) = \"0111111111111000000000000000000000000000000000000000000000000000\"\n"
     ]
    }
   ],
   "source": [
    "@show bitstring(0 / 0) # NaN\n",
    "@show bitstring(0 * Inf); # NaN"
   ]
  },
  {
   "cell_type": "markdown",
   "metadata": {},
   "source": [
    "- Exponent $e_{\\min}-1$ (exponent bits all 0) with a zero mantissa represents the real number 0.  "
   ]
  },
  {
   "cell_type": "code",
   "execution_count": 24,
   "metadata": {
    "tags": []
   },
   "outputs": [
    {
     "name": "stdout",
     "output_type": "stream",
     "text": [
      "bitstring(0.0) = \"0000000000000000000000000000000000000000000000000000000000000000\"\n"
     ]
    }
   ],
   "source": [
    "@show bitstring(0.0); # +0 in double precision "
   ]
  },
  {
   "cell_type": "code",
   "execution_count": 25,
   "metadata": {
    "tags": []
   },
   "outputs": [
    {
     "name": "stdout",
     "output_type": "stream",
     "text": [
      "bitstring(-0.0) = \"1000000000000000000000000000000000000000000000000000000000000000\"\n"
     ]
    }
   ],
   "source": [
    "@show bitstring(-0.0); # -0 in double precision"
   ]
  },
  {
   "cell_type": "markdown",
   "metadata": {},
   "source": [
    "There are some special rules in IEEE 754 for [signed zeros](https://en.wikipedia.org/wiki/Signed_zero)."
   ]
  },
  {
   "cell_type": "markdown",
   "metadata": {},
   "source": [
    "- Exponent $e_{\\min}-1$ (exponent bits all 0) with a nonzero mantissa are for numbers less than $b^{e_{\\min}}$.  \n",
    "    Numbers are _denormalized_ in the range $(0,b^{e_{\\min}})$ -- **graceful underflow**. "
   ]
  },
  {
   "cell_type": "code",
   "execution_count": 26,
   "metadata": {
    "tags": []
   },
   "outputs": [
    {
     "name": "stdout",
     "output_type": "stream",
     "text": [
      "nextfloat(0.0) = 5.0e-324\n",
      "bitstring(nextfloat(0.0)) = \"0000000000000000000000000000000000000000000000000000000000000001\"\n"
     ]
    }
   ],
   "source": [
    "@show nextfloat(0.0) # next representable number\n",
    "@show bitstring(nextfloat(0.0)); # denormalized"
   ]
  },
  {
   "cell_type": "markdown",
   "metadata": {},
   "source": [
    "### Rounding\n",
    "\n",
    "* Rounding is necessary whenever a number has more than $p$ significand bits. Most computer systems use the default IEEE 754 **round to nearest** mode (also called **ties to even** mode). Julia offers several [rounding modes](https://docs.julialang.org/en/v1/base/math/#Base.Rounding.RoundingMode), the default being [`RoundNearest`](https://docs.julialang.org/en/v1/base/math/#Base.Rounding.RoundNearest). For example, the number 0.1 in decimal system cannot be represented accurately as a floating point number:\n",
    "$$ 0.1 = 1.\\underbrace{1001}_\\text{repeat}\\underbrace{1001}... \\times 2^{-4} $$"
   ]
  },
  {
   "cell_type": "code",
   "execution_count": 27,
   "metadata": {
    "tags": []
   },
   "outputs": [
    {
     "name": "stdout",
     "output_type": "stream",
     "text": [
      "bitstring(Float16(0.1)) = \"0010111001100110\"\n",
      "bitstring(0.1f0) = \"00111101110011001100110011001101\"\n",
      "bitstring(0.1) = \"0011111110111001100110011001100110011001100110011001100110011010\"\n"
     ]
    }
   ],
   "source": [
    "# half precision Float16, ...110(011...) rounds down to 110\n",
    "@show bitstring(Float16(0.1))\n",
    "# single precision Float32, ...100(110...) rounds up to 101\n",
    "@show bitstring(0.1f0) \n",
    "# double precision Float64, ...001(100..) rounds up to 010\n",
    "@show bitstring(0.1);"
   ]
  },
  {
   "cell_type": "markdown",
   "metadata": {},
   "source": [
    "For a number with mantissa ending with ...001(100..., all 0 digits after), it's a tie and will be rounded to ...010 to make the mantissa even.\n",
    "\n",
    "### Summary\n",
    "\n",
    "- **Double precision**: range $\\pm 10^{\\pm 308}$ with precision up to 16 decimal digits.  \n",
    "\n",
    "- **Single precision**: range $\\pm 10^{\\pm 38}$ with precision up to 7 decimal digits.\n",
    "\n",
    "- **Half precision**: range $\\pm 10^{\\pm 4}$ with precision up to 3 decimal digits.\n",
    "\n",
    "- The floating-point numbers do not occur uniformly over the real number line. Each magnitude has same number of representible numbers\n",
    "\n",
    "    <img src=\"http://www.volkerschatz.com/science/pics/fltscale-wh.png\" width=\"700\" align=\"center\"/>\n",
    "        \n",
    "- **Machine epsilons** are the spacings of numbers around 1: \n",
    "    $$\\epsilon_{\\min}=b^{-p}, \\quad  \\epsilon_{\\max} = b^{1-p}.$$\n",
    "    \n",
    "    <img src=\"./machine_epsilons.png\" width=\"500\" align=\"center\"/>"
   ]
  },
  {
   "cell_type": "code",
   "execution_count": 28,
   "metadata": {
    "tags": []
   },
   "outputs": [
    {
     "name": "stdout",
     "output_type": "stream",
     "text": [
      "eps(Float32) = 1.1920929f-7\n",
      "eps(Float64) = 2.220446049250313e-16\n",
      "eps(100.0) = 1.4210854715202004e-14\n",
      "eps(0.0) = 5.0e-324\n",
      "x = 1.25f0 = 1.25f0\n",
      "(prevfloat(x), x, nextfloat(x)) = (1.2499999f0, 1.25f0, 1.2500001f0)\n",
      "(bitstring(prevfloat(x)), bitstring(x), bitstring(nextfloat(x))) = (\"00111111100111111111111111111111\", \"00111111101000000000000000000000\", \"00111111101000000000000000000001\")\n"
     ]
    }
   ],
   "source": [
    "@show eps(Float32)  # machine epsilon for a floating point type\n",
    "@show eps(Float64)  # same as eps()\n",
    "# eps(x) is the spacing after x\n",
    "@show eps(100.0)\n",
    "@show eps(0.0) # grace underflow\n",
    "# nextfloat(x) and prevfloat(x) give the neighbors of x\n",
    "@show x = 1.25f0\n",
    "@show prevfloat(x), x, nextfloat(x)\n",
    "@show bitstring(prevfloat(x)), bitstring(x), bitstring(nextfloat(x));"
   ]
  },
  {
   "cell_type": "markdown",
   "metadata": {},
   "source": [
    "* In R, the variable `.Machine` contains numerical characteristics of the machine."
   ]
  },
  {
   "cell_type": "code",
   "execution_count": 29,
   "metadata": {
    "tags": []
   },
   "outputs": [
    {
     "data": {
      "text/plain": [
       "RObject{VecSxp}\n",
       "$double.eps\n",
       "[1] 2.220446e-16\n",
       "\n",
       "$double.neg.eps\n",
       "[1] 1.110223e-16\n",
       "\n",
       "$double.xmin\n",
       "[1] 2.225074e-308\n",
       "\n",
       "$double.xmax\n",
       "[1] 1.797693e+308\n",
       "\n",
       "$double.base\n",
       "[1] 2\n",
       "\n",
       "$double.digits\n",
       "[1] 53\n",
       "\n",
       "$double.rounding\n",
       "[1] 5\n",
       "\n",
       "$double.guard\n",
       "[1] 0\n",
       "\n",
       "$double.ulp.digits\n",
       "[1] -52\n",
       "\n",
       "$double.neg.ulp.digits\n",
       "[1] -53\n",
       "\n",
       "$double.exponent\n",
       "[1] 11\n",
       "\n",
       "$double.min.exp\n",
       "[1] -1022\n",
       "\n",
       "$double.max.exp\n",
       "[1] 1024\n",
       "\n",
       "$integer.max\n",
       "[1] 2147483647\n",
       "\n",
       "$sizeof.long\n",
       "[1] 8\n",
       "\n",
       "$sizeof.longlong\n",
       "[1] 8\n",
       "\n",
       "$sizeof.longdouble\n",
       "[1] 8\n",
       "\n",
       "$sizeof.pointer\n",
       "[1] 8\n",
       "\n"
      ]
     },
     "execution_count": 29,
     "metadata": {},
     "output_type": "execute_result"
    }
   ],
   "source": [
    "R\"\"\"\n",
    ".Machine\n",
    "\"\"\""
   ]
  },
  {
   "cell_type": "markdown",
   "metadata": {},
   "source": [
    "* Julia provides `Float16` (half precision), `Float32` (single precision), `Float64` (double precision), and `BigFloat` (arbitrary precision).\n",
    "\n",
    "### Overflow and underflow of floating-point number\n",
    "\n",
    "* For double precision, the range is $\\pm 10^{\\pm 308}$. In most situations, underflow (magnitude of result is less than $10^{-308}$) is preferred over overflow (magnitude of result is larger than $10^{308}$). Overflow produces $\\pm \\inf$. Underflow yields zeros or denormalized numbers. \n",
    "\n",
    "* E.g., the logit link function is\n",
    "$$p(x) = \\frac{\\exp (x^T \\beta)}{1 + \\exp (x^T \\beta)} = \\frac{1}{1+\\exp(- x^T \\beta)}.$$\n",
    "The former expression can easily lead to `Inf / Inf = NaN`, while the latter expression leads to graceful underflow.\n",
    "\n",
    "* `floatmin` and `floatmax` functions gives largest and smallest _finite_ number represented by a type."
   ]
  },
  {
   "cell_type": "code",
   "execution_count": 30,
   "metadata": {
    "tags": []
   },
   "outputs": [
    {
     "name": "stdout",
     "output_type": "stream",
     "text": [
      "Float16\t6.104e-5\t6.55e4\t-Inf\tInf\t0.000977\n",
      "Float32\t1.1754944e-38\t3.4028235e38\t-Inf\tInf\t1.1920929e-7\n",
      "Float64\t2.2250738585072014e-308\t1.7976931348623157e308\t-Inf\tInf\t2.220446049250313e-16\n"
     ]
    }
   ],
   "source": [
    "for T in [Float16, Float32, Float64]\n",
    "    println(\n",
    "        T, '\\t', \n",
    "        floatmin(T), '\\t', \n",
    "        floatmax(T), '\\t', \n",
    "        typemin(T),  '\\t', \n",
    "        typemax(T), '\\t', \n",
    "        eps(T)\n",
    "    )\n",
    "end"
   ]
  },
  {
   "cell_type": "markdown",
   "metadata": {},
   "source": [
    "### Arbitrary precision\n",
    "\n",
    "* `BigFloat` in Julia offers arbitrary precision."
   ]
  },
  {
   "cell_type": "code",
   "execution_count": 31,
   "metadata": {
    "tags": []
   },
   "outputs": [
    {
     "name": "stdout",
     "output_type": "stream",
     "text": [
      "precision(BigFloat) = 256\n",
      "floatmin(BigFloat) = 8.50969131174083613912978790962048280567755996982969624908264897850135431080301e-1388255822130839284\n",
      "floatmax(BigFloat) = 5.875653789111587590936911998878442589938516392745498308333779606469323584389875e+1388255822130839282\n"
     ]
    }
   ],
   "source": [
    "@show precision(BigFloat) # default precision (how many bits) of BigFloat\n",
    "@show floatmin(BigFloat)\n",
    "@show floatmax(BigFloat);"
   ]
  },
  {
   "cell_type": "code",
   "execution_count": 32,
   "metadata": {
    "tags": []
   },
   "outputs": [
    {
     "name": "stdout",
     "output_type": "stream",
     "text": [
      "BigFloat(π) = 3.141592653589793238462643383279502884197169399375105820974944592307816406286198\n",
      "BigFloat(π) = 3.141592653589793238462643383279502884197169399375105820974944592307816406286208998628034825342117067982148086513282306647093844609550582231725359408128481117450284102701938521105559644622948954930381964428810975665933446128475648233786783165271201909145648566923460348610454326648213393607260249141273724586997\n"
     ]
    }
   ],
   "source": [
    "@show BigFloat(π); # default precision for BigFloat is 256 bits\n",
    "# set precision to 1024 bits\n",
    "setprecision(BigFloat, 1024) do \n",
    "    @show BigFloat(π)\n",
    "end;"
   ]
  },
  {
   "cell_type": "markdown",
   "metadata": {},
   "source": [
    "## Catastrophic cancellation\n",
    "\n",
    "* **Scenario 1**: Addition or subtraction of two numbers of widely different magnitudes: $a+b$ or $a-b$ where $a \\gg b$ or $a \\ll b$. We loose the precision in the number of smaller magnitude. Consider \n",
    "$$\\begin{eqnarray*}\n",
    "    a &=& x.xxx ... \\times 2^{30} \\\\  \n",
    "    b &=& y.yyy... \\times 2^{-30}\n",
    "\\end{eqnarray*}$$\n",
    "What happens when computer calculates $a+b$? We get $a+b=a$!"
   ]
  },
  {
   "cell_type": "code",
   "execution_count": 33,
   "metadata": {
    "tags": []
   },
   "outputs": [
    {
     "name": "stdout",
     "output_type": "stream",
     "text": [
      "a = 2.0 ^ 30 = 1.073741824e9\n",
      "b = 2.0 ^ -30 = 9.313225746154785e-10\n",
      "a + b == a = true\n"
     ]
    },
    {
     "data": {
      "text/plain": [
       "true"
      ]
     },
     "execution_count": 33,
     "metadata": {},
     "output_type": "execute_result"
    }
   ],
   "source": [
    "@show a = 2.0^30\n",
    "@show b = 2.0^-30\n",
    "@show a + b == a"
   ]
  },
  {
   "cell_type": "markdown",
   "metadata": {},
   "source": [
    "* **Scenario 2**: Subtraction of two nearly equal numbers eliminates significant digits.  $a-b$ where $a \\approx b$. Consider \n",
    "$$\\begin{eqnarray*}\n",
    "    a &=& x.xxxxxxxxxx1ssss  \\\\\n",
    "    b &=& x.xxxxxxxxxx0tttt\n",
    "\\end{eqnarray*}$$\n",
    "The result is $1.vvvvu...u$ where $u$ are unassigned digits."
   ]
  },
  {
   "cell_type": "code",
   "execution_count": 34,
   "metadata": {
    "tags": []
   },
   "outputs": [
    {
     "name": "stdout",
     "output_type": "stream",
     "text": [
      "bitstring(a) = \"00111111100111100000011001010001\"\n",
      "bitstring(b) = \"00111111100111100000011001010000\"\n",
      "a - b = 1.1920929f-7\n"
     ]
    },
    {
     "data": {
      "text/plain": [
       "1.1920929f-7"
      ]
     },
     "execution_count": 34,
     "metadata": {},
     "output_type": "execute_result"
    }
   ],
   "source": [
    "a = 1.2345678f0 # rounding\n",
    "@show bitstring(a) # rounding\n",
    "b = 1.2345677f0\n",
    "@show bitstring(b)\n",
    "# correct result should be 1e-7\n",
    "# we see big error due to catastrophic cancellation\n",
    "@show a - b "
   ]
  },
  {
   "cell_type": "markdown",
   "metadata": {},
   "source": [
    "* Implications for numerical computation\n",
    "    - Rule 1: add small numbers together before adding larger ones  \n",
    "    - Rule 2: add numbers of like magnitude together (paring). When all numbers are of same sign and similar magnitude, add in pairs so each stage the summands are of similar magnitude  \n",
    "    - Rule 3: avoid substraction of two numbers that are nearly equal\n",
    "\n",
    "### Algebraic laws\n",
    "\n",
    "Floating-point numbers may violate many algebraic laws we are familiar with, such as the associative and distributive laws. See Homework 1 problems.\n",
    "\n",
    "## Further reading\n",
    "\n",
    "* Textbook treatment, e.g., Chapter II.2 of [Computational Statistics](http://ucla.worldcat.org/title/computational-statistics/oclc/437345409&referer=brief_results) by James Gentle (2010).\n",
    "\n",
    "* [What every computer scientist should know about floating-point arithmetic](https://ucla-biostat-257.github.io/2023spring/readings/Goldberg91FloatingPoint.pdf) by David Goldberg (1991)."
   ]
  }
 ],
 "metadata": {
  "hide_input": false,
  "jupytext": {
   "formats": "ipynb,qmd"
  },
  "kernelspec": {
   "display_name": "Julia 1.8.5",
   "language": "julia",
   "name": "julia-1.8"
  },
  "language_info": {
   "file_extension": ".jl",
   "mimetype": "application/julia",
   "name": "julia",
   "version": "1.8.5"
  },
  "toc": {
   "colors": {
    "hover_highlight": "#DAA520",
    "running_highlight": "#FF0000",
    "selected_highlight": "#FFD700"
   },
   "moveMenuLeft": true,
   "nav_menu": {
    "height": "250px",
    "width": "252px"
   },
   "navigate_menu": true,
   "number_sections": true,
   "sideBar": true,
   "skip_h1_title": true,
   "threshold": 4,
   "toc_cell": true,
   "toc_position": {
    "height": "433.6666564941406px",
    "left": "0px",
    "right": "831.3333129882812px",
    "top": "111.33333587646484px",
    "width": "250px"
   },
   "toc_section_display": "block",
   "toc_window_display": true,
   "widenNotebook": false
  },
  "toc-autonumbering": true
 },
 "nbformat": 4,
 "nbformat_minor": 4
}
