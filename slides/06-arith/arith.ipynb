{
 "cells": [
  {
   "cell_type": "raw",
   "metadata": {},
   "source": [
    "---\n",
    "title: Computer Arithmetics\n",
    "subtitle: Biostat/Biomath M257\n",
    "author: Dr. Hua Zhou @ UCLA\n",
    "date: today\n",
    "format:\n",
    "  html:\n",
    "    theme: cosmo\n",
    "    embed-resources: true\n",
    "    number-sections: true\n",
    "    toc: true\n",
    "    toc-depth: 4\n",
    "    toc-location: left\n",
    "    code-fold: false\n",
    "---"
   ]
  },
  {
   "cell_type": "markdown",
   "metadata": {},
   "source": [
    "System information (for reproducibility):"
   ]
  },
  {
   "cell_type": "code",
   "execution_count": 1,
   "metadata": {
    "tags": []
   },
   "outputs": [
    {
     "name": "stdout",
     "output_type": "stream",
     "text": [
      "Julia Version 1.8.5\n",
      "Commit 17cfb8e65ea (2023-01-08 06:45 UTC)\n",
      "Platform Info:\n",
      "  OS: macOS (arm64-apple-darwin21.5.0)\n",
      "  CPU: 12 × Apple M2 Max\n",
      "  WORD_SIZE: 64\n",
      "  LIBM: libopenlibm\n",
      "  LLVM: libLLVM-13.0.1 (ORCJIT, apple-m1)\n",
      "  Threads: 8 on 8 virtual cores\n",
      "Environment:\n",
      "  JULIA_NUM_THREADS = 8\n",
      "  JULIA_EDITOR = code\n"
     ]
    }
   ],
   "source": [
    "versioninfo()"
   ]
  },
  {
   "cell_type": "markdown",
   "metadata": {},
   "source": [
    "Load packages:"
   ]
  },
  {
   "cell_type": "code",
   "execution_count": 2,
   "metadata": {
    "tags": []
   },
   "outputs": [
    {
     "name": "stderr",
     "output_type": "stream",
     "text": [
      "\u001b[32m\u001b[1m  Activating\u001b[22m\u001b[39m project at `~/Documents/github.com/ucla-biostat-257/2023spring/slides/06-arith`\n"
     ]
    },
    {
     "name": "stdout",
     "output_type": "stream",
     "text": [
      "\u001b[32m\u001b[1mStatus\u001b[22m\u001b[39m `~/Documents/github.com/ucla-biostat-257/2023spring/slides/06-arith/Project.toml`\n",
      " \u001b[90m [bd48cda9] \u001b[39mGraphRecipes v0.5.12\n",
      " \u001b[90m [91a5bcdd] \u001b[39mPlots v1.38.9\n",
      " \u001b[90m [6f49c342] \u001b[39mRCall v0.13.14\n"
     ]
    }
   ],
   "source": [
    "using Pkg\n",
    "\n",
    "Pkg.activate(pwd())\n",
    "Pkg.instantiate()\n",
    "Pkg.status()"
   ]
  },
  {
   "cell_type": "markdown",
   "metadata": {},
   "source": [
    "## Units of computer storage\n",
    "\n",
    "* `bit` = `binary` + `digit` (coined by statistician [John Tukey](https://en.wikipedia.org/wiki/Bit#History)).  \n",
    "* `byte` = 8 bits.  \n",
    "* KB = kilobyte = $10^3$ bytes.  \n",
    "* MB = megabytes = $10^6$ bytes.  \n",
    "* GB = gigabytes = $10^9$ bytes. Typical RAM size.  \n",
    "* TB = terabytes = $10^{12}$ bytes. Typical hard drive size. Size of NYSE each trading session.    \n",
    "* PB = petabytes = $10^{15}$ bytes.  \n",
    "* EB = exabytes = $10^{18}$ bytes. Size of all healthcare data in 2011 is ~150 EB.    \n",
    "* ZB = zetabytes = $10^{21}$ bytes. \n",
    "\n",
    "Difference between `KB` and `KiB`: `1 KB = 1000 bytes` but `1 KiB = 1024 bytes`. \n",
    "\n",
    "Difference between `TB` and `TiB`: `1 TB = 1000 GB` but `1 TiB = 1024 GB`. \n",
    "\n",
    "Julia function `Base.summarysize` shows the amount of memory (in bytes) used by an object."
   ]
  },
  {
   "cell_type": "code",
   "execution_count": 3,
   "metadata": {
    "tags": []
   },
   "outputs": [
    {
     "data": {
      "text/plain": [
       "80040"
      ]
     },
     "execution_count": 3,
     "metadata": {},
     "output_type": "execute_result"
    }
   ],
   "source": [
    "x = rand(100, 100)\n",
    "Base.summarysize(x)"
   ]
  },
  {
   "cell_type": "markdown",
   "metadata": {},
   "source": [
    "`varinfo()` function prints all variables in workspace and their sizes."
   ]
  },
  {
   "cell_type": "code",
   "execution_count": 4,
   "metadata": {
    "tags": []
   },
   "outputs": [
    {
     "data": {
      "text/latex": [
       "\\begin{tabular}\n",
       "{l | r | l}\n",
       "name & size & summary \\\\\n",
       "\\hline\n",
       "Base &  & Module \\\\\n",
       "Core &  & Module \\\\\n",
       "Main &  & Module \\\\\n",
       "x & 78.164 KiB & 100×100 Matrix\\{Float64\\} \\\\\n",
       "\\end{tabular}\n"
      ],
      "text/markdown": [
       "| name |       size | summary                 |\n",
       "|:---- | ----------:|:----------------------- |\n",
       "| Base |            | Module                  |\n",
       "| Core |            | Module                  |\n",
       "| Main |            | Module                  |\n",
       "| x    | 78.164 KiB | 100×100 Matrix{Float64} |\n"
      ],
      "text/plain": [
       "  name       size summary                \n",
       "  –––– –––––––––– –––––––––––––––––––––––\n",
       "  Base            Module                 \n",
       "  Core            Module                 \n",
       "  Main            Module                 \n",
       "  x    78.164 KiB 100×100 Matrix{Float64}"
      ]
     },
     "execution_count": 4,
     "metadata": {},
     "output_type": "execute_result"
    }
   ],
   "source": [
    "varinfo() # similar to Matlab whos()"
   ]
  },
  {
   "cell_type": "markdown",
   "metadata": {},
   "source": [
    "## Storage of Characters\n",
    "\n",
    "* Plain text files are stored in the form of characters: `.jl`, `.r`, `.c`, `.cpp`, `.ipynb`, `.html`, `.tex`, ...  \n",
    "* ASCII (American Code for Information Interchange): 7 bits, only $2^7=128$ characters.  "
   ]
  },
  {
   "cell_type": "code",
   "execution_count": 5,
   "metadata": {
    "tags": []
   },
   "outputs": [
    {
     "data": {
      "text/plain": [
       "128×2 Matrix{Any}:\n",
       "   0  '\\0'\n",
       "   1  '\\x01'\n",
       "   2  '\\x02'\n",
       "   3  '\\x03'\n",
       "   4  '\\x04'\n",
       "   5  '\\x05'\n",
       "   6  '\\x06'\n",
       "   7  '\\a'\n",
       "   8  '\\b'\n",
       "   9  '\\t'\n",
       "  10  '\\n'\n",
       "  11  '\\v'\n",
       "  12  '\\f'\n",
       "   ⋮  \n",
       " 116  't'\n",
       " 117  'u'\n",
       " 118  'v'\n",
       " 119  'w'\n",
       " 120  'x'\n",
       " 121  'y'\n",
       " 122  'z'\n",
       " 123  '{'\n",
       " 124  '|'\n",
       " 125  '}'\n",
       " 126  '~'\n",
       " 127  '\\x7f'"
      ]
     },
     "execution_count": 5,
     "metadata": {},
     "output_type": "execute_result"
    }
   ],
   "source": [
    "# integers 0, 1, ..., 127 and corresponding ascii character\n",
    "[0:127 Char.(0:127)]"
   ]
  },
  {
   "cell_type": "markdown",
   "metadata": {},
   "source": [
    "* Extended ASCII: 8 bits, $2^8=256$ characters.  "
   ]
  },
  {
   "cell_type": "code",
   "execution_count": 6,
   "metadata": {
    "tags": []
   },
   "outputs": [
    {
     "data": {
      "text/plain": [
       "128×2 Matrix{Any}:\n",
       " 128  '\\u80'\n",
       " 129  '\\u81'\n",
       " 130  '\\u82'\n",
       " 131  '\\u83'\n",
       " 132  '\\u84'\n",
       " 133  '\\u85'\n",
       " 134  '\\u86'\n",
       " 135  '\\u87'\n",
       " 136  '\\u88'\n",
       " 137  '\\u89'\n",
       " 138  '\\u8a'\n",
       " 139  '\\u8b'\n",
       " 140  '\\u8c'\n",
       "   ⋮  \n",
       " 244  'ô'\n",
       " 245  'õ'\n",
       " 246  'ö'\n",
       " 247  '÷'\n",
       " 248  'ø'\n",
       " 249  'ù'\n",
       " 250  'ú'\n",
       " 251  'û'\n",
       " 252  'ü'\n",
       " 253  'ý'\n",
       " 254  'þ'\n",
       " 255  'ÿ'"
      ]
     },
     "execution_count": 6,
     "metadata": {},
     "output_type": "execute_result"
    }
   ],
   "source": [
    "# integers 128, 129, ..., 255 and corresponding extended ascii character\n",
    "# show(STDOUT, \"text/plain\", [128:255 Char.(128:255)])\n",
    "[128:255 Char.(128:255)]"
   ]
  },
  {
   "cell_type": "markdown",
   "metadata": {},
   "source": [
    "* Unicode: UTF-8, UTF-16 and UTF-32 support many more characters including foreign characters; last 7 digits conform to ASCII. \n",
    "\n",
    "* [UTF-8](https://en.wikipedia.org/wiki/UTF-8) is the current dominant character encoding on internet.  \n",
    "\n",
    "<img src=\"https://upload.wikimedia.org/wikipedia/commons/9/97/Unicode_Web_growth.svg\" width=\"500\" align=\"center\"/>\n",
    "\n",
    "* Julia supports the full range of UTF-8 characters. You can type many Unicode math symbols by typing the backslashed LaTeX symbol name followed by tab. "
   ]
  },
  {
   "cell_type": "code",
   "execution_count": 7,
   "metadata": {
    "tags": []
   },
   "outputs": [
    {
     "data": {
      "text/plain": [
       "0.0"
      ]
     },
     "execution_count": 7,
     "metadata": {},
     "output_type": "execute_result"
    }
   ],
   "source": [
    "# \\beta-<tab>\n",
    "β = 0.0\n",
    "# \\beta-<tab>-\\hat-<tab>\n",
    "β̂ = 0.0"
   ]
  },
  {
   "cell_type": "markdown",
   "metadata": {},
   "source": [
    "* For a table of unicode symbols that can be entered via tab completion of LaTeX-like abbreviations: <https://docs.julialang.org/en/v1.1/manual/unicode-input/#Unicode-Input-1>\n",
    "\n",
    "## Integers: fixed-point number system\n",
    "\n",
    "* Fixed-point number system is a computer model for integers $\\mathbb{Z}$. \n",
    "\n",
    "* The number of bits and method of representing negative numbers vary from system to system. \n",
    "    - The `integer` type in R has $M=32$ or 64 bits, determined by machine word size. \n",
    "    - Matlab has `(u)int8`, `(u)int16`, `(u)int32`, `(u)int64`.  \n",
    "\n",
    "* Julia has even more integer types. Using `Plots.jl` and `GraphRecipes.jl` packages, we can [visualize the type tree](http://www.breloff.com/Graphs/) under `Integer`\n",
    "    - Storage for a `Signed` or `Unsigned` integer can be $M = 8, 16, 32, 64$ or 128 bits.  \n",
    "    - GraphRecipes.jl package has a convenience function for plotting the type hiearchy."
   ]
  },
  {
   "cell_type": "code",
   "execution_count": 8,
   "metadata": {
    "tags": []
   },
   "outputs": [
    {
     "data": {
      "image/svg+xml": [
       "<?xml version=\"1.0\" encoding=\"utf-8\"?>\n",
       "<svg xmlns=\"http://www.w3.org/2000/svg\" xmlns:xlink=\"http://www.w3.org/1999/xlink\" width=\"1200\" height=\"800\" viewBox=\"0 0 4800 3200\">\n",
       "<defs>\n",
       "  <clipPath id=\"clip830\">\n",
       "    <rect x=\"0\" y=\"0\" width=\"4800\" height=\"3200\"/>\n",
       "  </clipPath>\n",
       "</defs>\n",
       "<path clip-path=\"url(#clip830)\" d=\"M0 3200 L4800 3200 L4800 0 L0 0  Z\" fill=\"#ffffff\" fill-rule=\"evenodd\" fill-opacity=\"1\"/>\n",
       "<defs>\n",
       "  <clipPath id=\"clip831\">\n",
       "    <rect x=\"960\" y=\"0\" width=\"3361\" height=\"3200\"/>\n",
       "  </clipPath>\n",
       "</defs>\n",
       "<path clip-path=\"url(#clip830)\" d=\"M847.244 3152.76 L3952.76 3152.76 L3952.76 47.2441 L847.244 47.2441  Z\" fill=\"#ffffff\" fill-rule=\"evenodd\" fill-opacity=\"1\"/>\n",
       "<defs>\n",
       "  <clipPath id=\"clip832\">\n",
       "    <rect x=\"847\" y=\"47\" width=\"3107\" height=\"3107\"/>\n",
       "  </clipPath>\n",
       "</defs>\n",
       "<polyline clip-path=\"url(#clip832)\" style=\"stroke:#000000; stroke-linecap:round; stroke-linejoin:round; stroke-width:4; stroke-opacity:1; fill:none\" points=\"2393.68,490.889 2393.68,509.466 2393.67,528.436 2393.66,547.771 2393.64,567.44 2393.61,587.416 2393.58,607.668 2393.55,628.167 2393.52,648.885 2393.48,669.792 2393.44,690.86 2393.4,712.058 2393.35,733.359 2393.31,754.732 2393.26,776.149 2393.22,797.581 2393.17,818.998 2393.13,840.371 2393.08,861.671 2393.04,882.87 2393,903.937 2392.96,924.845 2392.93,945.562 2392.9,966.062 2392.87,986.314 2392.84,1006.29 2392.83,1025.96 2392.81,1045.29 2392.8,1064.26 2392.8,1082.84 \"/>\n",
       "<polyline clip-path=\"url(#clip832)\" style=\"stroke:#000000; stroke-linecap:round; stroke-linejoin:round; stroke-width:4; stroke-opacity:1; fill:none\" points=\"2392.8,1082.84 2392.76,1094.58 2392.64,1106.56 2392.44,1118.77 2392.18,1131.19 2391.85,1143.81 2391.47,1156.6 2391.04,1169.54 2390.56,1182.62 2390.05,1195.82 2389.5,1209.13 2388.93,1222.51 2388.33,1235.96 2387.72,1249.45 2387.11,1262.97 2386.49,1276.5 2385.87,1290.02 2385.26,1303.51 2384.66,1316.96 2384.09,1330.35 2383.54,1343.65 2383.03,1356.85 2382.55,1369.93 2382.12,1382.87 2381.74,1395.66 2381.41,1408.28 2381.15,1420.7 2380.96,1432.91 2380.83,1444.89 2380.79,1456.63 \"/>\n",
       "<polyline clip-path=\"url(#clip832)\" style=\"stroke:#000000; stroke-linecap:round; stroke-linejoin:round; stroke-width:4; stroke-opacity:1; fill:none\" points=\"2380.79,1456.63 2380.88,1467.25 2381.14,1478.09 2381.56,1489.14 2382.13,1500.37 2382.82,1511.77 2383.64,1523.32 2384.57,1535.01 2385.59,1546.82 2386.69,1558.74 2387.86,1570.74 2389.09,1582.82 2390.36,1594.96 2391.67,1607.13 2392.99,1619.33 2394.32,1631.54 2395.65,1643.74 2396.95,1655.92 2398.22,1668.05 2399.45,1680.13 2400.63,1692.14 2401.73,1704.05 2402.75,1715.87 2403.67,1727.56 2404.49,1739.11 2405.19,1750.51 2405.75,1761.74 2406.17,1772.78 2406.43,1783.62 2406.52,1794.24 \"/>\n",
       "<polyline clip-path=\"url(#clip832)\" style=\"stroke:#000000; stroke-linecap:round; stroke-linejoin:round; stroke-width:4; stroke-opacity:1; fill:none\" points=\"2406.52,1794.24 2406.1,1811.33 2404.89,1828.69 2402.93,1846.3 2400.29,1864.14 2397.03,1882.2 2393.21,1900.45 2388.89,1918.87 2384.12,1937.45 2378.97,1956.15 2373.49,1974.97 2367.74,1993.88 2361.79,2012.86 2355.69,2031.89 2349.51,2050.95 2343.29,2070.02 2337.1,2089.08 2331,2108.11 2325.05,2127.09 2319.31,2145.99 2313.83,2164.81 2308.68,2183.52 2303.91,2202.09 2299.59,2220.51 2295.76,2238.76 2292.51,2256.82 2289.87,2274.67 2287.91,2292.28 2286.69,2309.64 2286.27,2326.72 \"/>\n",
       "<polyline clip-path=\"url(#clip832)\" style=\"stroke:#000000; stroke-linecap:round; stroke-linejoin:round; stroke-width:4; stroke-opacity:1; fill:none\" points=\"2406.52,1794.24 2407.37,1810.27 2409.82,1826.24 2413.76,1842.16 2419.07,1858.03 2425.62,1873.86 2433.31,1889.65 2442.02,1905.4 2451.61,1921.12 2461.98,1936.82 2473.01,1952.49 2484.57,1968.15 2496.54,1983.79 2508.82,1999.42 2521.27,2015.04 2533.79,2030.66 2546.24,2046.29 2558.51,2061.92 2570.49,2077.56 2582.05,2093.21 2593.08,2108.88 2603.45,2124.58 2613.04,2140.3 2621.74,2156.06 2629.43,2171.85 2635.99,2187.67 2641.3,2203.54 2645.24,2219.46 2647.69,2235.43 2648.54,2251.46 \"/>\n",
       "<polyline clip-path=\"url(#clip832)\" style=\"stroke:#000000; stroke-linecap:round; stroke-linejoin:round; stroke-width:4; stroke-opacity:1; fill:none\" points=\"2406.52,1794.24 2406.64,1807.9 2406.96,1821.83 2407.49,1836.02 2408.2,1850.46 2409.07,1865.11 2410.1,1879.96 2411.26,1894.98 2412.54,1910.17 2413.93,1925.48 2415.4,1940.92 2416.95,1956.44 2418.55,1972.04 2420.19,1987.69 2421.85,2003.37 2423.52,2019.07 2425.18,2034.75 2426.82,2050.4 2428.42,2066 2429.97,2081.52 2431.44,2096.95 2432.82,2112.27 2434.11,2127.46 2435.27,2142.48 2436.29,2157.33 2437.17,2171.98 2437.88,2186.41 2438.41,2200.61 2438.73,2214.54 2438.85,2228.19 \"/>\n",
       "<polyline clip-path=\"url(#clip832)\" style=\"stroke:#000000; stroke-linecap:round; stroke-linejoin:round; stroke-width:4; stroke-opacity:1; fill:none\" points=\"2406.52,1794.24 2404.58,1815.93 2398.92,1836.32 2389.83,1855.54 2377.59,1873.65 2362.46,1890.77 2344.72,1906.99 2324.64,1922.4 2302.5,1937.1 2278.58,1951.18 2253.15,1964.74 2226.48,1977.87 2198.85,1990.66 2170.54,2003.22 2141.81,2015.64 2112.94,2028.01 2084.21,2040.42 2055.9,2052.98 2028.27,2065.78 2001.6,2078.91 1976.16,2092.47 1952.24,2106.55 1930.11,2121.24 1910.03,2136.65 1892.29,2152.87 1877.16,2169.99 1864.91,2188.11 1855.82,2207.32 1850.17,2227.72 1848.22,2249.4 \"/>\n",
       "<polyline clip-path=\"url(#clip832)\" style=\"stroke:#000000; stroke-linecap:round; stroke-linejoin:round; stroke-width:4; stroke-opacity:1; fill:none\" points=\"1848.22,2249.4 1849.13,2264.29 1851.77,2279 1856.01,2293.53 1861.72,2307.91 1868.78,2322.14 1877.06,2336.24 1886.42,2350.22 1896.75,2364.1 1907.91,2377.89 1919.78,2391.61 1932.22,2405.26 1945.11,2418.86 1958.32,2432.44 1971.72,2445.99 1985.19,2459.53 1998.59,2473.08 2011.8,2486.65 2024.69,2500.25 2037.13,2513.91 2048.99,2527.62 2060.15,2541.41 2070.48,2555.29 2079.85,2569.28 2088.12,2583.38 2095.18,2597.61 2100.89,2611.98 2105.13,2626.51 2107.77,2641.22 2108.68,2656.11 \"/>\n",
       "<polyline clip-path=\"url(#clip832)\" style=\"stroke:#000000; stroke-linecap:round; stroke-linejoin:round; stroke-width:4; stroke-opacity:1; fill:none\" points=\"1848.22,2249.4 1848.45,2261.66 1849.11,2274.15 1850.18,2286.84 1851.61,2299.73 1853.38,2312.78 1855.46,2326 1857.81,2339.35 1860.4,2352.83 1863.2,2366.42 1866.17,2380.1 1869.29,2393.85 1872.53,2407.66 1875.84,2421.51 1879.2,2435.38 1882.58,2449.27 1885.94,2463.15 1889.25,2477 1892.49,2490.81 1895.61,2504.56 1898.58,2518.24 1901.38,2531.82 1903.97,2545.3 1906.32,2558.66 1908.4,2571.87 1910.17,2584.93 1911.6,2597.81 1912.66,2610.5 1913.33,2622.99 1913.55,2635.25 \"/>\n",
       "<polyline clip-path=\"url(#clip832)\" style=\"stroke:#000000; stroke-linecap:round; stroke-linejoin:round; stroke-width:4; stroke-opacity:1; fill:none\" points=\"1848.22,2249.4 1846.73,2265.04 1842.38,2279.64 1835.4,2293.28 1825.98,2306.04 1814.35,2317.98 1800.71,2329.2 1785.28,2339.76 1768.26,2349.74 1749.87,2359.22 1730.32,2368.28 1709.82,2376.99 1688.57,2385.43 1666.81,2393.68 1644.72,2401.82 1622.53,2409.92 1600.44,2418.05 1578.67,2426.3 1557.43,2434.74 1536.93,2443.45 1517.38,2452.51 1498.99,2461.99 1481.97,2471.98 1466.54,2482.54 1452.9,2493.75 1441.27,2505.7 1431.85,2518.45 1424.86,2532.09 1420.52,2546.69 1419.02,2562.33 \"/>\n",
       "<polyline clip-path=\"url(#clip832)\" style=\"stroke:#000000; stroke-linecap:round; stroke-linejoin:round; stroke-width:4; stroke-opacity:1; fill:none\" points=\"1848.22,2249.4 1846.28,2264.39 1840.64,2278.38 1831.57,2291.45 1819.34,2303.67 1804.23,2315.11 1786.52,2325.86 1766.48,2335.98 1744.39,2345.54 1720.51,2354.63 1695.12,2363.31 1668.49,2371.65 1640.91,2379.74 1612.64,2387.65 1583.96,2395.44 1555.15,2403.2 1526.47,2410.99 1498.2,2418.9 1470.62,2426.99 1444,2435.34 1418.61,2444.02 1394.73,2453.1 1372.63,2462.67 1352.59,2472.78 1334.88,2483.53 1319.77,2494.98 1307.55,2507.2 1298.48,2520.26 1292.83,2534.25 1290.89,2549.24 \"/>\n",
       "<polyline clip-path=\"url(#clip832)\" style=\"stroke:#000000; stroke-linecap:round; stroke-linejoin:round; stroke-width:4; stroke-opacity:1; fill:none\" points=\"1848.22,2249.4 1847.21,2263.08 1844.27,2276.35 1839.54,2289.23 1833.16,2301.76 1825.28,2313.96 1816.04,2325.88 1805.59,2337.53 1794.07,2348.95 1781.61,2360.17 1768.37,2371.23 1754.48,2382.14 1740.1,2392.95 1725.35,2403.68 1710.39,2414.37 1695.36,2425.04 1680.41,2435.73 1665.66,2446.46 1651.28,2457.27 1637.39,2468.18 1624.15,2479.24 1611.69,2490.46 1600.17,2501.88 1589.71,2513.53 1580.48,2525.45 1572.6,2537.65 1566.22,2550.18 1561.49,2563.06 1558.55,2576.33 1557.53,2590.01 \"/>\n",
       "<polyline clip-path=\"url(#clip832)\" style=\"stroke:#000000; stroke-linecap:round; stroke-linejoin:round; stroke-width:4; stroke-opacity:1; fill:none\" points=\"1848.22,2249.4 1847.78,2261.74 1846.48,2274.19 1844.4,2286.76 1841.59,2299.43 1838.12,2312.2 1834.05,2325.05 1829.45,2337.98 1824.37,2350.97 1818.89,2364.02 1813.05,2377.13 1806.94,2390.27 1800.6,2403.44 1794.11,2416.64 1787.52,2429.85 1780.9,2443.06 1774.31,2456.27 1767.82,2469.47 1761.48,2482.64 1755.37,2495.79 1749.54,2508.89 1744.05,2521.94 1738.98,2534.94 1734.37,2547.86 1730.3,2560.72 1726.83,2573.48 1724.03,2586.15 1721.94,2598.72 1720.65,2611.18 1720.2,2623.51 \"/>\n",
       "<polyline clip-path=\"url(#clip832)\" style=\"stroke:#000000; stroke-linecap:round; stroke-linejoin:round; stroke-width:4; stroke-opacity:1; fill:none\" points=\"2406.52,1794.24 2408.62,1810.65 2414.72,1825.97 2424.52,1840.28 2437.73,1853.66 2454.05,1866.2 2473.19,1877.96 2494.85,1889.04 2518.72,1899.51 2544.53,1909.46 2571.96,1918.96 2600.73,1928.1 2630.53,1936.96 2661.07,1945.62 2692.06,1954.15 2723.2,1962.65 2754.19,1971.18 2784.73,1979.84 2814.54,1988.69 2843.3,1997.83 2870.74,2007.34 2896.54,2017.29 2920.42,2027.76 2942.07,2038.84 2961.21,2050.6 2977.53,2063.13 2990.74,2076.52 3000.54,2090.82 3006.64,2106.14 3008.74,2122.55 \"/>\n",
       "<polyline clip-path=\"url(#clip832)\" style=\"stroke:#000000; stroke-linecap:round; stroke-linejoin:round; stroke-width:4; stroke-opacity:1; fill:none\" points=\"3008.74,2122.55 3009.94,2139.34 3013.4,2155.69 3018.98,2171.64 3026.49,2187.22 3035.78,2202.46 3046.66,2217.4 3058.98,2232.06 3072.56,2246.49 3087.24,2260.7 3102.84,2274.73 3119.2,2288.63 3136.16,2302.41 3153.53,2316.1 3171.16,2329.75 3188.87,2343.39 3206.49,2357.04 3223.87,2370.74 3240.82,2384.52 3257.18,2398.41 3272.78,2412.44 3287.46,2426.66 3301.04,2441.08 3313.36,2455.74 3324.24,2470.68 3333.53,2485.92 3341.04,2501.5 3346.62,2517.45 3350.09,2533.8 3351.28,2550.59 \"/>\n",
       "<polyline clip-path=\"url(#clip832)\" style=\"stroke:#000000; stroke-linecap:round; stroke-linejoin:round; stroke-width:4; stroke-opacity:1; fill:none\" points=\"3008.74,2122.55 3010.49,2141.74 3015.55,2159.74 3023.7,2176.64 3034.67,2192.54 3048.23,2207.51 3064.14,2221.65 3082.13,2235.05 3101.97,2247.78 3123.41,2259.95 3146.2,2271.64 3170.1,2282.93 3194.86,2293.91 3220.24,2304.67 3245.99,2315.31 3271.86,2325.9 3297.61,2336.53 3322.99,2347.29 3347.75,2358.28 3371.65,2369.57 3394.45,2381.25 3415.89,2393.42 3435.72,2406.16 3453.72,2419.55 3469.62,2433.69 3483.18,2448.67 3494.16,2464.56 3502.3,2481.46 3507.37,2499.46 3509.11,2518.65 \"/>\n",
       "<polyline clip-path=\"url(#clip832)\" style=\"stroke:#000000; stroke-linecap:round; stroke-linejoin:round; stroke-width:4; stroke-opacity:1; fill:none\" points=\"3008.74,2122.55 3008.16,2141.61 3006.47,2160.91 3003.76,2180.45 3000.11,2200.21 2995.59,2220.15 2990.3,2240.28 2984.31,2260.56 2977.7,2280.98 2970.56,2301.52 2962.97,2322.17 2955.02,2342.89 2946.77,2363.69 2938.32,2384.53 2929.75,2405.39 2921.13,2426.27 2912.56,2447.14 2904.11,2467.98 2895.87,2488.77 2887.91,2509.5 2880.32,2530.14 2873.18,2550.68 2866.58,2571.11 2860.59,2591.39 2855.29,2611.51 2850.78,2631.46 2847.12,2651.21 2844.41,2670.75 2842.72,2690.06 2842.14,2709.11 \"/>\n",
       "<polyline clip-path=\"url(#clip832)\" style=\"stroke:#000000; stroke-linecap:round; stroke-linejoin:round; stroke-width:4; stroke-opacity:1; fill:none\" points=\"3008.74,2122.55 3009.48,2141.4 3011.63,2160.39 3015.08,2179.52 3019.73,2198.77 3025.48,2218.13 3032.22,2237.6 3039.85,2257.16 3048.26,2276.81 3057.34,2296.52 3067,2316.29 3077.13,2336.12 3087.63,2355.98 3098.39,2375.86 3109.3,2395.77 3120.27,2415.68 3131.18,2435.58 3141.94,2455.47 3152.43,2475.33 3162.56,2495.15 3172.22,2514.92 3181.31,2534.63 3189.72,2554.28 3197.35,2573.84 3204.09,2593.31 3209.83,2612.67 3214.49,2631.93 3217.94,2651.05 3220.09,2670.04 3220.82,2688.89 \"/>\n",
       "<polyline clip-path=\"url(#clip832)\" style=\"stroke:#000000; stroke-linecap:round; stroke-linejoin:round; stroke-width:4; stroke-opacity:1; fill:none\" points=\"3008.74,2122.55 3008.83,2137.56 3009.1,2152.88 3009.52,2168.49 3010.1,2184.36 3010.81,2200.48 3011.64,2216.82 3012.59,2233.36 3013.63,2250.07 3014.75,2266.93 3015.94,2283.91 3017.2,2301.01 3018.49,2318.18 3019.82,2335.41 3021.17,2352.68 3022.53,2369.96 3023.88,2387.22 3025.21,2404.45 3026.51,2421.63 3027.76,2438.72 3028.95,2455.71 3030.08,2472.57 3031.12,2489.28 3032.06,2505.81 3032.89,2522.15 3033.6,2538.27 3034.18,2554.15 3034.6,2569.75 3034.87,2585.07 3034.96,2600.08 \"/>\n",
       "<path clip-path=\"url(#clip832)\" d=\"M2432.14 490.889 L2412.91 457.579 L2374.45 457.579 L2355.22 490.889 L2374.45 524.198 L2412.91 524.198 L2432.14 490.889 L2432.14 490.889  Z\" fill=\"#009af9\" fill-rule=\"evenodd\" fill-opacity=\"1\"/>\n",
       "<polyline clip-path=\"url(#clip832)\" style=\"stroke:#000000; stroke-linecap:round; stroke-linejoin:round; stroke-width:4; stroke-opacity:1; fill:none\" points=\"2432.14,490.889 2412.91,457.579 2374.45,457.579 2355.22,490.889 2374.45,524.198 2412.91,524.198 2432.14,490.889 \"/>\n",
       "<path clip-path=\"url(#clip832)\" d=\"M2459.77 1082.84 L2426.28 1024.85 L2359.32 1024.85 L2325.83 1082.84 L2359.32 1140.84 L2426.28 1140.84 L2459.77 1082.84 L2459.77 1082.84  Z\" fill=\"#009af9\" fill-rule=\"evenodd\" fill-opacity=\"1\"/>\n",
       "<polyline clip-path=\"url(#clip832)\" style=\"stroke:#000000; stroke-linecap:round; stroke-linejoin:round; stroke-width:4; stroke-opacity:1; fill:none\" points=\"2459.77,1082.84 2426.28,1024.85 2359.32,1024.85 2325.83,1082.84 2359.32,1140.84 2426.28,1140.84 2459.77,1082.84 \"/>\n",
       "<path clip-path=\"url(#clip832)\" d=\"M2429.21 1456.63 L2405 1414.7 L2356.58 1414.7 L2332.38 1456.63 L2356.58 1498.56 L2405 1498.56 L2429.21 1456.63 L2429.21 1456.63  Z\" fill=\"#009af9\" fill-rule=\"evenodd\" fill-opacity=\"1\"/>\n",
       "<polyline clip-path=\"url(#clip832)\" style=\"stroke:#000000; stroke-linecap:round; stroke-linejoin:round; stroke-width:4; stroke-opacity:1; fill:none\" points=\"2429.21,1456.63 2405,1414.7 2356.58,1414.7 2332.38,1456.63 2356.58,1498.56 2405,1498.56 2429.21,1456.63 \"/>\n",
       "<path clip-path=\"url(#clip832)\" d=\"M2482.28 1794.24 L2444.4 1728.64 L2368.64 1728.64 L2330.77 1794.24 L2368.64 1859.85 L2444.4 1859.85 L2482.28 1794.24 L2482.28 1794.24  Z\" fill=\"#009af9\" fill-rule=\"evenodd\" fill-opacity=\"1\"/>\n",
       "<polyline clip-path=\"url(#clip832)\" style=\"stroke:#000000; stroke-linecap:round; stroke-linejoin:round; stroke-width:4; stroke-opacity:1; fill:none\" points=\"2482.28,1794.24 2444.4,1728.64 2368.64,1728.64 2330.77,1794.24 2368.64,1859.85 2444.4,1859.85 2482.28,1794.24 \"/>\n",
       "<path clip-path=\"url(#clip832)\" d=\"M2334.69 2326.72 L2310.48 2284.79 L2262.07 2284.79 L2237.86 2326.72 L2262.07 2368.65 L2310.48 2368.65 L2334.69 2326.72 L2334.69 2326.72  Z\" fill=\"#009af9\" fill-rule=\"evenodd\" fill-opacity=\"1\"/>\n",
       "<polyline clip-path=\"url(#clip832)\" style=\"stroke:#000000; stroke-linecap:round; stroke-linejoin:round; stroke-width:4; stroke-opacity:1; fill:none\" points=\"2334.69,2326.72 2310.48,2284.79 2262.07,2284.79 2237.86,2326.72 2262.07,2368.65 2310.48,2368.65 2334.69,2326.72 \"/>\n",
       "<path clip-path=\"url(#clip832)\" d=\"M2772.84 2251.46 L2710.69 2143.81 L2586.38 2143.81 L2524.23 2251.46 L2586.38 2359.11 L2710.69 2359.11 L2772.84 2251.46 L2772.84 2251.46  Z\" fill=\"#009af9\" fill-rule=\"evenodd\" fill-opacity=\"1\"/>\n",
       "<polyline clip-path=\"url(#clip832)\" style=\"stroke:#000000; stroke-linecap:round; stroke-linejoin:round; stroke-width:4; stroke-opacity:1; fill:none\" points=\"2772.84,2251.46 2710.69,2143.81 2586.38,2143.81 2524.23,2251.46 2586.38,2359.11 2710.69,2359.11 2772.84,2251.46 \"/>\n",
       "<path clip-path=\"url(#clip832)\" d=\"M2563.15 2228.19 L2501 2120.54 L2376.69 2120.54 L2314.54 2228.19 L2376.69 2335.85 L2501 2335.85 L2563.15 2228.19 L2563.15 2228.19  Z\" fill=\"#009af9\" fill-rule=\"evenodd\" fill-opacity=\"1\"/>\n",
       "<polyline clip-path=\"url(#clip832)\" style=\"stroke:#000000; stroke-linecap:round; stroke-linejoin:round; stroke-width:4; stroke-opacity:1; fill:none\" points=\"2563.15,2228.19 2501,2120.54 2376.69,2120.54 2314.54,2228.19 2376.69,2335.85 2501,2335.85 2563.15,2228.19 2563.15,2228.19 \"/>\n",
       "<path clip-path=\"url(#clip832)\" d=\"M1915.19 2249.4 L1881.71 2191.41 L1814.74 2191.41 L1781.26 2249.4 L1814.74 2307.4 L1881.71 2307.4 L1915.19 2249.4 L1915.19 2249.4  Z\" fill=\"#009af9\" fill-rule=\"evenodd\" fill-opacity=\"1\"/>\n",
       "<polyline clip-path=\"url(#clip832)\" style=\"stroke:#000000; stroke-linecap:round; stroke-linejoin:round; stroke-width:4; stroke-opacity:1; fill:none\" points=\"1915.19,2249.4 1881.71,2191.41 1814.74,2191.41 1781.26,2249.4 1814.74,2307.4 1881.71,2307.4 1915.19,2249.4 \"/>\n",
       "<path clip-path=\"url(#clip832)\" d=\"M2175.65 2656.11 L2142.16 2598.12 L2075.2 2598.12 L2041.71 2656.11 L2075.2 2714.11 L2142.16 2714.11 L2175.65 2656.11 L2175.65 2656.11  Z\" fill=\"#009af9\" fill-rule=\"evenodd\" fill-opacity=\"1\"/>\n",
       "<polyline clip-path=\"url(#clip832)\" style=\"stroke:#000000; stroke-linecap:round; stroke-linejoin:round; stroke-width:4; stroke-opacity:1; fill:none\" points=\"2175.65,2656.11 2142.16,2598.12 2075.2,2598.12 2041.71,2656.11 2075.2,2714.11 2142.16,2714.11 2175.65,2656.11 \"/>\n",
       "<path clip-path=\"url(#clip832)\" d=\"M1980.52 2635.25 L1947.04 2577.26 L1880.07 2577.26 L1846.59 2635.25 L1880.07 2693.25 L1947.04 2693.25 L1980.52 2635.25 L1980.52 2635.25  Z\" fill=\"#009af9\" fill-rule=\"evenodd\" fill-opacity=\"1\"/>\n",
       "<polyline clip-path=\"url(#clip832)\" style=\"stroke:#000000; stroke-linecap:round; stroke-linejoin:round; stroke-width:4; stroke-opacity:1; fill:none\" points=\"1980.52,2635.25 1947.04,2577.26 1880.07,2577.26 1846.59,2635.25 1880.07,2693.25 1947.04,2693.25 1980.52,2635.25 \"/>\n",
       "<path clip-path=\"url(#clip832)\" d=\"M1476.9 2562.33 L1447.96 2512.21 L1390.08 2512.21 L1361.14 2562.33 L1390.08 2612.46 L1447.96 2612.46 L1476.9 2562.33 L1476.9 2562.33  Z\" fill=\"#009af9\" fill-rule=\"evenodd\" fill-opacity=\"1\"/>\n",
       "<polyline clip-path=\"url(#clip832)\" style=\"stroke:#000000; stroke-linecap:round; stroke-linejoin:round; stroke-width:4; stroke-opacity:1; fill:none\" points=\"1476.9,2562.33 1447.96,2512.21 1390.08,2512.21 1361.14,2562.33 1390.08,2612.46 1447.96,2612.46 1476.9,2562.33 \"/>\n",
       "<path clip-path=\"url(#clip832)\" d=\"M1348.77 2549.24 L1319.83 2499.12 L1261.95 2499.12 L1233.01 2549.24 L1261.95 2599.36 L1319.83 2599.36 L1348.77 2549.24 L1348.77 2549.24  Z\" fill=\"#009af9\" fill-rule=\"evenodd\" fill-opacity=\"1\"/>\n",
       "<polyline clip-path=\"url(#clip832)\" style=\"stroke:#000000; stroke-linecap:round; stroke-linejoin:round; stroke-width:4; stroke-opacity:1; fill:none\" points=\"1348.77,2549.24 1319.83,2499.12 1261.95,2499.12 1233.01,2549.24 1261.95,2599.36 1319.83,2599.36 1348.77,2549.24 \"/>\n",
       "<path clip-path=\"url(#clip832)\" d=\"M1615.41 2590.01 L1586.47 2539.88 L1528.59 2539.88 L1499.66 2590.01 L1528.59 2640.13 L1586.47 2640.13 L1615.41 2590.01 L1615.41 2590.01  Z\" fill=\"#009af9\" fill-rule=\"evenodd\" fill-opacity=\"1\"/>\n",
       "<polyline clip-path=\"url(#clip832)\" style=\"stroke:#000000; stroke-linecap:round; stroke-linejoin:round; stroke-width:4; stroke-opacity:1; fill:none\" points=\"1615.41,2590.01 1586.47,2539.88 1528.59,2539.88 1499.66,2590.01 1528.59,2640.13 1586.47,2640.13 1615.41,2590.01 \"/>\n",
       "<path clip-path=\"url(#clip832)\" d=\"M1768.61 2623.51 L1744.41 2581.58 L1695.99 2581.58 L1671.78 2623.51 L1695.99 2665.44 L1744.41 2665.44 L1768.61 2623.51 L1768.61 2623.51  Z\" fill=\"#009af9\" fill-rule=\"evenodd\" fill-opacity=\"1\"/>\n",
       "<polyline clip-path=\"url(#clip832)\" style=\"stroke:#000000; stroke-linecap:round; stroke-linejoin:round; stroke-width:4; stroke-opacity:1; fill:none\" points=\"1768.61,2623.51 1744.41,2581.58 1695.99,2581.58 1671.78,2623.51 1695.99,2665.44 1744.41,2665.44 1768.61,2623.51 \"/>\n",
       "<path clip-path=\"url(#clip832)\" d=\"M3093.04 2122.55 L3050.89 2049.55 L2966.59 2049.55 L2924.44 2122.55 L2966.59 2195.56 L3050.89 2195.56 L3093.04 2122.55 L3093.04 2122.55  Z\" fill=\"#009af9\" fill-rule=\"evenodd\" fill-opacity=\"1\"/>\n",
       "<polyline clip-path=\"url(#clip832)\" style=\"stroke:#000000; stroke-linecap:round; stroke-linejoin:round; stroke-width:4; stroke-opacity:1; fill:none\" points=\"3093.04,2122.55 3050.89,2049.55 2966.59,2049.55 2924.44,2122.55 2966.59,2195.56 3050.89,2195.56 3093.04,2122.55 \"/>\n",
       "<path clip-path=\"url(#clip832)\" d=\"M3427.04 2550.59 L3389.16 2484.98 L3313.4 2484.98 L3275.52 2550.59 L3313.4 2616.2 L3389.16 2616.2 L3427.04 2550.59 L3427.04 2550.59  Z\" fill=\"#009af9\" fill-rule=\"evenodd\" fill-opacity=\"1\"/>\n",
       "<polyline clip-path=\"url(#clip832)\" style=\"stroke:#000000; stroke-linecap:round; stroke-linejoin:round; stroke-width:4; stroke-opacity:1; fill:none\" points=\"3427.04,2550.59 3389.16,2484.98 3313.4,2484.98 3275.52,2550.59 3313.4,2616.2 3389.16,2616.2 3427.04,2550.59 \"/>\n",
       "<path clip-path=\"url(#clip832)\" d=\"M3576.08 2518.65 L3542.59 2460.65 L3475.63 2460.65 L3442.14 2518.65 L3475.63 2576.64 L3542.59 2576.64 L3576.08 2518.65 L3576.08 2518.65  Z\" fill=\"#009af9\" fill-rule=\"evenodd\" fill-opacity=\"1\"/>\n",
       "<polyline clip-path=\"url(#clip832)\" style=\"stroke:#000000; stroke-linecap:round; stroke-linejoin:round; stroke-width:4; stroke-opacity:1; fill:none\" points=\"3576.08,2518.65 3542.59,2460.65 3475.63,2460.65 3442.14,2518.65 3475.63,2576.64 3542.59,2576.64 3576.08,2518.65 \"/>\n",
       "<path clip-path=\"url(#clip832)\" d=\"M2909.11 2709.11 L2875.63 2651.12 L2808.66 2651.12 L2775.18 2709.11 L2808.66 2767.11 L2875.63 2767.11 L2909.11 2709.11 L2909.11 2709.11  Z\" fill=\"#009af9\" fill-rule=\"evenodd\" fill-opacity=\"1\"/>\n",
       "<polyline clip-path=\"url(#clip832)\" style=\"stroke:#000000; stroke-linecap:round; stroke-linejoin:round; stroke-width:4; stroke-opacity:1; fill:none\" points=\"2909.11,2709.11 2875.63,2651.12 2808.66,2651.12 2775.18,2709.11 2808.66,2767.11 2875.63,2767.11 2909.11,2709.11 \"/>\n",
       "<path clip-path=\"url(#clip832)\" d=\"M3287.79 2688.89 L3254.31 2630.89 L3187.34 2630.89 L3153.86 2688.89 L3187.34 2746.88 L3254.31 2746.88 L3287.79 2688.89 L3287.79 2688.89  Z\" fill=\"#009af9\" fill-rule=\"evenodd\" fill-opacity=\"1\"/>\n",
       "<polyline clip-path=\"url(#clip832)\" style=\"stroke:#000000; stroke-linecap:round; stroke-linejoin:round; stroke-width:4; stroke-opacity:1; fill:none\" points=\"3287.79,2688.89 3254.31,2630.89 3187.34,2630.89 3153.86,2688.89 3187.34,2746.88 3254.31,2746.88 3287.79,2688.89 \"/>\n",
       "<path clip-path=\"url(#clip832)\" d=\"M3092.84 2600.08 L3063.9 2549.96 L3006.02 2549.96 L2977.08 2600.08 L3006.02 2650.2 L3063.9 2650.2 L3092.84 2600.08 L3092.84 2600.08  Z\" fill=\"#009af9\" fill-rule=\"evenodd\" fill-opacity=\"1\"/>\n",
       "<polyline clip-path=\"url(#clip832)\" style=\"stroke:#000000; stroke-linecap:round; stroke-linejoin:round; stroke-width:4; stroke-opacity:1; fill:none\" points=\"3092.84,2600.08 3063.9,2549.96 3006.02,2549.96 2977.08,2600.08 3006.02,2650.2 3063.9,2650.2 3092.84,2600.08 \"/>\n",
       "<path clip-path=\"url(#clip832)\" d=\"M2393.68 491.289 L2393.34 491.089 L2393.34 490.689 L2393.68 490.489 L2394.03 490.689 L2394.03 491.089 Z\" fill=\"#009af9\" fill-rule=\"evenodd\" fill-opacity=\"1\" stroke=\"#000000\" stroke-opacity=\"1\" stroke-width=\"6.4\"/>\n",
       "<path clip-path=\"url(#clip832)\" d=\"M2392.8 1083.24 L2392.45 1083.04 L2392.45 1082.64 L2392.8 1082.44 L2393.15 1082.64 L2393.15 1083.04 Z\" fill=\"#009af9\" fill-rule=\"evenodd\" fill-opacity=\"1\" stroke=\"#000000\" stroke-opacity=\"1\" stroke-width=\"6.4\"/>\n",
       "<path clip-path=\"url(#clip832)\" d=\"M2380.79 1457.03 L2380.45 1456.83 L2380.45 1456.43 L2380.79 1456.23 L2381.14 1456.43 L2381.14 1456.83 Z\" fill=\"#009af9\" fill-rule=\"evenodd\" fill-opacity=\"1\" stroke=\"#000000\" stroke-opacity=\"1\" stroke-width=\"6.4\"/>\n",
       "<path clip-path=\"url(#clip832)\" d=\"M2406.52 1794.64 L2406.18 1794.44 L2406.18 1794.04 L2406.52 1793.84 L2406.87 1794.04 L2406.87 1794.44 Z\" fill=\"#009af9\" fill-rule=\"evenodd\" fill-opacity=\"1\" stroke=\"#000000\" stroke-opacity=\"1\" stroke-width=\"6.4\"/>\n",
       "<path clip-path=\"url(#clip832)\" d=\"M2286.27 2327.12 L2285.93 2326.92 L2285.93 2326.52 L2286.27 2326.32 L2286.62 2326.52 L2286.62 2326.92 Z\" fill=\"#009af9\" fill-rule=\"evenodd\" fill-opacity=\"1\" stroke=\"#000000\" stroke-opacity=\"1\" stroke-width=\"6.4\"/>\n",
       "<path clip-path=\"url(#clip832)\" d=\"M2648.54 2251.86 L2648.19 2251.66 L2648.19 2251.26 L2648.54 2251.06 L2648.88 2251.26 L2648.88 2251.66 Z\" fill=\"#009af9\" fill-rule=\"evenodd\" fill-opacity=\"1\" stroke=\"#000000\" stroke-opacity=\"1\" stroke-width=\"6.4\"/>\n",
       "<path clip-path=\"url(#clip832)\" d=\"M2438.85 2228.59 L2438.5 2228.39 L2438.5 2227.99 L2438.85 2227.79 L2439.19 2227.99 L2439.19 2228.39 Z\" fill=\"#009af9\" fill-rule=\"evenodd\" fill-opacity=\"1\" stroke=\"#000000\" stroke-opacity=\"1\" stroke-width=\"6.4\"/>\n",
       "<path clip-path=\"url(#clip832)\" d=\"M1848.22 2249.8 L1847.88 2249.6 L1847.88 2249.2 L1848.22 2249 L1848.57 2249.2 L1848.57 2249.6 Z\" fill=\"#009af9\" fill-rule=\"evenodd\" fill-opacity=\"1\" stroke=\"#000000\" stroke-opacity=\"1\" stroke-width=\"6.4\"/>\n",
       "<path clip-path=\"url(#clip832)\" d=\"M2108.68 2656.51 L2108.33 2656.31 L2108.33 2655.91 L2108.68 2655.71 L2109.03 2655.91 L2109.03 2656.31 Z\" fill=\"#009af9\" fill-rule=\"evenodd\" fill-opacity=\"1\" stroke=\"#000000\" stroke-opacity=\"1\" stroke-width=\"6.4\"/>\n",
       "<path clip-path=\"url(#clip832)\" d=\"M1913.55 2635.65 L1913.21 2635.45 L1913.21 2635.05 L1913.55 2634.85 L1913.9 2635.05 L1913.9 2635.45 Z\" fill=\"#009af9\" fill-rule=\"evenodd\" fill-opacity=\"1\" stroke=\"#000000\" stroke-opacity=\"1\" stroke-width=\"6.4\"/>\n",
       "<path clip-path=\"url(#clip832)\" d=\"M1419.02 2562.73 L1418.68 2562.53 L1418.68 2562.13 L1419.02 2561.93 L1419.37 2562.13 L1419.37 2562.53 Z\" fill=\"#009af9\" fill-rule=\"evenodd\" fill-opacity=\"1\" stroke=\"#000000\" stroke-opacity=\"1\" stroke-width=\"6.4\"/>\n",
       "<path clip-path=\"url(#clip832)\" d=\"M1290.89 2549.64 L1290.54 2549.44 L1290.54 2549.04 L1290.89 2548.84 L1291.24 2549.04 L1291.24 2549.44 Z\" fill=\"#009af9\" fill-rule=\"evenodd\" fill-opacity=\"1\" stroke=\"#000000\" stroke-opacity=\"1\" stroke-width=\"6.4\"/>\n",
       "<path clip-path=\"url(#clip832)\" d=\"M1557.53 2590.41 L1557.19 2590.21 L1557.19 2589.81 L1557.53 2589.61 L1557.88 2589.81 L1557.88 2590.21 Z\" fill=\"#009af9\" fill-rule=\"evenodd\" fill-opacity=\"1\" stroke=\"#000000\" stroke-opacity=\"1\" stroke-width=\"6.4\"/>\n",
       "<path clip-path=\"url(#clip832)\" d=\"M1720.2 2623.91 L1719.85 2623.71 L1719.85 2623.31 L1720.2 2623.11 L1720.55 2623.31 L1720.55 2623.71 Z\" fill=\"#009af9\" fill-rule=\"evenodd\" fill-opacity=\"1\" stroke=\"#000000\" stroke-opacity=\"1\" stroke-width=\"6.4\"/>\n",
       "<path clip-path=\"url(#clip832)\" d=\"M3008.74 2122.95 L3008.39 2122.75 L3008.39 2122.35 L3008.74 2122.15 L3009.09 2122.35 L3009.09 2122.75 Z\" fill=\"#009af9\" fill-rule=\"evenodd\" fill-opacity=\"1\" stroke=\"#000000\" stroke-opacity=\"1\" stroke-width=\"6.4\"/>\n",
       "<path clip-path=\"url(#clip832)\" d=\"M3351.28 2550.99 L3350.93 2550.79 L3350.93 2550.39 L3351.28 2550.19 L3351.63 2550.39 L3351.63 2550.79 Z\" fill=\"#009af9\" fill-rule=\"evenodd\" fill-opacity=\"1\" stroke=\"#000000\" stroke-opacity=\"1\" stroke-width=\"6.4\"/>\n",
       "<path clip-path=\"url(#clip832)\" d=\"M3509.11 2519.05 L3508.76 2518.85 L3508.76 2518.45 L3509.11 2518.25 L3509.46 2518.45 L3509.46 2518.85 Z\" fill=\"#009af9\" fill-rule=\"evenodd\" fill-opacity=\"1\" stroke=\"#000000\" stroke-opacity=\"1\" stroke-width=\"6.4\"/>\n",
       "<path clip-path=\"url(#clip832)\" d=\"M2842.14 2709.51 L2841.8 2709.31 L2841.8 2708.91 L2842.14 2708.71 L2842.49 2708.91 L2842.49 2709.31 Z\" fill=\"#009af9\" fill-rule=\"evenodd\" fill-opacity=\"1\" stroke=\"#000000\" stroke-opacity=\"1\" stroke-width=\"6.4\"/>\n",
       "<path clip-path=\"url(#clip832)\" d=\"M3220.82 2689.29 L3220.48 2689.09 L3220.48 2688.69 L3220.82 2688.49 L3221.17 2688.69 L3221.17 2689.09 Z\" fill=\"#009af9\" fill-rule=\"evenodd\" fill-opacity=\"1\" stroke=\"#000000\" stroke-opacity=\"1\" stroke-width=\"6.4\"/>\n",
       "<path clip-path=\"url(#clip832)\" d=\"M3034.96 2600.48 L3034.61 2600.28 L3034.61 2599.88 L3034.96 2599.68 L3035.31 2599.88 L3035.31 2600.28 Z\" fill=\"#009af9\" fill-rule=\"evenodd\" fill-opacity=\"1\" stroke=\"#000000\" stroke-opacity=\"1\" stroke-width=\"6.4\"/>\n",
       "<path clip-path=\"url(#clip830)\" d=\"M2379.41 484.552 L2376.24 493.151 L2382.59 493.151 L2379.41 484.552 M2378.09 482.249 L2380.74 482.249 L2387.33 499.529 L2384.9 499.529 L2383.32 495.096 L2375.53 495.096 L2373.96 499.529 L2371.49 499.529 L2378.09 482.249 Z\" fill=\"#000000\" fill-rule=\"nonzero\" fill-opacity=\"1\" /><path clip-path=\"url(#clip830)\" d=\"M2400.53 491.705 L2400.53 499.529 L2398.4 499.529 L2398.4 491.774 Q2398.4 489.934 2397.69 489.019 Q2396.97 488.105 2395.53 488.105 Q2393.81 488.105 2392.81 489.205 Q2391.82 490.304 2391.82 492.202 L2391.82 499.529 L2389.68 499.529 L2389.68 486.566 L2391.82 486.566 L2391.82 488.58 Q2392.58 487.411 2393.61 486.832 Q2394.65 486.253 2396.01 486.253 Q2398.24 486.253 2399.39 487.642 Q2400.53 489.019 2400.53 491.705 Z\" fill=\"#000000\" fill-rule=\"nonzero\" fill-opacity=\"1\" /><path clip-path=\"url(#clip830)\" d=\"M2410.18 500.732 Q2409.27 503.047 2408.42 503.753 Q2407.56 504.459 2406.12 504.459 L2404.42 504.459 L2404.42 502.677 L2405.67 502.677 Q2406.55 502.677 2407.04 502.26 Q2407.52 501.843 2408.11 500.293 L2408.5 499.32 L2403.25 486.566 L2405.51 486.566 L2409.56 496.705 L2413.61 486.566 L2415.87 486.566 L2410.18 500.732 Z\" fill=\"#000000\" fill-rule=\"nonzero\" fill-opacity=\"1\" /><path clip-path=\"url(#clip830)\" d=\"M2346.35 1074.2 L2349.5 1074.2 L2357.16 1088.66 L2357.16 1074.2 L2359.43 1074.2 L2359.43 1091.48 L2356.28 1091.48 L2348.62 1077.02 L2348.62 1091.48 L2346.35 1091.48 L2346.35 1074.2 Z\" fill=\"#000000\" fill-rule=\"nonzero\" fill-opacity=\"1\" /><path clip-path=\"url(#clip830)\" d=\"M2363.77 1086.37 L2363.77 1078.52 L2365.9 1078.52 L2365.9 1086.28 Q2365.9 1088.12 2366.62 1089.05 Q2367.34 1089.96 2368.77 1089.96 Q2370.5 1089.96 2371.49 1088.87 Q2372.5 1087.77 2372.5 1085.87 L2372.5 1078.52 L2374.63 1078.52 L2374.63 1091.48 L2372.5 1091.48 L2372.5 1089.49 Q2371.72 1090.67 2370.69 1091.25 Q2369.67 1091.82 2368.32 1091.82 Q2366.09 1091.82 2364.93 1090.43 Q2363.77 1089.04 2363.77 1086.37 M2369.13 1078.21 L2369.13 1078.21 Z\" fill=\"#000000\" fill-rule=\"nonzero\" fill-opacity=\"1\" /><path clip-path=\"url(#clip830)\" d=\"M2389.11 1081.01 Q2389.91 1079.57 2391.02 1078.89 Q2392.13 1078.21 2393.63 1078.21 Q2395.66 1078.21 2396.76 1079.63 Q2397.86 1081.04 2397.86 1083.66 L2397.86 1091.48 L2395.72 1091.48 L2395.72 1083.73 Q2395.72 1081.86 2395.06 1080.96 Q2394.4 1080.06 2393.04 1080.06 Q2391.39 1080.06 2390.43 1081.16 Q2389.47 1082.26 2389.47 1084.15 L2389.47 1091.48 L2387.32 1091.48 L2387.32 1083.73 Q2387.32 1081.85 2386.66 1080.96 Q2386 1080.06 2384.63 1080.06 Q2383 1080.06 2382.04 1081.17 Q2381.07 1082.27 2381.07 1084.15 L2381.07 1091.48 L2378.93 1091.48 L2378.93 1078.52 L2381.07 1078.52 L2381.07 1080.53 Q2381.8 1079.34 2382.82 1078.77 Q2383.84 1078.21 2385.24 1078.21 Q2386.65 1078.21 2387.64 1078.92 Q2388.63 1079.64 2389.11 1081.01 Z\" fill=\"#000000\" fill-rule=\"nonzero\" fill-opacity=\"1\" /><path clip-path=\"url(#clip830)\" d=\"M2411.41 1085.01 Q2411.41 1082.66 2410.44 1081.33 Q2409.48 1079.99 2407.79 1079.99 Q2406.1 1079.99 2405.13 1081.33 Q2404.16 1082.66 2404.16 1085.01 Q2404.16 1087.36 2405.13 1088.7 Q2406.1 1090.03 2407.79 1090.03 Q2409.48 1090.03 2410.44 1088.7 Q2411.41 1087.36 2411.41 1085.01 M2404.16 1080.49 Q2404.84 1079.33 2405.85 1078.77 Q2406.88 1078.21 2408.31 1078.21 Q2410.67 1078.21 2412.14 1080.08 Q2413.62 1081.96 2413.62 1085.01 Q2413.62 1088.07 2412.14 1089.94 Q2410.67 1091.82 2408.31 1091.82 Q2406.88 1091.82 2405.85 1091.26 Q2404.84 1090.69 2404.16 1089.54 L2404.16 1091.48 L2402.02 1091.48 L2402.02 1073.47 L2404.16 1073.47 L2404.16 1080.49 Z\" fill=\"#000000\" fill-rule=\"nonzero\" fill-opacity=\"1\" /><path clip-path=\"url(#clip830)\" d=\"M2428.24 1084.47 L2428.24 1085.51 L2418.45 1085.51 Q2418.59 1087.71 2419.77 1088.87 Q2420.96 1090.01 2423.08 1090.01 Q2424.3 1090.01 2425.45 1089.71 Q2426.61 1089.41 2427.74 1088.81 L2427.74 1090.82 Q2426.59 1091.31 2425.39 1091.56 Q2424.19 1091.82 2422.95 1091.82 Q2419.85 1091.82 2418.03 1090.01 Q2416.22 1088.21 2416.22 1085.13 Q2416.22 1081.94 2417.94 1080.08 Q2419.66 1078.21 2422.58 1078.21 Q2425.19 1078.21 2426.71 1079.9 Q2428.24 1081.57 2428.24 1084.47 M2426.11 1083.84 Q2426.09 1082.09 2425.13 1081.05 Q2424.18 1080.01 2422.6 1080.01 Q2420.82 1080.01 2419.74 1081.02 Q2418.68 1082.02 2418.52 1083.85 L2426.11 1083.84 Z\" fill=\"#000000\" fill-rule=\"nonzero\" fill-opacity=\"1\" /><path clip-path=\"url(#clip830)\" d=\"M2439.25 1080.51 Q2438.89 1080.3 2438.46 1080.21 Q2438.04 1080.1 2437.53 1080.1 Q2435.73 1080.1 2434.75 1081.28 Q2433.79 1082.45 2433.79 1084.65 L2433.79 1091.48 L2431.65 1091.48 L2431.65 1078.52 L2433.79 1078.52 L2433.79 1080.53 Q2434.47 1079.35 2435.54 1078.78 Q2436.62 1078.21 2438.16 1078.21 Q2438.38 1078.21 2438.64 1078.24 Q2438.91 1078.26 2439.23 1078.32 L2439.25 1080.51 Z\" fill=\"#000000\" fill-rule=\"nonzero\" fill-opacity=\"1\" /><path clip-path=\"url(#clip830)\" d=\"M2365.71 1457.17 Q2366.46 1457.42 2367.17 1458.26 Q2367.89 1459.09 2368.6 1460.55 L2370.98 1465.27 L2368.47 1465.27 L2366.26 1460.84 Q2365.4 1459.1 2364.59 1458.53 Q2363.79 1457.97 2362.4 1457.97 L2359.85 1457.97 L2359.85 1465.27 L2357.52 1465.27 L2357.52 1447.99 L2362.79 1447.99 Q2365.76 1447.99 2367.22 1449.23 Q2368.67 1450.47 2368.67 1452.97 Q2368.67 1454.6 2367.91 1455.67 Q2367.16 1456.75 2365.71 1457.17 M2359.85 1449.91 L2359.85 1456.05 L2362.79 1456.05 Q2364.48 1456.05 2365.34 1455.27 Q2366.21 1454.48 2366.21 1452.97 Q2366.21 1451.45 2365.34 1450.69 Q2364.48 1449.91 2362.79 1449.91 L2359.85 1449.91 Z\" fill=\"#000000\" fill-rule=\"nonzero\" fill-opacity=\"1\" /><path clip-path=\"url(#clip830)\" d=\"M2383.92 1458.26 L2383.92 1459.3 L2374.13 1459.3 Q2374.26 1461.5 2375.45 1462.65 Q2376.64 1463.8 2378.76 1463.8 Q2379.98 1463.8 2381.13 1463.5 Q2382.29 1463.2 2383.42 1462.6 L2383.42 1464.61 Q2382.27 1465.1 2381.07 1465.35 Q2379.87 1465.61 2378.63 1465.61 Q2375.53 1465.61 2373.71 1463.8 Q2371.9 1461.99 2371.9 1458.92 Q2371.9 1455.73 2373.62 1453.87 Q2375.34 1451.99 2378.26 1451.99 Q2380.87 1451.99 2382.39 1453.68 Q2383.92 1455.36 2383.92 1458.26 M2381.79 1457.63 Q2381.76 1455.88 2380.8 1454.84 Q2379.85 1453.8 2378.28 1453.8 Q2376.5 1453.8 2375.42 1454.81 Q2374.36 1455.81 2374.2 1457.64 L2381.79 1457.63 Z\" fill=\"#000000\" fill-rule=\"nonzero\" fill-opacity=\"1\" /><path clip-path=\"url(#clip830)\" d=\"M2393.3 1458.75 Q2390.72 1458.75 2389.73 1459.34 Q2388.73 1459.93 2388.73 1461.36 Q2388.73 1462.49 2389.47 1463.16 Q2390.23 1463.82 2391.51 1463.82 Q2393.28 1463.82 2394.35 1462.57 Q2395.42 1461.31 2395.42 1459.23 L2395.42 1458.75 L2393.3 1458.75 M2397.55 1457.87 L2397.55 1465.27 L2395.42 1465.27 L2395.42 1463.3 Q2394.69 1464.48 2393.6 1465.05 Q2392.52 1465.61 2390.94 1465.61 Q2388.95 1465.61 2387.77 1464.49 Q2386.6 1463.37 2386.6 1461.5 Q2386.6 1459.31 2388.06 1458.2 Q2389.53 1457.09 2392.44 1457.09 L2395.42 1457.09 L2395.42 1456.88 Q2395.42 1455.41 2394.45 1454.61 Q2393.49 1453.8 2391.74 1453.8 Q2390.63 1453.8 2389.58 1454.07 Q2388.52 1454.33 2387.55 1454.86 L2387.55 1452.9 Q2388.72 1452.45 2389.82 1452.23 Q2390.92 1451.99 2391.96 1451.99 Q2394.77 1451.99 2396.16 1453.45 Q2397.55 1454.91 2397.55 1457.87 Z\" fill=\"#000000\" fill-rule=\"nonzero\" fill-opacity=\"1\" /><path clip-path=\"url(#clip830)\" d=\"M2401.94 1447.26 L2404.07 1447.26 L2404.07 1465.27 L2401.94 1465.27 L2401.94 1447.26 Z\" fill=\"#000000\" fill-rule=\"nonzero\" fill-opacity=\"1\" /><path clip-path=\"url(#clip830)\" d=\"M2365.05 1785.6 L2367.39 1785.6 L2367.39 1802.88 L2365.05 1802.88 L2365.05 1785.6 Z\" fill=\"#000000\" fill-rule=\"nonzero\" fill-opacity=\"1\" /><path clip-path=\"url(#clip830)\" d=\"M2382.73 1795.06 L2382.73 1802.88 L2380.6 1802.88 L2380.6 1795.13 Q2380.6 1793.29 2379.88 1792.38 Q2379.16 1791.46 2377.73 1791.46 Q2376 1791.46 2375.01 1792.56 Q2374.01 1793.66 2374.01 1795.56 L2374.01 1802.88 L2371.87 1802.88 L2371.87 1789.92 L2374.01 1789.92 L2374.01 1791.94 Q2374.77 1790.77 2375.8 1790.19 Q2376.85 1789.61 2378.2 1789.61 Q2380.43 1789.61 2381.58 1791 Q2382.73 1792.38 2382.73 1795.06 Z\" fill=\"#000000\" fill-rule=\"nonzero\" fill-opacity=\"1\" /><path clip-path=\"url(#clip830)\" d=\"M2389.08 1786.24 L2389.08 1789.92 L2393.47 1789.92 L2393.47 1791.58 L2389.08 1791.58 L2389.08 1798.61 Q2389.08 1800.2 2389.51 1800.65 Q2389.95 1801.1 2391.28 1801.1 L2393.47 1801.1 L2393.47 1802.88 L2391.28 1802.88 Q2388.81 1802.88 2387.88 1801.97 Q2386.94 1801.04 2386.94 1798.61 L2386.94 1791.58 L2385.38 1791.58 L2385.38 1789.92 L2386.94 1789.92 L2386.94 1786.24 L2389.08 1786.24 Z\" fill=\"#000000\" fill-rule=\"nonzero\" fill-opacity=\"1\" /><path clip-path=\"url(#clip830)\" d=\"M2407.36 1795.87 L2407.36 1796.91 L2397.56 1796.91 Q2397.7 1799.11 2398.88 1800.27 Q2400.08 1801.41 2402.19 1801.41 Q2403.42 1801.41 2404.57 1801.11 Q2405.72 1800.81 2406.86 1800.21 L2406.86 1802.22 Q2405.71 1802.71 2404.51 1802.97 Q2403.3 1803.22 2402.07 1803.22 Q2398.96 1803.22 2397.15 1801.41 Q2395.34 1799.61 2395.34 1796.53 Q2395.34 1793.35 2397.05 1791.48 Q2398.78 1789.61 2401.7 1789.61 Q2404.31 1789.61 2405.83 1791.3 Q2407.36 1792.98 2407.36 1795.87 M2405.23 1795.25 Q2405.2 1793.5 2404.24 1792.46 Q2403.29 1791.41 2401.72 1791.41 Q2399.94 1791.41 2398.86 1792.42 Q2397.8 1793.43 2397.63 1795.26 L2405.23 1795.25 Z\" fill=\"#000000\" fill-rule=\"nonzero\" fill-opacity=\"1\" /><path clip-path=\"url(#clip830)\" d=\"M2419.38 1796.25 Q2419.38 1793.94 2418.42 1792.66 Q2417.47 1791.39 2415.75 1791.39 Q2414.03 1791.39 2413.07 1792.66 Q2412.12 1793.94 2412.12 1796.25 Q2412.12 1798.56 2413.07 1799.83 Q2414.03 1801.1 2415.75 1801.1 Q2417.47 1801.1 2418.42 1799.83 Q2419.38 1798.56 2419.38 1796.25 M2421.51 1801.28 Q2421.51 1804.59 2420.04 1806.19 Q2418.57 1807.81 2415.54 1807.81 Q2414.42 1807.81 2413.42 1807.64 Q2412.43 1807.48 2411.49 1807.13 L2411.49 1805.06 Q2412.43 1805.57 2413.34 1805.81 Q2414.25 1806.06 2415.2 1806.06 Q2417.3 1806.06 2418.34 1804.96 Q2419.38 1803.87 2419.38 1801.66 L2419.38 1800.6 Q2418.72 1801.75 2417.69 1802.32 Q2416.66 1802.88 2415.23 1802.88 Q2412.84 1802.88 2411.38 1801.07 Q2409.93 1799.25 2409.93 1796.25 Q2409.93 1793.24 2411.38 1791.43 Q2412.84 1789.61 2415.23 1789.61 Q2416.66 1789.61 2417.69 1790.18 Q2418.72 1790.74 2419.38 1791.89 L2419.38 1789.92 L2421.51 1789.92 L2421.51 1801.28 Z\" fill=\"#000000\" fill-rule=\"nonzero\" fill-opacity=\"1\" /><path clip-path=\"url(#clip830)\" d=\"M2436.99 1795.87 L2436.99 1796.91 L2427.19 1796.91 Q2427.33 1799.11 2428.51 1800.27 Q2429.71 1801.41 2431.82 1801.41 Q2433.05 1801.41 2434.2 1801.11 Q2435.35 1800.81 2436.49 1800.21 L2436.49 1802.22 Q2435.34 1802.71 2434.14 1802.97 Q2432.93 1803.22 2431.7 1803.22 Q2428.59 1803.22 2426.78 1801.41 Q2424.97 1799.61 2424.97 1796.53 Q2424.97 1793.35 2426.68 1791.48 Q2428.41 1789.61 2431.33 1789.61 Q2433.94 1789.61 2435.46 1791.3 Q2436.99 1792.98 2436.99 1795.87 M2434.86 1795.25 Q2434.83 1793.5 2433.87 1792.46 Q2432.92 1791.41 2431.35 1791.41 Q2429.57 1791.41 2428.49 1792.42 Q2427.43 1793.43 2427.26 1795.26 L2434.86 1795.25 Z\" fill=\"#000000\" fill-rule=\"nonzero\" fill-opacity=\"1\" /><path clip-path=\"url(#clip830)\" d=\"M2447.99 1791.91 Q2447.63 1791.7 2447.21 1791.61 Q2446.79 1791.51 2446.28 1791.51 Q2444.47 1791.51 2443.5 1792.69 Q2442.54 1793.86 2442.54 1796.06 L2442.54 1802.88 L2440.4 1802.88 L2440.4 1789.92 L2442.54 1789.92 L2442.54 1791.94 Q2443.21 1790.75 2444.29 1790.19 Q2445.36 1789.61 2446.9 1789.61 Q2447.12 1789.61 2447.39 1789.64 Q2447.66 1789.67 2447.98 1789.72 L2447.99 1791.91 Z\" fill=\"#000000\" fill-rule=\"nonzero\" fill-opacity=\"1\" /><path clip-path=\"url(#clip830)\" d=\"M2264.96 2327.11 L2264.96 2333.44 L2268.71 2333.44 Q2270.6 2333.44 2271.5 2332.66 Q2272.41 2331.88 2272.41 2330.27 Q2272.41 2328.65 2271.5 2327.88 Q2270.6 2327.11 2268.71 2327.11 L2264.96 2327.11 M2264.96 2320 L2264.96 2325.21 L2268.42 2325.21 Q2270.13 2325.21 2270.97 2324.57 Q2271.81 2323.92 2271.81 2322.61 Q2271.81 2321.3 2270.97 2320.65 Q2270.13 2320 2268.42 2320 L2264.96 2320 M2262.62 2318.08 L2268.59 2318.08 Q2271.27 2318.08 2272.71 2319.19 Q2274.16 2320.3 2274.16 2322.35 Q2274.16 2323.94 2273.42 2324.87 Q2272.68 2325.81 2271.24 2326.04 Q2272.97 2326.41 2273.92 2327.59 Q2274.88 2328.76 2274.88 2330.52 Q2274.88 2332.84 2273.3 2334.1 Q2271.73 2335.36 2268.83 2335.36 L2262.62 2335.36 L2262.62 2318.08 Z\" fill=\"#000000\" fill-rule=\"nonzero\" fill-opacity=\"1\" /><path clip-path=\"url(#clip830)\" d=\"M2283.81 2323.89 Q2282.1 2323.89 2281.11 2325.23 Q2280.11 2326.56 2280.11 2328.89 Q2280.11 2331.22 2281.09 2332.56 Q2282.09 2333.89 2283.81 2333.89 Q2285.52 2333.89 2286.51 2332.55 Q2287.51 2331.2 2287.51 2328.89 Q2287.51 2326.59 2286.51 2325.24 Q2285.52 2323.89 2283.81 2323.89 M2283.81 2322.08 Q2286.59 2322.08 2288.18 2323.89 Q2289.76 2325.7 2289.76 2328.89 Q2289.76 2332.07 2288.18 2333.89 Q2286.59 2335.7 2283.81 2335.7 Q2281.02 2335.7 2279.44 2333.89 Q2277.86 2332.07 2277.86 2328.89 Q2277.86 2325.7 2279.44 2323.89 Q2281.02 2322.08 2283.81 2322.08 Z\" fill=\"#000000\" fill-rule=\"nonzero\" fill-opacity=\"1\" /><path clip-path=\"url(#clip830)\" d=\"M2298.32 2323.89 Q2296.6 2323.89 2295.61 2325.23 Q2294.61 2326.56 2294.61 2328.89 Q2294.61 2331.22 2295.6 2332.56 Q2296.59 2333.89 2298.32 2333.89 Q2300.02 2333.89 2301.01 2332.55 Q2302.01 2331.2 2302.01 2328.89 Q2302.01 2326.59 2301.01 2325.24 Q2300.02 2323.89 2298.32 2323.89 M2298.32 2322.08 Q2301.09 2322.08 2302.68 2323.89 Q2304.27 2325.7 2304.27 2328.89 Q2304.27 2332.07 2302.68 2333.89 Q2301.09 2335.7 2298.32 2335.7 Q2295.53 2335.7 2293.94 2333.89 Q2292.37 2332.07 2292.37 2328.89 Q2292.37 2325.7 2293.94 2323.89 Q2295.53 2322.08 2298.32 2322.08 Z\" fill=\"#000000\" fill-rule=\"nonzero\" fill-opacity=\"1\" /><path clip-path=\"url(#clip830)\" d=\"M2307.8 2317.35 L2309.92 2317.35 L2309.92 2335.36 L2307.8 2335.36 L2307.8 2317.35 Z\" fill=\"#000000\" fill-rule=\"nonzero\" fill-opacity=\"1\" /><path clip-path=\"url(#clip830)\" d=\"M2578.79 2244.4 Q2576.25 2244.4 2574.74 2246.3 Q2573.25 2248.2 2573.25 2251.48 Q2573.25 2254.74 2574.74 2256.64 Q2576.25 2258.54 2578.79 2258.54 Q2581.34 2258.54 2582.82 2256.64 Q2584.31 2254.74 2584.31 2251.48 Q2584.31 2248.2 2582.82 2246.3 Q2581.34 2244.4 2578.79 2244.4 M2578.79 2242.51 Q2582.43 2242.51 2584.6 2244.95 Q2586.78 2247.38 2586.78 2251.48 Q2586.78 2255.56 2584.6 2258 Q2582.43 2260.43 2578.79 2260.43 Q2575.15 2260.43 2572.96 2258 Q2570.78 2255.57 2570.78 2251.48 Q2570.78 2247.38 2572.96 2244.95 Q2575.15 2242.51 2578.79 2242.51 Z\" fill=\"#000000\" fill-rule=\"nonzero\" fill-opacity=\"1\" /><path clip-path=\"url(#clip830)\" d=\"M2596.9 2242.09 L2596.9 2243.86 L2594.87 2243.86 Q2593.72 2243.86 2593.27 2244.32 Q2592.83 2244.79 2592.83 2245.99 L2592.83 2247.14 L2596.34 2247.14 L2596.34 2248.79 L2592.83 2248.79 L2592.83 2260.1 L2590.69 2260.1 L2590.69 2248.79 L2588.65 2248.79 L2588.65 2247.14 L2590.69 2247.14 L2590.69 2246.23 Q2590.69 2244.07 2591.7 2243.08 Q2592.7 2242.09 2594.89 2242.09 L2596.9 2242.09 Z\" fill=\"#000000\" fill-rule=\"nonzero\" fill-opacity=\"1\" /><path clip-path=\"url(#clip830)\" d=\"M2605.25 2242.09 L2605.25 2243.86 L2603.21 2243.86 Q2602.07 2243.86 2601.62 2244.32 Q2601.18 2244.79 2601.18 2245.99 L2601.18 2247.14 L2604.68 2247.14 L2604.68 2248.79 L2601.18 2248.79 L2601.18 2260.1 L2599.03 2260.1 L2599.03 2248.79 L2597 2248.79 L2597 2247.14 L2599.03 2247.14 L2599.03 2246.23 Q2599.03 2244.07 2600.04 2243.08 Q2601.05 2242.09 2603.24 2242.09 L2605.25 2242.09 Z\" fill=\"#000000\" fill-rule=\"nonzero\" fill-opacity=\"1\" /><path clip-path=\"url(#clip830)\" d=\"M2615.3 2247.52 L2615.3 2249.53 Q2614.39 2249.07 2613.42 2248.84 Q2612.45 2248.61 2611.41 2248.61 Q2609.82 2248.61 2609.02 2249.09 Q2608.24 2249.58 2608.24 2250.55 Q2608.24 2251.29 2608.8 2251.72 Q2609.37 2252.14 2611.08 2252.52 L2611.81 2252.68 Q2614.08 2253.17 2615.03 2254.06 Q2615.99 2254.94 2615.99 2256.52 Q2615.99 2258.33 2614.56 2259.38 Q2613.13 2260.43 2610.63 2260.43 Q2609.59 2260.43 2608.46 2260.23 Q2607.33 2260.03 2606.08 2259.62 L2606.08 2257.42 Q2607.26 2258.04 2608.41 2258.35 Q2609.56 2258.65 2610.68 2258.65 Q2612.18 2258.65 2612.99 2258.14 Q2613.8 2257.62 2613.8 2256.68 Q2613.8 2255.82 2613.21 2255.35 Q2612.63 2254.89 2610.65 2254.46 L2609.91 2254.29 Q2607.93 2253.87 2607.06 2253.01 Q2606.18 2252.15 2606.18 2250.64 Q2606.18 2248.81 2607.47 2247.82 Q2608.77 2246.82 2611.15 2246.82 Q2612.33 2246.82 2613.37 2247 Q2614.42 2247.17 2615.3 2247.52 Z\" fill=\"#000000\" fill-rule=\"nonzero\" fill-opacity=\"1\" /><path clip-path=\"url(#clip830)\" d=\"M2630.47 2253.08 L2630.47 2254.13 L2620.68 2254.13 Q2620.82 2256.32 2622 2257.48 Q2623.19 2258.63 2625.31 2258.63 Q2626.53 2258.63 2627.68 2258.33 Q2628.84 2258.03 2629.97 2257.42 L2629.97 2259.44 Q2628.83 2259.92 2627.62 2260.18 Q2626.42 2260.43 2625.18 2260.43 Q2622.08 2260.43 2620.26 2258.63 Q2618.46 2256.82 2618.46 2253.74 Q2618.46 2250.56 2620.17 2248.7 Q2621.89 2246.82 2624.81 2246.82 Q2627.43 2246.82 2628.94 2248.51 Q2630.47 2250.19 2630.47 2253.08 M2628.34 2252.46 Q2628.32 2250.71 2627.36 2249.67 Q2626.41 2248.63 2624.83 2248.63 Q2623.05 2248.63 2621.97 2249.64 Q2620.91 2250.64 2620.75 2252.47 L2628.34 2252.46 Z\" fill=\"#000000\" fill-rule=\"nonzero\" fill-opacity=\"1\" /><path clip-path=\"url(#clip830)\" d=\"M2636.07 2243.45 L2636.07 2247.14 L2640.46 2247.14 L2640.46 2248.79 L2636.07 2248.79 L2636.07 2255.83 Q2636.07 2257.41 2636.5 2257.86 Q2636.94 2258.32 2638.27 2258.32 L2640.46 2258.32 L2640.46 2260.1 L2638.27 2260.1 Q2635.81 2260.1 2634.87 2259.18 Q2633.93 2258.26 2633.93 2255.83 L2633.93 2248.79 L2632.37 2248.79 L2632.37 2247.14 L2633.93 2247.14 L2633.93 2243.45 L2636.07 2243.45 Z\" fill=\"#000000\" fill-rule=\"nonzero\" fill-opacity=\"1\" /><path clip-path=\"url(#clip830)\" d=\"M2643.35 2242.82 L2645.69 2242.82 L2645.69 2260.1 L2643.35 2260.1 L2643.35 2242.82 Z\" fill=\"#000000\" fill-rule=\"nonzero\" fill-opacity=\"1\" /><path clip-path=\"url(#clip830)\" d=\"M2661.02 2252.27 L2661.02 2260.1 L2658.9 2260.1 L2658.9 2252.34 Q2658.9 2250.5 2658.18 2249.59 Q2657.46 2248.67 2656.03 2248.67 Q2654.3 2248.67 2653.31 2249.77 Q2652.31 2250.87 2652.31 2252.77 L2652.31 2260.1 L2650.17 2260.1 L2650.17 2247.14 L2652.31 2247.14 L2652.31 2249.15 Q2653.07 2247.98 2654.1 2247.4 Q2655.15 2246.82 2656.5 2246.82 Q2658.73 2246.82 2659.88 2248.21 Q2661.02 2249.59 2661.02 2252.27 Z\" fill=\"#000000\" fill-rule=\"nonzero\" fill-opacity=\"1\" /><path clip-path=\"url(#clip830)\" d=\"M2667.38 2243.45 L2667.38 2247.14 L2671.77 2247.14 L2671.77 2248.79 L2667.38 2248.79 L2667.38 2255.83 Q2667.38 2257.41 2667.81 2257.86 Q2668.25 2258.32 2669.58 2258.32 L2671.77 2258.32 L2671.77 2260.1 L2669.58 2260.1 Q2667.11 2260.1 2666.18 2259.18 Q2665.24 2258.26 2665.24 2255.83 L2665.24 2248.79 L2663.68 2248.79 L2663.68 2247.14 L2665.24 2247.14 L2665.24 2243.45 L2667.38 2243.45 Z\" fill=\"#000000\" fill-rule=\"nonzero\" fill-opacity=\"1\" /><path clip-path=\"url(#clip830)\" d=\"M2685.65 2253.08 L2685.65 2254.13 L2675.86 2254.13 Q2676 2256.32 2677.18 2257.48 Q2678.37 2258.63 2680.49 2258.63 Q2681.72 2258.63 2682.87 2258.33 Q2684.02 2258.03 2685.16 2257.42 L2685.16 2259.44 Q2684.01 2259.92 2682.81 2260.18 Q2681.6 2260.43 2680.37 2260.43 Q2677.26 2260.43 2675.45 2258.63 Q2673.64 2256.82 2673.64 2253.74 Q2673.64 2250.56 2675.35 2248.7 Q2677.08 2246.82 2679.99 2246.82 Q2682.61 2246.82 2684.13 2248.51 Q2685.65 2250.19 2685.65 2253.08 M2683.52 2252.46 Q2683.5 2250.71 2682.54 2249.67 Q2681.59 2248.63 2680.02 2248.63 Q2678.24 2248.63 2677.16 2249.64 Q2676.09 2250.64 2675.93 2252.47 L2683.52 2252.46 Z\" fill=\"#000000\" fill-rule=\"nonzero\" fill-opacity=\"1\" /><path clip-path=\"url(#clip830)\" d=\"M2697.68 2253.47 Q2697.68 2251.15 2696.72 2249.88 Q2695.77 2248.61 2694.05 2248.61 Q2692.33 2248.61 2691.37 2249.88 Q2690.42 2251.15 2690.42 2253.47 Q2690.42 2255.77 2691.37 2257.04 Q2692.33 2258.32 2694.05 2258.32 Q2695.77 2258.32 2696.72 2257.04 Q2697.68 2255.77 2697.68 2253.47 M2699.81 2258.49 Q2699.81 2261.8 2698.34 2263.41 Q2696.87 2265.03 2693.84 2265.03 Q2692.71 2265.03 2691.72 2264.86 Q2690.72 2264.69 2689.79 2264.35 L2689.79 2262.27 Q2690.72 2262.78 2691.64 2263.03 Q2692.55 2263.27 2693.5 2263.27 Q2695.6 2263.27 2696.64 2262.17 Q2697.68 2261.08 2697.68 2258.87 L2697.68 2257.82 Q2697.02 2258.96 2695.99 2259.53 Q2694.96 2260.1 2693.52 2260.1 Q2691.14 2260.1 2689.68 2258.28 Q2688.22 2256.46 2688.22 2253.47 Q2688.22 2250.46 2689.68 2248.64 Q2691.14 2246.82 2693.52 2246.82 Q2694.96 2246.82 2695.99 2247.39 Q2697.02 2247.96 2697.68 2249.1 L2697.68 2247.14 L2699.81 2247.14 L2699.81 2258.49 Z\" fill=\"#000000\" fill-rule=\"nonzero\" fill-opacity=\"1\" /><path clip-path=\"url(#clip830)\" d=\"M2715.28 2253.08 L2715.28 2254.13 L2705.49 2254.13 Q2705.63 2256.32 2706.81 2257.48 Q2708 2258.63 2710.12 2258.63 Q2711.35 2258.63 2712.49 2258.33 Q2713.65 2258.03 2714.79 2257.42 L2714.79 2259.44 Q2713.64 2259.92 2712.44 2260.18 Q2711.23 2260.43 2709.99 2260.43 Q2706.89 2260.43 2705.08 2258.63 Q2703.27 2256.82 2703.27 2253.74 Q2703.27 2250.56 2704.98 2248.7 Q2706.71 2246.82 2709.62 2246.82 Q2712.24 2246.82 2713.76 2248.51 Q2715.28 2250.19 2715.28 2253.08 M2713.15 2252.46 Q2713.13 2250.71 2712.17 2249.67 Q2711.22 2248.63 2709.65 2248.63 Q2707.87 2248.63 2706.79 2249.64 Q2705.72 2250.64 2705.56 2252.47 L2713.15 2252.46 Z\" fill=\"#000000\" fill-rule=\"nonzero\" fill-opacity=\"1\" /><path clip-path=\"url(#clip830)\" d=\"M2726.29 2249.13 Q2725.93 2248.92 2725.5 2248.83 Q2725.09 2248.72 2724.58 2248.72 Q2722.77 2248.72 2721.8 2249.9 Q2720.84 2251.07 2720.84 2253.27 L2720.84 2260.1 L2718.7 2260.1 L2718.7 2247.14 L2720.84 2247.14 L2720.84 2249.15 Q2721.51 2247.97 2722.59 2247.4 Q2723.66 2246.82 2725.2 2246.82 Q2725.42 2246.82 2725.69 2246.86 Q2725.96 2246.88 2726.28 2246.94 L2726.29 2249.13 Z\" fill=\"#000000\" fill-rule=\"nonzero\" fill-opacity=\"1\" /><path clip-path=\"url(#clip830)\" d=\"M2369.1 2221.14 Q2366.55 2221.14 2365.05 2223.04 Q2363.56 2224.94 2363.56 2228.21 Q2363.56 2231.48 2365.05 2233.37 Q2366.55 2235.27 2369.1 2235.27 Q2371.65 2235.27 2373.13 2233.37 Q2374.62 2231.48 2374.62 2228.21 Q2374.62 2224.94 2373.13 2223.04 Q2371.65 2221.14 2369.1 2221.14 M2369.1 2219.24 Q2372.74 2219.24 2374.91 2221.68 Q2377.09 2224.11 2377.09 2228.21 Q2377.09 2232.3 2374.91 2234.74 Q2372.74 2237.17 2369.1 2237.17 Q2365.46 2237.17 2363.27 2234.74 Q2361.09 2232.31 2361.09 2228.21 Q2361.09 2224.11 2363.27 2221.68 Q2365.46 2219.24 2369.1 2219.24 Z\" fill=\"#000000\" fill-rule=\"nonzero\" fill-opacity=\"1\" /><path clip-path=\"url(#clip830)\" d=\"M2387.21 2218.82 L2387.21 2220.6 L2385.18 2220.6 Q2384.03 2220.6 2383.58 2221.06 Q2383.14 2221.52 2383.14 2222.73 L2383.14 2223.87 L2386.65 2223.87 L2386.65 2225.53 L2383.14 2225.53 L2383.14 2236.83 L2381 2236.83 L2381 2225.53 L2378.96 2225.53 L2378.96 2223.87 L2381 2223.87 L2381 2222.97 Q2381 2220.8 2382.01 2219.82 Q2383.01 2218.82 2385.2 2218.82 L2387.21 2218.82 Z\" fill=\"#000000\" fill-rule=\"nonzero\" fill-opacity=\"1\" /><path clip-path=\"url(#clip830)\" d=\"M2395.56 2218.82 L2395.56 2220.6 L2393.52 2220.6 Q2392.38 2220.6 2391.92 2221.06 Q2391.49 2221.52 2391.49 2222.73 L2391.49 2223.87 L2394.99 2223.87 L2394.99 2225.53 L2391.49 2225.53 L2391.49 2236.83 L2389.34 2236.83 L2389.34 2225.53 L2387.31 2225.53 L2387.31 2223.87 L2389.34 2223.87 L2389.34 2222.97 Q2389.34 2220.8 2390.35 2219.82 Q2391.36 2218.82 2393.55 2218.82 L2395.56 2218.82 Z\" fill=\"#000000\" fill-rule=\"nonzero\" fill-opacity=\"1\" /><path clip-path=\"url(#clip830)\" d=\"M2405.61 2224.25 L2405.61 2226.27 Q2404.7 2225.8 2403.73 2225.57 Q2402.76 2225.34 2401.72 2225.34 Q2400.13 2225.34 2399.33 2225.83 Q2398.55 2226.31 2398.55 2227.29 Q2398.55 2228.03 2399.11 2228.45 Q2399.68 2228.87 2401.39 2229.25 L2402.12 2229.41 Q2404.39 2229.9 2405.34 2230.79 Q2406.3 2231.67 2406.3 2233.26 Q2406.3 2235.06 2404.86 2236.12 Q2403.44 2237.17 2400.94 2237.17 Q2399.9 2237.17 2398.77 2236.96 Q2397.64 2236.76 2396.39 2236.36 L2396.39 2234.16 Q2397.57 2234.77 2398.72 2235.09 Q2399.86 2235.39 2400.99 2235.39 Q2402.49 2235.39 2403.3 2234.88 Q2404.11 2234.36 2404.11 2233.42 Q2404.11 2232.55 2403.52 2232.09 Q2402.94 2231.63 2400.96 2231.2 L2400.22 2231.02 Q2398.24 2230.61 2397.36 2229.75 Q2396.49 2228.88 2396.49 2227.38 Q2396.49 2225.55 2397.78 2224.55 Q2399.08 2223.56 2401.46 2223.56 Q2402.64 2223.56 2403.68 2223.73 Q2404.73 2223.91 2405.61 2224.25 Z\" fill=\"#000000\" fill-rule=\"nonzero\" fill-opacity=\"1\" /><path clip-path=\"url(#clip830)\" d=\"M2420.78 2229.82 L2420.78 2230.86 L2410.99 2230.86 Q2411.13 2233.06 2412.31 2234.22 Q2413.5 2235.36 2415.62 2235.36 Q2416.84 2235.36 2417.99 2235.06 Q2419.15 2234.76 2420.28 2234.16 L2420.28 2236.17 Q2419.14 2236.66 2417.93 2236.91 Q2416.73 2237.17 2415.49 2237.17 Q2412.39 2237.17 2410.57 2235.36 Q2408.77 2233.56 2408.77 2230.48 Q2408.77 2227.3 2410.48 2225.43 Q2412.2 2223.56 2415.12 2223.56 Q2417.73 2223.56 2419.25 2225.25 Q2420.78 2226.93 2420.78 2229.82 M2418.65 2229.2 Q2418.63 2227.45 2417.67 2226.41 Q2416.72 2225.36 2415.14 2225.36 Q2413.36 2225.36 2412.28 2226.37 Q2411.22 2227.38 2411.06 2229.21 L2418.65 2229.2 Z\" fill=\"#000000\" fill-rule=\"nonzero\" fill-opacity=\"1\" /><path clip-path=\"url(#clip830)\" d=\"M2426.38 2220.19 L2426.38 2223.87 L2430.77 2223.87 L2430.77 2225.53 L2426.38 2225.53 L2426.38 2232.56 Q2426.38 2234.15 2426.81 2234.6 Q2427.25 2235.05 2428.58 2235.05 L2430.77 2235.05 L2430.77 2236.83 L2428.58 2236.83 Q2426.11 2236.83 2425.18 2235.92 Q2424.24 2234.99 2424.24 2232.56 L2424.24 2225.53 L2422.68 2225.53 L2422.68 2223.87 L2424.24 2223.87 L2424.24 2220.19 L2426.38 2220.19 Z\" fill=\"#000000\" fill-rule=\"nonzero\" fill-opacity=\"1\" /><path clip-path=\"url(#clip830)\" d=\"M2433.66 2219.55 L2436 2219.55 L2436 2236.83 L2433.66 2236.83 L2433.66 2219.55 Z\" fill=\"#000000\" fill-rule=\"nonzero\" fill-opacity=\"1\" /><path clip-path=\"url(#clip830)\" d=\"M2451.33 2229.01 L2451.33 2236.83 L2449.2 2236.83 L2449.2 2229.08 Q2449.2 2227.24 2448.49 2226.32 Q2447.77 2225.41 2446.33 2225.41 Q2444.61 2225.41 2443.61 2226.51 Q2442.62 2227.61 2442.62 2229.51 L2442.62 2236.83 L2440.48 2236.83 L2440.48 2223.87 L2442.62 2223.87 L2442.62 2225.88 Q2443.38 2224.72 2444.41 2224.14 Q2445.45 2223.56 2446.81 2223.56 Q2449.04 2223.56 2450.19 2224.95 Q2451.33 2226.32 2451.33 2229.01 Z\" fill=\"#000000\" fill-rule=\"nonzero\" fill-opacity=\"1\" /><path clip-path=\"url(#clip830)\" d=\"M2457.69 2220.19 L2457.69 2223.87 L2462.07 2223.87 L2462.07 2225.53 L2457.69 2225.53 L2457.69 2232.56 Q2457.69 2234.15 2458.12 2234.6 Q2458.56 2235.05 2459.89 2235.05 L2462.07 2235.05 L2462.07 2236.83 L2459.89 2236.83 Q2457.42 2236.83 2456.48 2235.92 Q2455.55 2234.99 2455.55 2232.56 L2455.55 2225.53 L2453.98 2225.53 L2453.98 2223.87 L2455.55 2223.87 L2455.55 2220.19 L2457.69 2220.19 Z\" fill=\"#000000\" fill-rule=\"nonzero\" fill-opacity=\"1\" /><path clip-path=\"url(#clip830)\" d=\"M2475.96 2229.82 L2475.96 2230.86 L2466.17 2230.86 Q2466.31 2233.06 2467.49 2234.22 Q2468.68 2235.36 2470.8 2235.36 Q2472.03 2235.36 2473.17 2235.06 Q2474.33 2234.76 2475.47 2234.16 L2475.47 2236.17 Q2474.32 2236.66 2473.12 2236.91 Q2471.91 2237.17 2470.67 2237.17 Q2467.57 2237.17 2465.76 2235.36 Q2463.95 2233.56 2463.95 2230.48 Q2463.95 2227.3 2465.66 2225.43 Q2467.39 2223.56 2470.3 2223.56 Q2472.92 2223.56 2474.44 2225.25 Q2475.96 2226.93 2475.96 2229.82 M2473.83 2229.2 Q2473.81 2227.45 2472.85 2226.41 Q2471.9 2225.36 2470.33 2225.36 Q2468.54 2225.36 2467.47 2226.37 Q2466.4 2227.38 2466.24 2229.21 L2473.83 2229.2 Z\" fill=\"#000000\" fill-rule=\"nonzero\" fill-opacity=\"1\" /><path clip-path=\"url(#clip830)\" d=\"M2487.99 2230.2 Q2487.99 2227.89 2487.03 2226.61 Q2486.08 2225.34 2484.35 2225.34 Q2482.64 2225.34 2481.68 2226.61 Q2480.73 2227.89 2480.73 2230.2 Q2480.73 2232.51 2481.68 2233.78 Q2482.64 2235.05 2484.35 2235.05 Q2486.08 2235.05 2487.03 2233.78 Q2487.99 2232.51 2487.99 2230.2 M2490.12 2235.23 Q2490.12 2238.54 2488.65 2240.14 Q2487.18 2241.76 2484.15 2241.76 Q2483.02 2241.76 2482.03 2241.59 Q2481.03 2241.43 2480.1 2241.08 L2480.1 2239.01 Q2481.03 2239.52 2481.95 2239.76 Q2482.86 2240.01 2483.81 2240.01 Q2485.91 2240.01 2486.95 2238.91 Q2487.99 2237.82 2487.99 2235.61 L2487.99 2234.55 Q2487.33 2235.7 2486.3 2236.27 Q2485.27 2236.83 2483.83 2236.83 Q2481.45 2236.83 2479.99 2235.02 Q2478.53 2233.2 2478.53 2230.2 Q2478.53 2227.19 2479.99 2225.38 Q2481.45 2223.56 2483.83 2223.56 Q2485.27 2223.56 2486.3 2224.13 Q2487.33 2224.69 2487.99 2225.84 L2487.99 2223.87 L2490.12 2223.87 L2490.12 2235.23 Z\" fill=\"#000000\" fill-rule=\"nonzero\" fill-opacity=\"1\" /><path clip-path=\"url(#clip830)\" d=\"M2505.59 2229.82 L2505.59 2230.86 L2495.8 2230.86 Q2495.94 2233.06 2497.12 2234.22 Q2498.31 2235.36 2500.43 2235.36 Q2501.66 2235.36 2502.8 2235.06 Q2503.96 2234.76 2505.1 2234.16 L2505.1 2236.17 Q2503.95 2236.66 2502.75 2236.91 Q2501.54 2237.17 2500.3 2237.17 Q2497.2 2237.17 2495.39 2235.36 Q2493.58 2233.56 2493.58 2230.48 Q2493.58 2227.3 2495.29 2225.43 Q2497.02 2223.56 2499.93 2223.56 Q2502.55 2223.56 2504.07 2225.25 Q2505.59 2226.93 2505.59 2229.82 M2503.46 2229.2 Q2503.44 2227.45 2502.48 2226.41 Q2501.53 2225.36 2499.96 2225.36 Q2498.17 2225.36 2497.1 2226.37 Q2496.03 2227.38 2495.87 2229.21 L2503.46 2229.2 Z\" fill=\"#000000\" fill-rule=\"nonzero\" fill-opacity=\"1\" /><path clip-path=\"url(#clip830)\" d=\"M2516.6 2225.86 Q2516.24 2225.65 2515.81 2225.56 Q2515.4 2225.46 2514.89 2225.46 Q2513.08 2225.46 2512.11 2226.64 Q2511.15 2227.81 2511.15 2230.01 L2511.15 2236.83 L2509.01 2236.83 L2509.01 2223.87 L2511.15 2223.87 L2511.15 2225.88 Q2511.82 2224.7 2512.9 2224.14 Q2513.97 2223.56 2515.51 2223.56 Q2515.73 2223.56 2516 2223.59 Q2516.26 2223.62 2516.59 2223.67 L2516.6 2225.86 Z\" fill=\"#000000\" fill-rule=\"nonzero\" fill-opacity=\"1\" /><path clip-path=\"url(#clip830)\" d=\"M1820.54 2241.33 L1820.54 2243.61 Q1819.21 2242.97 1818.03 2242.66 Q1816.85 2242.35 1815.75 2242.35 Q1813.84 2242.35 1812.8 2243.09 Q1811.77 2243.83 1811.77 2245.2 Q1811.77 2246.34 1812.45 2246.93 Q1813.14 2247.51 1815.07 2247.87 L1816.48 2248.16 Q1819.09 2248.66 1820.33 2249.92 Q1821.58 2251.17 1821.58 2253.27 Q1821.58 2255.79 1819.89 2257.08 Q1818.21 2258.38 1814.96 2258.38 Q1813.73 2258.38 1812.35 2258.1 Q1810.97 2257.82 1809.49 2257.28 L1809.49 2254.87 Q1810.91 2255.67 1812.28 2256.08 Q1813.64 2256.48 1814.96 2256.48 Q1816.96 2256.48 1818.05 2255.69 Q1819.14 2254.91 1819.14 2253.45 Q1819.14 2252.17 1818.35 2251.46 Q1817.58 2250.74 1815.79 2250.38 L1814.37 2250.1 Q1811.76 2249.58 1810.59 2248.47 Q1809.42 2247.36 1809.42 2245.38 Q1809.42 2243.09 1811.03 2241.77 Q1812.65 2240.45 1815.48 2240.45 Q1816.7 2240.45 1817.96 2240.67 Q1819.22 2240.89 1820.54 2241.33 Z\" fill=\"#000000\" fill-rule=\"nonzero\" fill-opacity=\"1\" /><path clip-path=\"url(#clip830)\" d=\"M1825.13 2245.08 L1827.26 2245.08 L1827.26 2258.04 L1825.13 2258.04 L1825.13 2245.08 M1825.13 2240.03 L1827.26 2240.03 L1827.26 2242.73 L1825.13 2242.73 L1825.13 2240.03 Z\" fill=\"#000000\" fill-rule=\"nonzero\" fill-opacity=\"1\" /><path clip-path=\"url(#clip830)\" d=\"M1840.25 2251.41 Q1840.25 2249.1 1839.29 2247.82 Q1838.34 2246.55 1836.62 2246.55 Q1834.9 2246.55 1833.94 2247.82 Q1832.99 2249.1 1832.99 2251.41 Q1832.99 2253.71 1833.94 2254.99 Q1834.9 2256.26 1836.62 2256.26 Q1838.34 2256.26 1839.29 2254.99 Q1840.25 2253.71 1840.25 2251.41 M1842.38 2256.43 Q1842.38 2259.74 1840.91 2261.35 Q1839.44 2262.97 1836.41 2262.97 Q1835.29 2262.97 1834.29 2262.8 Q1833.29 2262.64 1832.36 2262.29 L1832.36 2260.22 Q1833.29 2260.73 1834.21 2260.97 Q1835.12 2261.21 1836.07 2261.21 Q1838.17 2261.21 1839.21 2260.11 Q1840.25 2259.03 1840.25 2256.82 L1840.25 2255.76 Q1839.59 2256.91 1838.56 2257.48 Q1837.53 2258.04 1836.1 2258.04 Q1833.71 2258.04 1832.25 2256.23 Q1830.79 2254.41 1830.79 2251.41 Q1830.79 2248.4 1832.25 2246.58 Q1833.71 2244.77 1836.1 2244.77 Q1837.53 2244.77 1838.56 2245.33 Q1839.59 2245.9 1840.25 2247.05 L1840.25 2245.08 L1842.38 2245.08 L1842.38 2256.43 Z\" fill=\"#000000\" fill-rule=\"nonzero\" fill-opacity=\"1\" /><path clip-path=\"url(#clip830)\" d=\"M1857.54 2250.22 L1857.54 2258.04 L1855.41 2258.04 L1855.41 2250.29 Q1855.41 2248.45 1854.69 2247.53 Q1853.98 2246.62 1852.54 2246.62 Q1850.82 2246.62 1849.82 2247.72 Q1848.83 2248.82 1848.83 2250.72 L1848.83 2258.04 L1846.69 2258.04 L1846.69 2245.08 L1848.83 2245.08 L1848.83 2247.09 Q1849.59 2245.92 1850.62 2245.35 Q1851.66 2244.77 1853.02 2244.77 Q1855.25 2244.77 1856.4 2246.16 Q1857.54 2247.53 1857.54 2250.22 Z\" fill=\"#000000\" fill-rule=\"nonzero\" fill-opacity=\"1\" /><path clip-path=\"url(#clip830)\" d=\"M1872.88 2251.03 L1872.88 2252.07 L1863.09 2252.07 Q1863.22 2254.27 1864.41 2255.43 Q1865.6 2256.57 1867.72 2256.57 Q1868.94 2256.57 1870.09 2256.27 Q1871.25 2255.97 1872.38 2255.37 L1872.38 2257.38 Q1871.23 2257.87 1870.03 2258.12 Q1868.83 2258.38 1867.59 2258.38 Q1864.49 2258.38 1862.67 2256.57 Q1860.86 2254.77 1860.86 2251.69 Q1860.86 2248.51 1862.58 2246.64 Q1864.3 2244.77 1867.22 2244.77 Q1869.83 2244.77 1871.35 2246.46 Q1872.88 2248.14 1872.88 2251.03 M1870.75 2250.4 Q1870.72 2248.66 1869.76 2247.61 Q1868.82 2246.57 1867.24 2246.57 Q1865.46 2246.57 1864.38 2247.58 Q1863.32 2248.59 1863.16 2250.42 L1870.75 2250.4 Z\" fill=\"#000000\" fill-rule=\"nonzero\" fill-opacity=\"1\" /><path clip-path=\"url(#clip830)\" d=\"M1884.9 2247.05 L1884.9 2240.03 L1887.03 2240.03 L1887.03 2258.04 L1884.9 2258.04 L1884.9 2256.1 Q1884.23 2257.26 1883.2 2257.82 Q1882.18 2258.38 1880.75 2258.38 Q1878.4 2258.38 1876.92 2256.5 Q1875.45 2254.63 1875.45 2251.57 Q1875.45 2248.52 1876.92 2246.64 Q1878.4 2244.77 1880.75 2244.77 Q1882.18 2244.77 1883.2 2245.33 Q1884.23 2245.89 1884.9 2247.05 M1877.65 2251.57 Q1877.65 2253.92 1878.61 2255.26 Q1879.58 2256.6 1881.27 2256.6 Q1882.96 2256.6 1883.93 2255.26 Q1884.9 2253.92 1884.9 2251.57 Q1884.9 2249.22 1883.93 2247.89 Q1882.96 2246.55 1881.27 2246.55 Q1879.58 2246.55 1878.61 2247.89 Q1877.65 2249.22 1877.65 2251.57 Z\" fill=\"#000000\" fill-rule=\"nonzero\" fill-opacity=\"1\" /><path clip-path=\"url(#clip830)\" d=\"M2077.86 2656.5 L2077.86 2662.83 L2081.61 2662.83 Q2083.5 2662.83 2084.4 2662.05 Q2085.32 2661.27 2085.32 2659.66 Q2085.32 2658.04 2084.4 2657.27 Q2083.5 2656.5 2081.61 2656.5 L2077.86 2656.5 M2077.86 2649.39 L2077.86 2654.6 L2081.32 2654.6 Q2083.04 2654.6 2083.87 2653.96 Q2084.71 2653.32 2084.71 2652 Q2084.71 2650.69 2083.87 2650.04 Q2083.04 2649.39 2081.32 2649.39 L2077.86 2649.39 M2075.52 2647.47 L2081.5 2647.47 Q2084.17 2647.47 2085.62 2648.58 Q2087.06 2649.69 2087.06 2651.74 Q2087.06 2653.33 2086.32 2654.26 Q2085.58 2655.2 2084.15 2655.43 Q2085.87 2655.8 2086.82 2656.98 Q2087.78 2658.15 2087.78 2659.91 Q2087.78 2662.23 2086.21 2663.49 Q2084.63 2664.75 2081.73 2664.75 L2075.52 2664.75 L2075.52 2647.47 Z\" fill=\"#000000\" fill-rule=\"nonzero\" fill-opacity=\"1\" /><path clip-path=\"url(#clip830)\" d=\"M2091.69 2651.79 L2093.82 2651.79 L2093.82 2664.75 L2091.69 2664.75 L2091.69 2651.79 M2091.69 2646.74 L2093.82 2646.74 L2093.82 2649.44 L2091.69 2649.44 L2091.69 2646.74 Z\" fill=\"#000000\" fill-rule=\"nonzero\" fill-opacity=\"1\" /><path clip-path=\"url(#clip830)\" d=\"M2106.81 2658.12 Q2106.81 2655.8 2105.85 2654.53 Q2104.9 2653.26 2103.18 2653.26 Q2101.46 2653.26 2100.5 2654.53 Q2099.55 2655.8 2099.55 2658.12 Q2099.55 2660.42 2100.5 2661.7 Q2101.46 2662.97 2103.18 2662.97 Q2104.9 2662.97 2105.85 2661.7 Q2106.81 2660.42 2106.81 2658.12 M2108.94 2663.14 Q2108.94 2666.45 2107.47 2668.06 Q2106 2669.68 2102.97 2669.68 Q2101.84 2669.68 2100.85 2669.51 Q2099.85 2669.35 2098.92 2669 L2098.92 2666.93 Q2099.85 2667.44 2100.77 2667.68 Q2101.68 2667.92 2102.63 2667.92 Q2104.73 2667.92 2105.77 2666.82 Q2106.81 2665.73 2106.81 2663.52 L2106.81 2662.47 Q2106.15 2663.62 2105.12 2664.18 Q2104.09 2664.75 2102.65 2664.75 Q2100.27 2664.75 2098.81 2662.93 Q2097.35 2661.12 2097.35 2658.12 Q2097.35 2655.11 2098.81 2653.29 Q2100.27 2651.48 2102.65 2651.48 Q2104.09 2651.48 2105.12 2652.04 Q2106.15 2652.61 2106.81 2653.76 L2106.81 2651.79 L2108.94 2651.79 L2108.94 2663.14 Z\" fill=\"#000000\" fill-rule=\"nonzero\" fill-opacity=\"1\" /><path clip-path=\"url(#clip830)\" d=\"M2113.42 2647.47 L2115.76 2647.47 L2115.76 2664.75 L2113.42 2664.75 L2113.42 2647.47 Z\" fill=\"#000000\" fill-rule=\"nonzero\" fill-opacity=\"1\" /><path clip-path=\"url(#clip830)\" d=\"M2131.09 2656.93 L2131.09 2664.75 L2128.96 2664.75 L2128.96 2657 Q2128.96 2655.16 2128.24 2654.24 Q2127.53 2653.33 2126.09 2653.33 Q2124.37 2653.33 2123.37 2654.43 Q2122.38 2655.53 2122.38 2657.42 L2122.38 2664.75 L2120.24 2664.75 L2120.24 2651.79 L2122.38 2651.79 L2122.38 2653.8 Q2123.14 2652.63 2124.17 2652.05 Q2125.21 2651.48 2126.57 2651.48 Q2128.8 2651.48 2129.95 2652.86 Q2131.09 2654.24 2131.09 2656.93 Z\" fill=\"#000000\" fill-rule=\"nonzero\" fill-opacity=\"1\" /><path clip-path=\"url(#clip830)\" d=\"M2137.45 2648.11 L2137.45 2651.79 L2141.83 2651.79 L2141.83 2653.44 L2137.45 2653.44 L2137.45 2660.48 Q2137.45 2662.07 2137.87 2662.52 Q2138.31 2662.97 2139.65 2662.97 L2141.83 2662.97 L2141.83 2664.75 L2139.65 2664.75 Q2137.18 2664.75 2136.24 2663.84 Q2135.3 2662.91 2135.3 2660.48 L2135.3 2653.44 L2133.74 2653.44 L2133.74 2651.79 L2135.3 2651.79 L2135.3 2648.11 L2137.45 2648.11 Z\" fill=\"#000000\" fill-rule=\"nonzero\" fill-opacity=\"1\" /><path clip-path=\"url(#clip830)\" d=\"M1877.25 2626.61 L1879.59 2626.61 L1879.59 2643.89 L1877.25 2643.89 L1877.25 2626.61 Z\" fill=\"#000000\" fill-rule=\"nonzero\" fill-opacity=\"1\" /><path clip-path=\"url(#clip830)\" d=\"M1894.92 2636.07 L1894.92 2643.89 L1892.79 2643.89 L1892.79 2636.14 Q1892.79 2634.3 1892.08 2633.38 Q1891.36 2632.47 1889.92 2632.47 Q1888.2 2632.47 1887.2 2633.57 Q1886.21 2634.67 1886.21 2636.56 L1886.21 2643.89 L1884.07 2643.89 L1884.07 2630.93 L1886.21 2630.93 L1886.21 2632.94 Q1886.97 2631.77 1888 2631.19 Q1889.04 2630.62 1890.4 2630.62 Q1892.63 2630.62 1893.78 2632 Q1894.92 2633.38 1894.92 2636.07 Z\" fill=\"#000000\" fill-rule=\"nonzero\" fill-opacity=\"1\" /><path clip-path=\"url(#clip830)\" d=\"M1901.28 2627.25 L1901.28 2630.93 L1905.67 2630.93 L1905.67 2632.58 L1901.28 2632.58 L1901.28 2639.62 Q1901.28 2641.21 1901.71 2641.66 Q1902.15 2642.11 1903.48 2642.11 L1905.67 2642.11 L1905.67 2643.89 L1903.48 2643.89 Q1901.01 2643.89 1900.07 2642.98 Q1899.14 2642.05 1899.14 2639.62 L1899.14 2632.58 L1897.57 2632.58 L1897.57 2630.93 L1899.14 2630.93 L1899.14 2627.25 L1901.28 2627.25 Z\" fill=\"#000000\" fill-rule=\"nonzero\" fill-opacity=\"1\" /><path clip-path=\"url(#clip830)\" d=\"M1909.17 2641.92 L1912.99 2641.92 L1912.99 2628.74 L1908.84 2629.57 L1908.84 2627.44 L1912.97 2626.61 L1915.31 2626.61 L1915.31 2641.92 L1919.13 2641.92 L1919.13 2643.89 L1909.17 2643.89 L1909.17 2641.92 Z\" fill=\"#000000\" fill-rule=\"nonzero\" fill-opacity=\"1\" /><path clip-path=\"url(#clip830)\" d=\"M1925.86 2641.92 L1934.02 2641.92 L1934.02 2643.89 L1923.05 2643.89 L1923.05 2641.92 Q1924.38 2640.55 1926.67 2638.23 Q1928.98 2635.91 1929.57 2635.23 Q1930.69 2633.97 1931.13 2633.1 Q1931.58 2632.22 1931.58 2631.38 Q1931.58 2630 1930.61 2629.13 Q1929.65 2628.27 1928.1 2628.27 Q1927 2628.27 1925.77 2628.65 Q1924.55 2629.03 1923.17 2629.81 L1923.17 2627.44 Q1924.58 2626.88 1925.8 2626.59 Q1927.03 2626.3 1928.05 2626.3 Q1930.73 2626.3 1932.33 2627.64 Q1933.93 2628.98 1933.93 2631.23 Q1933.93 2632.29 1933.52 2633.25 Q1933.13 2634.2 1932.08 2635.5 Q1931.79 2635.84 1930.24 2637.44 Q1928.69 2639.04 1925.86 2641.92 Z\" fill=\"#000000\" fill-rule=\"nonzero\" fill-opacity=\"1\" /><path clip-path=\"url(#clip830)\" d=\"M1943.93 2635.69 Q1942.26 2635.69 1941.3 2636.58 Q1940.35 2637.47 1940.35 2639.03 Q1940.35 2640.59 1941.3 2641.48 Q1942.26 2642.38 1943.93 2642.38 Q1945.6 2642.38 1946.56 2641.48 Q1947.52 2640.58 1947.52 2639.03 Q1947.52 2637.47 1946.56 2636.58 Q1945.61 2635.69 1943.93 2635.69 M1941.59 2634.69 Q1940.09 2634.32 1939.24 2633.29 Q1938.41 2632.26 1938.41 2630.78 Q1938.41 2628.71 1939.88 2627.5 Q1941.36 2626.3 1943.93 2626.3 Q1946.51 2626.3 1947.98 2627.5 Q1949.45 2628.71 1949.45 2630.78 Q1949.45 2632.26 1948.6 2633.29 Q1947.77 2634.32 1946.28 2634.69 Q1947.97 2635.08 1948.91 2636.23 Q1949.85 2637.38 1949.85 2639.03 Q1949.85 2641.54 1948.32 2642.88 Q1946.79 2644.23 1943.93 2644.23 Q1941.07 2644.23 1939.53 2642.88 Q1938 2641.54 1938 2639.03 Q1938 2637.38 1938.95 2636.23 Q1939.9 2635.08 1941.59 2634.69 M1940.73 2631 Q1940.73 2632.34 1941.57 2633.09 Q1942.41 2633.84 1943.93 2633.84 Q1945.43 2633.84 1946.28 2633.09 Q1947.13 2632.34 1947.13 2631 Q1947.13 2629.66 1946.28 2628.9 Q1945.43 2628.15 1943.93 2628.15 Q1942.41 2628.15 1941.57 2628.9 Q1940.73 2629.66 1940.73 2631 Z\" fill=\"#000000\" fill-rule=\"nonzero\" fill-opacity=\"1\" /><path clip-path=\"url(#clip830)\" d=\"M1390.2 2553.69 L1392.54 2553.69 L1392.54 2570.97 L1390.2 2570.97 L1390.2 2553.69 Z\" fill=\"#000000\" fill-rule=\"nonzero\" fill-opacity=\"1\" /><path clip-path=\"url(#clip830)\" d=\"M1407.87 2563.15 L1407.87 2570.97 L1405.74 2570.97 L1405.74 2563.22 Q1405.74 2561.38 1405.02 2560.46 Q1404.31 2559.55 1402.87 2559.55 Q1401.15 2559.55 1400.15 2560.65 Q1399.16 2561.75 1399.16 2563.64 L1399.16 2570.97 L1397.01 2570.97 L1397.01 2558.01 L1399.16 2558.01 L1399.16 2560.02 Q1399.92 2558.85 1400.95 2558.27 Q1401.99 2557.7 1403.35 2557.7 Q1405.58 2557.7 1406.72 2559.08 Q1407.87 2560.46 1407.87 2563.15 Z\" fill=\"#000000\" fill-rule=\"nonzero\" fill-opacity=\"1\" /><path clip-path=\"url(#clip830)\" d=\"M1414.22 2554.33 L1414.22 2558.01 L1418.61 2558.01 L1418.61 2559.66 L1414.22 2559.66 L1414.22 2566.7 Q1414.22 2568.29 1414.65 2568.74 Q1415.09 2569.19 1416.42 2569.19 L1418.61 2569.19 L1418.61 2570.97 L1416.42 2570.97 Q1413.96 2570.97 1413.02 2570.06 Q1412.08 2569.13 1412.08 2566.7 L1412.08 2559.66 L1410.52 2559.66 L1410.52 2558.01 L1412.08 2558.01 L1412.08 2554.33 L1414.22 2554.33 Z\" fill=\"#000000\" fill-rule=\"nonzero\" fill-opacity=\"1\" /><path clip-path=\"url(#clip830)\" d=\"M1422.12 2569 L1425.94 2569 L1425.94 2555.82 L1421.78 2556.65 L1421.78 2554.52 L1425.91 2553.69 L1428.25 2553.69 L1428.25 2569 L1432.07 2569 L1432.07 2570.97 L1422.12 2570.97 L1422.12 2569 Z\" fill=\"#000000\" fill-rule=\"nonzero\" fill-opacity=\"1\" /><path clip-path=\"url(#clip830)\" d=\"M1442.08 2561.4 Q1440.51 2561.4 1439.58 2562.48 Q1438.67 2563.55 1438.67 2565.43 Q1438.67 2567.29 1439.58 2568.38 Q1440.51 2569.46 1442.08 2569.46 Q1443.66 2569.46 1444.57 2568.38 Q1445.5 2567.29 1445.5 2565.43 Q1445.5 2563.55 1444.57 2562.48 Q1443.66 2561.4 1442.08 2561.4 M1446.72 2554.07 L1446.72 2556.2 Q1445.85 2555.79 1444.94 2555.57 Q1444.05 2555.35 1443.17 2555.35 Q1440.86 2555.35 1439.63 2556.91 Q1438.41 2558.47 1438.24 2561.63 Q1438.92 2560.62 1439.95 2560.09 Q1440.98 2559.55 1442.22 2559.55 Q1444.83 2559.55 1446.33 2561.13 Q1447.85 2562.71 1447.85 2565.43 Q1447.85 2568.09 1446.27 2569.7 Q1444.7 2571.31 1442.08 2571.31 Q1439.09 2571.31 1437.5 2569.02 Q1435.91 2566.71 1435.91 2562.35 Q1435.91 2558.25 1437.86 2555.82 Q1439.8 2553.38 1443.08 2553.38 Q1443.96 2553.38 1444.85 2553.55 Q1445.75 2553.73 1446.72 2554.07 Z\" fill=\"#000000\" fill-rule=\"nonzero\" fill-opacity=\"1\" /><path clip-path=\"url(#clip830)\" d=\"M1262.5 2540.6 L1264.84 2540.6 L1264.84 2557.88 L1262.5 2557.88 L1262.5 2540.6 Z\" fill=\"#000000\" fill-rule=\"nonzero\" fill-opacity=\"1\" /><path clip-path=\"url(#clip830)\" d=\"M1280.18 2550.06 L1280.18 2557.88 L1278.05 2557.88 L1278.05 2550.13 Q1278.05 2548.29 1277.33 2547.37 Q1276.61 2546.46 1275.18 2546.46 Q1273.45 2546.46 1272.46 2547.56 Q1271.46 2548.66 1271.46 2550.55 L1271.46 2557.88 L1269.32 2557.88 L1269.32 2544.92 L1271.46 2544.92 L1271.46 2546.93 Q1272.23 2545.76 1273.26 2545.18 Q1274.3 2544.61 1275.65 2544.61 Q1277.89 2544.61 1279.03 2545.99 Q1280.18 2547.37 1280.18 2550.06 Z\" fill=\"#000000\" fill-rule=\"nonzero\" fill-opacity=\"1\" /><path clip-path=\"url(#clip830)\" d=\"M1286.53 2541.24 L1286.53 2544.92 L1290.92 2544.92 L1290.92 2546.57 L1286.53 2546.57 L1286.53 2553.61 Q1286.53 2555.2 1286.96 2555.65 Q1287.4 2556.1 1288.73 2556.1 L1290.92 2556.1 L1290.92 2557.88 L1288.73 2557.88 Q1286.26 2557.88 1285.33 2556.97 Q1284.39 2556.04 1284.39 2553.61 L1284.39 2546.57 L1282.83 2546.57 L1282.83 2544.92 L1284.39 2544.92 L1284.39 2541.24 L1286.53 2541.24 Z\" fill=\"#000000\" fill-rule=\"nonzero\" fill-opacity=\"1\" /><path clip-path=\"url(#clip830)\" d=\"M1301.1 2548.56 Q1302.78 2548.92 1303.72 2550.06 Q1304.67 2551.19 1304.67 2552.86 Q1304.67 2555.42 1302.91 2556.82 Q1301.15 2558.22 1297.91 2558.22 Q1296.82 2558.22 1295.66 2558 Q1294.52 2557.79 1293.29 2557.36 L1293.29 2555.1 Q1294.26 2555.67 1295.42 2555.96 Q1296.58 2556.25 1297.84 2556.25 Q1300.04 2556.25 1301.18 2555.38 Q1302.34 2554.51 1302.34 2552.86 Q1302.34 2551.33 1301.26 2550.47 Q1300.2 2549.61 1298.29 2549.61 L1296.28 2549.61 L1296.28 2547.68 L1298.38 2547.68 Q1300.11 2547.68 1301.02 2547 Q1301.94 2546.31 1301.94 2545.01 Q1301.94 2543.68 1300.99 2542.97 Q1300.05 2542.26 1298.29 2542.26 Q1297.33 2542.26 1296.23 2542.46 Q1295.13 2542.67 1293.81 2543.11 L1293.81 2541.03 Q1295.14 2540.66 1296.3 2540.47 Q1297.47 2540.29 1298.5 2540.29 Q1301.16 2540.29 1302.71 2541.5 Q1304.26 2542.71 1304.26 2544.77 Q1304.26 2546.2 1303.44 2547.2 Q1302.62 2548.18 1301.1 2548.56 Z\" fill=\"#000000\" fill-rule=\"nonzero\" fill-opacity=\"1\" /><path clip-path=\"url(#clip830)\" d=\"M1311.11 2555.91 L1319.27 2555.91 L1319.27 2557.88 L1308.3 2557.88 L1308.3 2555.91 Q1309.63 2554.54 1311.92 2552.22 Q1314.23 2549.89 1314.82 2549.22 Q1315.94 2547.96 1316.38 2547.09 Q1316.83 2546.21 1316.83 2545.37 Q1316.83 2543.99 1315.86 2543.12 Q1314.9 2542.26 1313.35 2542.26 Q1312.25 2542.26 1311.02 2542.64 Q1309.81 2543.02 1308.42 2543.8 L1308.42 2541.43 Q1309.83 2540.87 1311.06 2540.58 Q1312.28 2540.29 1313.3 2540.29 Q1315.99 2540.29 1317.58 2541.63 Q1319.18 2542.97 1319.18 2545.22 Q1319.18 2546.28 1318.78 2547.24 Q1318.38 2548.19 1317.33 2549.49 Q1317.04 2549.83 1315.49 2551.43 Q1313.94 2553.03 1311.11 2555.91 Z\" fill=\"#000000\" fill-rule=\"nonzero\" fill-opacity=\"1\" /><path clip-path=\"url(#clip830)\" d=\"M1528.63 2581.37 L1530.97 2581.37 L1530.97 2598.65 L1528.63 2598.65 L1528.63 2581.37 Z\" fill=\"#000000\" fill-rule=\"nonzero\" fill-opacity=\"1\" /><path clip-path=\"url(#clip830)\" d=\"M1546.3 2590.82 L1546.3 2598.65 L1544.17 2598.65 L1544.17 2590.89 Q1544.17 2589.05 1543.45 2588.14 Q1542.74 2587.22 1541.3 2587.22 Q1539.58 2587.22 1538.58 2588.32 Q1537.59 2589.42 1537.59 2591.32 L1537.59 2598.65 L1535.44 2598.65 L1535.44 2585.68 L1537.59 2585.68 L1537.59 2587.7 Q1538.35 2586.53 1539.38 2585.95 Q1540.42 2585.37 1541.78 2585.37 Q1544.01 2585.37 1545.16 2586.76 Q1546.3 2588.14 1546.3 2590.82 Z\" fill=\"#000000\" fill-rule=\"nonzero\" fill-opacity=\"1\" /><path clip-path=\"url(#clip830)\" d=\"M1552.66 2582 L1552.66 2585.68 L1557.04 2585.68 L1557.04 2587.34 L1552.66 2587.34 L1552.66 2594.38 Q1552.66 2595.96 1553.08 2596.41 Q1553.52 2596.86 1554.85 2596.86 L1557.04 2596.86 L1557.04 2598.65 L1554.85 2598.65 Q1552.39 2598.65 1551.45 2597.73 Q1550.51 2596.81 1550.51 2594.38 L1550.51 2587.34 L1548.95 2587.34 L1548.95 2585.68 L1550.51 2585.68 L1550.51 2582 L1552.66 2582 Z\" fill=\"#000000\" fill-rule=\"nonzero\" fill-opacity=\"1\" /><path clip-path=\"url(#clip830)\" d=\"M1565.43 2589.07 Q1563.86 2589.07 1562.93 2590.15 Q1562.02 2591.23 1562.02 2593.1 Q1562.02 2594.97 1562.93 2596.05 Q1563.86 2597.13 1565.43 2597.13 Q1567.01 2597.13 1567.92 2596.05 Q1568.85 2594.97 1568.85 2593.1 Q1568.85 2591.23 1567.92 2590.15 Q1567.01 2589.07 1565.43 2589.07 M1570.07 2581.75 L1570.07 2583.88 Q1569.19 2583.46 1568.29 2583.24 Q1567.4 2583.02 1566.52 2583.02 Q1564.21 2583.02 1562.98 2584.58 Q1561.76 2586.15 1561.59 2589.31 Q1562.27 2588.3 1563.3 2587.77 Q1564.33 2587.22 1565.57 2587.22 Q1568.18 2587.22 1569.68 2588.81 Q1571.2 2590.38 1571.2 2593.1 Q1571.2 2595.76 1569.62 2597.37 Q1568.05 2598.98 1565.43 2598.98 Q1562.44 2598.98 1560.85 2596.69 Q1559.26 2594.39 1559.26 2590.02 Q1559.26 2585.93 1561.21 2583.5 Q1563.15 2581.05 1566.43 2581.05 Q1567.31 2581.05 1568.2 2581.23 Q1569.1 2581.4 1570.07 2581.75 Z\" fill=\"#000000\" fill-rule=\"nonzero\" fill-opacity=\"1\" /><path clip-path=\"url(#clip830)\" d=\"M1581.65 2583.4 L1575.75 2592.63 L1581.65 2592.63 L1581.65 2583.4 M1581.03 2581.37 L1583.97 2581.37 L1583.97 2592.63 L1586.44 2592.63 L1586.44 2594.57 L1583.97 2594.57 L1583.97 2598.65 L1581.65 2598.65 L1581.65 2594.57 L1573.85 2594.57 L1573.85 2592.32 L1581.03 2581.37 Z\" fill=\"#000000\" fill-rule=\"nonzero\" fill-opacity=\"1\" /><path clip-path=\"url(#clip830)\" d=\"M1698.98 2614.87 L1701.32 2614.87 L1701.32 2632.15 L1698.98 2632.15 L1698.98 2614.87 Z\" fill=\"#000000\" fill-rule=\"nonzero\" fill-opacity=\"1\" /><path clip-path=\"url(#clip830)\" d=\"M1716.65 2624.33 L1716.65 2632.15 L1714.52 2632.15 L1714.52 2624.4 Q1714.52 2622.56 1713.8 2621.64 Q1713.09 2620.73 1711.65 2620.73 Q1709.93 2620.73 1708.93 2621.83 Q1707.94 2622.93 1707.94 2624.82 L1707.94 2632.15 L1705.8 2632.15 L1705.8 2619.19 L1707.94 2619.19 L1707.94 2621.2 Q1708.7 2620.03 1709.73 2619.45 Q1710.77 2618.88 1712.13 2618.88 Q1714.36 2618.88 1715.51 2620.26 Q1716.65 2621.64 1716.65 2624.33 Z\" fill=\"#000000\" fill-rule=\"nonzero\" fill-opacity=\"1\" /><path clip-path=\"url(#clip830)\" d=\"M1723.01 2615.51 L1723.01 2619.19 L1727.39 2619.19 L1727.39 2620.84 L1723.01 2620.84 L1723.01 2627.88 Q1723.01 2629.47 1723.43 2629.92 Q1723.87 2630.37 1725.2 2630.37 L1727.39 2630.37 L1727.39 2632.15 L1725.2 2632.15 Q1722.74 2632.15 1721.8 2631.24 Q1720.86 2630.31 1720.86 2627.88 L1720.86 2620.84 L1719.3 2620.84 L1719.3 2619.19 L1720.86 2619.19 L1720.86 2615.51 L1723.01 2615.51 Z\" fill=\"#000000\" fill-rule=\"nonzero\" fill-opacity=\"1\" /><path clip-path=\"url(#clip830)\" d=\"M1735.49 2623.95 Q1733.83 2623.95 1732.87 2624.84 Q1731.92 2625.73 1731.92 2627.29 Q1731.92 2628.85 1732.87 2629.74 Q1733.83 2630.64 1735.49 2630.64 Q1737.16 2630.64 1738.12 2629.74 Q1739.08 2628.84 1739.08 2627.29 Q1739.08 2625.73 1738.12 2624.84 Q1737.17 2623.95 1735.49 2623.95 M1733.16 2622.95 Q1731.65 2622.58 1730.81 2621.55 Q1729.97 2620.52 1729.97 2619.04 Q1729.97 2616.97 1731.44 2615.76 Q1732.92 2614.56 1735.49 2614.56 Q1738.07 2614.56 1739.54 2615.76 Q1741.01 2616.97 1741.01 2619.04 Q1741.01 2620.52 1740.17 2621.55 Q1739.34 2622.58 1737.84 2622.95 Q1739.53 2623.34 1740.47 2624.49 Q1741.42 2625.64 1741.42 2627.29 Q1741.42 2629.8 1739.88 2631.14 Q1738.35 2632.49 1735.49 2632.49 Q1732.64 2632.49 1731.1 2631.14 Q1729.57 2629.8 1729.57 2627.29 Q1729.57 2625.64 1730.52 2624.49 Q1731.47 2623.34 1733.16 2622.95 M1732.3 2619.26 Q1732.3 2620.6 1733.13 2621.35 Q1733.98 2622.11 1735.49 2622.11 Q1737 2622.11 1737.84 2621.35 Q1738.7 2620.6 1738.7 2619.26 Q1738.7 2617.92 1737.84 2617.16 Q1737 2616.41 1735.49 2616.41 Q1733.98 2616.41 1733.13 2617.16 Q1732.3 2617.92 1732.3 2619.26 Z\" fill=\"#000000\" fill-rule=\"nonzero\" fill-opacity=\"1\" /><path clip-path=\"url(#clip830)\" d=\"M2955.34 2113.91 L2957.69 2113.91 L2957.69 2124.41 Q2957.69 2127.19 2958.7 2128.42 Q2959.71 2129.63 2961.96 2129.63 Q2964.21 2129.63 2965.22 2128.42 Q2966.22 2127.19 2966.22 2124.41 L2966.22 2113.91 L2968.57 2113.91 L2968.57 2124.7 Q2968.57 2128.08 2966.9 2129.8 Q2965.23 2131.53 2961.96 2131.53 Q2958.69 2131.53 2957.01 2129.8 Q2955.34 2128.08 2955.34 2124.7 L2955.34 2113.91 Z\" fill=\"#000000\" fill-rule=\"nonzero\" fill-opacity=\"1\" /><path clip-path=\"url(#clip830)\" d=\"M2983.64 2123.37 L2983.64 2131.19 L2981.51 2131.19 L2981.51 2123.44 Q2981.51 2121.6 2980.8 2120.68 Q2980.08 2119.77 2978.64 2119.77 Q2976.92 2119.77 2975.92 2120.87 Q2974.93 2121.97 2974.93 2123.87 L2974.93 2131.19 L2972.79 2131.19 L2972.79 2118.23 L2974.93 2118.23 L2974.93 2120.24 Q2975.69 2119.08 2976.72 2118.5 Q2977.76 2117.92 2979.12 2117.92 Q2981.35 2117.92 2982.5 2119.31 Q2983.64 2120.68 2983.64 2123.37 Z\" fill=\"#000000\" fill-rule=\"nonzero\" fill-opacity=\"1\" /><path clip-path=\"url(#clip830)\" d=\"M2996.15 2118.61 L2996.15 2120.63 Q2995.25 2120.16 2994.28 2119.93 Q2993.31 2119.7 2992.27 2119.7 Q2990.68 2119.7 2989.88 2120.19 Q2989.09 2120.67 2989.09 2121.64 Q2989.09 2122.39 2989.66 2122.81 Q2990.23 2123.23 2991.94 2123.61 L2992.67 2123.77 Q2994.94 2124.26 2995.89 2125.15 Q2996.85 2126.03 2996.85 2127.62 Q2996.85 2129.42 2995.41 2130.48 Q2993.99 2131.53 2991.49 2131.53 Q2990.45 2131.53 2989.31 2131.32 Q2988.19 2131.12 2986.94 2130.72 L2986.94 2128.52 Q2988.12 2129.13 2989.27 2129.45 Q2990.41 2129.75 2991.54 2129.75 Q2993.04 2129.75 2993.85 2129.24 Q2994.66 2128.72 2994.66 2127.78 Q2994.66 2126.91 2994.07 2126.45 Q2993.49 2125.99 2991.51 2125.56 L2990.77 2125.38 Q2988.79 2124.97 2987.91 2124.11 Q2987.03 2123.24 2987.03 2121.74 Q2987.03 2119.91 2988.33 2118.91 Q2989.63 2117.92 2992.01 2117.92 Q2993.19 2117.92 2994.23 2118.09 Q2995.27 2118.27 2996.15 2118.61 Z\" fill=\"#000000\" fill-rule=\"nonzero\" fill-opacity=\"1\" /><path clip-path=\"url(#clip830)\" d=\"M3000.24 2118.23 L3002.37 2118.23 L3002.37 2131.19 L3000.24 2131.19 L3000.24 2118.23 M3000.24 2113.18 L3002.37 2113.18 L3002.37 2115.88 L3000.24 2115.88 L3000.24 2113.18 Z\" fill=\"#000000\" fill-rule=\"nonzero\" fill-opacity=\"1\" /><path clip-path=\"url(#clip830)\" d=\"M3015.36 2124.56 Q3015.36 2122.25 3014.4 2120.97 Q3013.45 2119.7 3011.72 2119.7 Q3010.01 2119.7 3009.05 2120.97 Q3008.1 2122.25 3008.1 2124.56 Q3008.1 2126.86 3009.05 2128.14 Q3010.01 2129.41 3011.72 2129.41 Q3013.45 2129.41 3014.4 2128.14 Q3015.36 2126.86 3015.36 2124.56 M3017.49 2129.58 Q3017.49 2132.89 3016.02 2134.5 Q3014.55 2136.12 3011.51 2136.12 Q3010.39 2136.12 3009.4 2135.95 Q3008.4 2135.79 3007.46 2135.44 L3007.46 2133.37 Q3008.4 2133.88 3009.31 2134.12 Q3010.23 2134.36 3011.18 2134.36 Q3013.27 2134.36 3014.31 2133.27 Q3015.36 2132.18 3015.36 2129.97 L3015.36 2128.91 Q3014.7 2130.06 3013.67 2130.63 Q3012.64 2131.19 3011.2 2131.19 Q3008.82 2131.19 3007.36 2129.38 Q3005.9 2127.56 3005.9 2124.56 Q3005.9 2121.55 3007.36 2119.74 Q3008.82 2117.92 3011.2 2117.92 Q3012.64 2117.92 3013.67 2118.49 Q3014.7 2119.05 3015.36 2120.2 L3015.36 2118.23 L3017.49 2118.23 L3017.49 2129.58 Z\" fill=\"#000000\" fill-rule=\"nonzero\" fill-opacity=\"1\" /><path clip-path=\"url(#clip830)\" d=\"M3032.65 2123.37 L3032.65 2131.19 L3030.52 2131.19 L3030.52 2123.44 Q3030.52 2121.6 3029.8 2120.68 Q3029.08 2119.77 3027.65 2119.77 Q3025.92 2119.77 3024.93 2120.87 Q3023.93 2121.97 3023.93 2123.87 L3023.93 2131.19 L3021.79 2131.19 L3021.79 2118.23 L3023.93 2118.23 L3023.93 2120.24 Q3024.7 2119.08 3025.73 2118.5 Q3026.77 2117.92 3028.12 2117.92 Q3030.36 2117.92 3031.5 2119.31 Q3032.65 2120.68 3032.65 2123.37 Z\" fill=\"#000000\" fill-rule=\"nonzero\" fill-opacity=\"1\" /><path clip-path=\"url(#clip830)\" d=\"M3047.98 2124.18 L3047.98 2125.22 L3038.19 2125.22 Q3038.33 2127.42 3039.51 2128.58 Q3040.7 2129.72 3042.82 2129.72 Q3044.05 2129.72 3045.19 2129.42 Q3046.35 2129.12 3047.49 2128.52 L3047.49 2130.53 Q3046.34 2131.02 3045.14 2131.27 Q3043.93 2131.53 3042.69 2131.53 Q3039.59 2131.53 3037.77 2129.72 Q3035.97 2127.92 3035.97 2124.84 Q3035.97 2121.66 3037.68 2119.79 Q3039.41 2117.92 3042.32 2117.92 Q3044.94 2117.92 3046.46 2119.61 Q3047.98 2121.29 3047.98 2124.18 M3045.85 2123.55 Q3045.83 2121.81 3044.87 2120.77 Q3043.92 2119.72 3042.35 2119.72 Q3040.56 2119.72 3039.49 2120.73 Q3038.42 2121.74 3038.26 2123.57 L3045.85 2123.55 Z\" fill=\"#000000\" fill-rule=\"nonzero\" fill-opacity=\"1\" /><path clip-path=\"url(#clip830)\" d=\"M3060.01 2120.2 L3060.01 2113.18 L3062.14 2113.18 L3062.14 2131.19 L3060.01 2131.19 L3060.01 2129.25 Q3059.34 2130.41 3058.31 2130.97 Q3057.29 2131.53 3055.85 2131.53 Q3053.5 2131.53 3052.02 2129.65 Q3050.55 2127.78 3050.55 2124.72 Q3050.55 2121.67 3052.02 2119.79 Q3053.5 2117.92 3055.85 2117.92 Q3057.29 2117.92 3058.31 2118.49 Q3059.34 2119.04 3060.01 2120.2 M3052.75 2124.72 Q3052.75 2127.07 3053.71 2128.42 Q3054.68 2129.75 3056.37 2129.75 Q3058.06 2129.75 3059.04 2128.42 Q3060.01 2127.07 3060.01 2124.72 Q3060.01 2122.37 3059.04 2121.04 Q3058.06 2119.7 3056.37 2119.7 Q3054.68 2119.7 3053.71 2121.04 Q3052.75 2122.37 3052.75 2124.72 Z\" fill=\"#000000\" fill-rule=\"nonzero\" fill-opacity=\"1\" /><path clip-path=\"url(#clip830)\" d=\"M3306.17 2541.95 L3308.52 2541.95 L3308.52 2552.45 Q3308.52 2555.22 3309.53 2556.45 Q3310.53 2557.67 3312.79 2557.67 Q3315.04 2557.67 3316.04 2556.45 Q3317.05 2555.22 3317.05 2552.45 L3317.05 2541.95 L3319.4 2541.95 L3319.4 2552.74 Q3319.4 2556.12 3317.72 2557.84 Q3316.05 2559.56 3312.79 2559.56 Q3309.51 2559.56 3307.84 2557.84 Q3306.17 2556.12 3306.17 2552.74 L3306.17 2541.95 Z\" fill=\"#000000\" fill-rule=\"nonzero\" fill-opacity=\"1\" /><path clip-path=\"url(#clip830)\" d=\"M3323.79 2541.95 L3326.12 2541.95 L3326.12 2559.23 L3323.79 2559.23 L3323.79 2541.95 Z\" fill=\"#000000\" fill-rule=\"nonzero\" fill-opacity=\"1\" /><path clip-path=\"url(#clip830)\" d=\"M3341.46 2551.4 L3341.46 2559.23 L3339.33 2559.23 L3339.33 2551.47 Q3339.33 2549.63 3338.61 2548.72 Q3337.89 2547.81 3336.46 2547.81 Q3334.73 2547.81 3333.74 2548.9 Q3332.74 2550 3332.74 2551.9 L3332.74 2559.23 L3330.6 2559.23 L3330.6 2546.27 L3332.74 2546.27 L3332.74 2548.28 Q3333.51 2547.11 3334.54 2546.53 Q3335.58 2545.95 3336.93 2545.95 Q3339.17 2545.95 3340.31 2547.34 Q3341.46 2548.72 3341.46 2551.4 Z\" fill=\"#000000\" fill-rule=\"nonzero\" fill-opacity=\"1\" /><path clip-path=\"url(#clip830)\" d=\"M3347.81 2542.59 L3347.81 2546.27 L3352.2 2546.27 L3352.2 2547.92 L3347.81 2547.92 L3347.81 2554.96 Q3347.81 2556.54 3348.24 2557 Q3348.68 2557.45 3350.01 2557.45 L3352.2 2557.45 L3352.2 2559.23 L3350.01 2559.23 Q3347.55 2559.23 3346.61 2558.31 Q3345.67 2557.39 3345.67 2554.96 L3345.67 2547.92 L3344.11 2547.92 L3344.11 2546.27 L3345.67 2546.27 L3345.67 2542.59 L3347.81 2542.59 Z\" fill=\"#000000\" fill-rule=\"nonzero\" fill-opacity=\"1\" /><path clip-path=\"url(#clip830)\" d=\"M3355.71 2557.26 L3359.53 2557.26 L3359.53 2544.08 L3355.37 2544.91 L3355.37 2542.78 L3359.5 2541.95 L3361.84 2541.95 L3361.84 2557.26 L3365.66 2557.26 L3365.66 2559.23 L3355.71 2559.23 L3355.71 2557.26 Z\" fill=\"#000000\" fill-rule=\"nonzero\" fill-opacity=\"1\" /><path clip-path=\"url(#clip830)\" d=\"M3372.4 2557.26 L3380.56 2557.26 L3380.56 2559.23 L3369.58 2559.23 L3369.58 2557.26 Q3370.91 2555.88 3373.21 2553.57 Q3375.51 2551.24 3376.1 2550.57 Q3377.22 2549.31 3377.66 2548.44 Q3378.11 2547.56 3378.11 2546.72 Q3378.11 2545.34 3377.14 2544.47 Q3376.18 2543.6 3374.63 2543.6 Q3373.53 2543.6 3372.3 2543.99 Q3371.09 2544.37 3369.7 2545.14 L3369.7 2542.78 Q3371.11 2542.22 3372.34 2541.93 Q3373.57 2541.64 3374.58 2541.64 Q3377.27 2541.64 3378.87 2542.98 Q3380.46 2544.32 3380.46 2546.57 Q3380.46 2547.63 3380.06 2548.59 Q3379.66 2549.54 3378.61 2550.84 Q3378.32 2551.17 3376.77 2552.78 Q3375.22 2554.38 3372.4 2557.26 Z\" fill=\"#000000\" fill-rule=\"nonzero\" fill-opacity=\"1\" /><path clip-path=\"url(#clip830)\" d=\"M3390.46 2551.02 Q3388.8 2551.02 3387.84 2551.91 Q3386.89 2552.81 3386.89 2554.37 Q3386.89 2555.93 3387.84 2556.82 Q3388.8 2557.71 3390.46 2557.71 Q3392.13 2557.71 3393.09 2556.82 Q3394.05 2555.92 3394.05 2554.37 Q3394.05 2552.81 3393.09 2551.91 Q3392.14 2551.02 3390.46 2551.02 M3388.13 2550.03 Q3386.62 2549.66 3385.78 2548.63 Q3384.94 2547.6 3384.94 2546.12 Q3384.94 2544.04 3386.41 2542.84 Q3387.89 2541.64 3390.46 2541.64 Q3393.04 2541.64 3394.51 2542.84 Q3395.98 2544.04 3395.98 2546.12 Q3395.98 2547.6 3395.14 2548.63 Q3394.31 2549.66 3392.81 2550.03 Q3394.5 2550.42 3395.44 2551.57 Q3396.39 2552.71 3396.39 2554.37 Q3396.39 2556.88 3394.85 2558.22 Q3393.32 2559.56 3390.46 2559.56 Q3387.6 2559.56 3386.07 2558.22 Q3384.54 2556.88 3384.54 2554.37 Q3384.54 2552.71 3385.49 2551.57 Q3386.44 2550.42 3388.13 2550.03 M3387.27 2546.34 Q3387.27 2547.68 3388.1 2548.43 Q3388.95 2549.18 3390.46 2549.18 Q3391.97 2549.18 3392.81 2548.43 Q3393.67 2547.68 3393.67 2546.34 Q3393.67 2544.99 3392.81 2544.24 Q3391.97 2543.49 3390.46 2543.49 Q3388.95 2543.49 3388.1 2544.24 Q3387.27 2544.99 3387.27 2546.34 Z\" fill=\"#000000\" fill-rule=\"nonzero\" fill-opacity=\"1\" /><path clip-path=\"url(#clip830)\" d=\"M3471.48 2510.01 L3473.83 2510.01 L3473.83 2520.51 Q3473.83 2523.28 3474.83 2524.51 Q3475.84 2525.73 3478.1 2525.73 Q3480.34 2525.73 3481.35 2524.51 Q3482.36 2523.28 3482.36 2520.51 L3482.36 2510.01 L3484.71 2510.01 L3484.71 2520.8 Q3484.71 2524.18 3483.03 2525.9 Q3481.36 2527.62 3478.1 2527.62 Q3474.82 2527.62 3473.15 2525.9 Q3471.48 2524.18 3471.48 2520.8 L3471.48 2510.01 Z\" fill=\"#000000\" fill-rule=\"nonzero\" fill-opacity=\"1\" /><path clip-path=\"url(#clip830)\" d=\"M3489.09 2510.01 L3491.43 2510.01 L3491.43 2527.29 L3489.09 2527.29 L3489.09 2510.01 Z\" fill=\"#000000\" fill-rule=\"nonzero\" fill-opacity=\"1\" /><path clip-path=\"url(#clip830)\" d=\"M3506.77 2519.46 L3506.77 2527.29 L3504.64 2527.29 L3504.64 2519.53 Q3504.64 2517.69 3503.92 2516.78 Q3503.2 2515.87 3501.77 2515.87 Q3500.04 2515.87 3499.05 2516.96 Q3498.05 2518.06 3498.05 2519.96 L3498.05 2527.29 L3495.91 2527.29 L3495.91 2514.33 L3498.05 2514.33 L3498.05 2516.34 Q3498.82 2515.17 3499.85 2514.59 Q3500.89 2514.01 3502.24 2514.01 Q3504.48 2514.01 3505.62 2515.4 Q3506.77 2516.78 3506.77 2519.46 Z\" fill=\"#000000\" fill-rule=\"nonzero\" fill-opacity=\"1\" /><path clip-path=\"url(#clip830)\" d=\"M3513.12 2510.65 L3513.12 2514.33 L3517.51 2514.33 L3517.51 2515.98 L3513.12 2515.98 L3513.12 2523.02 Q3513.12 2524.6 3513.55 2525.05 Q3513.99 2525.51 3515.32 2525.51 L3517.51 2525.51 L3517.51 2527.29 L3515.32 2527.29 Q3512.86 2527.29 3511.92 2526.37 Q3510.98 2525.45 3510.98 2523.02 L3510.98 2515.98 L3509.42 2515.98 L3509.42 2514.33 L3510.98 2514.33 L3510.98 2510.65 L3513.12 2510.65 Z\" fill=\"#000000\" fill-rule=\"nonzero\" fill-opacity=\"1\" /><path clip-path=\"url(#clip830)\" d=\"M3521.02 2525.32 L3524.83 2525.32 L3524.83 2512.14 L3520.68 2512.97 L3520.68 2510.84 L3524.81 2510.01 L3527.15 2510.01 L3527.15 2525.32 L3530.97 2525.32 L3530.97 2527.29 L3521.02 2527.29 L3521.02 2525.32 Z\" fill=\"#000000\" fill-rule=\"nonzero\" fill-opacity=\"1\" /><path clip-path=\"url(#clip830)\" d=\"M3540.98 2517.72 Q3539.41 2517.72 3538.48 2518.79 Q3537.57 2519.87 3537.57 2521.74 Q3537.57 2523.61 3538.48 2524.7 Q3539.41 2525.77 3540.98 2525.77 Q3542.55 2525.77 3543.47 2524.7 Q3544.39 2523.61 3544.39 2521.74 Q3544.39 2519.87 3543.47 2518.79 Q3542.55 2517.72 3540.98 2517.72 M3545.62 2510.39 L3545.62 2512.52 Q3544.74 2512.1 3543.84 2511.88 Q3542.95 2511.66 3542.07 2511.66 Q3539.75 2511.66 3538.53 2513.23 Q3537.31 2514.79 3537.14 2517.95 Q3537.82 2516.94 3538.85 2516.41 Q3539.88 2515.87 3541.12 2515.87 Q3543.72 2515.87 3545.23 2517.45 Q3546.74 2519.02 3546.74 2521.74 Q3546.74 2524.41 3545.17 2526.02 Q3543.6 2527.62 3540.98 2527.62 Q3537.98 2527.62 3536.4 2525.33 Q3534.81 2523.03 3534.81 2518.67 Q3534.81 2514.57 3536.76 2512.14 Q3538.7 2509.7 3541.98 2509.7 Q3542.86 2509.7 3543.75 2509.87 Q3544.65 2510.04 3545.62 2510.39 Z\" fill=\"#000000\" fill-rule=\"nonzero\" fill-opacity=\"1\" /><path clip-path=\"url(#clip830)\" d=\"M2804.95 2700.47 L2807.3 2700.47 L2807.3 2710.97 Q2807.3 2713.75 2808.31 2714.97 Q2809.31 2716.19 2811.57 2716.19 Q2813.81 2716.19 2814.82 2714.97 Q2815.83 2713.75 2815.83 2710.97 L2815.83 2700.47 L2818.18 2700.47 L2818.18 2711.26 Q2818.18 2714.64 2816.5 2716.36 Q2814.83 2718.09 2811.57 2718.09 Q2808.29 2718.09 2806.62 2716.36 Q2804.95 2714.64 2804.95 2711.26 L2804.95 2700.47 Z\" fill=\"#000000\" fill-rule=\"nonzero\" fill-opacity=\"1\" /><path clip-path=\"url(#clip830)\" d=\"M2822.56 2700.47 L2824.9 2700.47 L2824.9 2717.75 L2822.56 2717.75 L2822.56 2700.47 Z\" fill=\"#000000\" fill-rule=\"nonzero\" fill-opacity=\"1\" /><path clip-path=\"url(#clip830)\" d=\"M2840.24 2709.93 L2840.24 2717.75 L2838.11 2717.75 L2838.11 2710 Q2838.11 2708.16 2837.39 2707.24 Q2836.67 2706.33 2835.24 2706.33 Q2833.51 2706.33 2832.52 2707.43 Q2831.52 2708.53 2831.52 2710.43 L2831.52 2717.75 L2829.38 2717.75 L2829.38 2704.79 L2831.52 2704.79 L2831.52 2706.8 Q2832.29 2705.63 2833.32 2705.05 Q2834.36 2704.48 2835.71 2704.48 Q2837.95 2704.48 2839.09 2705.86 Q2840.24 2707.24 2840.24 2709.93 Z\" fill=\"#000000\" fill-rule=\"nonzero\" fill-opacity=\"1\" /><path clip-path=\"url(#clip830)\" d=\"M2846.59 2701.11 L2846.59 2704.79 L2850.98 2704.79 L2850.98 2706.44 L2846.59 2706.44 L2846.59 2713.48 Q2846.59 2715.07 2847.02 2715.52 Q2847.46 2715.97 2848.79 2715.97 L2850.98 2715.97 L2850.98 2717.75 L2848.79 2717.75 Q2846.33 2717.75 2845.39 2716.84 Q2844.45 2715.91 2844.45 2713.48 L2844.45 2706.44 L2842.89 2706.44 L2842.89 2704.79 L2844.45 2704.79 L2844.45 2701.11 L2846.59 2701.11 Z\" fill=\"#000000\" fill-rule=\"nonzero\" fill-opacity=\"1\" /><path clip-path=\"url(#clip830)\" d=\"M2861.16 2708.43 Q2862.84 2708.79 2863.78 2709.93 Q2864.73 2711.06 2864.73 2712.73 Q2864.73 2715.29 2862.97 2716.69 Q2861.21 2718.09 2857.97 2718.09 Q2856.88 2718.09 2855.72 2717.87 Q2854.58 2717.66 2853.35 2717.23 L2853.35 2714.97 Q2854.32 2715.54 2855.48 2715.83 Q2856.64 2716.12 2857.9 2716.12 Q2860.1 2716.12 2861.25 2715.25 Q2862.4 2714.38 2862.4 2712.73 Q2862.4 2711.2 2861.33 2710.34 Q2860.26 2709.48 2858.35 2709.48 L2856.34 2709.48 L2856.34 2707.55 L2858.44 2707.55 Q2860.17 2707.55 2861.08 2706.87 Q2862 2706.18 2862 2704.88 Q2862 2703.55 2861.05 2702.84 Q2860.11 2702.13 2858.35 2702.13 Q2857.39 2702.13 2856.29 2702.33 Q2855.19 2702.54 2853.87 2702.98 L2853.87 2700.9 Q2855.2 2700.53 2856.36 2700.34 Q2857.53 2700.16 2858.56 2700.16 Q2861.22 2700.16 2862.77 2701.37 Q2864.32 2702.58 2864.32 2704.64 Q2864.32 2706.07 2863.5 2707.07 Q2862.68 2708.05 2861.16 2708.43 Z\" fill=\"#000000\" fill-rule=\"nonzero\" fill-opacity=\"1\" /><path clip-path=\"url(#clip830)\" d=\"M2871.18 2715.78 L2879.34 2715.78 L2879.34 2717.75 L2868.36 2717.75 L2868.36 2715.78 Q2869.69 2714.41 2871.99 2712.09 Q2874.29 2709.77 2874.88 2709.09 Q2876 2707.83 2876.44 2706.96 Q2876.89 2706.08 2876.89 2705.24 Q2876.89 2703.86 2875.92 2702.99 Q2874.96 2702.13 2873.41 2702.13 Q2872.31 2702.13 2871.08 2702.51 Q2869.87 2702.89 2868.48 2703.67 L2868.48 2701.3 Q2869.89 2700.74 2871.12 2700.45 Q2872.34 2700.16 2873.36 2700.16 Q2876.05 2700.16 2877.65 2701.5 Q2879.24 2702.84 2879.24 2705.09 Q2879.24 2706.15 2878.84 2707.11 Q2878.44 2708.06 2877.39 2709.36 Q2877.1 2709.7 2875.55 2711.3 Q2874 2712.9 2871.18 2715.78 Z\" fill=\"#000000\" fill-rule=\"nonzero\" fill-opacity=\"1\" /><path clip-path=\"url(#clip830)\" d=\"M3183.11 2680.25 L3185.46 2680.25 L3185.46 2690.75 Q3185.46 2693.52 3186.47 2694.75 Q3187.47 2695.97 3189.73 2695.97 Q3191.98 2695.97 3192.98 2694.75 Q3193.99 2693.52 3193.99 2690.75 L3193.99 2680.25 L3196.34 2680.25 L3196.34 2691.04 Q3196.34 2694.42 3194.66 2696.14 Q3192.99 2697.86 3189.73 2697.86 Q3186.46 2697.86 3184.78 2696.14 Q3183.11 2694.42 3183.11 2691.04 L3183.11 2680.25 Z\" fill=\"#000000\" fill-rule=\"nonzero\" fill-opacity=\"1\" /><path clip-path=\"url(#clip830)\" d=\"M3200.73 2680.25 L3203.06 2680.25 L3203.06 2697.53 L3200.73 2697.53 L3200.73 2680.25 Z\" fill=\"#000000\" fill-rule=\"nonzero\" fill-opacity=\"1\" /><path clip-path=\"url(#clip830)\" d=\"M3218.4 2689.7 L3218.4 2697.53 L3216.27 2697.53 L3216.27 2689.77 Q3216.27 2687.93 3215.55 2687.02 Q3214.83 2686.11 3213.4 2686.11 Q3211.68 2686.11 3210.68 2687.2 Q3209.68 2688.3 3209.68 2690.2 L3209.68 2697.53 L3207.54 2697.53 L3207.54 2684.57 L3209.68 2684.57 L3209.68 2686.58 Q3210.45 2685.41 3211.48 2684.83 Q3212.52 2684.25 3213.87 2684.25 Q3216.11 2684.25 3217.25 2685.64 Q3218.4 2687.02 3218.4 2689.7 Z\" fill=\"#000000\" fill-rule=\"nonzero\" fill-opacity=\"1\" /><path clip-path=\"url(#clip830)\" d=\"M3224.75 2680.89 L3224.75 2684.57 L3229.14 2684.57 L3229.14 2686.22 L3224.75 2686.22 L3224.75 2693.26 Q3224.75 2694.84 3225.18 2695.29 Q3225.62 2695.75 3226.95 2695.75 L3229.14 2695.75 L3229.14 2697.53 L3226.95 2697.53 Q3224.49 2697.53 3223.55 2696.61 Q3222.61 2695.69 3222.61 2693.26 L3222.61 2686.22 L3221.05 2686.22 L3221.05 2684.57 L3222.61 2684.57 L3222.61 2680.89 L3224.75 2680.89 Z\" fill=\"#000000\" fill-rule=\"nonzero\" fill-opacity=\"1\" /><path clip-path=\"url(#clip830)\" d=\"M3237.53 2687.96 Q3235.96 2687.96 3235.03 2689.03 Q3234.12 2690.11 3234.12 2691.98 Q3234.12 2693.85 3235.03 2694.94 Q3235.96 2696.01 3237.53 2696.01 Q3239.11 2696.01 3240.02 2694.94 Q3240.95 2693.85 3240.95 2691.98 Q3240.95 2690.11 3240.02 2689.03 Q3239.11 2687.96 3237.53 2687.96 M3242.17 2680.63 L3242.17 2682.76 Q3241.29 2682.34 3240.39 2682.12 Q3239.5 2681.9 3238.62 2681.9 Q3236.3 2681.9 3235.08 2683.47 Q3233.86 2685.03 3233.69 2688.19 Q3234.37 2687.18 3235.4 2686.65 Q3236.43 2686.11 3237.67 2686.11 Q3240.27 2686.11 3241.78 2687.69 Q3243.3 2689.26 3243.3 2691.98 Q3243.3 2694.65 3241.72 2696.26 Q3240.15 2697.86 3237.53 2697.86 Q3234.53 2697.86 3232.95 2695.57 Q3231.36 2693.27 3231.36 2688.91 Q3231.36 2684.81 3233.31 2682.38 Q3235.25 2679.94 3238.53 2679.94 Q3239.41 2679.94 3240.3 2680.11 Q3241.2 2680.28 3242.17 2680.63 Z\" fill=\"#000000\" fill-rule=\"nonzero\" fill-opacity=\"1\" /><path clip-path=\"url(#clip830)\" d=\"M3253.75 2682.29 L3247.84 2691.51 L3253.75 2691.51 L3253.75 2682.29 M3253.13 2680.25 L3256.07 2680.25 L3256.07 2691.51 L3258.54 2691.51 L3258.54 2693.45 L3256.07 2693.45 L3256.07 2697.53 L3253.75 2697.53 L3253.75 2693.45 L3245.95 2693.45 L3245.95 2691.2 L3253.13 2680.25 Z\" fill=\"#000000\" fill-rule=\"nonzero\" fill-opacity=\"1\" /><path clip-path=\"url(#clip830)\" d=\"M3004.93 2591.44 L3007.28 2591.44 L3007.28 2601.94 Q3007.28 2604.71 3008.29 2605.94 Q3009.3 2607.16 3011.55 2607.16 Q3013.8 2607.16 3014.8 2605.94 Q3015.81 2604.71 3015.81 2601.94 L3015.81 2591.44 L3018.16 2591.44 L3018.16 2602.23 Q3018.16 2605.61 3016.48 2607.33 Q3014.82 2609.06 3011.55 2609.06 Q3008.28 2609.06 3006.6 2607.33 Q3004.93 2605.61 3004.93 2602.23 L3004.93 2591.44 Z\" fill=\"#000000\" fill-rule=\"nonzero\" fill-opacity=\"1\" /><path clip-path=\"url(#clip830)\" d=\"M3022.55 2591.44 L3024.89 2591.44 L3024.89 2608.72 L3022.55 2608.72 L3022.55 2591.44 Z\" fill=\"#000000\" fill-rule=\"nonzero\" fill-opacity=\"1\" /><path clip-path=\"url(#clip830)\" d=\"M3040.22 2600.9 L3040.22 2608.72 L3038.09 2608.72 L3038.09 2600.96 Q3038.09 2599.12 3037.37 2598.21 Q3036.66 2597.3 3035.22 2597.3 Q3033.5 2597.3 3032.5 2598.4 Q3031.51 2599.5 3031.51 2601.39 L3031.51 2608.72 L3029.36 2608.72 L3029.36 2595.76 L3031.51 2595.76 L3031.51 2597.77 Q3032.27 2596.6 3033.3 2596.02 Q3034.34 2595.44 3035.7 2595.44 Q3037.93 2595.44 3039.08 2596.83 Q3040.22 2598.21 3040.22 2600.9 Z\" fill=\"#000000\" fill-rule=\"nonzero\" fill-opacity=\"1\" /><path clip-path=\"url(#clip830)\" d=\"M3046.58 2592.08 L3046.58 2595.76 L3050.96 2595.76 L3050.96 2597.41 L3046.58 2597.41 L3046.58 2604.45 Q3046.58 2606.03 3047 2606.49 Q3047.44 2606.94 3048.77 2606.94 L3050.96 2606.94 L3050.96 2608.72 L3048.77 2608.72 Q3046.31 2608.72 3045.37 2607.81 Q3044.43 2606.88 3044.43 2604.45 L3044.43 2597.41 L3042.87 2597.41 L3042.87 2595.76 L3044.43 2595.76 L3044.43 2592.08 L3046.58 2592.08 Z\" fill=\"#000000\" fill-rule=\"nonzero\" fill-opacity=\"1\" /><path clip-path=\"url(#clip830)\" d=\"M3059.06 2600.51 Q3057.4 2600.51 3056.44 2601.4 Q3055.49 2602.3 3055.49 2603.86 Q3055.49 2605.42 3056.44 2606.31 Q3057.4 2607.2 3059.06 2607.2 Q3060.73 2607.2 3061.69 2606.31 Q3062.65 2605.41 3062.65 2603.86 Q3062.65 2602.3 3061.69 2601.4 Q3060.74 2600.51 3059.06 2600.51 M3056.73 2599.52 Q3055.22 2599.15 3054.38 2598.12 Q3053.54 2597.09 3053.54 2595.61 Q3053.54 2593.53 3055.01 2592.33 Q3056.49 2591.13 3059.06 2591.13 Q3061.64 2591.13 3063.11 2592.33 Q3064.58 2593.53 3064.58 2595.61 Q3064.58 2597.09 3063.74 2598.12 Q3062.91 2599.15 3061.41 2599.52 Q3063.1 2599.91 3064.04 2601.06 Q3064.99 2602.2 3064.99 2603.86 Q3064.99 2606.37 3063.45 2607.71 Q3061.92 2609.06 3059.06 2609.06 Q3056.2 2609.06 3054.67 2607.71 Q3053.14 2606.37 3053.14 2603.86 Q3053.14 2602.2 3054.09 2601.06 Q3055.04 2599.91 3056.73 2599.52 M3055.87 2595.83 Q3055.87 2597.17 3056.7 2597.92 Q3057.55 2598.67 3059.06 2598.67 Q3060.57 2598.67 3061.41 2597.92 Q3062.27 2597.17 3062.27 2595.83 Q3062.27 2594.48 3061.41 2593.73 Q3060.57 2592.98 3059.06 2592.98 Q3057.55 2592.98 3056.7 2593.73 Q3055.87 2594.48 3055.87 2595.83 Z\" fill=\"#000000\" fill-rule=\"nonzero\" fill-opacity=\"1\" /></svg>\n"
      ]
     },
     "execution_count": 8,
     "metadata": {},
     "output_type": "execute_result"
    }
   ],
   "source": [
    "using GraphRecipes, Plots\n",
    "\n",
    "#pyplot(size=(800, 600))\n",
    "gr()\n",
    "theme(:default)\n",
    "\n",
    "plot(Integer, method = :tree, fontsize = 4)\n",
    "plot!(size = (1200, 800))"
   ]
  },
  {
   "cell_type": "markdown",
   "metadata": {},
   "source": [
    "### Signed integers\n",
    "\n",
    "* First bit indicates sign.  \n",
    "    - `0` for nonnegative numbers\n",
    "    - `1` for negative numbers  \n",
    "    \n",
    "* **Two's complement representation** for negative numbers. \n",
    "    - Sign bit is set to 1  \n",
    "    - remaining bits are set to opposite values  \n",
    "    - 1 is added to the result  \n",
    "    - Two's complement representation of a negative integer `x` is same as the unsigned integer `2^64 + x`."
   ]
  },
  {
   "cell_type": "code",
   "execution_count": 9,
   "metadata": {
    "tags": []
   },
   "outputs": [
    {
     "name": "stdout",
     "output_type": "stream",
     "text": [
      "typeof(18) = Int64\n",
      "bitstring(18) = \"0000000000000000000000000000000000000000000000000000000000010010\"\n",
      "bitstring(-18) = \"1111111111111111111111111111111111111111111111111111111111101110\"\n",
      "bitstring(UInt64(Int128(2) ^ 64 - 18)) == bitstring(-18) = true\n",
      "bitstring(2 * 18) = \"0000000000000000000000000000000000000000000000000000000000100100\"\n",
      "bitstring(2 * -18) = \"1111111111111111111111111111111111111111111111111111111111011100\"\n"
     ]
    }
   ],
   "source": [
    "@show typeof(18)\n",
    "@show bitstring(18)\n",
    "@show bitstring(-18) # two's complement representation\n",
    "@show bitstring(UInt64(Int128(2)^64 - 18)) == bitstring(-18) # modular arithmetic\n",
    "@show bitstring(2 * 18) # shift bits of 18\n",
    "@show bitstring(2 * -18); # shift bits of -18"
   ]
  },
  {
   "cell_type": "markdown",
   "metadata": {},
   "source": [
    "* Two's complement representation respects modular arithmetic nicely.  \n",
    "    Addition of any two signed integers are just bitwise addition, possibly modulo $2^M$\n",
    "    \n",
    "<img src=\"http://users.dickinson.edu/~braught/courses/cs251f02/classes/images/twosCompWheel.png\" width=\"400\" align=\"center\"/>    \n",
    "\n",
    "* Arithmetics (addition, substraction, multiplication) of integers are **exact** except for the possiblity of overflow and underflow.\n",
    "\n",
    "* **Range** of representable integers by $M$-bit **signed integer** is $[-2^{M-1},2^{M-1}-1]$.\n",
    "    - Julia functions `typemin(T)` and `typemax(T)` give the lowest and highest representable number of a type `T` respectively"
   ]
  },
  {
   "cell_type": "code",
   "execution_count": 10,
   "metadata": {
    "tags": []
   },
   "outputs": [
    {
     "data": {
      "text/plain": [
       "(-9223372036854775808, 9223372036854775807)"
      ]
     },
     "execution_count": 10,
     "metadata": {},
     "output_type": "execute_result"
    }
   ],
   "source": [
    "typemin(Int64), typemax(Int64)"
   ]
  },
  {
   "cell_type": "code",
   "execution_count": 11,
   "metadata": {
    "tags": []
   },
   "outputs": [
    {
     "name": "stdout",
     "output_type": "stream",
     "text": [
      "Int8\t-128\t127\n",
      "Int16\t-32768\t32767\n",
      "Int32\t-2147483648\t2147483647\n",
      "Int64\t-9223372036854775808\t9223372036854775807\n",
      "Int128\t-170141183460469231731687303715884105728\t170141183460469231731687303715884105727\n"
     ]
    }
   ],
   "source": [
    "for T in [Int8, Int16, Int32, Int64, Int128]\n",
    "    println(T, '\\t', typemin(T), '\\t', typemax(T))\n",
    "end"
   ]
  },
  {
   "cell_type": "markdown",
   "metadata": {},
   "source": [
    "### Unsigned integers\n",
    "\n",
    "* For unsigned integers, the range is $[0,2^M-1]$."
   ]
  },
  {
   "cell_type": "code",
   "execution_count": 12,
   "metadata": {
    "tags": []
   },
   "outputs": [
    {
     "name": "stdout",
     "output_type": "stream",
     "text": [
      "UInt8\t0\t255\n",
      "UInt16\t0\t65535\n",
      "UInt32\t0\t4294967295\n",
      "UInt64\t0\t18446744073709551615\n",
      "UInt128\t0\t340282366920938463463374607431768211455\n"
     ]
    }
   ],
   "source": [
    "for t in [UInt8, UInt16, UInt32, UInt64, UInt128]\n",
    "    println(t, '\\t', typemin(t), '\\t', typemax(t))\n",
    "end"
   ]
  },
  {
   "cell_type": "markdown",
   "metadata": {},
   "source": [
    "### `BigInt`\n",
    "\n",
    "Julia `BigInt` type is arbitrary precision."
   ]
  },
  {
   "cell_type": "code",
   "execution_count": 13,
   "metadata": {
    "tags": []
   },
   "outputs": [
    {
     "name": "stdout",
     "output_type": "stream",
     "text": [
      "typemax(Int128) = 170141183460469231731687303715884105727\n",
      "typemax(Int128) + 1 = -170141183460469231731687303715884105728\n",
      "BigInt(typemax(Int128)) + 1 = 170141183460469231731687303715884105728\n"
     ]
    }
   ],
   "source": [
    "@show typemax(Int128)\n",
    "@show typemax(Int128) + 1 # modular arithmetic!\n",
    "@show BigInt(typemax(Int128)) + 1;"
   ]
  },
  {
   "cell_type": "markdown",
   "metadata": {},
   "source": [
    "### Overflow and underflow for integer arithmetic\n",
    "\n",
    "R reports `NA` for integer overflow and underflow.  \n",
    "\n",
    "> **Julia outputs the result according to modular arithmetic.**"
   ]
  },
  {
   "cell_type": "code",
   "execution_count": 14,
   "metadata": {
    "tags": []
   },
   "outputs": [
    {
     "name": "stdout",
     "output_type": "stream",
     "text": [
      "typemax(Int32) = 2147483647\n",
      "typemax(Int32) + Int32(1) = -2147483648\n"
     ]
    }
   ],
   "source": [
    "@show typemax(Int32)\n",
    "@show typemax(Int32) + Int32(1); # modular arithmetics!"
   ]
  },
  {
   "cell_type": "code",
   "execution_count": 15,
   "metadata": {
    "tags": []
   },
   "outputs": [
    {
     "data": {
      "text/plain": [
       "RObject{IntSxp}\n",
       "[1] 2147483647\n"
      ]
     },
     "execution_count": 15,
     "metadata": {},
     "output_type": "execute_result"
    }
   ],
   "source": [
    "using RCall\n",
    "\n",
    "R\"\"\"\n",
    ".Machine$integer.max\n",
    "\"\"\""
   ]
  },
  {
   "cell_type": "code",
   "execution_count": 16,
   "metadata": {
    "tags": []
   },
   "outputs": [
    {
     "data": {
      "text/plain": [
       "RObject{IntSxp}\n",
       "[1] 2147483647\n"
      ]
     },
     "execution_count": 16,
     "metadata": {},
     "output_type": "execute_result"
    }
   ],
   "source": [
    "R\"\"\"\n",
    "M <- 32\n",
    "big <- 2^(M - 1) - 1\n",
    "as.integer(big)\n",
    "\"\"\""
   ]
  },
  {
   "cell_type": "code",
   "execution_count": 17,
   "metadata": {
    "tags": []
   },
   "outputs": [
    {
     "name": "stderr",
     "output_type": "stream",
     "text": [
      "\u001b[33m\u001b[1m┌ \u001b[22m\u001b[39m\u001b[33m\u001b[1mWarning: \u001b[22m\u001b[39mRCall.jl: Warning: NAs introduced by coercion to integer range\n",
      "\u001b[33m\u001b[1m└ \u001b[22m\u001b[39m\u001b[90m@ RCall ~/.julia/packages/RCall/Wyd74/src/io.jl:172\u001b[39m\n"
     ]
    },
    {
     "data": {
      "text/plain": [
       "RObject{IntSxp}\n",
       "[1] NA\n"
      ]
     },
     "execution_count": 17,
     "metadata": {},
     "output_type": "execute_result"
    }
   ],
   "source": [
    "R\"\"\"\n",
    "as.integer(big + 1)\n",
    "\"\"\""
   ]
  },
  {
   "cell_type": "markdown",
   "metadata": {},
   "source": [
    "## Real numbers: floating-number system\n",
    "\n",
    "Floating-point number system is a computer model for real numbers.\n",
    "\n",
    "* Most computer systems adopt the [IEEE 754 standard](https://en.wikipedia.org/wiki/IEEE_floating_point), established in 1985, for floating-point arithmetics.  \n",
    "For the history, see an [interview with William Kahan](http://www.cs.berkeley.edu/~wkahan/ieee754status/754story.html).\n",
    "\n",
    "* In the scientific notation, a real number is represented as\n",
    "$$\\pm d_0.d_1d_2 \\cdots d_p \\times b^e.$$\n",
    "In computer, the _base_ is $b=2$ and the digits $d_i$ are 0 or 1.\n",
    "\n",
    "* **Normalized** vs **denormalized** numbers. For example, decimal number 18 is\n",
    "$$ +1.0010 \\times 2^4 \\quad (\\text{normalized})$$\n",
    "or, equivalently,\n",
    "$$ +0.1001 \\times 2^5 \\quad (\\text{denormalized}).$$\n",
    "\n",
    "* In the floating-number system, computer stores \n",
    "    - sign bit  \n",
    "    - the _fraction_ (or _mantissa_, or _significand_) of the **normalized** representation\n",
    "    - the actual exponent _plus_ a bias"
   ]
  },
  {
   "cell_type": "code",
   "execution_count": 18,
   "metadata": {
    "tags": []
   },
   "outputs": [
    {
     "data": {
      "image/svg+xml": [
       "<?xml version=\"1.0\" encoding=\"utf-8\"?>\n",
       "<svg xmlns=\"http://www.w3.org/2000/svg\" xmlns:xlink=\"http://www.w3.org/1999/xlink\" width=\"1200\" height=\"900\" viewBox=\"0 0 4800 3600\">\n",
       "<defs>\n",
       "  <clipPath id=\"clip860\">\n",
       "    <rect x=\"0\" y=\"0\" width=\"4800\" height=\"3600\"/>\n",
       "  </clipPath>\n",
       "</defs>\n",
       "<path clip-path=\"url(#clip860)\" d=\"M0 3600 L4800 3600 L4800 0 L0 0  Z\" fill=\"#ffffff\" fill-rule=\"evenodd\" fill-opacity=\"1\"/>\n",
       "<defs>\n",
       "  <clipPath id=\"clip861\">\n",
       "    <rect x=\"960\" y=\"0\" width=\"3361\" height=\"3361\"/>\n",
       "  </clipPath>\n",
       "</defs>\n",
       "<path clip-path=\"url(#clip860)\" d=\"M647.244 3552.76 L4152.76 3552.76 L4152.76 47.2441 L647.244 47.2441  Z\" fill=\"#ffffff\" fill-rule=\"evenodd\" fill-opacity=\"1\"/>\n",
       "<defs>\n",
       "  <clipPath id=\"clip862\">\n",
       "    <rect x=\"647\" y=\"47\" width=\"3507\" height=\"3507\"/>\n",
       "  </clipPath>\n",
       "</defs>\n",
       "<polyline clip-path=\"url(#clip862)\" style=\"stroke:#000000; stroke-linecap:round; stroke-linejoin:round; stroke-width:4; stroke-opacity:1; fill:none\" points=\"2652.56,548.031 2652.78,571.702 2653.43,595.855 2654.47,620.456 2655.87,645.468 2657.61,670.857 2659.64,696.585 2661.94,722.617 2664.48,748.918 2667.22,775.451 2670.14,802.181 2673.2,829.072 2676.36,856.089 2679.61,883.195 2682.9,910.354 2686.21,937.532 2689.5,964.692 2692.75,991.798 2695.92,1018.81 2698.97,1045.71 2701.89,1072.44 2704.63,1098.97 2707.17,1125.27 2709.47,1151.3 2711.5,1177.03 2713.24,1202.42 2714.64,1227.43 2715.68,1252.03 2716.33,1276.18 2716.55,1299.85 \"/>\n",
       "<polyline clip-path=\"url(#clip862)\" style=\"stroke:#000000; stroke-linecap:round; stroke-linejoin:round; stroke-width:4; stroke-opacity:1; fill:none\" points=\"2716.55,1299.85 2715.37,1319.06 2711.94,1338.02 2706.43,1356.75 2699,1375.26 2689.82,1393.58 2679.06,1411.73 2666.88,1429.71 2653.45,1447.56 2638.94,1465.28 2623.52,1482.9 2607.34,1500.44 2590.58,1517.92 2573.4,1535.34 2555.97,1552.74 2538.46,1570.13 2521.04,1587.53 2503.86,1604.96 2487.1,1622.44 2470.92,1639.97 2455.49,1657.6 2440.98,1675.32 2427.56,1693.17 2415.38,1711.15 2404.62,1729.29 2395.44,1747.61 2388.01,1766.13 2382.49,1784.85 2379.06,1803.81 2377.88,1823.02 \"/>\n",
       "<polyline clip-path=\"url(#clip862)\" style=\"stroke:#000000; stroke-linecap:round; stroke-linejoin:round; stroke-width:4; stroke-opacity:1; fill:none\" points=\"2377.88,1823.02 2377.98,1845.61 2378.28,1868.68 2378.74,1892.18 2379.37,1916.08 2380.15,1940.36 2381.06,1964.97 2382.1,1989.88 2383.23,2015.05 2384.47,2040.45 2385.77,2066.04 2387.15,2091.8 2388.57,2117.67 2390.02,2143.63 2391.5,2169.65 2392.99,2195.68 2394.46,2221.7 2395.92,2247.66 2397.34,2273.53 2398.71,2299.28 2400.02,2324.88 2401.25,2350.28 2402.39,2375.45 2403.42,2400.36 2404.34,2424.97 2405.11,2449.24 2405.74,2473.15 2406.21,2496.65 2406.5,2519.72 2406.6,2542.31 \"/>\n",
       "<polyline clip-path=\"url(#clip862)\" style=\"stroke:#000000; stroke-linecap:round; stroke-linejoin:round; stroke-width:4; stroke-opacity:1; fill:none\" points=\"2406.6,2542.31 2410.94,2565.15 2423.55,2586.48 2443.83,2606.4 2471.15,2625.02 2504.9,2642.47 2544.47,2658.85 2589.25,2674.27 2638.63,2688.85 2691.99,2702.7 2748.72,2715.93 2808.21,2728.66 2869.84,2740.99 2933.01,2753.04 2997.09,2764.92 3061.48,2776.74 3125.56,2788.62 3188.73,2800.67 3250.36,2813.01 3309.85,2825.73 3366.58,2838.96 3419.94,2852.81 3469.32,2867.39 3514.1,2882.81 3553.67,2899.19 3587.43,2916.64 3614.74,2935.27 3635.02,2955.19 3647.63,2976.51 3651.97,2999.36 \"/>\n",
       "<polyline clip-path=\"url(#clip862)\" style=\"stroke:#000000; stroke-linecap:round; stroke-linejoin:round; stroke-width:4; stroke-opacity:1; fill:none\" points=\"2406.6,2542.31 2402.22,2560.35 2389.47,2577.2 2368.98,2592.94 2341.37,2607.66 2307.26,2621.44 2267.27,2634.38 2222.01,2646.56 2172.11,2658.08 2118.19,2669.02 2060.85,2679.48 2000.74,2689.53 1938.45,2699.27 1874.62,2708.79 1809.85,2718.18 1744.78,2727.52 1680.02,2736.9 1616.18,2746.42 1553.9,2756.16 1493.78,2766.22 1436.45,2776.67 1382.52,2787.61 1332.62,2799.13 1287.36,2811.31 1247.37,2824.25 1213.26,2838.04 1185.65,2852.75 1165.16,2868.49 1152.42,2885.34 1148.03,2903.39 \"/>\n",
       "<polyline clip-path=\"url(#clip862)\" style=\"stroke:#000000; stroke-linecap:round; stroke-linejoin:round; stroke-width:4; stroke-opacity:1; fill:none\" points=\"2406.6,2542.31 2404.65,2565.2 2398.98,2586.96 2389.87,2607.66 2377.59,2627.38 2362.42,2646.23 2344.63,2664.27 2324.51,2681.59 2302.31,2698.27 2278.33,2714.41 2252.83,2730.09 2226.09,2745.38 2198.39,2760.38 2170,2775.17 2141.2,2789.83 2112.26,2804.45 2083.46,2819.11 2055.07,2833.9 2027.36,2848.89 2000.63,2864.19 1975.13,2879.86 1951.14,2896 1928.95,2912.69 1908.82,2930.01 1891.04,2948.05 1875.87,2966.89 1863.59,2986.62 1854.48,3007.32 1848.81,3029.07 1846.86,3051.97 \"/>\n",
       "<polyline clip-path=\"url(#clip862)\" style=\"stroke:#000000; stroke-linecap:round; stroke-linejoin:round; stroke-width:4; stroke-opacity:1; fill:none\" points=\"2406.6,2542.31 2408.68,2564.36 2414.72,2584.95 2424.43,2604.18 2437.52,2622.17 2453.69,2639.01 2472.65,2654.82 2494.1,2669.71 2517.76,2683.79 2543.32,2697.16 2570.5,2709.93 2599,2722.22 2628.52,2734.12 2658.78,2745.75 2689.48,2757.22 2720.33,2768.64 2751.03,2780.11 2781.29,2791.74 2810.81,2803.65 2839.31,2815.93 2866.49,2828.71 2892.05,2842.08 2915.71,2856.15 2937.16,2871.04 2956.12,2886.85 2972.29,2903.7 2985.37,2921.68 2995.08,2940.91 3001.13,2961.5 3003.21,2983.56 \"/>\n",
       "<path clip-path=\"url(#clip862)\" d=\"M2717.68 548.031 L2685.12 491.632 L2620 491.632 L2587.43 548.031 L2620 604.431 L2685.12 604.431 L2717.68 548.031 L2717.68 548.031  Z\" fill=\"#009af9\" fill-rule=\"evenodd\" fill-opacity=\"1\"/>\n",
       "<polyline clip-path=\"url(#clip862)\" style=\"stroke:#000000; stroke-linecap:round; stroke-linejoin:round; stroke-width:4; stroke-opacity:1; fill:none\" points=\"2717.68,548.031 2685.12,491.632 2620,491.632 2587.43,548.031 2620,604.431 2685.12,604.431 2717.68,548.031 \"/>\n",
       "<path clip-path=\"url(#clip862)\" d=\"M2829.94 1299.85 L2773.25 1201.66 L2659.86 1201.66 L2603.17 1299.85 L2659.86 1398.05 L2773.25 1398.05 L2829.94 1299.85 L2829.94 1299.85  Z\" fill=\"#009af9\" fill-rule=\"evenodd\" fill-opacity=\"1\"/>\n",
       "<polyline clip-path=\"url(#clip862)\" style=\"stroke:#000000; stroke-linecap:round; stroke-linejoin:round; stroke-width:4; stroke-opacity:1; fill:none\" points=\"2829.94,1299.85 2773.25,1201.66 2659.86,1201.66 2603.17,1299.85 2659.86,1398.05 2773.25,1398.05 2829.94,1299.85 \"/>\n",
       "<path clip-path=\"url(#clip862)\" d=\"M2459.86 1823.02 L2418.87 1752.03 L2336.9 1752.03 L2295.91 1823.02 L2336.9 1894.02 L2418.87 1894.02 L2459.86 1823.02 L2459.86 1823.02  Z\" fill=\"#009af9\" fill-rule=\"evenodd\" fill-opacity=\"1\"/>\n",
       "<polyline clip-path=\"url(#clip862)\" style=\"stroke:#000000; stroke-linecap:round; stroke-linejoin:round; stroke-width:4; stroke-opacity:1; fill:none\" points=\"2459.86,1823.02 2418.87,1752.03 2336.9,1752.03 2295.91,1823.02 2336.9,1894.02 2418.87,1894.02 2459.86,1823.02 \"/>\n",
       "<path clip-path=\"url(#clip862)\" d=\"M2617.08 2542.31 L2511.84 2360.03 L2301.36 2360.03 L2196.13 2542.31 L2301.36 2724.58 L2511.84 2724.58 L2617.08 2542.31 L2617.08 2542.31  Z\" fill=\"#009af9\" fill-rule=\"evenodd\" fill-opacity=\"1\"/>\n",
       "<polyline clip-path=\"url(#clip862)\" style=\"stroke:#000000; stroke-linecap:round; stroke-linejoin:round; stroke-width:4; stroke-opacity:1; fill:none\" points=\"2617.08,2542.31 2511.84,2360.03 2301.36,2360.03 2196.13,2542.31 2301.36,2724.58 2511.84,2724.58 2617.08,2542.31 \"/>\n",
       "<path clip-path=\"url(#clip862)\" d=\"M3794.7 2999.36 L3723.33 2875.75 L3580.6 2875.75 L3509.24 2999.36 L3580.6 3122.96 L3723.33 3122.96 L3794.7 2999.36 L3794.7 2999.36  Z\" fill=\"#009af9\" fill-rule=\"evenodd\" fill-opacity=\"1\"/>\n",
       "<polyline clip-path=\"url(#clip862)\" style=\"stroke:#000000; stroke-linecap:round; stroke-linejoin:round; stroke-width:4; stroke-opacity:1; fill:none\" points=\"3794.7,2999.36 3723.33,2875.75 3580.6,2875.75 3509.24,2999.36 3580.6,3122.96 3723.33,3122.96 3794.7,2999.36 \"/>\n",
       "<path clip-path=\"url(#clip862)\" d=\"M1276.3 2903.39 L1212.17 2792.3 L1083.9 2792.3 L1019.76 2903.39 L1083.9 3014.47 L1212.17 3014.47 L1276.3 2903.39 L1276.3 2903.39  Z\" fill=\"#009af9\" fill-rule=\"evenodd\" fill-opacity=\"1\"/>\n",
       "<polyline clip-path=\"url(#clip862)\" style=\"stroke:#000000; stroke-linecap:round; stroke-linejoin:round; stroke-width:4; stroke-opacity:1; fill:none\" points=\"1276.3,2903.39 1212.17,2792.3 1083.9,2792.3 1019.76,2903.39 1083.9,3014.47 1212.17,3014.47 1276.3,2903.39 \"/>\n",
       "<path clip-path=\"url(#clip862)\" d=\"M1975.13 3051.97 L1910.99 2940.88 L1782.72 2940.88 L1718.59 3051.97 L1782.72 3163.05 L1910.99 3163.05 L1975.13 3051.97 L1975.13 3051.97  Z\" fill=\"#009af9\" fill-rule=\"evenodd\" fill-opacity=\"1\"/>\n",
       "<polyline clip-path=\"url(#clip862)\" style=\"stroke:#000000; stroke-linecap:round; stroke-linejoin:round; stroke-width:4; stroke-opacity:1; fill:none\" points=\"1975.13,3051.97 1910.99,2940.88 1782.72,2940.88 1718.59,3051.97 1782.72,3163.05 1910.99,3163.05 1975.13,3051.97 \"/>\n",
       "<path clip-path=\"url(#clip862)\" d=\"M3131.48 2983.56 L3067.34 2872.47 L2939.07 2872.47 L2874.94 2983.56 L2939.07 3094.64 L3067.34 3094.64 L3131.48 2983.56 L3131.48 2983.56  Z\" fill=\"#009af9\" fill-rule=\"evenodd\" fill-opacity=\"1\"/>\n",
       "<polyline clip-path=\"url(#clip862)\" style=\"stroke:#000000; stroke-linecap:round; stroke-linejoin:round; stroke-width:4; stroke-opacity:1; fill:none\" points=\"3131.48,2983.56 3067.34,2872.47 2939.07,2872.47 2874.94,2983.56 2939.07,3094.64 3067.34,3094.64 3131.48,2983.56 \"/>\n",
       "<path clip-path=\"url(#clip862)\" d=\"M2652.56 548.431 L2652.21 548.231 L2652.21 547.831 L2652.56 547.631 L2652.9 547.831 L2652.9 548.231 Z\" fill=\"#009af9\" fill-rule=\"evenodd\" fill-opacity=\"1\" stroke=\"#000000\" stroke-opacity=\"1\" stroke-width=\"7.2\"/>\n",
       "<path clip-path=\"url(#clip862)\" d=\"M2716.55 1300.25 L2716.21 1300.05 L2716.21 1299.65 L2716.55 1299.45 L2716.9 1299.65 L2716.9 1300.05 Z\" fill=\"#009af9\" fill-rule=\"evenodd\" fill-opacity=\"1\" stroke=\"#000000\" stroke-opacity=\"1\" stroke-width=\"7.2\"/>\n",
       "<path clip-path=\"url(#clip862)\" d=\"M2377.88 1823.42 L2377.54 1823.22 L2377.54 1822.82 L2377.88 1822.62 L2378.23 1822.82 L2378.23 1823.22 Z\" fill=\"#009af9\" fill-rule=\"evenodd\" fill-opacity=\"1\" stroke=\"#000000\" stroke-opacity=\"1\" stroke-width=\"7.2\"/>\n",
       "<path clip-path=\"url(#clip862)\" d=\"M2406.6 2542.71 L2406.26 2542.51 L2406.26 2542.11 L2406.6 2541.91 L2406.95 2542.11 L2406.95 2542.51 Z\" fill=\"#009af9\" fill-rule=\"evenodd\" fill-opacity=\"1\" stroke=\"#000000\" stroke-opacity=\"1\" stroke-width=\"7.2\"/>\n",
       "<path clip-path=\"url(#clip862)\" d=\"M3651.97 2999.76 L3651.62 2999.56 L3651.62 2999.16 L3651.97 2998.96 L3652.31 2999.16 L3652.31 2999.56 Z\" fill=\"#009af9\" fill-rule=\"evenodd\" fill-opacity=\"1\" stroke=\"#000000\" stroke-opacity=\"1\" stroke-width=\"7.2\"/>\n",
       "<path clip-path=\"url(#clip862)\" d=\"M1148.03 2903.79 L1147.69 2903.59 L1147.69 2903.19 L1148.03 2902.99 L1148.38 2903.19 L1148.38 2903.59 Z\" fill=\"#009af9\" fill-rule=\"evenodd\" fill-opacity=\"1\" stroke=\"#000000\" stroke-opacity=\"1\" stroke-width=\"7.2\"/>\n",
       "<path clip-path=\"url(#clip862)\" d=\"M1846.86 3052.37 L1846.51 3052.17 L1846.51 3051.77 L1846.86 3051.57 L1847.2 3051.77 L1847.2 3052.17 Z\" fill=\"#009af9\" fill-rule=\"evenodd\" fill-opacity=\"1\" stroke=\"#000000\" stroke-opacity=\"1\" stroke-width=\"7.2\"/>\n",
       "<path clip-path=\"url(#clip862)\" d=\"M3003.21 2983.96 L3002.86 2983.76 L3002.86 2983.36 L3003.21 2983.16 L3003.55 2983.36 L3003.55 2983.76 Z\" fill=\"#009af9\" fill-rule=\"evenodd\" fill-opacity=\"1\" stroke=\"#000000\" stroke-opacity=\"1\" stroke-width=\"7.2\"/>\n",
       "<path clip-path=\"url(#clip860)\" d=\"M2638.29 541.695 L2635.12 550.294 L2641.47 550.294 L2638.29 541.695 M2636.97 539.391 L2639.62 539.391 L2646.2 556.671 L2643.77 556.671 L2642.2 552.239 L2634.41 552.239 L2632.84 556.671 L2630.37 556.671 L2636.97 539.391 Z\" fill=\"#000000\" fill-rule=\"nonzero\" fill-opacity=\"1\" /><path clip-path=\"url(#clip860)\" d=\"M2659.41 548.847 L2659.41 556.671 L2657.28 556.671 L2657.28 548.917 Q2657.28 547.077 2656.56 546.162 Q2655.84 545.248 2654.41 545.248 Q2652.69 545.248 2651.69 546.347 Q2650.69 547.447 2650.69 549.345 L2650.69 556.671 L2648.55 556.671 L2648.55 543.709 L2650.69 543.709 L2650.69 545.722 Q2651.46 544.554 2652.49 543.975 Q2653.53 543.396 2654.88 543.396 Q2657.12 543.396 2658.26 544.785 Q2659.41 546.162 2659.41 548.847 Z\" fill=\"#000000\" fill-rule=\"nonzero\" fill-opacity=\"1\" /><path clip-path=\"url(#clip860)\" d=\"M2669.05 557.875 Q2668.15 560.19 2667.29 560.896 Q2666.44 561.602 2665 561.602 L2663.3 561.602 L2663.3 559.82 L2664.55 559.82 Q2665.43 559.82 2665.91 559.403 Q2666.4 558.986 2666.99 557.435 L2667.37 556.463 L2662.13 543.709 L2664.39 543.709 L2668.44 553.847 L2672.49 543.709 L2674.75 543.709 L2669.05 557.875 Z\" fill=\"#000000\" fill-rule=\"nonzero\" fill-opacity=\"1\" /><path clip-path=\"url(#clip860)\" d=\"M2670.11 1291.21 L2673.26 1291.21 L2680.92 1305.67 L2680.92 1291.21 L2683.19 1291.21 L2683.19 1308.49 L2680.04 1308.49 L2672.38 1294.04 L2672.38 1308.49 L2670.11 1308.49 L2670.11 1291.21 Z\" fill=\"#000000\" fill-rule=\"nonzero\" fill-opacity=\"1\" /><path clip-path=\"url(#clip860)\" d=\"M2687.53 1303.38 L2687.53 1295.53 L2689.66 1295.53 L2689.66 1303.3 Q2689.66 1305.14 2690.37 1306.06 Q2691.09 1306.98 2692.53 1306.98 Q2694.25 1306.98 2695.25 1305.88 Q2696.25 1304.78 2696.25 1302.88 L2696.25 1295.53 L2698.38 1295.53 L2698.38 1308.49 L2696.25 1308.49 L2696.25 1306.5 Q2695.48 1307.68 2694.45 1308.26 Q2693.43 1308.83 2692.07 1308.83 Q2689.84 1308.83 2688.68 1307.44 Q2687.53 1306.05 2687.53 1303.38 M2692.88 1295.22 L2692.88 1295.22 Z\" fill=\"#000000\" fill-rule=\"nonzero\" fill-opacity=\"1\" /><path clip-path=\"url(#clip860)\" d=\"M2712.86 1298.02 Q2713.66 1296.59 2714.77 1295.9 Q2715.88 1295.22 2717.39 1295.22 Q2719.41 1295.22 2720.51 1296.64 Q2721.61 1298.06 2721.61 1300.67 L2721.61 1308.49 L2719.47 1308.49 L2719.47 1300.74 Q2719.47 1298.88 2718.81 1297.97 Q2718.15 1297.07 2716.8 1297.07 Q2715.14 1297.07 2714.18 1298.17 Q2713.22 1299.27 2713.22 1301.17 L2713.22 1308.49 L2711.08 1308.49 L2711.08 1300.74 Q2711.08 1298.87 2710.42 1297.97 Q2709.76 1297.07 2708.38 1297.07 Q2706.75 1297.07 2705.79 1298.18 Q2704.83 1299.28 2704.83 1301.17 L2704.83 1308.49 L2702.69 1308.49 L2702.69 1295.53 L2704.83 1295.53 L2704.83 1297.55 Q2705.56 1296.35 2706.58 1295.79 Q2707.6 1295.22 2709 1295.22 Q2710.41 1295.22 2711.39 1295.94 Q2712.39 1296.65 2712.86 1298.02 Z\" fill=\"#000000\" fill-rule=\"nonzero\" fill-opacity=\"1\" /><path clip-path=\"url(#clip860)\" d=\"M2735.16 1302.03 Q2735.16 1299.68 2734.19 1298.34 Q2733.23 1297 2731.54 1297 Q2729.85 1297 2728.88 1298.34 Q2727.92 1299.68 2727.92 1302.03 Q2727.92 1304.37 2728.88 1305.72 Q2729.85 1307.05 2731.54 1307.05 Q2733.23 1307.05 2734.19 1305.72 Q2735.16 1304.37 2735.16 1302.03 M2727.92 1297.5 Q2728.59 1296.34 2729.61 1295.79 Q2730.64 1295.22 2732.06 1295.22 Q2734.42 1295.22 2735.89 1297.09 Q2737.38 1298.97 2737.38 1302.03 Q2737.38 1305.08 2735.89 1306.96 Q2734.42 1308.83 2732.06 1308.83 Q2730.64 1308.83 2729.61 1308.28 Q2728.59 1307.71 2727.92 1306.55 L2727.92 1308.49 L2725.78 1308.49 L2725.78 1290.49 L2727.92 1290.49 L2727.92 1297.5 Z\" fill=\"#000000\" fill-rule=\"nonzero\" fill-opacity=\"1\" /><path clip-path=\"url(#clip860)\" d=\"M2751.99 1301.48 L2751.99 1302.52 L2742.2 1302.52 Q2742.34 1304.72 2743.52 1305.88 Q2744.71 1307.03 2746.83 1307.03 Q2748.06 1307.03 2749.2 1306.72 Q2750.36 1306.42 2751.5 1305.82 L2751.5 1307.84 Q2750.35 1308.32 2749.15 1308.58 Q2747.94 1308.83 2746.7 1308.83 Q2743.6 1308.83 2741.78 1307.03 Q2739.98 1305.22 2739.98 1302.14 Q2739.98 1298.96 2741.69 1297.09 Q2743.42 1295.22 2746.33 1295.22 Q2748.95 1295.22 2750.47 1296.91 Q2751.99 1298.59 2751.99 1301.48 M2749.86 1300.86 Q2749.84 1299.11 2748.88 1298.07 Q2747.93 1297.03 2746.36 1297.03 Q2744.57 1297.03 2743.5 1298.03 Q2742.43 1299.04 2742.27 1300.87 L2749.86 1300.86 Z\" fill=\"#000000\" fill-rule=\"nonzero\" fill-opacity=\"1\" /><path clip-path=\"url(#clip860)\" d=\"M2763 1297.52 Q2762.64 1297.31 2762.21 1297.22 Q2761.8 1297.12 2761.29 1297.12 Q2759.48 1297.12 2758.51 1298.3 Q2757.55 1299.47 2757.55 1301.67 L2757.55 1308.49 L2755.41 1308.49 L2755.41 1295.53 L2757.55 1295.53 L2757.55 1297.55 Q2758.22 1296.37 2759.3 1295.8 Q2760.37 1295.22 2761.91 1295.22 Q2762.13 1295.22 2762.4 1295.25 Q2762.66 1295.28 2762.99 1295.34 L2763 1297.52 Z\" fill=\"#000000\" fill-rule=\"nonzero\" fill-opacity=\"1\" /><path clip-path=\"url(#clip860)\" d=\"M2362.8 1823.56 Q2363.56 1823.82 2364.26 1824.65 Q2364.98 1825.48 2365.7 1826.94 L2368.07 1831.66 L2365.56 1831.66 L2363.35 1827.23 Q2362.49 1825.49 2361.68 1824.93 Q2360.88 1824.36 2359.49 1824.36 L2356.95 1824.36 L2356.95 1831.66 L2354.61 1831.66 L2354.61 1814.38 L2359.89 1814.38 Q2362.85 1814.38 2364.31 1815.62 Q2365.77 1816.86 2365.77 1819.36 Q2365.77 1820.99 2365 1822.07 Q2364.25 1823.14 2362.8 1823.56 M2356.95 1816.3 L2356.95 1822.44 L2359.89 1822.44 Q2361.58 1822.44 2362.43 1821.66 Q2363.3 1820.88 2363.3 1819.36 Q2363.3 1817.84 2362.43 1817.08 Q2361.58 1816.3 2359.89 1816.3 L2356.95 1816.3 Z\" fill=\"#000000\" fill-rule=\"nonzero\" fill-opacity=\"1\" /><path clip-path=\"url(#clip860)\" d=\"M2381.01 1824.65 L2381.01 1825.69 L2371.22 1825.69 Q2371.36 1827.89 2372.54 1829.05 Q2373.73 1830.19 2375.85 1830.19 Q2377.07 1830.19 2378.22 1829.89 Q2379.38 1829.59 2380.51 1828.99 L2380.51 1831 Q2379.37 1831.49 2378.16 1831.74 Q2376.96 1832 2375.72 1832 Q2372.62 1832 2370.8 1830.19 Q2369 1828.39 2369 1825.31 Q2369 1822.13 2370.71 1820.26 Q2372.43 1818.39 2375.35 1818.39 Q2377.97 1818.39 2379.48 1820.08 Q2381.01 1821.75 2381.01 1824.65 M2378.88 1824.02 Q2378.86 1822.28 2377.9 1821.23 Q2376.95 1820.19 2375.37 1820.19 Q2373.59 1820.19 2372.51 1821.2 Q2371.45 1822.21 2371.29 1824.04 L2378.88 1824.02 Z\" fill=\"#000000\" fill-rule=\"nonzero\" fill-opacity=\"1\" /><path clip-path=\"url(#clip860)\" d=\"M2390.4 1825.15 Q2387.81 1825.15 2386.82 1825.74 Q2385.82 1826.33 2385.82 1827.75 Q2385.82 1828.88 2386.56 1829.56 Q2387.32 1830.22 2388.6 1830.22 Q2390.37 1830.22 2391.44 1828.97 Q2392.51 1827.7 2392.51 1825.62 L2392.51 1825.15 L2390.4 1825.15 M2394.64 1824.27 L2394.64 1831.66 L2392.51 1831.66 L2392.51 1829.69 Q2391.78 1830.88 2390.7 1831.44 Q2389.61 1832 2388.03 1832 Q2386.04 1832 2384.86 1830.89 Q2383.69 1829.76 2383.69 1827.89 Q2383.69 1825.7 2385.15 1824.59 Q2386.62 1823.48 2389.53 1823.48 L2392.51 1823.48 L2392.51 1823.27 Q2392.51 1821.8 2391.54 1821 Q2390.58 1820.19 2388.83 1820.19 Q2387.72 1820.19 2386.67 1820.46 Q2385.62 1820.72 2384.64 1821.26 L2384.64 1819.29 Q2385.81 1818.84 2386.91 1818.62 Q2388.01 1818.39 2389.05 1818.39 Q2391.87 1818.39 2393.25 1819.85 Q2394.64 1821.3 2394.64 1824.27 Z\" fill=\"#000000\" fill-rule=\"nonzero\" fill-opacity=\"1\" /><path clip-path=\"url(#clip860)\" d=\"M2399.03 1813.65 L2401.16 1813.65 L2401.16 1831.66 L2399.03 1831.66 L2399.03 1813.65 Z\" fill=\"#000000\" fill-rule=\"nonzero\" fill-opacity=\"1\" /><path clip-path=\"url(#clip860)\" d=\"M2335.87 2535.97 L2332.7 2544.57 L2339.06 2544.57 L2335.87 2535.97 M2334.55 2533.67 L2337.2 2533.67 L2343.79 2550.95 L2341.36 2550.95 L2339.79 2546.51 L2332 2546.51 L2330.42 2550.95 L2327.96 2550.95 L2334.55 2533.67 Z\" fill=\"#000000\" fill-rule=\"nonzero\" fill-opacity=\"1\" /><path clip-path=\"url(#clip860)\" d=\"M2355.53 2544.48 Q2355.53 2542.13 2354.55 2540.8 Q2353.59 2539.45 2351.9 2539.45 Q2350.21 2539.45 2349.24 2540.8 Q2348.28 2542.13 2348.28 2544.48 Q2348.28 2546.83 2349.24 2548.17 Q2350.21 2549.5 2351.9 2549.5 Q2353.59 2549.5 2354.55 2548.17 Q2355.53 2546.83 2355.53 2544.48 M2348.28 2539.95 Q2348.95 2538.79 2349.97 2538.24 Q2351 2537.67 2352.42 2537.67 Q2354.79 2537.67 2356.25 2539.55 Q2357.74 2541.42 2357.74 2544.48 Q2357.74 2547.53 2356.25 2549.41 Q2354.79 2551.28 2352.42 2551.28 Q2351 2551.28 2349.97 2550.73 Q2348.95 2550.16 2348.28 2549 L2348.28 2550.95 L2346.14 2550.95 L2346.14 2532.94 L2348.28 2532.94 L2348.28 2539.95 Z\" fill=\"#000000\" fill-rule=\"nonzero\" fill-opacity=\"1\" /><path clip-path=\"url(#clip860)\" d=\"M2369.53 2538.37 L2369.53 2540.38 Q2368.63 2539.92 2367.66 2539.69 Q2366.68 2539.45 2365.64 2539.45 Q2364.06 2539.45 2363.26 2539.94 Q2362.47 2540.43 2362.47 2541.4 Q2362.47 2542.14 2363.04 2542.57 Q2363.6 2542.98 2365.32 2543.37 L2366.05 2543.53 Q2368.32 2544.01 2369.26 2544.91 Q2370.22 2545.78 2370.22 2547.37 Q2370.22 2549.18 2368.79 2550.23 Q2367.37 2551.28 2364.87 2551.28 Q2363.82 2551.28 2362.69 2551.07 Q2361.57 2550.88 2360.32 2550.47 L2360.32 2548.27 Q2361.5 2548.89 2362.64 2549.2 Q2363.79 2549.5 2364.91 2549.5 Q2366.42 2549.5 2367.23 2548.99 Q2368.04 2548.47 2368.04 2547.53 Q2368.04 2546.66 2367.45 2546.2 Q2366.87 2545.74 2364.89 2545.31 L2364.15 2545.14 Q2362.17 2544.72 2361.29 2543.86 Q2360.41 2543 2360.41 2541.49 Q2360.41 2539.66 2361.71 2538.67 Q2363 2537.67 2365.39 2537.67 Q2366.57 2537.67 2367.61 2537.84 Q2368.65 2538.02 2369.53 2538.37 Z\" fill=\"#000000\" fill-rule=\"nonzero\" fill-opacity=\"1\" /><path clip-path=\"url(#clip860)\" d=\"M2375.72 2534.3 L2375.72 2537.98 L2380.11 2537.98 L2380.11 2539.64 L2375.72 2539.64 L2375.72 2546.68 Q2375.72 2548.26 2376.15 2548.71 Q2376.59 2549.16 2377.92 2549.16 L2380.11 2549.16 L2380.11 2550.95 L2377.92 2550.95 Q2375.46 2550.95 2374.52 2550.03 Q2373.58 2549.11 2373.58 2546.68 L2373.58 2539.64 L2372.02 2539.64 L2372.02 2537.98 L2373.58 2537.98 L2373.58 2534.3 L2375.72 2534.3 Z\" fill=\"#000000\" fill-rule=\"nonzero\" fill-opacity=\"1\" /><path clip-path=\"url(#clip860)\" d=\"M2390.42 2539.97 Q2390.06 2539.77 2389.63 2539.67 Q2389.22 2539.57 2388.71 2539.57 Q2386.9 2539.57 2385.93 2540.75 Q2384.97 2541.92 2384.97 2544.12 L2384.97 2550.95 L2382.83 2550.95 L2382.83 2537.98 L2384.97 2537.98 L2384.97 2540 Q2385.64 2538.82 2386.72 2538.25 Q2387.79 2537.67 2389.33 2537.67 Q2389.55 2537.67 2389.82 2537.71 Q2390.09 2537.73 2390.41 2537.79 L2390.42 2539.97 Z\" fill=\"#000000\" fill-rule=\"nonzero\" fill-opacity=\"1\" /><path clip-path=\"url(#clip860)\" d=\"M2398.55 2544.43 Q2395.97 2544.43 2394.97 2545.02 Q2393.97 2545.61 2393.97 2547.03 Q2393.97 2548.17 2394.72 2548.84 Q2395.47 2549.5 2396.75 2549.5 Q2398.52 2549.5 2399.59 2548.25 Q2400.66 2546.99 2400.66 2544.91 L2400.66 2544.43 L2398.55 2544.43 M2402.79 2543.55 L2402.79 2550.95 L2400.66 2550.95 L2400.66 2548.98 Q2399.94 2550.16 2398.85 2550.73 Q2397.76 2551.28 2396.19 2551.28 Q2394.19 2551.28 2393.01 2550.17 Q2391.85 2549.05 2391.85 2547.17 Q2391.85 2544.99 2393.3 2543.88 Q2394.77 2542.76 2397.68 2542.76 L2400.66 2542.76 L2400.66 2542.56 Q2400.66 2541.09 2399.69 2540.29 Q2398.73 2539.48 2396.98 2539.48 Q2395.87 2539.48 2394.82 2539.74 Q2393.77 2540.01 2392.79 2540.54 L2392.79 2538.57 Q2393.96 2538.12 2395.06 2537.9 Q2396.16 2537.67 2397.2 2537.67 Q2400.02 2537.67 2401.41 2539.13 Q2402.79 2540.59 2402.79 2543.55 Z\" fill=\"#000000\" fill-rule=\"nonzero\" fill-opacity=\"1\" /><path clip-path=\"url(#clip860)\" d=\"M2416.51 2538.48 L2416.51 2540.47 Q2415.61 2539.97 2414.69 2539.73 Q2413.79 2539.48 2412.86 2539.48 Q2410.79 2539.48 2409.65 2540.8 Q2408.5 2542.1 2408.5 2544.48 Q2408.5 2546.85 2409.65 2548.17 Q2410.79 2549.48 2412.86 2549.48 Q2413.79 2549.48 2414.69 2549.23 Q2415.61 2548.98 2416.51 2548.48 L2416.51 2550.45 Q2415.62 2550.87 2414.66 2551.07 Q2413.71 2551.28 2412.63 2551.28 Q2409.7 2551.28 2407.98 2549.44 Q2406.25 2547.6 2406.25 2544.48 Q2406.25 2541.31 2407.99 2539.49 Q2409.74 2537.67 2412.77 2537.67 Q2413.75 2537.67 2414.69 2537.88 Q2415.63 2538.08 2416.51 2538.48 Z\" fill=\"#000000\" fill-rule=\"nonzero\" fill-opacity=\"1\" /><path clip-path=\"url(#clip860)\" d=\"M2422.32 2534.3 L2422.32 2537.98 L2426.71 2537.98 L2426.71 2539.64 L2422.32 2539.64 L2422.32 2546.68 Q2422.32 2548.26 2422.75 2548.71 Q2423.19 2549.16 2424.52 2549.16 L2426.71 2549.16 L2426.71 2550.95 L2424.52 2550.95 Q2422.05 2550.95 2421.12 2550.03 Q2420.18 2549.11 2420.18 2546.68 L2420.18 2539.64 L2418.62 2539.64 L2418.62 2537.98 L2420.18 2537.98 L2420.18 2534.3 L2422.32 2534.3 Z\" fill=\"#000000\" fill-rule=\"nonzero\" fill-opacity=\"1\" /><path clip-path=\"url(#clip860)\" d=\"M2429.6 2533.67 L2439.53 2533.67 L2439.53 2535.63 L2431.94 2535.63 L2431.94 2540.73 L2438.79 2540.73 L2438.79 2542.69 L2431.94 2542.69 L2431.94 2550.95 L2429.6 2550.95 L2429.6 2533.67 Z\" fill=\"#000000\" fill-rule=\"nonzero\" fill-opacity=\"1\" /><path clip-path=\"url(#clip860)\" d=\"M2443.14 2532.94 L2445.27 2532.94 L2445.27 2550.95 L2443.14 2550.95 L2443.14 2532.94 Z\" fill=\"#000000\" fill-rule=\"nonzero\" fill-opacity=\"1\" /><path clip-path=\"url(#clip860)\" d=\"M2454.75 2539.48 Q2453.04 2539.48 2452.04 2540.82 Q2451.05 2542.15 2451.05 2544.48 Q2451.05 2546.8 2452.03 2548.15 Q2453.03 2549.48 2454.75 2549.48 Q2456.45 2549.48 2457.45 2548.13 Q2458.44 2546.79 2458.44 2544.48 Q2458.44 2542.17 2457.45 2540.83 Q2456.45 2539.48 2454.75 2539.48 M2454.75 2537.67 Q2457.53 2537.67 2459.11 2539.48 Q2460.7 2541.28 2460.7 2544.48 Q2460.7 2547.66 2459.11 2549.48 Q2457.53 2551.28 2454.75 2551.28 Q2451.96 2551.28 2450.37 2549.48 Q2448.8 2547.66 2448.8 2544.48 Q2448.8 2541.28 2450.37 2539.48 Q2451.96 2537.67 2454.75 2537.67 Z\" fill=\"#000000\" fill-rule=\"nonzero\" fill-opacity=\"1\" /><path clip-path=\"url(#clip860)\" d=\"M2470.12 2544.43 Q2467.54 2544.43 2466.54 2545.02 Q2465.55 2545.61 2465.55 2547.03 Q2465.55 2548.17 2466.29 2548.84 Q2467.04 2549.5 2468.33 2549.5 Q2470.1 2549.5 2471.16 2548.25 Q2472.24 2546.99 2472.24 2544.91 L2472.24 2544.43 L2470.12 2544.43 M2474.37 2543.55 L2474.37 2550.95 L2472.24 2550.95 L2472.24 2548.98 Q2471.51 2550.16 2470.42 2550.73 Q2469.33 2551.28 2467.76 2551.28 Q2465.77 2551.28 2464.59 2550.17 Q2463.42 2549.05 2463.42 2547.17 Q2463.42 2544.99 2464.88 2543.88 Q2466.35 2542.76 2469.25 2542.76 L2472.24 2542.76 L2472.24 2542.56 Q2472.24 2541.09 2471.27 2540.29 Q2470.31 2539.48 2468.56 2539.48 Q2467.45 2539.48 2466.39 2539.74 Q2465.34 2540.01 2464.37 2540.54 L2464.37 2538.57 Q2465.54 2538.12 2466.64 2537.9 Q2467.74 2537.67 2468.78 2537.67 Q2471.59 2537.67 2472.98 2539.13 Q2474.37 2540.59 2474.37 2543.55 Z\" fill=\"#000000\" fill-rule=\"nonzero\" fill-opacity=\"1\" /><path clip-path=\"url(#clip860)\" d=\"M2480.86 2534.3 L2480.86 2537.98 L2485.25 2537.98 L2485.25 2539.64 L2480.86 2539.64 L2480.86 2546.68 Q2480.86 2548.26 2481.29 2548.71 Q2481.73 2549.16 2483.06 2549.16 L2485.25 2549.16 L2485.25 2550.95 L2483.06 2550.95 Q2480.59 2550.95 2479.66 2550.03 Q2478.72 2549.11 2478.72 2546.68 L2478.72 2539.64 L2477.16 2539.64 L2477.16 2537.98 L2478.72 2537.98 L2478.72 2534.3 L2480.86 2534.3 Z\" fill=\"#000000\" fill-rule=\"nonzero\" fill-opacity=\"1\" /><path clip-path=\"url(#clip860)\" d=\"M3607.54 2999.74 L3607.54 3006.07 L3611.29 3006.07 Q3613.17 3006.07 3614.08 3005.3 Q3614.99 3004.51 3614.99 3002.9 Q3614.99 3001.28 3614.08 3000.52 Q3613.17 2999.74 3611.29 2999.74 L3607.54 2999.74 M3607.54 2992.64 L3607.54 2997.85 L3611 2997.85 Q3612.71 2997.85 3613.54 2997.21 Q3614.39 2996.56 3614.39 2995.24 Q3614.39 2993.93 3613.54 2993.29 Q3612.71 2992.64 3611 2992.64 L3607.54 2992.64 M3605.2 2990.72 L3611.17 2990.72 Q3613.84 2990.72 3615.29 2991.83 Q3616.74 2992.94 3616.74 2994.99 Q3616.74 2996.57 3616 2997.51 Q3615.26 2998.45 3613.82 2998.68 Q3615.55 2999.05 3616.49 3000.23 Q3617.45 3001.4 3617.45 3003.16 Q3617.45 3005.47 3615.88 3006.73 Q3614.31 3008 3611.4 3008 L3605.2 3008 L3605.2 2990.72 Z\" fill=\"#000000\" fill-rule=\"nonzero\" fill-opacity=\"1\" /><path clip-path=\"url(#clip860)\" d=\"M3621.37 2995.03 L3623.5 2995.03 L3623.5 3008 L3621.37 3008 L3621.37 2995.03 M3621.37 2989.99 L3623.5 2989.99 L3623.5 2992.68 L3621.37 2992.68 L3621.37 2989.99 Z\" fill=\"#000000\" fill-rule=\"nonzero\" fill-opacity=\"1\" /><path clip-path=\"url(#clip860)\" d=\"M3636.48 3001.36 Q3636.48 2999.05 3635.52 2997.78 Q3634.57 2996.5 3632.85 2996.5 Q3631.14 2996.5 3630.17 2997.78 Q3629.23 2999.05 3629.23 3001.36 Q3629.23 3003.67 3630.17 3004.94 Q3631.14 3006.21 3632.85 3006.21 Q3634.57 3006.21 3635.52 3004.94 Q3636.48 3003.67 3636.48 3001.36 M3638.61 3006.39 Q3638.61 3009.7 3637.14 3011.31 Q3635.67 3012.93 3632.64 3012.93 Q3631.52 3012.93 3630.52 3012.75 Q3629.53 3012.59 3628.59 3012.24 L3628.59 3010.17 Q3629.53 3010.68 3630.44 3010.92 Q3631.36 3011.17 3632.3 3011.17 Q3634.4 3011.17 3635.44 3010.07 Q3636.48 3008.98 3636.48 3006.77 L3636.48 3005.72 Q3635.82 3006.86 3634.79 3007.43 Q3633.76 3008 3632.33 3008 Q3629.94 3008 3628.48 3006.18 Q3627.03 3004.36 3627.03 3001.36 Q3627.03 2998.35 3628.48 2996.54 Q3629.94 2994.72 3632.33 2994.72 Q3633.76 2994.72 3634.79 2995.29 Q3635.82 2995.85 3636.48 2997 L3636.48 2995.03 L3638.61 2995.03 L3638.61 3006.39 Z\" fill=\"#000000\" fill-rule=\"nonzero\" fill-opacity=\"1\" /><path clip-path=\"url(#clip860)\" d=\"M3643.09 2990.72 L3653.02 2990.72 L3653.02 2992.68 L3645.43 2992.68 L3645.43 2997.78 L3652.28 2997.78 L3652.28 2999.74 L3645.43 2999.74 L3645.43 3008 L3643.09 3008 L3643.09 2990.72 Z\" fill=\"#000000\" fill-rule=\"nonzero\" fill-opacity=\"1\" /><path clip-path=\"url(#clip860)\" d=\"M3656.63 2989.99 L3658.76 2989.99 L3658.76 3008 L3656.63 3008 L3656.63 2989.99 Z\" fill=\"#000000\" fill-rule=\"nonzero\" fill-opacity=\"1\" /><path clip-path=\"url(#clip860)\" d=\"M3668.24 2996.53 Q3666.53 2996.53 3665.53 2997.87 Q3664.54 2999.2 3664.54 3001.53 Q3664.54 3003.85 3665.52 3005.2 Q3666.52 3006.53 3668.24 3006.53 Q3669.94 3006.53 3670.94 3005.18 Q3671.93 3003.84 3671.93 3001.53 Q3671.93 2999.22 3670.94 2997.88 Q3669.94 2996.53 3668.24 2996.53 M3668.24 2994.72 Q3671.02 2994.72 3672.6 2996.53 Q3674.19 2998.33 3674.19 3001.53 Q3674.19 3004.71 3672.6 3006.53 Q3671.02 3008.33 3668.24 3008.33 Q3665.45 3008.33 3663.87 3006.53 Q3662.29 3004.71 3662.29 3001.53 Q3662.29 2998.33 3663.87 2996.53 Q3665.45 2994.72 3668.24 2994.72 Z\" fill=\"#000000\" fill-rule=\"nonzero\" fill-opacity=\"1\" /><path clip-path=\"url(#clip860)\" d=\"M3683.61 3001.48 Q3681.03 3001.48 3680.04 3002.07 Q3679.04 3002.66 3679.04 3004.08 Q3679.04 3005.22 3679.78 3005.89 Q3680.53 3006.55 3681.82 3006.55 Q3683.59 3006.55 3684.65 3005.3 Q3685.73 3004.04 3685.73 3001.95 L3685.73 3001.48 L3683.61 3001.48 M3687.86 3000.6 L3687.86 3008 L3685.73 3008 L3685.73 3006.03 Q3685 3007.21 3683.91 3007.78 Q3682.82 3008.33 3681.25 3008.33 Q3679.26 3008.33 3678.08 3007.22 Q3676.91 3006.1 3676.91 3004.22 Q3676.91 3002.04 3678.37 3000.92 Q3679.84 2999.81 3682.74 2999.81 L3685.73 2999.81 L3685.73 2999.6 Q3685.73 2998.13 3684.76 2997.34 Q3683.8 2996.53 3682.05 2996.53 Q3680.94 2996.53 3679.89 2996.79 Q3678.83 2997.06 3677.86 2997.59 L3677.86 2995.62 Q3679.03 2995.17 3680.13 2994.95 Q3681.23 2994.72 3682.27 2994.72 Q3685.08 2994.72 3686.47 2996.18 Q3687.86 2997.64 3687.86 3000.6 Z\" fill=\"#000000\" fill-rule=\"nonzero\" fill-opacity=\"1\" /><path clip-path=\"url(#clip860)\" d=\"M3694.35 2991.35 L3694.35 2995.03 L3698.74 2995.03 L3698.74 2996.69 L3694.35 2996.69 L3694.35 3003.73 Q3694.35 3005.31 3694.78 3005.76 Q3695.22 3006.21 3696.55 3006.21 L3698.74 3006.21 L3698.74 3008 L3696.55 3008 Q3694.09 3008 3693.15 3007.08 Q3692.21 3006.16 3692.21 3003.73 L3692.21 2996.69 L3690.65 2996.69 L3690.65 2995.03 L3692.21 2995.03 L3692.21 2991.35 L3694.35 2991.35 Z\" fill=\"#000000\" fill-rule=\"nonzero\" fill-opacity=\"1\" /><path clip-path=\"url(#clip860)\" d=\"M1105.59 2894.75 L1115.52 2894.75 L1115.52 2896.71 L1107.93 2896.71 L1107.93 2901.81 L1114.78 2901.81 L1114.78 2903.77 L1107.93 2903.77 L1107.93 2912.03 L1105.59 2912.03 L1105.59 2894.75 Z\" fill=\"#000000\" fill-rule=\"nonzero\" fill-opacity=\"1\" /><path clip-path=\"url(#clip860)\" d=\"M1119.13 2894.02 L1121.26 2894.02 L1121.26 2912.03 L1119.13 2912.03 L1119.13 2894.02 Z\" fill=\"#000000\" fill-rule=\"nonzero\" fill-opacity=\"1\" /><path clip-path=\"url(#clip860)\" d=\"M1130.74 2900.56 Q1129.03 2900.56 1128.03 2901.9 Q1127.04 2903.23 1127.04 2905.56 Q1127.04 2907.88 1128.02 2909.22 Q1129.02 2910.56 1130.74 2910.56 Q1132.44 2910.56 1133.44 2909.21 Q1134.43 2907.87 1134.43 2905.56 Q1134.43 2903.25 1133.44 2901.91 Q1132.44 2900.56 1130.74 2900.56 M1130.74 2898.75 Q1133.52 2898.75 1135.1 2900.56 Q1136.69 2902.36 1136.69 2905.56 Q1136.69 2908.74 1135.1 2910.56 Q1133.52 2912.36 1130.74 2912.36 Q1127.95 2912.36 1126.36 2910.56 Q1124.79 2908.74 1124.79 2905.56 Q1124.79 2902.36 1126.36 2900.56 Q1127.95 2898.75 1130.74 2898.75 Z\" fill=\"#000000\" fill-rule=\"nonzero\" fill-opacity=\"1\" /><path clip-path=\"url(#clip860)\" d=\"M1146.11 2905.51 Q1143.53 2905.51 1142.53 2906.1 Q1141.54 2906.69 1141.54 2908.11 Q1141.54 2909.25 1142.28 2909.92 Q1143.03 2910.58 1144.32 2910.58 Q1146.09 2910.58 1147.15 2909.33 Q1148.23 2908.07 1148.23 2905.98 L1148.23 2905.51 L1146.11 2905.51 M1150.36 2904.63 L1150.36 2912.03 L1148.23 2912.03 L1148.23 2910.06 Q1147.5 2911.24 1146.41 2911.81 Q1145.32 2912.36 1143.75 2912.36 Q1141.76 2912.36 1140.58 2911.25 Q1139.41 2910.13 1139.41 2908.25 Q1139.41 2906.07 1140.87 2904.95 Q1142.34 2903.84 1145.24 2903.84 L1148.23 2903.84 L1148.23 2903.63 Q1148.23 2902.16 1147.26 2901.37 Q1146.3 2900.56 1144.55 2900.56 Q1143.44 2900.56 1142.38 2900.82 Q1141.33 2901.09 1140.36 2901.62 L1140.36 2899.65 Q1141.53 2899.2 1142.63 2898.98 Q1143.73 2898.75 1144.77 2898.75 Q1147.58 2898.75 1148.97 2900.21 Q1150.36 2901.67 1150.36 2904.63 Z\" fill=\"#000000\" fill-rule=\"nonzero\" fill-opacity=\"1\" /><path clip-path=\"url(#clip860)\" d=\"M1156.85 2895.38 L1156.85 2899.06 L1161.24 2899.06 L1161.24 2900.72 L1156.85 2900.72 L1156.85 2907.75 Q1156.85 2909.34 1157.28 2909.79 Q1157.72 2910.24 1159.05 2910.24 L1161.24 2910.24 L1161.24 2912.03 L1159.05 2912.03 Q1156.58 2912.03 1155.65 2911.11 Q1154.71 2910.19 1154.71 2907.75 L1154.71 2900.72 L1153.15 2900.72 L1153.15 2899.06 L1154.71 2899.06 L1154.71 2895.38 L1156.85 2895.38 Z\" fill=\"#000000\" fill-rule=\"nonzero\" fill-opacity=\"1\" /><path clip-path=\"url(#clip860)\" d=\"M1164.74 2910.06 L1168.56 2910.06 L1168.56 2896.88 L1164.41 2897.71 L1164.41 2895.58 L1168.54 2894.75 L1170.88 2894.75 L1170.88 2910.06 L1174.7 2910.06 L1174.7 2912.03 L1164.74 2912.03 L1164.74 2910.06 Z\" fill=\"#000000\" fill-rule=\"nonzero\" fill-opacity=\"1\" /><path clip-path=\"url(#clip860)\" d=\"M1184.71 2902.45 Q1183.14 2902.45 1182.21 2903.53 Q1181.3 2904.61 1181.3 2906.48 Q1181.3 2908.35 1182.21 2909.43 Q1183.14 2910.51 1184.71 2910.51 Q1186.28 2910.51 1187.2 2909.43 Q1188.12 2908.35 1188.12 2906.48 Q1188.12 2904.61 1187.2 2903.53 Q1186.28 2902.45 1184.71 2902.45 M1189.35 2895.13 L1189.35 2897.26 Q1188.47 2896.84 1187.57 2896.62 Q1186.68 2896.4 1185.8 2896.4 Q1183.48 2896.4 1182.26 2897.96 Q1181.04 2899.53 1180.87 2902.69 Q1181.55 2901.68 1182.58 2901.15 Q1183.61 2900.6 1184.85 2900.6 Q1187.45 2900.6 1188.96 2902.19 Q1190.47 2903.76 1190.47 2906.48 Q1190.47 2909.14 1188.9 2910.75 Q1187.33 2912.36 1184.71 2912.36 Q1181.71 2912.36 1180.13 2910.07 Q1178.54 2907.77 1178.54 2903.4 Q1178.54 2899.31 1180.49 2896.88 Q1182.43 2894.43 1185.7 2894.43 Q1186.58 2894.43 1187.48 2894.61 Q1188.38 2894.78 1189.35 2895.13 Z\" fill=\"#000000\" fill-rule=\"nonzero\" fill-opacity=\"1\" /><path clip-path=\"url(#clip860)\" d=\"M1804.85 3043.33 L1814.78 3043.33 L1814.78 3045.3 L1807.19 3045.3 L1807.19 3050.39 L1814.04 3050.39 L1814.04 3052.36 L1807.19 3052.36 L1807.19 3060.61 L1804.85 3060.61 L1804.85 3043.33 Z\" fill=\"#000000\" fill-rule=\"nonzero\" fill-opacity=\"1\" /><path clip-path=\"url(#clip860)\" d=\"M1818.4 3042.6 L1820.53 3042.6 L1820.53 3060.61 L1818.4 3060.61 L1818.4 3042.6 Z\" fill=\"#000000\" fill-rule=\"nonzero\" fill-opacity=\"1\" /><path clip-path=\"url(#clip860)\" d=\"M1830 3049.14 Q1828.29 3049.14 1827.3 3050.48 Q1826.3 3051.81 1826.3 3054.14 Q1826.3 3056.47 1827.28 3057.81 Q1828.28 3059.14 1830 3059.14 Q1831.71 3059.14 1832.7 3057.8 Q1833.7 3056.45 1833.7 3054.14 Q1833.7 3051.84 1832.7 3050.49 Q1831.71 3049.14 1830 3049.14 M1830 3047.33 Q1832.78 3047.33 1834.37 3049.14 Q1835.95 3050.94 1835.95 3054.14 Q1835.95 3057.32 1834.37 3059.14 Q1832.78 3060.94 1830 3060.94 Q1827.22 3060.94 1825.63 3059.14 Q1824.06 3057.32 1824.06 3054.14 Q1824.06 3050.94 1825.63 3049.14 Q1827.22 3047.33 1830 3047.33 Z\" fill=\"#000000\" fill-rule=\"nonzero\" fill-opacity=\"1\" /><path clip-path=\"url(#clip860)\" d=\"M1845.37 3054.09 Q1842.79 3054.09 1841.8 3054.68 Q1840.8 3055.27 1840.8 3056.7 Q1840.8 3057.83 1841.54 3058.5 Q1842.3 3059.16 1843.58 3059.16 Q1845.35 3059.16 1846.42 3057.91 Q1847.49 3056.65 1847.49 3054.57 L1847.49 3054.09 L1845.37 3054.09 M1849.62 3053.21 L1849.62 3060.61 L1847.49 3060.61 L1847.49 3058.64 Q1846.76 3059.82 1845.68 3060.39 Q1844.59 3060.94 1843.01 3060.94 Q1841.02 3060.94 1839.84 3059.83 Q1838.67 3058.71 1838.67 3056.84 Q1838.67 3054.65 1840.13 3053.54 Q1841.6 3052.43 1844.51 3052.43 L1847.49 3052.43 L1847.49 3052.22 Q1847.49 3050.75 1846.52 3049.95 Q1845.56 3049.14 1843.81 3049.14 Q1842.7 3049.14 1841.65 3049.4 Q1840.59 3049.67 1839.62 3050.2 L1839.62 3048.24 Q1840.79 3047.78 1841.89 3047.56 Q1842.99 3047.33 1844.03 3047.33 Q1846.84 3047.33 1848.23 3048.79 Q1849.62 3050.25 1849.62 3053.21 Z\" fill=\"#000000\" fill-rule=\"nonzero\" fill-opacity=\"1\" /><path clip-path=\"url(#clip860)\" d=\"M1856.12 3043.97 L1856.12 3047.65 L1860.5 3047.65 L1860.5 3049.3 L1856.12 3049.3 L1856.12 3056.34 Q1856.12 3057.92 1856.54 3058.37 Q1856.98 3058.83 1858.31 3058.83 L1860.5 3058.83 L1860.5 3060.61 L1858.31 3060.61 Q1855.85 3060.61 1854.91 3059.69 Q1853.97 3058.77 1853.97 3056.34 L1853.97 3049.3 L1852.41 3049.3 L1852.41 3047.65 L1853.97 3047.65 L1853.97 3043.97 L1856.12 3043.97 Z\" fill=\"#000000\" fill-rule=\"nonzero\" fill-opacity=\"1\" /><path clip-path=\"url(#clip860)\" d=\"M1870.69 3051.29 Q1872.37 3051.65 1873.3 3052.78 Q1874.25 3053.92 1874.25 3055.59 Q1874.25 3058.14 1872.49 3059.54 Q1870.73 3060.94 1867.49 3060.94 Q1866.4 3060.94 1865.25 3060.72 Q1864.1 3060.52 1862.87 3060.09 L1862.87 3057.83 Q1863.85 3058.4 1865 3058.69 Q1866.16 3058.98 1867.42 3058.98 Q1869.62 3058.98 1870.77 3058.11 Q1871.93 3057.24 1871.93 3055.59 Q1871.93 3054.06 1870.85 3053.2 Q1869.78 3052.33 1867.87 3052.33 L1865.86 3052.33 L1865.86 3050.41 L1867.97 3050.41 Q1869.69 3050.41 1870.61 3049.73 Q1871.52 3049.03 1871.52 3047.74 Q1871.52 3046.41 1870.57 3045.7 Q1869.63 3044.98 1867.87 3044.98 Q1866.91 3044.98 1865.81 3045.19 Q1864.71 3045.4 1863.4 3045.84 L1863.4 3043.76 Q1864.73 3043.39 1865.88 3043.2 Q1867.05 3043.02 1868.08 3043.02 Q1870.74 3043.02 1872.3 3044.23 Q1873.85 3045.43 1873.85 3047.5 Q1873.85 3048.93 1873.02 3049.93 Q1872.2 3050.91 1870.69 3051.29 Z\" fill=\"#000000\" fill-rule=\"nonzero\" fill-opacity=\"1\" /><path clip-path=\"url(#clip860)\" d=\"M1880.7 3058.64 L1888.86 3058.64 L1888.86 3060.61 L1877.89 3060.61 L1877.89 3058.64 Q1879.22 3057.26 1881.51 3054.95 Q1883.81 3052.62 1884.4 3051.95 Q1885.52 3050.69 1885.96 3049.82 Q1886.42 3048.94 1886.42 3048.1 Q1886.42 3046.72 1885.44 3045.85 Q1884.48 3044.98 1882.93 3044.98 Q1881.83 3044.98 1880.61 3045.37 Q1879.39 3045.75 1878 3046.52 L1878 3044.16 Q1879.41 3043.59 1880.64 3043.31 Q1881.87 3043.02 1882.89 3043.02 Q1885.57 3043.02 1887.17 3044.36 Q1888.77 3045.7 1888.77 3047.95 Q1888.77 3049.01 1888.36 3049.97 Q1887.97 3050.92 1886.91 3052.22 Q1886.62 3052.55 1885.07 3054.16 Q1883.52 3055.76 1880.7 3058.64 Z\" fill=\"#000000\" fill-rule=\"nonzero\" fill-opacity=\"1\" /><path clip-path=\"url(#clip860)\" d=\"M2960.68 2974.92 L2970.61 2974.92 L2970.61 2976.89 L2963.02 2976.89 L2963.02 2981.98 L2969.87 2981.98 L2969.87 2983.95 L2963.02 2983.95 L2963.02 2992.2 L2960.68 2992.2 L2960.68 2974.92 Z\" fill=\"#000000\" fill-rule=\"nonzero\" fill-opacity=\"1\" /><path clip-path=\"url(#clip860)\" d=\"M2974.22 2974.19 L2976.35 2974.19 L2976.35 2992.2 L2974.22 2992.2 L2974.22 2974.19 Z\" fill=\"#000000\" fill-rule=\"nonzero\" fill-opacity=\"1\" /><path clip-path=\"url(#clip860)\" d=\"M2985.83 2980.73 Q2984.12 2980.73 2983.12 2982.07 Q2982.13 2983.4 2982.13 2985.73 Q2982.13 2988.05 2983.11 2989.4 Q2984.11 2990.73 2985.83 2990.73 Q2987.53 2990.73 2988.53 2989.38 Q2989.53 2988.04 2989.53 2985.73 Q2989.53 2983.42 2988.53 2982.08 Q2987.53 2980.73 2985.83 2980.73 M2985.83 2978.92 Q2988.61 2978.92 2990.2 2980.73 Q2991.78 2982.53 2991.78 2985.73 Q2991.78 2988.91 2990.2 2990.73 Q2988.61 2992.53 2985.83 2992.53 Q2983.04 2992.53 2981.46 2990.73 Q2979.88 2988.91 2979.88 2985.73 Q2979.88 2982.53 2981.46 2980.73 Q2983.04 2978.92 2985.83 2978.92 Z\" fill=\"#000000\" fill-rule=\"nonzero\" fill-opacity=\"1\" /><path clip-path=\"url(#clip860)\" d=\"M3001.2 2985.68 Q2998.62 2985.68 2997.63 2986.27 Q2996.63 2986.86 2996.63 2988.29 Q2996.63 2989.42 2997.37 2990.09 Q2998.12 2990.75 2999.41 2990.75 Q3001.18 2990.75 3002.25 2989.5 Q3003.32 2988.24 3003.32 2986.16 L3003.32 2985.68 L3001.2 2985.68 M3005.45 2984.8 L3005.45 2992.2 L3003.32 2992.2 L3003.32 2990.23 Q3002.59 2991.41 3001.5 2991.98 Q3000.42 2992.53 2998.84 2992.53 Q2996.85 2992.53 2995.67 2991.42 Q2994.5 2990.3 2994.5 2988.42 Q2994.5 2986.24 2995.96 2985.13 Q2997.43 2984.01 3000.34 2984.01 L3003.32 2984.01 L3003.32 2983.81 Q3003.32 2982.34 3002.35 2981.54 Q3001.39 2980.73 2999.64 2980.73 Q2998.53 2980.73 2997.48 2980.99 Q2996.42 2981.26 2995.45 2981.79 L2995.45 2979.82 Q2996.62 2979.37 2997.72 2979.15 Q2998.82 2978.92 2999.86 2978.92 Q3002.67 2978.92 3004.06 2980.38 Q3005.45 2981.84 3005.45 2984.8 Z\" fill=\"#000000\" fill-rule=\"nonzero\" fill-opacity=\"1\" /><path clip-path=\"url(#clip860)\" d=\"M3011.94 2975.55 L3011.94 2979.23 L3016.33 2979.23 L3016.33 2980.89 L3011.94 2980.89 L3011.94 2987.93 Q3011.94 2989.51 3012.37 2989.96 Q3012.81 2990.42 3014.14 2990.42 L3016.33 2990.42 L3016.33 2992.2 L3014.14 2992.2 Q3011.68 2992.2 3010.74 2991.28 Q3009.8 2990.36 3009.8 2987.93 L3009.8 2980.89 L3008.24 2980.89 L3008.24 2979.23 L3009.8 2979.23 L3009.8 2975.55 L3011.94 2975.55 Z\" fill=\"#000000\" fill-rule=\"nonzero\" fill-opacity=\"1\" /><path clip-path=\"url(#clip860)\" d=\"M3024.72 2982.63 Q3023.15 2982.63 3022.22 2983.7 Q3021.31 2984.78 3021.31 2986.65 Q3021.31 2988.52 3022.22 2989.6 Q3023.15 2990.68 3024.72 2990.68 Q3026.3 2990.68 3027.21 2989.6 Q3028.14 2988.52 3028.14 2986.65 Q3028.14 2984.78 3027.21 2983.7 Q3026.3 2982.63 3024.72 2982.63 M3029.36 2975.3 L3029.36 2977.43 Q3028.48 2977.01 3027.58 2976.79 Q3026.69 2976.57 3025.81 2976.57 Q3023.5 2976.57 3022.27 2978.14 Q3021.05 2979.7 3020.88 2982.86 Q3021.56 2981.85 3022.59 2981.32 Q3023.62 2980.77 3024.86 2980.77 Q3027.46 2980.77 3028.97 2982.36 Q3030.49 2983.93 3030.49 2986.65 Q3030.49 2989.32 3028.91 2990.92 Q3027.34 2992.53 3024.72 2992.53 Q3021.72 2992.53 3020.14 2990.24 Q3018.55 2987.94 3018.55 2983.57 Q3018.55 2979.48 3020.5 2977.05 Q3022.44 2974.6 3025.72 2974.6 Q3026.6 2974.6 3027.49 2974.78 Q3028.39 2974.95 3029.36 2975.3 Z\" fill=\"#000000\" fill-rule=\"nonzero\" fill-opacity=\"1\" /><path clip-path=\"url(#clip860)\" d=\"M3040.94 2976.95 L3035.03 2986.18 L3040.94 2986.18 L3040.94 2976.95 M3040.32 2974.92 L3043.26 2974.92 L3043.26 2986.18 L3045.73 2986.18 L3045.73 2988.12 L3043.26 2988.12 L3043.26 2992.2 L3040.94 2992.2 L3040.94 2988.12 L3033.14 2988.12 L3033.14 2985.87 L3040.32 2974.92 Z\" fill=\"#000000\" fill-rule=\"nonzero\" fill-opacity=\"1\" /></svg>\n"
      ]
     },
     "execution_count": 18,
     "metadata": {},
     "output_type": "execute_result"
    }
   ],
   "source": [
    "using GraphRecipes, Plots\n",
    "\n",
    "#pyplot(size=(800, 600))\n",
    "gr()\n",
    "theme(:default)\n",
    "\n",
    "plot(AbstractFloat, method = :tree, fontsize = 4)\n",
    "plot!(size = (1200, 900))"
   ]
  },
  {
   "cell_type": "markdown",
   "metadata": {},
   "source": [
    "### Double precision (Float64)\n",
    "\n",
    "<img src=\"./double-precision-numbers.png\" width=\"500\" align=\"center\"/>\n",
    "\n",
    "- Double precision (64 bits = 8 bytes) numbers are the dominant data type in scientific computing.\n",
    "      \n",
    "- In Julia, `Float64` is the type for double precision numbers.    \n",
    "\n",
    "- First bit is sign bit.  \n",
    "\n",
    "- $p=52$ significant bits.\n",
    "\n",
    "- 11 exponent bits: $e_{\\max}=1023$, $e_{\\min}=-1022$, **bias**=1023.  \n",
    "\n",
    "- $e_{\\text{min}}-1$ and $e_{\\text{max}}+1$ are reserved for special numbers.  \n",
    "\n",
    "- range of **magnitude**: $10^{\\pm 308}$ in decimal because $\\log_{10} (2^{1023}) \\approx 308$.  \n",
    "\n",
    "- **precision** to the $- \\log_{10}(2^{-52}) \\approx 15$ decimal point."
   ]
  },
  {
   "cell_type": "code",
   "execution_count": 19,
   "metadata": {
    "tags": []
   },
   "outputs": [
    {
     "name": "stdout",
     "output_type": "stream",
     "text": [
      "Double precision:\n",
      "bitstring(Float64(18)) = \"0100000000110010000000000000000000000000000000000000000000000000\"\n",
      "bitstring(Float64(-18)) = \"1100000000110010000000000000000000000000000000000000000000000000\"\n"
     ]
    }
   ],
   "source": [
    "println(\"Double precision:\")\n",
    "@show bitstring(Float64(18)) # 18 in double precision\n",
    "@show bitstring(Float64(-18)); # -18 in double precision"
   ]
  },
  {
   "cell_type": "markdown",
   "metadata": {},
   "source": [
    "### Single precision (Float32)\n",
    "\n",
    "<img src=\"./single-precision-numbers.png\" width=\"500\" align=\"center\"/>\n",
    "\n",
    "- In Julia, `Float32` is the type for single precision numbers.  \n",
    "\n",
    "- First bit is sign bit.  \n",
    "\n",
    "- $p=23$ significant bits.  \n",
    "\n",
    "- 8 exponent bits: $e_{\\max}=127$, $e_{\\min}=-126$, **bias**=127.  \n",
    "\n",
    "- $e_{\\text{min}}-1$ and $e_{\\text{max}}+1$ are reserved for special numbers.  \n",
    "\n",
    "- range of **magnitude**: $10^{\\pm 38}$ in decimal because $\\log_{10} (2^{127}) \\approx 38$.\n",
    "\n",
    "- **precision**: $- \\log_{10}(2^{-23}) \\approx 7$ decimal point.  "
   ]
  },
  {
   "cell_type": "code",
   "execution_count": 20,
   "metadata": {
    "tags": []
   },
   "outputs": [
    {
     "name": "stdout",
     "output_type": "stream",
     "text": [
      "Single precision:\n",
      "bitstring(Float32(18.0)) = \"01000001100100000000000000000000\"\n",
      "bitstring(Float32(-18.0)) = \"11000001100100000000000000000000\"\n"
     ]
    }
   ],
   "source": [
    "println(\"Single precision:\")\n",
    "@show bitstring(Float32(18.0)) # 18 in single precision\n",
    "@show bitstring(Float32(-18.0)); # -18 in single precision"
   ]
  },
  {
   "cell_type": "markdown",
   "metadata": {},
   "source": [
    "### Half precision (Float16)\n",
    "\n",
    "<img src=\"./half-precision-numbers.png\" width=\"200\" align=\"center\"/>\n",
    "    \n",
    "- In Julia, `Float16` is the type for half precision numbers.\n",
    "\n",
    "- First bit is sign bit.  \n",
    "\n",
    "- $p=10$ significant bits.  \n",
    "\n",
    "- 5 exponent bits: $e_{\\max}=15$, $e_{\\min}=-14$, bias=15.  \n",
    "\n",
    "- $e_{\\text{min}}-1$ and $e_{\\text{max}}+1$ are reserved for special numbers.  \n",
    "\n",
    "- range of **magnitude**: $10^{\\pm 4}$ in decimal because $\\log_{10} (2^{15}) \\approx 4$.  \n",
    "\n",
    "- **precision**: $\\log_{10}(2^{10}) \\approx 3$ decimal point.      "
   ]
  },
  {
   "cell_type": "code",
   "execution_count": 21,
   "metadata": {
    "tags": []
   },
   "outputs": [
    {
     "name": "stdout",
     "output_type": "stream",
     "text": [
      "Half precision:\n",
      "bitstring(Float16(18)) = \"0100110010000000\"\n",
      "bitstring(Float16(-18)) = \"1100110010000000\"\n"
     ]
    }
   ],
   "source": [
    "println(\"Half precision:\")\n",
    "@show bitstring(Float16(18)) # 18 in half precision\n",
    "@show bitstring(Float16(-18)); # -18 in half precision"
   ]
  },
  {
   "cell_type": "markdown",
   "metadata": {},
   "source": [
    "### Special floating-point numbers. \n",
    "\n",
    "- Exponent $e_{\\max}+1$ (exponent bits all 1) plus a zero mantissa means $\\pm \\infty$."
   ]
  },
  {
   "cell_type": "code",
   "execution_count": 22,
   "metadata": {
    "tags": []
   },
   "outputs": [
    {
     "name": "stdout",
     "output_type": "stream",
     "text": [
      "bitstring(Inf) = \"0111111111110000000000000000000000000000000000000000000000000000\"\n",
      "bitstring(-Inf) = \"1111111111110000000000000000000000000000000000000000000000000000\"\n"
     ]
    }
   ],
   "source": [
    "@show bitstring(Inf) # Inf in double precision\n",
    "@show bitstring(-Inf); # -Inf in double precision"
   ]
  },
  {
   "cell_type": "markdown",
   "metadata": {},
   "source": [
    "- Exponent $e_{\\max}+1$ (exponent bits all 1) plus a nonzero mantissa means `NaN`. `NaN` could be produced from `0 / 0`, `0 * Inf`, ...  \n",
    "\n",
    "- In general `NaN ≠ NaN` bitwise. Test whether a number is `NaN` by `isnan` function.  "
   ]
  },
  {
   "cell_type": "code",
   "execution_count": 23,
   "metadata": {
    "tags": []
   },
   "outputs": [
    {
     "name": "stdout",
     "output_type": "stream",
     "text": [
      "bitstring(0 / 0) = \"0111111111111000000000000000000000000000000000000000000000000000\"\n",
      "bitstring(0Inf) = \"0111111111111000000000000000000000000000000000000000000000000000\"\n"
     ]
    }
   ],
   "source": [
    "@show bitstring(0 / 0) # NaN\n",
    "@show bitstring(0 * Inf); # NaN"
   ]
  },
  {
   "cell_type": "markdown",
   "metadata": {},
   "source": [
    "- Exponent $e_{\\min}-1$ (exponent bits all 0) with a zero mantissa represents the real number 0.  "
   ]
  },
  {
   "cell_type": "code",
   "execution_count": 24,
   "metadata": {
    "tags": []
   },
   "outputs": [
    {
     "name": "stdout",
     "output_type": "stream",
     "text": [
      "bitstring(0.0) = \"0000000000000000000000000000000000000000000000000000000000000000\"\n",
      "bitstring(-0.0) = \"1000000000000000000000000000000000000000000000000000000000000000\"\n"
     ]
    }
   ],
   "source": [
    "@show bitstring(0.0) # +0 in double precision \n",
    "@show bitstring(-0.0); # -0 in double precision"
   ]
  },
  {
   "cell_type": "markdown",
   "metadata": {},
   "source": [
    "There are some special rules in IEEE 754 for [signed zeros](https://en.wikipedia.org/wiki/Signed_zero).\n",
    "\n",
    "- Exponent $e_{\\min}-1$ (exponent bits all 0) with a nonzero mantissa are for numbers less than $b^{e_{\\min}}$.  \n",
    "    Numbers are _denormalized_ in the range $(0,b^{e_{\\min}})$ -- **graceful underflow**. "
   ]
  },
  {
   "cell_type": "code",
   "execution_count": 25,
   "metadata": {
    "tags": []
   },
   "outputs": [
    {
     "name": "stdout",
     "output_type": "stream",
     "text": [
      "nextfloat(0.0) = 5.0e-324\n",
      "bitstring(nextfloat(0.0)) = \"0000000000000000000000000000000000000000000000000000000000000001\"\n"
     ]
    }
   ],
   "source": [
    "@show nextfloat(0.0) # next representable number\n",
    "@show bitstring(nextfloat(0.0)); # denormalized"
   ]
  },
  {
   "cell_type": "markdown",
   "metadata": {},
   "source": [
    "### Rounding\n",
    "\n",
    "* Rounding is necessary whenever a number has more than $p$ significand bits. Most computer systems use the default IEEE 754 **round to nearest** mode (also called **ties to even** mode). Julia offers several [rounding modes](https://docs.julialang.org/en/v1/base/math/#Base.Rounding.RoundingMode), the default being [`RoundNearest`](https://docs.julialang.org/en/v1/base/math/#Base.Rounding.RoundNearest). For example, the number 0.1 in decimal system cannot be represented accurately as a floating point number:\n",
    "$$ 0.1 = 1.\\underbrace{1001}_\\text{repeat}\\underbrace{1001}... \\times 2^{-4} $$"
   ]
  },
  {
   "cell_type": "code",
   "execution_count": 26,
   "metadata": {
    "tags": []
   },
   "outputs": [
    {
     "name": "stdout",
     "output_type": "stream",
     "text": [
      "bitstring(Float16(0.1)) = \"0010111001100110\"\n",
      "bitstring(0.1f0) = \"00111101110011001100110011001101\"\n",
      "bitstring(0.1) = \"0011111110111001100110011001100110011001100110011001100110011010\"\n"
     ]
    }
   ],
   "source": [
    "# half precision Float16, ...110(011...) rounds down to 110\n",
    "@show bitstring(Float16(0.1))\n",
    "# single precision Float32, ...100(110...) rounds up to 101\n",
    "@show bitstring(0.1f0) \n",
    "# double precision Float64, ...001(100..) rounds up to 010\n",
    "@show bitstring(0.1);"
   ]
  },
  {
   "cell_type": "markdown",
   "metadata": {},
   "source": [
    "For a number with mantissa ending with ...001(100..., all 0 digits after), it's a tie and will be rounded to ...010 to make the mantissa even.\n",
    "\n",
    "### Summary\n",
    "\n",
    "- **Double precision**: range $\\pm 10^{\\pm 308}$ with precision up to 16 decimal digits.  \n",
    "\n",
    "- **Single precision**: range $\\pm 10^{\\pm 38}$ with precision up to 7 decimal digits.\n",
    "\n",
    "- **Half precision**: range $\\pm 10^{\\pm 4}$ with precision up to 3 decimal digits.\n",
    "\n",
    "- The floating-point numbers do not occur uniformly over the real number line. Each magnitude has same number of representible numbers, except those around 0 (graceful underflow).\n",
    "\n",
    "    <img src=\"http://www.volkerschatz.com/science/pics/fltscale-wh.png\" width=\"700\" align=\"center\"/>\n",
    "        \n",
    "- **Machine epsilons** are the spacings of numbers around 1: \n",
    "    $$\\epsilon_{\\min}=b^{-p}, \\quad  \\epsilon_{\\max} = b^{1-p}.$$\n",
    "    \n",
    "    <img src=\"./machine_epsilons.png\" width=\"500\" align=\"center\"/>"
   ]
  },
  {
   "cell_type": "code",
   "execution_count": 27,
   "metadata": {
    "tags": []
   },
   "outputs": [
    {
     "name": "stdout",
     "output_type": "stream",
     "text": [
      "eps(Float32) = 1.1920929f-7\n",
      "eps(Float64) = 2.220446049250313e-16\n",
      "eps(100.0) = 1.4210854715202004e-14\n",
      "eps(0.0) = 5.0e-324\n",
      "x = 1.25f0 = 1.25f0\n",
      "(prevfloat(x), x, nextfloat(x)) = (1.2499999f0, 1.25f0, 1.2500001f0)\n",
      "(bitstring(prevfloat(x)), bitstring(x), bitstring(nextfloat(x))) = (\"00111111100111111111111111111111\", \"00111111101000000000000000000000\", \"00111111101000000000000000000001\")\n"
     ]
    }
   ],
   "source": [
    "@show eps(Float32)  # machine epsilon for a floating point type\n",
    "@show eps(Float64)  # same as eps()\n",
    "# eps(x) is the spacing after x\n",
    "@show eps(100.0)\n",
    "@show eps(0.0) # grace underflow\n",
    "# nextfloat(x) and prevfloat(x) give the neighbors of x\n",
    "@show x = 1.25f0\n",
    "@show prevfloat(x), x, nextfloat(x)\n",
    "@show bitstring(prevfloat(x)), bitstring(x), bitstring(nextfloat(x));"
   ]
  },
  {
   "cell_type": "markdown",
   "metadata": {},
   "source": [
    "* In R, the variable `.Machine` contains numerical characteristics of the machine."
   ]
  },
  {
   "cell_type": "code",
   "execution_count": 28,
   "metadata": {
    "tags": []
   },
   "outputs": [
    {
     "data": {
      "text/plain": [
       "RObject{VecSxp}\n",
       "$double.eps\n",
       "[1] 2.220446e-16\n",
       "\n",
       "$double.neg.eps\n",
       "[1] 1.110223e-16\n",
       "\n",
       "$double.xmin\n",
       "[1] 2.225074e-308\n",
       "\n",
       "$double.xmax\n",
       "[1] 1.797693e+308\n",
       "\n",
       "$double.base\n",
       "[1] 2\n",
       "\n",
       "$double.digits\n",
       "[1] 53\n",
       "\n",
       "$double.rounding\n",
       "[1] 5\n",
       "\n",
       "$double.guard\n",
       "[1] 0\n",
       "\n",
       "$double.ulp.digits\n",
       "[1] -52\n",
       "\n",
       "$double.neg.ulp.digits\n",
       "[1] -53\n",
       "\n",
       "$double.exponent\n",
       "[1] 11\n",
       "\n",
       "$double.min.exp\n",
       "[1] -1022\n",
       "\n",
       "$double.max.exp\n",
       "[1] 1024\n",
       "\n",
       "$integer.max\n",
       "[1] 2147483647\n",
       "\n",
       "$sizeof.long\n",
       "[1] 8\n",
       "\n",
       "$sizeof.longlong\n",
       "[1] 8\n",
       "\n",
       "$sizeof.longdouble\n",
       "[1] 8\n",
       "\n",
       "$sizeof.pointer\n",
       "[1] 8\n",
       "\n"
      ]
     },
     "execution_count": 28,
     "metadata": {},
     "output_type": "execute_result"
    }
   ],
   "source": [
    "R\"\"\"\n",
    ".Machine\n",
    "\"\"\""
   ]
  },
  {
   "cell_type": "markdown",
   "metadata": {},
   "source": [
    "* Julia provides `Float16` (half precision), `Float32` (single precision), `Float64` (double precision), and `BigFloat` (arbitrary precision).\n",
    "\n",
    "### Overflow and underflow of floating-point number\n",
    "\n",
    "* For double precision, the range is $\\pm 10^{\\pm 308}$. In most situations, underflow (magnitude of result is less than $10^{-308}$) is preferred over overflow (magnitude of result is larger than $10^{308}$). Overflow produces $\\pm \\inf$. Underflow yields zeros or denormalized numbers. \n",
    "\n",
    "* E.g., the logit link function is\n",
    "$$p(x) = \\frac{\\exp (x^T \\beta)}{1 + \\exp (x^T \\beta)} = \\frac{1}{1+\\exp(- x^T \\beta)}.$$\n",
    "The former expression can easily lead to `Inf / Inf = NaN`, while the latter expression leads to graceful underflow.\n",
    "\n",
    "* `floatmin` and `floatmax` functions gives largest and smallest _finite_ number represented by a type."
   ]
  },
  {
   "cell_type": "code",
   "execution_count": 29,
   "metadata": {
    "tags": []
   },
   "outputs": [
    {
     "name": "stdout",
     "output_type": "stream",
     "text": [
      "Float16\t6.104e-5\t6.55e4\t-Inf\tInf\t0.000977\n",
      "Float32\t1.1754944e-38\t3.4028235e38\t-Inf\tInf\t1.1920929e-7\n",
      "Float64\t2.2250738585072014e-308\t1.7976931348623157e308\t-Inf\tInf\t2.220446049250313e-16\n"
     ]
    }
   ],
   "source": [
    "for T in [Float16, Float32, Float64]\n",
    "    println(\n",
    "        T, '\\t', \n",
    "        floatmin(T), '\\t', \n",
    "        floatmax(T), '\\t', \n",
    "        typemin(T),  '\\t', \n",
    "        typemax(T), '\\t', \n",
    "        eps(T)\n",
    "    )\n",
    "end"
   ]
  },
  {
   "cell_type": "markdown",
   "metadata": {},
   "source": [
    "### Arbitrary precision\n",
    "\n",
    "* `BigFloat` in Julia offers arbitrary precision."
   ]
  },
  {
   "cell_type": "code",
   "execution_count": 30,
   "metadata": {
    "tags": []
   },
   "outputs": [
    {
     "name": "stdout",
     "output_type": "stream",
     "text": [
      "precision(BigFloat) = 256\n",
      "floatmin(BigFloat) = 8.50969131174083613912978790962048280567755996982969624908264897850135431080301e-1388255822130839284\n",
      "floatmax(BigFloat) = 5.875653789111587590936911998878442589938516392745498308333779606469323584389875e+1388255822130839282\n"
     ]
    }
   ],
   "source": [
    "@show precision(BigFloat) # default precision (how many bits) of BigFloat\n",
    "@show floatmin(BigFloat)\n",
    "@show floatmax(BigFloat);"
   ]
  },
  {
   "cell_type": "code",
   "execution_count": 31,
   "metadata": {
    "tags": []
   },
   "outputs": [
    {
     "name": "stdout",
     "output_type": "stream",
     "text": [
      "BigFloat(π) = 3.141592653589793238462643383279502884197169399375105820974944592307816406286198\n",
      "BigFloat(π) = 3.141592653589793238462643383279502884197169399375105820974944592307816406286208998628034825342117067982148086513282306647093844609550582231725359408128481117450284102701938521105559644622948954930381964428810975665933446128475648233786783165271201909145648566923460348610454326648213393607260249141273724586997\n"
     ]
    }
   ],
   "source": [
    "@show BigFloat(π); # default precision for BigFloat is 256 bits\n",
    "# set precision to 1024 bits\n",
    "setprecision(BigFloat, 1024) do \n",
    "    @show BigFloat(π)\n",
    "end;"
   ]
  },
  {
   "cell_type": "markdown",
   "metadata": {},
   "source": [
    "## Catastrophic cancellation\n",
    "\n",
    "* **Scenario 1**: Addition or subtraction of two numbers of widely different magnitudes: $a+b$ or $a-b$ where $a \\gg b$ or $a \\ll b$. We loose the precision in the number of smaller magnitude. Consider \n",
    "$$\\begin{eqnarray*}\n",
    "    a &=& x.xxx ... \\times 2^{30} \\\\  \n",
    "    b &=& y.yyy... \\times 2^{-30}\n",
    "\\end{eqnarray*}$$\n",
    "What happens when computer calculates $a+b$? We get $a+b=a$!"
   ]
  },
  {
   "cell_type": "code",
   "execution_count": 32,
   "metadata": {
    "tags": []
   },
   "outputs": [
    {
     "name": "stdout",
     "output_type": "stream",
     "text": [
      "a = 2.0 ^ 30 = 1.073741824e9\n",
      "b = 2.0 ^ -30 = 9.313225746154785e-10\n",
      "a + b == a = true\n"
     ]
    },
    {
     "data": {
      "text/plain": [
       "true"
      ]
     },
     "execution_count": 32,
     "metadata": {},
     "output_type": "execute_result"
    }
   ],
   "source": [
    "@show a = 2.0^30\n",
    "@show b = 2.0^-30\n",
    "@show a + b == a"
   ]
  },
  {
   "cell_type": "markdown",
   "metadata": {},
   "source": [
    "* **Scenario 2**: Subtraction of two nearly equal numbers eliminates significant digits.  $a-b$ where $a \\approx b$. Consider \n",
    "$$\\begin{eqnarray*}\n",
    "    a &=& x.xxxxxxxxxx1ssss  \\\\\n",
    "    b &=& x.xxxxxxxxxx0tttt\n",
    "\\end{eqnarray*}$$\n",
    "The result is $1.vvvvu...u$ where $u$ are unassigned digits."
   ]
  },
  {
   "cell_type": "code",
   "execution_count": 33,
   "metadata": {
    "tags": []
   },
   "outputs": [
    {
     "name": "stdout",
     "output_type": "stream",
     "text": [
      "bitstring(a) = \"00111111100111100000011001010001\"\n",
      "bitstring(b) = \"00111111100111100000011001010000\"\n",
      "a - b = 1.1920929f-7\n"
     ]
    },
    {
     "data": {
      "text/plain": [
       "1.1920929f-7"
      ]
     },
     "execution_count": 33,
     "metadata": {},
     "output_type": "execute_result"
    }
   ],
   "source": [
    "a = 1.2345678f0 # rounding\n",
    "@show bitstring(a) # rounding\n",
    "b = 1.2345677f0\n",
    "@show bitstring(b)\n",
    "# correct result should be 1e-7\n",
    "# we see big error due to catastrophic cancellation\n",
    "@show a - b "
   ]
  },
  {
   "cell_type": "markdown",
   "metadata": {},
   "source": [
    "* Implications for numerical computation\n",
    "    - Rule 1: add small numbers together before adding larger ones  \n",
    "    - Rule 2: add numbers of like magnitude together (paring). When all numbers are of same sign and similar magnitude, add in pairs so each stage the summands are of similar magnitude  \n",
    "    - Rule 3: avoid substraction of two numbers that are nearly equal\n",
    "\n",
    "### Algebraic laws\n",
    "\n",
    "Floating-point numbers may violate many algebraic laws we are familiar with, such as the associative and distributive laws. See Homework 1 problems.\n",
    "\n",
    "## Further reading\n",
    "\n",
    "* Textbook treatment, e.g., Chapter II.2 of [Computational Statistics](http://ucla.worldcat.org/title/computational-statistics/oclc/437345409&referer=brief_results) by James Gentle (2010).\n",
    "\n",
    "* [What every computer scientist should know about floating-point arithmetic](https://ucla-biostat-257.github.io/2023spring/readings/Goldberg91FloatingPoint.pdf) by David Goldberg (1991)."
   ]
  }
 ],
 "metadata": {
  "hide_input": false,
  "jupytext": {
   "formats": "ipynb,qmd"
  },
  "kernelspec": {
   "display_name": "Julia 1.8.5",
   "language": "julia",
   "name": "julia-1.8"
  },
  "language_info": {
   "file_extension": ".jl",
   "mimetype": "application/julia",
   "name": "julia",
   "version": "1.8.5"
  },
  "toc": {
   "colors": {
    "hover_highlight": "#DAA520",
    "running_highlight": "#FF0000",
    "selected_highlight": "#FFD700"
   },
   "moveMenuLeft": true,
   "nav_menu": {
    "height": "250px",
    "width": "252px"
   },
   "navigate_menu": true,
   "number_sections": true,
   "sideBar": true,
   "skip_h1_title": true,
   "threshold": 4,
   "toc_cell": true,
   "toc_position": {
    "height": "433.6666564941406px",
    "left": "0px",
    "right": "831.3333129882812px",
    "top": "111.33333587646484px",
    "width": "250px"
   },
   "toc_section_display": "block",
   "toc_window_display": true,
   "widenNotebook": false
  },
  "toc-autonumbering": true
 },
 "nbformat": 4,
 "nbformat_minor": 4
}
