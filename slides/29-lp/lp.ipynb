{
 "cells": [
  {
   "cell_type": "raw",
   "metadata": {},
   "source": [
    "---\n",
    "title: DCP Examples - Linear Programming (LP)\n",
    "subtitle: Biostat/Biomath M257\n",
    "author: Dr. Hua Zhou @ UCLA\n",
    "date: today\n",
    "format:\n",
    "  html:\n",
    "    theme: cosmo\n",
    "    embed-resources: true\n",
    "    number-sections: true\n",
    "    toc: true\n",
    "    toc-depth: 4\n",
    "    toc-location: left\n",
    "    code-fold: false\n",
    "---"
   ]
  },
  {
   "cell_type": "markdown",
   "metadata": {},
   "source": [
    "System information (for reproducibility):"
   ]
  },
  {
   "cell_type": "code",
   "execution_count": 1,
   "metadata": {
    "tags": []
   },
   "outputs": [
    {
     "name": "stdout",
     "output_type": "stream",
     "text": [
      "Julia Version 1.9.0\n",
      "Commit 8e630552924 (2023-05-07 11:25 UTC)\n",
      "Platform Info:\n",
      "  OS: macOS (arm64-apple-darwin22.4.0)\n",
      "  CPU: 12 × Apple M2 Max\n",
      "  WORD_SIZE: 64\n",
      "  LIBM: libopenlibm\n",
      "  LLVM: libLLVM-14.0.6 (ORCJIT, apple-m1)\n",
      "  Threads: 9 on 8 virtual cores\n",
      "Environment:\n",
      "  LD_LIBRARY_PATH = :/Applications/knitro-13.2.0-MacOS-ARM/lib\n",
      "  JULIA_NUM_THREADS = 8\n",
      "  JULIA_EDITOR = code\n"
     ]
    }
   ],
   "source": [
    "versioninfo()"
   ]
  },
  {
   "cell_type": "markdown",
   "metadata": {},
   "source": [
    "Load packages:"
   ]
  },
  {
   "cell_type": "code",
   "execution_count": 2,
   "metadata": {
    "tags": []
   },
   "outputs": [
    {
     "name": "stderr",
     "output_type": "stream",
     "text": [
      "\u001b[32m\u001b[1m  Activating\u001b[22m\u001b[39m project at `~/Documents/github.com/ucla-biostat-257/2023spring/slides/29-lp`\n"
     ]
    },
    {
     "name": "stdout",
     "output_type": "stream",
     "text": [
      "\u001b[32m\u001b[1mStatus\u001b[22m\u001b[39m `~/Documents/github.com/ucla-biostat-257/2023spring/slides/29-lp/Project.toml`\n",
      "  \u001b[90m[1e616198] \u001b[39mCOSMO v0.8.7\n",
      "  \u001b[90m[13f3f980] \u001b[39mCairoMakie v0.10.5\n",
      "  \u001b[90m[f65535da] \u001b[39mConvex v0.15.3\n",
      "  \u001b[90m[2e9cd046] \u001b[39mGurobi v1.0.1\n",
      "  \u001b[90m[b8f27783] \u001b[39mMathOptInterface v1.17.1\n",
      "  \u001b[90m[1ec41992] \u001b[39mMosekTools v0.15.0\n",
      "  \u001b[90m[c946c3f1] \u001b[39mSCS v1.2.0\n",
      "  \u001b[90m[9a3f8284] \u001b[39mRandom\n"
     ]
    }
   ],
   "source": [
    "using Pkg\n",
    "\n",
    "Pkg.activate(pwd())\n",
    "Pkg.instantiate()\n",
    "Pkg.status()"
   ]
  },
  {
   "cell_type": "code",
   "execution_count": 3,
   "metadata": {
    "tags": []
   },
   "outputs": [
    {
     "name": "stderr",
     "output_type": "stream",
     "text": [
      "\u001b[36m\u001b[1m[ \u001b[22m\u001b[39m\u001b[36m\u001b[1mInfo: \u001b[22m\u001b[39mPrecompiling Convex [f65535da-76fb-5f13-bab9-19810c17039a]\n",
      "\u001b[36m\u001b[1m[ \u001b[22m\u001b[39m\u001b[36m\u001b[1mInfo: \u001b[22m\u001b[39mPrecompiling COSMO [1e616198-aa4e-51ec-90a2-23f7fbd31d8d]\n",
      "\u001b[36m\u001b[1m[ \u001b[22m\u001b[39m\u001b[36m\u001b[1mInfo: \u001b[22m\u001b[39mPrecompiling CairoMakie [13f3f980-e62b-5c42-98c6-ff1f3baf88f0]\n",
      "\u001b[36m\u001b[1m[ \u001b[22m\u001b[39m\u001b[36m\u001b[1mInfo: \u001b[22m\u001b[39mPrecompiling ForwardDiffStaticArraysExt [b74fd6d0-9da7-541f-a07d-1b6af30a262f]\n",
      "\u001b[36m\u001b[1m[ \u001b[22m\u001b[39m\u001b[36m\u001b[1mInfo: \u001b[22m\u001b[39mPrecompiling Gurobi [2e9cd046-0924-5485-92f1-d5272153d98b]\n",
      "\u001b[36m\u001b[1m[ \u001b[22m\u001b[39m\u001b[36m\u001b[1mInfo: \u001b[22m\u001b[39mPrecompiling MosekTools [1ec41992-ff65-5c91-ac43-2df89e9693a4]\n",
      "\u001b[36m\u001b[1m[ \u001b[22m\u001b[39m\u001b[36m\u001b[1mInfo: \u001b[22m\u001b[39mPrecompiling SCS [c946c3f1-0d1f-5ce8-9dea-7daa1f7e2d13]\n"
     ]
    },
    {
     "data": {
      "text/plain": [
       "MathOptInterface"
      ]
     },
     "execution_count": 3,
     "metadata": {},
     "output_type": "execute_result"
    }
   ],
   "source": [
    "using Convex, COSMO, CairoMakie, Gurobi, MathOptInterface, MosekTools, Random, SCS\n",
    "const MOI = MathOptInterface"
   ]
  },
  {
   "cell_type": "markdown",
   "metadata": {},
   "source": [
    "## Linear programming (LP)\n",
    "\n",
    "* A general linear program takes the form\n",
    "\\begin{eqnarray*}\n",
    "\t&\\text{minimize}& \\mathbf{c}^T \\mathbf{x} \\\\\n",
    "\t&\\text{subject to}& \\mathbf{A} \\mathbf{x} = \\mathbf{b} \\\\\n",
    "\t& & \\mathbf{G} \\mathbf{x} \\preceq \\mathbf{h}.\n",
    "\\end{eqnarray*}\n",
    "Linear program is a convex optimization problem, why?\n",
    "\n",
    "<img src=\"./lp.png\" width=\"300\" align=\"center\"/>\n",
    "\n",
    "* The **standard form** of an LP is\n",
    "\\begin{eqnarray*}\n",
    "\t&\\text{minimize}& \\mathbf{c}^T \\mathbf{x} \\\\\n",
    "\t&\\text{subject to}& \\mathbf{A} \\mathbf{x} = \\mathbf{b} \\\\\n",
    "\t& & \\mathbf{x} \\succeq \\mathbf{0}.\n",
    "\\end{eqnarray*}\n",
    "To transform a general linear program into the standard form, we introduce the _slack variables_ $\\mathbf{s} \\succeq \\mathbf{0}$ such that $\\mathbf{G} \\mathbf{x} + \\mathbf{s} = \\mathbf{h}$. Then we write $\\mathbf{x} = \\mathbf{x}^+ - \\mathbf{x}^-$, where $\\mathbf{x}^+ \\succeq \\mathbf{0}$ and $\\mathbf{x}^- \\succeq \\mathbf{0}$. This yields the problem\n",
    "\\begin{eqnarray*}\n",
    "\t&\\text{minimize}& \\mathbf{c}^T (\\mathbf{x}^+ - \\mathbf{x}^-) \\\\\n",
    "\t&\\text{subject to}& \\mathbf{A} (\\mathbf{x}^+ - \\mathbf{x}^-) = \\mathbf{b} \\\\\n",
    "\t& & \\mathbf{G} (\\mathbf{x}^+ - \\mathbf{x}^-) + \\mathbf{s} = \\mathbf{h} \\\\\n",
    "\t& & \\mathbf{x}^+ \\succeq \\mathbf{0}, \\mathbf{x}^- \\succeq \\mathbf{0}, \\mathbf{s} \\succeq \\mathbf{0}\n",
    "\\end{eqnarray*}\n",
    "in $\\mathbf{x}^+$, $\\mathbf{x}^-$, and $\\mathbf{s}$.\n",
    "\n",
    "    Slack variables are often used to transform a complicated inequality constraint to simple non-negativity constraints.\n",
    "\n",
    "* The **inequality form** of an LP is\n",
    "\\begin{eqnarray*}\n",
    "\t&\\text{minimize}& \\mathbf{c}^T \\mathbf{x} \\\\\n",
    "\t&\\text{subject to}& \\mathbf{G} \\mathbf{x} \\preceq \\mathbf{h}.\n",
    "\\end{eqnarray*}\n",
    "\n",
    "* Some softwares, e.g., `solveLP` in R, require an LP be written in either standard or inequality form. However a good software should do this for you!\n",
    "\n",
    "* A _piecewise-linear minimization_ problem\n",
    "\\begin{eqnarray*}\n",
    "\t&\\text{minimize}& \\max_{i=1,\\ldots,m} (\\mathbf{a}_i^T \\mathbf{x} + b_i)\n",
    "\\end{eqnarray*}\n",
    "can be transformed to an LP\n",
    "\\begin{eqnarray*}\n",
    "\t&\\text{minimize}& t \\\\\n",
    "\t&\\text{subject to}& \\mathbf{a}_i^T \\mathbf{x} + b_i \\le t, \\quad i = 1,\\ldots,m,\n",
    "\\end{eqnarray*}\n",
    "in $\\mathbf{x}$ and $t$. Apparently \n",
    "$$\n",
    "\t\\text{minimize} \\max_{i=1,\\ldots,m} |\\mathbf{a}_i^T \\mathbf{x} + b_i|\n",
    "$$\n",
    "and\n",
    "$$\n",
    "\t\\text{minimize} \\max_{i=1,\\ldots,m} (\\mathbf{a}_i^T \\mathbf{x} + b_i)_+\n",
    "$$\n",
    "are also LP.\n",
    "\n",
    "* Any _convex optimization problem_\n",
    "\\begin{eqnarray*}\n",
    "\t&\\text{minimize}& f_0(\\mathbf{x}) \\\\\n",
    "\t&\\text{subject to}& f_i(\\mathbf{x}) \\le 0, \\quad i=1,\\ldots,m \\\\\n",
    "\t&& \\mathbf{a}_i^T \\mathbf{x} = b_i, \\quad i=1,\\ldots,p,\n",
    "\\end{eqnarray*}\n",
    "where $f_0,\\ldots,f_m$ are convex functions, can be transformed to the _epigraph form_\n",
    "\\begin{eqnarray*}\n",
    "\t&\\text{minimize}& t \\\\\n",
    "\t&\\text{subject to}& f_0(\\mathbf{x}) - t \\le 0 \\\\\n",
    "\t& & f_i(\\mathbf{x}) \\le 0, \\quad i=1,\\ldots,m \\\\\n",
    "\t& & \\mathbf{a}_i^T \\mathbf{x} = b_i, \\quad i=1,\\ldots,p\n",
    "\\end{eqnarray*}\n",
    "in variables $\\mathbf{x}$ and $t$. That is why people often say linear program is universal.\n",
    "\n",
    "* The _linear fractional programming_\n",
    "\\begin{eqnarray*}\n",
    "\t&\\text{minimize}& \\frac{\\mathbf{c}^T \\mathbf{x} + d}{\\mathbf{e}^T \\mathbf{x} + f} \\\\\n",
    "\t&\\text{subject to}& \\mathbf{A} \\mathbf{x} = \\mathbf{b} \\\\\n",
    "\t& & \\mathbf{G} \\mathbf{x} \\preceq \\mathbf{h} \\\\\n",
    "\t& & \\mathbf{e}^T \\mathbf{x} + f > 0\n",
    "\\end{eqnarray*}\n",
    "can be transformed to an LP\n",
    "\\begin{eqnarray*}\n",
    "\t&\\text{minimize}& \\mathbf{c}^T \\mathbf{y} + d z \\\\\n",
    "\t&\\text{subject to}& \\mathbf{G} \\mathbf{y} - z \\mathbf{h}  \\preceq \\mathbf{0} \\\\\n",
    "\t& & \\mathbf{A} \\mathbf{y} - z \\mathbf{b} = \\mathbf{0} \\\\\n",
    "\t& & \\mathbf{e}^T \\mathbf{y} + f z = 1 \\\\\n",
    "\t& & z \\ge 0\n",
    "\\end{eqnarray*}\n",
    "in $\\mathbf{y}$ and $z$, via transformation of variables\n",
    "\\begin{eqnarray*}\n",
    "\t\\mathbf{y} = \\frac{\\mathbf{x}}{\\mathbf{e}^T \\mathbf{x} + f}, \\quad z = \\frac{1}{\\mathbf{e}^T \\mathbf{x} + f}.\n",
    "\\end{eqnarray*}\n",
    "See Section 4.3.2 of Boyd and Vandenberghe (2004) for proof."
   ]
  },
  {
   "cell_type": "markdown",
   "metadata": {},
   "source": [
    "## LP example: compressed sensing\n",
    "\n",
    "* **Compressed sensing** [Candes and Tao (2006)](https://doi.org/10.1109/TIT.2006.885507) and [Donoho (2006)](https://doi.org/10.1109/TIT.2006.871582) tries to address a fundamental question: how to compress and transmit a complex signal (e.g., musical clips, mega-pixel images), which can be decoded to recover the original signal?\n",
    "\n",
    "<img src=\"./david-donoho.jpg\" width=\"100\"/>\n",
    "<img src=\"./emmanuel-candes.png\" width=\"100\"/>\n",
    "<img src=\"./terrence-tao.png\" width=\"100\"/>\n",
    "\n",
    "* Suppose a signal $\\mathbf{x} \\in \\mathbb{R}^n$ is sparse with $s$ non-zeros. We under-sample the signal by multiplying a (flat) measurement matrix $\\mathbf{y} = \\mathbf{A} \\mathbf{x}$, where $\\mathbf{A} \\in \\mathbb{R}^{m\\times n}$ has iid normal entries. [Candes, Romberg and Tao (2006)](https://doi.org/10.1002/cpa.20124) show that the solution to\n",
    "\\begin{eqnarray*}\n",
    "\t&\\text{minimize}& \\|\\mathbf{x}\\|_1 \\\\\n",
    "\t&\\text{subject to}& \\mathbf{A} \\mathbf{x} = \\mathbf{y}\n",
    "\\end{eqnarray*}\n",
    "exactly recovers the true signal under certain conditions on $\\mathbf{A}$ when $n \\gg s$ and $m \\approx s \\ln(n/s)$. Why sparsity is a reasonable assumption? _Virtually all real-world images have low information content_.\n",
    "\n",
    "<img src=\"./movie-scene.png\" width=\"400\"/>\n",
    "\n",
    "* The $\\ell_1$ minimization problem apparently is an LP, by writing $\\mathbf{x} = \\mathbf{x}^+ - \\mathbf{x}^-$,\n",
    "\\begin{eqnarray*}\n",
    "\t&\\text{minimize}& \\mathbf{1}^T (\\mathbf{x}^+ + \\mathbf{x}^-)  \\\\\n",
    "\t&\\text{subject to}& \\mathbf{A} (\\mathbf{x}^+ - \\mathbf{x}^-) = \\mathbf{y} \\\\\n",
    "\t& & \\mathbf{x}^+ \\succeq \\mathbf{0}, \\mathbf{x}^- \\succeq \\mathbf{0}.\n",
    "\\end{eqnarray*}\n",
    "\n",
    "* Let's try a numerical example.\n",
    "\n",
    "### Generate a sparse signal and sub-sampling"
   ]
  },
  {
   "cell_type": "code",
   "execution_count": 4,
   "metadata": {
    "tags": []
   },
   "outputs": [
    {
     "data": {
      "image/png": "[encoded data removed]"
     },
     "execution_count": 4,
     "metadata": {},
     "output_type": "execute_result"
    }
   ],
   "source": [
    "# random seed\n",
    "Random.seed!(123)\n",
    "# Size of signal\n",
    "n = 1024\n",
    "# Sparsity (# nonzeros) in the signal\n",
    "s = 20\n",
    "# Number of samples (undersample by a factor of 8) \n",
    "m = 128\n",
    "\n",
    "# Generate and display the signal\n",
    "x0 = zeros(n)\n",
    "x0[rand(1:n, s)] = randn(s)\n",
    "# Generate the random sampling matrix\n",
    "A = randn(m, n) / m\n",
    "# Subsample by multiplexing\n",
    "y = A * x0\n",
    "\n",
    "# plot the true signal\n",
    "f = Figure()\n",
    "Axis(\n",
    "    f[1, 1], \n",
    "    title = \"True Signal x0\",\n",
    "    xlabel = \"x\",\n",
    "    ylabel = \"y\"\n",
    ")\n",
    "lines!(1:n, x0)\n",
    "f"
   ]
  },
  {
   "cell_type": "markdown",
   "metadata": {},
   "source": [
    "### Solve LP by DCP (disciplined convex programming) interface Convex.jl\n",
    "\n",
    "Check [Convex.jl documentation](https://www.juliaopt.org/Convex.jl/stable/operations/) for a list of supported operations."
   ]
  },
  {
   "cell_type": "code",
   "execution_count": 5,
   "metadata": {
    "tags": []
   },
   "outputs": [
    {
     "name": "stdout",
     "output_type": "stream",
     "text": [
      "------------------------------------------------------------------\n",
      "          COSMO v0.8.7 - A Quadratic Objective Conic Solver\n",
      "                         Michael Garstka\n",
      "                University of Oxford, 2017 - 2022\n",
      "------------------------------------------------------------------\n",
      "\n",
      "Problem:  x ∈ R^{2049},\n",
      "          constraints: A ∈ R^{2177x2049} (136193 nnz),\n",
      "          matrix size to factor: 4226x4226,\n",
      "          Floating-point precision: Float64\n",
      "Sets:     Nonnegatives of dim: 2048\n",
      "          ZeroSet of dim: 129\n",
      "Settings: ϵ_abs = 1.0e-05, ϵ_rel = 1.0e-05,\n",
      "          ϵ_prim_inf = 1.0e-04, ϵ_dual_inf = 1.0e-04,\n",
      "          ρ = 0.1, σ = 1e-06, α = 1.6,\n",
      "          max_iter = 5000,\n",
      "          scaling iter = 10 (on),\n",
      "          check termination every 25 iter,\n",
      "          check infeasibility every 40 iter,\n",
      "          KKT system solver: QDLDL\n",
      "Acc:      Anderson Type2{QRDecomp},\n",
      "          Memory size = 15, RestartedMemory,\t\n",
      "          Safeguarded: true, tol: 2.0\n",
      "Setup Time: 419.56ms\n",
      "\n",
      "Iter:\tObjective:\tPrimal Res:\tDual Res:\tRho:\n",
      "1\t-8.1502e+03\t8.6359e+00\t5.9185e-01\t1.0000e-01\n",
      "25\t 5.5863e+00\t5.0161e-01\t5.9243e-02\t1.0000e-01\n",
      "50\t 1.2348e+01\t8.8831e-01\t5.8605e-02\t1.0000e-01\n",
      "75\t 1.0235e+01\t5.1553e-02\t1.9633e-05\t1.0000e-01\n",
      "100\t 1.0725e+01\t3.7799e-02\t1.2149e-04\t1.0000e-01\n",
      "125\t 1.1132e+01\t1.8919e-01\t1.7166e-02\t1.0000e-01\n",
      "150\t 1.1050e+01\t9.3353e-02\t9.5073e-03\t1.0000e-01\n",
      "175\t 1.1693e+01\t2.0385e-02\t1.3864e-01\t1.2681e+00\n",
      "200\t 1.2646e+01\t1.6343e-02\t6.3195e-03\t1.2681e+00\n",
      "225\t 1.2830e+01\t6.2782e-03\t1.1031e-02\t1.2681e+00\n",
      "250\t 1.2916e+01\t2.2998e-03\t1.9798e-03\t1.2681e+00\n",
      "275\t 1.2927e+01\t6.5687e-04\t2.5049e-04\t1.2681e+00\n",
      "300\t 1.2929e+01\t1.8784e-06\t2.0167e-06\t1.2681e+00\n",
      "\n",
      "------------------------------------------------------------------\n",
      ">>> Results\n",
      "Status: \u001b[32mSolved\u001b[39m\n",
      "Iterations: 321 (incl. 21 safeguarding iter)\n",
      "Optimal objective: 12.93\n",
      "Runtime: 1.321s (1321.42ms)\n",
      "\n",
      " 11.896074 seconds (47.72 M allocations: 3.717 GiB, 8.88% gc time, 98.58% compilation time)\n"
     ]
    }
   ],
   "source": [
    "# # Use Mosek solver\n",
    "# solver = Mosek.Optimizer()\n",
    "# MOI.set(solver, MOI.RawOptimizerAttribute(\"LOG\"), 1)\n",
    "\n",
    "# # Use Gurobi solver\n",
    "# solver = Gurobi.Optimizer()\n",
    "# MOI.set(solver, MOI.RawOptimizerAttribute(\"OutputFlag\"), 1)\n",
    "\n",
    "# Use COSMO solver\n",
    "solver = COSMO.Optimizer()\n",
    "# MOI.set(solver, MOI.RawOptimizerAttribute(\"max_iter\"), 5000)\n",
    "\n",
    "# # Use SCS solver\n",
    "# solver = SCS.Optimizer()\n",
    "# MOI.set(solver, MOI.RawOptimizerAttribute(\"verbose\"), 1)\n",
    "\n",
    "# Set up optimizaiton problem\n",
    "x = Variable(n)\n",
    "problem = minimize(norm(x, 1))\n",
    "problem.constraints += A * x == y\n",
    "\n",
    "# Solve the problem\n",
    "@time solve!(problem, solver)"
   ]
  },
  {
   "cell_type": "code",
   "execution_count": 6,
   "metadata": {
    "tags": []
   },
   "outputs": [
    {
     "data": {
      "image/png": "[encoded data removed]"
     },
     "execution_count": 6,
     "metadata": {},
     "output_type": "execute_result"
    }
   ],
   "source": [
    "# Display the solution\n",
    "f = Figure()\n",
    "Axis(\n",
    "    f[1, 1], \n",
    "    title = \"Reconstructed signal overlayed with x0\",\n",
    "    xlabel = \"x\",\n",
    "    ylabel = \"y\"\n",
    ")\n",
    "scatter!(1:n, x0, label = \"truth\")\n",
    "lines!(1:n, vec(x.value), label = \"recovery\")\n",
    "axislegend(position = :lt)\n",
    "f"
   ]
  },
  {
   "cell_type": "markdown",
   "metadata": {},
   "source": [
    "## LP example: quantile regression\n",
    "\n",
    "<img src=\"./growth-2-20-boys.png\" width=\"300\"/>\n",
    "<img src=\"./quantregbin3.png\" width=\"300\"/>\n",
    "\n",
    "* In linear regression, we model the mean of response variable as a function of covariates. In many situations, the error variance is not constant, the distribution of $y$ may be asymmetric, or we simply care about the quantile(s) of response variable. Quantile regression offers a better modeling tool in these applications.\n",
    "\n",
    "\n",
    "* In $\\tau$-quantile regression, we minimize the loss function\n",
    "\\begin{eqnarray*}\n",
    "\tf(\\beta) = \\sum_{i=1}^n \\rho_\\tau (y_i - \\mathbf{x}_i^T \\beta),\n",
    "\\end{eqnarray*}\n",
    "where $\\rho_\\tau(z) = z (\\tau - 1_{\\{z < 0\\}})$. Writing $\\mathbf{y}  - \\mathbf{X} \\beta = \\mathbf{r}^+ - \\mathbf{r}^-$, this is equivalent to the LP\n",
    "\\begin{eqnarray*}\n",
    "\t&\\text{minimize}& \\tau \\mathbf{1}^T \\mathbf{r}^+ + (1-\\tau) \\mathbf{1}^T \\mathbf{r}^- \\\\\n",
    "\t&\\text{subject to}& \\mathbf{r}^+ - \\mathbf{r}^- = \\mathbf{y} - \\mathbf{X} \\beta \\\\\n",
    "\t& & \\mathbf{r}^+ \\succeq \\mathbf{0}, \\mathbf{r}^- \\succeq \\mathbf{0}\n",
    "\\end{eqnarray*}\n",
    "in $\\mathbf{r}^+$, $\\mathbf{r}^-$, and $\\beta$."
   ]
  },
  {
   "cell_type": "markdown",
   "metadata": {},
   "source": [
    "## LP Example: $\\ell_1$ regression\n",
    "\n",
    "* A popular method in robust statistics is the median absolute deviation (MAD) regression that minimizes the $\\ell_1$ norm of the residual vector $\\|\\mathbf{y} - \\mathbf{X} \\beta\\|_1$. This apparently is equivalent to the LP\n",
    "\\begin{eqnarray*}\n",
    "\t&\\text{minimize}& \\mathbf{1}^T (\\mathbf{r}^+ + \\mathbf{r}^-) \\\\\n",
    "\t&\\text{subject to}& \\mathbf{r}^+ - \\mathbf{r}^- = \\mathbf{y} - \\mathbf{X} \\beta \\\\\n",
    "\t& & \\mathbf{r}^+ \\succeq \\mathbf{0}, \\mathbf{r}^- \\succeq \\mathbf{0}\n",
    "\\end{eqnarray*}\n",
    "in $\\mathbf{r}^+$, $\\mathbf{r}^-$, and $\\beta$. \n",
    "\n",
    "    $\\ell_1$ regression = MAD = 1/2-quantile regression."
   ]
  },
  {
   "cell_type": "markdown",
   "metadata": {},
   "source": [
    "## LP Example: $\\ell_\\infty$ regression (Chebychev approximation)\n",
    "\n",
    "* Minimizing the worst possible residual $\\|\\mathbf{y} - \\mathbf{X} \\beta\\|_\\infty$ is equivalent to the LP\n",
    "\\begin{eqnarray*}\n",
    "\t&\\text{minimize}& t \\\\\n",
    "\t&\\text{subject to}& -t \\le y_i - \\mathbf{x}_i^T \\beta \\le t, \\quad i = 1,\\dots,n\n",
    "\\end{eqnarray*}\n",
    "in variables $\\beta$ and $t$."
   ]
  },
  {
   "cell_type": "markdown",
   "metadata": {},
   "source": [
    "## LP Example: Dantzig selector\n",
    "\n",
    "* [Candes and Tao (2007)](https://www.doi.org/10.1214/009053606000001523) propose a variable selection method called the Dantzig selector that solves\n",
    "\\begin{eqnarray*}\n",
    "\t&\\text{minimize}& \\|\\mathbf{X}^T (\\mathbf{y} - \\mathbf{X} \\beta)\\|_\\infty \\\\\n",
    "\t&\\text{subject to}& \\sum_{j=2}^p |\\beta_j| \\le t,\n",
    "\\end{eqnarray*}\n",
    "which can be transformed to an LP. Indeed they name the method after George Dantzig, who invented the simplex method for efficiently solving LP in 50s.\n",
    "\n",
    "<img src=\"./george-bernard-dantzig.jpg\" width=\"300\"/>"
   ]
  },
  {
   "cell_type": "markdown",
   "metadata": {},
   "source": [
    "## LP Example: 1-norm SVM\n",
    "\n",
    "* In two-class classification problems, we are given training data $(\\mathbf{x}_i, y_i)$, $i=1,\\ldots,n$, where $\\mathbf{x}_i \\in \\mathbb{R}^p$ are feature vectors and $y_i \\in \\{-1, 1\\}$ are class labels. [Zhu, Rosset, Tibshirani, and Hastie (2004)](https://www.google.com/url?sa=t&rct=j&q=&esrc=s&source=web&cd=1&cad=rja&uact=8&ved=2ahUKEwi-_6C2sMLiAhUNGDQIHU1RD3MQFjAAegQIBRAC&url=https%3A%2F%2Fpapers.nips.cc%2Fpaper%2F2450-1-norm-support-vector-machines.pdf&usg=AOvVaw1cTOsmPjpxKJHCs93iLUkn) propose the 1-norm support vector machine (svm) that achieves the dual purpose of classification and feature selection. Denote the solution of the optimization problem\n",
    "\\begin{eqnarray*}\n",
    "\t&\\text{minimize}& \\sum_{i=1}^n \\left[ 1 - y_i \\left( \\beta_0 + \\sum_{j=1}^p x_{ij} \\beta_j \\right) \\right]_+ \\\\\n",
    "\t&\\text{subject to}& \\|\\beta\\|_1 = \\sum_{j=1}^p |\\beta_j| \\le t\n",
    "\\end{eqnarray*}\n",
    "by $\\hat \\beta_0(t)$ and $\\hat \\beta(t)$. 1-norm svm classifies a future feature vector $\\mathbf{x}$ by the sign of fitted model\n",
    "\\begin{eqnarray*}\n",
    "\t\\hat f(\\mathbf{x}) = \\hat \\beta_0 + \\mathbf{x}^T \\hat \\beta.\n",
    "\\end{eqnarray*}"
   ]
  },
  {
   "cell_type": "markdown",
   "metadata": {},
   "source": [
    "Many more applications of LP: Airport scheduling (Copenhagen airport uses Gurobi), airline flight scheduling, NFL scheduling, match.com, $\\LaTeX$, ...\n",
    "\n",
    "Apparently any loss/penalty or loss/constraint combinations of form \n",
    "$$\n",
    "\\{\\ell_1, \\ell_\\infty, \\text{quantile}\\} \\times \\{\\ell_1, \\ell_\\infty, \\text{quantile}\\},\n",
    "$$\n",
    "possibly with affine (equality and/or inequality) constraints, can be formulated as an LP."
   ]
  }
 ],
 "metadata": {
  "@webio": {
   "lastCommId": null,
   "lastKernelId": null
  },
  "jupytext": {
   "formats": "ipynb,qmd"
  },
  "kernelspec": {
   "display_name": "Julia 1.9.0",
   "language": "julia",
   "name": "julia-1.9"
  },
  "language_info": {
   "file_extension": ".jl",
   "mimetype": "application/julia",
   "name": "julia",
   "version": "1.7.1"
  },
  "toc": {
   "colors": {
    "hover_highlight": "#DAA520",
    "running_highlight": "#FF0000",
    "selected_highlight": "#FFD700"
   },
   "moveMenuLeft": true,
   "nav_menu": {
    "height": "30.66666603088379px",
    "width": "252px"
   },
   "navigate_menu": true,
   "number_sections": true,
   "sideBar": true,
   "skip_h1_title": true,
   "threshold": 4,
   "toc_cell": true,
   "toc_position": {
    "height": "530px",
    "left": "0px",
    "right": "837px",
    "top": "109.4000015258789px",
    "width": "123px"
   },
   "toc_section_display": "block",
   "toc_window_display": true,
   "widenNotebook": false
  }
 },
 "nbformat": 4,
 "nbformat_minor": 4
}
