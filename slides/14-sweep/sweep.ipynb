{
 "cells": [
  {
   "cell_type": "raw",
   "metadata": {
    "toc": "true"
   },
   "source": [
    "---\n",
    "title: Sweep Operator\n",
    "subtitle: Biostat/Biomath M257\n",
    "author: Dr. Hua Zhou @ UCLA\n",
    "date: today\n",
    "format:\n",
    "  html:\n",
    "    theme: cosmo\n",
    "    embed-resources: true\n",
    "    number-sections: true\n",
    "    toc: true\n",
    "    toc-depth: 4\n",
    "    toc-location: left\n",
    "    code-fold: false\n",
    "---"
   ]
  },
  {
   "cell_type": "markdown",
   "metadata": {},
   "source": [
    "System information (for reproducibility):"
   ]
  },
  {
   "cell_type": "code",
   "execution_count": 1,
   "metadata": {
    "tags": []
   },
   "outputs": [
    {
     "name": "stdout",
     "output_type": "stream",
     "text": [
      "Julia Version 1.8.5\n",
      "Commit 17cfb8e65ea (2023-01-08 06:45 UTC)\n",
      "Platform Info:\n",
      "  OS: macOS (arm64-apple-darwin21.5.0)\n",
      "  CPU: 12 × Apple M2 Max\n",
      "  WORD_SIZE: 64\n",
      "  LIBM: libopenlibm\n",
      "  LLVM: libLLVM-13.0.1 (ORCJIT, apple-m1)\n",
      "  Threads: 8 on 8 virtual cores\n",
      "Environment:\n",
      "  JULIA_NUM_THREADS = 8\n",
      "  JULIA_EDITOR = code\n"
     ]
    }
   ],
   "source": [
    "versioninfo()"
   ]
  },
  {
   "cell_type": "markdown",
   "metadata": {},
   "source": [
    "Load packages:"
   ]
  },
  {
   "cell_type": "code",
   "execution_count": 2,
   "metadata": {
    "tags": []
   },
   "outputs": [
    {
     "name": "stderr",
     "output_type": "stream",
     "text": [
      "\u001b[32m\u001b[1m  Activating\u001b[22m\u001b[39m project at `~/Documents/github.com/ucla-biostat-257/2023spring/slides/14-sweep`\n"
     ]
    },
    {
     "name": "stdout",
     "output_type": "stream",
     "text": [
      "\u001b[32m\u001b[1mStatus\u001b[22m\u001b[39m `~/Documents/github.com/ucla-biostat-257/2023spring/slides/14-sweep/Project.toml`\n",
      " \u001b[90m [7522ee7d] \u001b[39mSweepOperator v0.3.3\n",
      " \u001b[90m [37e2e46d] \u001b[39mLinearAlgebra\n",
      " \u001b[90m [9a3f8284] \u001b[39mRandom\n"
     ]
    }
   ],
   "source": [
    "using Pkg\n",
    "\n",
    "Pkg.activate(pwd())\n",
    "Pkg.instantiate()\n",
    "Pkg.status()"
   ]
  },
  {
   "cell_type": "markdown",
   "metadata": {},
   "source": [
    "## Definition\n",
    "\n",
    "* We learnt Cholesky decomposition and QR decomposition approaches for solving linear regression.\n",
    "\n",
    "* The popular statistical software SAS uses sweep operator for linear regression and matrix inversion.\n",
    "\n",
    "* Assume $\\mathbf{A}$ is symmetric and positive semidefinite.\n",
    "\n",
    "* **Sweep** on the $k$-th diagonal entry $a_{kk} \\ne 0$ yields $\\widehat A$ with entries\n",
    "$$\n",
    "\\begin{eqnarray*}\n",
    "\t\\widehat a_{kk} &=& - \\frac{1}{a_{kk}} \\\\\n",
    "\t\\widehat a_{ik} &=& \\frac{a_{ik}}{a_{kk}} \\\\\n",
    "\t\\widehat a_{kj} &=& \\frac{a_{kj}}{a_{kk}} \\\\\n",
    "\t\\widehat a_{ij} &=& a_{ij} - \\frac{a_{ik} a_{kj}}{a_{kk}}, \\quad i \\ne k, j \\ne k.\n",
    "\\end{eqnarray*}\n",
    "$$\n",
    "$n^2$ flops (taking into account of symmetry).\n",
    "\n",
    "* **Inverse sweep** sends $\\mathbf{A}$ to $\\check A$ with entries\n",
    "$$\n",
    "\\begin{eqnarray*}\n",
    "\t\\check a_{kk} &=& - \\frac{1}{a_{kk}} \\\\\n",
    "\t\\check a_{ik} &=& - \\frac{a_{ik}}{a_{kk}} \\\\\n",
    "\t\\check a_{kj} &=& - \\frac{a_{kj}}{a_{kk}} \\\\\n",
    "\t\\check a_{ij} &=& a_{ij} - \\frac{a_{ik}a_{kj}}{a_{kk}}, \\quad i \\ne k, j \\ne k.\n",
    "\\end{eqnarray*}\n",
    "$$\n",
    "$n^2$ flops (taking into account of symmetry).\n",
    "\n",
    "* $\\check{\\hat{\\mathbf{A}}} = \\mathbf{A}$.\n",
    "\n",
    "* Successively sweeping all diagonal entries of $\\mathbf{A}$ yields $- \\mathbf{A}^{-1}$.\n",
    "\n",
    "* Exercise: invert a $2 \\times 2$ matrix, say \n",
    "$$\n",
    "\\mathbf{A} = \\begin{pmatrix} 4 & 3 \\\\ 3  & 2 \\end{pmatrix},\n",
    "$$\n",
    "on paper using sweep operator.\n",
    "\n",
    "* **Block form of sweep**: Let the symmetric matrix $\\mathbf{A}$ be partitioned as \n",
    "$$\n",
    "    \\mathbf{A} = \\begin{pmatrix} \\mathbf{A}_{11} & \\mathbf{A}_{12} \\\\ \\mathbf{A}_{21} & \\mathbf{A}_{22} \\end{pmatrix}.\n",
    "$$\n",
    "If possible, sweep on the diagonal entries of $\\mathbf{A}_{11}$ yields  \n",
    "$$\n",
    "\t\\begin{pmatrix} \n",
    "    \\, - \\mathbf{A}_{11}^{-1} & \\mathbf{A}_{11}^{-1} \\mathbf{A}_{12} \\\\\n",
    "\t\\mathbf{A}_{21} \\mathbf{A}_{11}^{-1} & \\mathbf{A}_{22} - \\mathbf{A}_{21} \\mathbf{A}_{11}^{-1} \\mathbf{A}_{12}\n",
    "\t\\end{pmatrix}.\n",
    "$$  \n",
    "Order dose **not** matter. The block $\\mathbf{A}_{22} - \\mathbf{A}_{21} \\mathbf{A}_{11}^{-1} \\mathbf{A}_{12}$ is recognized as the **Schur complement** of $\\mathbf{A}_{11}$.\n",
    "\n",
    "* Pd and determinant: $\\mathbf{A}$ is pd if and only if each diagonal entry can be swept in succession and is positive until it is swept. When a diagonal entry of a pd matrix $\\mathbf{A}$ is swept, it becomes negative and remains negative thereafter. Taking the product of diagonal entries just before each is swept yields the determinant of $\\mathbf{A}$. "
   ]
  },
  {
   "cell_type": "markdown",
   "metadata": {},
   "source": [
    "## Applications"
   ]
  },
  {
   "cell_type": "markdown",
   "metadata": {},
   "source": [
    "### Linear regression (as done in SAS)\n",
    "\n",
    "Sweep on the diagonal entries 1 to $p$ of the (augmented) Gram matrix \n",
    "$$\n",
    "\\begin{pmatrix} \\mathbf{X}, \\mathbf{y} \\end{pmatrix}^T \\begin{pmatrix} \\mathbf{X}, \\mathbf{y} \\end{pmatrix} = \\begin{pmatrix} \n",
    "    \\mathbf{X}^T \\mathbf{X} & \\mathbf{X}^T \\mathbf{y} \\\\ \n",
    "    \\mathbf{y}^T \\mathbf{X} & \\mathbf{y}^T \\mathbf{y} \n",
    "\\end{pmatrix}\n",
    "$$  \n",
    "yields  \n",
    "$$\n",
    "\\begin{eqnarray*}\n",
    "\\begin{pmatrix}\n",
    "\\, - (\\mathbf{X}^T \\mathbf{X})^{-1} & (\\mathbf{X}^T \\mathbf{X})^{-1} \\mathbf{X}^T \\mathbf{y} \\\\\n",
    "\\mathbf{y}^T \\mathbf{X} (\\mathbf{X}^T \\mathbf{X})^{-1} & \\mathbf{y}^T \\mathbf{y} - \\mathbf{y}^T \\mathbf{X} (\\mathbf{X}^T \\mathbf{X})^{-1} \\mathbf{X}^T \\mathbf{y}\n",
    "\\end{pmatrix} = \n",
    "\\begin{pmatrix}\n",
    "\\, - \\sigma^{-2} \\text{Var}(\\widehat{\\beta}) & \\widehat{\\beta} \\\\\n",
    "\\widehat{\\beta}^T & \\|\\mathbf{y} - \\widehat{\\mathbf{y}}\\|_2^2\n",
    "\\end{pmatrix}.\n",
    "\\end{eqnarray*}\n",
    "$$  \n",
    "In total $np^2 + p^3$ flops."
   ]
  },
  {
   "cell_type": "markdown",
   "metadata": {},
   "source": [
    "### Invert a matrix _in place_\n",
    "\n",
    "$n^3$ flops. Recall that inversion by Cholesky costs $(1/3)n^3 + (4/3) n^3 = (5/3) n^3$ flops: `potrf` and `potri`."
   ]
  },
  {
   "cell_type": "markdown",
   "metadata": {},
   "source": [
    "### Conditional multivariate normal density calculation"
   ]
  },
  {
   "cell_type": "markdown",
   "metadata": {},
   "source": [
    "### Stepwise regression"
   ]
  },
  {
   "cell_type": "markdown",
   "metadata": {},
   "source": [
    "### MANOVA"
   ]
  },
  {
   "cell_type": "markdown",
   "metadata": {},
   "source": [
    "## Implementation\n",
    "\n",
    "* [SweepOperator.jl](https://github.com/joshday/SweepOperator.jl) package (by Josh Day) implements the sweep operator."
   ]
  },
  {
   "cell_type": "code",
   "execution_count": 3,
   "metadata": {
    "tags": []
   },
   "outputs": [
    {
     "data": {
      "text/plain": [
       "3×3 Matrix{Float64}:\n",
       "  9.0  2.0  -2.0\n",
       "  2.0  1.0   0.0\n",
       " -2.0  0.0   4.0"
      ]
     },
     "execution_count": 3,
     "metadata": {},
     "output_type": "execute_result"
    }
   ],
   "source": [
    "using SweepOperator\n",
    "\n",
    "A = [9. 2 -2; 2 1 0; -2 0 4]"
   ]
  },
  {
   "cell_type": "code",
   "execution_count": 4,
   "metadata": {
    "tags": []
   },
   "outputs": [
    {
     "data": {
      "text/plain": [
       "3×3 Matrix{Float64}:\n",
       " -0.111111  0.222222  -0.222222\n",
       "  2.0       0.555556   0.444444\n",
       " -2.0       0.0        3.55556"
      ]
     },
     "execution_count": 4,
     "metadata": {},
     "output_type": "execute_result"
    }
   ],
   "source": [
    "B = copy(A)\n",
    "sweep!(B, 1) # sweep (1, 1) entry"
   ]
  },
  {
   "cell_type": "code",
   "execution_count": 5,
   "metadata": {
    "tags": []
   },
   "outputs": [
    {
     "data": {
      "text/plain": [
       "3×3 Matrix{Float64}:\n",
       " -0.2   0.4  -0.4\n",
       "  2.0  -1.8   0.8\n",
       " -2.0   0.0   3.2"
      ]
     },
     "execution_count": 5,
     "metadata": {},
     "output_type": "execute_result"
    }
   ],
   "source": [
    "sweep!(B, 2) # sweep (2, 2) entry"
   ]
  },
  {
   "cell_type": "code",
   "execution_count": 6,
   "metadata": {
    "tags": []
   },
   "outputs": [
    {
     "data": {
      "text/plain": [
       "3×3 Matrix{Float64}:\n",
       " -0.25   0.5  -0.125\n",
       "  2.0   -2.0   0.25\n",
       " -2.0    0.0  -0.3125"
      ]
     },
     "execution_count": 6,
     "metadata": {},
     "output_type": "execute_result"
    }
   ],
   "source": [
    "sweep!(B, 3) # sweep (3, 3) entry, we are left with -inv(B)"
   ]
  },
  {
   "cell_type": "code",
   "execution_count": 7,
   "metadata": {
    "tags": []
   },
   "outputs": [
    {
     "data": {
      "text/plain": [
       "3×3 Matrix{Float64}:\n",
       "  0.25   -0.5    0.125\n",
       " -0.5     2.0   -0.25\n",
       "  0.125  -0.25   0.3125"
      ]
     },
     "execution_count": 7,
     "metadata": {},
     "output_type": "execute_result"
    }
   ],
   "source": [
    "# check correctness\n",
    "inv(A)"
   ]
  },
  {
   "cell_type": "code",
   "execution_count": 8,
   "metadata": {
    "tags": []
   },
   "outputs": [
    {
     "data": {
      "text/plain": [
       "true"
      ]
     },
     "execution_count": 8,
     "metadata": {},
     "output_type": "execute_result"
    }
   ],
   "source": [
    "using LinearAlgebra\n",
    "\n",
    "# sweep! function only changes the upper triangular part\n",
    "UpperTriangular(inv(A)) ≈ UpperTriangular(- B)"
   ]
  },
  {
   "cell_type": "code",
   "execution_count": 9,
   "metadata": {
    "tags": []
   },
   "outputs": [
    {
     "data": {
      "text/plain": [
       "3×3 Matrix{Float64}:\n",
       "  9.0  2.0  -2.0\n",
       "  2.0  1.0  -1.11022e-16\n",
       " -2.0  0.0   4.0"
      ]
     },
     "execution_count": 9,
     "metadata": {},
     "output_type": "execute_result"
    }
   ],
   "source": [
    "# inverse sweep to bring negative inverse back to original matrix\n",
    "sweep!(B, 1:3, true)"
   ]
  },
  {
   "cell_type": "markdown",
   "metadata": {},
   "source": [
    "## Further reading\n",
    "\n",
    "* Section 7.4-7.6 of [Numerical Analysis for Statisticians](http://ucla.worldcat.org/title/numerical-analysis-for-statisticians/oclc/793808354&referer=brief_results) by Kenneth Lange (2010). Probably the best place to read about sweep operator.\n",
    "\n",
    "* The paper [A tutorial on the SWEEP operator](http://www.jstor.org/stable/2683825) by James H. Goodnight (1979). Note this version (anti-symmetry matrix) is slightly different from ours. "
   ]
  }
 ],
 "metadata": {
  "@webio": {
   "lastCommId": null,
   "lastKernelId": null
  },
  "hide_input": false,
  "jupytext": {
   "formats": "ipynb,qmd"
  },
  "kernelspec": {
   "display_name": "Julia (8 threads) 1.8.5",
   "language": "julia",
   "name": "julia-_8-threads_-1.8"
  },
  "language_info": {
   "file_extension": ".jl",
   "mimetype": "application/julia",
   "name": "julia",
   "version": "1.8.5"
  },
  "toc": {
   "colors": {
    "hover_highlight": "#DAA520",
    "running_highlight": "#FF0000",
    "selected_highlight": "#FFD700"
   },
   "moveMenuLeft": true,
   "nav_menu": {
    "height": "68px",
    "width": "252px"
   },
   "navigate_menu": true,
   "number_sections": true,
   "sideBar": true,
   "skip_h1_title": true,
   "threshold": 4,
   "toc_cell": true,
   "toc_section_display": "block",
   "toc_window_display": true,
   "widenNotebook": false
  }
 },
 "nbformat": 4,
 "nbformat_minor": 4
}
